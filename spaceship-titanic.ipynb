{
 "cells": [
  {
   "attachments": {},
   "cell_type": "markdown",
   "metadata": {},
   "source": [
    "### Spaceship Titanic with fastai"
   ]
  },
  {
   "attachments": {},
   "cell_type": "markdown",
   "metadata": {},
   "source": [
    "Competition [Link](https://www.kaggle.com/competitions/spaceship-titanic/overview)"
   ]
  },
  {
   "cell_type": "code",
   "execution_count": 1,
   "metadata": {},
   "outputs": [],
   "source": [
    "#|default_exp app"
   ]
  },
  {
   "cell_type": "code",
   "execution_count": 2,
   "metadata": {},
   "outputs": [],
   "source": [
    "#The Following cell of code is used everytime FASTAI library is used.\n",
    "#They tell the notebook to reload any changes made to any libraries used.\n",
    "#They also ensure that any graphs are plotted are shown in this notebook\n",
    "%reload_ext autoreload\n",
    "%autoreload 2\n",
    "%matplotlib inline"
   ]
  },
  {
   "attachments": {},
   "cell_type": "markdown",
   "metadata": {},
   "source": [
    "### Imports"
   ]
  },
  {
   "cell_type": "code",
   "execution_count": 3,
   "metadata": {},
   "outputs": [],
   "source": [
    "from fastai.tabular.all import *\n",
    "from fastbook import *\n",
    "from pandas.api.types import is_string_dtype, is_numeric_dtype, is_categorical_dtype\n",
    "from sklearn.model_selection import train_test_split\n",
    "from sklearn.ensemble import RandomForestClassifier\n",
    "from sklearn.tree import DecisionTreeClassifier\n",
    "from sklearn.linear_model import LogisticRegression\n",
    "from sklearn.metrics import accuracy_score\n",
    "from sklearn.preprocessing import LabelEncoder\n",
    "import seaborn as sns\n",
    "from dtreeviz.trees import *\n",
    "from IPython.display import Image, display_svg, SVG\n",
    "import dtreeviz"
   ]
  },
  {
   "attachments": {},
   "cell_type": "markdown",
   "metadata": {},
   "source": [
    "### Import Datasets and Create Dataframe"
   ]
  },
  {
   "cell_type": "code",
   "execution_count": 4,
   "metadata": {},
   "outputs": [],
   "source": [
    "#| export\n",
    "iskaggle = os.environ.get('KAGGLE_KERNEL_RUN_TYPE', '')\n",
    "creds = ''"
   ]
  },
  {
   "cell_type": "code",
   "execution_count": 5,
   "metadata": {},
   "outputs": [],
   "source": [
    "#| export\n",
    "cred_path = Path('~/.kaggle/kaggle.json').expanduser()\n",
    "if not cred_path.exists():\n",
    "    cred_path.parent.mkdir(exist_ok=True)\n",
    "    cred_path.write_text(creds)\n",
    "    cred_path.chmod(0o600)"
   ]
  },
  {
   "cell_type": "code",
   "execution_count": 6,
   "metadata": {},
   "outputs": [],
   "source": [
    "#| export\n",
    "path = Path('spaceship-titanic')"
   ]
  },
  {
   "cell_type": "code",
   "execution_count": 7,
   "metadata": {},
   "outputs": [],
   "source": [
    "#| export\n",
    "if not iskaggle and not path.exists():\n",
    "    import zipfile, kaggle\n",
    "    kaggle.api.competition_download_cli(str(path))    \n",
    "    zipfile.ZipFile(f'{path}.zip').extractall(path)"
   ]
  },
  {
   "cell_type": "code",
   "execution_count": 8,
   "metadata": {},
   "outputs": [],
   "source": [
    "#| export\n",
    "if iskaggle:\n",
    "    path = Path('../input/spaceship-titanic')\n",
    "    ! pip install -q dataset"
   ]
  },
  {
   "attachments": {},
   "cell_type": "markdown",
   "metadata": {},
   "source": [
    "Import CSV's as Pandas Dataframes"
   ]
  },
  {
   "cell_type": "code",
   "execution_count": 9,
   "metadata": {},
   "outputs": [],
   "source": [
    "#| export\n",
    "df = pd.read_csv(path/'train.csv', low_memory=False)\n",
    "test_df = pd.read_csv(path/'test.csv', low_memory=False)\n",
    "sample_df = pd.read_csv(path/'sample_submission.csv', low_memory=False)"
   ]
  },
  {
   "cell_type": "code",
   "execution_count": 10,
   "metadata": {},
   "outputs": [
    {
     "data": {
      "text/html": [
       "<div>\n",
       "<style scoped>\n",
       "    .dataframe tbody tr th:only-of-type {\n",
       "        vertical-align: middle;\n",
       "    }\n",
       "\n",
       "    .dataframe tbody tr th {\n",
       "        vertical-align: top;\n",
       "    }\n",
       "\n",
       "    .dataframe thead th {\n",
       "        text-align: right;\n",
       "    }\n",
       "</style>\n",
       "<table border=\"1\" class=\"dataframe\">\n",
       "  <thead>\n",
       "    <tr style=\"text-align: right;\">\n",
       "      <th></th>\n",
       "      <th>PassengerId</th>\n",
       "      <th>HomePlanet</th>\n",
       "      <th>CryoSleep</th>\n",
       "      <th>Cabin</th>\n",
       "      <th>Destination</th>\n",
       "      <th>Age</th>\n",
       "      <th>VIP</th>\n",
       "      <th>RoomService</th>\n",
       "      <th>FoodCourt</th>\n",
       "      <th>ShoppingMall</th>\n",
       "      <th>Spa</th>\n",
       "      <th>VRDeck</th>\n",
       "      <th>Name</th>\n",
       "      <th>Transported</th>\n",
       "    </tr>\n",
       "  </thead>\n",
       "  <tbody>\n",
       "    <tr>\n",
       "      <th>0</th>\n",
       "      <td>0001_01</td>\n",
       "      <td>Europa</td>\n",
       "      <td>False</td>\n",
       "      <td>B/0/P</td>\n",
       "      <td>TRAPPIST-1e</td>\n",
       "      <td>39.0</td>\n",
       "      <td>False</td>\n",
       "      <td>0.0</td>\n",
       "      <td>0.0</td>\n",
       "      <td>0.0</td>\n",
       "      <td>0.0</td>\n",
       "      <td>0.0</td>\n",
       "      <td>Maham Ofracculy</td>\n",
       "      <td>False</td>\n",
       "    </tr>\n",
       "    <tr>\n",
       "      <th>1</th>\n",
       "      <td>0002_01</td>\n",
       "      <td>Earth</td>\n",
       "      <td>False</td>\n",
       "      <td>F/0/S</td>\n",
       "      <td>TRAPPIST-1e</td>\n",
       "      <td>24.0</td>\n",
       "      <td>False</td>\n",
       "      <td>109.0</td>\n",
       "      <td>9.0</td>\n",
       "      <td>25.0</td>\n",
       "      <td>549.0</td>\n",
       "      <td>44.0</td>\n",
       "      <td>Juanna Vines</td>\n",
       "      <td>True</td>\n",
       "    </tr>\n",
       "    <tr>\n",
       "      <th>2</th>\n",
       "      <td>0003_01</td>\n",
       "      <td>Europa</td>\n",
       "      <td>False</td>\n",
       "      <td>A/0/S</td>\n",
       "      <td>TRAPPIST-1e</td>\n",
       "      <td>58.0</td>\n",
       "      <td>True</td>\n",
       "      <td>43.0</td>\n",
       "      <td>3576.0</td>\n",
       "      <td>0.0</td>\n",
       "      <td>6715.0</td>\n",
       "      <td>49.0</td>\n",
       "      <td>Altark Susent</td>\n",
       "      <td>False</td>\n",
       "    </tr>\n",
       "    <tr>\n",
       "      <th>3</th>\n",
       "      <td>0003_02</td>\n",
       "      <td>Europa</td>\n",
       "      <td>False</td>\n",
       "      <td>A/0/S</td>\n",
       "      <td>TRAPPIST-1e</td>\n",
       "      <td>33.0</td>\n",
       "      <td>False</td>\n",
       "      <td>0.0</td>\n",
       "      <td>1283.0</td>\n",
       "      <td>371.0</td>\n",
       "      <td>3329.0</td>\n",
       "      <td>193.0</td>\n",
       "      <td>Solam Susent</td>\n",
       "      <td>False</td>\n",
       "    </tr>\n",
       "    <tr>\n",
       "      <th>4</th>\n",
       "      <td>0004_01</td>\n",
       "      <td>Earth</td>\n",
       "      <td>False</td>\n",
       "      <td>F/1/S</td>\n",
       "      <td>TRAPPIST-1e</td>\n",
       "      <td>16.0</td>\n",
       "      <td>False</td>\n",
       "      <td>303.0</td>\n",
       "      <td>70.0</td>\n",
       "      <td>151.0</td>\n",
       "      <td>565.0</td>\n",
       "      <td>2.0</td>\n",
       "      <td>Willy Santantines</td>\n",
       "      <td>True</td>\n",
       "    </tr>\n",
       "  </tbody>\n",
       "</table>\n",
       "</div>"
      ],
      "text/plain": [
       "  PassengerId HomePlanet CryoSleep  Cabin  Destination   Age    VIP  \\\n",
       "0     0001_01     Europa     False  B/0/P  TRAPPIST-1e  39.0  False   \n",
       "1     0002_01      Earth     False  F/0/S  TRAPPIST-1e  24.0  False   \n",
       "2     0003_01     Europa     False  A/0/S  TRAPPIST-1e  58.0   True   \n",
       "3     0003_02     Europa     False  A/0/S  TRAPPIST-1e  33.0  False   \n",
       "4     0004_01      Earth     False  F/1/S  TRAPPIST-1e  16.0  False   \n",
       "\n",
       "   RoomService  FoodCourt  ShoppingMall     Spa  VRDeck               Name  \\\n",
       "0          0.0        0.0           0.0     0.0     0.0    Maham Ofracculy   \n",
       "1        109.0        9.0          25.0   549.0    44.0       Juanna Vines   \n",
       "2         43.0     3576.0           0.0  6715.0    49.0      Altark Susent   \n",
       "3          0.0     1283.0         371.0  3329.0   193.0       Solam Susent   \n",
       "4        303.0       70.0         151.0   565.0     2.0  Willy Santantines   \n",
       "\n",
       "   Transported  \n",
       "0        False  \n",
       "1         True  \n",
       "2        False  \n",
       "3        False  \n",
       "4         True  "
      ]
     },
     "execution_count": 10,
     "metadata": {},
     "output_type": "execute_result"
    }
   ],
   "source": [
    "df.head()"
   ]
  },
  {
   "cell_type": "code",
   "execution_count": 11,
   "metadata": {},
   "outputs": [
    {
     "data": {
      "text/plain": [
       "True     4378\n",
       "False    4315\n",
       "Name: Transported, dtype: int64"
      ]
     },
     "execution_count": 11,
     "metadata": {},
     "output_type": "execute_result"
    }
   ],
   "source": [
    "df['Transported'].value_counts()"
   ]
  },
  {
   "attachments": {},
   "cell_type": "markdown",
   "metadata": {},
   "source": [
    "Add a function to convert boolean values to 0 and 1 using `LabelEncoder` "
   ]
  },
  {
   "cell_type": "code",
   "execution_count": 12,
   "metadata": {},
   "outputs": [],
   "source": [
    "def bool_switch(df, col_name):\n",
    "    encoder = LabelEncoder()\n",
    "    df[f'{col_name}'] = encoder.fit_transform(df[f'{col_name}']) "
   ]
  },
  {
   "cell_type": "code",
   "execution_count": 13,
   "metadata": {},
   "outputs": [],
   "source": [
    "bool_switch(df, col_name='Transported')\n",
    "bool_switch(df, col_name='VIP')\n",
    "bool_switch(df, col_name='CryoSleep')\n"
   ]
  },
  {
   "attachments": {},
   "cell_type": "markdown",
   "metadata": {},
   "source": [
    "Check to see how it worked"
   ]
  },
  {
   "cell_type": "code",
   "execution_count": 14,
   "metadata": {},
   "outputs": [
    {
     "data": {
      "text/html": [
       "<div>\n",
       "<style scoped>\n",
       "    .dataframe tbody tr th:only-of-type {\n",
       "        vertical-align: middle;\n",
       "    }\n",
       "\n",
       "    .dataframe tbody tr th {\n",
       "        vertical-align: top;\n",
       "    }\n",
       "\n",
       "    .dataframe thead th {\n",
       "        text-align: right;\n",
       "    }\n",
       "</style>\n",
       "<table border=\"1\" class=\"dataframe\">\n",
       "  <thead>\n",
       "    <tr style=\"text-align: right;\">\n",
       "      <th></th>\n",
       "      <th>PassengerId</th>\n",
       "      <th>HomePlanet</th>\n",
       "      <th>CryoSleep</th>\n",
       "      <th>Cabin</th>\n",
       "      <th>Destination</th>\n",
       "      <th>Age</th>\n",
       "      <th>VIP</th>\n",
       "      <th>RoomService</th>\n",
       "      <th>FoodCourt</th>\n",
       "      <th>ShoppingMall</th>\n",
       "      <th>Spa</th>\n",
       "      <th>VRDeck</th>\n",
       "      <th>Name</th>\n",
       "      <th>Transported</th>\n",
       "    </tr>\n",
       "  </thead>\n",
       "  <tbody>\n",
       "    <tr>\n",
       "      <th>0</th>\n",
       "      <td>0001_01</td>\n",
       "      <td>Europa</td>\n",
       "      <td>0</td>\n",
       "      <td>B/0/P</td>\n",
       "      <td>TRAPPIST-1e</td>\n",
       "      <td>39.0</td>\n",
       "      <td>0</td>\n",
       "      <td>0.0</td>\n",
       "      <td>0.0</td>\n",
       "      <td>0.0</td>\n",
       "      <td>0.0</td>\n",
       "      <td>0.0</td>\n",
       "      <td>Maham Ofracculy</td>\n",
       "      <td>0</td>\n",
       "    </tr>\n",
       "    <tr>\n",
       "      <th>1</th>\n",
       "      <td>0002_01</td>\n",
       "      <td>Earth</td>\n",
       "      <td>0</td>\n",
       "      <td>F/0/S</td>\n",
       "      <td>TRAPPIST-1e</td>\n",
       "      <td>24.0</td>\n",
       "      <td>0</td>\n",
       "      <td>109.0</td>\n",
       "      <td>9.0</td>\n",
       "      <td>25.0</td>\n",
       "      <td>549.0</td>\n",
       "      <td>44.0</td>\n",
       "      <td>Juanna Vines</td>\n",
       "      <td>1</td>\n",
       "    </tr>\n",
       "    <tr>\n",
       "      <th>2</th>\n",
       "      <td>0003_01</td>\n",
       "      <td>Europa</td>\n",
       "      <td>0</td>\n",
       "      <td>A/0/S</td>\n",
       "      <td>TRAPPIST-1e</td>\n",
       "      <td>58.0</td>\n",
       "      <td>1</td>\n",
       "      <td>43.0</td>\n",
       "      <td>3576.0</td>\n",
       "      <td>0.0</td>\n",
       "      <td>6715.0</td>\n",
       "      <td>49.0</td>\n",
       "      <td>Altark Susent</td>\n",
       "      <td>0</td>\n",
       "    </tr>\n",
       "    <tr>\n",
       "      <th>3</th>\n",
       "      <td>0003_02</td>\n",
       "      <td>Europa</td>\n",
       "      <td>0</td>\n",
       "      <td>A/0/S</td>\n",
       "      <td>TRAPPIST-1e</td>\n",
       "      <td>33.0</td>\n",
       "      <td>0</td>\n",
       "      <td>0.0</td>\n",
       "      <td>1283.0</td>\n",
       "      <td>371.0</td>\n",
       "      <td>3329.0</td>\n",
       "      <td>193.0</td>\n",
       "      <td>Solam Susent</td>\n",
       "      <td>0</td>\n",
       "    </tr>\n",
       "    <tr>\n",
       "      <th>4</th>\n",
       "      <td>0004_01</td>\n",
       "      <td>Earth</td>\n",
       "      <td>0</td>\n",
       "      <td>F/1/S</td>\n",
       "      <td>TRAPPIST-1e</td>\n",
       "      <td>16.0</td>\n",
       "      <td>0</td>\n",
       "      <td>303.0</td>\n",
       "      <td>70.0</td>\n",
       "      <td>151.0</td>\n",
       "      <td>565.0</td>\n",
       "      <td>2.0</td>\n",
       "      <td>Willy Santantines</td>\n",
       "      <td>1</td>\n",
       "    </tr>\n",
       "  </tbody>\n",
       "</table>\n",
       "</div>"
      ],
      "text/plain": [
       "  PassengerId HomePlanet  CryoSleep  Cabin  Destination   Age  VIP  \\\n",
       "0     0001_01     Europa          0  B/0/P  TRAPPIST-1e  39.0    0   \n",
       "1     0002_01      Earth          0  F/0/S  TRAPPIST-1e  24.0    0   \n",
       "2     0003_01     Europa          0  A/0/S  TRAPPIST-1e  58.0    1   \n",
       "3     0003_02     Europa          0  A/0/S  TRAPPIST-1e  33.0    0   \n",
       "4     0004_01      Earth          0  F/1/S  TRAPPIST-1e  16.0    0   \n",
       "\n",
       "   RoomService  FoodCourt  ShoppingMall     Spa  VRDeck               Name  \\\n",
       "0          0.0        0.0           0.0     0.0     0.0    Maham Ofracculy   \n",
       "1        109.0        9.0          25.0   549.0    44.0       Juanna Vines   \n",
       "2         43.0     3576.0           0.0  6715.0    49.0      Altark Susent   \n",
       "3          0.0     1283.0         371.0  3329.0   193.0       Solam Susent   \n",
       "4        303.0       70.0         151.0   565.0     2.0  Willy Santantines   \n",
       "\n",
       "   Transported  \n",
       "0            0  \n",
       "1            1  \n",
       "2            0  \n",
       "3            0  \n",
       "4            1  "
      ]
     },
     "execution_count": 14,
     "metadata": {},
     "output_type": "execute_result"
    }
   ],
   "source": [
    "df.head()"
   ]
  },
  {
   "cell_type": "code",
   "execution_count": 15,
   "metadata": {},
   "outputs": [
    {
     "data": {
      "text/plain": [
       "1    4378\n",
       "0    4315\n",
       "Name: Transported, dtype: int64"
      ]
     },
     "execution_count": 15,
     "metadata": {},
     "output_type": "execute_result"
    }
   ],
   "source": [
    "df['Transported'].value_counts()"
   ]
  },
  {
   "cell_type": "code",
   "execution_count": 16,
   "metadata": {},
   "outputs": [
    {
     "name": "stdout",
     "output_type": "stream",
     "text": [
      "<class 'pandas.core.frame.DataFrame'>\n",
      "RangeIndex: 8693 entries, 0 to 8692\n",
      "Data columns (total 14 columns):\n",
      " #   Column        Non-Null Count  Dtype  \n",
      "---  ------        --------------  -----  \n",
      " 0   PassengerId   8693 non-null   object \n",
      " 1   HomePlanet    8492 non-null   object \n",
      " 2   CryoSleep     8693 non-null   int64  \n",
      " 3   Cabin         8494 non-null   object \n",
      " 4   Destination   8511 non-null   object \n",
      " 5   Age           8514 non-null   float64\n",
      " 6   VIP           8693 non-null   int64  \n",
      " 7   RoomService   8512 non-null   float64\n",
      " 8   FoodCourt     8510 non-null   float64\n",
      " 9   ShoppingMall  8485 non-null   float64\n",
      " 10  Spa           8510 non-null   float64\n",
      " 11  VRDeck        8505 non-null   float64\n",
      " 12  Name          8493 non-null   object \n",
      " 13  Transported   8693 non-null   int64  \n",
      "dtypes: float64(6), int64(3), object(5)\n",
      "memory usage: 950.9+ KB\n"
     ]
    }
   ],
   "source": [
    "df.info()"
   ]
  },
  {
   "cell_type": "code",
   "execution_count": 17,
   "metadata": {},
   "outputs": [
    {
     "data": {
      "text/plain": [
       "Index(['PassengerId', 'HomePlanet', 'CryoSleep', 'Cabin', 'Destination', 'Age',\n",
       "       'VIP', 'RoomService', 'FoodCourt', 'ShoppingMall', 'Spa', 'VRDeck',\n",
       "       'Name', 'Transported'],\n",
       "      dtype='object')"
      ]
     },
     "execution_count": 17,
     "metadata": {},
     "output_type": "execute_result"
    }
   ],
   "source": [
    "df.columns"
   ]
  },
  {
   "attachments": {},
   "cell_type": "markdown",
   "metadata": {},
   "source": [
    "### Preparing Data"
   ]
  },
  {
   "attachments": {},
   "cell_type": "markdown",
   "metadata": {},
   "source": [
    "Declare dependant variable(y-axis)"
   ]
  },
  {
   "cell_type": "code",
   "execution_count": 18,
   "metadata": {},
   "outputs": [],
   "source": [
    "#| export\n",
    "dep_var = 'Transported'"
   ]
  },
  {
   "cell_type": "code",
   "execution_count": 19,
   "metadata": {},
   "outputs": [
    {
     "data": {
      "text/plain": [
       "<bound method NDFrame.sample of 0         TRAPPIST-1e\n",
       "1         TRAPPIST-1e\n",
       "2         TRAPPIST-1e\n",
       "3         TRAPPIST-1e\n",
       "4         TRAPPIST-1e\n",
       "            ...      \n",
       "8688      55 Cancri e\n",
       "8689    PSO J318.5-22\n",
       "8690      TRAPPIST-1e\n",
       "8691      55 Cancri e\n",
       "8692      TRAPPIST-1e\n",
       "Name: Destination, Length: 8693, dtype: object>"
      ]
     },
     "execution_count": 19,
     "metadata": {},
     "output_type": "execute_result"
    }
   ],
   "source": [
    "df['Destination'].sample"
   ]
  },
  {
   "attachments": {},
   "cell_type": "markdown",
   "metadata": {},
   "source": [
    "Add tabular processes to transform categorical variables to something similar to `pd.Categorical`, and fill in missing/na values"
   ]
  },
  {
   "cell_type": "code",
   "execution_count": 20,
   "metadata": {},
   "outputs": [],
   "source": [
    "#| export\n",
    "procs = [Categorify, FillMissing]"
   ]
  },
  {
   "attachments": {},
   "cell_type": "markdown",
   "metadata": {},
   "source": [
    "Split our data set into a training(.8) and a validation(.2) set, set random_state to a fixed seed for consistency"
   ]
  },
  {
   "cell_type": "code",
   "execution_count": 21,
   "metadata": {},
   "outputs": [],
   "source": [
    "#| export\n",
    "train, valid = train_test_split(df, test_size=.2, random_state=42)"
   ]
  },
  {
   "attachments": {},
   "cell_type": "markdown",
   "metadata": {},
   "source": [
    "Check the sizes of the split"
   ]
  },
  {
   "cell_type": "code",
   "execution_count": 22,
   "metadata": {},
   "outputs": [
    {
     "data": {
      "text/plain": [
       "(6954, 1739)"
      ]
     },
     "execution_count": 22,
     "metadata": {},
     "output_type": "execute_result"
    }
   ],
   "source": [
    "len(train), len(valid)"
   ]
  },
  {
   "attachments": {},
   "cell_type": "markdown",
   "metadata": {},
   "source": [
    "Get an array of indexes for the training and validation sets"
   ]
  },
  {
   "cell_type": "code",
   "execution_count": 23,
   "metadata": {},
   "outputs": [
    {
     "data": {
      "text/plain": [
       "(array([2333, 2589, 8302, ..., 5390,  860, 7270]),\n",
       " array([ 304, 2697, 8424, ..., 1302, 5934, 6093]))"
      ]
     },
     "execution_count": 23,
     "metadata": {},
     "output_type": "execute_result"
    }
   ],
   "source": [
    "#| export\n",
    "train_idx = np.array(train.index)\n",
    "valid_idx = np.array(valid.index)\n",
    "train_idx, valid_idx"
   ]
  },
  {
   "attachments": {},
   "cell_type": "markdown",
   "metadata": {},
   "source": [
    "Double check no duplicates"
   ]
  },
  {
   "cell_type": "code",
   "execution_count": 24,
   "metadata": {},
   "outputs": [
    {
     "data": {
      "text/plain": [
       "array([], dtype=int64)"
      ]
     },
     "execution_count": 24,
     "metadata": {},
     "output_type": "execute_result"
    }
   ],
   "source": [
    "u, c = np.unique(valid_idx, return_counts=True)\n",
    "dup = u[c > 1]\n",
    "dup"
   ]
  },
  {
   "attachments": {},
   "cell_type": "markdown",
   "metadata": {},
   "source": [
    "Pass `splits` a tuple of lists containing the training and validation indexes"
   ]
  },
  {
   "cell_type": "code",
   "execution_count": 25,
   "metadata": {},
   "outputs": [],
   "source": [
    "#| export\n",
    "splits = (list(train_idx), list(valid_idx))"
   ]
  },
  {
   "attachments": {},
   "cell_type": "markdown",
   "metadata": {},
   "source": [
    "Use `cont_cat_split` to separate continuous and categorical variables"
   ]
  },
  {
   "cell_type": "code",
   "execution_count": 26,
   "metadata": {},
   "outputs": [],
   "source": [
    "#| export\n",
    "cont, cat = cont_cat_split(df, 1, dep_var=dep_var)"
   ]
  },
  {
   "attachments": {},
   "cell_type": "markdown",
   "metadata": {},
   "source": [
    "Load our dataframe to a `TabularPandas` object, `procs` from above is applied here. Set the dependant variable as the target"
   ]
  },
  {
   "cell_type": "code",
   "execution_count": 27,
   "metadata": {},
   "outputs": [],
   "source": [
    "to = TabularPandas(df, procs, cat, cont, y_names=dep_var, splits=splits)"
   ]
  },
  {
   "cell_type": "code",
   "execution_count": 28,
   "metadata": {},
   "outputs": [
    {
     "data": {
      "text/plain": [
       "(6954, 1739)"
      ]
     },
     "execution_count": 28,
     "metadata": {},
     "output_type": "execute_result"
    }
   ],
   "source": [
    "len(to.train), len(to.valid)"
   ]
  },
  {
   "cell_type": "code",
   "execution_count": 29,
   "metadata": {},
   "outputs": [
    {
     "data": {
      "text/plain": [
       "4378"
      ]
     },
     "execution_count": 29,
     "metadata": {},
     "output_type": "execute_result"
    }
   ],
   "source": [
    "df['Transported'].sum()"
   ]
  },
  {
   "cell_type": "code",
   "execution_count": 30,
   "metadata": {},
   "outputs": [
    {
     "data": {
      "text/plain": [
       "8693"
      ]
     },
     "execution_count": 30,
     "metadata": {},
     "output_type": "execute_result"
    }
   ],
   "source": [
    "len(df)"
   ]
  },
  {
   "attachments": {},
   "cell_type": "markdown",
   "metadata": {},
   "source": [
    "Pickle our tabular object so that we can skip a few steps in the future"
   ]
  },
  {
   "cell_type": "code",
   "execution_count": 31,
   "metadata": {},
   "outputs": [],
   "source": [
    "save_pickle(path/'space_titan_to.pkl', to)"
   ]
  },
  {
   "attachments": {},
   "cell_type": "markdown",
   "metadata": {},
   "source": [
    "Load our Pickle file"
   ]
  },
  {
   "cell_type": "code",
   "execution_count": 32,
   "metadata": {},
   "outputs": [],
   "source": [
    "to = load_pickle(path/'space_titan_to.pkl')"
   ]
  },
  {
   "cell_type": "code",
   "execution_count": 33,
   "metadata": {},
   "outputs": [
    {
     "data": {
      "text/plain": [
       "2333    2334\n",
       "2589    2590\n",
       "8302    8303\n",
       "8177    8178\n",
       "500      501\n",
       "        ... \n",
       "7175    7176\n",
       "3187    3188\n",
       "1302    1303\n",
       "5934    5935\n",
       "6093    6094\n",
       "Name: PassengerId, Length: 8693, dtype: int16"
      ]
     },
     "execution_count": 33,
     "metadata": {},
     "output_type": "execute_result"
    }
   ],
   "source": [
    "to.items['PassengerId']"
   ]
  },
  {
   "cell_type": "code",
   "execution_count": 34,
   "metadata": {},
   "outputs": [
    {
     "data": {
      "text/html": [
       "<div>\n",
       "<style scoped>\n",
       "    .dataframe tbody tr th:only-of-type {\n",
       "        vertical-align: middle;\n",
       "    }\n",
       "\n",
       "    .dataframe tbody tr th {\n",
       "        vertical-align: top;\n",
       "    }\n",
       "\n",
       "    .dataframe thead th {\n",
       "        text-align: right;\n",
       "    }\n",
       "</style>\n",
       "<table border=\"1\" class=\"dataframe\">\n",
       "  <thead>\n",
       "    <tr style=\"text-align: right;\">\n",
       "      <th></th>\n",
       "      <th>PassengerId</th>\n",
       "      <th>HomePlanet</th>\n",
       "      <th>CryoSleep</th>\n",
       "      <th>Cabin</th>\n",
       "      <th>Destination</th>\n",
       "      <th>Age</th>\n",
       "      <th>VIP</th>\n",
       "      <th>RoomService</th>\n",
       "      <th>FoodCourt</th>\n",
       "      <th>ShoppingMall</th>\n",
       "      <th>Spa</th>\n",
       "      <th>VRDeck</th>\n",
       "      <th>Name</th>\n",
       "      <th>Transported</th>\n",
       "      <th>Age_na</th>\n",
       "      <th>RoomService_na</th>\n",
       "      <th>FoodCourt_na</th>\n",
       "      <th>ShoppingMall_na</th>\n",
       "      <th>Spa_na</th>\n",
       "      <th>VRDeck_na</th>\n",
       "    </tr>\n",
       "  </thead>\n",
       "  <tbody>\n",
       "    <tr>\n",
       "      <th>2333</th>\n",
       "      <td>2334</td>\n",
       "      <td>1</td>\n",
       "      <td>0</td>\n",
       "      <td>0</td>\n",
       "      <td>3</td>\n",
       "      <td>28.0</td>\n",
       "      <td>0</td>\n",
       "      <td>0.0</td>\n",
       "      <td>55.0</td>\n",
       "      <td>0.0</td>\n",
       "      <td>656.0</td>\n",
       "      <td>0.0</td>\n",
       "      <td>5072</td>\n",
       "      <td>0</td>\n",
       "      <td>1</td>\n",
       "      <td>1</td>\n",
       "      <td>1</td>\n",
       "      <td>1</td>\n",
       "      <td>1</td>\n",
       "      <td>1</td>\n",
       "    </tr>\n",
       "    <tr>\n",
       "      <th>2589</th>\n",
       "      <td>2590</td>\n",
       "      <td>1</td>\n",
       "      <td>0</td>\n",
       "      <td>3953</td>\n",
       "      <td>3</td>\n",
       "      <td>17.0</td>\n",
       "      <td>0</td>\n",
       "      <td>0.0</td>\n",
       "      <td>1195.0</td>\n",
       "      <td>31.0</td>\n",
       "      <td>0.0</td>\n",
       "      <td>0.0</td>\n",
       "      <td>2014</td>\n",
       "      <td>0</td>\n",
       "      <td>1</td>\n",
       "      <td>1</td>\n",
       "      <td>1</td>\n",
       "      <td>1</td>\n",
       "      <td>1</td>\n",
       "      <td>1</td>\n",
       "    </tr>\n",
       "    <tr>\n",
       "      <th>8302</th>\n",
       "      <td>8303</td>\n",
       "      <td>2</td>\n",
       "      <td>1</td>\n",
       "      <td>933</td>\n",
       "      <td>1</td>\n",
       "      <td>28.0</td>\n",
       "      <td>0</td>\n",
       "      <td>0.0</td>\n",
       "      <td>0.0</td>\n",
       "      <td>0.0</td>\n",
       "      <td>0.0</td>\n",
       "      <td>0.0</td>\n",
       "      <td>427</td>\n",
       "      <td>1</td>\n",
       "      <td>1</td>\n",
       "      <td>1</td>\n",
       "      <td>1</td>\n",
       "      <td>1</td>\n",
       "      <td>1</td>\n",
       "      <td>1</td>\n",
       "    </tr>\n",
       "    <tr>\n",
       "      <th>8177</th>\n",
       "      <td>8178</td>\n",
       "      <td>3</td>\n",
       "      <td>0</td>\n",
       "      <td>3334</td>\n",
       "      <td>3</td>\n",
       "      <td>20.0</td>\n",
       "      <td>0</td>\n",
       "      <td>0.0</td>\n",
       "      <td>2.0</td>\n",
       "      <td>289.0</td>\n",
       "      <td>976.0</td>\n",
       "      <td>0.0</td>\n",
       "      <td>7876</td>\n",
       "      <td>1</td>\n",
       "      <td>1</td>\n",
       "      <td>2</td>\n",
       "      <td>1</td>\n",
       "      <td>1</td>\n",
       "      <td>1</td>\n",
       "      <td>1</td>\n",
       "    </tr>\n",
       "    <tr>\n",
       "      <th>500</th>\n",
       "      <td>501</td>\n",
       "      <td>2</td>\n",
       "      <td>1</td>\n",
       "      <td>720</td>\n",
       "      <td>1</td>\n",
       "      <td>36.0</td>\n",
       "      <td>0</td>\n",
       "      <td>0.0</td>\n",
       "      <td>0.0</td>\n",
       "      <td>0.0</td>\n",
       "      <td>0.0</td>\n",
       "      <td>0.0</td>\n",
       "      <td>37</td>\n",
       "      <td>1</td>\n",
       "      <td>1</td>\n",
       "      <td>1</td>\n",
       "      <td>1</td>\n",
       "      <td>1</td>\n",
       "      <td>1</td>\n",
       "      <td>1</td>\n",
       "    </tr>\n",
       "  </tbody>\n",
       "</table>\n",
       "</div>"
      ],
      "text/plain": [
       "      PassengerId  HomePlanet  CryoSleep  Cabin  Destination   Age  VIP  \\\n",
       "2333         2334           1          0      0            3  28.0    0   \n",
       "2589         2590           1          0   3953            3  17.0    0   \n",
       "8302         8303           2          1    933            1  28.0    0   \n",
       "8177         8178           3          0   3334            3  20.0    0   \n",
       "500           501           2          1    720            1  36.0    0   \n",
       "\n",
       "      RoomService  FoodCourt  ShoppingMall    Spa  VRDeck  Name  Transported  \\\n",
       "2333          0.0       55.0           0.0  656.0     0.0  5072            0   \n",
       "2589          0.0     1195.0          31.0    0.0     0.0  2014            0   \n",
       "8302          0.0        0.0           0.0    0.0     0.0   427            1   \n",
       "8177          0.0        2.0         289.0  976.0     0.0  7876            1   \n",
       "500           0.0        0.0           0.0    0.0     0.0    37            1   \n",
       "\n",
       "      Age_na  RoomService_na  FoodCourt_na  ShoppingMall_na  Spa_na  VRDeck_na  \n",
       "2333       1               1             1                1       1          1  \n",
       "2589       1               1             1                1       1          1  \n",
       "8302       1               1             1                1       1          1  \n",
       "8177       1               2             1                1       1          1  \n",
       "500        1               1             1                1       1          1  "
      ]
     },
     "execution_count": 34,
     "metadata": {},
     "output_type": "execute_result"
    }
   ],
   "source": [
    "to.items.head()"
   ]
  },
  {
   "cell_type": "code",
   "execution_count": 36,
   "metadata": {},
   "outputs": [
    {
     "data": {
      "text/html": [
       "<div>\n",
       "<style scoped>\n",
       "    .dataframe tbody tr th:only-of-type {\n",
       "        vertical-align: middle;\n",
       "    }\n",
       "\n",
       "    .dataframe tbody tr th {\n",
       "        vertical-align: top;\n",
       "    }\n",
       "\n",
       "    .dataframe thead th {\n",
       "        text-align: right;\n",
       "    }\n",
       "</style>\n",
       "<table border=\"1\" class=\"dataframe\">\n",
       "  <thead>\n",
       "    <tr style=\"text-align: right;\">\n",
       "      <th></th>\n",
       "      <th>PassengerId</th>\n",
       "      <th>HomePlanet</th>\n",
       "      <th>Cabin</th>\n",
       "      <th>Destination</th>\n",
       "      <th>Name</th>\n",
       "      <th>Age_na</th>\n",
       "      <th>RoomService_na</th>\n",
       "      <th>FoodCourt_na</th>\n",
       "      <th>ShoppingMall_na</th>\n",
       "      <th>Spa_na</th>\n",
       "      <th>VRDeck_na</th>\n",
       "      <th>CryoSleep</th>\n",
       "      <th>Age</th>\n",
       "      <th>VIP</th>\n",
       "      <th>RoomService</th>\n",
       "      <th>FoodCourt</th>\n",
       "      <th>ShoppingMall</th>\n",
       "      <th>Spa</th>\n",
       "      <th>VRDeck</th>\n",
       "    </tr>\n",
       "  </thead>\n",
       "  <tbody>\n",
       "    <tr>\n",
       "      <th>2333</th>\n",
       "      <td>2334</td>\n",
       "      <td>1</td>\n",
       "      <td>0</td>\n",
       "      <td>3</td>\n",
       "      <td>5072</td>\n",
       "      <td>1</td>\n",
       "      <td>1</td>\n",
       "      <td>1</td>\n",
       "      <td>1</td>\n",
       "      <td>1</td>\n",
       "      <td>1</td>\n",
       "      <td>0</td>\n",
       "      <td>28.0</td>\n",
       "      <td>0</td>\n",
       "      <td>0.0</td>\n",
       "      <td>55.0</td>\n",
       "      <td>0.0</td>\n",
       "      <td>656.0</td>\n",
       "      <td>0.0</td>\n",
       "    </tr>\n",
       "    <tr>\n",
       "      <th>2589</th>\n",
       "      <td>2590</td>\n",
       "      <td>1</td>\n",
       "      <td>3953</td>\n",
       "      <td>3</td>\n",
       "      <td>2014</td>\n",
       "      <td>1</td>\n",
       "      <td>1</td>\n",
       "      <td>1</td>\n",
       "      <td>1</td>\n",
       "      <td>1</td>\n",
       "      <td>1</td>\n",
       "      <td>0</td>\n",
       "      <td>17.0</td>\n",
       "      <td>0</td>\n",
       "      <td>0.0</td>\n",
       "      <td>1195.0</td>\n",
       "      <td>31.0</td>\n",
       "      <td>0.0</td>\n",
       "      <td>0.0</td>\n",
       "    </tr>\n",
       "    <tr>\n",
       "      <th>8302</th>\n",
       "      <td>8303</td>\n",
       "      <td>2</td>\n",
       "      <td>933</td>\n",
       "      <td>1</td>\n",
       "      <td>427</td>\n",
       "      <td>1</td>\n",
       "      <td>1</td>\n",
       "      <td>1</td>\n",
       "      <td>1</td>\n",
       "      <td>1</td>\n",
       "      <td>1</td>\n",
       "      <td>1</td>\n",
       "      <td>28.0</td>\n",
       "      <td>0</td>\n",
       "      <td>0.0</td>\n",
       "      <td>0.0</td>\n",
       "      <td>0.0</td>\n",
       "      <td>0.0</td>\n",
       "      <td>0.0</td>\n",
       "    </tr>\n",
       "    <tr>\n",
       "      <th>8177</th>\n",
       "      <td>8178</td>\n",
       "      <td>3</td>\n",
       "      <td>3334</td>\n",
       "      <td>3</td>\n",
       "      <td>7876</td>\n",
       "      <td>1</td>\n",
       "      <td>2</td>\n",
       "      <td>1</td>\n",
       "      <td>1</td>\n",
       "      <td>1</td>\n",
       "      <td>1</td>\n",
       "      <td>0</td>\n",
       "      <td>20.0</td>\n",
       "      <td>0</td>\n",
       "      <td>0.0</td>\n",
       "      <td>2.0</td>\n",
       "      <td>289.0</td>\n",
       "      <td>976.0</td>\n",
       "      <td>0.0</td>\n",
       "    </tr>\n",
       "    <tr>\n",
       "      <th>500</th>\n",
       "      <td>501</td>\n",
       "      <td>2</td>\n",
       "      <td>720</td>\n",
       "      <td>1</td>\n",
       "      <td>37</td>\n",
       "      <td>1</td>\n",
       "      <td>1</td>\n",
       "      <td>1</td>\n",
       "      <td>1</td>\n",
       "      <td>1</td>\n",
       "      <td>1</td>\n",
       "      <td>1</td>\n",
       "      <td>36.0</td>\n",
       "      <td>0</td>\n",
       "      <td>0.0</td>\n",
       "      <td>0.0</td>\n",
       "      <td>0.0</td>\n",
       "      <td>0.0</td>\n",
       "      <td>0.0</td>\n",
       "    </tr>\n",
       "    <tr>\n",
       "      <th>...</th>\n",
       "      <td>...</td>\n",
       "      <td>...</td>\n",
       "      <td>...</td>\n",
       "      <td>...</td>\n",
       "      <td>...</td>\n",
       "      <td>...</td>\n",
       "      <td>...</td>\n",
       "      <td>...</td>\n",
       "      <td>...</td>\n",
       "      <td>...</td>\n",
       "      <td>...</td>\n",
       "      <td>...</td>\n",
       "      <td>...</td>\n",
       "      <td>...</td>\n",
       "      <td>...</td>\n",
       "      <td>...</td>\n",
       "      <td>...</td>\n",
       "      <td>...</td>\n",
       "      <td>...</td>\n",
       "    </tr>\n",
       "    <tr>\n",
       "      <th>5734</th>\n",
       "      <td>5735</td>\n",
       "      <td>1</td>\n",
       "      <td>6540</td>\n",
       "      <td>3</td>\n",
       "      <td>7676</td>\n",
       "      <td>1</td>\n",
       "      <td>1</td>\n",
       "      <td>1</td>\n",
       "      <td>1</td>\n",
       "      <td>1</td>\n",
       "      <td>1</td>\n",
       "      <td>2</td>\n",
       "      <td>18.0</td>\n",
       "      <td>0</td>\n",
       "      <td>14.0</td>\n",
       "      <td>2.0</td>\n",
       "      <td>144.0</td>\n",
       "      <td>610.0</td>\n",
       "      <td>0.0</td>\n",
       "    </tr>\n",
       "    <tr>\n",
       "      <th>5191</th>\n",
       "      <td>5192</td>\n",
       "      <td>3</td>\n",
       "      <td>2280</td>\n",
       "      <td>3</td>\n",
       "      <td>3858</td>\n",
       "      <td>1</td>\n",
       "      <td>1</td>\n",
       "      <td>1</td>\n",
       "      <td>1</td>\n",
       "      <td>1</td>\n",
       "      <td>1</td>\n",
       "      <td>0</td>\n",
       "      <td>50.0</td>\n",
       "      <td>2</td>\n",
       "      <td>690.0</td>\n",
       "      <td>0.0</td>\n",
       "      <td>30.0</td>\n",
       "      <td>762.0</td>\n",
       "      <td>428.0</td>\n",
       "    </tr>\n",
       "    <tr>\n",
       "      <th>5390</th>\n",
       "      <td>5391</td>\n",
       "      <td>1</td>\n",
       "      <td>2473</td>\n",
       "      <td>2</td>\n",
       "      <td>4569</td>\n",
       "      <td>1</td>\n",
       "      <td>1</td>\n",
       "      <td>1</td>\n",
       "      <td>1</td>\n",
       "      <td>1</td>\n",
       "      <td>1</td>\n",
       "      <td>0</td>\n",
       "      <td>22.0</td>\n",
       "      <td>0</td>\n",
       "      <td>158.0</td>\n",
       "      <td>0.0</td>\n",
       "      <td>476.0</td>\n",
       "      <td>0.0</td>\n",
       "      <td>26.0</td>\n",
       "    </tr>\n",
       "    <tr>\n",
       "      <th>860</th>\n",
       "      <td>861</td>\n",
       "      <td>3</td>\n",
       "      <td>3411</td>\n",
       "      <td>3</td>\n",
       "      <td>7121</td>\n",
       "      <td>1</td>\n",
       "      <td>1</td>\n",
       "      <td>1</td>\n",
       "      <td>1</td>\n",
       "      <td>1</td>\n",
       "      <td>1</td>\n",
       "      <td>0</td>\n",
       "      <td>34.0</td>\n",
       "      <td>0</td>\n",
       "      <td>379.0</td>\n",
       "      <td>0.0</td>\n",
       "      <td>1626.0</td>\n",
       "      <td>0.0</td>\n",
       "      <td>0.0</td>\n",
       "    </tr>\n",
       "    <tr>\n",
       "      <th>7270</th>\n",
       "      <td>7271</td>\n",
       "      <td>2</td>\n",
       "      <td>838</td>\n",
       "      <td>1</td>\n",
       "      <td>415</td>\n",
       "      <td>1</td>\n",
       "      <td>1</td>\n",
       "      <td>1</td>\n",
       "      <td>1</td>\n",
       "      <td>1</td>\n",
       "      <td>1</td>\n",
       "      <td>0</td>\n",
       "      <td>28.0</td>\n",
       "      <td>0</td>\n",
       "      <td>7.0</td>\n",
       "      <td>489.0</td>\n",
       "      <td>0.0</td>\n",
       "      <td>4.0</td>\n",
       "      <td>6027.0</td>\n",
       "    </tr>\n",
       "  </tbody>\n",
       "</table>\n",
       "<p>6954 rows × 19 columns</p>\n",
       "</div>"
      ],
      "text/plain": [
       "      PassengerId  HomePlanet  Cabin  Destination  Name  Age_na  \\\n",
       "2333         2334           1      0            3  5072       1   \n",
       "2589         2590           1   3953            3  2014       1   \n",
       "8302         8303           2    933            1   427       1   \n",
       "8177         8178           3   3334            3  7876       1   \n",
       "500           501           2    720            1    37       1   \n",
       "...           ...         ...    ...          ...   ...     ...   \n",
       "5734         5735           1   6540            3  7676       1   \n",
       "5191         5192           3   2280            3  3858       1   \n",
       "5390         5391           1   2473            2  4569       1   \n",
       "860           861           3   3411            3  7121       1   \n",
       "7270         7271           2    838            1   415       1   \n",
       "\n",
       "      RoomService_na  FoodCourt_na  ShoppingMall_na  Spa_na  VRDeck_na  \\\n",
       "2333               1             1                1       1          1   \n",
       "2589               1             1                1       1          1   \n",
       "8302               1             1                1       1          1   \n",
       "8177               2             1                1       1          1   \n",
       "500                1             1                1       1          1   \n",
       "...              ...           ...              ...     ...        ...   \n",
       "5734               1             1                1       1          1   \n",
       "5191               1             1                1       1          1   \n",
       "5390               1             1                1       1          1   \n",
       "860                1             1                1       1          1   \n",
       "7270               1             1                1       1          1   \n",
       "\n",
       "      CryoSleep   Age  VIP  RoomService  FoodCourt  ShoppingMall    Spa  \\\n",
       "2333          0  28.0    0          0.0       55.0           0.0  656.0   \n",
       "2589          0  17.0    0          0.0     1195.0          31.0    0.0   \n",
       "8302          1  28.0    0          0.0        0.0           0.0    0.0   \n",
       "8177          0  20.0    0          0.0        2.0         289.0  976.0   \n",
       "500           1  36.0    0          0.0        0.0           0.0    0.0   \n",
       "...         ...   ...  ...          ...        ...           ...    ...   \n",
       "5734          2  18.0    0         14.0        2.0         144.0  610.0   \n",
       "5191          0  50.0    2        690.0        0.0          30.0  762.0   \n",
       "5390          0  22.0    0        158.0        0.0         476.0    0.0   \n",
       "860           0  34.0    0        379.0        0.0        1626.0    0.0   \n",
       "7270          0  28.0    0          7.0      489.0           0.0    4.0   \n",
       "\n",
       "      VRDeck  \n",
       "2333     0.0  \n",
       "2589     0.0  \n",
       "8302     0.0  \n",
       "8177     0.0  \n",
       "500      0.0  \n",
       "...      ...  \n",
       "5734     0.0  \n",
       "5191   428.0  \n",
       "5390    26.0  \n",
       "860      0.0  \n",
       "7270  6027.0  \n",
       "\n",
       "[6954 rows x 19 columns]"
      ]
     },
     "execution_count": 36,
     "metadata": {},
     "output_type": "execute_result"
    }
   ],
   "source": [
    "to.train.xs"
   ]
  },
  {
   "attachments": {},
   "cell_type": "markdown",
   "metadata": {},
   "source": [
    "Assign our X values and Y value for training and validation"
   ]
  },
  {
   "cell_type": "code",
   "execution_count": 37,
   "metadata": {},
   "outputs": [],
   "source": [
    "xs, y = to.train.xs, to.train.y\n",
    "valid_xs, valid_y = to.valid.xs, to.valid.y"
   ]
  },
  {
   "attachments": {},
   "cell_type": "markdown",
   "metadata": {},
   "source": [
    "### Decision Tree Classifier"
   ]
  },
  {
   "attachments": {},
   "cell_type": "markdown",
   "metadata": {},
   "source": [
    "Test a small tree with 4 leaf nodes"
   ]
  },
  {
   "cell_type": "code",
   "execution_count": 38,
   "metadata": {},
   "outputs": [],
   "source": [
    "m = DecisionTreeClassifier(max_leaf_nodes=4)\n",
    "m.fit(xs, y);"
   ]
  },
  {
   "cell_type": "code",
   "execution_count": 39,
   "metadata": {},
   "outputs": [
    {
     "data": {
      "image/svg+xml": "<?xml version=\"1.0\" encoding=\"UTF-8\" standalone=\"no\"?>\n<!DOCTYPE svg PUBLIC \"-//W3C//DTD SVG 1.1//EN\"\n \"http://www.w3.org/Graphics/SVG/1.1/DTD/svg11.dtd\">\n<!-- Generated by graphviz version 7.0.6 (20230107.1202)\n -->\n<!-- Title: Tree Pages: 1 -->\n<svg width=\"432pt\" height=\"262pt\"\n viewBox=\"0.00 0.00 432.00 261.70\" xmlns=\"http://www.w3.org/2000/svg\" xmlns:xlink=\"http://www.w3.org/1999/xlink\">\n<g id=\"graph0\" class=\"graph\" transform=\"scale(0.632504 0.632504) rotate(0) translate(4 409.76)\">\n<title>Tree</title>\n<polygon fill=\"white\" stroke=\"none\" points=\"-4,4 -4,-409.76 679,-409.76 679,4 -4,4\"/>\n<!-- 0 -->\n<g id=\"node1\" class=\"node\">\n<title>0</title>\n<path fill=\"#fcfeff\" stroke=\"black\" d=\"M417,-388C417,-388 274,-388 274,-388 268,-388 262,-382 262,-376 262,-376 262,-332 262,-332 262,-326 268,-320 274,-320 274,-320 417,-320 417,-320 423,-320 429,-326 429,-332 429,-332 429,-376 429,-376 429,-382 423,-388 417,-388\"/>\n<text text-anchor=\"start\" x=\"288\" y=\"-372.8\" font-family=\"Helvetica,sans-Serif\" font-size=\"14.00\">CryoSleep ≤ 0.5</text>\n<text text-anchor=\"start\" x=\"310.5\" y=\"-357.8\" font-family=\"Helvetica,sans-Serif\" font-size=\"14.00\">gini = 0.5</text>\n<text text-anchor=\"start\" x=\"288\" y=\"-342.8\" font-family=\"Helvetica,sans-Serif\" font-size=\"14.00\">samples = 6954</text>\n<text text-anchor=\"start\" x=\"270\" y=\"-327.8\" font-family=\"Helvetica,sans-Serif\" font-size=\"14.00\">value = [3454, 3500]</text>\n</g>\n<!-- 1 -->\n<g id=\"node2\" class=\"node\">\n<title>1</title>\n<path fill=\"#f2bf9a\" stroke=\"black\" d=\"M327.5,-231C327.5,-231 183.5,-231 183.5,-231 177.5,-231 171.5,-225 171.5,-219 171.5,-219 171.5,-175 171.5,-175 171.5,-169 177.5,-163 183.5,-163 183.5,-163 327.5,-163 327.5,-163 333.5,-163 339.5,-169 339.5,-175 339.5,-175 339.5,-219 339.5,-219 339.5,-225 333.5,-231 327.5,-231\"/>\n<text text-anchor=\"start\" x=\"179.5\" y=\"-215.8\" font-family=\"Helvetica,sans-Serif\" font-size=\"14.00\">RoomService ≤ 346.5</text>\n<text text-anchor=\"start\" x=\"216\" y=\"-200.8\" font-family=\"Helvetica,sans-Serif\" font-size=\"14.00\">gini = 0.44</text>\n<text text-anchor=\"start\" x=\"198\" y=\"-185.8\" font-family=\"Helvetica,sans-Serif\" font-size=\"14.00\">samples = 4377</text>\n<text text-anchor=\"start\" x=\"180\" y=\"-170.8\" font-family=\"Helvetica,sans-Serif\" font-size=\"14.00\">value = [2937, 1440]</text>\n</g>\n<!-- 0&#45;&gt;1 -->\n<g id=\"edge1\" class=\"edge\">\n<title>0&#45;&gt;1</title>\n<path fill=\"none\" stroke=\"black\" d=\"M326.19,-319.75C312.89,-296.84 295.09,-266.18 280.67,-241.36\"/>\n<polygon fill=\"black\" stroke=\"black\" points=\"283.74,-239.66 275.69,-232.77 277.69,-243.18 283.74,-239.66\"/>\n<text text-anchor=\"middle\" x=\"268.52\" y=\"-251.93\" font-family=\"Helvetica,sans-Serif\" font-size=\"14.00\">True</text>\n</g>\n<!-- 2 -->\n<g id=\"node5\" class=\"node\">\n<title>2</title>\n<path fill=\"#6bb6ec\" stroke=\"black\" d=\"M503.5,-231C503.5,-231 369.5,-231 369.5,-231 363.5,-231 357.5,-225 357.5,-219 357.5,-219 357.5,-175 357.5,-175 357.5,-169 363.5,-163 369.5,-163 369.5,-163 503.5,-163 503.5,-163 509.5,-163 515.5,-169 515.5,-175 515.5,-175 515.5,-219 515.5,-219 515.5,-225 509.5,-231 503.5,-231\"/>\n<text text-anchor=\"start\" x=\"373\" y=\"-215.8\" font-family=\"Helvetica,sans-Serif\" font-size=\"14.00\">HomePlanet ≤ 1.5</text>\n<text text-anchor=\"start\" x=\"397\" y=\"-200.8\" font-family=\"Helvetica,sans-Serif\" font-size=\"14.00\">gini = 0.32</text>\n<text text-anchor=\"start\" x=\"379\" y=\"-185.8\" font-family=\"Helvetica,sans-Serif\" font-size=\"14.00\">samples = 2577</text>\n<text text-anchor=\"start\" x=\"365.5\" y=\"-170.8\" font-family=\"Helvetica,sans-Serif\" font-size=\"14.00\">value = [517, 2060]</text>\n</g>\n<!-- 0&#45;&gt;2 -->\n<g id=\"edge4\" class=\"edge\">\n<title>0&#45;&gt;2</title>\n<path fill=\"none\" stroke=\"black\" d=\"M365.02,-319.75C378.47,-296.84 396.47,-266.18 411.05,-241.36\"/>\n<polygon fill=\"black\" stroke=\"black\" points=\"414.04,-243.16 416.09,-232.77 408.01,-239.62 414.04,-243.16\"/>\n<text text-anchor=\"middle\" x=\"423.15\" y=\"-251.96\" font-family=\"Helvetica,sans-Serif\" font-size=\"14.00\">False</text>\n</g>\n<!-- 5 -->\n<g id=\"node3\" class=\"node\">\n<title>5</title>\n<path fill=\"#f5d1b6\" stroke=\"black\" d=\"M155,-66.5C155,-66.5 12,-66.5 12,-66.5 6,-66.5 0,-60.5 0,-54.5 0,-54.5 0,-25.5 0,-25.5 0,-19.5 6,-13.5 12,-13.5 12,-13.5 155,-13.5 155,-13.5 161,-13.5 167,-19.5 167,-25.5 167,-25.5 167,-54.5 167,-54.5 167,-60.5 161,-66.5 155,-66.5\"/>\n<text text-anchor=\"start\" x=\"44\" y=\"-51.3\" font-family=\"Helvetica,sans-Serif\" font-size=\"14.00\">gini = 0.47</text>\n<text text-anchor=\"start\" x=\"26\" y=\"-36.3\" font-family=\"Helvetica,sans-Serif\" font-size=\"14.00\">samples = 3256</text>\n<text text-anchor=\"start\" x=\"8\" y=\"-21.3\" font-family=\"Helvetica,sans-Serif\" font-size=\"14.00\">value = [1993, 1263]</text>\n</g>\n<!-- 1&#45;&gt;5 -->\n<g id=\"edge2\" class=\"edge\">\n<title>1&#45;&gt;5</title>\n<path fill=\"none\" stroke=\"black\" d=\"M218.6,-162.75C189.58,-136.6 149.35,-100.34 120.34,-74.2\"/>\n<polygon fill=\"black\" stroke=\"black\" points=\"123,-71.88 113.23,-67.79 118.31,-77.08 123,-71.88\"/>\n</g>\n<!-- 6 -->\n<g id=\"node4\" class=\"node\">\n<title>6</title>\n<path fill=\"#ea995e\" stroke=\"black\" d=\"M322,-66.5C322,-66.5 197,-66.5 197,-66.5 191,-66.5 185,-60.5 185,-54.5 185,-54.5 185,-25.5 185,-25.5 185,-19.5 191,-13.5 197,-13.5 197,-13.5 322,-13.5 322,-13.5 328,-13.5 334,-19.5 334,-25.5 334,-25.5 334,-54.5 334,-54.5 334,-60.5 328,-66.5 322,-66.5\"/>\n<text text-anchor=\"start\" x=\"220\" y=\"-51.3\" font-family=\"Helvetica,sans-Serif\" font-size=\"14.00\">gini = 0.27</text>\n<text text-anchor=\"start\" x=\"202\" y=\"-36.3\" font-family=\"Helvetica,sans-Serif\" font-size=\"14.00\">samples = 1121</text>\n<text text-anchor=\"start\" x=\"193\" y=\"-21.3\" font-family=\"Helvetica,sans-Serif\" font-size=\"14.00\">value = [944, 177]</text>\n</g>\n<!-- 1&#45;&gt;6 -->\n<g id=\"edge3\" class=\"edge\">\n<title>1&#45;&gt;6</title>\n<path fill=\"none\" stroke=\"black\" d=\"M256.36,-162.75C257,-137.76 257.89,-103.53 258.55,-77.73\"/>\n<polygon fill=\"black\" stroke=\"black\" points=\"262.04,-78.13 258.8,-68.05 255.05,-77.95 262.04,-78.13\"/>\n</g>\n<!-- 3 -->\n<g id=\"node6\" class=\"node\">\n<title>3</title>\n<path fill=\"#a1d1f3\" stroke=\"black\" d=\"M496,-66.5C496,-66.5 371,-66.5 371,-66.5 365,-66.5 359,-60.5 359,-54.5 359,-54.5 359,-25.5 359,-25.5 359,-19.5 365,-13.5 371,-13.5 371,-13.5 496,-13.5 496,-13.5 502,-13.5 508,-19.5 508,-25.5 508,-25.5 508,-54.5 508,-54.5 508,-60.5 502,-66.5 496,-66.5\"/>\n<text text-anchor=\"start\" x=\"394\" y=\"-51.3\" font-family=\"Helvetica,sans-Serif\" font-size=\"14.00\">gini = 0.45</text>\n<text text-anchor=\"start\" x=\"376\" y=\"-36.3\" font-family=\"Helvetica,sans-Serif\" font-size=\"14.00\">samples = 1257</text>\n<text text-anchor=\"start\" x=\"367\" y=\"-21.3\" font-family=\"Helvetica,sans-Serif\" font-size=\"14.00\">value = [434, 823]</text>\n</g>\n<!-- 2&#45;&gt;3 -->\n<g id=\"edge5\" class=\"edge\">\n<title>2&#45;&gt;3</title>\n<path fill=\"none\" stroke=\"black\" d=\"M435.86,-162.75C435.37,-137.76 434.71,-103.53 434.21,-77.73\"/>\n<polygon fill=\"black\" stroke=\"black\" points=\"437.72,-77.98 434.02,-68.05 430.72,-78.11 437.72,-77.98\"/>\n</g>\n<!-- 4 -->\n<g id=\"node7\" class=\"node\">\n<title>4</title>\n<path fill=\"#46a4e7\" stroke=\"black\" d=\"M663,-66.5C663,-66.5 538,-66.5 538,-66.5 532,-66.5 526,-60.5 526,-54.5 526,-54.5 526,-25.5 526,-25.5 526,-19.5 532,-13.5 538,-13.5 538,-13.5 663,-13.5 663,-13.5 669,-13.5 675,-19.5 675,-25.5 675,-25.5 675,-54.5 675,-54.5 675,-60.5 669,-66.5 663,-66.5\"/>\n<text text-anchor=\"start\" x=\"561\" y=\"-51.3\" font-family=\"Helvetica,sans-Serif\" font-size=\"14.00\">gini = 0.12</text>\n<text text-anchor=\"start\" x=\"543\" y=\"-36.3\" font-family=\"Helvetica,sans-Serif\" font-size=\"14.00\">samples = 1320</text>\n<text text-anchor=\"start\" x=\"534\" y=\"-21.3\" font-family=\"Helvetica,sans-Serif\" font-size=\"14.00\">value = [83, 1237]</text>\n</g>\n<!-- 2&#45;&gt;4 -->\n<g id=\"edge6\" class=\"edge\">\n<title>2&#45;&gt;4</title>\n<path fill=\"none\" stroke=\"black\" d=\"M471.68,-162.75C499.23,-136.71 537.39,-100.65 565.01,-74.54\"/>\n<polygon fill=\"black\" stroke=\"black\" points=\"567.26,-77.23 572.13,-67.82 562.45,-72.14 567.26,-77.23\"/>\n</g>\n</g>\n</svg>\n",
      "text/plain": [
       "<graphviz.sources.Source at 0x7f8d8bae79d0>"
      ]
     },
     "execution_count": 39,
     "metadata": {},
     "output_type": "execute_result"
    }
   ],
   "source": [
    "draw_tree(m, xs, size=6, leaves_parallel=True, precision=2)"
   ]
  },
  {
   "attachments": {},
   "cell_type": "markdown",
   "metadata": {},
   "source": [
    "Have the model run predictions on the validation set for who would be transported"
   ]
  },
  {
   "cell_type": "code",
   "execution_count": 41,
   "metadata": {},
   "outputs": [],
   "source": [
    "y_pred = m.predict(valid_xs)"
   ]
  },
  {
   "cell_type": "code",
   "execution_count": 44,
   "metadata": {},
   "outputs": [
    {
     "data": {
      "text/plain": [
       "array([0, 0, 1, ..., 0, 1, 0], dtype=int8)"
      ]
     },
     "execution_count": 44,
     "metadata": {},
     "output_type": "execute_result"
    }
   ],
   "source": [
    "y_pred"
   ]
  },
  {
   "attachments": {},
   "cell_type": "markdown",
   "metadata": {},
   "source": [
    "Check how accurate our predictions were against the actual validation data"
   ]
  },
  {
   "cell_type": "code",
   "execution_count": 45,
   "metadata": {},
   "outputs": [
    {
     "data": {
      "text/plain": [
       "0.714203565267395"
      ]
     },
     "execution_count": 45,
     "metadata": {},
     "output_type": "execute_result"
    }
   ],
   "source": [
    "accuracy = accuracy_score(valid_y, y_pred)\n",
    "accuracy"
   ]
  },
  {
   "cell_type": "code",
   "execution_count": 46,
   "metadata": {},
   "outputs": [],
   "source": [
    "samp_idx = np.random.permutation(len(y))[:500]"
   ]
  },
  {
   "cell_type": "code",
   "execution_count": 47,
   "metadata": {},
   "outputs": [],
   "source": [
    "viz_model = dtreeviz.model(m, X_train=xs.iloc[samp_idx], y_train=y.iloc[samp_idx], target_name=dep_var)"
   ]
  },
  {
   "cell_type": "code",
   "execution_count": 48,
   "metadata": {},
   "outputs": [
    {
     "name": "stderr",
     "output_type": "stream",
     "text": [
      "/home/petewin/mambaforge/lib/python3.10/site-packages/sklearn/base.py:409: UserWarning: X does not have valid feature names, but DecisionTreeClassifier was fitted with feature names\n"
     ]
    },
    {
     "data": {
      "image/svg+xml": "<svg xmlns=\"http://www.w3.org/2000/svg\" xmlns:dc=\"http://purl.org/dc/elements/1.1/\" xmlns:ns2=\"http://creativecommons.org/ns#\" xmlns:rdf=\"http://www.w3.org/1999/02/22-rdf-syntax-ns#\" xmlns:xlink=\"http://www.w3.org/1999/xlink\" width=\"648.0\" height=\"525.6\" viewBox=\"0.0 0.0 648.0 525.6\">\n<g id=\"graph0\" class=\"graph\" transform=\"scale(1.8 1.8) rotate(0) translate(4 288)\">\n<title>G</title>\n<polygon fill=\"white\" stroke=\"none\" points=\"-4,4 -4,-288 356,-288 356,4 -4,4\" />\n<g id=\"clust4\" class=\"cluster\">\n<title>cluster_legend</title>\n</g>\n\n<g id=\"node1\" class=\"node\">\n<title>node1</title>\n<svg width=\"154px\" height=\"60px\" viewBox=\"0 0 206.41 79.641875\" version=\"1.1\" preserveAspectRatio=\"xMinYMin meet\" x=\"18\" y=\"-165\">\n <metadata>\n  <rdf:RDF>\n   <ns2:Work>\n    <dc:type rdf:resource=\"http://purl.org/dc/dcmitype/StillImage\" />\n    <dc:date>2023-02-23T18:21:55.584015</dc:date>\n    <dc:format>image/svg+xml</dc:format>\n    <dc:creator>\n     <ns2:Agent>\n      <dc:title>Matplotlib v3.6.2, https://matplotlib.org/</dc:title>\n     </ns2:Agent>\n    </dc:creator>\n   </ns2:Work>\n  </rdf:RDF>\n </metadata>\n <defs>\n  <style type=\"text/css\">*{stroke-linejoin: round; stroke-linecap: butt}</style>\n </defs>\n <g id=\"figure_1\">\n  <g id=\"patch_1\">\n   <path d=\"M 0 79.641875  L 206.41 79.641875  L 206.41 -0  L 0 -0  z \" style=\"fill: #ffffff\" />\n  </g>\n  <g id=\"axes_1\">\n   <g id=\"patch_2\">\n    <path d=\"M 22.27 60.399375  L 206.41 60.399375  L 206.41 0.171375  L 22.27 0.171375  z \" style=\"fill: #ffffff\" />\n   </g>\n   <g id=\"patch_3\">\n    <path d=\"M 38.282174 60.399375  L 46.288261 60.399375  L 46.288261 26.300573  L 38.282174 26.300573  z \" clip-path=\"url(#p73713af50c)\" style=\"fill: #fefebb; stroke: #444443; stroke-width: 0.5; stroke-linejoin: miter\" />\n   </g>\n   <g id=\"patch_4\">\n    <path d=\"M 46.288261 60.399375  L 54.294348 60.399375  L 54.294348 58.020389  L 46.288261 58.020389  z \" clip-path=\"url(#p73713af50c)\" style=\"fill: #fefebb; stroke: #444443; stroke-width: 0.5; stroke-linejoin: miter\" />\n   </g>\n   <g id=\"patch_5\">\n    <path d=\"M 54.294348 60.399375  L 62.300435 60.399375  L 62.300435 55.377071  L 54.294348 55.377071  z \" clip-path=\"url(#p73713af50c)\" style=\"fill: #fefebb; stroke: #444443; stroke-width: 0.5; stroke-linejoin: miter\" />\n   </g>\n   <g id=\"patch_6\">\n    <path d=\"M 62.300435 60.399375  L 70.306522 60.399375  L 70.306522 56.170066  L 62.300435 56.170066  z \" clip-path=\"url(#p73713af50c)\" style=\"fill: #fefebb; stroke: #444443; stroke-width: 0.5; stroke-linejoin: miter\" />\n   </g>\n   <g id=\"patch_7\">\n    <path d=\"M 70.306522 60.399375  L 78.312609 60.399375  L 78.312609 58.813384  L 70.306522 58.813384  z \" clip-path=\"url(#p73713af50c)\" style=\"fill: #fefebb; stroke: #444443; stroke-width: 0.5; stroke-linejoin: miter\" />\n   </g>\n   <g id=\"patch_8\">\n    <path d=\"M 78.312609 60.399375  L 86.318696 60.399375  L 86.318696 59.342048  L 78.312609 59.342048  z \" clip-path=\"url(#p73713af50c)\" style=\"fill: #fefebb; stroke: #444443; stroke-width: 0.5; stroke-linejoin: miter\" />\n   </g>\n   <g id=\"patch_9\">\n    <path d=\"M 86.318696 60.399375  L 94.324783 60.399375  L 94.324783 59.077716  L 86.318696 59.077716  z \" clip-path=\"url(#p73713af50c)\" style=\"fill: #fefebb; stroke: #444443; stroke-width: 0.5; stroke-linejoin: miter\" />\n   </g>\n   <g id=\"patch_10\">\n    <path d=\"M 94.324783 60.399375  L 102.33087 60.399375  L 102.33087 59.342048  L 94.324783 59.342048  z \" clip-path=\"url(#p73713af50c)\" style=\"fill: #fefebb; stroke: #444443; stroke-width: 0.5; stroke-linejoin: miter\" />\n   </g>\n   <g id=\"patch_11\">\n    <path d=\"M 102.33087 60.399375  L 110.336957 60.399375  L 110.336957 60.135043  L 102.33087 60.135043  z \" clip-path=\"url(#p73713af50c)\" style=\"fill: #fefebb; stroke: #444443; stroke-width: 0.5; stroke-linejoin: miter\" />\n   </g>\n   <g id=\"patch_12\">\n    <path d=\"M 110.336957 60.399375  L 118.343043 60.399375  L 118.343043 59.870711  L 110.336957 59.870711  z \" clip-path=\"url(#p73713af50c)\" style=\"fill: #fefebb; stroke: #444443; stroke-width: 0.5; stroke-linejoin: miter\" />\n   </g>\n   <g id=\"patch_13\">\n    <path d=\"M 118.343043 60.399375  L 126.34913 60.399375  L 126.34913 60.135043  L 118.343043 60.135043  z \" clip-path=\"url(#p73713af50c)\" style=\"fill: #fefebb; stroke: #444443; stroke-width: 0.5; stroke-linejoin: miter\" />\n   </g>\n   <g id=\"patch_14\">\n    <path d=\"M 126.34913 60.399375  L 134.355217 60.399375  L 134.355217 60.135043  L 126.34913 60.135043  z \" clip-path=\"url(#p73713af50c)\" style=\"fill: #fefebb; stroke: #444443; stroke-width: 0.5; stroke-linejoin: miter\" />\n   </g>\n   <g id=\"patch_15\">\n    <path d=\"M 134.355217 60.399375  L 142.361304 60.399375  L 142.361304 60.135043  L 134.355217 60.135043  z \" clip-path=\"url(#p73713af50c)\" style=\"fill: #fefebb; stroke: #444443; stroke-width: 0.5; stroke-linejoin: miter\" />\n   </g>\n   <g id=\"patch_16\">\n    <path d=\"M 142.361304 60.399375  L 150.367391 60.399375  L 150.367391 60.399375  L 142.361304 60.399375  z \" clip-path=\"url(#p73713af50c)\" style=\"fill: #fefebb; stroke: #444443; stroke-width: 0.5; stroke-linejoin: miter\" />\n   </g>\n   <g id=\"patch_17\">\n    <path d=\"M 150.367391 60.399375  L 158.373478 60.399375  L 158.373478 59.870711  L 150.367391 59.870711  z \" clip-path=\"url(#p73713af50c)\" style=\"fill: #fefebb; stroke: #444443; stroke-width: 0.5; stroke-linejoin: miter\" />\n   </g>\n   <g id=\"patch_18\">\n    <path d=\"M 158.373478 60.399375  L 166.379565 60.399375  L 166.379565 60.135043  L 158.373478 60.135043  z \" clip-path=\"url(#p73713af50c)\" style=\"fill: #fefebb; stroke: #444443; stroke-width: 0.5; stroke-linejoin: miter\" />\n   </g>\n   <g id=\"patch_19\">\n    <path d=\"M 166.379565 60.399375  L 174.385652 60.399375  L 174.385652 60.399375  L 166.379565 60.399375  z \" clip-path=\"url(#p73713af50c)\" style=\"fill: #fefebb; stroke: #444443; stroke-width: 0.5; stroke-linejoin: miter\" />\n   </g>\n   <g id=\"patch_20\">\n    <path d=\"M 174.385652 60.399375  L 182.391739 60.399375  L 182.391739 60.399375  L 174.385652 60.399375  z \" clip-path=\"url(#p73713af50c)\" style=\"fill: #fefebb; stroke: #444443; stroke-width: 0.5; stroke-linejoin: miter\" />\n   </g>\n   <g id=\"patch_21\">\n    <path d=\"M 182.391739 60.399375  L 190.397826 60.399375  L 190.397826 60.135043  L 182.391739 60.135043  z \" clip-path=\"url(#p73713af50c)\" style=\"fill: #fefebb; stroke: #444443; stroke-width: 0.5; stroke-linejoin: miter\" />\n   </g>\n   <g id=\"patch_22\">\n    <path d=\"M 38.282174 26.300573  L 46.288261 26.300573  L 46.288261 3.039375  L 38.282174 3.039375  z \" clip-path=\"url(#p73713af50c)\" style=\"fill: #a1dab4; stroke: #444443; stroke-width: 0.5; stroke-linejoin: miter\" />\n   </g>\n   <g id=\"patch_23\">\n    <path d=\"M 46.288261 58.020389  L 54.294348 58.020389  L 54.294348 56.170066  L 46.288261 56.170066  z \" clip-path=\"url(#p73713af50c)\" style=\"fill: #a1dab4; stroke: #444443; stroke-width: 0.5; stroke-linejoin: miter\" />\n   </g>\n   <g id=\"patch_24\">\n    <path d=\"M 54.294348 55.377071  L 62.300435 55.377071  L 62.300435 55.112739  L 54.294348 55.112739  z \" clip-path=\"url(#p73713af50c)\" style=\"fill: #a1dab4; stroke: #444443; stroke-width: 0.5; stroke-linejoin: miter\" />\n   </g>\n   <g id=\"patch_25\">\n    <path d=\"M 62.300435 56.170066  L 70.306522 56.170066  L 70.306522 55.641403  L 62.300435 55.641403  z \" clip-path=\"url(#p73713af50c)\" style=\"fill: #a1dab4; stroke: #444443; stroke-width: 0.5; stroke-linejoin: miter\" />\n   </g>\n   <g id=\"patch_26\">\n    <path d=\"M 70.306522 58.813384  L 78.312609 58.813384  L 78.312609 58.020389  L 70.306522 58.020389  z \" clip-path=\"url(#p73713af50c)\" style=\"fill: #a1dab4; stroke: #444443; stroke-width: 0.5; stroke-linejoin: miter\" />\n   </g>\n   <g id=\"patch_27\">\n    <path d=\"M 78.312609 59.342048  L 86.318696 59.342048  L 86.318696 59.077716  L 78.312609 59.077716  z \" clip-path=\"url(#p73713af50c)\" style=\"fill: #a1dab4; stroke: #444443; stroke-width: 0.5; stroke-linejoin: miter\" />\n   </g>\n   <g id=\"patch_28\">\n    <path d=\"M 86.318696 59.077716  L 94.324783 59.077716  L 94.324783 58.813384  L 86.318696 58.813384  z \" clip-path=\"url(#p73713af50c)\" style=\"fill: #a1dab4; stroke: #444443; stroke-width: 0.5; stroke-linejoin: miter\" />\n   </g>\n   <g id=\"patch_29\">\n    <path d=\"M 94.324783 59.342048  L 102.33087 59.342048  L 102.33087 59.342048  L 94.324783 59.342048  z \" clip-path=\"url(#p73713af50c)\" style=\"fill: #a1dab4; stroke: #444443; stroke-width: 0.5; stroke-linejoin: miter\" />\n   </g>\n   <g id=\"patch_30\">\n    <path d=\"M 102.33087 60.135043  L 110.336957 60.135043  L 110.336957 60.135043  L 102.33087 60.135043  z \" clip-path=\"url(#p73713af50c)\" style=\"fill: #a1dab4; stroke: #444443; stroke-width: 0.5; stroke-linejoin: miter\" />\n   </g>\n   <g id=\"patch_31\">\n    <path d=\"M 110.336957 59.870711  L 118.343043 59.870711  L 118.343043 59.60638  L 110.336957 59.60638  z \" clip-path=\"url(#p73713af50c)\" style=\"fill: #a1dab4; stroke: #444443; stroke-width: 0.5; stroke-linejoin: miter\" />\n   </g>\n   <g id=\"patch_32\">\n    <path d=\"M 118.343043 60.135043  L 126.34913 60.135043  L 126.34913 60.135043  L 118.343043 60.135043  z \" clip-path=\"url(#p73713af50c)\" style=\"fill: #a1dab4; stroke: #444443; stroke-width: 0.5; stroke-linejoin: miter\" />\n   </g>\n   <g id=\"patch_33\">\n    <path d=\"M 126.34913 60.135043  L 134.355217 60.135043  L 134.355217 60.135043  L 126.34913 60.135043  z \" clip-path=\"url(#p73713af50c)\" style=\"fill: #a1dab4; stroke: #444443; stroke-width: 0.5; stroke-linejoin: miter\" />\n   </g>\n   <g id=\"patch_34\">\n    <path d=\"M 134.355217 60.135043  L 142.361304 60.135043  L 142.361304 60.135043  L 134.355217 60.135043  z \" clip-path=\"url(#p73713af50c)\" style=\"fill: #a1dab4; stroke: #444443; stroke-width: 0.5; stroke-linejoin: miter\" />\n   </g>\n   <g id=\"patch_35\">\n    <path d=\"M 142.361304 60.399375  L 150.367391 60.399375  L 150.367391 60.399375  L 142.361304 60.399375  z \" clip-path=\"url(#p73713af50c)\" style=\"fill: #a1dab4; stroke: #444443; stroke-width: 0.5; stroke-linejoin: miter\" />\n   </g>\n   <g id=\"patch_36\">\n    <path d=\"M 150.367391 59.870711  L 158.373478 59.870711  L 158.373478 59.870711  L 150.367391 59.870711  z \" clip-path=\"url(#p73713af50c)\" style=\"fill: #a1dab4; stroke: #444443; stroke-width: 0.5; stroke-linejoin: miter\" />\n   </g>\n   <g id=\"patch_37\">\n    <path d=\"M 158.373478 60.135043  L 166.379565 60.135043  L 166.379565 60.135043  L 158.373478 60.135043  z \" clip-path=\"url(#p73713af50c)\" style=\"fill: #a1dab4; stroke: #444443; stroke-width: 0.5; stroke-linejoin: miter\" />\n   </g>\n   <g id=\"patch_38\">\n    <path d=\"M 166.379565 60.399375  L 174.385652 60.399375  L 174.385652 60.399375  L 166.379565 60.399375  z \" clip-path=\"url(#p73713af50c)\" style=\"fill: #a1dab4; stroke: #444443; stroke-width: 0.5; stroke-linejoin: miter\" />\n   </g>\n   <g id=\"patch_39\">\n    <path d=\"M 174.385652 60.399375  L 182.391739 60.399375  L 182.391739 60.399375  L 174.385652 60.399375  z \" clip-path=\"url(#p73713af50c)\" style=\"fill: #a1dab4; stroke: #444443; stroke-width: 0.5; stroke-linejoin: miter\" />\n   </g>\n   <g id=\"patch_40\">\n    <path d=\"M 182.391739 60.135043  L 190.397826 60.135043  L 190.397826 60.135043  L 182.391739 60.135043  z \" clip-path=\"url(#p73713af50c)\" style=\"fill: #a1dab4; stroke: #444443; stroke-width: 0.5; stroke-linejoin: miter\" />\n   </g>\n   <g id=\"patch_41\">\n    <path d=\"M 49.914942 61.230975  L 46.600422 69.546975  L 53.229462 69.546975  z \" style=\"fill: #444443\" />\n   </g>\n   <g id=\"matplotlib.axis_1\">\n    <g id=\"xtick_1\">\n     <g id=\"line2d_1\">\n      <defs>\n       <path id=\"m36f5a2c77e\" d=\"M 0 0  L 0 3.5  \" style=\"stroke: #000000; stroke-width: 0.3\" />\n      </defs>\n      <g>\n       <use xlink:href=\"#m36f5a2c77e\" x=\"38.282174\" y=\"60.399375\" style=\"stroke: #000000; stroke-width: 0.3\" />\n      </g>\n     </g>\n     <g id=\"text_1\">\n      \n      <g style=\"fill: #444443\" transform=\"translate(35.737174 77.978125) scale(0.08 -0.08)\">\n       <defs>\n        <path id=\"DejaVuSans-30\" d=\"M 2034 4250  Q 1547 4250 1301 3770  Q 1056 3291 1056 2328  Q 1056 1369 1301 889  Q 1547 409 2034 409  Q 2525 409 2770 889  Q 3016 1369 3016 2328  Q 3016 3291 2770 3770  Q 2525 4250 2034 4250  z M 2034 4750  Q 2819 4750 3233 4129  Q 3647 3509 3647 2328  Q 3647 1150 3233 529  Q 2819 -91 2034 -91  Q 1250 -91 836 529  Q 422 1150 422 2328  Q 422 3509 836 4129  Q 1250 4750 2034 4750  z \" transform=\"scale(0.015625)\" />\n       </defs>\n       <use xlink:href=\"#DejaVuSans-30\" />\n      </g>\n     </g>\n    </g>\n    <g id=\"xtick_2\">\n     <g id=\"line2d_2\">\n      <g>\n       <use xlink:href=\"#m36f5a2c77e\" x=\"190.397826\" y=\"60.399375\" style=\"stroke: #000000; stroke-width: 0.3\" />\n      </g>\n     </g>\n     <g id=\"text_2\">\n      \n      <g style=\"fill: #444443\" transform=\"translate(180.217826 77.978125) scale(0.08 -0.08)\">\n       <defs>\n        <path id=\"DejaVuSans-34\" d=\"M 2419 4116  L 825 1625  L 2419 1625  L 2419 4116  z M 2253 4666  L 3047 4666  L 3047 1625  L 3713 1625  L 3713 1100  L 3047 1100  L 3047 0  L 2419 0  L 2419 1100  L 313 1100  L 313 1709  L 2253 4666  z \" transform=\"scale(0.015625)\" />\n        <path id=\"DejaVuSans-35\" d=\"M 691 4666  L 3169 4666  L 3169 4134  L 1269 4134  L 1269 2991  Q 1406 3038 1543 3061  Q 1681 3084 1819 3084  Q 2600 3084 3056 2656  Q 3513 2228 3513 1497  Q 3513 744 3044 326  Q 2575 -91 1722 -91  Q 1428 -91 1123 -41  Q 819 9 494 109  L 494 744  Q 775 591 1075 516  Q 1375 441 1709 441  Q 2250 441 2565 725  Q 2881 1009 2881 1497  Q 2881 1984 2565 2268  Q 2250 2553 1709 2553  Q 1456 2553 1204 2497  Q 953 2441 691 2322  L 691 4666  z \" transform=\"scale(0.015625)\" />\n        <path id=\"DejaVuSans-33\" d=\"M 2597 2516  Q 3050 2419 3304 2112  Q 3559 1806 3559 1356  Q 3559 666 3084 287  Q 2609 -91 1734 -91  Q 1441 -91 1130 -33  Q 819 25 488 141  L 488 750  Q 750 597 1062 519  Q 1375 441 1716 441  Q 2309 441 2620 675  Q 2931 909 2931 1356  Q 2931 1769 2642 2001  Q 2353 2234 1838 2234  L 1294 2234  L 1294 2753  L 1863 2753  Q 2328 2753 2575 2939  Q 2822 3125 2822 3475  Q 2822 3834 2567 4026  Q 2313 4219 1838 4219  Q 1578 4219 1281 4162  Q 984 4106 628 3988  L 628 4550  Q 988 4650 1302 4700  Q 1616 4750 1894 4750  Q 2613 4750 3031 4423  Q 3450 4097 3450 3541  Q 3450 3153 3228 2886  Q 3006 2619 2597 2516  z \" transform=\"scale(0.015625)\" />\n        <path id=\"DejaVuSans-31\" d=\"M 794 531  L 1825 531  L 1825 4091  L 703 3866  L 703 4441  L 1819 4666  L 2450 4666  L 2450 531  L 3481 531  L 3481 0  L 794 0  L 794 531  z \" transform=\"scale(0.015625)\" />\n       </defs>\n       <use xlink:href=\"#DejaVuSans-34\" />\n       <use xlink:href=\"#DejaVuSans-35\" x=\"63.623047\" />\n       <use xlink:href=\"#DejaVuSans-33\" x=\"127.246094\" />\n       <use xlink:href=\"#DejaVuSans-31\" x=\"190.869141\" />\n      </g>\n     </g>\n    </g>\n   </g>\n   <g id=\"matplotlib.axis_2\">\n    <g id=\"ytick_1\">\n     <g id=\"line2d_3\">\n      <defs>\n       <path id=\"mc03e2f521e\" d=\"M 0 0  L -3.5 0  \" style=\"stroke: #000000; stroke-width: 0.3\" />\n      </defs>\n      <g>\n       <use xlink:href=\"#mc03e2f521e\" x=\"22.27\" y=\"60.399375\" style=\"stroke: #000000; stroke-width: 0.3\" />\n      </g>\n     </g>\n     <g id=\"text_3\">\n      \n      <g style=\"fill: #444443\" transform=\"translate(10.18 63.43875) scale(0.08 -0.08)\">\n       <use xlink:href=\"#DejaVuSans-30\" />\n      </g>\n     </g>\n    </g>\n    <g id=\"ytick_2\">\n     <g id=\"line2d_4\">\n      <g>\n       <use xlink:href=\"#mc03e2f521e\" x=\"22.27\" y=\"3.039375\" style=\"stroke: #000000; stroke-width: 0.3\" />\n      </g>\n     </g>\n     <g id=\"text_4\">\n      \n      <g style=\"fill: #444443\" transform=\"translate(0 6.07875) scale(0.08 -0.08)\">\n       <defs>\n        <path id=\"DejaVuSans-32\" d=\"M 1228 531  L 3431 531  L 3431 0  L 469 0  L 469 531  Q 828 903 1448 1529  Q 2069 2156 2228 2338  Q 2531 2678 2651 2914  Q 2772 3150 2772 3378  Q 2772 3750 2511 3984  Q 2250 4219 1831 4219  Q 1534 4219 1204 4116  Q 875 4013 500 3803  L 500 4441  Q 881 4594 1212 4672  Q 1544 4750 1819 4750  Q 2544 4750 2975 4387  Q 3406 4025 3406 3419  Q 3406 3131 3298 2873  Q 3191 2616 2906 2266  Q 2828 2175 2409 1742  Q 1991 1309 1228 531  z \" transform=\"scale(0.015625)\" />\n        <path id=\"DejaVuSans-37\" d=\"M 525 4666  L 3525 4666  L 3525 4397  L 1831 0  L 1172 0  L 2766 4134  L 525 4134  L 525 4666  z \" transform=\"scale(0.015625)\" />\n       </defs>\n       <use xlink:href=\"#DejaVuSans-32\" />\n       <use xlink:href=\"#DejaVuSans-31\" x=\"63.623047\" />\n       <use xlink:href=\"#DejaVuSans-37\" x=\"127.246094\" />\n      </g>\n     </g>\n    </g>\n   </g>\n   <g id=\"patch_42\">\n    <path d=\"M 22.27 60.399375  L 22.27 0.171375  \" style=\"fill: none; stroke: #444443; stroke-width: 0.3; stroke-linejoin: miter; stroke-linecap: square\" />\n   </g>\n   <g id=\"patch_43\">\n    <path d=\"M 22.27 60.399375  L 206.41 60.399375  \" style=\"fill: none; stroke: #444443; stroke-width: 0.3; stroke-linejoin: miter; stroke-linecap: square\" />\n   </g>\n  </g>\n </g>\n <defs>\n  <clipPath id=\"p73713af50c\">\n   <rect x=\"22.27\" y=\"0.171375\" width=\"184.14\" height=\"60.228\" />\n  </clipPath>\n </defs>\n</svg></g>\n\n<g id=\"node2\" class=\"node\">\n<title>node2</title>\n<svg width=\"150px\" height=\"36px\" viewBox=\"0 0 201.32 48.681875\" version=\"1.1\" preserveAspectRatio=\"xMinYMin meet\" x=\"194\" y=\"-153\">\n <metadata>\n  <rdf:RDF>\n   <ns2:Work>\n    <dc:type rdf:resource=\"http://purl.org/dc/dcmitype/StillImage\" />\n    <dc:date>2023-02-23T18:21:55.663147</dc:date>\n    <dc:format>image/svg+xml</dc:format>\n    <dc:creator>\n     <ns2:Agent>\n      <dc:title>Matplotlib v3.6.2, https://matplotlib.org/</dc:title>\n     </ns2:Agent>\n    </dc:creator>\n   </ns2:Work>\n  </rdf:RDF>\n </metadata>\n <defs>\n  <style type=\"text/css\">*{stroke-linejoin: round; stroke-linecap: butt}</style>\n </defs>\n <g id=\"figure_1\">\n  <g id=\"patch_1\">\n   <path d=\"M 0 48.681875  L 201.32 48.681875  L 201.32 0  L 0 0  z \" style=\"fill: #ffffff\" />\n  </g>\n  <g id=\"axes_1\">\n   <g id=\"patch_2\">\n    <path d=\"M 17.18 29.439375  L 201.32 29.439375  L 201.32 1.719375  L 17.18 1.719375  z \" style=\"fill: #ffffff\" />\n   </g>\n   <g id=\"patch_3\">\n    <path d=\"M 33.192174 29.439375  L 41.198261 29.439375  L 41.198261 28.825422  L 33.192174 28.825422  z \" clip-path=\"url(#p9dedaeb34c)\" style=\"fill: #fefebb; stroke: #444443; stroke-width: 0.5; stroke-linejoin: miter\" />\n   </g>\n   <g id=\"patch_4\">\n    <path d=\"M 41.198261 29.439375  L 49.204348 29.439375  L 49.204348 29.439375  L 41.198261 29.439375  z \" clip-path=\"url(#p9dedaeb34c)\" style=\"fill: #fefebb; stroke: #444443; stroke-width: 0.5; stroke-linejoin: miter\" />\n   </g>\n   <g id=\"patch_5\">\n    <path d=\"M 49.204348 29.439375  L 57.210435 29.439375  L 57.210435 29.439375  L 49.204348 29.439375  z \" clip-path=\"url(#p9dedaeb34c)\" style=\"fill: #fefebb; stroke: #444443; stroke-width: 0.5; stroke-linejoin: miter\" />\n   </g>\n   <g id=\"patch_6\">\n    <path d=\"M 57.210435 29.439375  L 65.216522 29.439375  L 65.216522 29.439375  L 57.210435 29.439375  z \" clip-path=\"url(#p9dedaeb34c)\" style=\"fill: #fefebb; stroke: #444443; stroke-width: 0.5; stroke-linejoin: miter\" />\n   </g>\n   <g id=\"patch_7\">\n    <path d=\"M 65.216522 29.439375  L 73.222609 29.439375  L 73.222609 29.439375  L 65.216522 29.439375  z \" clip-path=\"url(#p9dedaeb34c)\" style=\"fill: #fefebb; stroke: #444443; stroke-width: 0.5; stroke-linejoin: miter\" />\n   </g>\n   <g id=\"patch_8\">\n    <path d=\"M 73.222609 29.439375  L 81.228696 29.439375  L 81.228696 29.439375  L 73.222609 29.439375  z \" clip-path=\"url(#p9dedaeb34c)\" style=\"fill: #fefebb; stroke: #444443; stroke-width: 0.5; stroke-linejoin: miter\" />\n   </g>\n   <g id=\"patch_9\">\n    <path d=\"M 81.228696 29.439375  L 89.234783 29.439375  L 89.234783 19.923096  L 81.228696 19.923096  z \" clip-path=\"url(#p9dedaeb34c)\" style=\"fill: #fefebb; stroke: #444443; stroke-width: 0.5; stroke-linejoin: miter\" />\n   </g>\n   <g id=\"patch_10\">\n    <path d=\"M 89.234783 29.439375  L 97.24087 29.439375  L 97.24087 29.439375  L 89.234783 29.439375  z \" clip-path=\"url(#p9dedaeb34c)\" style=\"fill: #fefebb; stroke: #444443; stroke-width: 0.5; stroke-linejoin: miter\" />\n   </g>\n   <g id=\"patch_11\">\n    <path d=\"M 97.24087 29.439375  L 105.246957 29.439375  L 105.246957 29.439375  L 97.24087 29.439375  z \" clip-path=\"url(#p9dedaeb34c)\" style=\"fill: #fefebb; stroke: #444443; stroke-width: 0.5; stroke-linejoin: miter\" />\n   </g>\n   <g id=\"patch_12\">\n    <path d=\"M 105.246957 29.439375  L 113.253043 29.439375  L 113.253043 29.439375  L 105.246957 29.439375  z \" clip-path=\"url(#p9dedaeb34c)\" style=\"fill: #fefebb; stroke: #444443; stroke-width: 0.5; stroke-linejoin: miter\" />\n   </g>\n   <g id=\"patch_13\">\n    <path d=\"M 113.253043 29.439375  L 121.25913 29.439375  L 121.25913 29.439375  L 113.253043 29.439375  z \" clip-path=\"url(#p9dedaeb34c)\" style=\"fill: #fefebb; stroke: #444443; stroke-width: 0.5; stroke-linejoin: miter\" />\n   </g>\n   <g id=\"patch_14\">\n    <path d=\"M 121.25913 29.439375  L 129.265217 29.439375  L 129.265217 29.439375  L 121.25913 29.439375  z \" clip-path=\"url(#p9dedaeb34c)\" style=\"fill: #fefebb; stroke: #444443; stroke-width: 0.5; stroke-linejoin: miter\" />\n   </g>\n   <g id=\"patch_15\">\n    <path d=\"M 129.265217 29.439375  L 137.271304 29.439375  L 137.271304 29.132398  L 129.265217 29.132398  z \" clip-path=\"url(#p9dedaeb34c)\" style=\"fill: #fefebb; stroke: #444443; stroke-width: 0.5; stroke-linejoin: miter\" />\n   </g>\n   <g id=\"patch_16\">\n    <path d=\"M 137.271304 29.439375  L 145.277391 29.439375  L 145.277391 29.439375  L 137.271304 29.439375  z \" clip-path=\"url(#p9dedaeb34c)\" style=\"fill: #fefebb; stroke: #444443; stroke-width: 0.5; stroke-linejoin: miter\" />\n   </g>\n   <g id=\"patch_17\">\n    <path d=\"M 145.277391 29.439375  L 153.283478 29.439375  L 153.283478 29.439375  L 145.277391 29.439375  z \" clip-path=\"url(#p9dedaeb34c)\" style=\"fill: #fefebb; stroke: #444443; stroke-width: 0.5; stroke-linejoin: miter\" />\n   </g>\n   <g id=\"patch_18\">\n    <path d=\"M 153.283478 29.439375  L 161.289565 29.439375  L 161.289565 29.439375  L 153.283478 29.439375  z \" clip-path=\"url(#p9dedaeb34c)\" style=\"fill: #fefebb; stroke: #444443; stroke-width: 0.5; stroke-linejoin: miter\" />\n   </g>\n   <g id=\"patch_19\">\n    <path d=\"M 161.289565 29.439375  L 169.295652 29.439375  L 169.295652 29.439375  L 161.289565 29.439375  z \" clip-path=\"url(#p9dedaeb34c)\" style=\"fill: #fefebb; stroke: #444443; stroke-width: 0.5; stroke-linejoin: miter\" />\n   </g>\n   <g id=\"patch_20\">\n    <path d=\"M 169.295652 29.439375  L 177.301739 29.439375  L 177.301739 29.439375  L 169.295652 29.439375  z \" clip-path=\"url(#p9dedaeb34c)\" style=\"fill: #fefebb; stroke: #444443; stroke-width: 0.5; stroke-linejoin: miter\" />\n   </g>\n   <g id=\"patch_21\">\n    <path d=\"M 177.301739 29.439375  L 185.307826 29.439375  L 185.307826 27.904491  L 177.301739 27.904491  z \" clip-path=\"url(#p9dedaeb34c)\" style=\"fill: #fefebb; stroke: #444443; stroke-width: 0.5; stroke-linejoin: miter\" />\n   </g>\n   <g id=\"patch_22\">\n    <path d=\"M 33.192174 28.825422  L 41.198261 28.825422  L 41.198261 28.211468  L 33.192174 28.211468  z \" clip-path=\"url(#p9dedaeb34c)\" style=\"fill: #a1dab4; stroke: #444443; stroke-width: 0.5; stroke-linejoin: miter\" />\n   </g>\n   <g id=\"patch_23\">\n    <path d=\"M 41.198261 29.439375  L 49.204348 29.439375  L 49.204348 29.439375  L 41.198261 29.439375  z \" clip-path=\"url(#p9dedaeb34c)\" style=\"fill: #a1dab4; stroke: #444443; stroke-width: 0.5; stroke-linejoin: miter\" />\n   </g>\n   <g id=\"patch_24\">\n    <path d=\"M 49.204348 29.439375  L 57.210435 29.439375  L 57.210435 29.439375  L 49.204348 29.439375  z \" clip-path=\"url(#p9dedaeb34c)\" style=\"fill: #a1dab4; stroke: #444443; stroke-width: 0.5; stroke-linejoin: miter\" />\n   </g>\n   <g id=\"patch_25\">\n    <path d=\"M 57.210435 29.439375  L 65.216522 29.439375  L 65.216522 29.439375  L 57.210435 29.439375  z \" clip-path=\"url(#p9dedaeb34c)\" style=\"fill: #a1dab4; stroke: #444443; stroke-width: 0.5; stroke-linejoin: miter\" />\n   </g>\n   <g id=\"patch_26\">\n    <path d=\"M 65.216522 29.439375  L 73.222609 29.439375  L 73.222609 29.439375  L 65.216522 29.439375  z \" clip-path=\"url(#p9dedaeb34c)\" style=\"fill: #a1dab4; stroke: #444443; stroke-width: 0.5; stroke-linejoin: miter\" />\n   </g>\n   <g id=\"patch_27\">\n    <path d=\"M 73.222609 29.439375  L 81.228696 29.439375  L 81.228696 29.439375  L 73.222609 29.439375  z \" clip-path=\"url(#p9dedaeb34c)\" style=\"fill: #a1dab4; stroke: #444443; stroke-width: 0.5; stroke-linejoin: miter\" />\n   </g>\n   <g id=\"patch_28\">\n    <path d=\"M 81.228696 19.923096  L 89.234783 19.923096  L 89.234783 3.039375  L 81.228696 3.039375  z \" clip-path=\"url(#p9dedaeb34c)\" style=\"fill: #a1dab4; stroke: #444443; stroke-width: 0.5; stroke-linejoin: miter\" />\n   </g>\n   <g id=\"patch_29\">\n    <path d=\"M 89.234783 29.439375  L 97.24087 29.439375  L 97.24087 29.439375  L 89.234783 29.439375  z \" clip-path=\"url(#p9dedaeb34c)\" style=\"fill: #a1dab4; stroke: #444443; stroke-width: 0.5; stroke-linejoin: miter\" />\n   </g>\n   <g id=\"patch_30\">\n    <path d=\"M 97.24087 29.439375  L 105.246957 29.439375  L 105.246957 29.439375  L 97.24087 29.439375  z \" clip-path=\"url(#p9dedaeb34c)\" style=\"fill: #a1dab4; stroke: #444443; stroke-width: 0.5; stroke-linejoin: miter\" />\n   </g>\n   <g id=\"patch_31\">\n    <path d=\"M 105.246957 29.439375  L 113.253043 29.439375  L 113.253043 29.439375  L 105.246957 29.439375  z \" clip-path=\"url(#p9dedaeb34c)\" style=\"fill: #a1dab4; stroke: #444443; stroke-width: 0.5; stroke-linejoin: miter\" />\n   </g>\n   <g id=\"patch_32\">\n    <path d=\"M 113.253043 29.439375  L 121.25913 29.439375  L 121.25913 29.439375  L 113.253043 29.439375  z \" clip-path=\"url(#p9dedaeb34c)\" style=\"fill: #a1dab4; stroke: #444443; stroke-width: 0.5; stroke-linejoin: miter\" />\n   </g>\n   <g id=\"patch_33\">\n    <path d=\"M 121.25913 29.439375  L 129.265217 29.439375  L 129.265217 29.439375  L 121.25913 29.439375  z \" clip-path=\"url(#p9dedaeb34c)\" style=\"fill: #a1dab4; stroke: #444443; stroke-width: 0.5; stroke-linejoin: miter\" />\n   </g>\n   <g id=\"patch_34\">\n    <path d=\"M 129.265217 29.132398  L 137.271304 29.132398  L 137.271304 11.634724  L 129.265217 11.634724  z \" clip-path=\"url(#p9dedaeb34c)\" style=\"fill: #a1dab4; stroke: #444443; stroke-width: 0.5; stroke-linejoin: miter\" />\n   </g>\n   <g id=\"patch_35\">\n    <path d=\"M 137.271304 29.439375  L 145.277391 29.439375  L 145.277391 29.439375  L 137.271304 29.439375  z \" clip-path=\"url(#p9dedaeb34c)\" style=\"fill: #a1dab4; stroke: #444443; stroke-width: 0.5; stroke-linejoin: miter\" />\n   </g>\n   <g id=\"patch_36\">\n    <path d=\"M 145.277391 29.439375  L 153.283478 29.439375  L 153.283478 29.439375  L 145.277391 29.439375  z \" clip-path=\"url(#p9dedaeb34c)\" style=\"fill: #a1dab4; stroke: #444443; stroke-width: 0.5; stroke-linejoin: miter\" />\n   </g>\n   <g id=\"patch_37\">\n    <path d=\"M 153.283478 29.439375  L 161.289565 29.439375  L 161.289565 29.439375  L 153.283478 29.439375  z \" clip-path=\"url(#p9dedaeb34c)\" style=\"fill: #a1dab4; stroke: #444443; stroke-width: 0.5; stroke-linejoin: miter\" />\n   </g>\n   <g id=\"patch_38\">\n    <path d=\"M 161.289565 29.439375  L 169.295652 29.439375  L 169.295652 29.439375  L 161.289565 29.439375  z \" clip-path=\"url(#p9dedaeb34c)\" style=\"fill: #a1dab4; stroke: #444443; stroke-width: 0.5; stroke-linejoin: miter\" />\n   </g>\n   <g id=\"patch_39\">\n    <path d=\"M 169.295652 29.439375  L 177.301739 29.439375  L 177.301739 29.439375  L 169.295652 29.439375  z \" clip-path=\"url(#p9dedaeb34c)\" style=\"fill: #a1dab4; stroke: #444443; stroke-width: 0.5; stroke-linejoin: miter\" />\n   </g>\n   <g id=\"patch_40\">\n    <path d=\"M 177.301739 27.904491  L 185.307826 27.904491  L 185.307826 15.318445  L 177.301739 15.318445  z \" clip-path=\"url(#p9dedaeb34c)\" style=\"fill: #a1dab4; stroke: #444443; stroke-width: 0.5; stroke-linejoin: miter\" />\n   </g>\n   <g id=\"patch_41\">\n    <path d=\"M 109.25 30.270975  L 105.93548 38.586975  L 112.56452 38.586975  z \" style=\"fill: #444443\" />\n   </g>\n   <g id=\"matplotlib.axis_1\">\n    <g id=\"xtick_1\">\n     <g id=\"line2d_1\">\n      <defs>\n       <path id=\"m76edffce7f\" d=\"M 0 0  L 0 3.5  \" style=\"stroke: #000000; stroke-width: 0.3\" />\n      </defs>\n      <g>\n       <use xlink:href=\"#m76edffce7f\" x=\"33.192174\" y=\"29.439375\" style=\"stroke: #000000; stroke-width: 0.3\" />\n      </g>\n     </g>\n     <g id=\"text_1\">\n      \n      <g style=\"fill: #444443\" transform=\"translate(26.830924 47.018125) scale(0.08 -0.08)\">\n       <defs>\n        <path id=\"DejaVuSans-30\" d=\"M 2034 4250  Q 1547 4250 1301 3770  Q 1056 3291 1056 2328  Q 1056 1369 1301 889  Q 1547 409 2034 409  Q 2525 409 2770 889  Q 3016 1369 3016 2328  Q 3016 3291 2770 3770  Q 2525 4250 2034 4250  z M 2034 4750  Q 2819 4750 3233 4129  Q 3647 3509 3647 2328  Q 3647 1150 3233 529  Q 2819 -91 2034 -91  Q 1250 -91 836 529  Q 422 1150 422 2328  Q 422 3509 836 4129  Q 1250 4750 2034 4750  z \" transform=\"scale(0.015625)\" />\n        <path id=\"DejaVuSans-2e\" d=\"M 684 794  L 1344 794  L 1344 0  L 684 0  L 684 794  z \" transform=\"scale(0.015625)\" />\n       </defs>\n       <use xlink:href=\"#DejaVuSans-30\" />\n       <use xlink:href=\"#DejaVuSans-2e\" x=\"63.623047\" />\n       <use xlink:href=\"#DejaVuSans-30\" x=\"95.410156\" />\n      </g>\n     </g>\n    </g>\n    <g id=\"xtick_2\">\n     <g id=\"line2d_2\">\n      <g>\n       <use xlink:href=\"#m76edffce7f\" x=\"109.25\" y=\"29.439375\" style=\"stroke: #000000; stroke-width: 0.3\" />\n      </g>\n     </g>\n     <g id=\"text_2\">\n      \n      <g style=\"fill: #444443\" transform=\"translate(102.88875 47.018125) scale(0.08 -0.08)\">\n       <defs>\n        <path id=\"DejaVuSans-31\" d=\"M 794 531  L 1825 531  L 1825 4091  L 703 3866  L 703 4441  L 1819 4666  L 2450 4666  L 2450 531  L 3481 531  L 3481 0  L 794 0  L 794 531  z \" transform=\"scale(0.015625)\" />\n        <path id=\"DejaVuSans-35\" d=\"M 691 4666  L 3169 4666  L 3169 4134  L 1269 4134  L 1269 2991  Q 1406 3038 1543 3061  Q 1681 3084 1819 3084  Q 2600 3084 3056 2656  Q 3513 2228 3513 1497  Q 3513 744 3044 326  Q 2575 -91 1722 -91  Q 1428 -91 1123 -41  Q 819 9 494 109  L 494 744  Q 775 591 1075 516  Q 1375 441 1709 441  Q 2250 441 2565 725  Q 2881 1009 2881 1497  Q 2881 1984 2565 2268  Q 2250 2553 1709 2553  Q 1456 2553 1204 2497  Q 953 2441 691 2322  L 691 4666  z \" transform=\"scale(0.015625)\" />\n       </defs>\n       <use xlink:href=\"#DejaVuSans-31\" />\n       <use xlink:href=\"#DejaVuSans-2e\" x=\"63.623047\" />\n       <use xlink:href=\"#DejaVuSans-35\" x=\"95.410156\" />\n      </g>\n     </g>\n    </g>\n    <g id=\"xtick_3\">\n     <g id=\"line2d_3\">\n      <g>\n       <use xlink:href=\"#m76edffce7f\" x=\"185.307826\" y=\"29.439375\" style=\"stroke: #000000; stroke-width: 0.3\" />\n      </g>\n     </g>\n     <g id=\"text_3\">\n      \n      <g style=\"fill: #444443\" transform=\"translate(178.946576 47.018125) scale(0.08 -0.08)\">\n       <defs>\n        <path id=\"DejaVuSans-33\" d=\"M 2597 2516  Q 3050 2419 3304 2112  Q 3559 1806 3559 1356  Q 3559 666 3084 287  Q 2609 -91 1734 -91  Q 1441 -91 1130 -33  Q 819 25 488 141  L 488 750  Q 750 597 1062 519  Q 1375 441 1716 441  Q 2309 441 2620 675  Q 2931 909 2931 1356  Q 2931 1769 2642 2001  Q 2353 2234 1838 2234  L 1294 2234  L 1294 2753  L 1863 2753  Q 2328 2753 2575 2939  Q 2822 3125 2822 3475  Q 2822 3834 2567 4026  Q 2313 4219 1838 4219  Q 1578 4219 1281 4162  Q 984 4106 628 3988  L 628 4550  Q 988 4650 1302 4700  Q 1616 4750 1894 4750  Q 2613 4750 3031 4423  Q 3450 4097 3450 3541  Q 3450 3153 3228 2886  Q 3006 2619 2597 2516  z \" transform=\"scale(0.015625)\" />\n       </defs>\n       <use xlink:href=\"#DejaVuSans-33\" />\n       <use xlink:href=\"#DejaVuSans-2e\" x=\"63.623047\" />\n       <use xlink:href=\"#DejaVuSans-30\" x=\"95.410156\" />\n      </g>\n     </g>\n    </g>\n   </g>\n   <g id=\"matplotlib.axis_2\">\n    <g id=\"ytick_1\">\n     <g id=\"line2d_4\">\n      <defs>\n       <path id=\"m448e4a4c71\" d=\"M 0 0  L -3.5 0  \" style=\"stroke: #000000; stroke-width: 0.3\" />\n      </defs>\n      <g>\n       <use xlink:href=\"#m448e4a4c71\" x=\"17.18\" y=\"29.439375\" style=\"stroke: #000000; stroke-width: 0.3\" />\n      </g>\n     </g>\n     <g id=\"text_4\">\n      \n      <g style=\"fill: #444443\" transform=\"translate(5.09 32.47875) scale(0.08 -0.08)\">\n       <use xlink:href=\"#DejaVuSans-30\" />\n      </g>\n     </g>\n    </g>\n    <g id=\"ytick_2\">\n     <g id=\"line2d_5\">\n      <g>\n       <use xlink:href=\"#m448e4a4c71\" x=\"17.18\" y=\"3.039375\" style=\"stroke: #000000; stroke-width: 0.3\" />\n      </g>\n     </g>\n     <g id=\"text_5\">\n      \n      <g style=\"fill: #444443\" transform=\"translate(0 6.07875) scale(0.08 -0.08)\">\n       <defs>\n        <path id=\"DejaVuSans-38\" d=\"M 2034 2216  Q 1584 2216 1326 1975  Q 1069 1734 1069 1313  Q 1069 891 1326 650  Q 1584 409 2034 409  Q 2484 409 2743 651  Q 3003 894 3003 1313  Q 3003 1734 2745 1975  Q 2488 2216 2034 2216  z M 1403 2484  Q 997 2584 770 2862  Q 544 3141 544 3541  Q 544 4100 942 4425  Q 1341 4750 2034 4750  Q 2731 4750 3128 4425  Q 3525 4100 3525 3541  Q 3525 3141 3298 2862  Q 3072 2584 2669 2484  Q 3125 2378 3379 2068  Q 3634 1759 3634 1313  Q 3634 634 3220 271  Q 2806 -91 2034 -91  Q 1263 -91 848 271  Q 434 634 434 1313  Q 434 1759 690 2068  Q 947 2378 1403 2484  z M 1172 3481  Q 1172 3119 1398 2916  Q 1625 2713 2034 2713  Q 2441 2713 2670 2916  Q 2900 3119 2900 3481  Q 2900 3844 2670 4047  Q 2441 4250 2034 4250  Q 1625 4250 1398 4047  Q 1172 3844 1172 3481  z \" transform=\"scale(0.015625)\" />\n        <path id=\"DejaVuSans-36\" d=\"M 2113 2584  Q 1688 2584 1439 2293  Q 1191 2003 1191 1497  Q 1191 994 1439 701  Q 1688 409 2113 409  Q 2538 409 2786 701  Q 3034 994 3034 1497  Q 3034 2003 2786 2293  Q 2538 2584 2113 2584  z M 3366 4563  L 3366 3988  Q 3128 4100 2886 4159  Q 2644 4219 2406 4219  Q 1781 4219 1451 3797  Q 1122 3375 1075 2522  Q 1259 2794 1537 2939  Q 1816 3084 2150 3084  Q 2853 3084 3261 2657  Q 3669 2231 3669 1497  Q 3669 778 3244 343  Q 2819 -91 2113 -91  Q 1303 -91 875 529  Q 447 1150 447 2328  Q 447 3434 972 4092  Q 1497 4750 2381 4750  Q 2619 4750 2861 4703  Q 3103 4656 3366 4563  z \" transform=\"scale(0.015625)\" />\n       </defs>\n       <use xlink:href=\"#DejaVuSans-38\" />\n       <use xlink:href=\"#DejaVuSans-36\" x=\"63.623047\" />\n      </g>\n     </g>\n    </g>\n   </g>\n   <g id=\"patch_42\">\n    <path d=\"M 17.18 29.439375  L 17.18 1.719375  \" style=\"fill: none; stroke: #444443; stroke-width: 0.3; stroke-linejoin: miter; stroke-linecap: square\" />\n   </g>\n   <g id=\"patch_43\">\n    <path d=\"M 17.18 29.439375  L 201.32 29.439375  \" style=\"fill: none; stroke: #444443; stroke-width: 0.3; stroke-linejoin: miter; stroke-linecap: square\" />\n   </g>\n  </g>\n </g>\n <defs>\n  <clipPath id=\"p9dedaeb34c\">\n   <rect x=\"17.18\" y=\"1.719375\" width=\"184.14\" height=\"27.72\" />\n  </clipPath>\n </defs>\n</svg></g>\n\n\n<g id=\"node4\" class=\"node\">\n<title>leaf5</title>\n<polygon fill=\"none\" stroke=\"#444443\" stroke-width=\"0\" points=\"68,-84 0,-84 0,0 68,0 68,-84\" />\n<svg width=\"60px\" height=\"76px\" viewBox=\"0 0 80.07994 102.071515\" version=\"1.1\" preserveAspectRatio=\"xMinYMin meet\" x=\"4\" y=\"-80\">\n <metadata>\n  <rdf:RDF>\n   <ns2:Work>\n    <dc:type rdf:resource=\"http://purl.org/dc/dcmitype/StillImage\" />\n    <dc:date>2023-02-23T18:21:55.814023</dc:date>\n    <dc:format>image/svg+xml</dc:format>\n    <dc:creator>\n     <ns2:Agent>\n      <dc:title>Matplotlib v3.6.2, https://matplotlib.org/</dc:title>\n     </ns2:Agent>\n    </dc:creator>\n   </ns2:Work>\n  </rdf:RDF>\n </metadata>\n <defs>\n  <style type=\"text/css\">*{stroke-linejoin: round; stroke-linecap: butt}</style>\n </defs>\n <g id=\"figure_1\">\n  <g id=\"patch_1\">\n   <path d=\"M -0 102.071515  L 80.07994 102.071515  L 80.07994 0  L -0 0  z \" style=\"fill: #ffffff\" />\n  </g>\n  <g id=\"axes_1\">\n   <g id=\"patch_2\">\n    <path d=\"M 80.07994 40.039971  C 80.07994 33.592924 78.522832 27.240242 75.541473 21.523958  C 72.560115 15.807673 68.241781 10.895123 62.954928 7.205463  C 57.668075 3.515802 51.567468 1.157042 45.173632 0.33044  C 38.779796 -0.496162 32.279902 0.233592 26.228545 2.457436  C 20.177187 4.681279 14.751512 8.334114 10.414455 13.104265  C 6.077398 17.874417 2.955923 23.622247 1.316363 29.857329  C -0.323196 36.092412 -0.432844 42.632223 0.996776 48.918764  C 2.426397 55.205305 5.353434 61.054545 9.528144 65.967406  L 40.03994 40.039971  L 80.07994 40.039971  z \" style=\"fill: #fefebb; stroke: #444443; stroke-width: 0.5; stroke-linejoin: miter\" />\n   </g>\n   <g id=\"patch_3\">\n    <path d=\"M 9.528144 65.967406  C 14.834482 72.211985 21.932086 76.679556 29.857297 78.763547  C 37.782508 80.847539 46.159648 80.449162 53.851332 77.622507  C 61.543016 74.795852 68.184637 69.67491 72.874445 62.954963  C 77.564253 56.235016 80.079939 48.23461 80.07994 40.039978  L 40.03994 40.039971  L 9.528144 65.967406  z \" style=\"fill: #a1dab4; stroke: #444443; stroke-width: 0.5; stroke-linejoin: miter\" />\n   </g>\n   <g id=\"text_1\">\n    \n    <g style=\"fill: #444443\" transform=\"translate(24.827831 90.121765) scale(0.09 -0.09)\">\n     <defs>\n      <path id=\"DejaVuSans-6e\" d=\"M 3513 2113  L 3513 0  L 2938 0  L 2938 2094  Q 2938 2591 2744 2837  Q 2550 3084 2163 3084  Q 1697 3084 1428 2787  Q 1159 2491 1159 1978  L 1159 0  L 581 0  L 581 3500  L 1159 3500  L 1159 2956  Q 1366 3272 1645 3428  Q 1925 3584 2291 3584  Q 2894 3584 3203 3211  Q 3513 2838 3513 2113  z \" transform=\"scale(0.015625)\" />\n      <path id=\"DejaVuSans-3d\" d=\"M 678 2906  L 4684 2906  L 4684 2381  L 678 2381  L 678 2906  z M 678 1631  L 4684 1631  L 4684 1100  L 678 1100  L 678 1631  z \" transform=\"scale(0.015625)\" />\n      <path id=\"DejaVuSans-32\" d=\"M 1228 531  L 3431 531  L 3431 0  L 469 0  L 469 531  Q 828 903 1448 1529  Q 2069 2156 2228 2338  Q 2531 2678 2651 2914  Q 2772 3150 2772 3378  Q 2772 3750 2511 3984  Q 2250 4219 1831 4219  Q 1534 4219 1204 4116  Q 875 4013 500 3803  L 500 4441  Q 881 4594 1212 4672  Q 1544 4750 1819 4750  Q 2544 4750 2975 4387  Q 3406 4025 3406 3419  Q 3406 3131 3298 2873  Q 3191 2616 2906 2266  Q 2828 2175 2409 1742  Q 1991 1309 1228 531  z \" transform=\"scale(0.015625)\" />\n      <path id=\"DejaVuSans-37\" d=\"M 525 4666  L 3525 4666  L 3525 4397  L 1831 0  L 1172 0  L 2766 4134  L 525 4134  L 525 4666  z \" transform=\"scale(0.015625)\" />\n     </defs>\n     <use xlink:href=\"#DejaVuSans-6e\" />\n     <use xlink:href=\"#DejaVuSans-3d\" x=\"63.378906\" />\n     <use xlink:href=\"#DejaVuSans-32\" x=\"147.167969\" />\n     <use xlink:href=\"#DejaVuSans-32\" x=\"210.791016\" />\n     <use xlink:href=\"#DejaVuSans-37\" x=\"274.414062\" />\n    </g>\n    \n    <g style=\"fill: #444443\" transform=\"translate(23.908143 100.199796) scale(0.09 -0.09)\">\n     <defs>\n      <path id=\"DejaVuSans-43\" d=\"M 4122 4306  L 4122 3641  Q 3803 3938 3442 4084  Q 3081 4231 2675 4231  Q 1875 4231 1450 3742  Q 1025 3253 1025 2328  Q 1025 1406 1450 917  Q 1875 428 2675 428  Q 3081 428 3442 575  Q 3803 722 4122 1019  L 4122 359  Q 3791 134 3420 21  Q 3050 -91 2638 -91  Q 1578 -91 968 557  Q 359 1206 359 2328  Q 359 3453 968 4101  Q 1578 4750 2638 4750  Q 3056 4750 3426 4639  Q 3797 4528 4122 4306  z \" transform=\"scale(0.015625)\" />\n      <path id=\"DejaVuSans-6c\" d=\"M 603 4863  L 1178 4863  L 1178 0  L 603 0  L 603 4863  z \" transform=\"scale(0.015625)\" />\n      <path id=\"DejaVuSans-61\" d=\"M 2194 1759  Q 1497 1759 1228 1600  Q 959 1441 959 1056  Q 959 750 1161 570  Q 1363 391 1709 391  Q 2188 391 2477 730  Q 2766 1069 2766 1631  L 2766 1759  L 2194 1759  z M 3341 1997  L 3341 0  L 2766 0  L 2766 531  Q 2569 213 2275 61  Q 1981 -91 1556 -91  Q 1019 -91 701 211  Q 384 513 384 1019  Q 384 1609 779 1909  Q 1175 2209 1959 2209  L 2766 2209  L 2766 2266  Q 2766 2663 2505 2880  Q 2244 3097 1772 3097  Q 1472 3097 1187 3025  Q 903 2953 641 2809  L 641 3341  Q 956 3463 1253 3523  Q 1550 3584 1831 3584  Q 2591 3584 2966 3190  Q 3341 2797 3341 1997  z \" transform=\"scale(0.015625)\" />\n      <path id=\"DejaVuSans-73\" d=\"M 2834 3397  L 2834 2853  Q 2591 2978 2328 3040  Q 2066 3103 1784 3103  Q 1356 3103 1142 2972  Q 928 2841 928 2578  Q 928 2378 1081 2264  Q 1234 2150 1697 2047  L 1894 2003  Q 2506 1872 2764 1633  Q 3022 1394 3022 966  Q 3022 478 2636 193  Q 2250 -91 1575 -91  Q 1294 -91 989 -36  Q 684 19 347 128  L 347 722  Q 666 556 975 473  Q 1284 391 1588 391  Q 1994 391 2212 530  Q 2431 669 2431 922  Q 2431 1156 2273 1281  Q 2116 1406 1581 1522  L 1381 1569  Q 847 1681 609 1914  Q 372 2147 372 2553  Q 372 3047 722 3315  Q 1072 3584 1716 3584  Q 2034 3584 2315 3537  Q 2597 3491 2834 3397  z \" transform=\"scale(0.015625)\" />\n      <path id=\"DejaVuSans-20\" transform=\"scale(0.015625)\" />\n      <path id=\"DejaVuSans-30\" d=\"M 2034 4250  Q 1547 4250 1301 3770  Q 1056 3291 1056 2328  Q 1056 1369 1301 889  Q 1547 409 2034 409  Q 2525 409 2770 889  Q 3016 1369 3016 2328  Q 3016 3291 2770 3770  Q 2525 4250 2034 4250  z M 2034 4750  Q 2819 4750 3233 4129  Q 3647 3509 3647 2328  Q 3647 1150 3233 529  Q 2819 -91 2034 -91  Q 1250 -91 836 529  Q 422 1150 422 2328  Q 422 3509 836 4129  Q 1250 4750 2034 4750  z \" transform=\"scale(0.015625)\" />\n     </defs>\n     <use xlink:href=\"#DejaVuSans-43\" />\n     <use xlink:href=\"#DejaVuSans-6c\" x=\"69.824219\" />\n     <use xlink:href=\"#DejaVuSans-61\" x=\"97.607422\" />\n     <use xlink:href=\"#DejaVuSans-73\" x=\"158.886719\" />\n     <use xlink:href=\"#DejaVuSans-73\" x=\"210.986328\" />\n     <use xlink:href=\"#DejaVuSans-20\" x=\"263.085938\" />\n     <use xlink:href=\"#DejaVuSans-30\" x=\"294.873047\" />\n    </g>\n   </g>\n  </g>\n </g>\n</svg></g>\n\n<g id=\"edge1\" class=\"edge\">\n<title>node1-&gt;leaf5</title>\n<path fill=\"none\" stroke=\"#444443\" stroke-width=\"0.3\" d=\"M72.98,-101.15C69.99,-96.68 66.88,-92.05 63.78,-87.42\" />\n<polygon fill=\"#444443\" stroke=\"#444443\" stroke-width=\"0.3\" points=\"65.05,-86.81 61.66,-84.27 62.73,-88.37 65.05,-86.81\" />\n</g>\n\n<g id=\"node5\" class=\"node\">\n<title>leaf6</title>\n<polygon fill=\"none\" stroke=\"#444443\" stroke-width=\"0\" points=\"150,-84 82,-84 82,0 150,0 150,-84\" />\n<svg width=\"60px\" height=\"76px\" viewBox=\"0 0 80.079994 102.071541\" version=\"1.1\" preserveAspectRatio=\"xMinYMin meet\" x=\"86\" y=\"-80\">\n <metadata>\n  <rdf:RDF>\n   <ns2:Work>\n    <dc:type rdf:resource=\"http://purl.org/dc/dcmitype/StillImage\" />\n    <dc:date>2023-02-23T18:21:55.847282</dc:date>\n    <dc:format>image/svg+xml</dc:format>\n    <dc:creator>\n     <ns2:Agent>\n      <dc:title>Matplotlib v3.6.2, https://matplotlib.org/</dc:title>\n     </ns2:Agent>\n    </dc:creator>\n   </ns2:Work>\n  </rdf:RDF>\n </metadata>\n <defs>\n  <style type=\"text/css\">*{stroke-linejoin: round; stroke-linecap: butt}</style>\n </defs>\n <g id=\"figure_1\">\n  <g id=\"patch_1\">\n   <path d=\"M 0 102.071541  L 80.079994 102.071541  L 80.079994 0  L 0 0  z \" style=\"fill: #ffffff\" />\n  </g>\n  <g id=\"axes_1\">\n   <g id=\"patch_2\">\n    <path d=\"M 80.079994 40.039997  C 80.079994 35.616304 79.346887 31.223036 77.910516 27.03903  C 76.474145 22.855025 74.354268 18.937836 71.637179 15.44692  C 68.920091 11.956004 65.643165 8.939382 61.939798 6.519851  C 58.23643 4.10032 54.157562 2.311163 49.869232 1.225211  C 45.580903 0.139258 41.1421 -0.228552 36.733516 0.136754  C 32.324932 0.50206 28.007209 1.595456 23.956108 3.372434  C 19.905008 5.149411 16.176256 7.585526 12.921639 10.581612  C 9.667022 13.577698 6.931309 17.092542 4.825864 20.983064  C 2.720419 24.873587 1.274203 29.086271 0.546087 33.449631  C -0.182029 37.812991 -0.182029 42.267006 0.546087 46.630366  C 1.274203 50.993726 2.72042 55.20641 4.825865 59.096932  C 6.931311 62.987454 9.667023 66.502298 12.92164 69.498383  C 16.176257 72.494469 19.905009 74.930585 23.95611 76.707562  C 28.00721 78.484539 32.324934 79.577935 36.733518 79.943241  C 41.142102 80.308546 45.580904 79.940736 49.869234 78.854784  C 54.157563 77.768831 58.236431 75.979673 61.939799 73.560142  L 40.039994 40.039997  L 80.079994 40.039997  z \" style=\"fill: #fefebb; stroke: #444443; stroke-width: 0.5; stroke-linejoin: miter\" />\n   </g>\n   <g id=\"patch_3\">\n    <path d=\"M 61.939799 73.560142  C 67.510508 69.920616 72.087054 64.949162 75.254123 59.09693  C 78.421192 53.244699 80.079994 46.69424 80.079994 40.039997  L 40.039994 40.039997  L 61.939799 73.560142  z \" style=\"fill: #a1dab4; stroke: #444443; stroke-width: 0.5; stroke-linejoin: miter\" />\n   </g>\n   <g id=\"text_1\">\n    \n    <g style=\"fill: #444443\" transform=\"translate(27.691009 90.121791) scale(0.09 -0.09)\">\n     <defs>\n      <path id=\"DejaVuSans-6e\" d=\"M 3513 2113  L 3513 0  L 2938 0  L 2938 2094  Q 2938 2591 2744 2837  Q 2550 3084 2163 3084  Q 1697 3084 1428 2787  Q 1159 2491 1159 1978  L 1159 0  L 581 0  L 581 3500  L 1159 3500  L 1159 2956  Q 1366 3272 1645 3428  Q 1925 3584 2291 3584  Q 2894 3584 3203 3211  Q 3513 2838 3513 2113  z \" transform=\"scale(0.015625)\" />\n      <path id=\"DejaVuSans-3d\" d=\"M 678 2906  L 4684 2906  L 4684 2381  L 678 2381  L 678 2906  z M 678 1631  L 4684 1631  L 4684 1100  L 678 1100  L 678 1631  z \" transform=\"scale(0.015625)\" />\n      <path id=\"DejaVuSans-37\" d=\"M 525 4666  L 3525 4666  L 3525 4397  L 1831 0  L 1172 0  L 2766 4134  L 525 4134  L 525 4666  z \" transform=\"scale(0.015625)\" />\n      <path id=\"DejaVuSans-39\" d=\"M 703 97  L 703 672  Q 941 559 1184 500  Q 1428 441 1663 441  Q 2288 441 2617 861  Q 2947 1281 2994 2138  Q 2813 1869 2534 1725  Q 2256 1581 1919 1581  Q 1219 1581 811 2004  Q 403 2428 403 3163  Q 403 3881 828 4315  Q 1253 4750 1959 4750  Q 2769 4750 3195 4129  Q 3622 3509 3622 2328  Q 3622 1225 3098 567  Q 2575 -91 1691 -91  Q 1453 -91 1209 -44  Q 966 3 703 97  z M 1959 2075  Q 2384 2075 2632 2365  Q 2881 2656 2881 3163  Q 2881 3666 2632 3958  Q 2384 4250 1959 4250  Q 1534 4250 1286 3958  Q 1038 3666 1038 3163  Q 1038 2656 1286 2365  Q 1534 2075 1959 2075  z \" transform=\"scale(0.015625)\" />\n     </defs>\n     <use xlink:href=\"#DejaVuSans-6e\" />\n     <use xlink:href=\"#DejaVuSans-3d\" x=\"63.378906\" />\n     <use xlink:href=\"#DejaVuSans-37\" x=\"147.167969\" />\n     <use xlink:href=\"#DejaVuSans-39\" x=\"210.791016\" />\n    </g>\n    \n    <g style=\"fill: #444443\" transform=\"translate(23.908197 100.199822) scale(0.09 -0.09)\">\n     <defs>\n      <path id=\"DejaVuSans-43\" d=\"M 4122 4306  L 4122 3641  Q 3803 3938 3442 4084  Q 3081 4231 2675 4231  Q 1875 4231 1450 3742  Q 1025 3253 1025 2328  Q 1025 1406 1450 917  Q 1875 428 2675 428  Q 3081 428 3442 575  Q 3803 722 4122 1019  L 4122 359  Q 3791 134 3420 21  Q 3050 -91 2638 -91  Q 1578 -91 968 557  Q 359 1206 359 2328  Q 359 3453 968 4101  Q 1578 4750 2638 4750  Q 3056 4750 3426 4639  Q 3797 4528 4122 4306  z \" transform=\"scale(0.015625)\" />\n      <path id=\"DejaVuSans-6c\" d=\"M 603 4863  L 1178 4863  L 1178 0  L 603 0  L 603 4863  z \" transform=\"scale(0.015625)\" />\n      <path id=\"DejaVuSans-61\" d=\"M 2194 1759  Q 1497 1759 1228 1600  Q 959 1441 959 1056  Q 959 750 1161 570  Q 1363 391 1709 391  Q 2188 391 2477 730  Q 2766 1069 2766 1631  L 2766 1759  L 2194 1759  z M 3341 1997  L 3341 0  L 2766 0  L 2766 531  Q 2569 213 2275 61  Q 1981 -91 1556 -91  Q 1019 -91 701 211  Q 384 513 384 1019  Q 384 1609 779 1909  Q 1175 2209 1959 2209  L 2766 2209  L 2766 2266  Q 2766 2663 2505 2880  Q 2244 3097 1772 3097  Q 1472 3097 1187 3025  Q 903 2953 641 2809  L 641 3341  Q 956 3463 1253 3523  Q 1550 3584 1831 3584  Q 2591 3584 2966 3190  Q 3341 2797 3341 1997  z \" transform=\"scale(0.015625)\" />\n      <path id=\"DejaVuSans-73\" d=\"M 2834 3397  L 2834 2853  Q 2591 2978 2328 3040  Q 2066 3103 1784 3103  Q 1356 3103 1142 2972  Q 928 2841 928 2578  Q 928 2378 1081 2264  Q 1234 2150 1697 2047  L 1894 2003  Q 2506 1872 2764 1633  Q 3022 1394 3022 966  Q 3022 478 2636 193  Q 2250 -91 1575 -91  Q 1294 -91 989 -36  Q 684 19 347 128  L 347 722  Q 666 556 975 473  Q 1284 391 1588 391  Q 1994 391 2212 530  Q 2431 669 2431 922  Q 2431 1156 2273 1281  Q 2116 1406 1581 1522  L 1381 1569  Q 847 1681 609 1914  Q 372 2147 372 2553  Q 372 3047 722 3315  Q 1072 3584 1716 3584  Q 2034 3584 2315 3537  Q 2597 3491 2834 3397  z \" transform=\"scale(0.015625)\" />\n      <path id=\"DejaVuSans-20\" transform=\"scale(0.015625)\" />\n      <path id=\"DejaVuSans-30\" d=\"M 2034 4250  Q 1547 4250 1301 3770  Q 1056 3291 1056 2328  Q 1056 1369 1301 889  Q 1547 409 2034 409  Q 2525 409 2770 889  Q 3016 1369 3016 2328  Q 3016 3291 2770 3770  Q 2525 4250 2034 4250  z M 2034 4750  Q 2819 4750 3233 4129  Q 3647 3509 3647 2328  Q 3647 1150 3233 529  Q 2819 -91 2034 -91  Q 1250 -91 836 529  Q 422 1150 422 2328  Q 422 3509 836 4129  Q 1250 4750 2034 4750  z \" transform=\"scale(0.015625)\" />\n     </defs>\n     <use xlink:href=\"#DejaVuSans-43\" />\n     <use xlink:href=\"#DejaVuSans-6c\" x=\"69.824219\" />\n     <use xlink:href=\"#DejaVuSans-61\" x=\"97.607422\" />\n     <use xlink:href=\"#DejaVuSans-73\" x=\"158.886719\" />\n     <use xlink:href=\"#DejaVuSans-73\" x=\"210.986328\" />\n     <use xlink:href=\"#DejaVuSans-20\" x=\"263.085938\" />\n     <use xlink:href=\"#DejaVuSans-30\" x=\"294.873047\" />\n    </g>\n   </g>\n  </g>\n </g>\n</svg></g>\n\n<g id=\"edge2\" class=\"edge\">\n<title>node1-&gt;leaf6</title>\n<path fill=\"none\" stroke=\"#444443\" stroke-width=\"0.3\" d=\"M102.58,-101.15C103.57,-96.86 104.6,-92.41 105.62,-87.97\" />\n<polygon fill=\"#444443\" stroke=\"#444443\" stroke-width=\"0.3\" points=\"106.93,-88.55 106.46,-84.33 104.2,-87.92 106.93,-88.55\" />\n</g>\n\n<g id=\"node6\" class=\"node\">\n<title>leaf3</title>\n<polygon fill=\"none\" stroke=\"#444443\" stroke-width=\"0\" points=\"264,-84 196,-84 196,0 264,0 264,-84\" />\n<svg width=\"60px\" height=\"76px\" viewBox=\"0 0 80.079995 102.071537\" version=\"1.1\" preserveAspectRatio=\"xMinYMin meet\" x=\"200\" y=\"-80\">\n <metadata>\n  <rdf:RDF>\n   <ns2:Work>\n    <dc:type rdf:resource=\"http://purl.org/dc/dcmitype/StillImage\" />\n    <dc:date>2023-02-23T18:21:55.877471</dc:date>\n    <dc:format>image/svg+xml</dc:format>\n    <dc:creator>\n     <ns2:Agent>\n      <dc:title>Matplotlib v3.6.2, https://matplotlib.org/</dc:title>\n     </ns2:Agent>\n    </dc:creator>\n   </ns2:Work>\n  </rdf:RDF>\n </metadata>\n <defs>\n  <style type=\"text/css\">*{stroke-linejoin: round; stroke-linecap: butt}</style>\n </defs>\n <g id=\"figure_1\">\n  <g id=\"patch_1\">\n   <path d=\"M 0 102.071537  L 80.079995 102.071537  L 80.079995 0  L 0 0  z \" style=\"fill: #ffffff\" />\n  </g>\n  <g id=\"axes_1\">\n   <g id=\"patch_2\">\n    <path d=\"M 80.079995 40.039994  C 80.079995 32.757457 78.093156 25.611071 74.334315 19.373567  C 70.575474 13.136064 65.185176 8.040668 58.746269 4.638343  C 52.307363 1.236017 45.060604 -0.346024 37.789579 0.063285  C 30.518554 0.472594 23.495132 2.857949 17.478751 6.961422  L 40.039995 40.039994  L 80.079995 40.039994  z \" style=\"fill: #fefebb; stroke: #444443; stroke-width: 0.5; stroke-linejoin: miter\" />\n   </g>\n   <g id=\"patch_3\">\n    <path d=\"M 17.478751 6.961422  C 11.777744 10.849795 7.177618 16.146757 4.126443 22.336367  C 1.075268 28.525976 -0.324567 35.400525 0.063286 42.290409  C 0.45114 49.180293 2.613666 55.854306 6.340229 61.662375  C 10.066791 67.470444 15.232336 72.217666 21.33372 75.441645  C 27.435105 78.665623 34.267583 80.258171 41.165647 80.064168  C 48.063712 79.870164 54.795882 77.89612 60.706421 74.334314  C 66.61696 70.772508 71.507526 65.742465 74.90176 59.734128  C 78.295994 53.725792 80.079995 46.940786 80.079995 40.039994  L 40.039995 40.039994  L 17.478751 6.961422  z \" style=\"fill: #a1dab4; stroke: #444443; stroke-width: 0.5; stroke-linejoin: miter\" />\n   </g>\n   <g id=\"text_1\">\n    \n    <g style=\"fill: #444443\" transform=\"translate(27.69101 90.121787) scale(0.09 -0.09)\">\n     <defs>\n      <path id=\"DejaVuSans-6e\" d=\"M 3513 2113  L 3513 0  L 2938 0  L 2938 2094  Q 2938 2591 2744 2837  Q 2550 3084 2163 3084  Q 1697 3084 1428 2787  Q 1159 2491 1159 1978  L 1159 0  L 581 0  L 581 3500  L 1159 3500  L 1159 2956  Q 1366 3272 1645 3428  Q 1925 3584 2291 3584  Q 2894 3584 3203 3211  Q 3513 2838 3513 2113  z \" transform=\"scale(0.015625)\" />\n      <path id=\"DejaVuSans-3d\" d=\"M 678 2906  L 4684 2906  L 4684 2381  L 678 2381  L 678 2906  z M 678 1631  L 4684 1631  L 4684 1100  L 678 1100  L 678 1631  z \" transform=\"scale(0.015625)\" />\n      <path id=\"DejaVuSans-39\" d=\"M 703 97  L 703 672  Q 941 559 1184 500  Q 1428 441 1663 441  Q 2288 441 2617 861  Q 2947 1281 2994 2138  Q 2813 1869 2534 1725  Q 2256 1581 1919 1581  Q 1219 1581 811 2004  Q 403 2428 403 3163  Q 403 3881 828 4315  Q 1253 4750 1959 4750  Q 2769 4750 3195 4129  Q 3622 3509 3622 2328  Q 3622 1225 3098 567  Q 2575 -91 1691 -91  Q 1453 -91 1209 -44  Q 966 3 703 97  z M 1959 2075  Q 2384 2075 2632 2365  Q 2881 2656 2881 3163  Q 2881 3666 2632 3958  Q 2384 4250 1959 4250  Q 1534 4250 1286 3958  Q 1038 3666 1038 3163  Q 1038 2656 1286 2365  Q 1534 2075 1959 2075  z \" transform=\"scale(0.015625)\" />\n      <path id=\"DejaVuSans-30\" d=\"M 2034 4250  Q 1547 4250 1301 3770  Q 1056 3291 1056 2328  Q 1056 1369 1301 889  Q 1547 409 2034 409  Q 2525 409 2770 889  Q 3016 1369 3016 2328  Q 3016 3291 2770 3770  Q 2525 4250 2034 4250  z M 2034 4750  Q 2819 4750 3233 4129  Q 3647 3509 3647 2328  Q 3647 1150 3233 529  Q 2819 -91 2034 -91  Q 1250 -91 836 529  Q 422 1150 422 2328  Q 422 3509 836 4129  Q 1250 4750 2034 4750  z \" transform=\"scale(0.015625)\" />\n     </defs>\n     <use xlink:href=\"#DejaVuSans-6e\" />\n     <use xlink:href=\"#DejaVuSans-3d\" x=\"63.378906\" />\n     <use xlink:href=\"#DejaVuSans-39\" x=\"147.167969\" />\n     <use xlink:href=\"#DejaVuSans-30\" x=\"210.791016\" />\n    </g>\n    \n    <g style=\"fill: #444443\" transform=\"translate(23.908198 100.199819) scale(0.09 -0.09)\">\n     <defs>\n      <path id=\"DejaVuSans-43\" d=\"M 4122 4306  L 4122 3641  Q 3803 3938 3442 4084  Q 3081 4231 2675 4231  Q 1875 4231 1450 3742  Q 1025 3253 1025 2328  Q 1025 1406 1450 917  Q 1875 428 2675 428  Q 3081 428 3442 575  Q 3803 722 4122 1019  L 4122 359  Q 3791 134 3420 21  Q 3050 -91 2638 -91  Q 1578 -91 968 557  Q 359 1206 359 2328  Q 359 3453 968 4101  Q 1578 4750 2638 4750  Q 3056 4750 3426 4639  Q 3797 4528 4122 4306  z \" transform=\"scale(0.015625)\" />\n      <path id=\"DejaVuSans-6c\" d=\"M 603 4863  L 1178 4863  L 1178 0  L 603 0  L 603 4863  z \" transform=\"scale(0.015625)\" />\n      <path id=\"DejaVuSans-61\" d=\"M 2194 1759  Q 1497 1759 1228 1600  Q 959 1441 959 1056  Q 959 750 1161 570  Q 1363 391 1709 391  Q 2188 391 2477 730  Q 2766 1069 2766 1631  L 2766 1759  L 2194 1759  z M 3341 1997  L 3341 0  L 2766 0  L 2766 531  Q 2569 213 2275 61  Q 1981 -91 1556 -91  Q 1019 -91 701 211  Q 384 513 384 1019  Q 384 1609 779 1909  Q 1175 2209 1959 2209  L 2766 2209  L 2766 2266  Q 2766 2663 2505 2880  Q 2244 3097 1772 3097  Q 1472 3097 1187 3025  Q 903 2953 641 2809  L 641 3341  Q 956 3463 1253 3523  Q 1550 3584 1831 3584  Q 2591 3584 2966 3190  Q 3341 2797 3341 1997  z \" transform=\"scale(0.015625)\" />\n      <path id=\"DejaVuSans-73\" d=\"M 2834 3397  L 2834 2853  Q 2591 2978 2328 3040  Q 2066 3103 1784 3103  Q 1356 3103 1142 2972  Q 928 2841 928 2578  Q 928 2378 1081 2264  Q 1234 2150 1697 2047  L 1894 2003  Q 2506 1872 2764 1633  Q 3022 1394 3022 966  Q 3022 478 2636 193  Q 2250 -91 1575 -91  Q 1294 -91 989 -36  Q 684 19 347 128  L 347 722  Q 666 556 975 473  Q 1284 391 1588 391  Q 1994 391 2212 530  Q 2431 669 2431 922  Q 2431 1156 2273 1281  Q 2116 1406 1581 1522  L 1381 1569  Q 847 1681 609 1914  Q 372 2147 372 2553  Q 372 3047 722 3315  Q 1072 3584 1716 3584  Q 2034 3584 2315 3537  Q 2597 3491 2834 3397  z \" transform=\"scale(0.015625)\" />\n      <path id=\"DejaVuSans-20\" transform=\"scale(0.015625)\" />\n      <path id=\"DejaVuSans-31\" d=\"M 794 531  L 1825 531  L 1825 4091  L 703 3866  L 703 4441  L 1819 4666  L 2450 4666  L 2450 531  L 3481 531  L 3481 0  L 794 0  L 794 531  z \" transform=\"scale(0.015625)\" />\n     </defs>\n     <use xlink:href=\"#DejaVuSans-43\" />\n     <use xlink:href=\"#DejaVuSans-6c\" x=\"69.824219\" />\n     <use xlink:href=\"#DejaVuSans-61\" x=\"97.607422\" />\n     <use xlink:href=\"#DejaVuSans-73\" x=\"158.886719\" />\n     <use xlink:href=\"#DejaVuSans-73\" x=\"210.986328\" />\n     <use xlink:href=\"#DejaVuSans-20\" x=\"263.085938\" />\n     <use xlink:href=\"#DejaVuSans-31\" x=\"294.873047\" />\n    </g>\n   </g>\n  </g>\n </g>\n</svg></g>\n\n<g id=\"edge4\" class=\"edge\">\n<title>node2-&gt;leaf3</title>\n<path fill=\"none\" stroke=\"#444443\" stroke-width=\"0.3\" d=\"M260.15,-113.35C256.85,-105.64 252.95,-96.56 249.08,-87.53\" />\n<polygon fill=\"#444443\" stroke=\"#444443\" stroke-width=\"0.3\" points=\"250.47,-87.21 247.61,-84.08 247.9,-88.31 250.47,-87.21\" />\n</g>\n\n<g id=\"node7\" class=\"node\">\n<title>leaf4</title>\n<polygon fill=\"none\" stroke=\"#444443\" stroke-width=\"0\" points=\"346,-84 278,-84 278,0 346,0 346,-84\" />\n<svg width=\"60px\" height=\"76px\" viewBox=\"0 0 80.079988 102.071541\" version=\"1.1\" preserveAspectRatio=\"xMinYMin meet\" x=\"282\" y=\"-80\">\n <metadata>\n  <rdf:RDF>\n   <ns2:Work>\n    <dc:type rdf:resource=\"http://purl.org/dc/dcmitype/StillImage\" />\n    <dc:date>2023-02-23T18:21:55.907877</dc:date>\n    <dc:format>image/svg+xml</dc:format>\n    <dc:creator>\n     <ns2:Agent>\n      <dc:title>Matplotlib v3.6.2, https://matplotlib.org/</dc:title>\n     </ns2:Agent>\n    </dc:creator>\n   </ns2:Work>\n  </rdf:RDF>\n </metadata>\n <defs>\n  <style type=\"text/css\">*{stroke-linejoin: round; stroke-linecap: butt}</style>\n </defs>\n <g id=\"figure_1\">\n  <g id=\"patch_1\">\n   <path d=\"M 0 102.071541  L 80.079988 102.071541  L 80.079988 -0  L 0 -0  z \" style=\"fill: #ffffff\" />\n  </g>\n  <g id=\"axes_1\">\n   <g id=\"patch_2\">\n    <path d=\"M 80.079988 40.039997  C 80.079988 37.401361 79.819159 34.769175 79.301307 32.181854  C 78.783456 29.594533 78.011113 27.064726 76.995552 24.629355  L 40.039988 40.039997  L 80.079988 40.039997  z \" style=\"fill: #fefebb; stroke: #444443; stroke-width: 0.5; stroke-linejoin: miter\" />\n   </g>\n   <g id=\"patch_3\">\n    <path d=\"M 76.995552 24.629355  C 75.099828 20.083305 72.381434 15.925835 68.977166 12.366159  C 65.572898 8.806483 61.540835 5.90533 57.08388 3.808693  C 52.626924 1.712057 47.821114 0.455707 42.90829 0.102866  C 37.995467 -0.249975 33.059443 0.306712 28.348614 1.744914  C 23.637785 3.183116 19.232519 5.478296 15.354499 8.514955  C 11.47648 11.551615 8.191868 15.277946 5.665953 19.506432  C 3.140038 23.734917 1.415914 28.393417 0.580342 33.247503  C -0.255229 38.10159 -0.187992 43.06845 0.778669 47.89814  C 1.74533 52.727829 3.594924 57.337952 6.234374 61.496513  C 8.873825 65.655075 12.258102 69.29113 16.2169 72.221701  C 20.175699 75.152273 24.641479 77.327366 29.389513 78.637523  C 34.137547 79.947679 39.08683 80.370549 43.988303 79.884851  C 48.889775 79.399154 53.659816 78.013175 58.058384 75.796661  C 62.456952 73.580147 66.409006 70.570913 69.715669 66.92039  C 73.022332 63.269868 75.627191 59.040337 77.399163 54.444637  C 79.171134 49.848938 80.079988 44.965475 80.079988 40.039997  L 40.039988 40.039997  L 76.995552 24.629355  z \" style=\"fill: #a1dab4; stroke: #444443; stroke-width: 0.5; stroke-linejoin: miter\" />\n   </g>\n   <g id=\"text_1\">\n    \n    <g style=\"fill: #444443\" transform=\"translate(24.827879 90.121791) scale(0.09 -0.09)\">\n     <defs>\n      <path id=\"DejaVuSans-6e\" d=\"M 3513 2113  L 3513 0  L 2938 0  L 2938 2094  Q 2938 2591 2744 2837  Q 2550 3084 2163 3084  Q 1697 3084 1428 2787  Q 1159 2491 1159 1978  L 1159 0  L 581 0  L 581 3500  L 1159 3500  L 1159 2956  Q 1366 3272 1645 3428  Q 1925 3584 2291 3584  Q 2894 3584 3203 3211  Q 3513 2838 3513 2113  z \" transform=\"scale(0.015625)\" />\n      <path id=\"DejaVuSans-3d\" d=\"M 678 2906  L 4684 2906  L 4684 2381  L 678 2381  L 678 2906  z M 678 1631  L 4684 1631  L 4684 1100  L 678 1100  L 678 1631  z \" transform=\"scale(0.015625)\" />\n      <path id=\"DejaVuSans-31\" d=\"M 794 531  L 1825 531  L 1825 4091  L 703 3866  L 703 4441  L 1819 4666  L 2450 4666  L 2450 531  L 3481 531  L 3481 0  L 794 0  L 794 531  z \" transform=\"scale(0.015625)\" />\n      <path id=\"DejaVuSans-30\" d=\"M 2034 4250  Q 1547 4250 1301 3770  Q 1056 3291 1056 2328  Q 1056 1369 1301 889  Q 1547 409 2034 409  Q 2525 409 2770 889  Q 3016 1369 3016 2328  Q 3016 3291 2770 3770  Q 2525 4250 2034 4250  z M 2034 4750  Q 2819 4750 3233 4129  Q 3647 3509 3647 2328  Q 3647 1150 3233 529  Q 2819 -91 2034 -91  Q 1250 -91 836 529  Q 422 1150 422 2328  Q 422 3509 836 4129  Q 1250 4750 2034 4750  z \" transform=\"scale(0.015625)\" />\n      <path id=\"DejaVuSans-34\" d=\"M 2419 4116  L 825 1625  L 2419 1625  L 2419 4116  z M 2253 4666  L 3047 4666  L 3047 1625  L 3713 1625  L 3713 1100  L 3047 1100  L 3047 0  L 2419 0  L 2419 1100  L 313 1100  L 313 1709  L 2253 4666  z \" transform=\"scale(0.015625)\" />\n     </defs>\n     <use xlink:href=\"#DejaVuSans-6e\" />\n     <use xlink:href=\"#DejaVuSans-3d\" x=\"63.378906\" />\n     <use xlink:href=\"#DejaVuSans-31\" x=\"147.167969\" />\n     <use xlink:href=\"#DejaVuSans-30\" x=\"210.791016\" />\n     <use xlink:href=\"#DejaVuSans-34\" x=\"274.414062\" />\n    </g>\n    \n    <g style=\"fill: #444443\" transform=\"translate(23.908191 100.199822) scale(0.09 -0.09)\">\n     <defs>\n      <path id=\"DejaVuSans-43\" d=\"M 4122 4306  L 4122 3641  Q 3803 3938 3442 4084  Q 3081 4231 2675 4231  Q 1875 4231 1450 3742  Q 1025 3253 1025 2328  Q 1025 1406 1450 917  Q 1875 428 2675 428  Q 3081 428 3442 575  Q 3803 722 4122 1019  L 4122 359  Q 3791 134 3420 21  Q 3050 -91 2638 -91  Q 1578 -91 968 557  Q 359 1206 359 2328  Q 359 3453 968 4101  Q 1578 4750 2638 4750  Q 3056 4750 3426 4639  Q 3797 4528 4122 4306  z \" transform=\"scale(0.015625)\" />\n      <path id=\"DejaVuSans-6c\" d=\"M 603 4863  L 1178 4863  L 1178 0  L 603 0  L 603 4863  z \" transform=\"scale(0.015625)\" />\n      <path id=\"DejaVuSans-61\" d=\"M 2194 1759  Q 1497 1759 1228 1600  Q 959 1441 959 1056  Q 959 750 1161 570  Q 1363 391 1709 391  Q 2188 391 2477 730  Q 2766 1069 2766 1631  L 2766 1759  L 2194 1759  z M 3341 1997  L 3341 0  L 2766 0  L 2766 531  Q 2569 213 2275 61  Q 1981 -91 1556 -91  Q 1019 -91 701 211  Q 384 513 384 1019  Q 384 1609 779 1909  Q 1175 2209 1959 2209  L 2766 2209  L 2766 2266  Q 2766 2663 2505 2880  Q 2244 3097 1772 3097  Q 1472 3097 1187 3025  Q 903 2953 641 2809  L 641 3341  Q 956 3463 1253 3523  Q 1550 3584 1831 3584  Q 2591 3584 2966 3190  Q 3341 2797 3341 1997  z \" transform=\"scale(0.015625)\" />\n      <path id=\"DejaVuSans-73\" d=\"M 2834 3397  L 2834 2853  Q 2591 2978 2328 3040  Q 2066 3103 1784 3103  Q 1356 3103 1142 2972  Q 928 2841 928 2578  Q 928 2378 1081 2264  Q 1234 2150 1697 2047  L 1894 2003  Q 2506 1872 2764 1633  Q 3022 1394 3022 966  Q 3022 478 2636 193  Q 2250 -91 1575 -91  Q 1294 -91 989 -36  Q 684 19 347 128  L 347 722  Q 666 556 975 473  Q 1284 391 1588 391  Q 1994 391 2212 530  Q 2431 669 2431 922  Q 2431 1156 2273 1281  Q 2116 1406 1581 1522  L 1381 1569  Q 847 1681 609 1914  Q 372 2147 372 2553  Q 372 3047 722 3315  Q 1072 3584 1716 3584  Q 2034 3584 2315 3537  Q 2597 3491 2834 3397  z \" transform=\"scale(0.015625)\" />\n      <path id=\"DejaVuSans-20\" transform=\"scale(0.015625)\" />\n     </defs>\n     <use xlink:href=\"#DejaVuSans-43\" />\n     <use xlink:href=\"#DejaVuSans-6c\" x=\"69.824219\" />\n     <use xlink:href=\"#DejaVuSans-61\" x=\"97.607422\" />\n     <use xlink:href=\"#DejaVuSans-73\" x=\"158.886719\" />\n     <use xlink:href=\"#DejaVuSans-73\" x=\"210.986328\" />\n     <use xlink:href=\"#DejaVuSans-20\" x=\"263.085938\" />\n     <use xlink:href=\"#DejaVuSans-31\" x=\"294.873047\" />\n    </g>\n   </g>\n  </g>\n </g>\n</svg></g>\n\n<g id=\"edge5\" class=\"edge\">\n<title>node2-&gt;leaf4</title>\n<path fill=\"none\" stroke=\"#444443\" stroke-width=\"0.3\" d=\"M278.76,-113.35C282.4,-105.64 286.69,-96.56 290.96,-87.53\" />\n<polygon fill=\"#444443\" stroke=\"#444443\" stroke-width=\"0.3\" points=\"292.15,-88.29 292.59,-84.08 289.61,-87.1 292.15,-88.29\" />\n</g>\n\n<g id=\"node3\" class=\"node\">\n<title>node0</title>\n<svg width=\"154px\" height=\"76px\" viewBox=\"0 0 206.41 102.4025\" version=\"1.1\" preserveAspectRatio=\"xMinYMin meet\" x=\"105\" y=\"-280\">\n <metadata>\n  <rdf:RDF>\n   <ns2:Work>\n    <dc:type rdf:resource=\"http://purl.org/dc/dcmitype/StillImage\" />\n    <dc:date>2023-02-23T18:21:55.756429</dc:date>\n    <dc:format>image/svg+xml</dc:format>\n    <dc:creator>\n     <ns2:Agent>\n      <dc:title>Matplotlib v3.6.2, https://matplotlib.org/</dc:title>\n     </ns2:Agent>\n    </dc:creator>\n   </ns2:Work>\n  </rdf:RDF>\n </metadata>\n <defs>\n  <style type=\"text/css\">*{stroke-linejoin: round; stroke-linecap: butt}</style>\n </defs>\n <g id=\"figure_1\">\n  <g id=\"patch_1\">\n   <path d=\"M 0 102.4025  L 206.41 102.4025  L 206.41 0  L 0 0  z \" style=\"fill: #ffffff\" />\n  </g>\n  <g id=\"axes_1\">\n   <g id=\"patch_2\">\n    <path d=\"M 22.27 83.16  L 206.41 83.16  L 206.41 0  L 22.27 0  z \" style=\"fill: #ffffff\" />\n   </g>\n   <g id=\"patch_3\">\n    <path d=\"M 38.282174 83.16  L 46.288261 83.16  L 46.288261 30.877647  L 38.282174 30.877647  z \" clip-path=\"url(#p20cc3bf56e)\" style=\"fill: #fefebb; stroke: #444443; stroke-width: 0.5; stroke-linejoin: miter\" />\n   </g>\n   <g id=\"patch_4\">\n    <path d=\"M 46.288261 83.16  L 54.294348 83.16  L 54.294348 83.16  L 46.288261 83.16  z \" clip-path=\"url(#p20cc3bf56e)\" style=\"fill: #fefebb; stroke: #444443; stroke-width: 0.5; stroke-linejoin: miter\" />\n   </g>\n   <g id=\"patch_5\">\n    <path d=\"M 54.294348 83.16  L 62.300435 83.16  L 62.300435 83.16  L 54.294348 83.16  z \" clip-path=\"url(#p20cc3bf56e)\" style=\"fill: #fefebb; stroke: #444443; stroke-width: 0.5; stroke-linejoin: miter\" />\n   </g>\n   <g id=\"patch_6\">\n    <path d=\"M 62.300435 83.16  L 70.306522 83.16  L 70.306522 83.16  L 62.300435 83.16  z \" clip-path=\"url(#p20cc3bf56e)\" style=\"fill: #fefebb; stroke: #444443; stroke-width: 0.5; stroke-linejoin: miter\" />\n   </g>\n   <g id=\"patch_7\">\n    <path d=\"M 70.306522 83.16  L 78.312609 83.16  L 78.312609 83.16  L 70.306522 83.16  z \" clip-path=\"url(#p20cc3bf56e)\" style=\"fill: #fefebb; stroke: #444443; stroke-width: 0.5; stroke-linejoin: miter\" />\n   </g>\n   <g id=\"patch_8\">\n    <path d=\"M 78.312609 83.16  L 86.318696 83.16  L 86.318696 83.16  L 78.312609 83.16  z \" clip-path=\"url(#p20cc3bf56e)\" style=\"fill: #fefebb; stroke: #444443; stroke-width: 0.5; stroke-linejoin: miter\" />\n   </g>\n   <g id=\"patch_9\">\n    <path d=\"M 86.318696 83.16  L 94.324783 83.16  L 94.324783 83.16  L 86.318696 83.16  z \" clip-path=\"url(#p20cc3bf56e)\" style=\"fill: #fefebb; stroke: #444443; stroke-width: 0.5; stroke-linejoin: miter\" />\n   </g>\n   <g id=\"patch_10\">\n    <path d=\"M 94.324783 83.16  L 102.33087 83.16  L 102.33087 83.16  L 94.324783 83.16  z \" clip-path=\"url(#p20cc3bf56e)\" style=\"fill: #fefebb; stroke: #444443; stroke-width: 0.5; stroke-linejoin: miter\" />\n   </g>\n   <g id=\"patch_11\">\n    <path d=\"M 102.33087 83.16  L 110.336957 83.16  L 110.336957 83.16  L 102.33087 83.16  z \" clip-path=\"url(#p20cc3bf56e)\" style=\"fill: #fefebb; stroke: #444443; stroke-width: 0.5; stroke-linejoin: miter\" />\n   </g>\n   <g id=\"patch_12\">\n    <path d=\"M 110.336957 83.16  L 118.343043 83.16  L 118.343043 73.583529  L 110.336957 73.583529  z \" clip-path=\"url(#p20cc3bf56e)\" style=\"fill: #fefebb; stroke: #444443; stroke-width: 0.5; stroke-linejoin: miter\" />\n   </g>\n   <g id=\"patch_13\">\n    <path d=\"M 118.343043 83.16  L 126.34913 83.16  L 126.34913 83.16  L 118.343043 83.16  z \" clip-path=\"url(#p20cc3bf56e)\" style=\"fill: #fefebb; stroke: #444443; stroke-width: 0.5; stroke-linejoin: miter\" />\n   </g>\n   <g id=\"patch_14\">\n    <path d=\"M 126.34913 83.16  L 134.355217 83.16  L 134.355217 83.16  L 126.34913 83.16  z \" clip-path=\"url(#p20cc3bf56e)\" style=\"fill: #fefebb; stroke: #444443; stroke-width: 0.5; stroke-linejoin: miter\" />\n   </g>\n   <g id=\"patch_15\">\n    <path d=\"M 134.355217 83.16  L 142.361304 83.16  L 142.361304 83.16  L 134.355217 83.16  z \" clip-path=\"url(#p20cc3bf56e)\" style=\"fill: #fefebb; stroke: #444443; stroke-width: 0.5; stroke-linejoin: miter\" />\n   </g>\n   <g id=\"patch_16\">\n    <path d=\"M 142.361304 83.16  L 150.367391 83.16  L 150.367391 83.16  L 142.361304 83.16  z \" clip-path=\"url(#p20cc3bf56e)\" style=\"fill: #fefebb; stroke: #444443; stroke-width: 0.5; stroke-linejoin: miter\" />\n   </g>\n   <g id=\"patch_17\">\n    <path d=\"M 150.367391 83.16  L 158.373478 83.16  L 158.373478 83.16  L 150.367391 83.16  z \" clip-path=\"url(#p20cc3bf56e)\" style=\"fill: #fefebb; stroke: #444443; stroke-width: 0.5; stroke-linejoin: miter\" />\n   </g>\n   <g id=\"patch_18\">\n    <path d=\"M 158.373478 83.16  L 166.379565 83.16  L 166.379565 83.16  L 158.373478 83.16  z \" clip-path=\"url(#p20cc3bf56e)\" style=\"fill: #fefebb; stroke: #444443; stroke-width: 0.5; stroke-linejoin: miter\" />\n   </g>\n   <g id=\"patch_19\">\n    <path d=\"M 166.379565 83.16  L 174.385652 83.16  L 174.385652 83.16  L 166.379565 83.16  z \" clip-path=\"url(#p20cc3bf56e)\" style=\"fill: #fefebb; stroke: #444443; stroke-width: 0.5; stroke-linejoin: miter\" />\n   </g>\n   <g id=\"patch_20\">\n    <path d=\"M 174.385652 83.16  L 182.391739 83.16  L 182.391739 83.16  L 174.385652 83.16  z \" clip-path=\"url(#p20cc3bf56e)\" style=\"fill: #fefebb; stroke: #444443; stroke-width: 0.5; stroke-linejoin: miter\" />\n   </g>\n   <g id=\"patch_21\">\n    <path d=\"M 182.391739 83.16  L 190.397826 83.16  L 190.397826 82.642353  L 182.391739 82.642353  z \" clip-path=\"url(#p20cc3bf56e)\" style=\"fill: #fefebb; stroke: #444443; stroke-width: 0.5; stroke-linejoin: miter\" />\n   </g>\n   <g id=\"patch_22\">\n    <path d=\"M 38.282174 30.877647  L 46.288261 30.877647  L 46.288261 3.96  L 38.282174 3.96  z \" clip-path=\"url(#p20cc3bf56e)\" style=\"fill: #a1dab4; stroke: #444443; stroke-width: 0.5; stroke-linejoin: miter\" />\n   </g>\n   <g id=\"patch_23\">\n    <path d=\"M 46.288261 83.16  L 54.294348 83.16  L 54.294348 83.16  L 46.288261 83.16  z \" clip-path=\"url(#p20cc3bf56e)\" style=\"fill: #a1dab4; stroke: #444443; stroke-width: 0.5; stroke-linejoin: miter\" />\n   </g>\n   <g id=\"patch_24\">\n    <path d=\"M 54.294348 83.16  L 62.300435 83.16  L 62.300435 83.16  L 54.294348 83.16  z \" clip-path=\"url(#p20cc3bf56e)\" style=\"fill: #a1dab4; stroke: #444443; stroke-width: 0.5; stroke-linejoin: miter\" />\n   </g>\n   <g id=\"patch_25\">\n    <path d=\"M 62.300435 83.16  L 70.306522 83.16  L 70.306522 83.16  L 62.300435 83.16  z \" clip-path=\"url(#p20cc3bf56e)\" style=\"fill: #a1dab4; stroke: #444443; stroke-width: 0.5; stroke-linejoin: miter\" />\n   </g>\n   <g id=\"patch_26\">\n    <path d=\"M 70.306522 83.16  L 78.312609 83.16  L 78.312609 83.16  L 70.306522 83.16  z \" clip-path=\"url(#p20cc3bf56e)\" style=\"fill: #a1dab4; stroke: #444443; stroke-width: 0.5; stroke-linejoin: miter\" />\n   </g>\n   <g id=\"patch_27\">\n    <path d=\"M 78.312609 83.16  L 86.318696 83.16  L 86.318696 83.16  L 78.312609 83.16  z \" clip-path=\"url(#p20cc3bf56e)\" style=\"fill: #a1dab4; stroke: #444443; stroke-width: 0.5; stroke-linejoin: miter\" />\n   </g>\n   <g id=\"patch_28\">\n    <path d=\"M 86.318696 83.16  L 94.324783 83.16  L 94.324783 83.16  L 86.318696 83.16  z \" clip-path=\"url(#p20cc3bf56e)\" style=\"fill: #a1dab4; stroke: #444443; stroke-width: 0.5; stroke-linejoin: miter\" />\n   </g>\n   <g id=\"patch_29\">\n    <path d=\"M 94.324783 83.16  L 102.33087 83.16  L 102.33087 83.16  L 94.324783 83.16  z \" clip-path=\"url(#p20cc3bf56e)\" style=\"fill: #a1dab4; stroke: #444443; stroke-width: 0.5; stroke-linejoin: miter\" />\n   </g>\n   <g id=\"patch_30\">\n    <path d=\"M 102.33087 83.16  L 110.336957 83.16  L 110.336957 83.16  L 102.33087 83.16  z \" clip-path=\"url(#p20cc3bf56e)\" style=\"fill: #a1dab4; stroke: #444443; stroke-width: 0.5; stroke-linejoin: miter\" />\n   </g>\n   <g id=\"patch_31\">\n    <path d=\"M 110.336957 73.583529  L 118.343043 73.583529  L 118.343043 35.536471  L 110.336957 35.536471  z \" clip-path=\"url(#p20cc3bf56e)\" style=\"fill: #a1dab4; stroke: #444443; stroke-width: 0.5; stroke-linejoin: miter\" />\n   </g>\n   <g id=\"patch_32\">\n    <path d=\"M 118.343043 83.16  L 126.34913 83.16  L 126.34913 83.16  L 118.343043 83.16  z \" clip-path=\"url(#p20cc3bf56e)\" style=\"fill: #a1dab4; stroke: #444443; stroke-width: 0.5; stroke-linejoin: miter\" />\n   </g>\n   <g id=\"patch_33\">\n    <path d=\"M 126.34913 83.16  L 134.355217 83.16  L 134.355217 83.16  L 126.34913 83.16  z \" clip-path=\"url(#p20cc3bf56e)\" style=\"fill: #a1dab4; stroke: #444443; stroke-width: 0.5; stroke-linejoin: miter\" />\n   </g>\n   <g id=\"patch_34\">\n    <path d=\"M 134.355217 83.16  L 142.361304 83.16  L 142.361304 83.16  L 134.355217 83.16  z \" clip-path=\"url(#p20cc3bf56e)\" style=\"fill: #a1dab4; stroke: #444443; stroke-width: 0.5; stroke-linejoin: miter\" />\n   </g>\n   <g id=\"patch_35\">\n    <path d=\"M 142.361304 83.16  L 150.367391 83.16  L 150.367391 83.16  L 142.361304 83.16  z \" clip-path=\"url(#p20cc3bf56e)\" style=\"fill: #a1dab4; stroke: #444443; stroke-width: 0.5; stroke-linejoin: miter\" />\n   </g>\n   <g id=\"patch_36\">\n    <path d=\"M 150.367391 83.16  L 158.373478 83.16  L 158.373478 83.16  L 150.367391 83.16  z \" clip-path=\"url(#p20cc3bf56e)\" style=\"fill: #a1dab4; stroke: #444443; stroke-width: 0.5; stroke-linejoin: miter\" />\n   </g>\n   <g id=\"patch_37\">\n    <path d=\"M 158.373478 83.16  L 166.379565 83.16  L 166.379565 83.16  L 158.373478 83.16  z \" clip-path=\"url(#p20cc3bf56e)\" style=\"fill: #a1dab4; stroke: #444443; stroke-width: 0.5; stroke-linejoin: miter\" />\n   </g>\n   <g id=\"patch_38\">\n    <path d=\"M 166.379565 83.16  L 174.385652 83.16  L 174.385652 83.16  L 166.379565 83.16  z \" clip-path=\"url(#p20cc3bf56e)\" style=\"fill: #a1dab4; stroke: #444443; stroke-width: 0.5; stroke-linejoin: miter\" />\n   </g>\n   <g id=\"patch_39\">\n    <path d=\"M 174.385652 83.16  L 182.391739 83.16  L 182.391739 83.16  L 174.385652 83.16  z \" clip-path=\"url(#p20cc3bf56e)\" style=\"fill: #a1dab4; stroke: #444443; stroke-width: 0.5; stroke-linejoin: miter\" />\n   </g>\n   <g id=\"patch_40\">\n    <path d=\"M 182.391739 82.642353  L 190.397826 82.642353  L 190.397826 80.571765  L 182.391739 80.571765  z \" clip-path=\"url(#p20cc3bf56e)\" style=\"fill: #a1dab4; stroke: #444443; stroke-width: 0.5; stroke-linejoin: miter\" />\n   </g>\n   <g id=\"patch_41\">\n    <path d=\"M 76.311087 83.9916  L 72.996567 92.3076  L 79.625607 92.3076  z \" style=\"fill: #444443\" />\n   </g>\n   <g id=\"matplotlib.axis_1\">\n    <g id=\"xtick_1\">\n     <g id=\"line2d_1\">\n      <defs>\n       <path id=\"mbea8a2942c\" d=\"M 0 0  L 0 3.5  \" style=\"stroke: #000000; stroke-width: 0.3\" />\n      </defs>\n      <g>\n       <use xlink:href=\"#mbea8a2942c\" x=\"38.282174\" y=\"83.16\" style=\"stroke: #000000; stroke-width: 0.3\" />\n      </g>\n     </g>\n     <g id=\"text_1\">\n      \n      <g style=\"fill: #444443\" transform=\"translate(31.920924 100.73875) scale(0.08 -0.08)\">\n       <defs>\n        <path id=\"DejaVuSans-30\" d=\"M 2034 4250  Q 1547 4250 1301 3770  Q 1056 3291 1056 2328  Q 1056 1369 1301 889  Q 1547 409 2034 409  Q 2525 409 2770 889  Q 3016 1369 3016 2328  Q 3016 3291 2770 3770  Q 2525 4250 2034 4250  z M 2034 4750  Q 2819 4750 3233 4129  Q 3647 3509 3647 2328  Q 3647 1150 3233 529  Q 2819 -91 2034 -91  Q 1250 -91 836 529  Q 422 1150 422 2328  Q 422 3509 836 4129  Q 1250 4750 2034 4750  z \" transform=\"scale(0.015625)\" />\n        <path id=\"DejaVuSans-2e\" d=\"M 684 794  L 1344 794  L 1344 0  L 684 0  L 684 794  z \" transform=\"scale(0.015625)\" />\n       </defs>\n       <use xlink:href=\"#DejaVuSans-30\" />\n       <use xlink:href=\"#DejaVuSans-2e\" x=\"63.623047\" />\n       <use xlink:href=\"#DejaVuSans-30\" x=\"95.410156\" />\n      </g>\n     </g>\n    </g>\n    <g id=\"xtick_2\">\n     <g id=\"line2d_2\">\n      <g>\n       <use xlink:href=\"#mbea8a2942c\" x=\"76.311087\" y=\"83.16\" style=\"stroke: #000000; stroke-width: 0.3\" />\n      </g>\n     </g>\n     <g id=\"text_2\">\n      \n      <g style=\"fill: #444443\" transform=\"translate(69.949837 100.73875) scale(0.08 -0.08)\">\n       <defs>\n        <path id=\"DejaVuSans-35\" d=\"M 691 4666  L 3169 4666  L 3169 4134  L 1269 4134  L 1269 2991  Q 1406 3038 1543 3061  Q 1681 3084 1819 3084  Q 2600 3084 3056 2656  Q 3513 2228 3513 1497  Q 3513 744 3044 326  Q 2575 -91 1722 -91  Q 1428 -91 1123 -41  Q 819 9 494 109  L 494 744  Q 775 591 1075 516  Q 1375 441 1709 441  Q 2250 441 2565 725  Q 2881 1009 2881 1497  Q 2881 1984 2565 2268  Q 2250 2553 1709 2553  Q 1456 2553 1204 2497  Q 953 2441 691 2322  L 691 4666  z \" transform=\"scale(0.015625)\" />\n       </defs>\n       <use xlink:href=\"#DejaVuSans-30\" />\n       <use xlink:href=\"#DejaVuSans-2e\" x=\"63.623047\" />\n       <use xlink:href=\"#DejaVuSans-35\" x=\"95.410156\" />\n      </g>\n     </g>\n    </g>\n    <g id=\"xtick_3\">\n     <g id=\"line2d_3\">\n      <g>\n       <use xlink:href=\"#mbea8a2942c\" x=\"190.397826\" y=\"83.16\" style=\"stroke: #000000; stroke-width: 0.3\" />\n      </g>\n     </g>\n     <g id=\"text_3\">\n      \n      <g style=\"fill: #444443\" transform=\"translate(184.036576 100.73875) scale(0.08 -0.08)\">\n       <defs>\n        <path id=\"DejaVuSans-32\" d=\"M 1228 531  L 3431 531  L 3431 0  L 469 0  L 469 531  Q 828 903 1448 1529  Q 2069 2156 2228 2338  Q 2531 2678 2651 2914  Q 2772 3150 2772 3378  Q 2772 3750 2511 3984  Q 2250 4219 1831 4219  Q 1534 4219 1204 4116  Q 875 4013 500 3803  L 500 4441  Q 881 4594 1212 4672  Q 1544 4750 1819 4750  Q 2544 4750 2975 4387  Q 3406 4025 3406 3419  Q 3406 3131 3298 2873  Q 3191 2616 2906 2266  Q 2828 2175 2409 1742  Q 1991 1309 1228 531  z \" transform=\"scale(0.015625)\" />\n       </defs>\n       <use xlink:href=\"#DejaVuSans-32\" />\n       <use xlink:href=\"#DejaVuSans-2e\" x=\"63.623047\" />\n       <use xlink:href=\"#DejaVuSans-30\" x=\"95.410156\" />\n      </g>\n     </g>\n    </g>\n   </g>\n   <g id=\"matplotlib.axis_2\">\n    <g id=\"ytick_1\">\n     <g id=\"line2d_4\">\n      <defs>\n       <path id=\"mf6e9602384\" d=\"M 0 0  L -3.5 0  \" style=\"stroke: #000000; stroke-width: 0.3\" />\n      </defs>\n      <g>\n       <use xlink:href=\"#mf6e9602384\" x=\"22.27\" y=\"83.16\" style=\"stroke: #000000; stroke-width: 0.3\" />\n      </g>\n     </g>\n     <g id=\"text_4\">\n      \n      <g style=\"fill: #444443\" transform=\"translate(10.18 86.199375) scale(0.08 -0.08)\">\n       <use xlink:href=\"#DejaVuSans-30\" />\n      </g>\n     </g>\n    </g>\n    <g id=\"ytick_2\">\n     <g id=\"line2d_5\">\n      <g>\n       <use xlink:href=\"#mf6e9602384\" x=\"22.27\" y=\"3.96\" style=\"stroke: #000000; stroke-width: 0.3\" />\n      </g>\n     </g>\n     <g id=\"text_5\">\n      \n      <g style=\"fill: #444443\" transform=\"translate(0 6.999375) scale(0.08 -0.08)\">\n       <defs>\n        <path id=\"DejaVuSans-33\" d=\"M 2597 2516  Q 3050 2419 3304 2112  Q 3559 1806 3559 1356  Q 3559 666 3084 287  Q 2609 -91 1734 -91  Q 1441 -91 1130 -33  Q 819 25 488 141  L 488 750  Q 750 597 1062 519  Q 1375 441 1716 441  Q 2309 441 2620 675  Q 2931 909 2931 1356  Q 2931 1769 2642 2001  Q 2353 2234 1838 2234  L 1294 2234  L 1294 2753  L 1863 2753  Q 2328 2753 2575 2939  Q 2822 3125 2822 3475  Q 2822 3834 2567 4026  Q 2313 4219 1838 4219  Q 1578 4219 1281 4162  Q 984 4106 628 3988  L 628 4550  Q 988 4650 1302 4700  Q 1616 4750 1894 4750  Q 2613 4750 3031 4423  Q 3450 4097 3450 3541  Q 3450 3153 3228 2886  Q 3006 2619 2597 2516  z \" transform=\"scale(0.015625)\" />\n        <path id=\"DejaVuSans-36\" d=\"M 2113 2584  Q 1688 2584 1439 2293  Q 1191 2003 1191 1497  Q 1191 994 1439 701  Q 1688 409 2113 409  Q 2538 409 2786 701  Q 3034 994 3034 1497  Q 3034 2003 2786 2293  Q 2538 2584 2113 2584  z M 3366 4563  L 3366 3988  Q 3128 4100 2886 4159  Q 2644 4219 2406 4219  Q 1781 4219 1451 3797  Q 1122 3375 1075 2522  Q 1259 2794 1537 2939  Q 1816 3084 2150 3084  Q 2853 3084 3261 2657  Q 3669 2231 3669 1497  Q 3669 778 3244 343  Q 2819 -91 2113 -91  Q 1303 -91 875 529  Q 447 1150 447 2328  Q 447 3434 972 4092  Q 1497 4750 2381 4750  Q 2619 4750 2861 4703  Q 3103 4656 3366 4563  z \" transform=\"scale(0.015625)\" />\n       </defs>\n       <use xlink:href=\"#DejaVuSans-33\" />\n       <use xlink:href=\"#DejaVuSans-30\" x=\"63.623047\" />\n       <use xlink:href=\"#DejaVuSans-36\" x=\"127.246094\" />\n      </g>\n     </g>\n    </g>\n   </g>\n   <g id=\"patch_42\">\n    <path d=\"M 22.27 83.16  L 22.27 0  \" style=\"fill: none; stroke: #444443; stroke-width: 0.3; stroke-linejoin: miter; stroke-linecap: square\" />\n   </g>\n   <g id=\"patch_43\">\n    <path d=\"M 22.27 83.16  L 206.41 83.16  \" style=\"fill: none; stroke: #444443; stroke-width: 0.3; stroke-linejoin: miter; stroke-linecap: square\" />\n   </g>\n  </g>\n </g>\n <defs>\n  <clipPath id=\"p20cc3bf56e\">\n   <rect x=\"22.27\" y=\"0\" width=\"184.14\" height=\"83.16\" />\n  </clipPath>\n </defs>\n</svg></g>\n\n<g id=\"edge7\" class=\"edge\">\n<title>node0-&gt;node1</title>\n<path fill=\"none\" stroke=\"#444443\" stroke-width=\"0.3\" d=\"M148.11,-200.1C140.47,-190.87 132.4,-181.14 124.93,-172.12\" />\n<polygon fill=\"#444443\" stroke=\"#444443\" stroke-width=\"0.3\" points=\"126.12,-171.37 122.49,-169.18 123.97,-173.15 126.12,-171.37\" />\n<text text-anchor=\"start\" x=\"142\" y=\"-180.8\" font-family=\"DejaVu Sans\" font-size=\"14.00\" fill=\"#444443\"> &#160;&#8804;</text>\n</g>\n\n<g id=\"edge8\" class=\"edge\">\n<title>node0-&gt;node2</title>\n<path fill=\"none\" stroke=\"#444443\" stroke-width=\"0.3\" d=\"M215.89,-200.1C227.05,-186.63 239.1,-172.08 248.9,-160.26\" />\n<polygon fill=\"#444443\" stroke=\"#444443\" stroke-width=\"0.3\" points=\"249.84,-161.32 251.31,-157.35 247.68,-159.53 249.84,-161.32\" />\n<text text-anchor=\"start\" x=\"234\" y=\"-180.8\" font-family=\"DejaVu Sans\" font-size=\"14.00\" fill=\"#444443\"> &#160;&gt;</text>\n</g>\n\n\n\n<g id=\"node8\" class=\"node\">\n<title>legend</title>\n<polygon fill=\"none\" stroke=\"black\" stroke-width=\"0\" points=\"343.5,-269.5 270.5,-269.5 270.5,-214.5 343.5,-214.5 343.5,-269.5\" />\n<svg width=\"69px\" height=\"51px\" viewBox=\"0 0 93.351562 67.8375\" version=\"1.1\" preserveAspectRatio=\"xMinYMin meet\" x=\"273\" y=\"-267\">\n <metadata>\n  <rdf:RDF>\n   <ns2:Work>\n    <dc:type rdf:resource=\"http://purl.org/dc/dcmitype/StillImage\" />\n    <dc:date>2023-02-23T18:21:55.482474</dc:date>\n    <dc:format>image/svg+xml</dc:format>\n    <dc:creator>\n     <ns2:Agent>\n      <dc:title>Matplotlib v3.6.2, https://matplotlib.org/</dc:title>\n     </ns2:Agent>\n    </dc:creator>\n   </ns2:Work>\n  </rdf:RDF>\n </metadata>\n <defs>\n  <style type=\"text/css\">*{stroke-linejoin: round; stroke-linecap: butt}</style>\n </defs>\n <g id=\"figure_1\">\n  <g id=\"patch_1\">\n   <path d=\"M 0 67.8375  L 93.351562 67.8375  L 93.351562 0  L 0 0  z \" style=\"fill: #ffffff\" />\n  </g>\n  <g id=\"axes_1\">\n   <g id=\"legend_1\">\n    <g id=\"patch_2\">\n     <path d=\"M 2.4 67.8375  L 84.951562 67.8375  Q 87.351562 67.8375 87.351562 65.4375  L 87.351562 8.4  Q 87.351562 6 84.951562 6  L 2.4 6  Q 0 6 0 8.4  L 0 65.4375  Q 0 67.8375 2.4 67.8375  z \" style=\"fill: #ffffff; opacity: 0.8; stroke: #444443; stroke-width: 0.5; stroke-linejoin: miter\" />\n    </g>\n    <g id=\"text_1\">\n     \n     <g style=\"fill: #444443\" transform=\"translate(9.6 23.198437) scale(0.1 -0.1)\">\n      <defs>\n       <path id=\"DejaVuSans-Bold-54\" d=\"M 31 4666  L 4331 4666  L 4331 3756  L 2784 3756  L 2784 0  L 1581 0  L 1581 3756  L 31 3756  L 31 4666  z \" transform=\"scale(0.015625)\" />\n       <path id=\"DejaVuSans-Bold-72\" d=\"M 3138 2547  Q 2991 2616 2845 2648  Q 2700 2681 2553 2681  Q 2122 2681 1889 2404  Q 1656 2128 1656 1613  L 1656 0  L 538 0  L 538 3500  L 1656 3500  L 1656 2925  Q 1872 3269 2151 3426  Q 2431 3584 2822 3584  Q 2878 3584 2943 3579  Q 3009 3575 3134 3559  L 3138 2547  z \" transform=\"scale(0.015625)\" />\n       <path id=\"DejaVuSans-Bold-61\" d=\"M 2106 1575  Q 1756 1575 1579 1456  Q 1403 1338 1403 1106  Q 1403 894 1545 773  Q 1688 653 1941 653  Q 2256 653 2472 879  Q 2688 1106 2688 1447  L 2688 1575  L 2106 1575  z M 3816 1997  L 3816 0  L 2688 0  L 2688 519  Q 2463 200 2181 54  Q 1900 -91 1497 -91  Q 953 -91 614 226  Q 275 544 275 1050  Q 275 1666 698 1953  Q 1122 2241 2028 2241  L 2688 2241  L 2688 2328  Q 2688 2594 2478 2717  Q 2269 2841 1825 2841  Q 1466 2841 1156 2769  Q 847 2697 581 2553  L 581 3406  Q 941 3494 1303 3539  Q 1666 3584 2028 3584  Q 2975 3584 3395 3211  Q 3816 2838 3816 1997  z \" transform=\"scale(0.015625)\" />\n       <path id=\"DejaVuSans-Bold-6e\" d=\"M 4056 2131  L 4056 0  L 2931 0  L 2931 347  L 2931 1631  Q 2931 2084 2911 2256  Q 2891 2428 2841 2509  Q 2775 2619 2662 2680  Q 2550 2741 2406 2741  Q 2056 2741 1856 2470  Q 1656 2200 1656 1722  L 1656 0  L 538 0  L 538 3500  L 1656 3500  L 1656 2988  Q 1909 3294 2193 3439  Q 2478 3584 2822 3584  Q 3428 3584 3742 3212  Q 4056 2841 4056 2131  z \" transform=\"scale(0.015625)\" />\n       <path id=\"DejaVuSans-Bold-73\" d=\"M 3272 3391  L 3272 2541  Q 2913 2691 2578 2766  Q 2244 2841 1947 2841  Q 1628 2841 1473 2761  Q 1319 2681 1319 2516  Q 1319 2381 1436 2309  Q 1553 2238 1856 2203  L 2053 2175  Q 2913 2066 3209 1816  Q 3506 1566 3506 1031  Q 3506 472 3093 190  Q 2681 -91 1863 -91  Q 1516 -91 1145 -36  Q 775 19 384 128  L 384 978  Q 719 816 1070 734  Q 1422 653 1784 653  Q 2113 653 2278 743  Q 2444 834 2444 1013  Q 2444 1163 2330 1236  Q 2216 1309 1875 1350  L 1678 1375  Q 931 1469 631 1722  Q 331 1975 331 2491  Q 331 3047 712 3315  Q 1094 3584 1881 3584  Q 2191 3584 2531 3537  Q 2872 3491 3272 3391  z \" transform=\"scale(0.015625)\" />\n       <path id=\"DejaVuSans-Bold-70\" d=\"M 1656 506  L 1656 -1331  L 538 -1331  L 538 3500  L 1656 3500  L 1656 2988  Q 1888 3294 2169 3439  Q 2450 3584 2816 3584  Q 3463 3584 3878 3070  Q 4294 2556 4294 1747  Q 4294 938 3878 423  Q 3463 -91 2816 -91  Q 2450 -91 2169 54  Q 1888 200 1656 506  z M 2400 2772  Q 2041 2772 1848 2508  Q 1656 2244 1656 1747  Q 1656 1250 1848 986  Q 2041 722 2400 722  Q 2759 722 2948 984  Q 3138 1247 3138 1747  Q 3138 2247 2948 2509  Q 2759 2772 2400 2772  z \" transform=\"scale(0.015625)\" />\n       <path id=\"DejaVuSans-Bold-6f\" d=\"M 2203 2784  Q 1831 2784 1636 2517  Q 1441 2250 1441 1747  Q 1441 1244 1636 976  Q 1831 709 2203 709  Q 2569 709 2762 976  Q 2956 1244 2956 1747  Q 2956 2250 2762 2517  Q 2569 2784 2203 2784  z M 2203 3584  Q 3106 3584 3614 3096  Q 4122 2609 4122 1747  Q 4122 884 3614 396  Q 3106 -91 2203 -91  Q 1297 -91 786 396  Q 275 884 275 1747  Q 275 2609 786 3096  Q 1297 3584 2203 3584  z \" transform=\"scale(0.015625)\" />\n       <path id=\"DejaVuSans-Bold-74\" d=\"M 1759 4494  L 1759 3500  L 2913 3500  L 2913 2700  L 1759 2700  L 1759 1216  Q 1759 972 1856 886  Q 1953 800 2241 800  L 2816 800  L 2816 0  L 1856 0  Q 1194 0 917 276  Q 641 553 641 1216  L 641 2700  L 84 2700  L 84 3500  L 641 3500  L 641 4494  L 1759 4494  z \" transform=\"scale(0.015625)\" />\n       <path id=\"DejaVuSans-Bold-65\" d=\"M 4031 1759  L 4031 1441  L 1416 1441  Q 1456 1047 1700 850  Q 1944 653 2381 653  Q 2734 653 3104 758  Q 3475 863 3866 1075  L 3866 213  Q 3469 63 3072 -14  Q 2675 -91 2278 -91  Q 1328 -91 801 392  Q 275 875 275 1747  Q 275 2603 792 3093  Q 1309 3584 2216 3584  Q 3041 3584 3536 3087  Q 4031 2591 4031 1759  z M 2881 2131  Q 2881 2450 2695 2645  Q 2509 2841 2209 2841  Q 1884 2841 1681 2658  Q 1478 2475 1428 2131  L 2881 2131  z \" transform=\"scale(0.015625)\" />\n       <path id=\"DejaVuSans-Bold-64\" d=\"M 2919 2988  L 2919 4863  L 4044 4863  L 4044 0  L 2919 0  L 2919 506  Q 2688 197 2409 53  Q 2131 -91 1766 -91  Q 1119 -91 703 423  Q 288 938 288 1747  Q 288 2556 703 3070  Q 1119 3584 1766 3584  Q 2128 3584 2408 3439  Q 2688 3294 2919 2988  z M 2181 722  Q 2541 722 2730 984  Q 2919 1247 2919 1747  Q 2919 2247 2730 2509  Q 2541 2772 2181 2772  Q 1825 2772 1636 2509  Q 1447 2247 1447 1747  Q 1447 1247 1636 984  Q 1825 722 2181 722  z \" transform=\"scale(0.015625)\" />\n      </defs>\n      <use xlink:href=\"#DejaVuSans-Bold-54\" />\n      <use xlink:href=\"#DejaVuSans-Bold-72\" x=\"57.212891\" />\n      <use xlink:href=\"#DejaVuSans-Bold-61\" x=\"106.529297\" />\n      <use xlink:href=\"#DejaVuSans-Bold-6e\" x=\"174.009766\" />\n      <use xlink:href=\"#DejaVuSans-Bold-73\" x=\"245.201172\" />\n      <use xlink:href=\"#DejaVuSans-Bold-70\" x=\"304.722656\" />\n      <use xlink:href=\"#DejaVuSans-Bold-6f\" x=\"376.304688\" />\n      <use xlink:href=\"#DejaVuSans-Bold-72\" x=\"445.005859\" />\n      <use xlink:href=\"#DejaVuSans-Bold-74\" x=\"494.322266\" />\n      <use xlink:href=\"#DejaVuSans-Bold-65\" x=\"542.125\" />\n      <use xlink:href=\"#DejaVuSans-Bold-64\" x=\"609.947266\" />\n     </g>\n    </g>\n    <g id=\"patch_3\">\n     <path d=\"M 11.651562 39.678125  L 35.651562 39.678125  L 35.651562 31.278125  L 11.651562 31.278125  z \" style=\"fill: #fefebb; stroke: #444443; stroke-width: 0.4; stroke-linejoin: miter\" />\n    </g>\n    <g id=\"text_2\">\n     \n     <g style=\"fill: #444443\" transform=\"translate(39.851562 39.678125) scale(0.1 -0.1)\">\n      <defs>\n       <path id=\"DejaVuSans-43\" d=\"M 4122 4306  L 4122 3641  Q 3803 3938 3442 4084  Q 3081 4231 2675 4231  Q 1875 4231 1450 3742  Q 1025 3253 1025 2328  Q 1025 1406 1450 917  Q 1875 428 2675 428  Q 3081 428 3442 575  Q 3803 722 4122 1019  L 4122 359  Q 3791 134 3420 21  Q 3050 -91 2638 -91  Q 1578 -91 968 557  Q 359 1206 359 2328  Q 359 3453 968 4101  Q 1578 4750 2638 4750  Q 3056 4750 3426 4639  Q 3797 4528 4122 4306  z \" transform=\"scale(0.015625)\" />\n       <path id=\"DejaVuSans-6c\" d=\"M 603 4863  L 1178 4863  L 1178 0  L 603 0  L 603 4863  z \" transform=\"scale(0.015625)\" />\n       <path id=\"DejaVuSans-61\" d=\"M 2194 1759  Q 1497 1759 1228 1600  Q 959 1441 959 1056  Q 959 750 1161 570  Q 1363 391 1709 391  Q 2188 391 2477 730  Q 2766 1069 2766 1631  L 2766 1759  L 2194 1759  z M 3341 1997  L 3341 0  L 2766 0  L 2766 531  Q 2569 213 2275 61  Q 1981 -91 1556 -91  Q 1019 -91 701 211  Q 384 513 384 1019  Q 384 1609 779 1909  Q 1175 2209 1959 2209  L 2766 2209  L 2766 2266  Q 2766 2663 2505 2880  Q 2244 3097 1772 3097  Q 1472 3097 1187 3025  Q 903 2953 641 2809  L 641 3341  Q 956 3463 1253 3523  Q 1550 3584 1831 3584  Q 2591 3584 2966 3190  Q 3341 2797 3341 1997  z \" transform=\"scale(0.015625)\" />\n       <path id=\"DejaVuSans-73\" d=\"M 2834 3397  L 2834 2853  Q 2591 2978 2328 3040  Q 2066 3103 1784 3103  Q 1356 3103 1142 2972  Q 928 2841 928 2578  Q 928 2378 1081 2264  Q 1234 2150 1697 2047  L 1894 2003  Q 2506 1872 2764 1633  Q 3022 1394 3022 966  Q 3022 478 2636 193  Q 2250 -91 1575 -91  Q 1294 -91 989 -36  Q 684 19 347 128  L 347 722  Q 666 556 975 473  Q 1284 391 1588 391  Q 1994 391 2212 530  Q 2431 669 2431 922  Q 2431 1156 2273 1281  Q 2116 1406 1581 1522  L 1381 1569  Q 847 1681 609 1914  Q 372 2147 372 2553  Q 372 3047 722 3315  Q 1072 3584 1716 3584  Q 2034 3584 2315 3537  Q 2597 3491 2834 3397  z \" transform=\"scale(0.015625)\" />\n       <path id=\"DejaVuSans-20\" transform=\"scale(0.015625)\" />\n       <path id=\"DejaVuSans-30\" d=\"M 2034 4250  Q 1547 4250 1301 3770  Q 1056 3291 1056 2328  Q 1056 1369 1301 889  Q 1547 409 2034 409  Q 2525 409 2770 889  Q 3016 1369 3016 2328  Q 3016 3291 2770 3770  Q 2525 4250 2034 4250  z M 2034 4750  Q 2819 4750 3233 4129  Q 3647 3509 3647 2328  Q 3647 1150 3233 529  Q 2819 -91 2034 -91  Q 1250 -91 836 529  Q 422 1150 422 2328  Q 422 3509 836 4129  Q 1250 4750 2034 4750  z \" transform=\"scale(0.015625)\" />\n      </defs>\n      <use xlink:href=\"#DejaVuSans-43\" />\n      <use xlink:href=\"#DejaVuSans-6c\" x=\"69.824219\" />\n      <use xlink:href=\"#DejaVuSans-61\" x=\"97.607422\" />\n      <use xlink:href=\"#DejaVuSans-73\" x=\"158.886719\" />\n      <use xlink:href=\"#DejaVuSans-73\" x=\"210.986328\" />\n      <use xlink:href=\"#DejaVuSans-20\" x=\"263.085938\" />\n      <use xlink:href=\"#DejaVuSans-30\" x=\"294.873047\" />\n     </g>\n    </g>\n    <g id=\"patch_4\">\n     <path d=\"M 11.651562 56.157812  L 35.651562 56.157812  L 35.651562 47.757812  L 11.651562 47.757812  z \" style=\"fill: #a1dab4; stroke: #444443; stroke-width: 0.4; stroke-linejoin: miter\" />\n    </g>\n    <g id=\"text_3\">\n     \n     <g style=\"fill: #444443\" transform=\"translate(39.851562 56.157812) scale(0.1 -0.1)\">\n      <defs>\n       <path id=\"DejaVuSans-31\" d=\"M 794 531  L 1825 531  L 1825 4091  L 703 3866  L 703 4441  L 1819 4666  L 2450 4666  L 2450 531  L 3481 531  L 3481 0  L 794 0  L 794 531  z \" transform=\"scale(0.015625)\" />\n      </defs>\n      <use xlink:href=\"#DejaVuSans-43\" />\n      <use xlink:href=\"#DejaVuSans-6c\" x=\"69.824219\" />\n      <use xlink:href=\"#DejaVuSans-61\" x=\"97.607422\" />\n      <use xlink:href=\"#DejaVuSans-73\" x=\"158.886719\" />\n      <use xlink:href=\"#DejaVuSans-73\" x=\"210.986328\" />\n      <use xlink:href=\"#DejaVuSans-20\" x=\"263.085938\" />\n      <use xlink:href=\"#DejaVuSans-31\" x=\"294.873047\" />\n     </g>\n    </g>\n   </g>\n  </g>\n </g>\n</svg></g>\n</g>\n</svg>",
      "text/plain": [
       "<dtreeviz.utils.DTreeVizRender at 0x7f8d8c60b010>"
      ]
     },
     "execution_count": 48,
     "metadata": {},
     "output_type": "execute_result"
    }
   ],
   "source": [
    "viz_model.view(fontname=\"DejaVu Sans\", scale=1.8, label_fontsize=10)"
   ]
  },
  {
   "cell_type": "code",
   "execution_count": 49,
   "metadata": {},
   "outputs": [],
   "source": [
    "viz_model = dtreeviz.model(m, X_train=xs, y_train=y, target_name=dep_var)"
   ]
  },
  {
   "cell_type": "code",
   "execution_count": 50,
   "metadata": {},
   "outputs": [
    {
     "name": "stderr",
     "output_type": "stream",
     "text": [
      "/home/petewin/mambaforge/lib/python3.10/site-packages/sklearn/base.py:409: UserWarning: X does not have valid feature names, but DecisionTreeClassifier was fitted with feature names\n"
     ]
    },
    {
     "data": {
      "image/svg+xml": "<svg xmlns=\"http://www.w3.org/2000/svg\" xmlns:dc=\"http://purl.org/dc/elements/1.1/\" xmlns:ns2=\"http://creativecommons.org/ns#\" xmlns:rdf=\"http://www.w3.org/1999/02/22-rdf-syntax-ns#\" xmlns:xlink=\"http://www.w3.org/1999/xlink\" width=\"662.4\" height=\"538.2\" viewBox=\"0.0 0.0 661.5 538.2\">\n<g id=\"graph0\" class=\"graph\" transform=\"scale(1.8 1.8) rotate(0) translate(4 295)\">\n<title>G</title>\n<polygon fill=\"white\" stroke=\"none\" points=\"-4,4 -4,-295 363.5,-295 363.5,4 -4,4\" />\n<g id=\"clust4\" class=\"cluster\">\n<title>cluster_legend</title>\n</g>\n\n<g id=\"node1\" class=\"node\">\n<title>node1</title>\n<svg width=\"159px\" height=\"67px\" viewBox=\"0 0 211.5 90.314734\" version=\"1.1\" preserveAspectRatio=\"xMinYMin meet\" x=\"16\" y=\"-171.5\">\n <metadata>\n  <rdf:RDF>\n   <ns2:Work>\n    <dc:type rdf:resource=\"http://purl.org/dc/dcmitype/StillImage\" />\n    <dc:date>2023-02-23T18:22:02.831707</dc:date>\n    <dc:format>image/svg+xml</dc:format>\n    <dc:creator>\n     <ns2:Agent>\n      <dc:title>Matplotlib v3.6.2, https://matplotlib.org/</dc:title>\n     </ns2:Agent>\n    </dc:creator>\n   </ns2:Work>\n  </rdf:RDF>\n </metadata>\n <defs>\n  <style type=\"text/css\">*{stroke-linejoin: round; stroke-linecap: butt}</style>\n </defs>\n <g id=\"figure_1\">\n  <g id=\"patch_1\">\n   <path d=\"M 0 90.314734  L 211.5 90.314734  L 211.5 0  L 0 0  z \" style=\"fill: #ffffff\" />\n  </g>\n  <g id=\"axes_1\">\n   <g id=\"patch_2\">\n    <path d=\"M 27.36 71.072234  L 211.5 71.072234  L 211.5 0  L 27.36 0  z \" style=\"fill: #ffffff\" />\n   </g>\n   <g id=\"patch_3\">\n    <path d=\"M 43.372174 71.072234  L 51.378261 71.072234  L 51.378261 27.904245  L 43.372174 27.904245  z \" clip-path=\"url(#p33810dc490)\" style=\"fill: #fefebb; stroke: #444443; stroke-width: 0.5; stroke-linejoin: miter\" />\n   </g>\n   <g id=\"patch_4\">\n    <path d=\"M 51.378261 71.072234  L 59.384348 71.072234  L 59.384348 64.964924  L 51.378261 64.964924  z \" clip-path=\"url(#p33810dc490)\" style=\"fill: #fefebb; stroke: #444443; stroke-width: 0.5; stroke-linejoin: miter\" />\n   </g>\n   <g id=\"patch_5\">\n    <path d=\"M 59.384348 71.072234  L 67.390435 71.072234  L 67.390435 69.096872  L 59.384348 69.096872  z \" clip-path=\"url(#p33810dc490)\" style=\"fill: #fefebb; stroke: #444443; stroke-width: 0.5; stroke-linejoin: miter\" />\n   </g>\n   <g id=\"patch_6\">\n    <path d=\"M 67.390435 71.072234  L 75.396522 71.072234  L 75.396522 70.256718  L 67.390435 70.256718  z \" clip-path=\"url(#p33810dc490)\" style=\"fill: #fefebb; stroke: #444443; stroke-width: 0.5; stroke-linejoin: miter\" />\n   </g>\n   <g id=\"patch_7\">\n    <path d=\"M 75.396522 71.072234  L 83.402609 71.072234  L 83.402609 70.637292  L 75.396522 70.637292  z \" clip-path=\"url(#p33810dc490)\" style=\"fill: #fefebb; stroke: #444443; stroke-width: 0.5; stroke-linejoin: miter\" />\n   </g>\n   <g id=\"patch_8\">\n    <path d=\"M 83.402609 71.072234  L 91.408696 71.072234  L 91.408696 70.872885  L 83.402609 70.872885  z \" clip-path=\"url(#p33810dc490)\" style=\"fill: #fefebb; stroke: #444443; stroke-width: 0.5; stroke-linejoin: miter\" />\n   </g>\n   <g id=\"patch_9\">\n    <path d=\"M 91.408696 71.072234  L 99.414783 71.072234  L 99.414783 70.963498  L 91.408696 70.963498  z \" clip-path=\"url(#p33810dc490)\" style=\"fill: #fefebb; stroke: #444443; stroke-width: 0.5; stroke-linejoin: miter\" />\n   </g>\n   <g id=\"patch_10\">\n    <path d=\"M 99.414783 71.072234  L 107.42087 71.072234  L 107.42087 70.927253  L 99.414783 70.927253  z \" clip-path=\"url(#p33810dc490)\" style=\"fill: #fefebb; stroke: #444443; stroke-width: 0.5; stroke-linejoin: miter\" />\n   </g>\n   <g id=\"patch_11\">\n    <path d=\"M 107.42087 71.072234  L 115.426957 71.072234  L 115.426957 70.981621  L 107.42087 70.981621  z \" clip-path=\"url(#p33810dc490)\" style=\"fill: #fefebb; stroke: #444443; stroke-width: 0.5; stroke-linejoin: miter\" />\n   </g>\n   <g id=\"patch_12\">\n    <path d=\"M 115.426957 71.072234  L 123.433043 71.072234  L 123.433043 71.017866  L 115.426957 71.017866  z \" clip-path=\"url(#p33810dc490)\" style=\"fill: #fefebb; stroke: #444443; stroke-width: 0.5; stroke-linejoin: miter\" />\n   </g>\n   <g id=\"patch_13\">\n    <path d=\"M 123.433043 71.072234  L 131.43913 71.072234  L 131.43913 70.981621  L 123.433043 70.981621  z \" clip-path=\"url(#p33810dc490)\" style=\"fill: #fefebb; stroke: #444443; stroke-width: 0.5; stroke-linejoin: miter\" />\n   </g>\n   <g id=\"patch_14\">\n    <path d=\"M 131.43913 71.072234  L 139.445217 71.072234  L 139.445217 71.072234  L 131.43913 71.072234  z \" clip-path=\"url(#p33810dc490)\" style=\"fill: #fefebb; stroke: #444443; stroke-width: 0.5; stroke-linejoin: miter\" />\n   </g>\n   <g id=\"patch_15\">\n    <path d=\"M 139.445217 71.072234  L 147.451304 71.072234  L 147.451304 71.072234  L 139.445217 71.072234  z \" clip-path=\"url(#p33810dc490)\" style=\"fill: #fefebb; stroke: #444443; stroke-width: 0.5; stroke-linejoin: miter\" />\n   </g>\n   <g id=\"patch_16\">\n    <path d=\"M 147.451304 71.072234  L 155.457391 71.072234  L 155.457391 71.054111  L 147.451304 71.054111  z \" clip-path=\"url(#p33810dc490)\" style=\"fill: #fefebb; stroke: #444443; stroke-width: 0.5; stroke-linejoin: miter\" />\n   </g>\n   <g id=\"patch_17\">\n    <path d=\"M 155.457391 71.072234  L 163.463478 71.072234  L 163.463478 71.072234  L 155.457391 71.072234  z \" clip-path=\"url(#p33810dc490)\" style=\"fill: #fefebb; stroke: #444443; stroke-width: 0.5; stroke-linejoin: miter\" />\n   </g>\n   <g id=\"patch_18\">\n    <path d=\"M 163.463478 71.072234  L 171.469565 71.072234  L 171.469565 71.072234  L 163.463478 71.072234  z \" clip-path=\"url(#p33810dc490)\" style=\"fill: #fefebb; stroke: #444443; stroke-width: 0.5; stroke-linejoin: miter\" />\n   </g>\n   <g id=\"patch_19\">\n    <path d=\"M 171.469565 71.072234  L 179.475652 71.072234  L 179.475652 71.072234  L 171.469565 71.072234  z \" clip-path=\"url(#p33810dc490)\" style=\"fill: #fefebb; stroke: #444443; stroke-width: 0.5; stroke-linejoin: miter\" />\n   </g>\n   <g id=\"patch_20\">\n    <path d=\"M 179.475652 71.072234  L 187.481739 71.072234  L 187.481739 71.072234  L 179.475652 71.072234  z \" clip-path=\"url(#p33810dc490)\" style=\"fill: #fefebb; stroke: #444443; stroke-width: 0.5; stroke-linejoin: miter\" />\n   </g>\n   <g id=\"patch_21\">\n    <path d=\"M 187.481739 71.072234  L 195.487826 71.072234  L 195.487826 71.054111  L 187.481739 71.054111  z \" clip-path=\"url(#p33810dc490)\" style=\"fill: #fefebb; stroke: #444443; stroke-width: 0.5; stroke-linejoin: miter\" />\n   </g>\n   <g id=\"patch_22\">\n    <path d=\"M 43.372174 27.904245  L 51.378261 27.904245  L 51.378261 3.384392  L 43.372174 3.384392  z \" clip-path=\"url(#p33810dc490)\" style=\"fill: #a1dab4; stroke: #444443; stroke-width: 0.5; stroke-linejoin: miter\" />\n   </g>\n   <g id=\"patch_23\">\n    <path d=\"M 51.378261 64.964924  L 59.384348 64.964924  L 59.384348 63.913814  L 51.378261 63.913814  z \" clip-path=\"url(#p33810dc490)\" style=\"fill: #a1dab4; stroke: #444443; stroke-width: 0.5; stroke-linejoin: miter\" />\n   </g>\n   <g id=\"patch_24\">\n    <path d=\"M 59.384348 69.096872  L 67.390435 69.096872  L 67.390435 68.770666  L 59.384348 68.770666  z \" clip-path=\"url(#p33810dc490)\" style=\"fill: #a1dab4; stroke: #444443; stroke-width: 0.5; stroke-linejoin: miter\" />\n   </g>\n   <g id=\"patch_25\">\n    <path d=\"M 67.390435 70.256718  L 75.396522 70.256718  L 75.396522 70.147982  L 67.390435 70.147982  z \" clip-path=\"url(#p33810dc490)\" style=\"fill: #a1dab4; stroke: #444443; stroke-width: 0.5; stroke-linejoin: miter\" />\n   </g>\n   <g id=\"patch_26\">\n    <path d=\"M 75.396522 70.637292  L 83.402609 70.637292  L 83.402609 70.564801  L 75.396522 70.564801  z \" clip-path=\"url(#p33810dc490)\" style=\"fill: #a1dab4; stroke: #444443; stroke-width: 0.5; stroke-linejoin: miter\" />\n   </g>\n   <g id=\"patch_27\">\n    <path d=\"M 83.402609 70.872885  L 91.408696 70.872885  L 91.408696 70.854763  L 83.402609 70.854763  z \" clip-path=\"url(#p33810dc490)\" style=\"fill: #a1dab4; stroke: #444443; stroke-width: 0.5; stroke-linejoin: miter\" />\n   </g>\n   <g id=\"patch_28\">\n    <path d=\"M 91.408696 70.963498  L 99.414783 70.963498  L 99.414783 70.963498  L 91.408696 70.963498  z \" clip-path=\"url(#p33810dc490)\" style=\"fill: #a1dab4; stroke: #444443; stroke-width: 0.5; stroke-linejoin: miter\" />\n   </g>\n   <g id=\"patch_29\">\n    <path d=\"M 99.414783 70.927253  L 107.42087 70.927253  L 107.42087 70.927253  L 99.414783 70.927253  z \" clip-path=\"url(#p33810dc490)\" style=\"fill: #a1dab4; stroke: #444443; stroke-width: 0.5; stroke-linejoin: miter\" />\n   </g>\n   <g id=\"patch_30\">\n    <path d=\"M 107.42087 70.981621  L 115.426957 70.981621  L 115.426957 70.981621  L 107.42087 70.981621  z \" clip-path=\"url(#p33810dc490)\" style=\"fill: #a1dab4; stroke: #444443; stroke-width: 0.5; stroke-linejoin: miter\" />\n   </g>\n   <g id=\"patch_31\">\n    <path d=\"M 115.426957 71.017866  L 123.433043 71.017866  L 123.433043 71.017866  L 115.426957 71.017866  z \" clip-path=\"url(#p33810dc490)\" style=\"fill: #a1dab4; stroke: #444443; stroke-width: 0.5; stroke-linejoin: miter\" />\n   </g>\n   <g id=\"patch_32\">\n    <path d=\"M 123.433043 70.981621  L 131.43913 70.981621  L 131.43913 70.981621  L 123.433043 70.981621  z \" clip-path=\"url(#p33810dc490)\" style=\"fill: #a1dab4; stroke: #444443; stroke-width: 0.5; stroke-linejoin: miter\" />\n   </g>\n   <g id=\"patch_33\">\n    <path d=\"M 131.43913 71.072234  L 139.445217 71.072234  L 139.445217 71.072234  L 131.43913 71.072234  z \" clip-path=\"url(#p33810dc490)\" style=\"fill: #a1dab4; stroke: #444443; stroke-width: 0.5; stroke-linejoin: miter\" />\n   </g>\n   <g id=\"patch_34\">\n    <path d=\"M 139.445217 71.072234  L 147.451304 71.072234  L 147.451304 71.072234  L 139.445217 71.072234  z \" clip-path=\"url(#p33810dc490)\" style=\"fill: #a1dab4; stroke: #444443; stroke-width: 0.5; stroke-linejoin: miter\" />\n   </g>\n   <g id=\"patch_35\">\n    <path d=\"M 147.451304 71.054111  L 155.457391 71.054111  L 155.457391 71.054111  L 147.451304 71.054111  z \" clip-path=\"url(#p33810dc490)\" style=\"fill: #a1dab4; stroke: #444443; stroke-width: 0.5; stroke-linejoin: miter\" />\n   </g>\n   <g id=\"patch_36\">\n    <path d=\"M 155.457391 71.072234  L 163.463478 71.072234  L 163.463478 71.072234  L 155.457391 71.072234  z \" clip-path=\"url(#p33810dc490)\" style=\"fill: #a1dab4; stroke: #444443; stroke-width: 0.5; stroke-linejoin: miter\" />\n   </g>\n   <g id=\"patch_37\">\n    <path d=\"M 163.463478 71.072234  L 171.469565 71.072234  L 171.469565 71.072234  L 163.463478 71.072234  z \" clip-path=\"url(#p33810dc490)\" style=\"fill: #a1dab4; stroke: #444443; stroke-width: 0.5; stroke-linejoin: miter\" />\n   </g>\n   <g id=\"patch_38\">\n    <path d=\"M 171.469565 71.072234  L 179.475652 71.072234  L 179.475652 71.072234  L 171.469565 71.072234  z \" clip-path=\"url(#p33810dc490)\" style=\"fill: #a1dab4; stroke: #444443; stroke-width: 0.5; stroke-linejoin: miter\" />\n   </g>\n   <g id=\"patch_39\">\n    <path d=\"M 179.475652 71.072234  L 187.481739 71.072234  L 187.481739 71.072234  L 179.475652 71.072234  z \" clip-path=\"url(#p33810dc490)\" style=\"fill: #a1dab4; stroke: #444443; stroke-width: 0.5; stroke-linejoin: miter\" />\n   </g>\n   <g id=\"patch_40\">\n    <path d=\"M 187.481739 71.054111  L 195.487826 71.054111  L 195.487826 71.054111  L 187.481739 71.054111  z \" clip-path=\"url(#p33810dc490)\" style=\"fill: #a1dab4; stroke: #444443; stroke-width: 0.5; stroke-linejoin: miter\" />\n   </g>\n   <g id=\"patch_41\">\n    <path d=\"M 47.051107 71.903834  L 43.736587 80.219834  L 50.365627 80.219834  z \" style=\"fill: #444443\" />\n   </g>\n   <g id=\"matplotlib.axis_1\">\n    <g id=\"xtick_1\">\n     <g id=\"line2d_1\">\n      <defs>\n       <path id=\"ma2d986e019\" d=\"M 0 0  L 0 3.5  \" style=\"stroke: #000000; stroke-width: 0.3\" />\n      </defs>\n      <g>\n       <use xlink:href=\"#ma2d986e019\" x=\"43.372174\" y=\"71.072234\" style=\"stroke: #000000; stroke-width: 0.3\" />\n      </g>\n     </g>\n     <g id=\"text_1\">\n      \n      <g style=\"fill: #444443\" transform=\"translate(40.827174 88.650984) scale(0.08 -0.08)\">\n       <defs>\n        <path id=\"DejaVuSans-30\" d=\"M 2034 4250  Q 1547 4250 1301 3770  Q 1056 3291 1056 2328  Q 1056 1369 1301 889  Q 1547 409 2034 409  Q 2525 409 2770 889  Q 3016 1369 3016 2328  Q 3016 3291 2770 3770  Q 2525 4250 2034 4250  z M 2034 4750  Q 2819 4750 3233 4129  Q 3647 3509 3647 2328  Q 3647 1150 3233 529  Q 2819 -91 2034 -91  Q 1250 -91 836 529  Q 422 1150 422 2328  Q 422 3509 836 4129  Q 1250 4750 2034 4750  z \" transform=\"scale(0.015625)\" />\n       </defs>\n       <use xlink:href=\"#DejaVuSans-30\" />\n      </g>\n     </g>\n    </g>\n    <g id=\"xtick_2\">\n     <g id=\"line2d_2\">\n      <g>\n       <use xlink:href=\"#ma2d986e019\" x=\"195.487826\" y=\"71.072234\" style=\"stroke: #000000; stroke-width: 0.3\" />\n      </g>\n     </g>\n     <g id=\"text_2\">\n      \n      <g style=\"fill: #444443\" transform=\"translate(182.762826 88.650984) scale(0.08 -0.08)\">\n       <defs>\n        <path id=\"DejaVuSans-31\" d=\"M 794 531  L 1825 531  L 1825 4091  L 703 3866  L 703 4441  L 1819 4666  L 2450 4666  L 2450 531  L 3481 531  L 3481 0  L 794 0  L 794 531  z \" transform=\"scale(0.015625)\" />\n        <path id=\"DejaVuSans-34\" d=\"M 2419 4116  L 825 1625  L 2419 1625  L 2419 4116  z M 2253 4666  L 3047 4666  L 3047 1625  L 3713 1625  L 3713 1100  L 3047 1100  L 3047 0  L 2419 0  L 2419 1100  L 313 1100  L 313 1709  L 2253 4666  z \" transform=\"scale(0.015625)\" />\n        <path id=\"DejaVuSans-33\" d=\"M 2597 2516  Q 3050 2419 3304 2112  Q 3559 1806 3559 1356  Q 3559 666 3084 287  Q 2609 -91 1734 -91  Q 1441 -91 1130 -33  Q 819 25 488 141  L 488 750  Q 750 597 1062 519  Q 1375 441 1716 441  Q 2309 441 2620 675  Q 2931 909 2931 1356  Q 2931 1769 2642 2001  Q 2353 2234 1838 2234  L 1294 2234  L 1294 2753  L 1863 2753  Q 2328 2753 2575 2939  Q 2822 3125 2822 3475  Q 2822 3834 2567 4026  Q 2313 4219 1838 4219  Q 1578 4219 1281 4162  Q 984 4106 628 3988  L 628 4550  Q 988 4650 1302 4700  Q 1616 4750 1894 4750  Q 2613 4750 3031 4423  Q 3450 4097 3450 3541  Q 3450 3153 3228 2886  Q 3006 2619 2597 2516  z \" transform=\"scale(0.015625)\" />\n        <path id=\"DejaVuSans-32\" d=\"M 1228 531  L 3431 531  L 3431 0  L 469 0  L 469 531  Q 828 903 1448 1529  Q 2069 2156 2228 2338  Q 2531 2678 2651 2914  Q 2772 3150 2772 3378  Q 2772 3750 2511 3984  Q 2250 4219 1831 4219  Q 1534 4219 1204 4116  Q 875 4013 500 3803  L 500 4441  Q 881 4594 1212 4672  Q 1544 4750 1819 4750  Q 2544 4750 2975 4387  Q 3406 4025 3406 3419  Q 3406 3131 3298 2873  Q 3191 2616 2906 2266  Q 2828 2175 2409 1742  Q 1991 1309 1228 531  z \" transform=\"scale(0.015625)\" />\n        <path id=\"DejaVuSans-37\" d=\"M 525 4666  L 3525 4666  L 3525 4397  L 1831 0  L 1172 0  L 2766 4134  L 525 4134  L 525 4666  z \" transform=\"scale(0.015625)\" />\n       </defs>\n       <use xlink:href=\"#DejaVuSans-31\" />\n       <use xlink:href=\"#DejaVuSans-34\" x=\"63.623047\" />\n       <use xlink:href=\"#DejaVuSans-33\" x=\"127.246094\" />\n       <use xlink:href=\"#DejaVuSans-32\" x=\"190.869141\" />\n       <use xlink:href=\"#DejaVuSans-37\" x=\"254.492188\" />\n      </g>\n     </g>\n    </g>\n   </g>\n   <g id=\"matplotlib.axis_2\">\n    <g id=\"ytick_1\">\n     <g id=\"line2d_3\">\n      <defs>\n       <path id=\"m0b0d6cba90\" d=\"M 0 0  L -3.5 0  \" style=\"stroke: #000000; stroke-width: 0.3\" />\n      </defs>\n      <g>\n       <use xlink:href=\"#m0b0d6cba90\" x=\"27.36\" y=\"71.072234\" style=\"stroke: #000000; stroke-width: 0.3\" />\n      </g>\n     </g>\n     <g id=\"text_3\">\n      \n      <g style=\"fill: #444443\" transform=\"translate(15.27 74.111609) scale(0.08 -0.08)\">\n       <use xlink:href=\"#DejaVuSans-30\" />\n      </g>\n     </g>\n    </g>\n    <g id=\"ytick_2\">\n     <g id=\"line2d_4\">\n      <g>\n       <use xlink:href=\"#m0b0d6cba90\" x=\"27.36\" y=\"3.384392\" style=\"stroke: #000000; stroke-width: 0.3\" />\n      </g>\n     </g>\n     <g id=\"text_4\">\n      \n      <g style=\"fill: #444443\" transform=\"translate(0 6.423767) scale(0.08 -0.08)\">\n       <defs>\n        <path id=\"DejaVuSans-35\" d=\"M 691 4666  L 3169 4666  L 3169 4134  L 1269 4134  L 1269 2991  Q 1406 3038 1543 3061  Q 1681 3084 1819 3084  Q 2600 3084 3056 2656  Q 3513 2228 3513 1497  Q 3513 744 3044 326  Q 2575 -91 1722 -91  Q 1428 -91 1123 -41  Q 819 9 494 109  L 494 744  Q 775 591 1075 516  Q 1375 441 1709 441  Q 2250 441 2565 725  Q 2881 1009 2881 1497  Q 2881 1984 2565 2268  Q 2250 2553 1709 2553  Q 1456 2553 1204 2497  Q 953 2441 691 2322  L 691 4666  z \" transform=\"scale(0.015625)\" />\n       </defs>\n       <use xlink:href=\"#DejaVuSans-33\" />\n       <use xlink:href=\"#DejaVuSans-37\" x=\"63.623047\" />\n       <use xlink:href=\"#DejaVuSans-33\" x=\"127.246094\" />\n       <use xlink:href=\"#DejaVuSans-35\" x=\"190.869141\" />\n      </g>\n     </g>\n    </g>\n   </g>\n   <g id=\"patch_42\">\n    <path d=\"M 27.36 71.072234  L 27.36 0  \" style=\"fill: none; stroke: #444443; stroke-width: 0.3; stroke-linejoin: miter; stroke-linecap: square\" />\n   </g>\n   <g id=\"patch_43\">\n    <path d=\"M 27.36 71.072234  L 211.5 71.072234  \" style=\"fill: none; stroke: #444443; stroke-width: 0.3; stroke-linejoin: miter; stroke-linecap: square\" />\n   </g>\n  </g>\n </g>\n <defs>\n  <clipPath id=\"p33810dc490\">\n   <rect x=\"27.36\" y=\"-0\" width=\"184.14\" height=\"71.072234\" />\n  </clipPath>\n </defs>\n</svg></g>\n\n<g id=\"node2\" class=\"node\">\n<title>node2</title>\n<svg width=\"159px\" height=\"36px\" viewBox=\"0 0 211.5 48.681875\" version=\"1.1\" preserveAspectRatio=\"xMinYMin meet\" x=\"197\" y=\"-156.5\">\n <metadata>\n  <rdf:RDF>\n   <ns2:Work>\n    <dc:type rdf:resource=\"http://purl.org/dc/dcmitype/StillImage\" />\n    <dc:date>2023-02-23T18:22:02.903531</dc:date>\n    <dc:format>image/svg+xml</dc:format>\n    <dc:creator>\n     <ns2:Agent>\n      <dc:title>Matplotlib v3.6.2, https://matplotlib.org/</dc:title>\n     </ns2:Agent>\n    </dc:creator>\n   </ns2:Work>\n  </rdf:RDF>\n </metadata>\n <defs>\n  <style type=\"text/css\">*{stroke-linejoin: round; stroke-linecap: butt}</style>\n </defs>\n <g id=\"figure_1\">\n  <g id=\"patch_1\">\n   <path d=\"M 0 48.681875  L 211.5 48.681875  L 211.5 0  L 0 0  z \" style=\"fill: #ffffff\" />\n  </g>\n  <g id=\"axes_1\">\n   <g id=\"patch_2\">\n    <path d=\"M 27.36 29.439375  L 211.5 29.439375  L 211.5 1.719375  L 27.36 1.719375  z \" style=\"fill: #ffffff\" />\n   </g>\n   <g id=\"patch_3\">\n    <path d=\"M 43.372174 29.439375  L 51.378261 29.439375  L 51.378261 29.24038  L 43.372174 29.24038  z \" clip-path=\"url(#p6f2b1ebee2)\" style=\"fill: #fefebb; stroke: #444443; stroke-width: 0.5; stroke-linejoin: miter\" />\n   </g>\n   <g id=\"patch_4\">\n    <path d=\"M 51.378261 29.439375  L 59.384348 29.439375  L 59.384348 29.439375  L 51.378261 29.439375  z \" clip-path=\"url(#p6f2b1ebee2)\" style=\"fill: #fefebb; stroke: #444443; stroke-width: 0.5; stroke-linejoin: miter\" />\n   </g>\n   <g id=\"patch_5\">\n    <path d=\"M 59.384348 29.439375  L 67.390435 29.439375  L 67.390435 29.439375  L 59.384348 29.439375  z \" clip-path=\"url(#p6f2b1ebee2)\" style=\"fill: #fefebb; stroke: #444443; stroke-width: 0.5; stroke-linejoin: miter\" />\n   </g>\n   <g id=\"patch_6\">\n    <path d=\"M 67.390435 29.439375  L 75.396522 29.439375  L 75.396522 29.439375  L 67.390435 29.439375  z \" clip-path=\"url(#p6f2b1ebee2)\" style=\"fill: #fefebb; stroke: #444443; stroke-width: 0.5; stroke-linejoin: miter\" />\n   </g>\n   <g id=\"patch_7\">\n    <path d=\"M 75.396522 29.439375  L 83.402609 29.439375  L 83.402609 29.439375  L 75.396522 29.439375  z \" clip-path=\"url(#p6f2b1ebee2)\" style=\"fill: #fefebb; stroke: #444443; stroke-width: 0.5; stroke-linejoin: miter\" />\n   </g>\n   <g id=\"patch_8\">\n    <path d=\"M 83.402609 29.439375  L 91.408696 29.439375  L 91.408696 29.439375  L 83.402609 29.439375  z \" clip-path=\"url(#p6f2b1ebee2)\" style=\"fill: #fefebb; stroke: #444443; stroke-width: 0.5; stroke-linejoin: miter\" />\n   </g>\n   <g id=\"patch_9\">\n    <path d=\"M 91.408696 29.439375  L 99.414783 29.439375  L 99.414783 20.04239  L 91.408696 20.04239  z \" clip-path=\"url(#p6f2b1ebee2)\" style=\"fill: #fefebb; stroke: #444443; stroke-width: 0.5; stroke-linejoin: miter\" />\n   </g>\n   <g id=\"patch_10\">\n    <path d=\"M 99.414783 29.439375  L 107.42087 29.439375  L 107.42087 29.439375  L 99.414783 29.439375  z \" clip-path=\"url(#p6f2b1ebee2)\" style=\"fill: #fefebb; stroke: #444443; stroke-width: 0.5; stroke-linejoin: miter\" />\n   </g>\n   <g id=\"patch_11\">\n    <path d=\"M 107.42087 29.439375  L 115.426957 29.439375  L 115.426957 29.439375  L 107.42087 29.439375  z \" clip-path=\"url(#p6f2b1ebee2)\" style=\"fill: #fefebb; stroke: #444443; stroke-width: 0.5; stroke-linejoin: miter\" />\n   </g>\n   <g id=\"patch_12\">\n    <path d=\"M 115.426957 29.439375  L 123.433043 29.439375  L 123.433043 29.439375  L 115.426957 29.439375  z \" clip-path=\"url(#p6f2b1ebee2)\" style=\"fill: #fefebb; stroke: #444443; stroke-width: 0.5; stroke-linejoin: miter\" />\n   </g>\n   <g id=\"patch_13\">\n    <path d=\"M 123.433043 29.439375  L 131.43913 29.439375  L 131.43913 29.439375  L 123.433043 29.439375  z \" clip-path=\"url(#p6f2b1ebee2)\" style=\"fill: #fefebb; stroke: #444443; stroke-width: 0.5; stroke-linejoin: miter\" />\n   </g>\n   <g id=\"patch_14\">\n    <path d=\"M 131.43913 29.439375  L 139.445217 29.439375  L 139.445217 29.439375  L 131.43913 29.439375  z \" clip-path=\"url(#p6f2b1ebee2)\" style=\"fill: #fefebb; stroke: #444443; stroke-width: 0.5; stroke-linejoin: miter\" />\n   </g>\n   <g id=\"patch_15\">\n    <path d=\"M 139.445217 29.439375  L 147.451304 29.439375  L 147.451304 28.908722  L 139.445217 28.908722  z \" clip-path=\"url(#p6f2b1ebee2)\" style=\"fill: #fefebb; stroke: #444443; stroke-width: 0.5; stroke-linejoin: miter\" />\n   </g>\n   <g id=\"patch_16\">\n    <path d=\"M 147.451304 29.439375  L 155.457391 29.439375  L 155.457391 29.439375  L 147.451304 29.439375  z \" clip-path=\"url(#p6f2b1ebee2)\" style=\"fill: #fefebb; stroke: #444443; stroke-width: 0.5; stroke-linejoin: miter\" />\n   </g>\n   <g id=\"patch_17\">\n    <path d=\"M 155.457391 29.439375  L 163.463478 29.439375  L 163.463478 29.439375  L 155.457391 29.439375  z \" clip-path=\"url(#p6f2b1ebee2)\" style=\"fill: #fefebb; stroke: #444443; stroke-width: 0.5; stroke-linejoin: miter\" />\n   </g>\n   <g id=\"patch_18\">\n    <path d=\"M 163.463478 29.439375  L 171.469565 29.439375  L 171.469565 29.439375  L 163.463478 29.439375  z \" clip-path=\"url(#p6f2b1ebee2)\" style=\"fill: #fefebb; stroke: #444443; stroke-width: 0.5; stroke-linejoin: miter\" />\n   </g>\n   <g id=\"patch_19\">\n    <path d=\"M 171.469565 29.439375  L 179.475652 29.439375  L 179.475652 29.439375  L 171.469565 29.439375  z \" clip-path=\"url(#p6f2b1ebee2)\" style=\"fill: #fefebb; stroke: #444443; stroke-width: 0.5; stroke-linejoin: miter\" />\n   </g>\n   <g id=\"patch_20\">\n    <path d=\"M 179.475652 29.439375  L 187.481739 29.439375  L 187.481739 29.439375  L 179.475652 29.439375  z \" clip-path=\"url(#p6f2b1ebee2)\" style=\"fill: #fefebb; stroke: #444443; stroke-width: 0.5; stroke-linejoin: miter\" />\n   </g>\n   <g id=\"patch_21\">\n    <path d=\"M 187.481739 29.439375  L 195.487826 29.439375  L 195.487826 28.134852  L 187.481739 28.134852  z \" clip-path=\"url(#p6f2b1ebee2)\" style=\"fill: #fefebb; stroke: #444443; stroke-width: 0.5; stroke-linejoin: miter\" />\n   </g>\n   <g id=\"patch_22\">\n    <path d=\"M 43.372174 29.24038  L 51.378261 29.24038  L 51.378261 28.04641  L 43.372174 28.04641  z \" clip-path=\"url(#p6f2b1ebee2)\" style=\"fill: #a1dab4; stroke: #444443; stroke-width: 0.5; stroke-linejoin: miter\" />\n   </g>\n   <g id=\"patch_23\">\n    <path d=\"M 51.378261 29.439375  L 59.384348 29.439375  L 59.384348 29.439375  L 51.378261 29.439375  z \" clip-path=\"url(#p6f2b1ebee2)\" style=\"fill: #a1dab4; stroke: #444443; stroke-width: 0.5; stroke-linejoin: miter\" />\n   </g>\n   <g id=\"patch_24\">\n    <path d=\"M 59.384348 29.439375  L 67.390435 29.439375  L 67.390435 29.439375  L 59.384348 29.439375  z \" clip-path=\"url(#p6f2b1ebee2)\" style=\"fill: #a1dab4; stroke: #444443; stroke-width: 0.5; stroke-linejoin: miter\" />\n   </g>\n   <g id=\"patch_25\">\n    <path d=\"M 67.390435 29.439375  L 75.396522 29.439375  L 75.396522 29.439375  L 67.390435 29.439375  z \" clip-path=\"url(#p6f2b1ebee2)\" style=\"fill: #a1dab4; stroke: #444443; stroke-width: 0.5; stroke-linejoin: miter\" />\n   </g>\n   <g id=\"patch_26\">\n    <path d=\"M 75.396522 29.439375  L 83.402609 29.439375  L 83.402609 29.439375  L 75.396522 29.439375  z \" clip-path=\"url(#p6f2b1ebee2)\" style=\"fill: #a1dab4; stroke: #444443; stroke-width: 0.5; stroke-linejoin: miter\" />\n   </g>\n   <g id=\"patch_27\">\n    <path d=\"M 83.402609 29.439375  L 91.408696 29.439375  L 91.408696 29.439375  L 83.402609 29.439375  z \" clip-path=\"url(#p6f2b1ebee2)\" style=\"fill: #a1dab4; stroke: #444443; stroke-width: 0.5; stroke-linejoin: miter\" />\n   </g>\n   <g id=\"patch_28\">\n    <path d=\"M 91.408696 20.04239  L 99.414783 20.04239  L 99.414783 3.039375  L 91.408696 3.039375  z \" clip-path=\"url(#p6f2b1ebee2)\" style=\"fill: #a1dab4; stroke: #444443; stroke-width: 0.5; stroke-linejoin: miter\" />\n   </g>\n   <g id=\"patch_29\">\n    <path d=\"M 99.414783 29.439375  L 107.42087 29.439375  L 107.42087 29.439375  L 99.414783 29.439375  z \" clip-path=\"url(#p6f2b1ebee2)\" style=\"fill: #a1dab4; stroke: #444443; stroke-width: 0.5; stroke-linejoin: miter\" />\n   </g>\n   <g id=\"patch_30\">\n    <path d=\"M 107.42087 29.439375  L 115.426957 29.439375  L 115.426957 29.439375  L 107.42087 29.439375  z \" clip-path=\"url(#p6f2b1ebee2)\" style=\"fill: #a1dab4; stroke: #444443; stroke-width: 0.5; stroke-linejoin: miter\" />\n   </g>\n   <g id=\"patch_31\">\n    <path d=\"M 115.426957 29.439375  L 123.433043 29.439375  L 123.433043 29.439375  L 115.426957 29.439375  z \" clip-path=\"url(#p6f2b1ebee2)\" style=\"fill: #a1dab4; stroke: #444443; stroke-width: 0.5; stroke-linejoin: miter\" />\n   </g>\n   <g id=\"patch_32\">\n    <path d=\"M 123.433043 29.439375  L 131.43913 29.439375  L 131.43913 29.439375  L 123.433043 29.439375  z \" clip-path=\"url(#p6f2b1ebee2)\" style=\"fill: #a1dab4; stroke: #444443; stroke-width: 0.5; stroke-linejoin: miter\" />\n   </g>\n   <g id=\"patch_33\">\n    <path d=\"M 131.43913 29.439375  L 139.445217 29.439375  L 139.445217 29.439375  L 131.43913 29.439375  z \" clip-path=\"url(#p6f2b1ebee2)\" style=\"fill: #a1dab4; stroke: #444443; stroke-width: 0.5; stroke-linejoin: miter\" />\n   </g>\n   <g id=\"patch_34\">\n    <path d=\"M 139.445217 28.908722  L 147.451304 28.908722  L 147.451304 12.502692  L 139.445217 12.502692  z \" clip-path=\"url(#p6f2b1ebee2)\" style=\"fill: #a1dab4; stroke: #444443; stroke-width: 0.5; stroke-linejoin: miter\" />\n   </g>\n   <g id=\"patch_35\">\n    <path d=\"M 147.451304 29.439375  L 155.457391 29.439375  L 155.457391 29.439375  L 147.451304 29.439375  z \" clip-path=\"url(#p6f2b1ebee2)\" style=\"fill: #a1dab4; stroke: #444443; stroke-width: 0.5; stroke-linejoin: miter\" />\n   </g>\n   <g id=\"patch_36\">\n    <path d=\"M 155.457391 29.439375  L 163.463478 29.439375  L 163.463478 29.439375  L 155.457391 29.439375  z \" clip-path=\"url(#p6f2b1ebee2)\" style=\"fill: #a1dab4; stroke: #444443; stroke-width: 0.5; stroke-linejoin: miter\" />\n   </g>\n   <g id=\"patch_37\">\n    <path d=\"M 163.463478 29.439375  L 171.469565 29.439375  L 171.469565 29.439375  L 163.463478 29.439375  z \" clip-path=\"url(#p6f2b1ebee2)\" style=\"fill: #a1dab4; stroke: #444443; stroke-width: 0.5; stroke-linejoin: miter\" />\n   </g>\n   <g id=\"patch_38\">\n    <path d=\"M 171.469565 29.439375  L 179.475652 29.439375  L 179.475652 29.439375  L 171.469565 29.439375  z \" clip-path=\"url(#p6f2b1ebee2)\" style=\"fill: #a1dab4; stroke: #444443; stroke-width: 0.5; stroke-linejoin: miter\" />\n   </g>\n   <g id=\"patch_39\">\n    <path d=\"M 179.475652 29.439375  L 187.481739 29.439375  L 187.481739 29.439375  L 179.475652 29.439375  z \" clip-path=\"url(#p6f2b1ebee2)\" style=\"fill: #a1dab4; stroke: #444443; stroke-width: 0.5; stroke-linejoin: miter\" />\n   </g>\n   <g id=\"patch_40\">\n    <path d=\"M 187.481739 28.134852  L 195.487826 28.134852  L 195.487826 17.190129  L 187.481739 17.190129  z \" clip-path=\"url(#p6f2b1ebee2)\" style=\"fill: #a1dab4; stroke: #444443; stroke-width: 0.5; stroke-linejoin: miter\" />\n   </g>\n   <g id=\"patch_41\">\n    <path d=\"M 119.43 30.270975  L 116.11548 38.586975  L 122.74452 38.586975  z \" style=\"fill: #444443\" />\n   </g>\n   <g id=\"matplotlib.axis_1\">\n    <g id=\"xtick_1\">\n     <g id=\"line2d_1\">\n      <defs>\n       <path id=\"m8da9a0ef17\" d=\"M 0 0  L 0 3.5  \" style=\"stroke: #000000; stroke-width: 0.3\" />\n      </defs>\n      <g>\n       <use xlink:href=\"#m8da9a0ef17\" x=\"43.372174\" y=\"29.439375\" style=\"stroke: #000000; stroke-width: 0.3\" />\n      </g>\n     </g>\n     <g id=\"text_1\">\n      \n      <g style=\"fill: #444443\" transform=\"translate(37.010924 47.018125) scale(0.08 -0.08)\">\n       <defs>\n        <path id=\"DejaVuSans-30\" d=\"M 2034 4250  Q 1547 4250 1301 3770  Q 1056 3291 1056 2328  Q 1056 1369 1301 889  Q 1547 409 2034 409  Q 2525 409 2770 889  Q 3016 1369 3016 2328  Q 3016 3291 2770 3770  Q 2525 4250 2034 4250  z M 2034 4750  Q 2819 4750 3233 4129  Q 3647 3509 3647 2328  Q 3647 1150 3233 529  Q 2819 -91 2034 -91  Q 1250 -91 836 529  Q 422 1150 422 2328  Q 422 3509 836 4129  Q 1250 4750 2034 4750  z \" transform=\"scale(0.015625)\" />\n        <path id=\"DejaVuSans-2e\" d=\"M 684 794  L 1344 794  L 1344 0  L 684 0  L 684 794  z \" transform=\"scale(0.015625)\" />\n       </defs>\n       <use xlink:href=\"#DejaVuSans-30\" />\n       <use xlink:href=\"#DejaVuSans-2e\" x=\"63.623047\" />\n       <use xlink:href=\"#DejaVuSans-30\" x=\"95.410156\" />\n      </g>\n     </g>\n    </g>\n    <g id=\"xtick_2\">\n     <g id=\"line2d_2\">\n      <g>\n       <use xlink:href=\"#m8da9a0ef17\" x=\"119.43\" y=\"29.439375\" style=\"stroke: #000000; stroke-width: 0.3\" />\n      </g>\n     </g>\n     <g id=\"text_2\">\n      \n      <g style=\"fill: #444443\" transform=\"translate(113.06875 47.018125) scale(0.08 -0.08)\">\n       <defs>\n        <path id=\"DejaVuSans-31\" d=\"M 794 531  L 1825 531  L 1825 4091  L 703 3866  L 703 4441  L 1819 4666  L 2450 4666  L 2450 531  L 3481 531  L 3481 0  L 794 0  L 794 531  z \" transform=\"scale(0.015625)\" />\n        <path id=\"DejaVuSans-35\" d=\"M 691 4666  L 3169 4666  L 3169 4134  L 1269 4134  L 1269 2991  Q 1406 3038 1543 3061  Q 1681 3084 1819 3084  Q 2600 3084 3056 2656  Q 3513 2228 3513 1497  Q 3513 744 3044 326  Q 2575 -91 1722 -91  Q 1428 -91 1123 -41  Q 819 9 494 109  L 494 744  Q 775 591 1075 516  Q 1375 441 1709 441  Q 2250 441 2565 725  Q 2881 1009 2881 1497  Q 2881 1984 2565 2268  Q 2250 2553 1709 2553  Q 1456 2553 1204 2497  Q 953 2441 691 2322  L 691 4666  z \" transform=\"scale(0.015625)\" />\n       </defs>\n       <use xlink:href=\"#DejaVuSans-31\" />\n       <use xlink:href=\"#DejaVuSans-2e\" x=\"63.623047\" />\n       <use xlink:href=\"#DejaVuSans-35\" x=\"95.410156\" />\n      </g>\n     </g>\n    </g>\n    <g id=\"xtick_3\">\n     <g id=\"line2d_3\">\n      <g>\n       <use xlink:href=\"#m8da9a0ef17\" x=\"195.487826\" y=\"29.439375\" style=\"stroke: #000000; stroke-width: 0.3\" />\n      </g>\n     </g>\n     <g id=\"text_3\">\n      \n      <g style=\"fill: #444443\" transform=\"translate(189.126576 47.018125) scale(0.08 -0.08)\">\n       <defs>\n        <path id=\"DejaVuSans-33\" d=\"M 2597 2516  Q 3050 2419 3304 2112  Q 3559 1806 3559 1356  Q 3559 666 3084 287  Q 2609 -91 1734 -91  Q 1441 -91 1130 -33  Q 819 25 488 141  L 488 750  Q 750 597 1062 519  Q 1375 441 1716 441  Q 2309 441 2620 675  Q 2931 909 2931 1356  Q 2931 1769 2642 2001  Q 2353 2234 1838 2234  L 1294 2234  L 1294 2753  L 1863 2753  Q 2328 2753 2575 2939  Q 2822 3125 2822 3475  Q 2822 3834 2567 4026  Q 2313 4219 1838 4219  Q 1578 4219 1281 4162  Q 984 4106 628 3988  L 628 4550  Q 988 4650 1302 4700  Q 1616 4750 1894 4750  Q 2613 4750 3031 4423  Q 3450 4097 3450 3541  Q 3450 3153 3228 2886  Q 3006 2619 2597 2516  z \" transform=\"scale(0.015625)\" />\n       </defs>\n       <use xlink:href=\"#DejaVuSans-33\" />\n       <use xlink:href=\"#DejaVuSans-2e\" x=\"63.623047\" />\n       <use xlink:href=\"#DejaVuSans-30\" x=\"95.410156\" />\n      </g>\n     </g>\n    </g>\n   </g>\n   <g id=\"matplotlib.axis_2\">\n    <g id=\"ytick_1\">\n     <g id=\"line2d_4\">\n      <defs>\n       <path id=\"mb1a20afc74\" d=\"M 0 0  L -3.5 0  \" style=\"stroke: #000000; stroke-width: 0.3\" />\n      </defs>\n      <g>\n       <use xlink:href=\"#mb1a20afc74\" x=\"27.36\" y=\"29.439375\" style=\"stroke: #000000; stroke-width: 0.3\" />\n      </g>\n     </g>\n     <g id=\"text_4\">\n      \n      <g style=\"fill: #444443\" transform=\"translate(15.27 32.47875) scale(0.08 -0.08)\">\n       <use xlink:href=\"#DejaVuSans-30\" />\n      </g>\n     </g>\n    </g>\n    <g id=\"ytick_2\">\n     <g id=\"line2d_5\">\n      <g>\n       <use xlink:href=\"#mb1a20afc74\" x=\"27.36\" y=\"3.039375\" style=\"stroke: #000000; stroke-width: 0.3\" />\n      </g>\n     </g>\n     <g id=\"text_5\">\n      \n      <g style=\"fill: #444443\" transform=\"translate(0 6.07875) scale(0.08 -0.08)\">\n       <defs>\n        <path id=\"DejaVuSans-39\" d=\"M 703 97  L 703 672  Q 941 559 1184 500  Q 1428 441 1663 441  Q 2288 441 2617 861  Q 2947 1281 2994 2138  Q 2813 1869 2534 1725  Q 2256 1581 1919 1581  Q 1219 1581 811 2004  Q 403 2428 403 3163  Q 403 3881 828 4315  Q 1253 4750 1959 4750  Q 2769 4750 3195 4129  Q 3622 3509 3622 2328  Q 3622 1225 3098 567  Q 2575 -91 1691 -91  Q 1453 -91 1209 -44  Q 966 3 703 97  z M 1959 2075  Q 2384 2075 2632 2365  Q 2881 2656 2881 3163  Q 2881 3666 2632 3958  Q 2384 4250 1959 4250  Q 1534 4250 1286 3958  Q 1038 3666 1038 3163  Q 1038 2656 1286 2365  Q 1534 2075 1959 2075  z \" transform=\"scale(0.015625)\" />\n        <path id=\"DejaVuSans-34\" d=\"M 2419 4116  L 825 1625  L 2419 1625  L 2419 4116  z M 2253 4666  L 3047 4666  L 3047 1625  L 3713 1625  L 3713 1100  L 3047 1100  L 3047 0  L 2419 0  L 2419 1100  L 313 1100  L 313 1709  L 2253 4666  z \" transform=\"scale(0.015625)\" />\n       </defs>\n       <use xlink:href=\"#DejaVuSans-31\" />\n       <use xlink:href=\"#DejaVuSans-31\" x=\"63.623047\" />\n       <use xlink:href=\"#DejaVuSans-39\" x=\"127.246094\" />\n       <use xlink:href=\"#DejaVuSans-34\" x=\"190.869141\" />\n      </g>\n     </g>\n    </g>\n   </g>\n   <g id=\"patch_42\">\n    <path d=\"M 27.36 29.439375  L 27.36 1.719375  \" style=\"fill: none; stroke: #444443; stroke-width: 0.3; stroke-linejoin: miter; stroke-linecap: square\" />\n   </g>\n   <g id=\"patch_43\">\n    <path d=\"M 27.36 29.439375  L 211.5 29.439375  \" style=\"fill: none; stroke: #444443; stroke-width: 0.3; stroke-linejoin: miter; stroke-linecap: square\" />\n   </g>\n  </g>\n </g>\n <defs>\n  <clipPath id=\"p6f2b1ebee2\">\n   <rect x=\"27.36\" y=\"1.719375\" width=\"184.14\" height=\"27.72\" />\n  </clipPath>\n </defs>\n</svg></g>\n\n\n<g id=\"node4\" class=\"node\">\n<title>leaf5</title>\n<polygon fill=\"none\" stroke=\"#444443\" stroke-width=\"0\" points=\"68,-84 0,-84 0,0 68,0 68,-84\" />\n<svg width=\"60px\" height=\"76px\" viewBox=\"0 0 80.07994 102.071515\" version=\"1.1\" preserveAspectRatio=\"xMinYMin meet\" x=\"4\" y=\"-80\">\n <metadata>\n  <rdf:RDF>\n   <ns2:Work>\n    <dc:type rdf:resource=\"http://purl.org/dc/dcmitype/StillImage\" />\n    <dc:date>2023-02-23T18:22:03.017779</dc:date>\n    <dc:format>image/svg+xml</dc:format>\n    <dc:creator>\n     <ns2:Agent>\n      <dc:title>Matplotlib v3.6.2, https://matplotlib.org/</dc:title>\n     </ns2:Agent>\n    </dc:creator>\n   </ns2:Work>\n  </rdf:RDF>\n </metadata>\n <defs>\n  <style type=\"text/css\">*{stroke-linejoin: round; stroke-linecap: butt}</style>\n </defs>\n <g id=\"figure_1\">\n  <g id=\"patch_1\">\n   <path d=\"M -0 102.071515  L 80.07994 102.071515  L 80.07994 0  L -0 0  z \" style=\"fill: #ffffff\" />\n  </g>\n  <g id=\"axes_1\">\n   <g id=\"patch_2\">\n    <path d=\"M 80.07994 40.039971  C 80.07994 33.592924 78.522832 27.240242 75.541473 21.523958  C 72.560115 15.807673 68.241781 10.895123 62.954928 7.205463  C 57.668075 3.515802 51.567468 1.157042 45.173632 0.33044  C 38.779796 -0.496162 32.279902 0.233592 26.228545 2.457436  C 20.177187 4.681279 14.751512 8.334114 10.414455 13.104265  C 6.077398 17.874417 2.955923 23.622247 1.316363 29.857329  C -0.323196 36.092412 -0.432844 42.632223 0.996776 48.918764  C 2.426397 55.205305 5.353434 61.054545 9.528144 65.967406  L 40.03994 40.039971  L 80.07994 40.039971  z \" style=\"fill: #fefebb; stroke: #444443; stroke-width: 0.5; stroke-linejoin: miter\" />\n   </g>\n   <g id=\"patch_3\">\n    <path d=\"M 9.528144 65.967406  C 14.834482 72.211985 21.932086 76.679556 29.857297 78.763547  C 37.782508 80.847539 46.159648 80.449162 53.851332 77.622507  C 61.543016 74.795852 68.184637 69.67491 72.874445 62.954963  C 77.564253 56.235016 80.079939 48.23461 80.07994 40.039978  L 40.03994 40.039971  L 9.528144 65.967406  z \" style=\"fill: #a1dab4; stroke: #444443; stroke-width: 0.5; stroke-linejoin: miter\" />\n   </g>\n   <g id=\"text_1\">\n    \n    <g style=\"fill: #444443\" transform=\"translate(21.964706 90.121765) scale(0.09 -0.09)\">\n     <defs>\n      <path id=\"DejaVuSans-6e\" d=\"M 3513 2113  L 3513 0  L 2938 0  L 2938 2094  Q 2938 2591 2744 2837  Q 2550 3084 2163 3084  Q 1697 3084 1428 2787  Q 1159 2491 1159 1978  L 1159 0  L 581 0  L 581 3500  L 1159 3500  L 1159 2956  Q 1366 3272 1645 3428  Q 1925 3584 2291 3584  Q 2894 3584 3203 3211  Q 3513 2838 3513 2113  z \" transform=\"scale(0.015625)\" />\n      <path id=\"DejaVuSans-3d\" d=\"M 678 2906  L 4684 2906  L 4684 2381  L 678 2381  L 678 2906  z M 678 1631  L 4684 1631  L 4684 1100  L 678 1100  L 678 1631  z \" transform=\"scale(0.015625)\" />\n      <path id=\"DejaVuSans-33\" d=\"M 2597 2516  Q 3050 2419 3304 2112  Q 3559 1806 3559 1356  Q 3559 666 3084 287  Q 2609 -91 1734 -91  Q 1441 -91 1130 -33  Q 819 25 488 141  L 488 750  Q 750 597 1062 519  Q 1375 441 1716 441  Q 2309 441 2620 675  Q 2931 909 2931 1356  Q 2931 1769 2642 2001  Q 2353 2234 1838 2234  L 1294 2234  L 1294 2753  L 1863 2753  Q 2328 2753 2575 2939  Q 2822 3125 2822 3475  Q 2822 3834 2567 4026  Q 2313 4219 1838 4219  Q 1578 4219 1281 4162  Q 984 4106 628 3988  L 628 4550  Q 988 4650 1302 4700  Q 1616 4750 1894 4750  Q 2613 4750 3031 4423  Q 3450 4097 3450 3541  Q 3450 3153 3228 2886  Q 3006 2619 2597 2516  z \" transform=\"scale(0.015625)\" />\n      <path id=\"DejaVuSans-32\" d=\"M 1228 531  L 3431 531  L 3431 0  L 469 0  L 469 531  Q 828 903 1448 1529  Q 2069 2156 2228 2338  Q 2531 2678 2651 2914  Q 2772 3150 2772 3378  Q 2772 3750 2511 3984  Q 2250 4219 1831 4219  Q 1534 4219 1204 4116  Q 875 4013 500 3803  L 500 4441  Q 881 4594 1212 4672  Q 1544 4750 1819 4750  Q 2544 4750 2975 4387  Q 3406 4025 3406 3419  Q 3406 3131 3298 2873  Q 3191 2616 2906 2266  Q 2828 2175 2409 1742  Q 1991 1309 1228 531  z \" transform=\"scale(0.015625)\" />\n      <path id=\"DejaVuSans-35\" d=\"M 691 4666  L 3169 4666  L 3169 4134  L 1269 4134  L 1269 2991  Q 1406 3038 1543 3061  Q 1681 3084 1819 3084  Q 2600 3084 3056 2656  Q 3513 2228 3513 1497  Q 3513 744 3044 326  Q 2575 -91 1722 -91  Q 1428 -91 1123 -41  Q 819 9 494 109  L 494 744  Q 775 591 1075 516  Q 1375 441 1709 441  Q 2250 441 2565 725  Q 2881 1009 2881 1497  Q 2881 1984 2565 2268  Q 2250 2553 1709 2553  Q 1456 2553 1204 2497  Q 953 2441 691 2322  L 691 4666  z \" transform=\"scale(0.015625)\" />\n      <path id=\"DejaVuSans-36\" d=\"M 2113 2584  Q 1688 2584 1439 2293  Q 1191 2003 1191 1497  Q 1191 994 1439 701  Q 1688 409 2113 409  Q 2538 409 2786 701  Q 3034 994 3034 1497  Q 3034 2003 2786 2293  Q 2538 2584 2113 2584  z M 3366 4563  L 3366 3988  Q 3128 4100 2886 4159  Q 2644 4219 2406 4219  Q 1781 4219 1451 3797  Q 1122 3375 1075 2522  Q 1259 2794 1537 2939  Q 1816 3084 2150 3084  Q 2853 3084 3261 2657  Q 3669 2231 3669 1497  Q 3669 778 3244 343  Q 2819 -91 2113 -91  Q 1303 -91 875 529  Q 447 1150 447 2328  Q 447 3434 972 4092  Q 1497 4750 2381 4750  Q 2619 4750 2861 4703  Q 3103 4656 3366 4563  z \" transform=\"scale(0.015625)\" />\n     </defs>\n     <use xlink:href=\"#DejaVuSans-6e\" />\n     <use xlink:href=\"#DejaVuSans-3d\" x=\"63.378906\" />\n     <use xlink:href=\"#DejaVuSans-33\" x=\"147.167969\" />\n     <use xlink:href=\"#DejaVuSans-32\" x=\"210.791016\" />\n     <use xlink:href=\"#DejaVuSans-35\" x=\"274.414062\" />\n     <use xlink:href=\"#DejaVuSans-36\" x=\"338.037109\" />\n    </g>\n    \n    <g style=\"fill: #444443\" transform=\"translate(23.908143 100.199796) scale(0.09 -0.09)\">\n     <defs>\n      <path id=\"DejaVuSans-43\" d=\"M 4122 4306  L 4122 3641  Q 3803 3938 3442 4084  Q 3081 4231 2675 4231  Q 1875 4231 1450 3742  Q 1025 3253 1025 2328  Q 1025 1406 1450 917  Q 1875 428 2675 428  Q 3081 428 3442 575  Q 3803 722 4122 1019  L 4122 359  Q 3791 134 3420 21  Q 3050 -91 2638 -91  Q 1578 -91 968 557  Q 359 1206 359 2328  Q 359 3453 968 4101  Q 1578 4750 2638 4750  Q 3056 4750 3426 4639  Q 3797 4528 4122 4306  z \" transform=\"scale(0.015625)\" />\n      <path id=\"DejaVuSans-6c\" d=\"M 603 4863  L 1178 4863  L 1178 0  L 603 0  L 603 4863  z \" transform=\"scale(0.015625)\" />\n      <path id=\"DejaVuSans-61\" d=\"M 2194 1759  Q 1497 1759 1228 1600  Q 959 1441 959 1056  Q 959 750 1161 570  Q 1363 391 1709 391  Q 2188 391 2477 730  Q 2766 1069 2766 1631  L 2766 1759  L 2194 1759  z M 3341 1997  L 3341 0  L 2766 0  L 2766 531  Q 2569 213 2275 61  Q 1981 -91 1556 -91  Q 1019 -91 701 211  Q 384 513 384 1019  Q 384 1609 779 1909  Q 1175 2209 1959 2209  L 2766 2209  L 2766 2266  Q 2766 2663 2505 2880  Q 2244 3097 1772 3097  Q 1472 3097 1187 3025  Q 903 2953 641 2809  L 641 3341  Q 956 3463 1253 3523  Q 1550 3584 1831 3584  Q 2591 3584 2966 3190  Q 3341 2797 3341 1997  z \" transform=\"scale(0.015625)\" />\n      <path id=\"DejaVuSans-73\" d=\"M 2834 3397  L 2834 2853  Q 2591 2978 2328 3040  Q 2066 3103 1784 3103  Q 1356 3103 1142 2972  Q 928 2841 928 2578  Q 928 2378 1081 2264  Q 1234 2150 1697 2047  L 1894 2003  Q 2506 1872 2764 1633  Q 3022 1394 3022 966  Q 3022 478 2636 193  Q 2250 -91 1575 -91  Q 1294 -91 989 -36  Q 684 19 347 128  L 347 722  Q 666 556 975 473  Q 1284 391 1588 391  Q 1994 391 2212 530  Q 2431 669 2431 922  Q 2431 1156 2273 1281  Q 2116 1406 1581 1522  L 1381 1569  Q 847 1681 609 1914  Q 372 2147 372 2553  Q 372 3047 722 3315  Q 1072 3584 1716 3584  Q 2034 3584 2315 3537  Q 2597 3491 2834 3397  z \" transform=\"scale(0.015625)\" />\n      <path id=\"DejaVuSans-20\" transform=\"scale(0.015625)\" />\n      <path id=\"DejaVuSans-30\" d=\"M 2034 4250  Q 1547 4250 1301 3770  Q 1056 3291 1056 2328  Q 1056 1369 1301 889  Q 1547 409 2034 409  Q 2525 409 2770 889  Q 3016 1369 3016 2328  Q 3016 3291 2770 3770  Q 2525 4250 2034 4250  z M 2034 4750  Q 2819 4750 3233 4129  Q 3647 3509 3647 2328  Q 3647 1150 3233 529  Q 2819 -91 2034 -91  Q 1250 -91 836 529  Q 422 1150 422 2328  Q 422 3509 836 4129  Q 1250 4750 2034 4750  z \" transform=\"scale(0.015625)\" />\n     </defs>\n     <use xlink:href=\"#DejaVuSans-43\" />\n     <use xlink:href=\"#DejaVuSans-6c\" x=\"69.824219\" />\n     <use xlink:href=\"#DejaVuSans-61\" x=\"97.607422\" />\n     <use xlink:href=\"#DejaVuSans-73\" x=\"158.886719\" />\n     <use xlink:href=\"#DejaVuSans-73\" x=\"210.986328\" />\n     <use xlink:href=\"#DejaVuSans-20\" x=\"263.085938\" />\n     <use xlink:href=\"#DejaVuSans-30\" x=\"294.873047\" />\n    </g>\n   </g>\n  </g>\n </g>\n</svg></g>\n\n<g id=\"edge1\" class=\"edge\">\n<title>node1-&gt;leaf5</title>\n<path fill=\"none\" stroke=\"#444443\" stroke-width=\"0.3\" d=\"M71.59,-101.23C68.65,-96.67 65.61,-91.96 62.59,-87.3\" />\n<polygon fill=\"#444443\" stroke=\"#444443\" stroke-width=\"0.3\" points=\"63.89,-86.72 60.54,-84.12 61.53,-88.24 63.89,-86.72\" />\n</g>\n\n<g id=\"node5\" class=\"node\">\n<title>leaf6</title>\n<polygon fill=\"none\" stroke=\"#444443\" stroke-width=\"0\" points=\"150,-84 82,-84 82,0 150,0 150,-84\" />\n<svg width=\"60px\" height=\"76px\" viewBox=\"0 0 80.079994 102.071541\" version=\"1.1\" preserveAspectRatio=\"xMinYMin meet\" x=\"86\" y=\"-80\">\n <metadata>\n  <rdf:RDF>\n   <ns2:Work>\n    <dc:type rdf:resource=\"http://purl.org/dc/dcmitype/StillImage\" />\n    <dc:date>2023-02-23T18:22:03.050605</dc:date>\n    <dc:format>image/svg+xml</dc:format>\n    <dc:creator>\n     <ns2:Agent>\n      <dc:title>Matplotlib v3.6.2, https://matplotlib.org/</dc:title>\n     </ns2:Agent>\n    </dc:creator>\n   </ns2:Work>\n  </rdf:RDF>\n </metadata>\n <defs>\n  <style type=\"text/css\">*{stroke-linejoin: round; stroke-linecap: butt}</style>\n </defs>\n <g id=\"figure_1\">\n  <g id=\"patch_1\">\n   <path d=\"M 0 102.071541  L 80.079994 102.071541  L 80.079994 0  L 0 0  z \" style=\"fill: #ffffff\" />\n  </g>\n  <g id=\"axes_1\">\n   <g id=\"patch_2\">\n    <path d=\"M 80.079994 40.039997  C 80.079994 35.616304 79.346887 31.223036 77.910516 27.03903  C 76.474145 22.855025 74.354268 18.937836 71.637179 15.44692  C 68.920091 11.956004 65.643165 8.939382 61.939798 6.519851  C 58.23643 4.10032 54.157562 2.311163 49.869232 1.225211  C 45.580903 0.139258 41.1421 -0.228552 36.733516 0.136754  C 32.324932 0.50206 28.007209 1.595456 23.956108 3.372434  C 19.905008 5.149411 16.176256 7.585526 12.921639 10.581612  C 9.667022 13.577698 6.931309 17.092542 4.825864 20.983064  C 2.720419 24.873587 1.274203 29.086271 0.546087 33.449631  C -0.182029 37.812991 -0.182029 42.267006 0.546087 46.630366  C 1.274203 50.993726 2.72042 55.20641 4.825865 59.096932  C 6.931311 62.987454 9.667023 66.502298 12.92164 69.498383  C 16.176257 72.494469 19.905009 74.930585 23.95611 76.707562  C 28.00721 78.484539 32.324934 79.577935 36.733518 79.943241  C 41.142102 80.308546 45.580904 79.940736 49.869234 78.854784  C 54.157563 77.768831 58.236431 75.979673 61.939799 73.560142  L 40.039994 40.039997  L 80.079994 40.039997  z \" style=\"fill: #fefebb; stroke: #444443; stroke-width: 0.5; stroke-linejoin: miter\" />\n   </g>\n   <g id=\"patch_3\">\n    <path d=\"M 61.939799 73.560142  C 67.510508 69.920616 72.087054 64.949162 75.254123 59.09693  C 78.421192 53.244699 80.079994 46.69424 80.079994 40.039997  L 40.039994 40.039997  L 61.939799 73.560142  z \" style=\"fill: #a1dab4; stroke: #444443; stroke-width: 0.5; stroke-linejoin: miter\" />\n   </g>\n   <g id=\"text_1\">\n    \n    <g style=\"fill: #444443\" transform=\"translate(21.964759 90.121791) scale(0.09 -0.09)\">\n     <defs>\n      <path id=\"DejaVuSans-6e\" d=\"M 3513 2113  L 3513 0  L 2938 0  L 2938 2094  Q 2938 2591 2744 2837  Q 2550 3084 2163 3084  Q 1697 3084 1428 2787  Q 1159 2491 1159 1978  L 1159 0  L 581 0  L 581 3500  L 1159 3500  L 1159 2956  Q 1366 3272 1645 3428  Q 1925 3584 2291 3584  Q 2894 3584 3203 3211  Q 3513 2838 3513 2113  z \" transform=\"scale(0.015625)\" />\n      <path id=\"DejaVuSans-3d\" d=\"M 678 2906  L 4684 2906  L 4684 2381  L 678 2381  L 678 2906  z M 678 1631  L 4684 1631  L 4684 1100  L 678 1100  L 678 1631  z \" transform=\"scale(0.015625)\" />\n      <path id=\"DejaVuSans-31\" d=\"M 794 531  L 1825 531  L 1825 4091  L 703 3866  L 703 4441  L 1819 4666  L 2450 4666  L 2450 531  L 3481 531  L 3481 0  L 794 0  L 794 531  z \" transform=\"scale(0.015625)\" />\n      <path id=\"DejaVuSans-32\" d=\"M 1228 531  L 3431 531  L 3431 0  L 469 0  L 469 531  Q 828 903 1448 1529  Q 2069 2156 2228 2338  Q 2531 2678 2651 2914  Q 2772 3150 2772 3378  Q 2772 3750 2511 3984  Q 2250 4219 1831 4219  Q 1534 4219 1204 4116  Q 875 4013 500 3803  L 500 4441  Q 881 4594 1212 4672  Q 1544 4750 1819 4750  Q 2544 4750 2975 4387  Q 3406 4025 3406 3419  Q 3406 3131 3298 2873  Q 3191 2616 2906 2266  Q 2828 2175 2409 1742  Q 1991 1309 1228 531  z \" transform=\"scale(0.015625)\" />\n     </defs>\n     <use xlink:href=\"#DejaVuSans-6e\" />\n     <use xlink:href=\"#DejaVuSans-3d\" x=\"63.378906\" />\n     <use xlink:href=\"#DejaVuSans-31\" x=\"147.167969\" />\n     <use xlink:href=\"#DejaVuSans-31\" x=\"210.791016\" />\n     <use xlink:href=\"#DejaVuSans-32\" x=\"274.414062\" />\n     <use xlink:href=\"#DejaVuSans-31\" x=\"338.037109\" />\n    </g>\n    \n    <g style=\"fill: #444443\" transform=\"translate(23.908197 100.199822) scale(0.09 -0.09)\">\n     <defs>\n      <path id=\"DejaVuSans-43\" d=\"M 4122 4306  L 4122 3641  Q 3803 3938 3442 4084  Q 3081 4231 2675 4231  Q 1875 4231 1450 3742  Q 1025 3253 1025 2328  Q 1025 1406 1450 917  Q 1875 428 2675 428  Q 3081 428 3442 575  Q 3803 722 4122 1019  L 4122 359  Q 3791 134 3420 21  Q 3050 -91 2638 -91  Q 1578 -91 968 557  Q 359 1206 359 2328  Q 359 3453 968 4101  Q 1578 4750 2638 4750  Q 3056 4750 3426 4639  Q 3797 4528 4122 4306  z \" transform=\"scale(0.015625)\" />\n      <path id=\"DejaVuSans-6c\" d=\"M 603 4863  L 1178 4863  L 1178 0  L 603 0  L 603 4863  z \" transform=\"scale(0.015625)\" />\n      <path id=\"DejaVuSans-61\" d=\"M 2194 1759  Q 1497 1759 1228 1600  Q 959 1441 959 1056  Q 959 750 1161 570  Q 1363 391 1709 391  Q 2188 391 2477 730  Q 2766 1069 2766 1631  L 2766 1759  L 2194 1759  z M 3341 1997  L 3341 0  L 2766 0  L 2766 531  Q 2569 213 2275 61  Q 1981 -91 1556 -91  Q 1019 -91 701 211  Q 384 513 384 1019  Q 384 1609 779 1909  Q 1175 2209 1959 2209  L 2766 2209  L 2766 2266  Q 2766 2663 2505 2880  Q 2244 3097 1772 3097  Q 1472 3097 1187 3025  Q 903 2953 641 2809  L 641 3341  Q 956 3463 1253 3523  Q 1550 3584 1831 3584  Q 2591 3584 2966 3190  Q 3341 2797 3341 1997  z \" transform=\"scale(0.015625)\" />\n      <path id=\"DejaVuSans-73\" d=\"M 2834 3397  L 2834 2853  Q 2591 2978 2328 3040  Q 2066 3103 1784 3103  Q 1356 3103 1142 2972  Q 928 2841 928 2578  Q 928 2378 1081 2264  Q 1234 2150 1697 2047  L 1894 2003  Q 2506 1872 2764 1633  Q 3022 1394 3022 966  Q 3022 478 2636 193  Q 2250 -91 1575 -91  Q 1294 -91 989 -36  Q 684 19 347 128  L 347 722  Q 666 556 975 473  Q 1284 391 1588 391  Q 1994 391 2212 530  Q 2431 669 2431 922  Q 2431 1156 2273 1281  Q 2116 1406 1581 1522  L 1381 1569  Q 847 1681 609 1914  Q 372 2147 372 2553  Q 372 3047 722 3315  Q 1072 3584 1716 3584  Q 2034 3584 2315 3537  Q 2597 3491 2834 3397  z \" transform=\"scale(0.015625)\" />\n      <path id=\"DejaVuSans-20\" transform=\"scale(0.015625)\" />\n      <path id=\"DejaVuSans-30\" d=\"M 2034 4250  Q 1547 4250 1301 3770  Q 1056 3291 1056 2328  Q 1056 1369 1301 889  Q 1547 409 2034 409  Q 2525 409 2770 889  Q 3016 1369 3016 2328  Q 3016 3291 2770 3770  Q 2525 4250 2034 4250  z M 2034 4750  Q 2819 4750 3233 4129  Q 3647 3509 3647 2328  Q 3647 1150 3233 529  Q 2819 -91 2034 -91  Q 1250 -91 836 529  Q 422 1150 422 2328  Q 422 3509 836 4129  Q 1250 4750 2034 4750  z \" transform=\"scale(0.015625)\" />\n     </defs>\n     <use xlink:href=\"#DejaVuSans-43\" />\n     <use xlink:href=\"#DejaVuSans-6c\" x=\"69.824219\" />\n     <use xlink:href=\"#DejaVuSans-61\" x=\"97.607422\" />\n     <use xlink:href=\"#DejaVuSans-73\" x=\"158.886719\" />\n     <use xlink:href=\"#DejaVuSans-73\" x=\"210.986328\" />\n     <use xlink:href=\"#DejaVuSans-20\" x=\"263.085938\" />\n     <use xlink:href=\"#DejaVuSans-30\" x=\"294.873047\" />\n    </g>\n   </g>\n  </g>\n </g>\n</svg></g>\n\n<g id=\"edge2\" class=\"edge\">\n<title>node1-&gt;leaf6</title>\n<path fill=\"none\" stroke=\"#444443\" stroke-width=\"0.3\" d=\"M103.06,-101.23C104.03,-96.85 105.04,-92.33 106.03,-87.85\" />\n<polygon fill=\"#444443\" stroke=\"#444443\" stroke-width=\"0.3\" points=\"107.35,-88.39 106.85,-84.18 104.61,-87.78 107.35,-88.39\" />\n</g>\n\n<g id=\"node6\" class=\"node\">\n<title>leaf3</title>\n<polygon fill=\"none\" stroke=\"#444443\" stroke-width=\"0\" points=\"269,-84 201,-84 201,0 269,0 269,-84\" />\n<svg width=\"60px\" height=\"76px\" viewBox=\"0 0 80.079995 102.071537\" version=\"1.1\" preserveAspectRatio=\"xMinYMin meet\" x=\"205\" y=\"-80\">\n <metadata>\n  <rdf:RDF>\n   <ns2:Work>\n    <dc:type rdf:resource=\"http://purl.org/dc/dcmitype/StillImage\" />\n    <dc:date>2023-02-23T18:22:03.080406</dc:date>\n    <dc:format>image/svg+xml</dc:format>\n    <dc:creator>\n     <ns2:Agent>\n      <dc:title>Matplotlib v3.6.2, https://matplotlib.org/</dc:title>\n     </ns2:Agent>\n    </dc:creator>\n   </ns2:Work>\n  </rdf:RDF>\n </metadata>\n <defs>\n  <style type=\"text/css\">*{stroke-linejoin: round; stroke-linecap: butt}</style>\n </defs>\n <g id=\"figure_1\">\n  <g id=\"patch_1\">\n   <path d=\"M 0 102.071537  L 80.079995 102.071537  L 80.079995 0  L 0 0  z \" style=\"fill: #ffffff\" />\n  </g>\n  <g id=\"axes_1\">\n   <g id=\"patch_2\">\n    <path d=\"M 80.079995 40.039994  C 80.079995 32.757457 78.093156 25.611071 74.334315 19.373567  C 70.575474 13.136064 65.185176 8.040668 58.746269 4.638343  C 52.307363 1.236017 45.060604 -0.346024 37.789579 0.063285  C 30.518554 0.472594 23.495132 2.857949 17.478751 6.961422  L 40.039995 40.039994  L 80.079995 40.039994  z \" style=\"fill: #fefebb; stroke: #444443; stroke-width: 0.5; stroke-linejoin: miter\" />\n   </g>\n   <g id=\"patch_3\">\n    <path d=\"M 17.478751 6.961422  C 11.777744 10.849795 7.177618 16.146757 4.126443 22.336367  C 1.075268 28.525976 -0.324567 35.400525 0.063286 42.290409  C 0.45114 49.180293 2.613666 55.854306 6.340229 61.662375  C 10.066791 67.470444 15.232336 72.217666 21.33372 75.441645  C 27.435105 78.665623 34.267583 80.258171 41.165647 80.064168  C 48.063712 79.870164 54.795882 77.89612 60.706421 74.334314  C 66.61696 70.772508 71.507526 65.742465 74.90176 59.734128  C 78.295994 53.725792 80.079995 46.940786 80.079995 40.039994  L 40.039995 40.039994  L 17.478751 6.961422  z \" style=\"fill: #a1dab4; stroke: #444443; stroke-width: 0.5; stroke-linejoin: miter\" />\n   </g>\n   <g id=\"text_1\">\n    \n    <g style=\"fill: #444443\" transform=\"translate(21.96476 90.121787) scale(0.09 -0.09)\">\n     <defs>\n      <path id=\"DejaVuSans-6e\" d=\"M 3513 2113  L 3513 0  L 2938 0  L 2938 2094  Q 2938 2591 2744 2837  Q 2550 3084 2163 3084  Q 1697 3084 1428 2787  Q 1159 2491 1159 1978  L 1159 0  L 581 0  L 581 3500  L 1159 3500  L 1159 2956  Q 1366 3272 1645 3428  Q 1925 3584 2291 3584  Q 2894 3584 3203 3211  Q 3513 2838 3513 2113  z \" transform=\"scale(0.015625)\" />\n      <path id=\"DejaVuSans-3d\" d=\"M 678 2906  L 4684 2906  L 4684 2381  L 678 2381  L 678 2906  z M 678 1631  L 4684 1631  L 4684 1100  L 678 1100  L 678 1631  z \" transform=\"scale(0.015625)\" />\n      <path id=\"DejaVuSans-31\" d=\"M 794 531  L 1825 531  L 1825 4091  L 703 3866  L 703 4441  L 1819 4666  L 2450 4666  L 2450 531  L 3481 531  L 3481 0  L 794 0  L 794 531  z \" transform=\"scale(0.015625)\" />\n      <path id=\"DejaVuSans-32\" d=\"M 1228 531  L 3431 531  L 3431 0  L 469 0  L 469 531  Q 828 903 1448 1529  Q 2069 2156 2228 2338  Q 2531 2678 2651 2914  Q 2772 3150 2772 3378  Q 2772 3750 2511 3984  Q 2250 4219 1831 4219  Q 1534 4219 1204 4116  Q 875 4013 500 3803  L 500 4441  Q 881 4594 1212 4672  Q 1544 4750 1819 4750  Q 2544 4750 2975 4387  Q 3406 4025 3406 3419  Q 3406 3131 3298 2873  Q 3191 2616 2906 2266  Q 2828 2175 2409 1742  Q 1991 1309 1228 531  z \" transform=\"scale(0.015625)\" />\n      <path id=\"DejaVuSans-35\" d=\"M 691 4666  L 3169 4666  L 3169 4134  L 1269 4134  L 1269 2991  Q 1406 3038 1543 3061  Q 1681 3084 1819 3084  Q 2600 3084 3056 2656  Q 3513 2228 3513 1497  Q 3513 744 3044 326  Q 2575 -91 1722 -91  Q 1428 -91 1123 -41  Q 819 9 494 109  L 494 744  Q 775 591 1075 516  Q 1375 441 1709 441  Q 2250 441 2565 725  Q 2881 1009 2881 1497  Q 2881 1984 2565 2268  Q 2250 2553 1709 2553  Q 1456 2553 1204 2497  Q 953 2441 691 2322  L 691 4666  z \" transform=\"scale(0.015625)\" />\n      <path id=\"DejaVuSans-37\" d=\"M 525 4666  L 3525 4666  L 3525 4397  L 1831 0  L 1172 0  L 2766 4134  L 525 4134  L 525 4666  z \" transform=\"scale(0.015625)\" />\n     </defs>\n     <use xlink:href=\"#DejaVuSans-6e\" />\n     <use xlink:href=\"#DejaVuSans-3d\" x=\"63.378906\" />\n     <use xlink:href=\"#DejaVuSans-31\" x=\"147.167969\" />\n     <use xlink:href=\"#DejaVuSans-32\" x=\"210.791016\" />\n     <use xlink:href=\"#DejaVuSans-35\" x=\"274.414062\" />\n     <use xlink:href=\"#DejaVuSans-37\" x=\"338.037109\" />\n    </g>\n    \n    <g style=\"fill: #444443\" transform=\"translate(23.908198 100.199819) scale(0.09 -0.09)\">\n     <defs>\n      <path id=\"DejaVuSans-43\" d=\"M 4122 4306  L 4122 3641  Q 3803 3938 3442 4084  Q 3081 4231 2675 4231  Q 1875 4231 1450 3742  Q 1025 3253 1025 2328  Q 1025 1406 1450 917  Q 1875 428 2675 428  Q 3081 428 3442 575  Q 3803 722 4122 1019  L 4122 359  Q 3791 134 3420 21  Q 3050 -91 2638 -91  Q 1578 -91 968 557  Q 359 1206 359 2328  Q 359 3453 968 4101  Q 1578 4750 2638 4750  Q 3056 4750 3426 4639  Q 3797 4528 4122 4306  z \" transform=\"scale(0.015625)\" />\n      <path id=\"DejaVuSans-6c\" d=\"M 603 4863  L 1178 4863  L 1178 0  L 603 0  L 603 4863  z \" transform=\"scale(0.015625)\" />\n      <path id=\"DejaVuSans-61\" d=\"M 2194 1759  Q 1497 1759 1228 1600  Q 959 1441 959 1056  Q 959 750 1161 570  Q 1363 391 1709 391  Q 2188 391 2477 730  Q 2766 1069 2766 1631  L 2766 1759  L 2194 1759  z M 3341 1997  L 3341 0  L 2766 0  L 2766 531  Q 2569 213 2275 61  Q 1981 -91 1556 -91  Q 1019 -91 701 211  Q 384 513 384 1019  Q 384 1609 779 1909  Q 1175 2209 1959 2209  L 2766 2209  L 2766 2266  Q 2766 2663 2505 2880  Q 2244 3097 1772 3097  Q 1472 3097 1187 3025  Q 903 2953 641 2809  L 641 3341  Q 956 3463 1253 3523  Q 1550 3584 1831 3584  Q 2591 3584 2966 3190  Q 3341 2797 3341 1997  z \" transform=\"scale(0.015625)\" />\n      <path id=\"DejaVuSans-73\" d=\"M 2834 3397  L 2834 2853  Q 2591 2978 2328 3040  Q 2066 3103 1784 3103  Q 1356 3103 1142 2972  Q 928 2841 928 2578  Q 928 2378 1081 2264  Q 1234 2150 1697 2047  L 1894 2003  Q 2506 1872 2764 1633  Q 3022 1394 3022 966  Q 3022 478 2636 193  Q 2250 -91 1575 -91  Q 1294 -91 989 -36  Q 684 19 347 128  L 347 722  Q 666 556 975 473  Q 1284 391 1588 391  Q 1994 391 2212 530  Q 2431 669 2431 922  Q 2431 1156 2273 1281  Q 2116 1406 1581 1522  L 1381 1569  Q 847 1681 609 1914  Q 372 2147 372 2553  Q 372 3047 722 3315  Q 1072 3584 1716 3584  Q 2034 3584 2315 3537  Q 2597 3491 2834 3397  z \" transform=\"scale(0.015625)\" />\n      <path id=\"DejaVuSans-20\" transform=\"scale(0.015625)\" />\n     </defs>\n     <use xlink:href=\"#DejaVuSans-43\" />\n     <use xlink:href=\"#DejaVuSans-6c\" x=\"69.824219\" />\n     <use xlink:href=\"#DejaVuSans-61\" x=\"97.607422\" />\n     <use xlink:href=\"#DejaVuSans-73\" x=\"158.886719\" />\n     <use xlink:href=\"#DejaVuSans-73\" x=\"210.986328\" />\n     <use xlink:href=\"#DejaVuSans-20\" x=\"263.085938\" />\n     <use xlink:href=\"#DejaVuSans-31\" x=\"294.873047\" />\n    </g>\n   </g>\n  </g>\n </g>\n</svg></g>\n\n<g id=\"edge4\" class=\"edge\">\n<title>node2-&gt;leaf3</title>\n<path fill=\"none\" stroke=\"#444443\" stroke-width=\"0.3\" d=\"M266.9,-116.53C263.19,-107.98 258.76,-97.76 254.39,-87.69\" />\n<polygon fill=\"#444443\" stroke=\"#444443\" stroke-width=\"0.3\" points=\"255.71,-87.22 252.83,-84.11 253.14,-88.33 255.71,-87.22\" />\n</g>\n\n<g id=\"node7\" class=\"node\">\n<title>leaf4</title>\n<polygon fill=\"none\" stroke=\"#444443\" stroke-width=\"0\" points=\"351,-84 283,-84 283,0 351,0 351,-84\" />\n<svg width=\"60px\" height=\"76px\" viewBox=\"0 0 80.079988 102.071541\" version=\"1.1\" preserveAspectRatio=\"xMinYMin meet\" x=\"287\" y=\"-80\">\n <metadata>\n  <rdf:RDF>\n   <ns2:Work>\n    <dc:type rdf:resource=\"http://purl.org/dc/dcmitype/StillImage\" />\n    <dc:date>2023-02-23T18:22:03.114965</dc:date>\n    <dc:format>image/svg+xml</dc:format>\n    <dc:creator>\n     <ns2:Agent>\n      <dc:title>Matplotlib v3.6.2, https://matplotlib.org/</dc:title>\n     </ns2:Agent>\n    </dc:creator>\n   </ns2:Work>\n  </rdf:RDF>\n </metadata>\n <defs>\n  <style type=\"text/css\">*{stroke-linejoin: round; stroke-linecap: butt}</style>\n </defs>\n <g id=\"figure_1\">\n  <g id=\"patch_1\">\n   <path d=\"M 0 102.071541  L 80.079988 102.071541  L 80.079988 -0  L 0 -0  z \" style=\"fill: #ffffff\" />\n  </g>\n  <g id=\"axes_1\">\n   <g id=\"patch_2\">\n    <path d=\"M 80.079988 40.039997  C 80.079988 37.401361 79.819159 34.769175 79.301307 32.181854  C 78.783456 29.594533 78.011113 27.064726 76.995552 24.629355  L 40.039988 40.039997  L 80.079988 40.039997  z \" style=\"fill: #fefebb; stroke: #444443; stroke-width: 0.5; stroke-linejoin: miter\" />\n   </g>\n   <g id=\"patch_3\">\n    <path d=\"M 76.995552 24.629355  C 75.099828 20.083305 72.381434 15.925835 68.977166 12.366159  C 65.572898 8.806483 61.540835 5.90533 57.08388 3.808693  C 52.626924 1.712057 47.821114 0.455707 42.90829 0.102866  C 37.995467 -0.249975 33.059443 0.306712 28.348614 1.744914  C 23.637785 3.183116 19.232519 5.478296 15.354499 8.514955  C 11.47648 11.551615 8.191868 15.277946 5.665953 19.506432  C 3.140038 23.734917 1.415914 28.393417 0.580342 33.247503  C -0.255229 38.10159 -0.187992 43.06845 0.778669 47.89814  C 1.74533 52.727829 3.594924 57.337952 6.234374 61.496513  C 8.873825 65.655075 12.258102 69.29113 16.2169 72.221701  C 20.175699 75.152273 24.641479 77.327366 29.389513 78.637523  C 34.137547 79.947679 39.08683 80.370549 43.988303 79.884851  C 48.889775 79.399154 53.659816 78.013175 58.058384 75.796661  C 62.456952 73.580147 66.409006 70.570913 69.715669 66.92039  C 73.022332 63.269868 75.627191 59.040337 77.399163 54.444637  C 79.171134 49.848938 80.079988 44.965475 80.079988 40.039997  L 40.039988 40.039997  L 76.995552 24.629355  z \" style=\"fill: #a1dab4; stroke: #444443; stroke-width: 0.5; stroke-linejoin: miter\" />\n   </g>\n   <g id=\"text_1\">\n    \n    <g style=\"fill: #444443\" transform=\"translate(21.964754 90.121791) scale(0.09 -0.09)\">\n     <defs>\n      <path id=\"DejaVuSans-6e\" d=\"M 3513 2113  L 3513 0  L 2938 0  L 2938 2094  Q 2938 2591 2744 2837  Q 2550 3084 2163 3084  Q 1697 3084 1428 2787  Q 1159 2491 1159 1978  L 1159 0  L 581 0  L 581 3500  L 1159 3500  L 1159 2956  Q 1366 3272 1645 3428  Q 1925 3584 2291 3584  Q 2894 3584 3203 3211  Q 3513 2838 3513 2113  z \" transform=\"scale(0.015625)\" />\n      <path id=\"DejaVuSans-3d\" d=\"M 678 2906  L 4684 2906  L 4684 2381  L 678 2381  L 678 2906  z M 678 1631  L 4684 1631  L 4684 1100  L 678 1100  L 678 1631  z \" transform=\"scale(0.015625)\" />\n      <path id=\"DejaVuSans-31\" d=\"M 794 531  L 1825 531  L 1825 4091  L 703 3866  L 703 4441  L 1819 4666  L 2450 4666  L 2450 531  L 3481 531  L 3481 0  L 794 0  L 794 531  z \" transform=\"scale(0.015625)\" />\n      <path id=\"DejaVuSans-33\" d=\"M 2597 2516  Q 3050 2419 3304 2112  Q 3559 1806 3559 1356  Q 3559 666 3084 287  Q 2609 -91 1734 -91  Q 1441 -91 1130 -33  Q 819 25 488 141  L 488 750  Q 750 597 1062 519  Q 1375 441 1716 441  Q 2309 441 2620 675  Q 2931 909 2931 1356  Q 2931 1769 2642 2001  Q 2353 2234 1838 2234  L 1294 2234  L 1294 2753  L 1863 2753  Q 2328 2753 2575 2939  Q 2822 3125 2822 3475  Q 2822 3834 2567 4026  Q 2313 4219 1838 4219  Q 1578 4219 1281 4162  Q 984 4106 628 3988  L 628 4550  Q 988 4650 1302 4700  Q 1616 4750 1894 4750  Q 2613 4750 3031 4423  Q 3450 4097 3450 3541  Q 3450 3153 3228 2886  Q 3006 2619 2597 2516  z \" transform=\"scale(0.015625)\" />\n      <path id=\"DejaVuSans-32\" d=\"M 1228 531  L 3431 531  L 3431 0  L 469 0  L 469 531  Q 828 903 1448 1529  Q 2069 2156 2228 2338  Q 2531 2678 2651 2914  Q 2772 3150 2772 3378  Q 2772 3750 2511 3984  Q 2250 4219 1831 4219  Q 1534 4219 1204 4116  Q 875 4013 500 3803  L 500 4441  Q 881 4594 1212 4672  Q 1544 4750 1819 4750  Q 2544 4750 2975 4387  Q 3406 4025 3406 3419  Q 3406 3131 3298 2873  Q 3191 2616 2906 2266  Q 2828 2175 2409 1742  Q 1991 1309 1228 531  z \" transform=\"scale(0.015625)\" />\n      <path id=\"DejaVuSans-30\" d=\"M 2034 4250  Q 1547 4250 1301 3770  Q 1056 3291 1056 2328  Q 1056 1369 1301 889  Q 1547 409 2034 409  Q 2525 409 2770 889  Q 3016 1369 3016 2328  Q 3016 3291 2770 3770  Q 2525 4250 2034 4250  z M 2034 4750  Q 2819 4750 3233 4129  Q 3647 3509 3647 2328  Q 3647 1150 3233 529  Q 2819 -91 2034 -91  Q 1250 -91 836 529  Q 422 1150 422 2328  Q 422 3509 836 4129  Q 1250 4750 2034 4750  z \" transform=\"scale(0.015625)\" />\n     </defs>\n     <use xlink:href=\"#DejaVuSans-6e\" />\n     <use xlink:href=\"#DejaVuSans-3d\" x=\"63.378906\" />\n     <use xlink:href=\"#DejaVuSans-31\" x=\"147.167969\" />\n     <use xlink:href=\"#DejaVuSans-33\" x=\"210.791016\" />\n     <use xlink:href=\"#DejaVuSans-32\" x=\"274.414062\" />\n     <use xlink:href=\"#DejaVuSans-30\" x=\"338.037109\" />\n    </g>\n    \n    <g style=\"fill: #444443\" transform=\"translate(23.908191 100.199822) scale(0.09 -0.09)\">\n     <defs>\n      <path id=\"DejaVuSans-43\" d=\"M 4122 4306  L 4122 3641  Q 3803 3938 3442 4084  Q 3081 4231 2675 4231  Q 1875 4231 1450 3742  Q 1025 3253 1025 2328  Q 1025 1406 1450 917  Q 1875 428 2675 428  Q 3081 428 3442 575  Q 3803 722 4122 1019  L 4122 359  Q 3791 134 3420 21  Q 3050 -91 2638 -91  Q 1578 -91 968 557  Q 359 1206 359 2328  Q 359 3453 968 4101  Q 1578 4750 2638 4750  Q 3056 4750 3426 4639  Q 3797 4528 4122 4306  z \" transform=\"scale(0.015625)\" />\n      <path id=\"DejaVuSans-6c\" d=\"M 603 4863  L 1178 4863  L 1178 0  L 603 0  L 603 4863  z \" transform=\"scale(0.015625)\" />\n      <path id=\"DejaVuSans-61\" d=\"M 2194 1759  Q 1497 1759 1228 1600  Q 959 1441 959 1056  Q 959 750 1161 570  Q 1363 391 1709 391  Q 2188 391 2477 730  Q 2766 1069 2766 1631  L 2766 1759  L 2194 1759  z M 3341 1997  L 3341 0  L 2766 0  L 2766 531  Q 2569 213 2275 61  Q 1981 -91 1556 -91  Q 1019 -91 701 211  Q 384 513 384 1019  Q 384 1609 779 1909  Q 1175 2209 1959 2209  L 2766 2209  L 2766 2266  Q 2766 2663 2505 2880  Q 2244 3097 1772 3097  Q 1472 3097 1187 3025  Q 903 2953 641 2809  L 641 3341  Q 956 3463 1253 3523  Q 1550 3584 1831 3584  Q 2591 3584 2966 3190  Q 3341 2797 3341 1997  z \" transform=\"scale(0.015625)\" />\n      <path id=\"DejaVuSans-73\" d=\"M 2834 3397  L 2834 2853  Q 2591 2978 2328 3040  Q 2066 3103 1784 3103  Q 1356 3103 1142 2972  Q 928 2841 928 2578  Q 928 2378 1081 2264  Q 1234 2150 1697 2047  L 1894 2003  Q 2506 1872 2764 1633  Q 3022 1394 3022 966  Q 3022 478 2636 193  Q 2250 -91 1575 -91  Q 1294 -91 989 -36  Q 684 19 347 128  L 347 722  Q 666 556 975 473  Q 1284 391 1588 391  Q 1994 391 2212 530  Q 2431 669 2431 922  Q 2431 1156 2273 1281  Q 2116 1406 1581 1522  L 1381 1569  Q 847 1681 609 1914  Q 372 2147 372 2553  Q 372 3047 722 3315  Q 1072 3584 1716 3584  Q 2034 3584 2315 3537  Q 2597 3491 2834 3397  z \" transform=\"scale(0.015625)\" />\n      <path id=\"DejaVuSans-20\" transform=\"scale(0.015625)\" />\n     </defs>\n     <use xlink:href=\"#DejaVuSans-43\" />\n     <use xlink:href=\"#DejaVuSans-6c\" x=\"69.824219\" />\n     <use xlink:href=\"#DejaVuSans-61\" x=\"97.607422\" />\n     <use xlink:href=\"#DejaVuSans-73\" x=\"158.886719\" />\n     <use xlink:href=\"#DejaVuSans-73\" x=\"210.986328\" />\n     <use xlink:href=\"#DejaVuSans-20\" x=\"263.085938\" />\n     <use xlink:href=\"#DejaVuSans-31\" x=\"294.873047\" />\n    </g>\n   </g>\n  </g>\n </g>\n</svg></g>\n\n<g id=\"edge5\" class=\"edge\">\n<title>node2-&gt;leaf4</title>\n<path fill=\"none\" stroke=\"#444443\" stroke-width=\"0.3\" d=\"M285.1,-116.53C288.81,-107.98 293.24,-97.76 297.61,-87.69\" />\n<polygon fill=\"#444443\" stroke=\"#444443\" stroke-width=\"0.3\" points=\"298.86,-88.33 299.17,-84.11 296.29,-87.22 298.86,-88.33\" />\n</g>\n\n<g id=\"node3\" class=\"node\">\n<title>node0</title>\n<svg width=\"159px\" height=\"76px\" viewBox=\"0 0 211.5 102.4025\" version=\"1.1\" preserveAspectRatio=\"xMinYMin meet\" x=\"106\" y=\"-287\">\n <metadata>\n  <rdf:RDF>\n   <ns2:Work>\n    <dc:type rdf:resource=\"http://purl.org/dc/dcmitype/StillImage\" />\n    <dc:date>2023-02-23T18:22:02.972382</dc:date>\n    <dc:format>image/svg+xml</dc:format>\n    <dc:creator>\n     <ns2:Agent>\n      <dc:title>Matplotlib v3.6.2, https://matplotlib.org/</dc:title>\n     </ns2:Agent>\n    </dc:creator>\n   </ns2:Work>\n  </rdf:RDF>\n </metadata>\n <defs>\n  <style type=\"text/css\">*{stroke-linejoin: round; stroke-linecap: butt}</style>\n </defs>\n <g id=\"figure_1\">\n  <g id=\"patch_1\">\n   <path d=\"M 0 102.4025  L 211.5 102.4025  L 211.5 0  L 0 0  z \" style=\"fill: #ffffff\" />\n  </g>\n  <g id=\"axes_1\">\n   <g id=\"patch_2\">\n    <path d=\"M 27.36 83.16  L 211.5 83.16  L 211.5 0  L 27.36 0  z \" style=\"fill: #ffffff\" />\n   </g>\n   <g id=\"patch_3\">\n    <path d=\"M 43.372174 83.16  L 51.378261 83.16  L 51.378261 30.016203  L 43.372174 30.016203  z \" clip-path=\"url(#pf7175e70a7)\" style=\"fill: #fefebb; stroke: #444443; stroke-width: 0.5; stroke-linejoin: miter\" />\n   </g>\n   <g id=\"patch_4\">\n    <path d=\"M 51.378261 83.16  L 59.384348 83.16  L 59.384348 83.16  L 51.378261 83.16  z \" clip-path=\"url(#pf7175e70a7)\" style=\"fill: #fefebb; stroke: #444443; stroke-width: 0.5; stroke-linejoin: miter\" />\n   </g>\n   <g id=\"patch_5\">\n    <path d=\"M 59.384348 83.16  L 67.390435 83.16  L 67.390435 83.16  L 59.384348 83.16  z \" clip-path=\"url(#pf7175e70a7)\" style=\"fill: #fefebb; stroke: #444443; stroke-width: 0.5; stroke-linejoin: miter\" />\n   </g>\n   <g id=\"patch_6\">\n    <path d=\"M 67.390435 83.16  L 75.396522 83.16  L 75.396522 83.16  L 67.390435 83.16  z \" clip-path=\"url(#pf7175e70a7)\" style=\"fill: #fefebb; stroke: #444443; stroke-width: 0.5; stroke-linejoin: miter\" />\n   </g>\n   <g id=\"patch_7\">\n    <path d=\"M 75.396522 83.16  L 83.402609 83.16  L 83.402609 83.16  L 75.396522 83.16  z \" clip-path=\"url(#pf7175e70a7)\" style=\"fill: #fefebb; stroke: #444443; stroke-width: 0.5; stroke-linejoin: miter\" />\n   </g>\n   <g id=\"patch_8\">\n    <path d=\"M 83.402609 83.16  L 91.408696 83.16  L 91.408696 83.16  L 83.402609 83.16  z \" clip-path=\"url(#pf7175e70a7)\" style=\"fill: #fefebb; stroke: #444443; stroke-width: 0.5; stroke-linejoin: miter\" />\n   </g>\n   <g id=\"patch_9\">\n    <path d=\"M 91.408696 83.16  L 99.414783 83.16  L 99.414783 83.16  L 91.408696 83.16  z \" clip-path=\"url(#pf7175e70a7)\" style=\"fill: #fefebb; stroke: #444443; stroke-width: 0.5; stroke-linejoin: miter\" />\n   </g>\n   <g id=\"patch_10\">\n    <path d=\"M 99.414783 83.16  L 107.42087 83.16  L 107.42087 83.16  L 99.414783 83.16  z \" clip-path=\"url(#pf7175e70a7)\" style=\"fill: #fefebb; stroke: #444443; stroke-width: 0.5; stroke-linejoin: miter\" />\n   </g>\n   <g id=\"patch_11\">\n    <path d=\"M 107.42087 83.16  L 115.426957 83.16  L 115.426957 83.16  L 107.42087 83.16  z \" clip-path=\"url(#pf7175e70a7)\" style=\"fill: #fefebb; stroke: #444443; stroke-width: 0.5; stroke-linejoin: miter\" />\n   </g>\n   <g id=\"patch_12\">\n    <path d=\"M 115.426957 83.16  L 123.433043 83.16  L 123.433043 75.325045  L 115.426957 75.325045  z \" clip-path=\"url(#pf7175e70a7)\" style=\"fill: #fefebb; stroke: #444443; stroke-width: 0.5; stroke-linejoin: miter\" />\n   </g>\n   <g id=\"patch_13\">\n    <path d=\"M 123.433043 83.16  L 131.43913 83.16  L 131.43913 83.16  L 123.433043 83.16  z \" clip-path=\"url(#pf7175e70a7)\" style=\"fill: #fefebb; stroke: #444443; stroke-width: 0.5; stroke-linejoin: miter\" />\n   </g>\n   <g id=\"patch_14\">\n    <path d=\"M 131.43913 83.16  L 139.445217 83.16  L 139.445217 83.16  L 131.43913 83.16  z \" clip-path=\"url(#pf7175e70a7)\" style=\"fill: #fefebb; stroke: #444443; stroke-width: 0.5; stroke-linejoin: miter\" />\n   </g>\n   <g id=\"patch_15\">\n    <path d=\"M 139.445217 83.16  L 147.451304 83.16  L 147.451304 83.16  L 139.445217 83.16  z \" clip-path=\"url(#pf7175e70a7)\" style=\"fill: #fefebb; stroke: #444443; stroke-width: 0.5; stroke-linejoin: miter\" />\n   </g>\n   <g id=\"patch_16\">\n    <path d=\"M 147.451304 83.16  L 155.457391 83.16  L 155.457391 83.16  L 147.451304 83.16  z \" clip-path=\"url(#pf7175e70a7)\" style=\"fill: #fefebb; stroke: #444443; stroke-width: 0.5; stroke-linejoin: miter\" />\n   </g>\n   <g id=\"patch_17\">\n    <path d=\"M 155.457391 83.16  L 163.463478 83.16  L 163.463478 83.16  L 155.457391 83.16  z \" clip-path=\"url(#pf7175e70a7)\" style=\"fill: #fefebb; stroke: #444443; stroke-width: 0.5; stroke-linejoin: miter\" />\n   </g>\n   <g id=\"patch_18\">\n    <path d=\"M 163.463478 83.16  L 171.469565 83.16  L 171.469565 83.16  L 163.463478 83.16  z \" clip-path=\"url(#pf7175e70a7)\" style=\"fill: #fefebb; stroke: #444443; stroke-width: 0.5; stroke-linejoin: miter\" />\n   </g>\n   <g id=\"patch_19\">\n    <path d=\"M 171.469565 83.16  L 179.475652 83.16  L 179.475652 83.16  L 171.469565 83.16  z \" clip-path=\"url(#pf7175e70a7)\" style=\"fill: #fefebb; stroke: #444443; stroke-width: 0.5; stroke-linejoin: miter\" />\n   </g>\n   <g id=\"patch_20\">\n    <path d=\"M 179.475652 83.16  L 187.481739 83.16  L 187.481739 83.16  L 179.475652 83.16  z \" clip-path=\"url(#pf7175e70a7)\" style=\"fill: #fefebb; stroke: #444443; stroke-width: 0.5; stroke-linejoin: miter\" />\n   </g>\n   <g id=\"patch_21\">\n    <path d=\"M 187.481739 83.16  L 195.487826 83.16  L 195.487826 81.640055  L 187.481739 81.640055  z \" clip-path=\"url(#pf7175e70a7)\" style=\"fill: #fefebb; stroke: #444443; stroke-width: 0.5; stroke-linejoin: miter\" />\n   </g>\n   <g id=\"patch_22\">\n    <path d=\"M 43.372174 30.016203  L 51.378261 30.016203  L 51.378261 3.96  L 43.372174 3.96  z \" clip-path=\"url(#pf7175e70a7)\" style=\"fill: #a1dab4; stroke: #444443; stroke-width: 0.5; stroke-linejoin: miter\" />\n   </g>\n   <g id=\"patch_23\">\n    <path d=\"M 51.378261 83.16  L 59.384348 83.16  L 59.384348 83.16  L 51.378261 83.16  z \" clip-path=\"url(#pf7175e70a7)\" style=\"fill: #a1dab4; stroke: #444443; stroke-width: 0.5; stroke-linejoin: miter\" />\n   </g>\n   <g id=\"patch_24\">\n    <path d=\"M 59.384348 83.16  L 67.390435 83.16  L 67.390435 83.16  L 59.384348 83.16  z \" clip-path=\"url(#pf7175e70a7)\" style=\"fill: #a1dab4; stroke: #444443; stroke-width: 0.5; stroke-linejoin: miter\" />\n   </g>\n   <g id=\"patch_25\">\n    <path d=\"M 67.390435 83.16  L 75.396522 83.16  L 75.396522 83.16  L 67.390435 83.16  z \" clip-path=\"url(#pf7175e70a7)\" style=\"fill: #a1dab4; stroke: #444443; stroke-width: 0.5; stroke-linejoin: miter\" />\n   </g>\n   <g id=\"patch_26\">\n    <path d=\"M 75.396522 83.16  L 83.402609 83.16  L 83.402609 83.16  L 75.396522 83.16  z \" clip-path=\"url(#pf7175e70a7)\" style=\"fill: #a1dab4; stroke: #444443; stroke-width: 0.5; stroke-linejoin: miter\" />\n   </g>\n   <g id=\"patch_27\">\n    <path d=\"M 83.402609 83.16  L 91.408696 83.16  L 91.408696 83.16  L 83.402609 83.16  z \" clip-path=\"url(#pf7175e70a7)\" style=\"fill: #a1dab4; stroke: #444443; stroke-width: 0.5; stroke-linejoin: miter\" />\n   </g>\n   <g id=\"patch_28\">\n    <path d=\"M 91.408696 83.16  L 99.414783 83.16  L 99.414783 83.16  L 91.408696 83.16  z \" clip-path=\"url(#pf7175e70a7)\" style=\"fill: #a1dab4; stroke: #444443; stroke-width: 0.5; stroke-linejoin: miter\" />\n   </g>\n   <g id=\"patch_29\">\n    <path d=\"M 99.414783 83.16  L 107.42087 83.16  L 107.42087 83.16  L 99.414783 83.16  z \" clip-path=\"url(#pf7175e70a7)\" style=\"fill: #a1dab4; stroke: #444443; stroke-width: 0.5; stroke-linejoin: miter\" />\n   </g>\n   <g id=\"patch_30\">\n    <path d=\"M 107.42087 83.16  L 115.426957 83.16  L 115.426957 83.16  L 107.42087 83.16  z \" clip-path=\"url(#pf7175e70a7)\" style=\"fill: #a1dab4; stroke: #444443; stroke-width: 0.5; stroke-linejoin: miter\" />\n   </g>\n   <g id=\"patch_31\">\n    <path d=\"M 115.426957 75.325045  L 123.433043 75.325045  L 123.433043 39.732995  L 115.426957 39.732995  z \" clip-path=\"url(#pf7175e70a7)\" style=\"fill: #a1dab4; stroke: #444443; stroke-width: 0.5; stroke-linejoin: miter\" />\n   </g>\n   <g id=\"patch_32\">\n    <path d=\"M 123.433043 83.16  L 131.43913 83.16  L 131.43913 83.16  L 123.433043 83.16  z \" clip-path=\"url(#pf7175e70a7)\" style=\"fill: #a1dab4; stroke: #444443; stroke-width: 0.5; stroke-linejoin: miter\" />\n   </g>\n   <g id=\"patch_33\">\n    <path d=\"M 131.43913 83.16  L 139.445217 83.16  L 139.445217 83.16  L 131.43913 83.16  z \" clip-path=\"url(#pf7175e70a7)\" style=\"fill: #a1dab4; stroke: #444443; stroke-width: 0.5; stroke-linejoin: miter\" />\n   </g>\n   <g id=\"patch_34\">\n    <path d=\"M 139.445217 83.16  L 147.451304 83.16  L 147.451304 83.16  L 139.445217 83.16  z \" clip-path=\"url(#pf7175e70a7)\" style=\"fill: #a1dab4; stroke: #444443; stroke-width: 0.5; stroke-linejoin: miter\" />\n   </g>\n   <g id=\"patch_35\">\n    <path d=\"M 147.451304 83.16  L 155.457391 83.16  L 155.457391 83.16  L 147.451304 83.16  z \" clip-path=\"url(#pf7175e70a7)\" style=\"fill: #a1dab4; stroke: #444443; stroke-width: 0.5; stroke-linejoin: miter\" />\n   </g>\n   <g id=\"patch_36\">\n    <path d=\"M 155.457391 83.16  L 163.463478 83.16  L 163.463478 83.16  L 155.457391 83.16  z \" clip-path=\"url(#pf7175e70a7)\" style=\"fill: #a1dab4; stroke: #444443; stroke-width: 0.5; stroke-linejoin: miter\" />\n   </g>\n   <g id=\"patch_37\">\n    <path d=\"M 163.463478 83.16  L 171.469565 83.16  L 171.469565 83.16  L 163.463478 83.16  z \" clip-path=\"url(#pf7175e70a7)\" style=\"fill: #a1dab4; stroke: #444443; stroke-width: 0.5; stroke-linejoin: miter\" />\n   </g>\n   <g id=\"patch_38\">\n    <path d=\"M 171.469565 83.16  L 179.475652 83.16  L 179.475652 83.16  L 171.469565 83.16  z \" clip-path=\"url(#pf7175e70a7)\" style=\"fill: #a1dab4; stroke: #444443; stroke-width: 0.5; stroke-linejoin: miter\" />\n   </g>\n   <g id=\"patch_39\">\n    <path d=\"M 179.475652 83.16  L 187.481739 83.16  L 187.481739 83.16  L 179.475652 83.16  z \" clip-path=\"url(#pf7175e70a7)\" style=\"fill: #a1dab4; stroke: #444443; stroke-width: 0.5; stroke-linejoin: miter\" />\n   </g>\n   <g id=\"patch_40\">\n    <path d=\"M 187.481739 81.640055  L 195.487826 81.640055  L 195.487826 79.957258  L 187.481739 79.957258  z \" clip-path=\"url(#pf7175e70a7)\" style=\"fill: #a1dab4; stroke: #444443; stroke-width: 0.5; stroke-linejoin: miter\" />\n   </g>\n   <g id=\"patch_41\">\n    <path d=\"M 81.401087 83.9916  L 78.086567 92.3076  L 84.715607 92.3076  z \" style=\"fill: #444443\" />\n   </g>\n   <g id=\"matplotlib.axis_1\">\n    <g id=\"xtick_1\">\n     <g id=\"line2d_1\">\n      <defs>\n       <path id=\"mdc7b0cdf59\" d=\"M 0 0  L 0 3.5  \" style=\"stroke: #000000; stroke-width: 0.3\" />\n      </defs>\n      <g>\n       <use xlink:href=\"#mdc7b0cdf59\" x=\"43.372174\" y=\"83.16\" style=\"stroke: #000000; stroke-width: 0.3\" />\n      </g>\n     </g>\n     <g id=\"text_1\">\n      \n      <g style=\"fill: #444443\" transform=\"translate(37.010924 100.73875) scale(0.08 -0.08)\">\n       <defs>\n        <path id=\"DejaVuSans-30\" d=\"M 2034 4250  Q 1547 4250 1301 3770  Q 1056 3291 1056 2328  Q 1056 1369 1301 889  Q 1547 409 2034 409  Q 2525 409 2770 889  Q 3016 1369 3016 2328  Q 3016 3291 2770 3770  Q 2525 4250 2034 4250  z M 2034 4750  Q 2819 4750 3233 4129  Q 3647 3509 3647 2328  Q 3647 1150 3233 529  Q 2819 -91 2034 -91  Q 1250 -91 836 529  Q 422 1150 422 2328  Q 422 3509 836 4129  Q 1250 4750 2034 4750  z \" transform=\"scale(0.015625)\" />\n        <path id=\"DejaVuSans-2e\" d=\"M 684 794  L 1344 794  L 1344 0  L 684 0  L 684 794  z \" transform=\"scale(0.015625)\" />\n       </defs>\n       <use xlink:href=\"#DejaVuSans-30\" />\n       <use xlink:href=\"#DejaVuSans-2e\" x=\"63.623047\" />\n       <use xlink:href=\"#DejaVuSans-30\" x=\"95.410156\" />\n      </g>\n     </g>\n    </g>\n    <g id=\"xtick_2\">\n     <g id=\"line2d_2\">\n      <g>\n       <use xlink:href=\"#mdc7b0cdf59\" x=\"81.401087\" y=\"83.16\" style=\"stroke: #000000; stroke-width: 0.3\" />\n      </g>\n     </g>\n     <g id=\"text_2\">\n      \n      <g style=\"fill: #444443\" transform=\"translate(75.039837 100.73875) scale(0.08 -0.08)\">\n       <defs>\n        <path id=\"DejaVuSans-35\" d=\"M 691 4666  L 3169 4666  L 3169 4134  L 1269 4134  L 1269 2991  Q 1406 3038 1543 3061  Q 1681 3084 1819 3084  Q 2600 3084 3056 2656  Q 3513 2228 3513 1497  Q 3513 744 3044 326  Q 2575 -91 1722 -91  Q 1428 -91 1123 -41  Q 819 9 494 109  L 494 744  Q 775 591 1075 516  Q 1375 441 1709 441  Q 2250 441 2565 725  Q 2881 1009 2881 1497  Q 2881 1984 2565 2268  Q 2250 2553 1709 2553  Q 1456 2553 1204 2497  Q 953 2441 691 2322  L 691 4666  z \" transform=\"scale(0.015625)\" />\n       </defs>\n       <use xlink:href=\"#DejaVuSans-30\" />\n       <use xlink:href=\"#DejaVuSans-2e\" x=\"63.623047\" />\n       <use xlink:href=\"#DejaVuSans-35\" x=\"95.410156\" />\n      </g>\n     </g>\n    </g>\n    <g id=\"xtick_3\">\n     <g id=\"line2d_3\">\n      <g>\n       <use xlink:href=\"#mdc7b0cdf59\" x=\"195.487826\" y=\"83.16\" style=\"stroke: #000000; stroke-width: 0.3\" />\n      </g>\n     </g>\n     <g id=\"text_3\">\n      \n      <g style=\"fill: #444443\" transform=\"translate(189.126576 100.73875) scale(0.08 -0.08)\">\n       <defs>\n        <path id=\"DejaVuSans-32\" d=\"M 1228 531  L 3431 531  L 3431 0  L 469 0  L 469 531  Q 828 903 1448 1529  Q 2069 2156 2228 2338  Q 2531 2678 2651 2914  Q 2772 3150 2772 3378  Q 2772 3750 2511 3984  Q 2250 4219 1831 4219  Q 1534 4219 1204 4116  Q 875 4013 500 3803  L 500 4441  Q 881 4594 1212 4672  Q 1544 4750 1819 4750  Q 2544 4750 2975 4387  Q 3406 4025 3406 3419  Q 3406 3131 3298 2873  Q 3191 2616 2906 2266  Q 2828 2175 2409 1742  Q 1991 1309 1228 531  z \" transform=\"scale(0.015625)\" />\n       </defs>\n       <use xlink:href=\"#DejaVuSans-32\" />\n       <use xlink:href=\"#DejaVuSans-2e\" x=\"63.623047\" />\n       <use xlink:href=\"#DejaVuSans-30\" x=\"95.410156\" />\n      </g>\n     </g>\n    </g>\n   </g>\n   <g id=\"matplotlib.axis_2\">\n    <g id=\"ytick_1\">\n     <g id=\"line2d_4\">\n      <defs>\n       <path id=\"mb267354f91\" d=\"M 0 0  L -3.5 0  \" style=\"stroke: #000000; stroke-width: 0.3\" />\n      </defs>\n      <g>\n       <use xlink:href=\"#mb267354f91\" x=\"27.36\" y=\"83.16\" style=\"stroke: #000000; stroke-width: 0.3\" />\n      </g>\n     </g>\n     <g id=\"text_4\">\n      \n      <g style=\"fill: #444443\" transform=\"translate(15.27 86.199375) scale(0.08 -0.08)\">\n       <use xlink:href=\"#DejaVuSans-30\" />\n      </g>\n     </g>\n    </g>\n    <g id=\"ytick_2\">\n     <g id=\"line2d_5\">\n      <g>\n       <use xlink:href=\"#mb267354f91\" x=\"27.36\" y=\"3.96\" style=\"stroke: #000000; stroke-width: 0.3\" />\n      </g>\n     </g>\n     <g id=\"text_5\">\n      \n      <g style=\"fill: #444443\" transform=\"translate(0 6.999375) scale(0.08 -0.08)\">\n       <defs>\n        <path id=\"DejaVuSans-34\" d=\"M 2419 4116  L 825 1625  L 2419 1625  L 2419 4116  z M 2253 4666  L 3047 4666  L 3047 1625  L 3713 1625  L 3713 1100  L 3047 1100  L 3047 0  L 2419 0  L 2419 1100  L 313 1100  L 313 1709  L 2253 4666  z \" transform=\"scale(0.015625)\" />\n        <path id=\"DejaVuSans-33\" d=\"M 2597 2516  Q 3050 2419 3304 2112  Q 3559 1806 3559 1356  Q 3559 666 3084 287  Q 2609 -91 1734 -91  Q 1441 -91 1130 -33  Q 819 25 488 141  L 488 750  Q 750 597 1062 519  Q 1375 441 1716 441  Q 2309 441 2620 675  Q 2931 909 2931 1356  Q 2931 1769 2642 2001  Q 2353 2234 1838 2234  L 1294 2234  L 1294 2753  L 1863 2753  Q 2328 2753 2575 2939  Q 2822 3125 2822 3475  Q 2822 3834 2567 4026  Q 2313 4219 1838 4219  Q 1578 4219 1281 4162  Q 984 4106 628 3988  L 628 4550  Q 988 4650 1302 4700  Q 1616 4750 1894 4750  Q 2613 4750 3031 4423  Q 3450 4097 3450 3541  Q 3450 3153 3228 2886  Q 3006 2619 2597 2516  z \" transform=\"scale(0.015625)\" />\n        <path id=\"DejaVuSans-37\" d=\"M 525 4666  L 3525 4666  L 3525 4397  L 1831 0  L 1172 0  L 2766 4134  L 525 4134  L 525 4666  z \" transform=\"scale(0.015625)\" />\n       </defs>\n       <use xlink:href=\"#DejaVuSans-34\" />\n       <use xlink:href=\"#DejaVuSans-33\" x=\"63.623047\" />\n       <use xlink:href=\"#DejaVuSans-37\" x=\"127.246094\" />\n       <use xlink:href=\"#DejaVuSans-37\" x=\"190.869141\" />\n      </g>\n     </g>\n    </g>\n   </g>\n   <g id=\"patch_42\">\n    <path d=\"M 27.36 83.16  L 27.36 0  \" style=\"fill: none; stroke: #444443; stroke-width: 0.3; stroke-linejoin: miter; stroke-linecap: square\" />\n   </g>\n   <g id=\"patch_43\">\n    <path d=\"M 27.36 83.16  L 211.5 83.16  \" style=\"fill: none; stroke: #444443; stroke-width: 0.3; stroke-linejoin: miter; stroke-linecap: square\" />\n   </g>\n  </g>\n </g>\n <defs>\n  <clipPath id=\"pf7175e70a7\">\n   <rect x=\"27.36\" y=\"0\" width=\"184.14\" height=\"83.16\" />\n  </clipPath>\n </defs>\n</svg></g>\n\n<g id=\"edge7\" class=\"edge\">\n<title>node0-&gt;node1</title>\n<path fill=\"none\" stroke=\"#444443\" stroke-width=\"0.3\" d=\"M151.23,-207.29C143.59,-198.08 135.49,-188.31 127.88,-179.14\" />\n<polygon fill=\"#444443\" stroke=\"#444443\" stroke-width=\"0.3\" points=\"129.03,-178.33 125.4,-176.15 126.87,-180.12 129.03,-178.33\" />\n<text text-anchor=\"start\" x=\"143\" y=\"-187.8\" font-family=\"DejaVu Sans\" font-size=\"14.00\" fill=\"#444443\"> &#160;&#8804;</text>\n</g>\n\n<g id=\"edge8\" class=\"edge\">\n<title>node0-&gt;node2</title>\n<path fill=\"none\" stroke=\"#444443\" stroke-width=\"0.3\" d=\"M219.14,-207.29C231.51,-192.54 245.07,-176.37 255.85,-163.52\" />\n<polygon fill=\"#444443\" stroke=\"#444443\" stroke-width=\"0.3\" points=\"256.74,-164.64 258.24,-160.68 254.59,-162.85 256.74,-164.64\" />\n<text text-anchor=\"start\" x=\"239\" y=\"-187.8\" font-family=\"DejaVu Sans\" font-size=\"14.00\" fill=\"#444443\"> &#160;&gt;</text>\n</g>\n\n\n\n<g id=\"node8\" class=\"node\">\n<title>legend</title>\n<polygon fill=\"none\" stroke=\"black\" stroke-width=\"0\" points=\"348.5,-276.5 275.5,-276.5 275.5,-221.5 348.5,-221.5 348.5,-276.5\" />\n<svg width=\"69px\" height=\"51px\" viewBox=\"0 0 93.351562 67.8375\" version=\"1.1\" preserveAspectRatio=\"xMinYMin meet\" x=\"278\" y=\"-274\">\n <metadata>\n  <rdf:RDF>\n   <ns2:Work>\n    <dc:type rdf:resource=\"http://purl.org/dc/dcmitype/StillImage\" />\n    <dc:date>2023-02-23T18:22:02.323966</dc:date>\n    <dc:format>image/svg+xml</dc:format>\n    <dc:creator>\n     <ns2:Agent>\n      <dc:title>Matplotlib v3.6.2, https://matplotlib.org/</dc:title>\n     </ns2:Agent>\n    </dc:creator>\n   </ns2:Work>\n  </rdf:RDF>\n </metadata>\n <defs>\n  <style type=\"text/css\">*{stroke-linejoin: round; stroke-linecap: butt}</style>\n </defs>\n <g id=\"figure_1\">\n  <g id=\"patch_1\">\n   <path d=\"M 0 67.8375  L 93.351562 67.8375  L 93.351562 0  L 0 0  z \" style=\"fill: #ffffff\" />\n  </g>\n  <g id=\"axes_1\">\n   <g id=\"legend_1\">\n    <g id=\"patch_2\">\n     <path d=\"M 2.4 67.8375  L 84.951562 67.8375  Q 87.351562 67.8375 87.351562 65.4375  L 87.351562 8.4  Q 87.351562 6 84.951562 6  L 2.4 6  Q 0 6 0 8.4  L 0 65.4375  Q 0 67.8375 2.4 67.8375  z \" style=\"fill: #ffffff; opacity: 0.8; stroke: #444443; stroke-width: 0.5; stroke-linejoin: miter\" />\n    </g>\n    <g id=\"text_1\">\n     \n     <g style=\"fill: #444443\" transform=\"translate(9.6 23.198437) scale(0.1 -0.1)\">\n      <defs>\n       <path id=\"DejaVuSans-Bold-54\" d=\"M 31 4666  L 4331 4666  L 4331 3756  L 2784 3756  L 2784 0  L 1581 0  L 1581 3756  L 31 3756  L 31 4666  z \" transform=\"scale(0.015625)\" />\n       <path id=\"DejaVuSans-Bold-72\" d=\"M 3138 2547  Q 2991 2616 2845 2648  Q 2700 2681 2553 2681  Q 2122 2681 1889 2404  Q 1656 2128 1656 1613  L 1656 0  L 538 0  L 538 3500  L 1656 3500  L 1656 2925  Q 1872 3269 2151 3426  Q 2431 3584 2822 3584  Q 2878 3584 2943 3579  Q 3009 3575 3134 3559  L 3138 2547  z \" transform=\"scale(0.015625)\" />\n       <path id=\"DejaVuSans-Bold-61\" d=\"M 2106 1575  Q 1756 1575 1579 1456  Q 1403 1338 1403 1106  Q 1403 894 1545 773  Q 1688 653 1941 653  Q 2256 653 2472 879  Q 2688 1106 2688 1447  L 2688 1575  L 2106 1575  z M 3816 1997  L 3816 0  L 2688 0  L 2688 519  Q 2463 200 2181 54  Q 1900 -91 1497 -91  Q 953 -91 614 226  Q 275 544 275 1050  Q 275 1666 698 1953  Q 1122 2241 2028 2241  L 2688 2241  L 2688 2328  Q 2688 2594 2478 2717  Q 2269 2841 1825 2841  Q 1466 2841 1156 2769  Q 847 2697 581 2553  L 581 3406  Q 941 3494 1303 3539  Q 1666 3584 2028 3584  Q 2975 3584 3395 3211  Q 3816 2838 3816 1997  z \" transform=\"scale(0.015625)\" />\n       <path id=\"DejaVuSans-Bold-6e\" d=\"M 4056 2131  L 4056 0  L 2931 0  L 2931 347  L 2931 1631  Q 2931 2084 2911 2256  Q 2891 2428 2841 2509  Q 2775 2619 2662 2680  Q 2550 2741 2406 2741  Q 2056 2741 1856 2470  Q 1656 2200 1656 1722  L 1656 0  L 538 0  L 538 3500  L 1656 3500  L 1656 2988  Q 1909 3294 2193 3439  Q 2478 3584 2822 3584  Q 3428 3584 3742 3212  Q 4056 2841 4056 2131  z \" transform=\"scale(0.015625)\" />\n       <path id=\"DejaVuSans-Bold-73\" d=\"M 3272 3391  L 3272 2541  Q 2913 2691 2578 2766  Q 2244 2841 1947 2841  Q 1628 2841 1473 2761  Q 1319 2681 1319 2516  Q 1319 2381 1436 2309  Q 1553 2238 1856 2203  L 2053 2175  Q 2913 2066 3209 1816  Q 3506 1566 3506 1031  Q 3506 472 3093 190  Q 2681 -91 1863 -91  Q 1516 -91 1145 -36  Q 775 19 384 128  L 384 978  Q 719 816 1070 734  Q 1422 653 1784 653  Q 2113 653 2278 743  Q 2444 834 2444 1013  Q 2444 1163 2330 1236  Q 2216 1309 1875 1350  L 1678 1375  Q 931 1469 631 1722  Q 331 1975 331 2491  Q 331 3047 712 3315  Q 1094 3584 1881 3584  Q 2191 3584 2531 3537  Q 2872 3491 3272 3391  z \" transform=\"scale(0.015625)\" />\n       <path id=\"DejaVuSans-Bold-70\" d=\"M 1656 506  L 1656 -1331  L 538 -1331  L 538 3500  L 1656 3500  L 1656 2988  Q 1888 3294 2169 3439  Q 2450 3584 2816 3584  Q 3463 3584 3878 3070  Q 4294 2556 4294 1747  Q 4294 938 3878 423  Q 3463 -91 2816 -91  Q 2450 -91 2169 54  Q 1888 200 1656 506  z M 2400 2772  Q 2041 2772 1848 2508  Q 1656 2244 1656 1747  Q 1656 1250 1848 986  Q 2041 722 2400 722  Q 2759 722 2948 984  Q 3138 1247 3138 1747  Q 3138 2247 2948 2509  Q 2759 2772 2400 2772  z \" transform=\"scale(0.015625)\" />\n       <path id=\"DejaVuSans-Bold-6f\" d=\"M 2203 2784  Q 1831 2784 1636 2517  Q 1441 2250 1441 1747  Q 1441 1244 1636 976  Q 1831 709 2203 709  Q 2569 709 2762 976  Q 2956 1244 2956 1747  Q 2956 2250 2762 2517  Q 2569 2784 2203 2784  z M 2203 3584  Q 3106 3584 3614 3096  Q 4122 2609 4122 1747  Q 4122 884 3614 396  Q 3106 -91 2203 -91  Q 1297 -91 786 396  Q 275 884 275 1747  Q 275 2609 786 3096  Q 1297 3584 2203 3584  z \" transform=\"scale(0.015625)\" />\n       <path id=\"DejaVuSans-Bold-74\" d=\"M 1759 4494  L 1759 3500  L 2913 3500  L 2913 2700  L 1759 2700  L 1759 1216  Q 1759 972 1856 886  Q 1953 800 2241 800  L 2816 800  L 2816 0  L 1856 0  Q 1194 0 917 276  Q 641 553 641 1216  L 641 2700  L 84 2700  L 84 3500  L 641 3500  L 641 4494  L 1759 4494  z \" transform=\"scale(0.015625)\" />\n       <path id=\"DejaVuSans-Bold-65\" d=\"M 4031 1759  L 4031 1441  L 1416 1441  Q 1456 1047 1700 850  Q 1944 653 2381 653  Q 2734 653 3104 758  Q 3475 863 3866 1075  L 3866 213  Q 3469 63 3072 -14  Q 2675 -91 2278 -91  Q 1328 -91 801 392  Q 275 875 275 1747  Q 275 2603 792 3093  Q 1309 3584 2216 3584  Q 3041 3584 3536 3087  Q 4031 2591 4031 1759  z M 2881 2131  Q 2881 2450 2695 2645  Q 2509 2841 2209 2841  Q 1884 2841 1681 2658  Q 1478 2475 1428 2131  L 2881 2131  z \" transform=\"scale(0.015625)\" />\n       <path id=\"DejaVuSans-Bold-64\" d=\"M 2919 2988  L 2919 4863  L 4044 4863  L 4044 0  L 2919 0  L 2919 506  Q 2688 197 2409 53  Q 2131 -91 1766 -91  Q 1119 -91 703 423  Q 288 938 288 1747  Q 288 2556 703 3070  Q 1119 3584 1766 3584  Q 2128 3584 2408 3439  Q 2688 3294 2919 2988  z M 2181 722  Q 2541 722 2730 984  Q 2919 1247 2919 1747  Q 2919 2247 2730 2509  Q 2541 2772 2181 2772  Q 1825 2772 1636 2509  Q 1447 2247 1447 1747  Q 1447 1247 1636 984  Q 1825 722 2181 722  z \" transform=\"scale(0.015625)\" />\n      </defs>\n      <use xlink:href=\"#DejaVuSans-Bold-54\" />\n      <use xlink:href=\"#DejaVuSans-Bold-72\" x=\"57.212891\" />\n      <use xlink:href=\"#DejaVuSans-Bold-61\" x=\"106.529297\" />\n      <use xlink:href=\"#DejaVuSans-Bold-6e\" x=\"174.009766\" />\n      <use xlink:href=\"#DejaVuSans-Bold-73\" x=\"245.201172\" />\n      <use xlink:href=\"#DejaVuSans-Bold-70\" x=\"304.722656\" />\n      <use xlink:href=\"#DejaVuSans-Bold-6f\" x=\"376.304688\" />\n      <use xlink:href=\"#DejaVuSans-Bold-72\" x=\"445.005859\" />\n      <use xlink:href=\"#DejaVuSans-Bold-74\" x=\"494.322266\" />\n      <use xlink:href=\"#DejaVuSans-Bold-65\" x=\"542.125\" />\n      <use xlink:href=\"#DejaVuSans-Bold-64\" x=\"609.947266\" />\n     </g>\n    </g>\n    <g id=\"patch_3\">\n     <path d=\"M 11.651562 39.678125  L 35.651562 39.678125  L 35.651562 31.278125  L 11.651562 31.278125  z \" style=\"fill: #fefebb; stroke: #444443; stroke-width: 0.4; stroke-linejoin: miter\" />\n    </g>\n    <g id=\"text_2\">\n     \n     <g style=\"fill: #444443\" transform=\"translate(39.851562 39.678125) scale(0.1 -0.1)\">\n      <defs>\n       <path id=\"DejaVuSans-43\" d=\"M 4122 4306  L 4122 3641  Q 3803 3938 3442 4084  Q 3081 4231 2675 4231  Q 1875 4231 1450 3742  Q 1025 3253 1025 2328  Q 1025 1406 1450 917  Q 1875 428 2675 428  Q 3081 428 3442 575  Q 3803 722 4122 1019  L 4122 359  Q 3791 134 3420 21  Q 3050 -91 2638 -91  Q 1578 -91 968 557  Q 359 1206 359 2328  Q 359 3453 968 4101  Q 1578 4750 2638 4750  Q 3056 4750 3426 4639  Q 3797 4528 4122 4306  z \" transform=\"scale(0.015625)\" />\n       <path id=\"DejaVuSans-6c\" d=\"M 603 4863  L 1178 4863  L 1178 0  L 603 0  L 603 4863  z \" transform=\"scale(0.015625)\" />\n       <path id=\"DejaVuSans-61\" d=\"M 2194 1759  Q 1497 1759 1228 1600  Q 959 1441 959 1056  Q 959 750 1161 570  Q 1363 391 1709 391  Q 2188 391 2477 730  Q 2766 1069 2766 1631  L 2766 1759  L 2194 1759  z M 3341 1997  L 3341 0  L 2766 0  L 2766 531  Q 2569 213 2275 61  Q 1981 -91 1556 -91  Q 1019 -91 701 211  Q 384 513 384 1019  Q 384 1609 779 1909  Q 1175 2209 1959 2209  L 2766 2209  L 2766 2266  Q 2766 2663 2505 2880  Q 2244 3097 1772 3097  Q 1472 3097 1187 3025  Q 903 2953 641 2809  L 641 3341  Q 956 3463 1253 3523  Q 1550 3584 1831 3584  Q 2591 3584 2966 3190  Q 3341 2797 3341 1997  z \" transform=\"scale(0.015625)\" />\n       <path id=\"DejaVuSans-73\" d=\"M 2834 3397  L 2834 2853  Q 2591 2978 2328 3040  Q 2066 3103 1784 3103  Q 1356 3103 1142 2972  Q 928 2841 928 2578  Q 928 2378 1081 2264  Q 1234 2150 1697 2047  L 1894 2003  Q 2506 1872 2764 1633  Q 3022 1394 3022 966  Q 3022 478 2636 193  Q 2250 -91 1575 -91  Q 1294 -91 989 -36  Q 684 19 347 128  L 347 722  Q 666 556 975 473  Q 1284 391 1588 391  Q 1994 391 2212 530  Q 2431 669 2431 922  Q 2431 1156 2273 1281  Q 2116 1406 1581 1522  L 1381 1569  Q 847 1681 609 1914  Q 372 2147 372 2553  Q 372 3047 722 3315  Q 1072 3584 1716 3584  Q 2034 3584 2315 3537  Q 2597 3491 2834 3397  z \" transform=\"scale(0.015625)\" />\n       <path id=\"DejaVuSans-20\" transform=\"scale(0.015625)\" />\n       <path id=\"DejaVuSans-30\" d=\"M 2034 4250  Q 1547 4250 1301 3770  Q 1056 3291 1056 2328  Q 1056 1369 1301 889  Q 1547 409 2034 409  Q 2525 409 2770 889  Q 3016 1369 3016 2328  Q 3016 3291 2770 3770  Q 2525 4250 2034 4250  z M 2034 4750  Q 2819 4750 3233 4129  Q 3647 3509 3647 2328  Q 3647 1150 3233 529  Q 2819 -91 2034 -91  Q 1250 -91 836 529  Q 422 1150 422 2328  Q 422 3509 836 4129  Q 1250 4750 2034 4750  z \" transform=\"scale(0.015625)\" />\n      </defs>\n      <use xlink:href=\"#DejaVuSans-43\" />\n      <use xlink:href=\"#DejaVuSans-6c\" x=\"69.824219\" />\n      <use xlink:href=\"#DejaVuSans-61\" x=\"97.607422\" />\n      <use xlink:href=\"#DejaVuSans-73\" x=\"158.886719\" />\n      <use xlink:href=\"#DejaVuSans-73\" x=\"210.986328\" />\n      <use xlink:href=\"#DejaVuSans-20\" x=\"263.085938\" />\n      <use xlink:href=\"#DejaVuSans-30\" x=\"294.873047\" />\n     </g>\n    </g>\n    <g id=\"patch_4\">\n     <path d=\"M 11.651562 56.157812  L 35.651562 56.157812  L 35.651562 47.757812  L 11.651562 47.757812  z \" style=\"fill: #a1dab4; stroke: #444443; stroke-width: 0.4; stroke-linejoin: miter\" />\n    </g>\n    <g id=\"text_3\">\n     \n     <g style=\"fill: #444443\" transform=\"translate(39.851562 56.157812) scale(0.1 -0.1)\">\n      <defs>\n       <path id=\"DejaVuSans-31\" d=\"M 794 531  L 1825 531  L 1825 4091  L 703 3866  L 703 4441  L 1819 4666  L 2450 4666  L 2450 531  L 3481 531  L 3481 0  L 794 0  L 794 531  z \" transform=\"scale(0.015625)\" />\n      </defs>\n      <use xlink:href=\"#DejaVuSans-43\" />\n      <use xlink:href=\"#DejaVuSans-6c\" x=\"69.824219\" />\n      <use xlink:href=\"#DejaVuSans-61\" x=\"97.607422\" />\n      <use xlink:href=\"#DejaVuSans-73\" x=\"158.886719\" />\n      <use xlink:href=\"#DejaVuSans-73\" x=\"210.986328\" />\n      <use xlink:href=\"#DejaVuSans-20\" x=\"263.085938\" />\n      <use xlink:href=\"#DejaVuSans-31\" x=\"294.873047\" />\n     </g>\n    </g>\n   </g>\n  </g>\n </g>\n</svg></g>\n</g>\n</svg>",
      "text/plain": [
       "<dtreeviz.utils.DTreeVizRender at 0x7f8d8bf12770>"
      ]
     },
     "execution_count": 50,
     "metadata": {},
     "output_type": "execute_result"
    }
   ],
   "source": [
    "viz_model.view(fontname=\"DejaVu Sans\", scale=1.8, label_fontsize=10)"
   ]
  },
  {
   "attachments": {},
   "cell_type": "markdown",
   "metadata": {},
   "source": [
    "### Logistic Regression"
   ]
  },
  {
   "attachments": {},
   "cell_type": "markdown",
   "metadata": {},
   "source": [
    "Run the same test with a quick logistic regression model"
   ]
  },
  {
   "cell_type": "code",
   "execution_count": 51,
   "metadata": {},
   "outputs": [],
   "source": [
    "m = LogisticRegression(max_iter=1000)\n",
    "m.fit(xs, y);"
   ]
  },
  {
   "cell_type": "code",
   "execution_count": 52,
   "metadata": {},
   "outputs": [],
   "source": [
    "y_pred = m.predict(valid_xs)"
   ]
  },
  {
   "cell_type": "code",
   "execution_count": 53,
   "metadata": {},
   "outputs": [
    {
     "data": {
      "text/plain": [
       "0.7619321449108684"
      ]
     },
     "execution_count": 53,
     "metadata": {},
     "output_type": "execute_result"
    }
   ],
   "source": [
    "accuracy = accuracy_score(valid_y, y_pred)\n",
    "accuracy"
   ]
  },
  {
   "attachments": {},
   "cell_type": "markdown",
   "metadata": {},
   "source": [
    "### All Leaves Decision Tree "
   ]
  },
  {
   "attachments": {},
   "cell_type": "markdown",
   "metadata": {},
   "source": [
    "Run the same decision tree model, let it max out the leaves until there is one for each"
   ]
  },
  {
   "cell_type": "code",
   "execution_count": 54,
   "metadata": {},
   "outputs": [],
   "source": [
    "m = DecisionTreeClassifier()\n",
    "m.fit(xs, y);"
   ]
  },
  {
   "cell_type": "code",
   "execution_count": 55,
   "metadata": {},
   "outputs": [],
   "source": [
    "y_pred = m.predict(valid_xs)"
   ]
  },
  {
   "cell_type": "code",
   "execution_count": 56,
   "metadata": {},
   "outputs": [
    {
     "data": {
      "text/plain": [
       "0.7245543415756182"
      ]
     },
     "execution_count": 56,
     "metadata": {},
     "output_type": "execute_result"
    }
   ],
   "source": [
    "accuracy = accuracy_score(valid_y, y_pred)\n",
    "accuracy"
   ]
  },
  {
   "cell_type": "code",
   "execution_count": 57,
   "metadata": {},
   "outputs": [
    {
     "data": {
      "text/plain": [
       "(1162, 6954)"
      ]
     },
     "execution_count": 57,
     "metadata": {},
     "output_type": "execute_result"
    }
   ],
   "source": [
    "m.get_n_leaves(), len(xs)"
   ]
  },
  {
   "attachments": {},
   "cell_type": "markdown",
   "metadata": {},
   "source": [
    "### 25 Leaves Decision Tree "
   ]
  },
  {
   "attachments": {},
   "cell_type": "markdown",
   "metadata": {},
   "source": [
    "Scale back to 25 Leaves as a happy medium"
   ]
  },
  {
   "cell_type": "code",
   "execution_count": 58,
   "metadata": {},
   "outputs": [],
   "source": [
    "m = DecisionTreeClassifier(min_samples_leaf=25)\n",
    "m.fit(xs, y);"
   ]
  },
  {
   "cell_type": "code",
   "execution_count": 59,
   "metadata": {},
   "outputs": [],
   "source": [
    "y_pred = m.predict(valid_xs)"
   ]
  },
  {
   "cell_type": "code",
   "execution_count": 60,
   "metadata": {},
   "outputs": [
    {
     "data": {
      "text/plain": [
       "0.7751581368602645"
      ]
     },
     "execution_count": 60,
     "metadata": {},
     "output_type": "execute_result"
    }
   ],
   "source": [
    "accuracy = accuracy_score(valid_y, y_pred)\n",
    "accuracy"
   ]
  },
  {
   "attachments": {},
   "cell_type": "markdown",
   "metadata": {},
   "source": [
    "### Random Forest"
   ]
  },
  {
   "attachments": {},
   "cell_type": "markdown",
   "metadata": {},
   "source": [
    "Create a function to make it easier to try several variations in succession"
   ]
  },
  {
   "cell_type": "code",
   "execution_count": 80,
   "metadata": {},
   "outputs": [],
   "source": [
    "def rf(xs, y, n_estimators=40, max_features=0.5, min_samples_leaf=5, **kwargs):\n",
    "    return RandomForestClassifier(n_jobs=-1, n_estimators=n_estimators,\n",
    "        max_features=max_features, min_samples_leaf=min_samples_leaf, \n",
    "        oob_score=True).fit(xs,y)"
   ]
  },
  {
   "cell_type": "code",
   "execution_count": 81,
   "metadata": {},
   "outputs": [],
   "source": [
    "m = rf(xs,y)"
   ]
  },
  {
   "cell_type": "code",
   "execution_count": 82,
   "metadata": {},
   "outputs": [],
   "source": [
    "def pred_acc(m):\n",
    "    y_pred = m.predict(valid_xs)\n",
    "    accuracy = accuracy_score(valid_y, y_pred)\n",
    "    return accuracy\n",
    "    "
   ]
  },
  {
   "cell_type": "code",
   "execution_count": 83,
   "metadata": {},
   "outputs": [
    {
     "data": {
      "text/plain": [
       "0.7929844738355377"
      ]
     },
     "execution_count": 83,
     "metadata": {},
     "output_type": "execute_result"
    }
   ],
   "source": [
    "pred_acc(m)"
   ]
  },
  {
   "cell_type": "code",
   "execution_count": 85,
   "metadata": {},
   "outputs": [],
   "source": [
    "preds = np.stack([t.predict(valid_xs.values) for t in m.estimators_])"
   ]
  },
  {
   "cell_type": "code",
   "execution_count": 88,
   "metadata": {},
   "outputs": [
    {
     "ename": "ValueError",
     "evalue": "Classification metrics can't handle a mix of binary and continuous targets",
     "output_type": "error",
     "traceback": [
      "\u001b[0;31m---------------------------------------------------------------------------\u001b[0m",
      "\u001b[0;31mValueError\u001b[0m                                Traceback (most recent call last)",
      "Cell \u001b[0;32mIn[88], line 1\u001b[0m\n\u001b[0;32m----> 1\u001b[0m accuracy_score(valid_y, preds\u001b[39m.\u001b[39;49mmean(\u001b[39m0\u001b[39;49m))\n",
      "File \u001b[0;32m~/mambaforge/lib/python3.10/site-packages/sklearn/utils/_param_validation.py:192\u001b[0m, in \u001b[0;36mvalidate_params.<locals>.decorator.<locals>.wrapper\u001b[0;34m(*args, **kwargs)\u001b[0m\n\u001b[1;32m    187\u001b[0m validate_parameter_constraints(\n\u001b[1;32m    188\u001b[0m     parameter_constraints, params, caller_name\u001b[39m=\u001b[39mfunc\u001b[39m.\u001b[39m\u001b[39m__qualname__\u001b[39m\n\u001b[1;32m    189\u001b[0m )\n\u001b[1;32m    191\u001b[0m \u001b[39mtry\u001b[39;00m:\n\u001b[0;32m--> 192\u001b[0m     \u001b[39mreturn\u001b[39;00m func(\u001b[39m*\u001b[39;49margs, \u001b[39m*\u001b[39;49m\u001b[39m*\u001b[39;49mkwargs)\n\u001b[1;32m    193\u001b[0m \u001b[39mexcept\u001b[39;00m InvalidParameterError \u001b[39mas\u001b[39;00m e:\n\u001b[1;32m    194\u001b[0m     \u001b[39m# When the function is just a wrapper around an estimator, we allow\u001b[39;00m\n\u001b[1;32m    195\u001b[0m     \u001b[39m# the function to delegate validation to the estimator, but we replace\u001b[39;00m\n\u001b[1;32m    196\u001b[0m     \u001b[39m# the name of the estimator by the name of the function in the error\u001b[39;00m\n\u001b[1;32m    197\u001b[0m     \u001b[39m# message to avoid confusion.\u001b[39;00m\n\u001b[1;32m    198\u001b[0m     msg \u001b[39m=\u001b[39m re\u001b[39m.\u001b[39msub(\n\u001b[1;32m    199\u001b[0m         \u001b[39mr\u001b[39m\u001b[39m\"\u001b[39m\u001b[39mparameter of \u001b[39m\u001b[39m\\\u001b[39m\u001b[39mw+ must be\u001b[39m\u001b[39m\"\u001b[39m,\n\u001b[1;32m    200\u001b[0m         \u001b[39mf\u001b[39m\u001b[39m\"\u001b[39m\u001b[39mparameter of \u001b[39m\u001b[39m{\u001b[39;00mfunc\u001b[39m.\u001b[39m\u001b[39m__qualname__\u001b[39m\u001b[39m}\u001b[39;00m\u001b[39m must be\u001b[39m\u001b[39m\"\u001b[39m,\n\u001b[1;32m    201\u001b[0m         \u001b[39mstr\u001b[39m(e),\n\u001b[1;32m    202\u001b[0m     )\n",
      "File \u001b[0;32m~/mambaforge/lib/python3.10/site-packages/sklearn/metrics/_classification.py:221\u001b[0m, in \u001b[0;36maccuracy_score\u001b[0;34m(y_true, y_pred, normalize, sample_weight)\u001b[0m\n\u001b[1;32m    155\u001b[0m \u001b[39m\u001b[39m\u001b[39m\"\"\"Accuracy classification score.\u001b[39;00m\n\u001b[1;32m    156\u001b[0m \n\u001b[1;32m    157\u001b[0m \u001b[39mIn multilabel classification, this function computes subset accuracy:\u001b[39;00m\n\u001b[0;32m   (...)\u001b[0m\n\u001b[1;32m    217\u001b[0m \u001b[39m0.5\u001b[39;00m\n\u001b[1;32m    218\u001b[0m \u001b[39m\"\"\"\u001b[39;00m\n\u001b[1;32m    220\u001b[0m \u001b[39m# Compute accuracy for each possible representation\u001b[39;00m\n\u001b[0;32m--> 221\u001b[0m y_type, y_true, y_pred \u001b[39m=\u001b[39m _check_targets(y_true, y_pred)\n\u001b[1;32m    222\u001b[0m check_consistent_length(y_true, y_pred, sample_weight)\n\u001b[1;32m    223\u001b[0m \u001b[39mif\u001b[39;00m y_type\u001b[39m.\u001b[39mstartswith(\u001b[39m\"\u001b[39m\u001b[39mmultilabel\u001b[39m\u001b[39m\"\u001b[39m):\n",
      "File \u001b[0;32m~/mambaforge/lib/python3.10/site-packages/sklearn/metrics/_classification.py:95\u001b[0m, in \u001b[0;36m_check_targets\u001b[0;34m(y_true, y_pred)\u001b[0m\n\u001b[1;32m     92\u001b[0m     y_type \u001b[39m=\u001b[39m {\u001b[39m\"\u001b[39m\u001b[39mmulticlass\u001b[39m\u001b[39m\"\u001b[39m}\n\u001b[1;32m     94\u001b[0m \u001b[39mif\u001b[39;00m \u001b[39mlen\u001b[39m(y_type) \u001b[39m>\u001b[39m \u001b[39m1\u001b[39m:\n\u001b[0;32m---> 95\u001b[0m     \u001b[39mraise\u001b[39;00m \u001b[39mValueError\u001b[39;00m(\n\u001b[1;32m     96\u001b[0m         \u001b[39m\"\u001b[39m\u001b[39mClassification metrics can\u001b[39m\u001b[39m'\u001b[39m\u001b[39mt handle a mix of \u001b[39m\u001b[39m{0}\u001b[39;00m\u001b[39m and \u001b[39m\u001b[39m{1}\u001b[39;00m\u001b[39m targets\u001b[39m\u001b[39m\"\u001b[39m\u001b[39m.\u001b[39mformat(\n\u001b[1;32m     97\u001b[0m             type_true, type_pred\n\u001b[1;32m     98\u001b[0m         )\n\u001b[1;32m     99\u001b[0m     )\n\u001b[1;32m    101\u001b[0m \u001b[39m# We can't have more than one value on y_type => The set is no more needed\u001b[39;00m\n\u001b[1;32m    102\u001b[0m y_type \u001b[39m=\u001b[39m y_type\u001b[39m.\u001b[39mpop()\n",
      "\u001b[0;31mValueError\u001b[0m: Classification metrics can't handle a mix of binary and continuous targets"
     ]
    }
   ],
   "source": []
  },
  {
   "cell_type": "code",
   "execution_count": 89,
   "metadata": {},
   "outputs": [
    {
     "data": {
      "text/plain": [
       "array([1, 0, 0, ..., 0, 1, 0], dtype=int8)"
      ]
     },
     "execution_count": 89,
     "metadata": {},
     "output_type": "execute_result"
    }
   ],
   "source": [
    "valid_y.values"
   ]
  },
  {
   "cell_type": "code",
   "execution_count": null,
   "metadata": {},
   "outputs": [],
   "source": []
  }
 ],
 "metadata": {
  "kernelspec": {
   "display_name": "base",
   "language": "python",
   "name": "python3"
  },
  "language_info": {
   "codemirror_mode": {
    "name": "ipython",
    "version": 3
   },
   "file_extension": ".py",
   "mimetype": "text/x-python",
   "name": "python",
   "nbconvert_exporter": "python",
   "pygments_lexer": "ipython3",
   "version": "3.10.6"
  },
  "orig_nbformat": 4,
  "vscode": {
   "interpreter": {
    "hash": "f4702a165a03ade35e40e0221d250a3a44a346cfc16a49ce6d051d1595069b46"
   }
  }
 },
 "nbformat": 4,
 "nbformat_minor": 2
}
