{
 "cells": [
  {
   "attachments": {},
   "cell_type": "markdown",
   "metadata": {},
   "source": [
    "### Spaceship Titanic with fastai"
   ]
  },
  {
   "attachments": {},
   "cell_type": "markdown",
   "metadata": {},
   "source": [
    "Competition [Link](https://www.kaggle.com/competitions/spaceship-titanic/overview)"
   ]
  },
  {
   "cell_type": "code",
   "execution_count": 1,
   "metadata": {},
   "outputs": [],
   "source": [
    "#|default_exp app"
   ]
  },
  {
   "cell_type": "code",
   "execution_count": 2,
   "metadata": {},
   "outputs": [],
   "source": [
    "#The Following cell of code is used everytime FASTAI library is used.\n",
    "#They tell the notebook to reload any changes made to any libraries used.\n",
    "#They also ensure that any graphs are plotted are shown in this notebook\n",
    "%reload_ext autoreload\n",
    "%autoreload 2\n",
    "%matplotlib inline"
   ]
  },
  {
   "attachments": {},
   "cell_type": "markdown",
   "metadata": {},
   "source": [
    "### Imports"
   ]
  },
  {
   "cell_type": "code",
   "execution_count": 3,
   "metadata": {},
   "outputs": [],
   "source": [
    "from fastai.tabular.all import *\n",
    "from fastbook import *\n",
    "from pandas.api.types import is_string_dtype, is_numeric_dtype, is_categorical_dtype\n",
    "from sklearn.model_selection import train_test_split\n",
    "from sklearn.ensemble import RandomForestClassifier\n",
    "from sklearn.tree import DecisionTreeClassifier\n",
    "from sklearn.linear_model import LogisticRegression\n",
    "from sklearn.metrics import accuracy_score\n",
    "from sklearn.preprocessing import LabelEncoder\n",
    "import seaborn as sns\n",
    "from dtreeviz.trees import *\n",
    "from IPython.display import Image, display_svg, SVG\n",
    "import dtreeviz"
   ]
  },
  {
   "attachments": {},
   "cell_type": "markdown",
   "metadata": {},
   "source": [
    "### Import Datasets and Create Dataframe"
   ]
  },
  {
   "cell_type": "code",
   "execution_count": 4,
   "metadata": {},
   "outputs": [],
   "source": [
    "#| export\n",
    "iskaggle = os.environ.get('KAGGLE_KERNEL_RUN_TYPE', '')\n",
    "creds = ''"
   ]
  },
  {
   "cell_type": "code",
   "execution_count": 5,
   "metadata": {},
   "outputs": [],
   "source": [
    "#| export\n",
    "cred_path = Path('~/.kaggle/kaggle.json').expanduser()\n",
    "if not cred_path.exists():\n",
    "    cred_path.parent.mkdir(exist_ok=True)\n",
    "    cred_path.write_text(creds)\n",
    "    cred_path.chmod(0o600)"
   ]
  },
  {
   "cell_type": "code",
   "execution_count": 6,
   "metadata": {},
   "outputs": [],
   "source": [
    "#| export\n",
    "path = Path('spaceship-titanic')"
   ]
  },
  {
   "cell_type": "code",
   "execution_count": 7,
   "metadata": {},
   "outputs": [],
   "source": [
    "#| export\n",
    "if not iskaggle and not path.exists():\n",
    "    import zipfile, kaggle\n",
    "    kaggle.api.competition_download_cli(str(path))    \n",
    "    zipfile.ZipFile(f'{path}.zip').extractall(path)"
   ]
  },
  {
   "cell_type": "code",
   "execution_count": 8,
   "metadata": {},
   "outputs": [],
   "source": [
    "#| export\n",
    "if iskaggle:\n",
    "    path = Path('../input/spaceship-titanic')\n",
    "    ! pip install -q dataset"
   ]
  },
  {
   "attachments": {},
   "cell_type": "markdown",
   "metadata": {},
   "source": [
    "Import CSV's as Pandas Dataframes"
   ]
  },
  {
   "cell_type": "code",
   "execution_count": 9,
   "metadata": {},
   "outputs": [],
   "source": [
    "#| export\n",
    "df = pd.read_csv(path/'train.csv', low_memory=False)\n",
    "test_df = pd.read_csv(path/'test.csv', low_memory=False)\n",
    "sample_df = pd.read_csv(path/'sample_submission.csv', low_memory=False)"
   ]
  },
  {
   "cell_type": "code",
   "execution_count": 10,
   "metadata": {},
   "outputs": [
    {
     "data": {
      "text/html": [
       "<div>\n",
       "<style scoped>\n",
       "    .dataframe tbody tr th:only-of-type {\n",
       "        vertical-align: middle;\n",
       "    }\n",
       "\n",
       "    .dataframe tbody tr th {\n",
       "        vertical-align: top;\n",
       "    }\n",
       "\n",
       "    .dataframe thead th {\n",
       "        text-align: right;\n",
       "    }\n",
       "</style>\n",
       "<table border=\"1\" class=\"dataframe\">\n",
       "  <thead>\n",
       "    <tr style=\"text-align: right;\">\n",
       "      <th></th>\n",
       "      <th>PassengerId</th>\n",
       "      <th>HomePlanet</th>\n",
       "      <th>CryoSleep</th>\n",
       "      <th>Cabin</th>\n",
       "      <th>Destination</th>\n",
       "      <th>Age</th>\n",
       "      <th>VIP</th>\n",
       "      <th>RoomService</th>\n",
       "      <th>FoodCourt</th>\n",
       "      <th>ShoppingMall</th>\n",
       "      <th>Spa</th>\n",
       "      <th>VRDeck</th>\n",
       "      <th>Name</th>\n",
       "      <th>Transported</th>\n",
       "    </tr>\n",
       "  </thead>\n",
       "  <tbody>\n",
       "    <tr>\n",
       "      <th>0</th>\n",
       "      <td>0001_01</td>\n",
       "      <td>Europa</td>\n",
       "      <td>False</td>\n",
       "      <td>B/0/P</td>\n",
       "      <td>TRAPPIST-1e</td>\n",
       "      <td>39.0</td>\n",
       "      <td>False</td>\n",
       "      <td>0.0</td>\n",
       "      <td>0.0</td>\n",
       "      <td>0.0</td>\n",
       "      <td>0.0</td>\n",
       "      <td>0.0</td>\n",
       "      <td>Maham Ofracculy</td>\n",
       "      <td>False</td>\n",
       "    </tr>\n",
       "    <tr>\n",
       "      <th>1</th>\n",
       "      <td>0002_01</td>\n",
       "      <td>Earth</td>\n",
       "      <td>False</td>\n",
       "      <td>F/0/S</td>\n",
       "      <td>TRAPPIST-1e</td>\n",
       "      <td>24.0</td>\n",
       "      <td>False</td>\n",
       "      <td>109.0</td>\n",
       "      <td>9.0</td>\n",
       "      <td>25.0</td>\n",
       "      <td>549.0</td>\n",
       "      <td>44.0</td>\n",
       "      <td>Juanna Vines</td>\n",
       "      <td>True</td>\n",
       "    </tr>\n",
       "    <tr>\n",
       "      <th>2</th>\n",
       "      <td>0003_01</td>\n",
       "      <td>Europa</td>\n",
       "      <td>False</td>\n",
       "      <td>A/0/S</td>\n",
       "      <td>TRAPPIST-1e</td>\n",
       "      <td>58.0</td>\n",
       "      <td>True</td>\n",
       "      <td>43.0</td>\n",
       "      <td>3576.0</td>\n",
       "      <td>0.0</td>\n",
       "      <td>6715.0</td>\n",
       "      <td>49.0</td>\n",
       "      <td>Altark Susent</td>\n",
       "      <td>False</td>\n",
       "    </tr>\n",
       "    <tr>\n",
       "      <th>3</th>\n",
       "      <td>0003_02</td>\n",
       "      <td>Europa</td>\n",
       "      <td>False</td>\n",
       "      <td>A/0/S</td>\n",
       "      <td>TRAPPIST-1e</td>\n",
       "      <td>33.0</td>\n",
       "      <td>False</td>\n",
       "      <td>0.0</td>\n",
       "      <td>1283.0</td>\n",
       "      <td>371.0</td>\n",
       "      <td>3329.0</td>\n",
       "      <td>193.0</td>\n",
       "      <td>Solam Susent</td>\n",
       "      <td>False</td>\n",
       "    </tr>\n",
       "    <tr>\n",
       "      <th>4</th>\n",
       "      <td>0004_01</td>\n",
       "      <td>Earth</td>\n",
       "      <td>False</td>\n",
       "      <td>F/1/S</td>\n",
       "      <td>TRAPPIST-1e</td>\n",
       "      <td>16.0</td>\n",
       "      <td>False</td>\n",
       "      <td>303.0</td>\n",
       "      <td>70.0</td>\n",
       "      <td>151.0</td>\n",
       "      <td>565.0</td>\n",
       "      <td>2.0</td>\n",
       "      <td>Willy Santantines</td>\n",
       "      <td>True</td>\n",
       "    </tr>\n",
       "    <tr>\n",
       "      <th>5</th>\n",
       "      <td>0005_01</td>\n",
       "      <td>Earth</td>\n",
       "      <td>False</td>\n",
       "      <td>F/0/P</td>\n",
       "      <td>PSO J318.5-22</td>\n",
       "      <td>44.0</td>\n",
       "      <td>False</td>\n",
       "      <td>0.0</td>\n",
       "      <td>483.0</td>\n",
       "      <td>0.0</td>\n",
       "      <td>291.0</td>\n",
       "      <td>0.0</td>\n",
       "      <td>Sandie Hinetthews</td>\n",
       "      <td>True</td>\n",
       "    </tr>\n",
       "    <tr>\n",
       "      <th>6</th>\n",
       "      <td>0006_01</td>\n",
       "      <td>Earth</td>\n",
       "      <td>False</td>\n",
       "      <td>F/2/S</td>\n",
       "      <td>TRAPPIST-1e</td>\n",
       "      <td>26.0</td>\n",
       "      <td>False</td>\n",
       "      <td>42.0</td>\n",
       "      <td>1539.0</td>\n",
       "      <td>3.0</td>\n",
       "      <td>0.0</td>\n",
       "      <td>0.0</td>\n",
       "      <td>Billex Jacostaffey</td>\n",
       "      <td>True</td>\n",
       "    </tr>\n",
       "    <tr>\n",
       "      <th>7</th>\n",
       "      <td>0006_02</td>\n",
       "      <td>Earth</td>\n",
       "      <td>True</td>\n",
       "      <td>G/0/S</td>\n",
       "      <td>TRAPPIST-1e</td>\n",
       "      <td>28.0</td>\n",
       "      <td>False</td>\n",
       "      <td>0.0</td>\n",
       "      <td>0.0</td>\n",
       "      <td>0.0</td>\n",
       "      <td>0.0</td>\n",
       "      <td>NaN</td>\n",
       "      <td>Candra Jacostaffey</td>\n",
       "      <td>True</td>\n",
       "    </tr>\n",
       "    <tr>\n",
       "      <th>8</th>\n",
       "      <td>0007_01</td>\n",
       "      <td>Earth</td>\n",
       "      <td>False</td>\n",
       "      <td>F/3/S</td>\n",
       "      <td>TRAPPIST-1e</td>\n",
       "      <td>35.0</td>\n",
       "      <td>False</td>\n",
       "      <td>0.0</td>\n",
       "      <td>785.0</td>\n",
       "      <td>17.0</td>\n",
       "      <td>216.0</td>\n",
       "      <td>0.0</td>\n",
       "      <td>Andona Beston</td>\n",
       "      <td>True</td>\n",
       "    </tr>\n",
       "    <tr>\n",
       "      <th>9</th>\n",
       "      <td>0008_01</td>\n",
       "      <td>Europa</td>\n",
       "      <td>True</td>\n",
       "      <td>B/1/P</td>\n",
       "      <td>55 Cancri e</td>\n",
       "      <td>14.0</td>\n",
       "      <td>False</td>\n",
       "      <td>0.0</td>\n",
       "      <td>0.0</td>\n",
       "      <td>0.0</td>\n",
       "      <td>0.0</td>\n",
       "      <td>0.0</td>\n",
       "      <td>Erraiam Flatic</td>\n",
       "      <td>True</td>\n",
       "    </tr>\n",
       "    <tr>\n",
       "      <th>10</th>\n",
       "      <td>0008_02</td>\n",
       "      <td>Europa</td>\n",
       "      <td>True</td>\n",
       "      <td>B/1/P</td>\n",
       "      <td>TRAPPIST-1e</td>\n",
       "      <td>34.0</td>\n",
       "      <td>False</td>\n",
       "      <td>0.0</td>\n",
       "      <td>0.0</td>\n",
       "      <td>NaN</td>\n",
       "      <td>0.0</td>\n",
       "      <td>0.0</td>\n",
       "      <td>Altardr Flatic</td>\n",
       "      <td>True</td>\n",
       "    </tr>\n",
       "    <tr>\n",
       "      <th>11</th>\n",
       "      <td>0008_03</td>\n",
       "      <td>Europa</td>\n",
       "      <td>False</td>\n",
       "      <td>B/1/P</td>\n",
       "      <td>55 Cancri e</td>\n",
       "      <td>45.0</td>\n",
       "      <td>False</td>\n",
       "      <td>39.0</td>\n",
       "      <td>7295.0</td>\n",
       "      <td>589.0</td>\n",
       "      <td>110.0</td>\n",
       "      <td>124.0</td>\n",
       "      <td>Wezena Flatic</td>\n",
       "      <td>True</td>\n",
       "    </tr>\n",
       "    <tr>\n",
       "      <th>12</th>\n",
       "      <td>0009_01</td>\n",
       "      <td>Mars</td>\n",
       "      <td>False</td>\n",
       "      <td>F/1/P</td>\n",
       "      <td>TRAPPIST-1e</td>\n",
       "      <td>32.0</td>\n",
       "      <td>False</td>\n",
       "      <td>73.0</td>\n",
       "      <td>0.0</td>\n",
       "      <td>1123.0</td>\n",
       "      <td>0.0</td>\n",
       "      <td>113.0</td>\n",
       "      <td>Berers Barne</td>\n",
       "      <td>True</td>\n",
       "    </tr>\n",
       "    <tr>\n",
       "      <th>13</th>\n",
       "      <td>0010_01</td>\n",
       "      <td>Earth</td>\n",
       "      <td>False</td>\n",
       "      <td>G/1/S</td>\n",
       "      <td>TRAPPIST-1e</td>\n",
       "      <td>48.0</td>\n",
       "      <td>False</td>\n",
       "      <td>719.0</td>\n",
       "      <td>1.0</td>\n",
       "      <td>65.0</td>\n",
       "      <td>0.0</td>\n",
       "      <td>24.0</td>\n",
       "      <td>Reney Baketton</td>\n",
       "      <td>False</td>\n",
       "    </tr>\n",
       "    <tr>\n",
       "      <th>14</th>\n",
       "      <td>0011_01</td>\n",
       "      <td>Earth</td>\n",
       "      <td>False</td>\n",
       "      <td>F/2/P</td>\n",
       "      <td>TRAPPIST-1e</td>\n",
       "      <td>28.0</td>\n",
       "      <td>False</td>\n",
       "      <td>8.0</td>\n",
       "      <td>974.0</td>\n",
       "      <td>12.0</td>\n",
       "      <td>2.0</td>\n",
       "      <td>7.0</td>\n",
       "      <td>Elle Bertsontry</td>\n",
       "      <td>True</td>\n",
       "    </tr>\n",
       "  </tbody>\n",
       "</table>\n",
       "</div>"
      ],
      "text/plain": [
       "   PassengerId HomePlanet CryoSleep  Cabin    Destination   Age    VIP  \\\n",
       "0      0001_01     Europa     False  B/0/P    TRAPPIST-1e  39.0  False   \n",
       "1      0002_01      Earth     False  F/0/S    TRAPPIST-1e  24.0  False   \n",
       "2      0003_01     Europa     False  A/0/S    TRAPPIST-1e  58.0   True   \n",
       "3      0003_02     Europa     False  A/0/S    TRAPPIST-1e  33.0  False   \n",
       "4      0004_01      Earth     False  F/1/S    TRAPPIST-1e  16.0  False   \n",
       "5      0005_01      Earth     False  F/0/P  PSO J318.5-22  44.0  False   \n",
       "6      0006_01      Earth     False  F/2/S    TRAPPIST-1e  26.0  False   \n",
       "7      0006_02      Earth      True  G/0/S    TRAPPIST-1e  28.0  False   \n",
       "8      0007_01      Earth     False  F/3/S    TRAPPIST-1e  35.0  False   \n",
       "9      0008_01     Europa      True  B/1/P    55 Cancri e  14.0  False   \n",
       "10     0008_02     Europa      True  B/1/P    TRAPPIST-1e  34.0  False   \n",
       "11     0008_03     Europa     False  B/1/P    55 Cancri e  45.0  False   \n",
       "12     0009_01       Mars     False  F/1/P    TRAPPIST-1e  32.0  False   \n",
       "13     0010_01      Earth     False  G/1/S    TRAPPIST-1e  48.0  False   \n",
       "14     0011_01      Earth     False  F/2/P    TRAPPIST-1e  28.0  False   \n",
       "\n",
       "    RoomService  FoodCourt  ShoppingMall     Spa  VRDeck                Name  \\\n",
       "0           0.0        0.0           0.0     0.0     0.0     Maham Ofracculy   \n",
       "1         109.0        9.0          25.0   549.0    44.0        Juanna Vines   \n",
       "2          43.0     3576.0           0.0  6715.0    49.0       Altark Susent   \n",
       "3           0.0     1283.0         371.0  3329.0   193.0        Solam Susent   \n",
       "4         303.0       70.0         151.0   565.0     2.0   Willy Santantines   \n",
       "5           0.0      483.0           0.0   291.0     0.0   Sandie Hinetthews   \n",
       "6          42.0     1539.0           3.0     0.0     0.0  Billex Jacostaffey   \n",
       "7           0.0        0.0           0.0     0.0     NaN  Candra Jacostaffey   \n",
       "8           0.0      785.0          17.0   216.0     0.0       Andona Beston   \n",
       "9           0.0        0.0           0.0     0.0     0.0      Erraiam Flatic   \n",
       "10          0.0        0.0           NaN     0.0     0.0      Altardr Flatic   \n",
       "11         39.0     7295.0         589.0   110.0   124.0       Wezena Flatic   \n",
       "12         73.0        0.0        1123.0     0.0   113.0        Berers Barne   \n",
       "13        719.0        1.0          65.0     0.0    24.0      Reney Baketton   \n",
       "14          8.0      974.0          12.0     2.0     7.0     Elle Bertsontry   \n",
       "\n",
       "    Transported  \n",
       "0         False  \n",
       "1          True  \n",
       "2         False  \n",
       "3         False  \n",
       "4          True  \n",
       "5          True  \n",
       "6          True  \n",
       "7          True  \n",
       "8          True  \n",
       "9          True  \n",
       "10         True  \n",
       "11         True  \n",
       "12         True  \n",
       "13        False  \n",
       "14         True  "
      ]
     },
     "execution_count": 10,
     "metadata": {},
     "output_type": "execute_result"
    }
   ],
   "source": [
    "df.head(n=15)"
   ]
  },
  {
   "attachments": {},
   "cell_type": "markdown",
   "metadata": {},
   "source": [
    "Dropping the name, on a small dataset it could cause overfitting. Maybe we could use it to create *family groups*, but for now we'll just go with the similar-but-not-quite-the-same *boarding_groups*"
   ]
  },
  {
   "cell_type": "code",
   "execution_count": 111,
   "metadata": {},
   "outputs": [
    {
     "data": {
      "text/html": [
       "<div>\n",
       "<style scoped>\n",
       "    .dataframe tbody tr th:only-of-type {\n",
       "        vertical-align: middle;\n",
       "    }\n",
       "\n",
       "    .dataframe tbody tr th {\n",
       "        vertical-align: top;\n",
       "    }\n",
       "\n",
       "    .dataframe thead th {\n",
       "        text-align: right;\n",
       "    }\n",
       "</style>\n",
       "<table border=\"1\" class=\"dataframe\">\n",
       "  <thead>\n",
       "    <tr style=\"text-align: right;\">\n",
       "      <th></th>\n",
       "      <th>PassengerId</th>\n",
       "      <th>HomePlanet</th>\n",
       "      <th>CryoSleep</th>\n",
       "      <th>Cabin</th>\n",
       "      <th>Destination</th>\n",
       "      <th>Age</th>\n",
       "      <th>VIP</th>\n",
       "      <th>RoomService</th>\n",
       "      <th>FoodCourt</th>\n",
       "      <th>ShoppingMall</th>\n",
       "      <th>Spa</th>\n",
       "      <th>VRDeck</th>\n",
       "      <th>Name</th>\n",
       "      <th>Transported</th>\n",
       "      <th>group_num</th>\n",
       "      <th>group_size</th>\n",
       "      <th>deck</th>\n",
       "      <th>room_num</th>\n",
       "      <th>side</th>\n",
       "    </tr>\n",
       "  </thead>\n",
       "  <tbody>\n",
       "    <tr>\n",
       "      <th>0</th>\n",
       "      <td>0001_01</td>\n",
       "      <td>Europa</td>\n",
       "      <td>0</td>\n",
       "      <td>B/0/P</td>\n",
       "      <td>TRAPPIST-1e</td>\n",
       "      <td>39.0</td>\n",
       "      <td>0</td>\n",
       "      <td>0.0</td>\n",
       "      <td>0.0</td>\n",
       "      <td>0.0</td>\n",
       "      <td>0.0</td>\n",
       "      <td>0.0</td>\n",
       "      <td>Maham Ofracculy</td>\n",
       "      <td>0</td>\n",
       "      <td>0001</td>\n",
       "      <td>01</td>\n",
       "      <td>B</td>\n",
       "      <td>0</td>\n",
       "      <td>P</td>\n",
       "    </tr>\n",
       "    <tr>\n",
       "      <th>1</th>\n",
       "      <td>0002_01</td>\n",
       "      <td>Earth</td>\n",
       "      <td>0</td>\n",
       "      <td>F/0/S</td>\n",
       "      <td>TRAPPIST-1e</td>\n",
       "      <td>24.0</td>\n",
       "      <td>0</td>\n",
       "      <td>109.0</td>\n",
       "      <td>9.0</td>\n",
       "      <td>25.0</td>\n",
       "      <td>549.0</td>\n",
       "      <td>44.0</td>\n",
       "      <td>Juanna Vines</td>\n",
       "      <td>1</td>\n",
       "      <td>0002</td>\n",
       "      <td>01</td>\n",
       "      <td>F</td>\n",
       "      <td>0</td>\n",
       "      <td>S</td>\n",
       "    </tr>\n",
       "    <tr>\n",
       "      <th>2</th>\n",
       "      <td>0003_01</td>\n",
       "      <td>Europa</td>\n",
       "      <td>0</td>\n",
       "      <td>A/0/S</td>\n",
       "      <td>TRAPPIST-1e</td>\n",
       "      <td>58.0</td>\n",
       "      <td>1</td>\n",
       "      <td>43.0</td>\n",
       "      <td>3576.0</td>\n",
       "      <td>0.0</td>\n",
       "      <td>6715.0</td>\n",
       "      <td>49.0</td>\n",
       "      <td>Altark Susent</td>\n",
       "      <td>0</td>\n",
       "      <td>0003</td>\n",
       "      <td>01</td>\n",
       "      <td>A</td>\n",
       "      <td>0</td>\n",
       "      <td>S</td>\n",
       "    </tr>\n",
       "    <tr>\n",
       "      <th>3</th>\n",
       "      <td>0003_02</td>\n",
       "      <td>Europa</td>\n",
       "      <td>0</td>\n",
       "      <td>A/0/S</td>\n",
       "      <td>TRAPPIST-1e</td>\n",
       "      <td>33.0</td>\n",
       "      <td>0</td>\n",
       "      <td>0.0</td>\n",
       "      <td>1283.0</td>\n",
       "      <td>371.0</td>\n",
       "      <td>3329.0</td>\n",
       "      <td>193.0</td>\n",
       "      <td>Solam Susent</td>\n",
       "      <td>0</td>\n",
       "      <td>0003</td>\n",
       "      <td>02</td>\n",
       "      <td>A</td>\n",
       "      <td>0</td>\n",
       "      <td>S</td>\n",
       "    </tr>\n",
       "    <tr>\n",
       "      <th>4</th>\n",
       "      <td>0004_01</td>\n",
       "      <td>Earth</td>\n",
       "      <td>0</td>\n",
       "      <td>F/1/S</td>\n",
       "      <td>TRAPPIST-1e</td>\n",
       "      <td>16.0</td>\n",
       "      <td>0</td>\n",
       "      <td>303.0</td>\n",
       "      <td>70.0</td>\n",
       "      <td>151.0</td>\n",
       "      <td>565.0</td>\n",
       "      <td>2.0</td>\n",
       "      <td>Willy Santantines</td>\n",
       "      <td>1</td>\n",
       "      <td>0004</td>\n",
       "      <td>01</td>\n",
       "      <td>F</td>\n",
       "      <td>1</td>\n",
       "      <td>S</td>\n",
       "    </tr>\n",
       "    <tr>\n",
       "      <th>...</th>\n",
       "      <td>...</td>\n",
       "      <td>...</td>\n",
       "      <td>...</td>\n",
       "      <td>...</td>\n",
       "      <td>...</td>\n",
       "      <td>...</td>\n",
       "      <td>...</td>\n",
       "      <td>...</td>\n",
       "      <td>...</td>\n",
       "      <td>...</td>\n",
       "      <td>...</td>\n",
       "      <td>...</td>\n",
       "      <td>...</td>\n",
       "      <td>...</td>\n",
       "      <td>...</td>\n",
       "      <td>...</td>\n",
       "      <td>...</td>\n",
       "      <td>...</td>\n",
       "      <td>...</td>\n",
       "    </tr>\n",
       "    <tr>\n",
       "      <th>8688</th>\n",
       "      <td>9276_01</td>\n",
       "      <td>Europa</td>\n",
       "      <td>0</td>\n",
       "      <td>A/98/P</td>\n",
       "      <td>55 Cancri e</td>\n",
       "      <td>41.0</td>\n",
       "      <td>1</td>\n",
       "      <td>0.0</td>\n",
       "      <td>6819.0</td>\n",
       "      <td>0.0</td>\n",
       "      <td>1643.0</td>\n",
       "      <td>74.0</td>\n",
       "      <td>Gravior Noxnuther</td>\n",
       "      <td>0</td>\n",
       "      <td>9276</td>\n",
       "      <td>01</td>\n",
       "      <td>A</td>\n",
       "      <td>98</td>\n",
       "      <td>P</td>\n",
       "    </tr>\n",
       "    <tr>\n",
       "      <th>8689</th>\n",
       "      <td>9278_01</td>\n",
       "      <td>Earth</td>\n",
       "      <td>1</td>\n",
       "      <td>G/1499/S</td>\n",
       "      <td>PSO J318.5-22</td>\n",
       "      <td>18.0</td>\n",
       "      <td>0</td>\n",
       "      <td>0.0</td>\n",
       "      <td>0.0</td>\n",
       "      <td>0.0</td>\n",
       "      <td>0.0</td>\n",
       "      <td>0.0</td>\n",
       "      <td>Kurta Mondalley</td>\n",
       "      <td>0</td>\n",
       "      <td>9278</td>\n",
       "      <td>01</td>\n",
       "      <td>G</td>\n",
       "      <td>1499</td>\n",
       "      <td>S</td>\n",
       "    </tr>\n",
       "    <tr>\n",
       "      <th>8690</th>\n",
       "      <td>9279_01</td>\n",
       "      <td>Earth</td>\n",
       "      <td>0</td>\n",
       "      <td>G/1500/S</td>\n",
       "      <td>TRAPPIST-1e</td>\n",
       "      <td>26.0</td>\n",
       "      <td>0</td>\n",
       "      <td>0.0</td>\n",
       "      <td>0.0</td>\n",
       "      <td>1872.0</td>\n",
       "      <td>1.0</td>\n",
       "      <td>0.0</td>\n",
       "      <td>Fayey Connon</td>\n",
       "      <td>1</td>\n",
       "      <td>9279</td>\n",
       "      <td>01</td>\n",
       "      <td>G</td>\n",
       "      <td>1500</td>\n",
       "      <td>S</td>\n",
       "    </tr>\n",
       "    <tr>\n",
       "      <th>8691</th>\n",
       "      <td>9280_01</td>\n",
       "      <td>Europa</td>\n",
       "      <td>0</td>\n",
       "      <td>E/608/S</td>\n",
       "      <td>55 Cancri e</td>\n",
       "      <td>32.0</td>\n",
       "      <td>0</td>\n",
       "      <td>0.0</td>\n",
       "      <td>1049.0</td>\n",
       "      <td>0.0</td>\n",
       "      <td>353.0</td>\n",
       "      <td>3235.0</td>\n",
       "      <td>Celeon Hontichre</td>\n",
       "      <td>0</td>\n",
       "      <td>9280</td>\n",
       "      <td>01</td>\n",
       "      <td>E</td>\n",
       "      <td>608</td>\n",
       "      <td>S</td>\n",
       "    </tr>\n",
       "    <tr>\n",
       "      <th>8692</th>\n",
       "      <td>9280_02</td>\n",
       "      <td>Europa</td>\n",
       "      <td>0</td>\n",
       "      <td>E/608/S</td>\n",
       "      <td>TRAPPIST-1e</td>\n",
       "      <td>44.0</td>\n",
       "      <td>0</td>\n",
       "      <td>126.0</td>\n",
       "      <td>4688.0</td>\n",
       "      <td>0.0</td>\n",
       "      <td>0.0</td>\n",
       "      <td>12.0</td>\n",
       "      <td>Propsh Hontichre</td>\n",
       "      <td>1</td>\n",
       "      <td>9280</td>\n",
       "      <td>02</td>\n",
       "      <td>E</td>\n",
       "      <td>608</td>\n",
       "      <td>S</td>\n",
       "    </tr>\n",
       "  </tbody>\n",
       "</table>\n",
       "<p>8693 rows × 19 columns</p>\n",
       "</div>"
      ],
      "text/plain": [
       "     PassengerId HomePlanet  CryoSleep     Cabin    Destination   Age  VIP  \\\n",
       "0        0001_01     Europa          0     B/0/P    TRAPPIST-1e  39.0    0   \n",
       "1        0002_01      Earth          0     F/0/S    TRAPPIST-1e  24.0    0   \n",
       "2        0003_01     Europa          0     A/0/S    TRAPPIST-1e  58.0    1   \n",
       "3        0003_02     Europa          0     A/0/S    TRAPPIST-1e  33.0    0   \n",
       "4        0004_01      Earth          0     F/1/S    TRAPPIST-1e  16.0    0   \n",
       "...          ...        ...        ...       ...            ...   ...  ...   \n",
       "8688     9276_01     Europa          0    A/98/P    55 Cancri e  41.0    1   \n",
       "8689     9278_01      Earth          1  G/1499/S  PSO J318.5-22  18.0    0   \n",
       "8690     9279_01      Earth          0  G/1500/S    TRAPPIST-1e  26.0    0   \n",
       "8691     9280_01     Europa          0   E/608/S    55 Cancri e  32.0    0   \n",
       "8692     9280_02     Europa          0   E/608/S    TRAPPIST-1e  44.0    0   \n",
       "\n",
       "      RoomService  FoodCourt  ShoppingMall     Spa  VRDeck               Name  \\\n",
       "0             0.0        0.0           0.0     0.0     0.0    Maham Ofracculy   \n",
       "1           109.0        9.0          25.0   549.0    44.0       Juanna Vines   \n",
       "2            43.0     3576.0           0.0  6715.0    49.0      Altark Susent   \n",
       "3             0.0     1283.0         371.0  3329.0   193.0       Solam Susent   \n",
       "4           303.0       70.0         151.0   565.0     2.0  Willy Santantines   \n",
       "...           ...        ...           ...     ...     ...                ...   \n",
       "8688          0.0     6819.0           0.0  1643.0    74.0  Gravior Noxnuther   \n",
       "8689          0.0        0.0           0.0     0.0     0.0    Kurta Mondalley   \n",
       "8690          0.0        0.0        1872.0     1.0     0.0       Fayey Connon   \n",
       "8691          0.0     1049.0           0.0   353.0  3235.0   Celeon Hontichre   \n",
       "8692        126.0     4688.0           0.0     0.0    12.0   Propsh Hontichre   \n",
       "\n",
       "      Transported group_num group_size deck room_num side  \n",
       "0               0      0001         01    B        0    P  \n",
       "1               1      0002         01    F        0    S  \n",
       "2               0      0003         01    A        0    S  \n",
       "3               0      0003         02    A        0    S  \n",
       "4               1      0004         01    F        1    S  \n",
       "...           ...       ...        ...  ...      ...  ...  \n",
       "8688            0      9276         01    A       98    P  \n",
       "8689            0      9278         01    G     1499    S  \n",
       "8690            1      9279         01    G     1500    S  \n",
       "8691            0      9280         01    E      608    S  \n",
       "8692            1      9280         02    E      608    S  \n",
       "\n",
       "[8693 rows x 19 columns]"
      ]
     },
     "execution_count": 111,
     "metadata": {},
     "output_type": "execute_result"
    }
   ],
   "source": [
    "df"
   ]
  },
  {
   "cell_type": "code",
   "execution_count": 113,
   "metadata": {},
   "outputs": [],
   "source": [
    "df = df.drop(['Name'], axis=1)"
   ]
  },
  {
   "cell_type": "code",
   "execution_count": 115,
   "metadata": {},
   "outputs": [
    {
     "data": {
      "text/plain": [
       "RangeIndex(start=0, stop=8693, step=1)"
      ]
     },
     "execution_count": 115,
     "metadata": {},
     "output_type": "execute_result"
    }
   ],
   "source": [
    "df.index"
   ]
  },
  {
   "cell_type": "code",
   "execution_count": 11,
   "metadata": {},
   "outputs": [
    {
     "data": {
      "text/plain": [
       "<AxesSubplot: >"
      ]
     },
     "execution_count": 11,
     "metadata": {},
     "output_type": "execute_result"
    },
    {
     "data": {
      "image/png": "[encoded data removed]",
      "text/plain": [
       "<Figure size 640x480 with 1 Axes>"
      ]
     },
     "metadata": {},
     "output_type": "display_data"
    }
   ],
   "source": [
    "df['Destination'].hist()"
   ]
  },
  {
   "cell_type": "code",
   "execution_count": 12,
   "metadata": {},
   "outputs": [
    {
     "data": {
      "text/plain": [
       "<AxesSubplot: >"
      ]
     },
     "execution_count": 12,
     "metadata": {},
     "output_type": "execute_result"
    },
    {
     "data": {
      "image/png": "[encoded data removed]",
      "text/plain": [
       "<Figure size 640x480 with 1 Axes>"
      ]
     },
     "metadata": {},
     "output_type": "display_data"
    }
   ],
   "source": [
    "df['Age'].hist()"
   ]
  },
  {
   "cell_type": "code",
   "execution_count": 13,
   "metadata": {},
   "outputs": [
    {
     "data": {
      "text/plain": [
       "<AxesSubplot: >"
      ]
     },
     "execution_count": 13,
     "metadata": {},
     "output_type": "execute_result"
    },
    {
     "data": {
      "image/png": "[encoded data removed]",
      "text/plain": [
       "<Figure size 640x480 with 1 Axes>"
      ]
     },
     "metadata": {},
     "output_type": "display_data"
    }
   ],
   "source": [
    "df['FoodCourt'].hist()"
   ]
  },
  {
   "attachments": {},
   "cell_type": "markdown",
   "metadata": {},
   "source": [
    "Looking at this there's some extra data we can extract to new columns, *PassengerId* looks like it's by group number and the number in a particular group, split with an underscore `_` "
   ]
  },
  {
   "cell_type": "code",
   "execution_count": 14,
   "metadata": {},
   "outputs": [
    {
     "data": {
      "text/plain": [
       "<bound method IndexOpsMixin.value_counts of 0       0001_01\n",
       "1       0002_01\n",
       "2       0003_01\n",
       "3       0003_02\n",
       "4       0004_01\n",
       "         ...   \n",
       "8688    9276_01\n",
       "8689    9278_01\n",
       "8690    9279_01\n",
       "8691    9280_01\n",
       "8692    9280_02\n",
       "Name: PassengerId, Length: 8693, dtype: object>"
      ]
     },
     "execution_count": 14,
     "metadata": {},
     "output_type": "execute_result"
    }
   ],
   "source": [
    "df['PassengerId'].value_counts"
   ]
  },
  {
   "cell_type": "code",
   "execution_count": 15,
   "metadata": {},
   "outputs": [],
   "source": [
    "df['group_num'] = df['PassengerId'].str.split('_').str[0]\n",
    "df['group_size'] = df['PassengerId'].str.split('_').str[1]"
   ]
  },
  {
   "attachments": {},
   "cell_type": "markdown",
   "metadata": {},
   "source": [
    "The same is true for the Cabin, there are 3 different values to analyze here, so let's split them up as well"
   ]
  },
  {
   "cell_type": "code",
   "execution_count": 16,
   "metadata": {},
   "outputs": [],
   "source": [
    "df['deck'] = df['Cabin'].str.split('/').str[0]\n",
    "df['room_num'] = df['Cabin'].str.split('/').str[1]\n",
    "df['side'] = df['Cabin'].str.split('/').str[2]"
   ]
  },
  {
   "cell_type": "code",
   "execution_count": 17,
   "metadata": {},
   "outputs": [
    {
     "data": {
      "text/html": [
       "<div>\n",
       "<style scoped>\n",
       "    .dataframe tbody tr th:only-of-type {\n",
       "        vertical-align: middle;\n",
       "    }\n",
       "\n",
       "    .dataframe tbody tr th {\n",
       "        vertical-align: top;\n",
       "    }\n",
       "\n",
       "    .dataframe thead th {\n",
       "        text-align: right;\n",
       "    }\n",
       "</style>\n",
       "<table border=\"1\" class=\"dataframe\">\n",
       "  <thead>\n",
       "    <tr style=\"text-align: right;\">\n",
       "      <th></th>\n",
       "      <th>PassengerId</th>\n",
       "      <th>HomePlanet</th>\n",
       "      <th>CryoSleep</th>\n",
       "      <th>Cabin</th>\n",
       "      <th>Destination</th>\n",
       "      <th>Age</th>\n",
       "      <th>VIP</th>\n",
       "      <th>RoomService</th>\n",
       "      <th>FoodCourt</th>\n",
       "      <th>ShoppingMall</th>\n",
       "      <th>Spa</th>\n",
       "      <th>VRDeck</th>\n",
       "      <th>Name</th>\n",
       "      <th>Transported</th>\n",
       "      <th>group_num</th>\n",
       "      <th>group_size</th>\n",
       "      <th>deck</th>\n",
       "      <th>room_num</th>\n",
       "      <th>side</th>\n",
       "    </tr>\n",
       "  </thead>\n",
       "  <tbody>\n",
       "    <tr>\n",
       "      <th>0</th>\n",
       "      <td>0001_01</td>\n",
       "      <td>Europa</td>\n",
       "      <td>False</td>\n",
       "      <td>B/0/P</td>\n",
       "      <td>TRAPPIST-1e</td>\n",
       "      <td>39.0</td>\n",
       "      <td>False</td>\n",
       "      <td>0.0</td>\n",
       "      <td>0.0</td>\n",
       "      <td>0.0</td>\n",
       "      <td>0.0</td>\n",
       "      <td>0.0</td>\n",
       "      <td>Maham Ofracculy</td>\n",
       "      <td>False</td>\n",
       "      <td>0001</td>\n",
       "      <td>01</td>\n",
       "      <td>B</td>\n",
       "      <td>0</td>\n",
       "      <td>P</td>\n",
       "    </tr>\n",
       "    <tr>\n",
       "      <th>1</th>\n",
       "      <td>0002_01</td>\n",
       "      <td>Earth</td>\n",
       "      <td>False</td>\n",
       "      <td>F/0/S</td>\n",
       "      <td>TRAPPIST-1e</td>\n",
       "      <td>24.0</td>\n",
       "      <td>False</td>\n",
       "      <td>109.0</td>\n",
       "      <td>9.0</td>\n",
       "      <td>25.0</td>\n",
       "      <td>549.0</td>\n",
       "      <td>44.0</td>\n",
       "      <td>Juanna Vines</td>\n",
       "      <td>True</td>\n",
       "      <td>0002</td>\n",
       "      <td>01</td>\n",
       "      <td>F</td>\n",
       "      <td>0</td>\n",
       "      <td>S</td>\n",
       "    </tr>\n",
       "    <tr>\n",
       "      <th>2</th>\n",
       "      <td>0003_01</td>\n",
       "      <td>Europa</td>\n",
       "      <td>False</td>\n",
       "      <td>A/0/S</td>\n",
       "      <td>TRAPPIST-1e</td>\n",
       "      <td>58.0</td>\n",
       "      <td>True</td>\n",
       "      <td>43.0</td>\n",
       "      <td>3576.0</td>\n",
       "      <td>0.0</td>\n",
       "      <td>6715.0</td>\n",
       "      <td>49.0</td>\n",
       "      <td>Altark Susent</td>\n",
       "      <td>False</td>\n",
       "      <td>0003</td>\n",
       "      <td>01</td>\n",
       "      <td>A</td>\n",
       "      <td>0</td>\n",
       "      <td>S</td>\n",
       "    </tr>\n",
       "    <tr>\n",
       "      <th>3</th>\n",
       "      <td>0003_02</td>\n",
       "      <td>Europa</td>\n",
       "      <td>False</td>\n",
       "      <td>A/0/S</td>\n",
       "      <td>TRAPPIST-1e</td>\n",
       "      <td>33.0</td>\n",
       "      <td>False</td>\n",
       "      <td>0.0</td>\n",
       "      <td>1283.0</td>\n",
       "      <td>371.0</td>\n",
       "      <td>3329.0</td>\n",
       "      <td>193.0</td>\n",
       "      <td>Solam Susent</td>\n",
       "      <td>False</td>\n",
       "      <td>0003</td>\n",
       "      <td>02</td>\n",
       "      <td>A</td>\n",
       "      <td>0</td>\n",
       "      <td>S</td>\n",
       "    </tr>\n",
       "    <tr>\n",
       "      <th>4</th>\n",
       "      <td>0004_01</td>\n",
       "      <td>Earth</td>\n",
       "      <td>False</td>\n",
       "      <td>F/1/S</td>\n",
       "      <td>TRAPPIST-1e</td>\n",
       "      <td>16.0</td>\n",
       "      <td>False</td>\n",
       "      <td>303.0</td>\n",
       "      <td>70.0</td>\n",
       "      <td>151.0</td>\n",
       "      <td>565.0</td>\n",
       "      <td>2.0</td>\n",
       "      <td>Willy Santantines</td>\n",
       "      <td>True</td>\n",
       "      <td>0004</td>\n",
       "      <td>01</td>\n",
       "      <td>F</td>\n",
       "      <td>1</td>\n",
       "      <td>S</td>\n",
       "    </tr>\n",
       "  </tbody>\n",
       "</table>\n",
       "</div>"
      ],
      "text/plain": [
       "  PassengerId HomePlanet CryoSleep  Cabin  Destination   Age    VIP  \\\n",
       "0     0001_01     Europa     False  B/0/P  TRAPPIST-1e  39.0  False   \n",
       "1     0002_01      Earth     False  F/0/S  TRAPPIST-1e  24.0  False   \n",
       "2     0003_01     Europa     False  A/0/S  TRAPPIST-1e  58.0   True   \n",
       "3     0003_02     Europa     False  A/0/S  TRAPPIST-1e  33.0  False   \n",
       "4     0004_01      Earth     False  F/1/S  TRAPPIST-1e  16.0  False   \n",
       "\n",
       "   RoomService  FoodCourt  ShoppingMall     Spa  VRDeck               Name  \\\n",
       "0          0.0        0.0           0.0     0.0     0.0    Maham Ofracculy   \n",
       "1        109.0        9.0          25.0   549.0    44.0       Juanna Vines   \n",
       "2         43.0     3576.0           0.0  6715.0    49.0      Altark Susent   \n",
       "3          0.0     1283.0         371.0  3329.0   193.0       Solam Susent   \n",
       "4        303.0       70.0         151.0   565.0     2.0  Willy Santantines   \n",
       "\n",
       "   Transported group_num group_size deck room_num side  \n",
       "0        False      0001         01    B        0    P  \n",
       "1         True      0002         01    F        0    S  \n",
       "2        False      0003         01    A        0    S  \n",
       "3        False      0003         02    A        0    S  \n",
       "4         True      0004         01    F        1    S  "
      ]
     },
     "execution_count": 17,
     "metadata": {},
     "output_type": "execute_result"
    }
   ],
   "source": [
    "df.head()"
   ]
  },
  {
   "cell_type": "code",
   "execution_count": 18,
   "metadata": {},
   "outputs": [
    {
     "data": {
      "text/plain": [
       "PassengerId       0\n",
       "HomePlanet      201\n",
       "CryoSleep       217\n",
       "Cabin           199\n",
       "Destination     182\n",
       "Age             179\n",
       "VIP             203\n",
       "RoomService     181\n",
       "FoodCourt       183\n",
       "ShoppingMall    208\n",
       "Spa             183\n",
       "VRDeck          188\n",
       "Name            200\n",
       "Transported       0\n",
       "group_num         0\n",
       "group_size        0\n",
       "deck            199\n",
       "room_num        199\n",
       "side            199\n",
       "dtype: int64"
      ]
     },
     "execution_count": 18,
     "metadata": {},
     "output_type": "execute_result"
    }
   ],
   "source": [
    "df.isnull().sum()"
   ]
  },
  {
   "cell_type": "code",
   "execution_count": 19,
   "metadata": {},
   "outputs": [
    {
     "data": {
      "text/html": [
       "<style type=\"text/css\">\n",
       "#T_e7394_row0_col1 {\n",
       "  background-color: #ffff66;\n",
       "  color: #000000;\n",
       "}\n",
       "#T_e7394_row1_col1 {\n",
       "  background-color: #f5fa66;\n",
       "  color: #000000;\n",
       "}\n",
       "#T_e7394_row2_col1 {\n",
       "  background-color: #eff766;\n",
       "  color: #000000;\n",
       "}\n",
       "#T_e7394_row3_col1 {\n",
       "  background-color: #edf666;\n",
       "  color: #000000;\n",
       "}\n",
       "#T_e7394_row4_col1 {\n",
       "  background-color: #ebf566;\n",
       "  color: #000000;\n",
       "}\n",
       "#T_e7394_row5_col1, #T_e7394_row6_col1, #T_e7394_row7_col1, #T_e7394_row8_col1 {\n",
       "  background-color: #eaf466;\n",
       "  color: #000000;\n",
       "}\n",
       "#T_e7394_row9_col1 {\n",
       "  background-color: #ddee66;\n",
       "  color: #000000;\n",
       "}\n",
       "#T_e7394_row10_col1, #T_e7394_row11_col1 {\n",
       "  background-color: #d7eb66;\n",
       "  color: #000000;\n",
       "}\n",
       "#T_e7394_row12_col1 {\n",
       "  background-color: #d6eb66;\n",
       "  color: #000000;\n",
       "}\n",
       "#T_e7394_row13_col1 {\n",
       "  background-color: #d5ea66;\n",
       "  color: #000000;\n",
       "}\n",
       "#T_e7394_row14_col1 {\n",
       "  background-color: #d3e966;\n",
       "  color: #000000;\n",
       "}\n",
       "#T_e7394_row15_col1, #T_e7394_row16_col1, #T_e7394_row17_col1 {\n",
       "  background-color: #008066;\n",
       "  color: #f1f1f1;\n",
       "}\n",
       "</style>\n",
       "<table id=\"T_e7394\">\n",
       "  <thead>\n",
       "    <tr>\n",
       "      <th class=\"blank level0\" >&nbsp;</th>\n",
       "      <th id=\"T_e7394_level0_col0\" class=\"col_heading level0 col0\" >column_name</th>\n",
       "      <th id=\"T_e7394_level0_col1\" class=\"col_heading level0 col1\" >null_counts</th>\n",
       "    </tr>\n",
       "  </thead>\n",
       "  <tbody>\n",
       "    <tr>\n",
       "      <th id=\"T_e7394_level0_row0\" class=\"row_heading level0 row0\" >0</th>\n",
       "      <td id=\"T_e7394_row0_col0\" class=\"data row0 col0\" >CryoSleep</td>\n",
       "      <td id=\"T_e7394_row0_col1\" class=\"data row0 col1\" >217</td>\n",
       "    </tr>\n",
       "    <tr>\n",
       "      <th id=\"T_e7394_level0_row1\" class=\"row_heading level0 row1\" >1</th>\n",
       "      <td id=\"T_e7394_row1_col0\" class=\"data row1 col0\" >ShoppingMall</td>\n",
       "      <td id=\"T_e7394_row1_col1\" class=\"data row1 col1\" >208</td>\n",
       "    </tr>\n",
       "    <tr>\n",
       "      <th id=\"T_e7394_level0_row2\" class=\"row_heading level0 row2\" >2</th>\n",
       "      <td id=\"T_e7394_row2_col0\" class=\"data row2 col0\" >VIP</td>\n",
       "      <td id=\"T_e7394_row2_col1\" class=\"data row2 col1\" >203</td>\n",
       "    </tr>\n",
       "    <tr>\n",
       "      <th id=\"T_e7394_level0_row3\" class=\"row_heading level0 row3\" >3</th>\n",
       "      <td id=\"T_e7394_row3_col0\" class=\"data row3 col0\" >HomePlanet</td>\n",
       "      <td id=\"T_e7394_row3_col1\" class=\"data row3 col1\" >201</td>\n",
       "    </tr>\n",
       "    <tr>\n",
       "      <th id=\"T_e7394_level0_row4\" class=\"row_heading level0 row4\" >4</th>\n",
       "      <td id=\"T_e7394_row4_col0\" class=\"data row4 col0\" >Name</td>\n",
       "      <td id=\"T_e7394_row4_col1\" class=\"data row4 col1\" >200</td>\n",
       "    </tr>\n",
       "    <tr>\n",
       "      <th id=\"T_e7394_level0_row5\" class=\"row_heading level0 row5\" >5</th>\n",
       "      <td id=\"T_e7394_row5_col0\" class=\"data row5 col0\" >room_num</td>\n",
       "      <td id=\"T_e7394_row5_col1\" class=\"data row5 col1\" >199</td>\n",
       "    </tr>\n",
       "    <tr>\n",
       "      <th id=\"T_e7394_level0_row6\" class=\"row_heading level0 row6\" >6</th>\n",
       "      <td id=\"T_e7394_row6_col0\" class=\"data row6 col0\" >deck</td>\n",
       "      <td id=\"T_e7394_row6_col1\" class=\"data row6 col1\" >199</td>\n",
       "    </tr>\n",
       "    <tr>\n",
       "      <th id=\"T_e7394_level0_row7\" class=\"row_heading level0 row7\" >7</th>\n",
       "      <td id=\"T_e7394_row7_col0\" class=\"data row7 col0\" >side</td>\n",
       "      <td id=\"T_e7394_row7_col1\" class=\"data row7 col1\" >199</td>\n",
       "    </tr>\n",
       "    <tr>\n",
       "      <th id=\"T_e7394_level0_row8\" class=\"row_heading level0 row8\" >8</th>\n",
       "      <td id=\"T_e7394_row8_col0\" class=\"data row8 col0\" >Cabin</td>\n",
       "      <td id=\"T_e7394_row8_col1\" class=\"data row8 col1\" >199</td>\n",
       "    </tr>\n",
       "    <tr>\n",
       "      <th id=\"T_e7394_level0_row9\" class=\"row_heading level0 row9\" >9</th>\n",
       "      <td id=\"T_e7394_row9_col0\" class=\"data row9 col0\" >VRDeck</td>\n",
       "      <td id=\"T_e7394_row9_col1\" class=\"data row9 col1\" >188</td>\n",
       "    </tr>\n",
       "    <tr>\n",
       "      <th id=\"T_e7394_level0_row10\" class=\"row_heading level0 row10\" >10</th>\n",
       "      <td id=\"T_e7394_row10_col0\" class=\"data row10 col0\" >FoodCourt</td>\n",
       "      <td id=\"T_e7394_row10_col1\" class=\"data row10 col1\" >183</td>\n",
       "    </tr>\n",
       "    <tr>\n",
       "      <th id=\"T_e7394_level0_row11\" class=\"row_heading level0 row11\" >11</th>\n",
       "      <td id=\"T_e7394_row11_col0\" class=\"data row11 col0\" >Spa</td>\n",
       "      <td id=\"T_e7394_row11_col1\" class=\"data row11 col1\" >183</td>\n",
       "    </tr>\n",
       "    <tr>\n",
       "      <th id=\"T_e7394_level0_row12\" class=\"row_heading level0 row12\" >12</th>\n",
       "      <td id=\"T_e7394_row12_col0\" class=\"data row12 col0\" >Destination</td>\n",
       "      <td id=\"T_e7394_row12_col1\" class=\"data row12 col1\" >182</td>\n",
       "    </tr>\n",
       "    <tr>\n",
       "      <th id=\"T_e7394_level0_row13\" class=\"row_heading level0 row13\" >13</th>\n",
       "      <td id=\"T_e7394_row13_col0\" class=\"data row13 col0\" >RoomService</td>\n",
       "      <td id=\"T_e7394_row13_col1\" class=\"data row13 col1\" >181</td>\n",
       "    </tr>\n",
       "    <tr>\n",
       "      <th id=\"T_e7394_level0_row14\" class=\"row_heading level0 row14\" >14</th>\n",
       "      <td id=\"T_e7394_row14_col0\" class=\"data row14 col0\" >Age</td>\n",
       "      <td id=\"T_e7394_row14_col1\" class=\"data row14 col1\" >179</td>\n",
       "    </tr>\n",
       "    <tr>\n",
       "      <th id=\"T_e7394_level0_row15\" class=\"row_heading level0 row15\" >16</th>\n",
       "      <td id=\"T_e7394_row15_col0\" class=\"data row15 col0\" >group_num</td>\n",
       "      <td id=\"T_e7394_row15_col1\" class=\"data row15 col1\" >0</td>\n",
       "    </tr>\n",
       "    <tr>\n",
       "      <th id=\"T_e7394_level0_row16\" class=\"row_heading level0 row16\" >17</th>\n",
       "      <td id=\"T_e7394_row16_col0\" class=\"data row16 col0\" >group_size</td>\n",
       "      <td id=\"T_e7394_row16_col1\" class=\"data row16 col1\" >0</td>\n",
       "    </tr>\n",
       "    <tr>\n",
       "      <th id=\"T_e7394_level0_row17\" class=\"row_heading level0 row17\" >18</th>\n",
       "      <td id=\"T_e7394_row17_col0\" class=\"data row17 col0\" >PassengerId</td>\n",
       "      <td id=\"T_e7394_row17_col1\" class=\"data row17 col1\" >0</td>\n",
       "    </tr>\n",
       "  </tbody>\n",
       "</table>\n"
      ],
      "text/plain": [
       "<pandas.io.formats.style.Styler at 0x7fb00dd64190>"
      ]
     },
     "execution_count": 19,
     "metadata": {},
     "output_type": "execute_result"
    }
   ],
   "source": [
    "def get_null_counts(df):\n",
    "    null_count_df = pd.DataFrame((df.isnull().sum()).sort_values(ascending=False).reset_index())\n",
    "    null_count_df.columns = ['column_name','null_counts']\n",
    "    null_count_df = null_count_df.query(\"column_name!='Transported'\")\n",
    "    return null_count_df\n",
    "\n",
    "null_= get_null_counts(df)\n",
    "null_.style.background_gradient(cmap='summer')"
   ]
  },
  {
   "cell_type": "code",
   "execution_count": 20,
   "metadata": {},
   "outputs": [
    {
     "data": {
      "text/plain": [
       "True     4378\n",
       "False    4315\n",
       "Name: Transported, dtype: int64"
      ]
     },
     "execution_count": 20,
     "metadata": {},
     "output_type": "execute_result"
    }
   ],
   "source": [
    "df['Transported'].value_counts()"
   ]
  },
  {
   "attachments": {},
   "cell_type": "markdown",
   "metadata": {},
   "source": [
    "Add a function to convert boolean values to 0 and 1 using `LabelEncoder` "
   ]
  },
  {
   "cell_type": "code",
   "execution_count": 21,
   "metadata": {},
   "outputs": [],
   "source": [
    "def bool_switch(df, col_name):\n",
    "    encoder = LabelEncoder()\n",
    "    df[f'{col_name}'] = encoder.fit_transform(df[f'{col_name}']) "
   ]
  },
  {
   "cell_type": "code",
   "execution_count": 22,
   "metadata": {},
   "outputs": [],
   "source": [
    "bool_switch(df, col_name='Transported')\n",
    "bool_switch(df, col_name='VIP')\n",
    "bool_switch(df, col_name='CryoSleep')\n"
   ]
  },
  {
   "attachments": {},
   "cell_type": "markdown",
   "metadata": {},
   "source": [
    "Check to see how it worked"
   ]
  },
  {
   "cell_type": "code",
   "execution_count": 23,
   "metadata": {},
   "outputs": [
    {
     "data": {
      "text/html": [
       "<div>\n",
       "<style scoped>\n",
       "    .dataframe tbody tr th:only-of-type {\n",
       "        vertical-align: middle;\n",
       "    }\n",
       "\n",
       "    .dataframe tbody tr th {\n",
       "        vertical-align: top;\n",
       "    }\n",
       "\n",
       "    .dataframe thead th {\n",
       "        text-align: right;\n",
       "    }\n",
       "</style>\n",
       "<table border=\"1\" class=\"dataframe\">\n",
       "  <thead>\n",
       "    <tr style=\"text-align: right;\">\n",
       "      <th></th>\n",
       "      <th>PassengerId</th>\n",
       "      <th>HomePlanet</th>\n",
       "      <th>CryoSleep</th>\n",
       "      <th>Cabin</th>\n",
       "      <th>Destination</th>\n",
       "      <th>Age</th>\n",
       "      <th>VIP</th>\n",
       "      <th>RoomService</th>\n",
       "      <th>FoodCourt</th>\n",
       "      <th>ShoppingMall</th>\n",
       "      <th>Spa</th>\n",
       "      <th>VRDeck</th>\n",
       "      <th>Name</th>\n",
       "      <th>Transported</th>\n",
       "      <th>group_num</th>\n",
       "      <th>group_size</th>\n",
       "      <th>deck</th>\n",
       "      <th>room_num</th>\n",
       "      <th>side</th>\n",
       "    </tr>\n",
       "  </thead>\n",
       "  <tbody>\n",
       "    <tr>\n",
       "      <th>0</th>\n",
       "      <td>0001_01</td>\n",
       "      <td>Europa</td>\n",
       "      <td>0</td>\n",
       "      <td>B/0/P</td>\n",
       "      <td>TRAPPIST-1e</td>\n",
       "      <td>39.0</td>\n",
       "      <td>0</td>\n",
       "      <td>0.0</td>\n",
       "      <td>0.0</td>\n",
       "      <td>0.0</td>\n",
       "      <td>0.0</td>\n",
       "      <td>0.0</td>\n",
       "      <td>Maham Ofracculy</td>\n",
       "      <td>0</td>\n",
       "      <td>0001</td>\n",
       "      <td>01</td>\n",
       "      <td>B</td>\n",
       "      <td>0</td>\n",
       "      <td>P</td>\n",
       "    </tr>\n",
       "    <tr>\n",
       "      <th>1</th>\n",
       "      <td>0002_01</td>\n",
       "      <td>Earth</td>\n",
       "      <td>0</td>\n",
       "      <td>F/0/S</td>\n",
       "      <td>TRAPPIST-1e</td>\n",
       "      <td>24.0</td>\n",
       "      <td>0</td>\n",
       "      <td>109.0</td>\n",
       "      <td>9.0</td>\n",
       "      <td>25.0</td>\n",
       "      <td>549.0</td>\n",
       "      <td>44.0</td>\n",
       "      <td>Juanna Vines</td>\n",
       "      <td>1</td>\n",
       "      <td>0002</td>\n",
       "      <td>01</td>\n",
       "      <td>F</td>\n",
       "      <td>0</td>\n",
       "      <td>S</td>\n",
       "    </tr>\n",
       "    <tr>\n",
       "      <th>2</th>\n",
       "      <td>0003_01</td>\n",
       "      <td>Europa</td>\n",
       "      <td>0</td>\n",
       "      <td>A/0/S</td>\n",
       "      <td>TRAPPIST-1e</td>\n",
       "      <td>58.0</td>\n",
       "      <td>1</td>\n",
       "      <td>43.0</td>\n",
       "      <td>3576.0</td>\n",
       "      <td>0.0</td>\n",
       "      <td>6715.0</td>\n",
       "      <td>49.0</td>\n",
       "      <td>Altark Susent</td>\n",
       "      <td>0</td>\n",
       "      <td>0003</td>\n",
       "      <td>01</td>\n",
       "      <td>A</td>\n",
       "      <td>0</td>\n",
       "      <td>S</td>\n",
       "    </tr>\n",
       "    <tr>\n",
       "      <th>3</th>\n",
       "      <td>0003_02</td>\n",
       "      <td>Europa</td>\n",
       "      <td>0</td>\n",
       "      <td>A/0/S</td>\n",
       "      <td>TRAPPIST-1e</td>\n",
       "      <td>33.0</td>\n",
       "      <td>0</td>\n",
       "      <td>0.0</td>\n",
       "      <td>1283.0</td>\n",
       "      <td>371.0</td>\n",
       "      <td>3329.0</td>\n",
       "      <td>193.0</td>\n",
       "      <td>Solam Susent</td>\n",
       "      <td>0</td>\n",
       "      <td>0003</td>\n",
       "      <td>02</td>\n",
       "      <td>A</td>\n",
       "      <td>0</td>\n",
       "      <td>S</td>\n",
       "    </tr>\n",
       "    <tr>\n",
       "      <th>4</th>\n",
       "      <td>0004_01</td>\n",
       "      <td>Earth</td>\n",
       "      <td>0</td>\n",
       "      <td>F/1/S</td>\n",
       "      <td>TRAPPIST-1e</td>\n",
       "      <td>16.0</td>\n",
       "      <td>0</td>\n",
       "      <td>303.0</td>\n",
       "      <td>70.0</td>\n",
       "      <td>151.0</td>\n",
       "      <td>565.0</td>\n",
       "      <td>2.0</td>\n",
       "      <td>Willy Santantines</td>\n",
       "      <td>1</td>\n",
       "      <td>0004</td>\n",
       "      <td>01</td>\n",
       "      <td>F</td>\n",
       "      <td>1</td>\n",
       "      <td>S</td>\n",
       "    </tr>\n",
       "  </tbody>\n",
       "</table>\n",
       "</div>"
      ],
      "text/plain": [
       "  PassengerId HomePlanet  CryoSleep  Cabin  Destination   Age  VIP  \\\n",
       "0     0001_01     Europa          0  B/0/P  TRAPPIST-1e  39.0    0   \n",
       "1     0002_01      Earth          0  F/0/S  TRAPPIST-1e  24.0    0   \n",
       "2     0003_01     Europa          0  A/0/S  TRAPPIST-1e  58.0    1   \n",
       "3     0003_02     Europa          0  A/0/S  TRAPPIST-1e  33.0    0   \n",
       "4     0004_01      Earth          0  F/1/S  TRAPPIST-1e  16.0    0   \n",
       "\n",
       "   RoomService  FoodCourt  ShoppingMall     Spa  VRDeck               Name  \\\n",
       "0          0.0        0.0           0.0     0.0     0.0    Maham Ofracculy   \n",
       "1        109.0        9.0          25.0   549.0    44.0       Juanna Vines   \n",
       "2         43.0     3576.0           0.0  6715.0    49.0      Altark Susent   \n",
       "3          0.0     1283.0         371.0  3329.0   193.0       Solam Susent   \n",
       "4        303.0       70.0         151.0   565.0     2.0  Willy Santantines   \n",
       "\n",
       "   Transported group_num group_size deck room_num side  \n",
       "0            0      0001         01    B        0    P  \n",
       "1            1      0002         01    F        0    S  \n",
       "2            0      0003         01    A        0    S  \n",
       "3            0      0003         02    A        0    S  \n",
       "4            1      0004         01    F        1    S  "
      ]
     },
     "execution_count": 23,
     "metadata": {},
     "output_type": "execute_result"
    }
   ],
   "source": [
    "df.head()"
   ]
  },
  {
   "cell_type": "code",
   "execution_count": 24,
   "metadata": {},
   "outputs": [
    {
     "data": {
      "text/plain": [
       "1    4378\n",
       "0    4315\n",
       "Name: Transported, dtype: int64"
      ]
     },
     "execution_count": 24,
     "metadata": {},
     "output_type": "execute_result"
    }
   ],
   "source": [
    "df['Transported'].value_counts()"
   ]
  },
  {
   "cell_type": "code",
   "execution_count": 25,
   "metadata": {},
   "outputs": [
    {
     "name": "stdout",
     "output_type": "stream",
     "text": [
      "<class 'pandas.core.frame.DataFrame'>\n",
      "RangeIndex: 8693 entries, 0 to 8692\n",
      "Data columns (total 19 columns):\n",
      " #   Column        Non-Null Count  Dtype  \n",
      "---  ------        --------------  -----  \n",
      " 0   PassengerId   8693 non-null   object \n",
      " 1   HomePlanet    8492 non-null   object \n",
      " 2   CryoSleep     8693 non-null   int64  \n",
      " 3   Cabin         8494 non-null   object \n",
      " 4   Destination   8511 non-null   object \n",
      " 5   Age           8514 non-null   float64\n",
      " 6   VIP           8693 non-null   int64  \n",
      " 7   RoomService   8512 non-null   float64\n",
      " 8   FoodCourt     8510 non-null   float64\n",
      " 9   ShoppingMall  8485 non-null   float64\n",
      " 10  Spa           8510 non-null   float64\n",
      " 11  VRDeck        8505 non-null   float64\n",
      " 12  Name          8493 non-null   object \n",
      " 13  Transported   8693 non-null   int64  \n",
      " 14  group_num     8693 non-null   object \n",
      " 15  group_size    8693 non-null   object \n",
      " 16  deck          8494 non-null   object \n",
      " 17  room_num      8494 non-null   object \n",
      " 18  side          8494 non-null   object \n",
      "dtypes: float64(6), int64(3), object(10)\n",
      "memory usage: 1.3+ MB\n"
     ]
    }
   ],
   "source": [
    "df.info()"
   ]
  },
  {
   "cell_type": "code",
   "execution_count": 26,
   "metadata": {},
   "outputs": [
    {
     "data": {
      "text/plain": [
       "Index(['PassengerId', 'HomePlanet', 'CryoSleep', 'Cabin', 'Destination', 'Age',\n",
       "       'VIP', 'RoomService', 'FoodCourt', 'ShoppingMall', 'Spa', 'VRDeck',\n",
       "       'Name', 'Transported', 'group_num', 'group_size', 'deck', 'room_num',\n",
       "       'side'],\n",
       "      dtype='object')"
      ]
     },
     "execution_count": 26,
     "metadata": {},
     "output_type": "execute_result"
    }
   ],
   "source": [
    "df.columns"
   ]
  },
  {
   "attachments": {},
   "cell_type": "markdown",
   "metadata": {},
   "source": [
    "### Preparing Data"
   ]
  },
  {
   "attachments": {},
   "cell_type": "markdown",
   "metadata": {},
   "source": [
    "Declare dependant variable(y-axis)"
   ]
  },
  {
   "cell_type": "code",
   "execution_count": 27,
   "metadata": {},
   "outputs": [],
   "source": [
    "#| export\n",
    "dep_var = 'Transported'"
   ]
  },
  {
   "cell_type": "code",
   "execution_count": 28,
   "metadata": {},
   "outputs": [
    {
     "data": {
      "text/plain": [
       "<bound method NDFrame.sample of 0         TRAPPIST-1e\n",
       "1         TRAPPIST-1e\n",
       "2         TRAPPIST-1e\n",
       "3         TRAPPIST-1e\n",
       "4         TRAPPIST-1e\n",
       "            ...      \n",
       "8688      55 Cancri e\n",
       "8689    PSO J318.5-22\n",
       "8690      TRAPPIST-1e\n",
       "8691      55 Cancri e\n",
       "8692      TRAPPIST-1e\n",
       "Name: Destination, Length: 8693, dtype: object>"
      ]
     },
     "execution_count": 28,
     "metadata": {},
     "output_type": "execute_result"
    }
   ],
   "source": [
    "df['Destination'].sample"
   ]
  },
  {
   "attachments": {},
   "cell_type": "markdown",
   "metadata": {},
   "source": [
    "Add tabular processes to transform categorical variables to something similar to `pd.Categorical`, and fill in missing/na values"
   ]
  },
  {
   "cell_type": "code",
   "execution_count": 29,
   "metadata": {},
   "outputs": [],
   "source": [
    "#| export\n",
    "procs = [Categorify, FillMissing, Normalize]"
   ]
  },
  {
   "attachments": {},
   "cell_type": "markdown",
   "metadata": {},
   "source": [
    "Split our data set into a training(.8) and a validation(.2) set, set random_state to a fixed seed for consistency"
   ]
  },
  {
   "cell_type": "code",
   "execution_count": 30,
   "metadata": {},
   "outputs": [],
   "source": [
    "# #| export\n",
    "# train, valid = train_test_split(df, test_size=.2, random_state=42)"
   ]
  },
  {
   "attachments": {},
   "cell_type": "markdown",
   "metadata": {},
   "source": [
    "Use `cont_cat_split` to separate continuous and categorical variables"
   ]
  },
  {
   "cell_type": "code",
   "execution_count": 31,
   "metadata": {},
   "outputs": [],
   "source": [
    "#| export\n",
    "cont, cat = cont_cat_split(df, 1, dep_var=dep_var)"
   ]
  },
  {
   "attachments": {},
   "cell_type": "markdown",
   "metadata": {},
   "source": [
    "Load our dataframe to a `TabularPandas` object, `procs` from above is applied here. Set the dependant variable as the target"
   ]
  },
  {
   "cell_type": "code",
   "execution_count": 109,
   "metadata": {},
   "outputs": [],
   "source": [
    "to = TabularPandas(df, procs, cat, cont, y_names=dep_var,  y_block=CategoryBlock(), splits=RandomSplitter(valid_pct=0.2, seed=42)(df)).dataloaders(bs=128)"
   ]
  },
  {
   "cell_type": "code",
   "execution_count": null,
   "metadata": {},
   "outputs": [],
   "source": []
  },
  {
   "cell_type": "code",
   "execution_count": 33,
   "metadata": {},
   "outputs": [
    {
     "data": {
      "text/plain": [
       "(6955, 1738)"
      ]
     },
     "execution_count": 33,
     "metadata": {},
     "output_type": "execute_result"
    }
   ],
   "source": [
    "len(to.train), len(to.valid)"
   ]
  },
  {
   "attachments": {},
   "cell_type": "markdown",
   "metadata": {},
   "source": [
    "Pickle our tabular object so that we can skip a few steps in the future"
   ]
  },
  {
   "cell_type": "code",
   "execution_count": 34,
   "metadata": {},
   "outputs": [],
   "source": [
    "save_pickle(path/'space_titan_to.pkl', to)"
   ]
  },
  {
   "attachments": {},
   "cell_type": "markdown",
   "metadata": {},
   "source": [
    "Load our Pickle file"
   ]
  },
  {
   "cell_type": "code",
   "execution_count": 35,
   "metadata": {},
   "outputs": [],
   "source": [
    "to = load_pickle(path/'space_titan_to.pkl')"
   ]
  },
  {
   "attachments": {},
   "cell_type": "markdown",
   "metadata": {},
   "source": [
    "The tabular pandas object has taken care of a few things, such as converting all our categories to numbers, filling missing values, and creating corresponding columns that indicateds whether a missing value was filled in"
   ]
  },
  {
   "cell_type": "code",
   "execution_count": 36,
   "metadata": {},
   "outputs": [
    {
     "data": {
      "text/html": [
       "<div>\n",
       "<style scoped>\n",
       "    .dataframe tbody tr th:only-of-type {\n",
       "        vertical-align: middle;\n",
       "    }\n",
       "\n",
       "    .dataframe tbody tr th {\n",
       "        vertical-align: top;\n",
       "    }\n",
       "\n",
       "    .dataframe thead th {\n",
       "        text-align: right;\n",
       "    }\n",
       "</style>\n",
       "<table border=\"1\" class=\"dataframe\">\n",
       "  <thead>\n",
       "    <tr style=\"text-align: right;\">\n",
       "      <th></th>\n",
       "      <th>PassengerId</th>\n",
       "      <th>HomePlanet</th>\n",
       "      <th>CryoSleep</th>\n",
       "      <th>Cabin</th>\n",
       "      <th>Destination</th>\n",
       "      <th>Age</th>\n",
       "      <th>VIP</th>\n",
       "      <th>RoomService</th>\n",
       "      <th>FoodCourt</th>\n",
       "      <th>ShoppingMall</th>\n",
       "      <th>Spa</th>\n",
       "      <th>VRDeck</th>\n",
       "      <th>Name</th>\n",
       "      <th>Transported</th>\n",
       "      <th>group_num</th>\n",
       "      <th>group_size</th>\n",
       "      <th>deck</th>\n",
       "      <th>room_num</th>\n",
       "      <th>side</th>\n",
       "      <th>Age_na</th>\n",
       "      <th>RoomService_na</th>\n",
       "      <th>FoodCourt_na</th>\n",
       "      <th>ShoppingMall_na</th>\n",
       "      <th>Spa_na</th>\n",
       "      <th>VRDeck_na</th>\n",
       "    </tr>\n",
       "  </thead>\n",
       "  <tbody>\n",
       "    <tr>\n",
       "      <th>8388</th>\n",
       "      <td>8389</td>\n",
       "      <td>3</td>\n",
       "      <td>-0.749109</td>\n",
       "      <td>3242</td>\n",
       "      <td>3</td>\n",
       "      <td>1.612332</td>\n",
       "      <td>-0.206029</td>\n",
       "      <td>1.470626</td>\n",
       "      <td>-0.282769</td>\n",
       "      <td>-0.267182</td>\n",
       "      <td>-0.267988</td>\n",
       "      <td>-0.263122</td>\n",
       "      <td>2424</td>\n",
       "      <td>0</td>\n",
       "      <td>6005</td>\n",
       "      <td>1</td>\n",
       "      <td>6</td>\n",
       "      <td>786</td>\n",
       "      <td>2</td>\n",
       "      <td>1</td>\n",
       "      <td>1</td>\n",
       "      <td>1</td>\n",
       "      <td>1</td>\n",
       "      <td>1</td>\n",
       "      <td>1</td>\n",
       "    </tr>\n",
       "    <tr>\n",
       "      <th>1917</th>\n",
       "      <td>1918</td>\n",
       "      <td>1</td>\n",
       "      <td>1.095811</td>\n",
       "      <td>5560</td>\n",
       "      <td>3</td>\n",
       "      <td>-0.265485</td>\n",
       "      <td>-0.206029</td>\n",
       "      <td>-0.327109</td>\n",
       "      <td>-0.284032</td>\n",
       "      <td>-0.280746</td>\n",
       "      <td>-0.267988</td>\n",
       "      <td>-0.263122</td>\n",
       "      <td>0</td>\n",
       "      <td>1</td>\n",
       "      <td>1362</td>\n",
       "      <td>3</td>\n",
       "      <td>7</td>\n",
       "      <td>1078</td>\n",
       "      <td>1</td>\n",
       "      <td>1</td>\n",
       "      <td>1</td>\n",
       "      <td>1</td>\n",
       "      <td>1</td>\n",
       "      <td>1</td>\n",
       "      <td>1</td>\n",
       "    </tr>\n",
       "    <tr>\n",
       "      <th>5173</th>\n",
       "      <td>5174</td>\n",
       "      <td>1</td>\n",
       "      <td>-0.749109</td>\n",
       "      <td>6379</td>\n",
       "      <td>2</td>\n",
       "      <td>0.012710</td>\n",
       "      <td>-0.206029</td>\n",
       "      <td>-0.327109</td>\n",
       "      <td>-0.284032</td>\n",
       "      <td>-0.246835</td>\n",
       "      <td>-0.267988</td>\n",
       "      <td>0.100366</td>\n",
       "      <td>6619</td>\n",
       "      <td>0</td>\n",
       "      <td>3719</td>\n",
       "      <td>1</td>\n",
       "      <td>7</td>\n",
       "      <td>1692</td>\n",
       "      <td>1</td>\n",
       "      <td>1</td>\n",
       "      <td>1</td>\n",
       "      <td>1</td>\n",
       "      <td>1</td>\n",
       "      <td>1</td>\n",
       "      <td>1</td>\n",
       "    </tr>\n",
       "    <tr>\n",
       "      <th>8246</th>\n",
       "      <td>8247</td>\n",
       "      <td>1</td>\n",
       "      <td>-0.749109</td>\n",
       "      <td>2091</td>\n",
       "      <td>2</td>\n",
       "      <td>2.377369</td>\n",
       "      <td>-0.206029</td>\n",
       "      <td>-0.327109</td>\n",
       "      <td>-0.284032</td>\n",
       "      <td>-0.145103</td>\n",
       "      <td>-0.267988</td>\n",
       "      <td>1.836428</td>\n",
       "      <td>4592</td>\n",
       "      <td>0</td>\n",
       "      <td>5905</td>\n",
       "      <td>1</td>\n",
       "      <td>5</td>\n",
       "      <td>1351</td>\n",
       "      <td>2</td>\n",
       "      <td>1</td>\n",
       "      <td>1</td>\n",
       "      <td>1</td>\n",
       "      <td>1</td>\n",
       "      <td>1</td>\n",
       "      <td>1</td>\n",
       "    </tr>\n",
       "    <tr>\n",
       "      <th>61</th>\n",
       "      <td>62</td>\n",
       "      <td>1</td>\n",
       "      <td>1.095811</td>\n",
       "      <td>4563</td>\n",
       "      <td>2</td>\n",
       "      <td>-2.004205</td>\n",
       "      <td>-0.206029</td>\n",
       "      <td>-0.327109</td>\n",
       "      <td>-0.284032</td>\n",
       "      <td>-0.280746</td>\n",
       "      <td>-0.267988</td>\n",
       "      <td>-0.263122</td>\n",
       "      <td>5982</td>\n",
       "      <td>1</td>\n",
       "      <td>44</td>\n",
       "      <td>1</td>\n",
       "      <td>7</td>\n",
       "      <td>3</td>\n",
       "      <td>2</td>\n",
       "      <td>1</td>\n",
       "      <td>1</td>\n",
       "      <td>1</td>\n",
       "      <td>1</td>\n",
       "      <td>1</td>\n",
       "      <td>1</td>\n",
       "    </tr>\n",
       "  </tbody>\n",
       "</table>\n",
       "</div>"
      ],
      "text/plain": [
       "      PassengerId  HomePlanet  CryoSleep  Cabin  Destination       Age  \\\n",
       "8388         8389           3  -0.749109   3242            3  1.612332   \n",
       "1917         1918           1   1.095811   5560            3 -0.265485   \n",
       "5173         5174           1  -0.749109   6379            2  0.012710   \n",
       "8246         8247           1  -0.749109   2091            2  2.377369   \n",
       "61             62           1   1.095811   4563            2 -2.004205   \n",
       "\n",
       "           VIP  RoomService  FoodCourt  ShoppingMall       Spa    VRDeck  \\\n",
       "8388 -0.206029     1.470626  -0.282769     -0.267182 -0.267988 -0.263122   \n",
       "1917 -0.206029    -0.327109  -0.284032     -0.280746 -0.267988 -0.263122   \n",
       "5173 -0.206029    -0.327109  -0.284032     -0.246835 -0.267988  0.100366   \n",
       "8246 -0.206029    -0.327109  -0.284032     -0.145103 -0.267988  1.836428   \n",
       "61   -0.206029    -0.327109  -0.284032     -0.280746 -0.267988 -0.263122   \n",
       "\n",
       "      Name  Transported  group_num  group_size  deck  room_num  side  Age_na  \\\n",
       "8388  2424            0       6005           1     6       786     2       1   \n",
       "1917     0            1       1362           3     7      1078     1       1   \n",
       "5173  6619            0       3719           1     7      1692     1       1   \n",
       "8246  4592            0       5905           1     5      1351     2       1   \n",
       "61    5982            1         44           1     7         3     2       1   \n",
       "\n",
       "      RoomService_na  FoodCourt_na  ShoppingMall_na  Spa_na  VRDeck_na  \n",
       "8388               1             1                1       1          1  \n",
       "1917               1             1                1       1          1  \n",
       "5173               1             1                1       1          1  \n",
       "8246               1             1                1       1          1  \n",
       "61                 1             1                1       1          1  "
      ]
     },
     "execution_count": 36,
     "metadata": {},
     "output_type": "execute_result"
    }
   ],
   "source": [
    "to.items.head()"
   ]
  },
  {
   "cell_type": "code",
   "execution_count": 37,
   "metadata": {},
   "outputs": [
    {
     "data": {
      "text/plain": [
       "PassengerId        0\n",
       "HomePlanet         0\n",
       "CryoSleep          0\n",
       "Cabin              0\n",
       "Destination        0\n",
       "Age                0\n",
       "VIP                0\n",
       "RoomService        0\n",
       "FoodCourt          0\n",
       "ShoppingMall       0\n",
       "Spa                0\n",
       "VRDeck             0\n",
       "Name               0\n",
       "Transported        0\n",
       "group_num          0\n",
       "group_size         0\n",
       "deck               0\n",
       "room_num           0\n",
       "side               0\n",
       "Age_na             0\n",
       "RoomService_na     0\n",
       "FoodCourt_na       0\n",
       "ShoppingMall_na    0\n",
       "Spa_na             0\n",
       "VRDeck_na          0\n",
       "dtype: int64"
      ]
     },
     "execution_count": 37,
     "metadata": {},
     "output_type": "execute_result"
    }
   ],
   "source": [
    "to.items.isna().sum()"
   ]
  },
  {
   "cell_type": "code",
   "execution_count": 38,
   "metadata": {},
   "outputs": [
    {
     "data": {
      "text/html": [
       "<div>\n",
       "<style scoped>\n",
       "    .dataframe tbody tr th:only-of-type {\n",
       "        vertical-align: middle;\n",
       "    }\n",
       "\n",
       "    .dataframe tbody tr th {\n",
       "        vertical-align: top;\n",
       "    }\n",
       "\n",
       "    .dataframe thead th {\n",
       "        text-align: right;\n",
       "    }\n",
       "</style>\n",
       "<table border=\"1\" class=\"dataframe\">\n",
       "  <thead>\n",
       "    <tr style=\"text-align: right;\">\n",
       "      <th></th>\n",
       "      <th>PassengerId</th>\n",
       "      <th>HomePlanet</th>\n",
       "      <th>CryoSleep</th>\n",
       "      <th>Cabin</th>\n",
       "      <th>Destination</th>\n",
       "      <th>Age</th>\n",
       "      <th>VIP</th>\n",
       "      <th>RoomService</th>\n",
       "      <th>FoodCourt</th>\n",
       "      <th>ShoppingMall</th>\n",
       "      <th>Spa</th>\n",
       "      <th>VRDeck</th>\n",
       "      <th>Name</th>\n",
       "      <th>Transported</th>\n",
       "      <th>group_num</th>\n",
       "      <th>group_size</th>\n",
       "      <th>deck</th>\n",
       "      <th>room_num</th>\n",
       "      <th>side</th>\n",
       "      <th>Age_na</th>\n",
       "      <th>RoomService_na</th>\n",
       "      <th>FoodCourt_na</th>\n",
       "      <th>ShoppingMall_na</th>\n",
       "      <th>Spa_na</th>\n",
       "      <th>VRDeck_na</th>\n",
       "    </tr>\n",
       "  </thead>\n",
       "  <tbody>\n",
       "    <tr>\n",
       "      <th>count</th>\n",
       "      <td>8693.000000</td>\n",
       "      <td>8693.000000</td>\n",
       "      <td>8693.000000</td>\n",
       "      <td>8693.000000</td>\n",
       "      <td>8693.000000</td>\n",
       "      <td>8693.000000</td>\n",
       "      <td>8693.000000</td>\n",
       "      <td>8693.000000</td>\n",
       "      <td>8693.000000</td>\n",
       "      <td>8693.000000</td>\n",
       "      <td>8693.000000</td>\n",
       "      <td>8693.000000</td>\n",
       "      <td>8693.000000</td>\n",
       "      <td>8693.000000</td>\n",
       "      <td>8693.000000</td>\n",
       "      <td>8693.000000</td>\n",
       "      <td>8693.000000</td>\n",
       "      <td>8693.000000</td>\n",
       "      <td>8693.000000</td>\n",
       "      <td>8693.000000</td>\n",
       "      <td>8693.000000</td>\n",
       "      <td>8693.000000</td>\n",
       "      <td>8693.000000</td>\n",
       "      <td>8693.000000</td>\n",
       "      <td>8693.000000</td>\n",
       "    </tr>\n",
       "    <tr>\n",
       "      <th>mean</th>\n",
       "      <td>4347.000000</td>\n",
       "      <td>1.626711</td>\n",
       "      <td>-0.012457</td>\n",
       "      <td>3078.663407</td>\n",
       "      <td>2.431497</td>\n",
       "      <td>-0.001875</td>\n",
       "      <td>0.006155</td>\n",
       "      <td>-0.005811</td>\n",
       "      <td>-0.000839</td>\n",
       "      <td>0.006771</td>\n",
       "      <td>-0.007960</td>\n",
       "      <td>0.006567</td>\n",
       "      <td>4137.292649</td>\n",
       "      <td>0.503624</td>\n",
       "      <td>3112.468423</td>\n",
       "      <td>1.517773</td>\n",
       "      <td>5.183941</td>\n",
       "      <td>926.410790</td>\n",
       "      <td>1.470378</td>\n",
       "      <td>1.020591</td>\n",
       "      <td>1.020821</td>\n",
       "      <td>1.021051</td>\n",
       "      <td>1.023927</td>\n",
       "      <td>1.021051</td>\n",
       "      <td>1.021627</td>\n",
       "    </tr>\n",
       "    <tr>\n",
       "      <th>std</th>\n",
       "      <td>2509.597278</td>\n",
       "      <td>0.827623</td>\n",
       "      <td>0.993203</td>\n",
       "      <td>2008.847080</td>\n",
       "      <td>0.886083</td>\n",
       "      <td>0.997427</td>\n",
       "      <td>1.017904</td>\n",
       "      <td>0.964613</td>\n",
       "      <td>1.007765</td>\n",
       "      <td>1.013948</td>\n",
       "      <td>0.960896</td>\n",
       "      <td>1.025476</td>\n",
       "      <td>2499.751656</td>\n",
       "      <td>0.500016</td>\n",
       "      <td>1797.308796</td>\n",
       "      <td>1.054241</td>\n",
       "      <td>1.928570</td>\n",
       "      <td>518.416607</td>\n",
       "      <td>0.543084</td>\n",
       "      <td>0.142020</td>\n",
       "      <td>0.142794</td>\n",
       "      <td>0.143564</td>\n",
       "      <td>0.152832</td>\n",
       "      <td>0.143564</td>\n",
       "      <td>0.145469</td>\n",
       "    </tr>\n",
       "    <tr>\n",
       "      <th>min</th>\n",
       "      <td>1.000000</td>\n",
       "      <td>0.000000</td>\n",
       "      <td>-0.749109</td>\n",
       "      <td>0.000000</td>\n",
       "      <td>0.000000</td>\n",
       "      <td>-2.004205</td>\n",
       "      <td>-0.206029</td>\n",
       "      <td>-0.327109</td>\n",
       "      <td>-0.284032</td>\n",
       "      <td>-0.280746</td>\n",
       "      <td>-0.267988</td>\n",
       "      <td>-0.263122</td>\n",
       "      <td>0.000000</td>\n",
       "      <td>0.000000</td>\n",
       "      <td>1.000000</td>\n",
       "      <td>1.000000</td>\n",
       "      <td>0.000000</td>\n",
       "      <td>0.000000</td>\n",
       "      <td>0.000000</td>\n",
       "      <td>1.000000</td>\n",
       "      <td>1.000000</td>\n",
       "      <td>1.000000</td>\n",
       "      <td>1.000000</td>\n",
       "      <td>1.000000</td>\n",
       "      <td>1.000000</td>\n",
       "    </tr>\n",
       "    <tr>\n",
       "      <th>25%</th>\n",
       "      <td>2174.000000</td>\n",
       "      <td>1.000000</td>\n",
       "      <td>-0.749109</td>\n",
       "      <td>1185.000000</td>\n",
       "      <td>2.000000</td>\n",
       "      <td>-0.613229</td>\n",
       "      <td>-0.206029</td>\n",
       "      <td>-0.327109</td>\n",
       "      <td>-0.284032</td>\n",
       "      <td>-0.280746</td>\n",
       "      <td>-0.267988</td>\n",
       "      <td>-0.263122</td>\n",
       "      <td>1968.000000</td>\n",
       "      <td>0.000000</td>\n",
       "      <td>1553.000000</td>\n",
       "      <td>1.000000</td>\n",
       "      <td>4.000000</td>\n",
       "      <td>476.000000</td>\n",
       "      <td>1.000000</td>\n",
       "      <td>1.000000</td>\n",
       "      <td>1.000000</td>\n",
       "      <td>1.000000</td>\n",
       "      <td>1.000000</td>\n",
       "      <td>1.000000</td>\n",
       "      <td>1.000000</td>\n",
       "    </tr>\n",
       "    <tr>\n",
       "      <th>50%</th>\n",
       "      <td>4347.000000</td>\n",
       "      <td>1.000000</td>\n",
       "      <td>-0.749109</td>\n",
       "      <td>3045.000000</td>\n",
       "      <td>3.000000</td>\n",
       "      <td>-0.126388</td>\n",
       "      <td>-0.206029</td>\n",
       "      <td>-0.327109</td>\n",
       "      <td>-0.284032</td>\n",
       "      <td>-0.280746</td>\n",
       "      <td>-0.267988</td>\n",
       "      <td>-0.263122</td>\n",
       "      <td>4133.000000</td>\n",
       "      <td>1.000000</td>\n",
       "      <td>3116.000000</td>\n",
       "      <td>1.000000</td>\n",
       "      <td>6.000000</td>\n",
       "      <td>992.000000</td>\n",
       "      <td>1.000000</td>\n",
       "      <td>1.000000</td>\n",
       "      <td>1.000000</td>\n",
       "      <td>1.000000</td>\n",
       "      <td>1.000000</td>\n",
       "      <td>1.000000</td>\n",
       "      <td>1.000000</td>\n",
       "    </tr>\n",
       "    <tr>\n",
       "      <th>75%</th>\n",
       "      <td>6520.000000</td>\n",
       "      <td>2.000000</td>\n",
       "      <td>1.095811</td>\n",
       "      <td>4860.000000</td>\n",
       "      <td>3.000000</td>\n",
       "      <td>0.569100</td>\n",
       "      <td>-0.206029</td>\n",
       "      <td>-0.267233</td>\n",
       "      <td>-0.245510</td>\n",
       "      <td>-0.243444</td>\n",
       "      <td>-0.222742</td>\n",
       "      <td>-0.226954</td>\n",
       "      <td>6303.000000</td>\n",
       "      <td>1.000000</td>\n",
       "      <td>4631.000000</td>\n",
       "      <td>2.000000</td>\n",
       "      <td>7.000000</td>\n",
       "      <td>1328.000000</td>\n",
       "      <td>2.000000</td>\n",
       "      <td>1.000000</td>\n",
       "      <td>1.000000</td>\n",
       "      <td>1.000000</td>\n",
       "      <td>1.000000</td>\n",
       "      <td>1.000000</td>\n",
       "      <td>1.000000</td>\n",
       "    </tr>\n",
       "    <tr>\n",
       "      <th>max</th>\n",
       "      <td>8693.000000</td>\n",
       "      <td>3.000000</td>\n",
       "      <td>2.940731</td>\n",
       "      <td>6560.000000</td>\n",
       "      <td>3.000000</td>\n",
       "      <td>3.490149</td>\n",
       "      <td>5.891563</td>\n",
       "      <td>20.595846</td>\n",
       "      <td>18.543309</td>\n",
       "      <td>39.550979</td>\n",
       "      <td>18.861789</td>\n",
       "      <td>21.557912</td>\n",
       "      <td>8473.000000</td>\n",
       "      <td>1.000000</td>\n",
       "      <td>6217.000000</td>\n",
       "      <td>8.000000</td>\n",
       "      <td>8.000000</td>\n",
       "      <td>1817.000000</td>\n",
       "      <td>2.000000</td>\n",
       "      <td>2.000000</td>\n",
       "      <td>2.000000</td>\n",
       "      <td>2.000000</td>\n",
       "      <td>2.000000</td>\n",
       "      <td>2.000000</td>\n",
       "      <td>2.000000</td>\n",
       "    </tr>\n",
       "  </tbody>\n",
       "</table>\n",
       "</div>"
      ],
      "text/plain": [
       "       PassengerId   HomePlanet    CryoSleep        Cabin  Destination  \\\n",
       "count  8693.000000  8693.000000  8693.000000  8693.000000  8693.000000   \n",
       "mean   4347.000000     1.626711    -0.012457  3078.663407     2.431497   \n",
       "std    2509.597278     0.827623     0.993203  2008.847080     0.886083   \n",
       "min       1.000000     0.000000    -0.749109     0.000000     0.000000   \n",
       "25%    2174.000000     1.000000    -0.749109  1185.000000     2.000000   \n",
       "50%    4347.000000     1.000000    -0.749109  3045.000000     3.000000   \n",
       "75%    6520.000000     2.000000     1.095811  4860.000000     3.000000   \n",
       "max    8693.000000     3.000000     2.940731  6560.000000     3.000000   \n",
       "\n",
       "               Age          VIP  RoomService    FoodCourt  ShoppingMall  \\\n",
       "count  8693.000000  8693.000000  8693.000000  8693.000000   8693.000000   \n",
       "mean     -0.001875     0.006155    -0.005811    -0.000839      0.006771   \n",
       "std       0.997427     1.017904     0.964613     1.007765      1.013948   \n",
       "min      -2.004205    -0.206029    -0.327109    -0.284032     -0.280746   \n",
       "25%      -0.613229    -0.206029    -0.327109    -0.284032     -0.280746   \n",
       "50%      -0.126388    -0.206029    -0.327109    -0.284032     -0.280746   \n",
       "75%       0.569100    -0.206029    -0.267233    -0.245510     -0.243444   \n",
       "max       3.490149     5.891563    20.595846    18.543309     39.550979   \n",
       "\n",
       "               Spa       VRDeck         Name  Transported    group_num  \\\n",
       "count  8693.000000  8693.000000  8693.000000  8693.000000  8693.000000   \n",
       "mean     -0.007960     0.006567  4137.292649     0.503624  3112.468423   \n",
       "std       0.960896     1.025476  2499.751656     0.500016  1797.308796   \n",
       "min      -0.267988    -0.263122     0.000000     0.000000     1.000000   \n",
       "25%      -0.267988    -0.263122  1968.000000     0.000000  1553.000000   \n",
       "50%      -0.267988    -0.263122  4133.000000     1.000000  3116.000000   \n",
       "75%      -0.222742    -0.226954  6303.000000     1.000000  4631.000000   \n",
       "max      18.861789    21.557912  8473.000000     1.000000  6217.000000   \n",
       "\n",
       "        group_size         deck     room_num         side       Age_na  \\\n",
       "count  8693.000000  8693.000000  8693.000000  8693.000000  8693.000000   \n",
       "mean      1.517773     5.183941   926.410790     1.470378     1.020591   \n",
       "std       1.054241     1.928570   518.416607     0.543084     0.142020   \n",
       "min       1.000000     0.000000     0.000000     0.000000     1.000000   \n",
       "25%       1.000000     4.000000   476.000000     1.000000     1.000000   \n",
       "50%       1.000000     6.000000   992.000000     1.000000     1.000000   \n",
       "75%       2.000000     7.000000  1328.000000     2.000000     1.000000   \n",
       "max       8.000000     8.000000  1817.000000     2.000000     2.000000   \n",
       "\n",
       "       RoomService_na  FoodCourt_na  ShoppingMall_na       Spa_na    VRDeck_na  \n",
       "count     8693.000000   8693.000000      8693.000000  8693.000000  8693.000000  \n",
       "mean         1.020821      1.021051         1.023927     1.021051     1.021627  \n",
       "std          0.142794      0.143564         0.152832     0.143564     0.145469  \n",
       "min          1.000000      1.000000         1.000000     1.000000     1.000000  \n",
       "25%          1.000000      1.000000         1.000000     1.000000     1.000000  \n",
       "50%          1.000000      1.000000         1.000000     1.000000     1.000000  \n",
       "75%          1.000000      1.000000         1.000000     1.000000     1.000000  \n",
       "max          2.000000      2.000000         2.000000     2.000000     2.000000  "
      ]
     },
     "execution_count": 38,
     "metadata": {},
     "output_type": "execute_result"
    }
   ],
   "source": [
    "to.items.describe()"
   ]
  },
  {
   "cell_type": "code",
   "execution_count": 39,
   "metadata": {},
   "outputs": [
    {
     "data": {
      "text/html": [
       "<div>\n",
       "<style scoped>\n",
       "    .dataframe tbody tr th:only-of-type {\n",
       "        vertical-align: middle;\n",
       "    }\n",
       "\n",
       "    .dataframe tbody tr th {\n",
       "        vertical-align: top;\n",
       "    }\n",
       "\n",
       "    .dataframe thead th {\n",
       "        text-align: right;\n",
       "    }\n",
       "</style>\n",
       "<table border=\"1\" class=\"dataframe\">\n",
       "  <thead>\n",
       "    <tr style=\"text-align: right;\">\n",
       "      <th></th>\n",
       "      <th>PassengerId</th>\n",
       "      <th>HomePlanet</th>\n",
       "      <th>Cabin</th>\n",
       "      <th>Destination</th>\n",
       "      <th>Name</th>\n",
       "      <th>group_num</th>\n",
       "      <th>group_size</th>\n",
       "      <th>deck</th>\n",
       "      <th>room_num</th>\n",
       "      <th>side</th>\n",
       "      <th>Age_na</th>\n",
       "      <th>RoomService_na</th>\n",
       "      <th>FoodCourt_na</th>\n",
       "      <th>ShoppingMall_na</th>\n",
       "      <th>Spa_na</th>\n",
       "      <th>VRDeck_na</th>\n",
       "      <th>CryoSleep</th>\n",
       "      <th>Age</th>\n",
       "      <th>VIP</th>\n",
       "      <th>RoomService</th>\n",
       "      <th>FoodCourt</th>\n",
       "      <th>ShoppingMall</th>\n",
       "      <th>Spa</th>\n",
       "      <th>VRDeck</th>\n",
       "    </tr>\n",
       "  </thead>\n",
       "  <tbody>\n",
       "    <tr>\n",
       "      <th>8388</th>\n",
       "      <td>8389</td>\n",
       "      <td>3</td>\n",
       "      <td>3242</td>\n",
       "      <td>3</td>\n",
       "      <td>2424</td>\n",
       "      <td>6005</td>\n",
       "      <td>1</td>\n",
       "      <td>6</td>\n",
       "      <td>786</td>\n",
       "      <td>2</td>\n",
       "      <td>1</td>\n",
       "      <td>1</td>\n",
       "      <td>1</td>\n",
       "      <td>1</td>\n",
       "      <td>1</td>\n",
       "      <td>1</td>\n",
       "      <td>-0.749109</td>\n",
       "      <td>1.612332</td>\n",
       "      <td>-0.206029</td>\n",
       "      <td>1.470626</td>\n",
       "      <td>-0.282769</td>\n",
       "      <td>-0.267182</td>\n",
       "      <td>-0.267988</td>\n",
       "      <td>-0.263122</td>\n",
       "    </tr>\n",
       "    <tr>\n",
       "      <th>1917</th>\n",
       "      <td>1918</td>\n",
       "      <td>1</td>\n",
       "      <td>5560</td>\n",
       "      <td>3</td>\n",
       "      <td>0</td>\n",
       "      <td>1362</td>\n",
       "      <td>3</td>\n",
       "      <td>7</td>\n",
       "      <td>1078</td>\n",
       "      <td>1</td>\n",
       "      <td>1</td>\n",
       "      <td>1</td>\n",
       "      <td>1</td>\n",
       "      <td>1</td>\n",
       "      <td>1</td>\n",
       "      <td>1</td>\n",
       "      <td>1.095811</td>\n",
       "      <td>-0.265485</td>\n",
       "      <td>-0.206029</td>\n",
       "      <td>-0.327109</td>\n",
       "      <td>-0.284032</td>\n",
       "      <td>-0.280746</td>\n",
       "      <td>-0.267988</td>\n",
       "      <td>-0.263122</td>\n",
       "    </tr>\n",
       "    <tr>\n",
       "      <th>5173</th>\n",
       "      <td>5174</td>\n",
       "      <td>1</td>\n",
       "      <td>6379</td>\n",
       "      <td>2</td>\n",
       "      <td>6619</td>\n",
       "      <td>3719</td>\n",
       "      <td>1</td>\n",
       "      <td>7</td>\n",
       "      <td>1692</td>\n",
       "      <td>1</td>\n",
       "      <td>1</td>\n",
       "      <td>1</td>\n",
       "      <td>1</td>\n",
       "      <td>1</td>\n",
       "      <td>1</td>\n",
       "      <td>1</td>\n",
       "      <td>-0.749109</td>\n",
       "      <td>0.012710</td>\n",
       "      <td>-0.206029</td>\n",
       "      <td>-0.327109</td>\n",
       "      <td>-0.284032</td>\n",
       "      <td>-0.246835</td>\n",
       "      <td>-0.267988</td>\n",
       "      <td>0.100366</td>\n",
       "    </tr>\n",
       "    <tr>\n",
       "      <th>8246</th>\n",
       "      <td>8247</td>\n",
       "      <td>1</td>\n",
       "      <td>2091</td>\n",
       "      <td>2</td>\n",
       "      <td>4592</td>\n",
       "      <td>5905</td>\n",
       "      <td>1</td>\n",
       "      <td>5</td>\n",
       "      <td>1351</td>\n",
       "      <td>2</td>\n",
       "      <td>1</td>\n",
       "      <td>1</td>\n",
       "      <td>1</td>\n",
       "      <td>1</td>\n",
       "      <td>1</td>\n",
       "      <td>1</td>\n",
       "      <td>-0.749109</td>\n",
       "      <td>2.377369</td>\n",
       "      <td>-0.206029</td>\n",
       "      <td>-0.327109</td>\n",
       "      <td>-0.284032</td>\n",
       "      <td>-0.145103</td>\n",
       "      <td>-0.267988</td>\n",
       "      <td>1.836428</td>\n",
       "    </tr>\n",
       "    <tr>\n",
       "      <th>61</th>\n",
       "      <td>62</td>\n",
       "      <td>1</td>\n",
       "      <td>4563</td>\n",
       "      <td>2</td>\n",
       "      <td>5982</td>\n",
       "      <td>44</td>\n",
       "      <td>1</td>\n",
       "      <td>7</td>\n",
       "      <td>3</td>\n",
       "      <td>2</td>\n",
       "      <td>1</td>\n",
       "      <td>1</td>\n",
       "      <td>1</td>\n",
       "      <td>1</td>\n",
       "      <td>1</td>\n",
       "      <td>1</td>\n",
       "      <td>1.095811</td>\n",
       "      <td>-2.004205</td>\n",
       "      <td>-0.206029</td>\n",
       "      <td>-0.327109</td>\n",
       "      <td>-0.284032</td>\n",
       "      <td>-0.280746</td>\n",
       "      <td>-0.267988</td>\n",
       "      <td>-0.263122</td>\n",
       "    </tr>\n",
       "    <tr>\n",
       "      <th>...</th>\n",
       "      <td>...</td>\n",
       "      <td>...</td>\n",
       "      <td>...</td>\n",
       "      <td>...</td>\n",
       "      <td>...</td>\n",
       "      <td>...</td>\n",
       "      <td>...</td>\n",
       "      <td>...</td>\n",
       "      <td>...</td>\n",
       "      <td>...</td>\n",
       "      <td>...</td>\n",
       "      <td>...</td>\n",
       "      <td>...</td>\n",
       "      <td>...</td>\n",
       "      <td>...</td>\n",
       "      <td>...</td>\n",
       "      <td>...</td>\n",
       "      <td>...</td>\n",
       "      <td>...</td>\n",
       "      <td>...</td>\n",
       "      <td>...</td>\n",
       "      <td>...</td>\n",
       "      <td>...</td>\n",
       "      <td>...</td>\n",
       "    </tr>\n",
       "    <tr>\n",
       "      <th>4489</th>\n",
       "      <td>4490</td>\n",
       "      <td>3</td>\n",
       "      <td>4518</td>\n",
       "      <td>3</td>\n",
       "      <td>3321</td>\n",
       "      <td>3210</td>\n",
       "      <td>4</td>\n",
       "      <td>6</td>\n",
       "      <td>1788</td>\n",
       "      <td>1</td>\n",
       "      <td>1</td>\n",
       "      <td>1</td>\n",
       "      <td>1</td>\n",
       "      <td>1</td>\n",
       "      <td>1</td>\n",
       "      <td>1</td>\n",
       "      <td>1.095811</td>\n",
       "      <td>-1.586912</td>\n",
       "      <td>-0.206029</td>\n",
       "      <td>-0.327109</td>\n",
       "      <td>-0.284032</td>\n",
       "      <td>-0.280746</td>\n",
       "      <td>-0.267988</td>\n",
       "      <td>-0.263122</td>\n",
       "    </tr>\n",
       "    <tr>\n",
       "      <th>2308</th>\n",
       "      <td>2309</td>\n",
       "      <td>1</td>\n",
       "      <td>3865</td>\n",
       "      <td>3</td>\n",
       "      <td>5332</td>\n",
       "      <td>1660</td>\n",
       "      <td>1</td>\n",
       "      <td>6</td>\n",
       "      <td>1281</td>\n",
       "      <td>1</td>\n",
       "      <td>1</td>\n",
       "      <td>1</td>\n",
       "      <td>1</td>\n",
       "      <td>1</td>\n",
       "      <td>1</td>\n",
       "      <td>1</td>\n",
       "      <td>-0.749109</td>\n",
       "      <td>-0.195937</td>\n",
       "      <td>-0.206029</td>\n",
       "      <td>0.479024</td>\n",
       "      <td>-0.162781</td>\n",
       "      <td>-0.229880</td>\n",
       "      <td>-0.267988</td>\n",
       "      <td>-0.262217</td>\n",
       "    </tr>\n",
       "    <tr>\n",
       "      <th>6485</th>\n",
       "      <td>6486</td>\n",
       "      <td>2</td>\n",
       "      <td>401</td>\n",
       "      <td>1</td>\n",
       "      <td>6910</td>\n",
       "      <td>4608</td>\n",
       "      <td>2</td>\n",
       "      <td>2</td>\n",
       "      <td>1000</td>\n",
       "      <td>2</td>\n",
       "      <td>1</td>\n",
       "      <td>1</td>\n",
       "      <td>1</td>\n",
       "      <td>1</td>\n",
       "      <td>1</td>\n",
       "      <td>1</td>\n",
       "      <td>1.095811</td>\n",
       "      <td>0.082259</td>\n",
       "      <td>-0.206029</td>\n",
       "      <td>-0.327109</td>\n",
       "      <td>-0.284032</td>\n",
       "      <td>-0.280746</td>\n",
       "      <td>-0.267988</td>\n",
       "      <td>-0.263122</td>\n",
       "    </tr>\n",
       "    <tr>\n",
       "      <th>2770</th>\n",
       "      <td>2771</td>\n",
       "      <td>3</td>\n",
       "      <td>1554</td>\n",
       "      <td>3</td>\n",
       "      <td>7398</td>\n",
       "      <td>2004</td>\n",
       "      <td>1</td>\n",
       "      <td>5</td>\n",
       "      <td>929</td>\n",
       "      <td>2</td>\n",
       "      <td>1</td>\n",
       "      <td>1</td>\n",
       "      <td>1</td>\n",
       "      <td>1</td>\n",
       "      <td>1</td>\n",
       "      <td>1</td>\n",
       "      <td>-0.749109</td>\n",
       "      <td>-0.960973</td>\n",
       "      <td>-0.206029</td>\n",
       "      <td>8.013157</td>\n",
       "      <td>-0.284032</td>\n",
       "      <td>3.985243</td>\n",
       "      <td>-0.267988</td>\n",
       "      <td>0.975631</td>\n",
       "    </tr>\n",
       "    <tr>\n",
       "      <th>4322</th>\n",
       "      <td>4323</td>\n",
       "      <td>2</td>\n",
       "      <td>708</td>\n",
       "      <td>3</td>\n",
       "      <td>6379</td>\n",
       "      <td>3099</td>\n",
       "      <td>1</td>\n",
       "      <td>3</td>\n",
       "      <td>772</td>\n",
       "      <td>2</td>\n",
       "      <td>1</td>\n",
       "      <td>1</td>\n",
       "      <td>1</td>\n",
       "      <td>1</td>\n",
       "      <td>1</td>\n",
       "      <td>1</td>\n",
       "      <td>-0.749109</td>\n",
       "      <td>-0.474132</td>\n",
       "      <td>-0.206029</td>\n",
       "      <td>-0.086146</td>\n",
       "      <td>-0.261297</td>\n",
       "      <td>-0.280746</td>\n",
       "      <td>2.330684</td>\n",
       "      <td>0.239613</td>\n",
       "    </tr>\n",
       "  </tbody>\n",
       "</table>\n",
       "<p>6955 rows × 24 columns</p>\n",
       "</div>"
      ],
      "text/plain": [
       "      PassengerId  HomePlanet  Cabin  Destination  Name  group_num  \\\n",
       "8388         8389           3   3242            3  2424       6005   \n",
       "1917         1918           1   5560            3     0       1362   \n",
       "5173         5174           1   6379            2  6619       3719   \n",
       "8246         8247           1   2091            2  4592       5905   \n",
       "61             62           1   4563            2  5982         44   \n",
       "...           ...         ...    ...          ...   ...        ...   \n",
       "4489         4490           3   4518            3  3321       3210   \n",
       "2308         2309           1   3865            3  5332       1660   \n",
       "6485         6486           2    401            1  6910       4608   \n",
       "2770         2771           3   1554            3  7398       2004   \n",
       "4322         4323           2    708            3  6379       3099   \n",
       "\n",
       "      group_size  deck  room_num  side  Age_na  RoomService_na  FoodCourt_na  \\\n",
       "8388           1     6       786     2       1               1             1   \n",
       "1917           3     7      1078     1       1               1             1   \n",
       "5173           1     7      1692     1       1               1             1   \n",
       "8246           1     5      1351     2       1               1             1   \n",
       "61             1     7         3     2       1               1             1   \n",
       "...          ...   ...       ...   ...     ...             ...           ...   \n",
       "4489           4     6      1788     1       1               1             1   \n",
       "2308           1     6      1281     1       1               1             1   \n",
       "6485           2     2      1000     2       1               1             1   \n",
       "2770           1     5       929     2       1               1             1   \n",
       "4322           1     3       772     2       1               1             1   \n",
       "\n",
       "      ShoppingMall_na  Spa_na  VRDeck_na  CryoSleep       Age       VIP  \\\n",
       "8388                1       1          1  -0.749109  1.612332 -0.206029   \n",
       "1917                1       1          1   1.095811 -0.265485 -0.206029   \n",
       "5173                1       1          1  -0.749109  0.012710 -0.206029   \n",
       "8246                1       1          1  -0.749109  2.377369 -0.206029   \n",
       "61                  1       1          1   1.095811 -2.004205 -0.206029   \n",
       "...               ...     ...        ...        ...       ...       ...   \n",
       "4489                1       1          1   1.095811 -1.586912 -0.206029   \n",
       "2308                1       1          1  -0.749109 -0.195937 -0.206029   \n",
       "6485                1       1          1   1.095811  0.082259 -0.206029   \n",
       "2770                1       1          1  -0.749109 -0.960973 -0.206029   \n",
       "4322                1       1          1  -0.749109 -0.474132 -0.206029   \n",
       "\n",
       "      RoomService  FoodCourt  ShoppingMall       Spa    VRDeck  \n",
       "8388     1.470626  -0.282769     -0.267182 -0.267988 -0.263122  \n",
       "1917    -0.327109  -0.284032     -0.280746 -0.267988 -0.263122  \n",
       "5173    -0.327109  -0.284032     -0.246835 -0.267988  0.100366  \n",
       "8246    -0.327109  -0.284032     -0.145103 -0.267988  1.836428  \n",
       "61      -0.327109  -0.284032     -0.280746 -0.267988 -0.263122  \n",
       "...           ...        ...           ...       ...       ...  \n",
       "4489    -0.327109  -0.284032     -0.280746 -0.267988 -0.263122  \n",
       "2308     0.479024  -0.162781     -0.229880 -0.267988 -0.262217  \n",
       "6485    -0.327109  -0.284032     -0.280746 -0.267988 -0.263122  \n",
       "2770     8.013157  -0.284032      3.985243 -0.267988  0.975631  \n",
       "4322    -0.086146  -0.261297     -0.280746  2.330684  0.239613  \n",
       "\n",
       "[6955 rows x 24 columns]"
      ]
     },
     "execution_count": 39,
     "metadata": {},
     "output_type": "execute_result"
    }
   ],
   "source": [
    "to.train.xs"
   ]
  },
  {
   "cell_type": "code",
   "execution_count": 40,
   "metadata": {},
   "outputs": [
    {
     "data": {
      "text/plain": [
       "<AxesSubplot: >"
      ]
     },
     "execution_count": 40,
     "metadata": {},
     "output_type": "execute_result"
    },
    {
     "data": {
      "image/png": "[encoded data removed]",
      "text/plain": [
       "<Figure size 640x480 with 1 Axes>"
      ]
     },
     "metadata": {},
     "output_type": "display_data"
    }
   ],
   "source": [
    "to['FoodCourt'].hist()"
   ]
  },
  {
   "cell_type": "code",
   "execution_count": 41,
   "metadata": {},
   "outputs": [
    {
     "data": {
      "text/html": [
       "<div>\n",
       "<style scoped>\n",
       "    .dataframe tbody tr th:only-of-type {\n",
       "        vertical-align: middle;\n",
       "    }\n",
       "\n",
       "    .dataframe tbody tr th {\n",
       "        vertical-align: top;\n",
       "    }\n",
       "\n",
       "    .dataframe thead th {\n",
       "        text-align: right;\n",
       "    }\n",
       "</style>\n",
       "<table border=\"1\" class=\"dataframe\">\n",
       "  <thead>\n",
       "    <tr style=\"text-align: right;\">\n",
       "      <th></th>\n",
       "      <th>PassengerId</th>\n",
       "      <th>HomePlanet</th>\n",
       "      <th>CryoSleep</th>\n",
       "      <th>Cabin</th>\n",
       "      <th>Destination</th>\n",
       "      <th>Age</th>\n",
       "      <th>VIP</th>\n",
       "      <th>RoomService</th>\n",
       "      <th>FoodCourt</th>\n",
       "      <th>ShoppingMall</th>\n",
       "      <th>Spa</th>\n",
       "      <th>VRDeck</th>\n",
       "      <th>Name</th>\n",
       "      <th>Transported</th>\n",
       "      <th>group_num</th>\n",
       "      <th>group_size</th>\n",
       "      <th>deck</th>\n",
       "      <th>room_num</th>\n",
       "      <th>side</th>\n",
       "      <th>Age_na</th>\n",
       "      <th>RoomService_na</th>\n",
       "      <th>FoodCourt_na</th>\n",
       "      <th>ShoppingMall_na</th>\n",
       "      <th>Spa_na</th>\n",
       "      <th>VRDeck_na</th>\n",
       "    </tr>\n",
       "  </thead>\n",
       "  <tbody>\n",
       "    <tr>\n",
       "      <th>count</th>\n",
       "      <td>8693.000000</td>\n",
       "      <td>8693.000000</td>\n",
       "      <td>8693.000000</td>\n",
       "      <td>8693.000000</td>\n",
       "      <td>8693.000000</td>\n",
       "      <td>8693.000000</td>\n",
       "      <td>8693.000000</td>\n",
       "      <td>8693.000000</td>\n",
       "      <td>8693.000000</td>\n",
       "      <td>8693.000000</td>\n",
       "      <td>8693.000000</td>\n",
       "      <td>8693.000000</td>\n",
       "      <td>8693.000000</td>\n",
       "      <td>8693.000000</td>\n",
       "      <td>8693.000000</td>\n",
       "      <td>8693.000000</td>\n",
       "      <td>8693.000000</td>\n",
       "      <td>8693.000000</td>\n",
       "      <td>8693.000000</td>\n",
       "      <td>8693.000000</td>\n",
       "      <td>8693.000000</td>\n",
       "      <td>8693.000000</td>\n",
       "      <td>8693.000000</td>\n",
       "      <td>8693.000000</td>\n",
       "      <td>8693.000000</td>\n",
       "    </tr>\n",
       "    <tr>\n",
       "      <th>mean</th>\n",
       "      <td>4347.000000</td>\n",
       "      <td>1.626711</td>\n",
       "      <td>-0.012457</td>\n",
       "      <td>3078.663407</td>\n",
       "      <td>2.431497</td>\n",
       "      <td>-0.001875</td>\n",
       "      <td>0.006155</td>\n",
       "      <td>-0.005811</td>\n",
       "      <td>-0.000839</td>\n",
       "      <td>0.006771</td>\n",
       "      <td>-0.007960</td>\n",
       "      <td>0.006567</td>\n",
       "      <td>4137.292649</td>\n",
       "      <td>0.503624</td>\n",
       "      <td>3112.468423</td>\n",
       "      <td>1.517773</td>\n",
       "      <td>5.183941</td>\n",
       "      <td>926.410790</td>\n",
       "      <td>1.470378</td>\n",
       "      <td>1.020591</td>\n",
       "      <td>1.020821</td>\n",
       "      <td>1.021051</td>\n",
       "      <td>1.023927</td>\n",
       "      <td>1.021051</td>\n",
       "      <td>1.021627</td>\n",
       "    </tr>\n",
       "    <tr>\n",
       "      <th>std</th>\n",
       "      <td>2509.597278</td>\n",
       "      <td>0.827623</td>\n",
       "      <td>0.993203</td>\n",
       "      <td>2008.847080</td>\n",
       "      <td>0.886083</td>\n",
       "      <td>0.997427</td>\n",
       "      <td>1.017904</td>\n",
       "      <td>0.964613</td>\n",
       "      <td>1.007765</td>\n",
       "      <td>1.013948</td>\n",
       "      <td>0.960896</td>\n",
       "      <td>1.025476</td>\n",
       "      <td>2499.751656</td>\n",
       "      <td>0.500016</td>\n",
       "      <td>1797.308796</td>\n",
       "      <td>1.054241</td>\n",
       "      <td>1.928570</td>\n",
       "      <td>518.416607</td>\n",
       "      <td>0.543084</td>\n",
       "      <td>0.142020</td>\n",
       "      <td>0.142794</td>\n",
       "      <td>0.143564</td>\n",
       "      <td>0.152832</td>\n",
       "      <td>0.143564</td>\n",
       "      <td>0.145469</td>\n",
       "    </tr>\n",
       "    <tr>\n",
       "      <th>min</th>\n",
       "      <td>1.000000</td>\n",
       "      <td>0.000000</td>\n",
       "      <td>-0.749109</td>\n",
       "      <td>0.000000</td>\n",
       "      <td>0.000000</td>\n",
       "      <td>-2.004205</td>\n",
       "      <td>-0.206029</td>\n",
       "      <td>-0.327109</td>\n",
       "      <td>-0.284032</td>\n",
       "      <td>-0.280746</td>\n",
       "      <td>-0.267988</td>\n",
       "      <td>-0.263122</td>\n",
       "      <td>0.000000</td>\n",
       "      <td>0.000000</td>\n",
       "      <td>1.000000</td>\n",
       "      <td>1.000000</td>\n",
       "      <td>0.000000</td>\n",
       "      <td>0.000000</td>\n",
       "      <td>0.000000</td>\n",
       "      <td>1.000000</td>\n",
       "      <td>1.000000</td>\n",
       "      <td>1.000000</td>\n",
       "      <td>1.000000</td>\n",
       "      <td>1.000000</td>\n",
       "      <td>1.000000</td>\n",
       "    </tr>\n",
       "    <tr>\n",
       "      <th>25%</th>\n",
       "      <td>2174.000000</td>\n",
       "      <td>1.000000</td>\n",
       "      <td>-0.749109</td>\n",
       "      <td>1185.000000</td>\n",
       "      <td>2.000000</td>\n",
       "      <td>-0.613229</td>\n",
       "      <td>-0.206029</td>\n",
       "      <td>-0.327109</td>\n",
       "      <td>-0.284032</td>\n",
       "      <td>-0.280746</td>\n",
       "      <td>-0.267988</td>\n",
       "      <td>-0.263122</td>\n",
       "      <td>1968.000000</td>\n",
       "      <td>0.000000</td>\n",
       "      <td>1553.000000</td>\n",
       "      <td>1.000000</td>\n",
       "      <td>4.000000</td>\n",
       "      <td>476.000000</td>\n",
       "      <td>1.000000</td>\n",
       "      <td>1.000000</td>\n",
       "      <td>1.000000</td>\n",
       "      <td>1.000000</td>\n",
       "      <td>1.000000</td>\n",
       "      <td>1.000000</td>\n",
       "      <td>1.000000</td>\n",
       "    </tr>\n",
       "    <tr>\n",
       "      <th>50%</th>\n",
       "      <td>4347.000000</td>\n",
       "      <td>1.000000</td>\n",
       "      <td>-0.749109</td>\n",
       "      <td>3045.000000</td>\n",
       "      <td>3.000000</td>\n",
       "      <td>-0.126388</td>\n",
       "      <td>-0.206029</td>\n",
       "      <td>-0.327109</td>\n",
       "      <td>-0.284032</td>\n",
       "      <td>-0.280746</td>\n",
       "      <td>-0.267988</td>\n",
       "      <td>-0.263122</td>\n",
       "      <td>4133.000000</td>\n",
       "      <td>1.000000</td>\n",
       "      <td>3116.000000</td>\n",
       "      <td>1.000000</td>\n",
       "      <td>6.000000</td>\n",
       "      <td>992.000000</td>\n",
       "      <td>1.000000</td>\n",
       "      <td>1.000000</td>\n",
       "      <td>1.000000</td>\n",
       "      <td>1.000000</td>\n",
       "      <td>1.000000</td>\n",
       "      <td>1.000000</td>\n",
       "      <td>1.000000</td>\n",
       "    </tr>\n",
       "    <tr>\n",
       "      <th>75%</th>\n",
       "      <td>6520.000000</td>\n",
       "      <td>2.000000</td>\n",
       "      <td>1.095811</td>\n",
       "      <td>4860.000000</td>\n",
       "      <td>3.000000</td>\n",
       "      <td>0.569100</td>\n",
       "      <td>-0.206029</td>\n",
       "      <td>-0.267233</td>\n",
       "      <td>-0.245510</td>\n",
       "      <td>-0.243444</td>\n",
       "      <td>-0.222742</td>\n",
       "      <td>-0.226954</td>\n",
       "      <td>6303.000000</td>\n",
       "      <td>1.000000</td>\n",
       "      <td>4631.000000</td>\n",
       "      <td>2.000000</td>\n",
       "      <td>7.000000</td>\n",
       "      <td>1328.000000</td>\n",
       "      <td>2.000000</td>\n",
       "      <td>1.000000</td>\n",
       "      <td>1.000000</td>\n",
       "      <td>1.000000</td>\n",
       "      <td>1.000000</td>\n",
       "      <td>1.000000</td>\n",
       "      <td>1.000000</td>\n",
       "    </tr>\n",
       "    <tr>\n",
       "      <th>max</th>\n",
       "      <td>8693.000000</td>\n",
       "      <td>3.000000</td>\n",
       "      <td>2.940731</td>\n",
       "      <td>6560.000000</td>\n",
       "      <td>3.000000</td>\n",
       "      <td>3.490149</td>\n",
       "      <td>5.891563</td>\n",
       "      <td>20.595846</td>\n",
       "      <td>18.543309</td>\n",
       "      <td>39.550979</td>\n",
       "      <td>18.861789</td>\n",
       "      <td>21.557912</td>\n",
       "      <td>8473.000000</td>\n",
       "      <td>1.000000</td>\n",
       "      <td>6217.000000</td>\n",
       "      <td>8.000000</td>\n",
       "      <td>8.000000</td>\n",
       "      <td>1817.000000</td>\n",
       "      <td>2.000000</td>\n",
       "      <td>2.000000</td>\n",
       "      <td>2.000000</td>\n",
       "      <td>2.000000</td>\n",
       "      <td>2.000000</td>\n",
       "      <td>2.000000</td>\n",
       "      <td>2.000000</td>\n",
       "    </tr>\n",
       "  </tbody>\n",
       "</table>\n",
       "</div>"
      ],
      "text/plain": [
       "       PassengerId   HomePlanet    CryoSleep        Cabin  Destination  \\\n",
       "count  8693.000000  8693.000000  8693.000000  8693.000000  8693.000000   \n",
       "mean   4347.000000     1.626711    -0.012457  3078.663407     2.431497   \n",
       "std    2509.597278     0.827623     0.993203  2008.847080     0.886083   \n",
       "min       1.000000     0.000000    -0.749109     0.000000     0.000000   \n",
       "25%    2174.000000     1.000000    -0.749109  1185.000000     2.000000   \n",
       "50%    4347.000000     1.000000    -0.749109  3045.000000     3.000000   \n",
       "75%    6520.000000     2.000000     1.095811  4860.000000     3.000000   \n",
       "max    8693.000000     3.000000     2.940731  6560.000000     3.000000   \n",
       "\n",
       "               Age          VIP  RoomService    FoodCourt  ShoppingMall  \\\n",
       "count  8693.000000  8693.000000  8693.000000  8693.000000   8693.000000   \n",
       "mean     -0.001875     0.006155    -0.005811    -0.000839      0.006771   \n",
       "std       0.997427     1.017904     0.964613     1.007765      1.013948   \n",
       "min      -2.004205    -0.206029    -0.327109    -0.284032     -0.280746   \n",
       "25%      -0.613229    -0.206029    -0.327109    -0.284032     -0.280746   \n",
       "50%      -0.126388    -0.206029    -0.327109    -0.284032     -0.280746   \n",
       "75%       0.569100    -0.206029    -0.267233    -0.245510     -0.243444   \n",
       "max       3.490149     5.891563    20.595846    18.543309     39.550979   \n",
       "\n",
       "               Spa       VRDeck         Name  Transported    group_num  \\\n",
       "count  8693.000000  8693.000000  8693.000000  8693.000000  8693.000000   \n",
       "mean     -0.007960     0.006567  4137.292649     0.503624  3112.468423   \n",
       "std       0.960896     1.025476  2499.751656     0.500016  1797.308796   \n",
       "min      -0.267988    -0.263122     0.000000     0.000000     1.000000   \n",
       "25%      -0.267988    -0.263122  1968.000000     0.000000  1553.000000   \n",
       "50%      -0.267988    -0.263122  4133.000000     1.000000  3116.000000   \n",
       "75%      -0.222742    -0.226954  6303.000000     1.000000  4631.000000   \n",
       "max      18.861789    21.557912  8473.000000     1.000000  6217.000000   \n",
       "\n",
       "        group_size         deck     room_num         side       Age_na  \\\n",
       "count  8693.000000  8693.000000  8693.000000  8693.000000  8693.000000   \n",
       "mean      1.517773     5.183941   926.410790     1.470378     1.020591   \n",
       "std       1.054241     1.928570   518.416607     0.543084     0.142020   \n",
       "min       1.000000     0.000000     0.000000     0.000000     1.000000   \n",
       "25%       1.000000     4.000000   476.000000     1.000000     1.000000   \n",
       "50%       1.000000     6.000000   992.000000     1.000000     1.000000   \n",
       "75%       2.000000     7.000000  1328.000000     2.000000     1.000000   \n",
       "max       8.000000     8.000000  1817.000000     2.000000     2.000000   \n",
       "\n",
       "       RoomService_na  FoodCourt_na  ShoppingMall_na       Spa_na    VRDeck_na  \n",
       "count     8693.000000   8693.000000      8693.000000  8693.000000  8693.000000  \n",
       "mean         1.020821      1.021051         1.023927     1.021051     1.021627  \n",
       "std          0.142794      0.143564         0.152832     0.143564     0.145469  \n",
       "min          1.000000      1.000000         1.000000     1.000000     1.000000  \n",
       "25%          1.000000      1.000000         1.000000     1.000000     1.000000  \n",
       "50%          1.000000      1.000000         1.000000     1.000000     1.000000  \n",
       "75%          1.000000      1.000000         1.000000     1.000000     1.000000  \n",
       "max          2.000000      2.000000         2.000000     2.000000     2.000000  "
      ]
     },
     "execution_count": 41,
     "metadata": {},
     "output_type": "execute_result"
    }
   ],
   "source": [
    "to.items.describe()"
   ]
  },
  {
   "attachments": {},
   "cell_type": "markdown",
   "metadata": {},
   "source": [
    "Assign our X values and Y value for training and validation"
   ]
  },
  {
   "cell_type": "code",
   "execution_count": 42,
   "metadata": {},
   "outputs": [],
   "source": [
    "xs, y = to.train.xs, to.train.y\n",
    "valid_xs, valid_y = to.valid.xs, to.valid.y"
   ]
  },
  {
   "cell_type": "code",
   "execution_count": 43,
   "metadata": {},
   "outputs": [
    {
     "name": "stderr",
     "output_type": "stream",
     "text": [
      "/tmp/ipykernel_14074/3888966817.py:2: FutureWarning: The default value of numeric_only in DataFrame.corr is deprecated. In a future version, it will default to False. Select only valid columns or specify the value of numeric_only to silence this warning.\n"
     ]
    },
    {
     "data": {
      "text/plain": [
       "<AxesSubplot: >"
      ]
     },
     "execution_count": 43,
     "metadata": {},
     "output_type": "execute_result"
    },
    {
     "data": {
      "image/png": "[encoded data removed]",
      "text/plain": [
       "<Figure size 1000x1000 with 2 Axes>"
      ]
     },
     "metadata": {},
     "output_type": "display_data"
    }
   ],
   "source": [
    "plt.figure(figsize=(10,10))\n",
    "sns.heatmap(df.corr(), annot=True)"
   ]
  },
  {
   "attachments": {},
   "cell_type": "markdown",
   "metadata": {},
   "source": [
    "### Decision Tree Classifier"
   ]
  },
  {
   "attachments": {},
   "cell_type": "markdown",
   "metadata": {},
   "source": [
    "Test a small tree with 4 leaf nodes"
   ]
  },
  {
   "cell_type": "code",
   "execution_count": 44,
   "metadata": {},
   "outputs": [],
   "source": [
    "m = DecisionTreeClassifier(max_leaf_nodes=4)\n",
    "m.fit(xs, y);"
   ]
  },
  {
   "cell_type": "code",
   "execution_count": 45,
   "metadata": {},
   "outputs": [
    {
     "data": {
      "image/svg+xml": "<?xml version=\"1.0\" encoding=\"UTF-8\" standalone=\"no\"?>\n<!DOCTYPE svg PUBLIC \"-//W3C//DTD SVG 1.1//EN\"\n \"http://www.w3.org/Graphics/SVG/1.1/DTD/svg11.dtd\">\n<!-- Generated by graphviz version 7.0.6 (20230107.1202)\n -->\n<!-- Title: Tree Pages: 1 -->\n<svg width=\"432pt\" height=\"262pt\"\n viewBox=\"0.00 0.00 432.00 261.72\" xmlns=\"http://www.w3.org/2000/svg\" xmlns:xlink=\"http://www.w3.org/1999/xlink\">\n<g id=\"graph0\" class=\"graph\" transform=\"scale(0.637168 0.637168) rotate(0) translate(4 406.75)\">\n<title>Tree</title>\n<polygon fill=\"white\" stroke=\"none\" points=\"-4,4 -4,-406.75 674,-406.75 674,4 -4,4\"/>\n<!-- 0 -->\n<g id=\"node1\" class=\"node\">\n<title>0</title>\n<path fill=\"#fcfdff\" stroke=\"black\" d=\"M410,-386C410,-386 267,-386 267,-386 261,-386 255,-380 255,-374 255,-374 255,-330 255,-330 255,-324 261,-318 267,-318 267,-318 410,-318 410,-318 416,-318 422,-324 422,-330 422,-330 422,-374 422,-374 422,-380 416,-386 410,-386\"/>\n<text text-anchor=\"start\" x=\"276.5\" y=\"-370.8\" font-family=\"Helvetica,sans-Serif\" font-size=\"14.00\">CryoSleep ≤ 0.17</text>\n<text text-anchor=\"start\" x=\"303.5\" y=\"-355.8\" font-family=\"Helvetica,sans-Serif\" font-size=\"14.00\">gini = 0.5</text>\n<text text-anchor=\"start\" x=\"281\" y=\"-340.8\" font-family=\"Helvetica,sans-Serif\" font-size=\"14.00\">samples = 6955</text>\n<text text-anchor=\"start\" x=\"263\" y=\"-325.8\" font-family=\"Helvetica,sans-Serif\" font-size=\"14.00\">value = [3449, 3506]</text>\n</g>\n<!-- 1 -->\n<g id=\"node2\" class=\"node\">\n<title>1</title>\n<path fill=\"#f2be99\" stroke=\"black\" d=\"M320,-230C320,-230 177,-230 177,-230 171,-230 165,-224 165,-218 165,-218 165,-174 165,-174 165,-168 171,-162 177,-162 177,-162 320,-162 320,-162 326,-162 332,-168 332,-174 332,-174 332,-218 332,-218 332,-224 326,-230 320,-230\"/>\n<text text-anchor=\"start\" x=\"206\" y=\"-214.8\" font-family=\"Helvetica,sans-Serif\" font-size=\"14.00\">Age ≤ &#45;1.13</text>\n<text text-anchor=\"start\" x=\"209\" y=\"-199.8\" font-family=\"Helvetica,sans-Serif\" font-size=\"14.00\">gini = 0.44</text>\n<text text-anchor=\"start\" x=\"191\" y=\"-184.8\" font-family=\"Helvetica,sans-Serif\" font-size=\"14.00\">samples = 4314</text>\n<text text-anchor=\"start\" x=\"173\" y=\"-169.8\" font-family=\"Helvetica,sans-Serif\" font-size=\"14.00\">value = [2905, 1409]</text>\n</g>\n<!-- 0&#45;&gt;1 -->\n<g id=\"edge1\" class=\"edge\">\n<title>0&#45;&gt;1</title>\n<path fill=\"none\" stroke=\"black\" d=\"M318.97,-317.58C305.7,-294.88 288.03,-264.64 273.7,-240.12\"/>\n<polygon fill=\"black\" stroke=\"black\" points=\"276.82,-238.52 268.75,-231.66 270.78,-242.06 276.82,-238.52\"/>\n<text text-anchor=\"middle\" x=\"261.65\" y=\"-250.83\" font-family=\"Helvetica,sans-Serif\" font-size=\"14.00\">True</text>\n</g>\n<!-- 2 -->\n<g id=\"node5\" class=\"node\">\n<title>2</title>\n<path fill=\"#6cb6ec\" stroke=\"black\" d=\"M496.5,-230C496.5,-230 362.5,-230 362.5,-230 356.5,-230 350.5,-224 350.5,-218 350.5,-218 350.5,-174 350.5,-174 350.5,-168 356.5,-162 362.5,-162 362.5,-162 496.5,-162 496.5,-162 502.5,-162 508.5,-168 508.5,-174 508.5,-174 508.5,-218 508.5,-218 508.5,-224 502.5,-230 496.5,-230\"/>\n<text text-anchor=\"start\" x=\"366\" y=\"-214.8\" font-family=\"Helvetica,sans-Serif\" font-size=\"14.00\">HomePlanet ≤ 1.5</text>\n<text text-anchor=\"start\" x=\"390\" y=\"-199.8\" font-family=\"Helvetica,sans-Serif\" font-size=\"14.00\">gini = 0.33</text>\n<text text-anchor=\"start\" x=\"372\" y=\"-184.8\" font-family=\"Helvetica,sans-Serif\" font-size=\"14.00\">samples = 2641</text>\n<text text-anchor=\"start\" x=\"358.5\" y=\"-169.8\" font-family=\"Helvetica,sans-Serif\" font-size=\"14.00\">value = [544, 2097]</text>\n</g>\n<!-- 0&#45;&gt;2 -->\n<g id=\"edge4\" class=\"edge\">\n<title>0&#45;&gt;2</title>\n<path fill=\"none\" stroke=\"black\" d=\"M358.25,-317.58C371.66,-294.88 389.53,-264.64 404.02,-240.12\"/>\n<polygon fill=\"black\" stroke=\"black\" points=\"406.95,-242.04 409.02,-231.65 400.92,-238.48 406.95,-242.04\"/>\n<text text-anchor=\"middle\" x=\"416.02\" y=\"-250.86\" font-family=\"Helvetica,sans-Serif\" font-size=\"14.00\">False</text>\n</g>\n<!-- 5 -->\n<g id=\"node3\" class=\"node\">\n<title>5</title>\n<path fill=\"#98ccf1\" stroke=\"black\" d=\"M137,-66.5C137,-66.5 12,-66.5 12,-66.5 6,-66.5 0,-60.5 0,-54.5 0,-54.5 0,-25.5 0,-25.5 0,-19.5 6,-13.5 12,-13.5 12,-13.5 137,-13.5 137,-13.5 143,-13.5 149,-19.5 149,-25.5 149,-25.5 149,-54.5 149,-54.5 149,-60.5 143,-66.5 137,-66.5\"/>\n<text text-anchor=\"start\" x=\"35\" y=\"-51.3\" font-family=\"Helvetica,sans-Serif\" font-size=\"14.00\">gini = 0.44</text>\n<text text-anchor=\"start\" x=\"21.5\" y=\"-36.3\" font-family=\"Helvetica,sans-Serif\" font-size=\"14.00\">samples = 327</text>\n<text text-anchor=\"start\" x=\"8\" y=\"-21.3\" font-family=\"Helvetica,sans-Serif\" font-size=\"14.00\">value = [106, 221]</text>\n</g>\n<!-- 1&#45;&gt;5 -->\n<g id=\"edge2\" class=\"edge\">\n<title>1&#45;&gt;5</title>\n<path fill=\"none\" stroke=\"black\" d=\"M210.74,-161.58C181.54,-135.74 141.3,-100.13 112.13,-74.31\"/>\n<polygon fill=\"black\" stroke=\"black\" points=\"114.78,-71.98 104.97,-67.97 110.14,-77.22 114.78,-71.98\"/>\n</g>\n<!-- 6 -->\n<g id=\"node4\" class=\"node\">\n<title>6</title>\n<path fill=\"#f0b68d\" stroke=\"black\" d=\"M322,-66.5C322,-66.5 179,-66.5 179,-66.5 173,-66.5 167,-60.5 167,-54.5 167,-54.5 167,-25.5 167,-25.5 167,-19.5 173,-13.5 179,-13.5 179,-13.5 322,-13.5 322,-13.5 328,-13.5 334,-19.5 334,-25.5 334,-25.5 334,-54.5 334,-54.5 334,-60.5 328,-66.5 322,-66.5\"/>\n<text text-anchor=\"start\" x=\"211\" y=\"-51.3\" font-family=\"Helvetica,sans-Serif\" font-size=\"14.00\">gini = 0.42</text>\n<text text-anchor=\"start\" x=\"193\" y=\"-36.3\" font-family=\"Helvetica,sans-Serif\" font-size=\"14.00\">samples = 3987</text>\n<text text-anchor=\"start\" x=\"175\" y=\"-21.3\" font-family=\"Helvetica,sans-Serif\" font-size=\"14.00\">value = [2799, 1188]</text>\n</g>\n<!-- 1&#45;&gt;6 -->\n<g id=\"edge3\" class=\"edge\">\n<title>1&#45;&gt;6</title>\n<path fill=\"none\" stroke=\"black\" d=\"M248.93,-161.58C249.25,-136.99 249.69,-103.56 250.02,-78.14\"/>\n<polygon fill=\"black\" stroke=\"black\" points=\"253.52,-78.28 250.15,-68.24 246.52,-78.19 253.52,-78.28\"/>\n</g>\n<!-- 3 -->\n<g id=\"node6\" class=\"node\">\n<title>3</title>\n<path fill=\"#a6d3f3\" stroke=\"black\" d=\"M491,-66.5C491,-66.5 366,-66.5 366,-66.5 360,-66.5 354,-60.5 354,-54.5 354,-54.5 354,-25.5 354,-25.5 354,-19.5 360,-13.5 366,-13.5 366,-13.5 491,-13.5 491,-13.5 497,-13.5 503,-19.5 503,-25.5 503,-25.5 503,-54.5 503,-54.5 503,-60.5 497,-66.5 491,-66.5\"/>\n<text text-anchor=\"start\" x=\"389\" y=\"-51.3\" font-family=\"Helvetica,sans-Serif\" font-size=\"14.00\">gini = 0.46</text>\n<text text-anchor=\"start\" x=\"371\" y=\"-36.3\" font-family=\"Helvetica,sans-Serif\" font-size=\"14.00\">samples = 1276</text>\n<text text-anchor=\"start\" x=\"362\" y=\"-21.3\" font-family=\"Helvetica,sans-Serif\" font-size=\"14.00\">value = [452, 824]</text>\n</g>\n<!-- 2&#45;&gt;3 -->\n<g id=\"edge5\" class=\"edge\">\n<title>2&#45;&gt;3</title>\n<path fill=\"none\" stroke=\"black\" d=\"M429.28,-161.58C429.12,-136.99 428.91,-103.56 428.74,-78.14\"/>\n<polygon fill=\"black\" stroke=\"black\" points=\"432.24,-78.22 428.68,-68.24 425.24,-78.26 432.24,-78.22\"/>\n</g>\n<!-- 4 -->\n<g id=\"node7\" class=\"node\">\n<title>4</title>\n<path fill=\"#47a4e7\" stroke=\"black\" d=\"M658,-66.5C658,-66.5 533,-66.5 533,-66.5 527,-66.5 521,-60.5 521,-54.5 521,-54.5 521,-25.5 521,-25.5 521,-19.5 527,-13.5 533,-13.5 533,-13.5 658,-13.5 658,-13.5 664,-13.5 670,-19.5 670,-25.5 670,-25.5 670,-54.5 670,-54.5 670,-60.5 664,-66.5 658,-66.5\"/>\n<text text-anchor=\"start\" x=\"556\" y=\"-51.3\" font-family=\"Helvetica,sans-Serif\" font-size=\"14.00\">gini = 0.13</text>\n<text text-anchor=\"start\" x=\"538\" y=\"-36.3\" font-family=\"Helvetica,sans-Serif\" font-size=\"14.00\">samples = 1365</text>\n<text text-anchor=\"start\" x=\"529\" y=\"-21.3\" font-family=\"Helvetica,sans-Serif\" font-size=\"14.00\">value = [92, 1273]</text>\n</g>\n<!-- 2&#45;&gt;4 -->\n<g id=\"edge6\" class=\"edge\">\n<title>2&#45;&gt;4</title>\n<path fill=\"none\" stroke=\"black\" d=\"M465.52,-161.58C493.26,-135.85 531.44,-100.43 559.24,-74.64\"/>\n<polygon fill=\"black\" stroke=\"black\" points=\"561.45,-77.36 566.4,-68 556.69,-72.23 561.45,-77.36\"/>\n</g>\n</g>\n</svg>\n",
      "text/plain": [
       "<graphviz.sources.Source at 0x7faf2d1aedd0>"
      ]
     },
     "execution_count": 45,
     "metadata": {},
     "output_type": "execute_result"
    }
   ],
   "source": [
    "draw_tree(m, xs, size=6, leaves_parallel=True, precision=2)"
   ]
  },
  {
   "attachments": {},
   "cell_type": "markdown",
   "metadata": {},
   "source": [
    "Have the model run predictions on the validation set for who would be transported"
   ]
  },
  {
   "cell_type": "code",
   "execution_count": 46,
   "metadata": {},
   "outputs": [],
   "source": [
    "y_pred = m.predict(valid_xs)"
   ]
  },
  {
   "cell_type": "code",
   "execution_count": 47,
   "metadata": {},
   "outputs": [
    {
     "data": {
      "text/plain": [
       "array([0, 1, 1, ..., 1, 0, 1], dtype=int8)"
      ]
     },
     "execution_count": 47,
     "metadata": {},
     "output_type": "execute_result"
    }
   ],
   "source": [
    "y_pred"
   ]
  },
  {
   "attachments": {},
   "cell_type": "markdown",
   "metadata": {},
   "source": [
    "Check how accurate our predictions were against the actual validation data"
   ]
  },
  {
   "cell_type": "code",
   "execution_count": 48,
   "metadata": {},
   "outputs": [
    {
     "data": {
      "text/plain": [
       "0.7307249712313003"
      ]
     },
     "execution_count": 48,
     "metadata": {},
     "output_type": "execute_result"
    }
   ],
   "source": [
    "accuracy = accuracy_score(valid_y, y_pred)\n",
    "accuracy"
   ]
  },
  {
   "cell_type": "code",
   "execution_count": 49,
   "metadata": {},
   "outputs": [],
   "source": [
    "samp_idx = np.random.permutation(len(y))[:500]"
   ]
  },
  {
   "cell_type": "code",
   "execution_count": 50,
   "metadata": {},
   "outputs": [],
   "source": [
    "viz_model = dtreeviz.model(m, X_train=xs.iloc[samp_idx], y_train=y.iloc[samp_idx], target_name=dep_var)"
   ]
  },
  {
   "cell_type": "code",
   "execution_count": 51,
   "metadata": {},
   "outputs": [
    {
     "name": "stderr",
     "output_type": "stream",
     "text": [
      "/home/petewin/mambaforge/lib/python3.10/site-packages/sklearn/base.py:409: UserWarning: X does not have valid feature names, but DecisionTreeClassifier was fitted with feature names\n"
     ]
    },
    {
     "data": {
      "image/svg+xml": "<svg xmlns=\"http://www.w3.org/2000/svg\" xmlns:dc=\"http://purl.org/dc/elements/1.1/\" xmlns:ns2=\"http://creativecommons.org/ns#\" xmlns:rdf=\"http://www.w3.org/1999/02/22-rdf-syntax-ns#\" xmlns:xlink=\"http://www.w3.org/1999/xlink\" width=\"617.4\" height=\"493.2\" viewBox=\"0.0 0.0 617.4 493.2\">\n<g id=\"graph0\" class=\"graph\" transform=\"scale(1.8 1.8) rotate(0) translate(4 270)\">\n<title>G</title>\n<polygon fill=\"white\" stroke=\"none\" points=\"-4,4 -4,-270 339,-270 339,4 -4,4\" />\n<g id=\"clust4\" class=\"cluster\">\n<title>cluster_legend</title>\n</g>\n\n<g id=\"node1\" class=\"node\">\n<title>node1</title>\n<svg width=\"150px\" height=\"36px\" viewBox=\"0 0 201.32 48.681875\" version=\"1.1\" preserveAspectRatio=\"xMinYMin meet\" x=\"4\" y=\"-144\">\n <metadata>\n  <rdf:RDF>\n   <ns2:Work>\n    <dc:type rdf:resource=\"http://purl.org/dc/dcmitype/StillImage\" />\n    <dc:date>2023-02-25T05:25:38.452819</dc:date>\n    <dc:format>image/svg+xml</dc:format>\n    <dc:creator>\n     <ns2:Agent>\n      <dc:title>Matplotlib v3.6.2, https://matplotlib.org/</dc:title>\n     </ns2:Agent>\n    </dc:creator>\n   </ns2:Work>\n  </rdf:RDF>\n </metadata>\n <defs>\n  <style type=\"text/css\">*{stroke-linejoin: round; stroke-linecap: butt}</style>\n </defs>\n <g id=\"figure_1\">\n  <g id=\"patch_1\">\n   <path d=\"M 0 48.681875  L 201.32 48.681875  L 201.32 0  L 0 0  z \" style=\"fill: #ffffff\" />\n  </g>\n  <g id=\"axes_1\">\n   <g id=\"patch_2\">\n    <path d=\"M 17.18 29.439375  L 201.32 29.439375  L 201.32 1.719375  L 17.18 1.719375  z \" style=\"fill: #ffffff\" />\n   </g>\n   <g id=\"patch_3\">\n    <path d=\"M 33.192174 29.439375  L 41.198261 29.439375  L 41.198261 28.339375  L 33.192174 28.339375  z \" clip-path=\"url(#pd969b552dd)\" style=\"fill: #fefebb; stroke: #444443; stroke-width: 0.5; stroke-linejoin: miter\" />\n   </g>\n   <g id=\"patch_4\">\n    <path d=\"M 41.198261 29.439375  L 49.204348 29.439375  L 49.204348 27.789375  L 41.198261 27.789375  z \" clip-path=\"url(#pd969b552dd)\" style=\"fill: #fefebb; stroke: #444443; stroke-width: 0.5; stroke-linejoin: miter\" />\n   </g>\n   <g id=\"patch_5\">\n    <path d=\"M 49.204348 29.439375  L 57.210435 29.439375  L 57.210435 28.889375  L 49.204348 28.889375  z \" clip-path=\"url(#pd969b552dd)\" style=\"fill: #fefebb; stroke: #444443; stroke-width: 0.5; stroke-linejoin: miter\" />\n   </g>\n   <g id=\"patch_6\">\n    <path d=\"M 57.210435 29.439375  L 65.216522 29.439375  L 65.216522 24.489375  L 57.210435 24.489375  z \" clip-path=\"url(#pd969b552dd)\" style=\"fill: #fefebb; stroke: #444443; stroke-width: 0.5; stroke-linejoin: miter\" />\n   </g>\n   <g id=\"patch_7\">\n    <path d=\"M 65.216522 29.439375  L 73.222609 29.439375  L 73.222609 14.589375  L 65.216522 14.589375  z \" clip-path=\"url(#pd969b552dd)\" style=\"fill: #fefebb; stroke: #444443; stroke-width: 0.5; stroke-linejoin: miter\" />\n   </g>\n   <g id=\"patch_8\">\n    <path d=\"M 73.222609 29.439375  L 81.228696 29.439375  L 81.228696 18.989375  L 73.222609 18.989375  z \" clip-path=\"url(#pd969b552dd)\" style=\"fill: #fefebb; stroke: #444443; stroke-width: 0.5; stroke-linejoin: miter\" />\n   </g>\n   <g id=\"patch_9\">\n    <path d=\"M 81.228696 29.439375  L 89.234783 29.439375  L 89.234783 12.939375  L 81.228696 12.939375  z \" clip-path=\"url(#pd969b552dd)\" style=\"fill: #fefebb; stroke: #444443; stroke-width: 0.5; stroke-linejoin: miter\" />\n   </g>\n   <g id=\"patch_10\">\n    <path d=\"M 89.234783 29.439375  L 97.24087 29.439375  L 97.24087 13.489375  L 89.234783 13.489375  z \" clip-path=\"url(#pd969b552dd)\" style=\"fill: #fefebb; stroke: #444443; stroke-width: 0.5; stroke-linejoin: miter\" />\n   </g>\n   <g id=\"patch_11\">\n    <path d=\"M 97.24087 29.439375  L 105.246957 29.439375  L 105.246957 21.189375  L 97.24087 21.189375  z \" clip-path=\"url(#pd969b552dd)\" style=\"fill: #fefebb; stroke: #444443; stroke-width: 0.5; stroke-linejoin: miter\" />\n   </g>\n   <g id=\"patch_12\">\n    <path d=\"M 105.246957 29.439375  L 113.253043 29.439375  L 113.253043 20.089375  L 105.246957 20.089375  z \" clip-path=\"url(#pd969b552dd)\" style=\"fill: #fefebb; stroke: #444443; stroke-width: 0.5; stroke-linejoin: miter\" />\n   </g>\n   <g id=\"patch_13\">\n    <path d=\"M 113.253043 29.439375  L 121.25913 29.439375  L 121.25913 23.939375  L 113.253043 23.939375  z \" clip-path=\"url(#pd969b552dd)\" style=\"fill: #fefebb; stroke: #444443; stroke-width: 0.5; stroke-linejoin: miter\" />\n   </g>\n   <g id=\"patch_14\">\n    <path d=\"M 121.25913 29.439375  L 129.265217 29.439375  L 129.265217 22.289375  L 121.25913 22.289375  z \" clip-path=\"url(#pd969b552dd)\" style=\"fill: #fefebb; stroke: #444443; stroke-width: 0.5; stroke-linejoin: miter\" />\n   </g>\n   <g id=\"patch_15\">\n    <path d=\"M 129.265217 29.439375  L 137.271304 29.439375  L 137.271304 22.839375  L 129.265217 22.839375  z \" clip-path=\"url(#pd969b552dd)\" style=\"fill: #fefebb; stroke: #444443; stroke-width: 0.5; stroke-linejoin: miter\" />\n   </g>\n   <g id=\"patch_16\">\n    <path d=\"M 137.271304 29.439375  L 145.277391 29.439375  L 145.277391 26.689375  L 137.271304 26.689375  z \" clip-path=\"url(#pd969b552dd)\" style=\"fill: #fefebb; stroke: #444443; stroke-width: 0.5; stroke-linejoin: miter\" />\n   </g>\n   <g id=\"patch_17\">\n    <path d=\"M 145.277391 29.439375  L 153.283478 29.439375  L 153.283478 26.139375  L 145.277391 26.139375  z \" clip-path=\"url(#pd969b552dd)\" style=\"fill: #fefebb; stroke: #444443; stroke-width: 0.5; stroke-linejoin: miter\" />\n   </g>\n   <g id=\"patch_18\">\n    <path d=\"M 153.283478 29.439375  L 161.289565 29.439375  L 161.289565 27.239375  L 153.283478 27.239375  z \" clip-path=\"url(#pd969b552dd)\" style=\"fill: #fefebb; stroke: #444443; stroke-width: 0.5; stroke-linejoin: miter\" />\n   </g>\n   <g id=\"patch_19\">\n    <path d=\"M 161.289565 29.439375  L 169.295652 29.439375  L 169.295652 27.789375  L 161.289565 27.789375  z \" clip-path=\"url(#pd969b552dd)\" style=\"fill: #fefebb; stroke: #444443; stroke-width: 0.5; stroke-linejoin: miter\" />\n   </g>\n   <g id=\"patch_20\">\n    <path d=\"M 169.295652 29.439375  L 177.301739 29.439375  L 177.301739 28.339375  L 169.295652 28.339375  z \" clip-path=\"url(#pd969b552dd)\" style=\"fill: #fefebb; stroke: #444443; stroke-width: 0.5; stroke-linejoin: miter\" />\n   </g>\n   <g id=\"patch_21\">\n    <path d=\"M 177.301739 29.439375  L 185.307826 29.439375  L 185.307826 29.439375  L 177.301739 29.439375  z \" clip-path=\"url(#pd969b552dd)\" style=\"fill: #fefebb; stroke: #444443; stroke-width: 0.5; stroke-linejoin: miter\" />\n   </g>\n   <g id=\"patch_22\">\n    <path d=\"M 33.192174 28.339375  L 41.198261 28.339375  L 41.198261 23.939375  L 33.192174 23.939375  z \" clip-path=\"url(#pd969b552dd)\" style=\"fill: #a1dab4; stroke: #444443; stroke-width: 0.5; stroke-linejoin: miter\" />\n   </g>\n   <g id=\"patch_23\">\n    <path d=\"M 41.198261 27.789375  L 49.204348 27.789375  L 49.204348 25.589375  L 41.198261 25.589375  z \" clip-path=\"url(#pd969b552dd)\" style=\"fill: #a1dab4; stroke: #444443; stroke-width: 0.5; stroke-linejoin: miter\" />\n   </g>\n   <g id=\"patch_24\">\n    <path d=\"M 49.204348 28.889375  L 57.210435 28.889375  L 57.210435 27.239375  L 49.204348 27.239375  z \" clip-path=\"url(#pd969b552dd)\" style=\"fill: #a1dab4; stroke: #444443; stroke-width: 0.5; stroke-linejoin: miter\" />\n   </g>\n   <g id=\"patch_25\">\n    <path d=\"M 57.210435 24.489375  L 65.216522 24.489375  L 65.216522 22.289375  L 57.210435 22.289375  z \" clip-path=\"url(#pd969b552dd)\" style=\"fill: #a1dab4; stroke: #444443; stroke-width: 0.5; stroke-linejoin: miter\" />\n   </g>\n   <g id=\"patch_26\">\n    <path d=\"M 65.216522 14.589375  L 73.222609 14.589375  L 73.222609 9.639375  L 65.216522 9.639375  z \" clip-path=\"url(#pd969b552dd)\" style=\"fill: #a1dab4; stroke: #444443; stroke-width: 0.5; stroke-linejoin: miter\" />\n   </g>\n   <g id=\"patch_27\">\n    <path d=\"M 73.222609 18.989375  L 81.228696 18.989375  L 81.228696 13.489375  L 73.222609 13.489375  z \" clip-path=\"url(#pd969b552dd)\" style=\"fill: #a1dab4; stroke: #444443; stroke-width: 0.5; stroke-linejoin: miter\" />\n   </g>\n   <g id=\"patch_28\">\n    <path d=\"M 81.228696 12.939375  L 89.234783 12.939375  L 89.234783 3.039375  L 81.228696 3.039375  z \" clip-path=\"url(#pd969b552dd)\" style=\"fill: #a1dab4; stroke: #444443; stroke-width: 0.5; stroke-linejoin: miter\" />\n   </g>\n   <g id=\"patch_29\">\n    <path d=\"M 89.234783 13.489375  L 97.24087 13.489375  L 97.24087 9.639375  L 89.234783 9.639375  z \" clip-path=\"url(#pd969b552dd)\" style=\"fill: #a1dab4; stroke: #444443; stroke-width: 0.5; stroke-linejoin: miter\" />\n   </g>\n   <g id=\"patch_30\">\n    <path d=\"M 97.24087 21.189375  L 105.246957 21.189375  L 105.246957 17.339375  L 97.24087 17.339375  z \" clip-path=\"url(#pd969b552dd)\" style=\"fill: #a1dab4; stroke: #444443; stroke-width: 0.5; stroke-linejoin: miter\" />\n   </g>\n   <g id=\"patch_31\">\n    <path d=\"M 105.246957 20.089375  L 113.253043 20.089375  L 113.253043 16.239375  L 105.246957 16.239375  z \" clip-path=\"url(#pd969b552dd)\" style=\"fill: #a1dab4; stroke: #444443; stroke-width: 0.5; stroke-linejoin: miter\" />\n   </g>\n   <g id=\"patch_32\">\n    <path d=\"M 113.253043 23.939375  L 121.25913 23.939375  L 121.25913 20.089375  L 113.253043 20.089375  z \" clip-path=\"url(#pd969b552dd)\" style=\"fill: #a1dab4; stroke: #444443; stroke-width: 0.5; stroke-linejoin: miter\" />\n   </g>\n   <g id=\"patch_33\">\n    <path d=\"M 121.25913 22.289375  L 129.265217 22.289375  L 129.265217 20.639375  L 121.25913 20.639375  z \" clip-path=\"url(#pd969b552dd)\" style=\"fill: #a1dab4; stroke: #444443; stroke-width: 0.5; stroke-linejoin: miter\" />\n   </g>\n   <g id=\"patch_34\">\n    <path d=\"M 129.265217 22.839375  L 137.271304 22.839375  L 137.271304 20.639375  L 129.265217 20.639375  z \" clip-path=\"url(#pd969b552dd)\" style=\"fill: #a1dab4; stroke: #444443; stroke-width: 0.5; stroke-linejoin: miter\" />\n   </g>\n   <g id=\"patch_35\">\n    <path d=\"M 137.271304 26.689375  L 145.277391 26.689375  L 145.277391 26.139375  L 137.271304 26.139375  z \" clip-path=\"url(#pd969b552dd)\" style=\"fill: #a1dab4; stroke: #444443; stroke-width: 0.5; stroke-linejoin: miter\" />\n   </g>\n   <g id=\"patch_36\">\n    <path d=\"M 145.277391 26.139375  L 153.283478 26.139375  L 153.283478 25.039375  L 145.277391 25.039375  z \" clip-path=\"url(#pd969b552dd)\" style=\"fill: #a1dab4; stroke: #444443; stroke-width: 0.5; stroke-linejoin: miter\" />\n   </g>\n   <g id=\"patch_37\">\n    <path d=\"M 153.283478 27.239375  L 161.289565 27.239375  L 161.289565 26.689375  L 153.283478 26.689375  z \" clip-path=\"url(#pd969b552dd)\" style=\"fill: #a1dab4; stroke: #444443; stroke-width: 0.5; stroke-linejoin: miter\" />\n   </g>\n   <g id=\"patch_38\">\n    <path d=\"M 161.289565 27.789375  L 169.295652 27.789375  L 169.295652 27.789375  L 161.289565 27.789375  z \" clip-path=\"url(#pd969b552dd)\" style=\"fill: #a1dab4; stroke: #444443; stroke-width: 0.5; stroke-linejoin: miter\" />\n   </g>\n   <g id=\"patch_39\">\n    <path d=\"M 169.295652 28.339375  L 177.301739 28.339375  L 177.301739 28.339375  L 169.295652 28.339375  z \" clip-path=\"url(#pd969b552dd)\" style=\"fill: #a1dab4; stroke: #444443; stroke-width: 0.5; stroke-linejoin: miter\" />\n   </g>\n   <g id=\"patch_40\">\n    <path d=\"M 177.301739 29.439375  L 185.307826 29.439375  L 185.307826 29.439375  L 177.301739 29.439375  z \" clip-path=\"url(#pd969b552dd)\" style=\"fill: #a1dab4; stroke: #444443; stroke-width: 0.5; stroke-linejoin: miter\" />\n   </g>\n   <g id=\"patch_41\">\n    <path d=\"M 58.211196 30.270975  L 54.896676 38.586975  L 61.525716 38.586975  z \" style=\"fill: #444443\" />\n   </g>\n   <g id=\"matplotlib.axis_1\">\n    <g id=\"xtick_1\">\n     <g id=\"line2d_1\">\n      <defs>\n       <path id=\"mffcb6876ad\" d=\"M 0 0  L 0 3.5  \" style=\"stroke: #000000; stroke-width: 0.3\" />\n      </defs>\n      <g>\n       <use xlink:href=\"#mffcb6876ad\" x=\"33.192174\" y=\"29.439375\" style=\"stroke: #000000; stroke-width: 0.3\" />\n      </g>\n     </g>\n     <g id=\"text_1\">\n      \n      <g style=\"fill: #444443\" transform=\"translate(18.389049 47.018125) scale(0.08 -0.08)\">\n       <defs>\n        <path id=\"DejaVuSans-2212\" d=\"M 678 2272  L 4684 2272  L 4684 1741  L 678 1741  L 678 2272  z \" transform=\"scale(0.015625)\" />\n        <path id=\"DejaVuSans-32\" d=\"M 1228 531  L 3431 531  L 3431 0  L 469 0  L 469 531  Q 828 903 1448 1529  Q 2069 2156 2228 2338  Q 2531 2678 2651 2914  Q 2772 3150 2772 3378  Q 2772 3750 2511 3984  Q 2250 4219 1831 4219  Q 1534 4219 1204 4116  Q 875 4013 500 3803  L 500 4441  Q 881 4594 1212 4672  Q 1544 4750 1819 4750  Q 2544 4750 2975 4387  Q 3406 4025 3406 3419  Q 3406 3131 3298 2873  Q 3191 2616 2906 2266  Q 2828 2175 2409 1742  Q 1991 1309 1228 531  z \" transform=\"scale(0.015625)\" />\n        <path id=\"DejaVuSans-2e\" d=\"M 684 794  L 1344 794  L 1344 0  L 684 0  L 684 794  z \" transform=\"scale(0.015625)\" />\n        <path id=\"DejaVuSans-30\" d=\"M 2034 4250  Q 1547 4250 1301 3770  Q 1056 3291 1056 2328  Q 1056 1369 1301 889  Q 1547 409 2034 409  Q 2525 409 2770 889  Q 3016 1369 3016 2328  Q 3016 3291 2770 3770  Q 2525 4250 2034 4250  z M 2034 4750  Q 2819 4750 3233 4129  Q 3647 3509 3647 2328  Q 3647 1150 3233 529  Q 2819 -91 2034 -91  Q 1250 -91 836 529  Q 422 1150 422 2328  Q 422 3509 836 4129  Q 1250 4750 2034 4750  z \" transform=\"scale(0.015625)\" />\n        <path id=\"DejaVuSans-34\" d=\"M 2419 4116  L 825 1625  L 2419 1625  L 2419 4116  z M 2253 4666  L 3047 4666  L 3047 1625  L 3713 1625  L 3713 1100  L 3047 1100  L 3047 0  L 2419 0  L 2419 1100  L 313 1100  L 313 1709  L 2253 4666  z \" transform=\"scale(0.015625)\" />\n       </defs>\n       <use xlink:href=\"#DejaVuSans-2212\" />\n       <use xlink:href=\"#DejaVuSans-32\" x=\"83.789062\" />\n       <use xlink:href=\"#DejaVuSans-2e\" x=\"147.412109\" />\n       <use xlink:href=\"#DejaVuSans-30\" x=\"179.199219\" />\n       <use xlink:href=\"#DejaVuSans-30\" x=\"242.822266\" />\n       <use xlink:href=\"#DejaVuSans-34\" x=\"306.445312\" />\n      </g>\n     </g>\n    </g>\n    <g id=\"xtick_2\">\n     <g id=\"line2d_2\">\n      <g>\n       <use xlink:href=\"#mffcb6876ad\" x=\"58.211196\" y=\"29.439375\" style=\"stroke: #000000; stroke-width: 0.3\" />\n      </g>\n     </g>\n     <g id=\"text_2\">\n      \n      <g style=\"fill: #444443\" transform=\"translate(43.408071 47.018125) scale(0.08 -0.08)\">\n       <defs>\n        <path id=\"DejaVuSans-31\" d=\"M 794 531  L 1825 531  L 1825 4091  L 703 3866  L 703 4441  L 1819 4666  L 2450 4666  L 2450 531  L 3481 531  L 3481 0  L 794 0  L 794 531  z \" transform=\"scale(0.015625)\" />\n        <path id=\"DejaVuSans-33\" d=\"M 2597 2516  Q 3050 2419 3304 2112  Q 3559 1806 3559 1356  Q 3559 666 3084 287  Q 2609 -91 1734 -91  Q 1441 -91 1130 -33  Q 819 25 488 141  L 488 750  Q 750 597 1062 519  Q 1375 441 1716 441  Q 2309 441 2620 675  Q 2931 909 2931 1356  Q 2931 1769 2642 2001  Q 2353 2234 1838 2234  L 1294 2234  L 1294 2753  L 1863 2753  Q 2328 2753 2575 2939  Q 2822 3125 2822 3475  Q 2822 3834 2567 4026  Q 2313 4219 1838 4219  Q 1578 4219 1281 4162  Q 984 4106 628 3988  L 628 4550  Q 988 4650 1302 4700  Q 1616 4750 1894 4750  Q 2613 4750 3031 4423  Q 3450 4097 3450 3541  Q 3450 3153 3228 2886  Q 3006 2619 2597 2516  z \" transform=\"scale(0.015625)\" />\n        <path id=\"DejaVuSans-35\" d=\"M 691 4666  L 3169 4666  L 3169 4134  L 1269 4134  L 1269 2991  Q 1406 3038 1543 3061  Q 1681 3084 1819 3084  Q 2600 3084 3056 2656  Q 3513 2228 3513 1497  Q 3513 744 3044 326  Q 2575 -91 1722 -91  Q 1428 -91 1123 -41  Q 819 9 494 109  L 494 744  Q 775 591 1075 516  Q 1375 441 1709 441  Q 2250 441 2565 725  Q 2881 1009 2881 1497  Q 2881 1984 2565 2268  Q 2250 2553 1709 2553  Q 1456 2553 1204 2497  Q 953 2441 691 2322  L 691 4666  z \" transform=\"scale(0.015625)\" />\n       </defs>\n       <use xlink:href=\"#DejaVuSans-2212\" />\n       <use xlink:href=\"#DejaVuSans-31\" x=\"83.789062\" />\n       <use xlink:href=\"#DejaVuSans-2e\" x=\"147.412109\" />\n       <use xlink:href=\"#DejaVuSans-31\" x=\"179.199219\" />\n       <use xlink:href=\"#DejaVuSans-33\" x=\"242.822266\" />\n       <use xlink:href=\"#DejaVuSans-35\" x=\"306.445312\" />\n      </g>\n     </g>\n    </g>\n    <g id=\"xtick_3\">\n     <g id=\"line2d_3\">\n      <g>\n       <use xlink:href=\"#mffcb6876ad\" x=\"185.307826\" y=\"29.439375\" style=\"stroke: #000000; stroke-width: 0.3\" />\n      </g>\n     </g>\n     <g id=\"text_3\">\n      \n      <g style=\"fill: #444443\" transform=\"translate(173.856576 47.018125) scale(0.08 -0.08)\">\n       <defs>\n        <path id=\"DejaVuSans-38\" d=\"M 2034 2216  Q 1584 2216 1326 1975  Q 1069 1734 1069 1313  Q 1069 891 1326 650  Q 1584 409 2034 409  Q 2484 409 2743 651  Q 3003 894 3003 1313  Q 3003 1734 2745 1975  Q 2488 2216 2034 2216  z M 1403 2484  Q 997 2584 770 2862  Q 544 3141 544 3541  Q 544 4100 942 4425  Q 1341 4750 2034 4750  Q 2731 4750 3128 4425  Q 3525 4100 3525 3541  Q 3525 3141 3298 2862  Q 3072 2584 2669 2484  Q 3125 2378 3379 2068  Q 3634 1759 3634 1313  Q 3634 634 3220 271  Q 2806 -91 2034 -91  Q 1263 -91 848 271  Q 434 634 434 1313  Q 434 1759 690 2068  Q 947 2378 1403 2484  z M 1172 3481  Q 1172 3119 1398 2916  Q 1625 2713 2034 2713  Q 2441 2713 2670 2916  Q 2900 3119 2900 3481  Q 2900 3844 2670 4047  Q 2441 4250 2034 4250  Q 1625 4250 1398 4047  Q 1172 3844 1172 3481  z \" transform=\"scale(0.015625)\" />\n       </defs>\n       <use xlink:href=\"#DejaVuSans-33\" />\n       <use xlink:href=\"#DejaVuSans-2e\" x=\"63.623047\" />\n       <use xlink:href=\"#DejaVuSans-32\" x=\"95.410156\" />\n       <use xlink:href=\"#DejaVuSans-38\" x=\"159.033203\" />\n       <use xlink:href=\"#DejaVuSans-32\" x=\"222.65625\" />\n      </g>\n     </g>\n    </g>\n   </g>\n   <g id=\"matplotlib.axis_2\">\n    <g id=\"ytick_1\">\n     <g id=\"line2d_4\">\n      <defs>\n       <path id=\"ma5d180f735\" d=\"M 0 0  L -3.5 0  \" style=\"stroke: #000000; stroke-width: 0.3\" />\n      </defs>\n      <g>\n       <use xlink:href=\"#ma5d180f735\" x=\"17.18\" y=\"29.439375\" style=\"stroke: #000000; stroke-width: 0.3\" />\n      </g>\n     </g>\n     <g id=\"text_4\">\n      \n      <g style=\"fill: #444443\" transform=\"translate(5.09 32.47875) scale(0.08 -0.08)\">\n       <use xlink:href=\"#DejaVuSans-30\" />\n      </g>\n     </g>\n    </g>\n    <g id=\"ytick_2\">\n     <g id=\"line2d_5\">\n      <g>\n       <use xlink:href=\"#ma5d180f735\" x=\"17.18\" y=\"3.039375\" style=\"stroke: #000000; stroke-width: 0.3\" />\n      </g>\n     </g>\n     <g id=\"text_5\">\n      \n      <g style=\"fill: #444443\" transform=\"translate(0 6.07875) scale(0.08 -0.08)\">\n       <use xlink:href=\"#DejaVuSans-34\" />\n       <use xlink:href=\"#DejaVuSans-38\" x=\"63.623047\" />\n      </g>\n     </g>\n    </g>\n   </g>\n   <g id=\"patch_42\">\n    <path d=\"M 17.18 29.439375  L 17.18 1.719375  \" style=\"fill: none; stroke: #444443; stroke-width: 0.3; stroke-linejoin: miter; stroke-linecap: square\" />\n   </g>\n   <g id=\"patch_43\">\n    <path d=\"M 17.18 29.439375  L 201.32 29.439375  \" style=\"fill: none; stroke: #444443; stroke-width: 0.3; stroke-linejoin: miter; stroke-linecap: square\" />\n   </g>\n  </g>\n </g>\n <defs>\n  <clipPath id=\"pd969b552dd\">\n   <rect x=\"17.18\" y=\"1.719375\" width=\"184.14\" height=\"27.72\" />\n  </clipPath>\n </defs>\n</svg></g>\n\n<g id=\"node2\" class=\"node\">\n<title>node2</title>\n<svg width=\"150px\" height=\"42px\" viewBox=\"0 0 201.32 57.211106\" version=\"1.1\" preserveAspectRatio=\"xMinYMin meet\" x=\"176\" y=\"-147\">\n <metadata>\n  <rdf:RDF>\n   <ns2:Work>\n    <dc:type rdf:resource=\"http://purl.org/dc/dcmitype/StillImage\" />\n    <dc:date>2023-02-25T05:25:38.532407</dc:date>\n    <dc:format>image/svg+xml</dc:format>\n    <dc:creator>\n     <ns2:Agent>\n      <dc:title>Matplotlib v3.6.2, https://matplotlib.org/</dc:title>\n     </ns2:Agent>\n    </dc:creator>\n   </ns2:Work>\n  </rdf:RDF>\n </metadata>\n <defs>\n  <style type=\"text/css\">*{stroke-linejoin: round; stroke-linecap: butt}</style>\n </defs>\n <g id=\"figure_1\">\n  <g id=\"patch_1\">\n   <path d=\"M 0 57.211106  L 201.32 57.211106  L 201.32 0  L 0 0  z \" style=\"fill: #ffffff\" />\n  </g>\n  <g id=\"axes_1\">\n   <g id=\"patch_2\">\n    <path d=\"M 17.18 37.968606  L 201.32 37.968606  L 201.32 1.292913  L 17.18 1.292913  z \" style=\"fill: #ffffff\" />\n   </g>\n   <g id=\"patch_3\">\n    <path d=\"M 33.192174 37.968606  L 41.198261 37.968606  L 41.198261 37.136957  L 33.192174 37.136957  z \" clip-path=\"url(#p9807cf13ab)\" style=\"fill: #fefebb; stroke: #444443; stroke-width: 0.5; stroke-linejoin: miter\" />\n   </g>\n   <g id=\"patch_4\">\n    <path d=\"M 41.198261 37.968606  L 49.204348 37.968606  L 49.204348 37.968606  L 41.198261 37.968606  z \" clip-path=\"url(#p9807cf13ab)\" style=\"fill: #fefebb; stroke: #444443; stroke-width: 0.5; stroke-linejoin: miter\" />\n   </g>\n   <g id=\"patch_5\">\n    <path d=\"M 49.204348 37.968606  L 57.210435 37.968606  L 57.210435 37.968606  L 49.204348 37.968606  z \" clip-path=\"url(#p9807cf13ab)\" style=\"fill: #fefebb; stroke: #444443; stroke-width: 0.5; stroke-linejoin: miter\" />\n   </g>\n   <g id=\"patch_6\">\n    <path d=\"M 57.210435 37.968606  L 65.216522 37.968606  L 65.216522 37.968606  L 57.210435 37.968606  z \" clip-path=\"url(#p9807cf13ab)\" style=\"fill: #fefebb; stroke: #444443; stroke-width: 0.5; stroke-linejoin: miter\" />\n   </g>\n   <g id=\"patch_7\">\n    <path d=\"M 65.216522 37.968606  L 73.222609 37.968606  L 73.222609 37.968606  L 65.216522 37.968606  z \" clip-path=\"url(#p9807cf13ab)\" style=\"fill: #fefebb; stroke: #444443; stroke-width: 0.5; stroke-linejoin: miter\" />\n   </g>\n   <g id=\"patch_8\">\n    <path d=\"M 73.222609 37.968606  L 81.228696 37.968606  L 81.228696 37.968606  L 73.222609 37.968606  z \" clip-path=\"url(#p9807cf13ab)\" style=\"fill: #fefebb; stroke: #444443; stroke-width: 0.5; stroke-linejoin: miter\" />\n   </g>\n   <g id=\"patch_9\">\n    <path d=\"M 81.228696 37.968606  L 89.234783 37.968606  L 89.234783 25.078056  L 81.228696 25.078056  z \" clip-path=\"url(#p9807cf13ab)\" style=\"fill: #fefebb; stroke: #444443; stroke-width: 0.5; stroke-linejoin: miter\" />\n   </g>\n   <g id=\"patch_10\">\n    <path d=\"M 89.234783 37.968606  L 97.24087 37.968606  L 97.24087 37.968606  L 89.234783 37.968606  z \" clip-path=\"url(#p9807cf13ab)\" style=\"fill: #fefebb; stroke: #444443; stroke-width: 0.5; stroke-linejoin: miter\" />\n   </g>\n   <g id=\"patch_11\">\n    <path d=\"M 97.24087 37.968606  L 105.246957 37.968606  L 105.246957 37.968606  L 97.24087 37.968606  z \" clip-path=\"url(#p9807cf13ab)\" style=\"fill: #fefebb; stroke: #444443; stroke-width: 0.5; stroke-linejoin: miter\" />\n   </g>\n   <g id=\"patch_12\">\n    <path d=\"M 105.246957 37.968606  L 113.253043 37.968606  L 113.253043 37.968606  L 105.246957 37.968606  z \" clip-path=\"url(#p9807cf13ab)\" style=\"fill: #fefebb; stroke: #444443; stroke-width: 0.5; stroke-linejoin: miter\" />\n   </g>\n   <g id=\"patch_13\">\n    <path d=\"M 113.253043 37.968606  L 121.25913 37.968606  L 121.25913 37.968606  L 113.253043 37.968606  z \" clip-path=\"url(#p9807cf13ab)\" style=\"fill: #fefebb; stroke: #444443; stroke-width: 0.5; stroke-linejoin: miter\" />\n   </g>\n   <g id=\"patch_14\">\n    <path d=\"M 121.25913 37.968606  L 129.265217 37.968606  L 129.265217 37.968606  L 121.25913 37.968606  z \" clip-path=\"url(#p9807cf13ab)\" style=\"fill: #fefebb; stroke: #444443; stroke-width: 0.5; stroke-linejoin: miter\" />\n   </g>\n   <g id=\"patch_15\">\n    <path d=\"M 129.265217 37.968606  L 137.271304 37.968606  L 137.271304 37.136957  L 129.265217 37.136957  z \" clip-path=\"url(#p9807cf13ab)\" style=\"fill: #fefebb; stroke: #444443; stroke-width: 0.5; stroke-linejoin: miter\" />\n   </g>\n   <g id=\"patch_16\">\n    <path d=\"M 137.271304 37.968606  L 145.277391 37.968606  L 145.277391 37.968606  L 137.271304 37.968606  z \" clip-path=\"url(#p9807cf13ab)\" style=\"fill: #fefebb; stroke: #444443; stroke-width: 0.5; stroke-linejoin: miter\" />\n   </g>\n   <g id=\"patch_17\">\n    <path d=\"M 145.277391 37.968606  L 153.283478 37.968606  L 153.283478 37.968606  L 145.277391 37.968606  z \" clip-path=\"url(#p9807cf13ab)\" style=\"fill: #fefebb; stroke: #444443; stroke-width: 0.5; stroke-linejoin: miter\" />\n   </g>\n   <g id=\"patch_18\">\n    <path d=\"M 153.283478 37.968606  L 161.289565 37.968606  L 161.289565 37.968606  L 153.283478 37.968606  z \" clip-path=\"url(#p9807cf13ab)\" style=\"fill: #fefebb; stroke: #444443; stroke-width: 0.5; stroke-linejoin: miter\" />\n   </g>\n   <g id=\"patch_19\">\n    <path d=\"M 161.289565 37.968606  L 169.295652 37.968606  L 169.295652 37.968606  L 161.289565 37.968606  z \" clip-path=\"url(#p9807cf13ab)\" style=\"fill: #fefebb; stroke: #444443; stroke-width: 0.5; stroke-linejoin: miter\" />\n   </g>\n   <g id=\"patch_20\">\n    <path d=\"M 169.295652 37.968606  L 177.301739 37.968606  L 177.301739 37.968606  L 169.295652 37.968606  z \" clip-path=\"url(#p9807cf13ab)\" style=\"fill: #fefebb; stroke: #444443; stroke-width: 0.5; stroke-linejoin: miter\" />\n   </g>\n   <g id=\"patch_21\">\n    <path d=\"M 177.301739 37.968606  L 185.307826 37.968606  L 185.307826 35.889485  L 177.301739 35.889485  z \" clip-path=\"url(#p9807cf13ab)\" style=\"fill: #fefebb; stroke: #444443; stroke-width: 0.5; stroke-linejoin: miter\" />\n   </g>\n   <g id=\"patch_22\">\n    <path d=\"M 33.192174 37.136957  L 41.198261 37.136957  L 41.198261 34.226188  L 33.192174 34.226188  z \" clip-path=\"url(#p9807cf13ab)\" style=\"fill: #a1dab4; stroke: #444443; stroke-width: 0.5; stroke-linejoin: miter\" />\n   </g>\n   <g id=\"patch_23\">\n    <path d=\"M 41.198261 37.968606  L 49.204348 37.968606  L 49.204348 37.968606  L 41.198261 37.968606  z \" clip-path=\"url(#p9807cf13ab)\" style=\"fill: #a1dab4; stroke: #444443; stroke-width: 0.5; stroke-linejoin: miter\" />\n   </g>\n   <g id=\"patch_24\">\n    <path d=\"M 49.204348 37.968606  L 57.210435 37.968606  L 57.210435 37.968606  L 49.204348 37.968606  z \" clip-path=\"url(#p9807cf13ab)\" style=\"fill: #a1dab4; stroke: #444443; stroke-width: 0.5; stroke-linejoin: miter\" />\n   </g>\n   <g id=\"patch_25\">\n    <path d=\"M 57.210435 37.968606  L 65.216522 37.968606  L 65.216522 37.968606  L 57.210435 37.968606  z \" clip-path=\"url(#p9807cf13ab)\" style=\"fill: #a1dab4; stroke: #444443; stroke-width: 0.5; stroke-linejoin: miter\" />\n   </g>\n   <g id=\"patch_26\">\n    <path d=\"M 65.216522 37.968606  L 73.222609 37.968606  L 73.222609 37.968606  L 65.216522 37.968606  z \" clip-path=\"url(#p9807cf13ab)\" style=\"fill: #a1dab4; stroke: #444443; stroke-width: 0.5; stroke-linejoin: miter\" />\n   </g>\n   <g id=\"patch_27\">\n    <path d=\"M 73.222609 37.968606  L 81.228696 37.968606  L 81.228696 37.968606  L 73.222609 37.968606  z \" clip-path=\"url(#p9807cf13ab)\" style=\"fill: #a1dab4; stroke: #444443; stroke-width: 0.5; stroke-linejoin: miter\" />\n   </g>\n   <g id=\"patch_28\">\n    <path d=\"M 81.228696 25.078056  L 89.234783 25.078056  L 89.234783 3.039375  L 81.228696 3.039375  z \" clip-path=\"url(#p9807cf13ab)\" style=\"fill: #a1dab4; stroke: #444443; stroke-width: 0.5; stroke-linejoin: miter\" />\n   </g>\n   <g id=\"patch_29\">\n    <path d=\"M 89.234783 37.968606  L 97.24087 37.968606  L 97.24087 37.968606  L 89.234783 37.968606  z \" clip-path=\"url(#p9807cf13ab)\" style=\"fill: #a1dab4; stroke: #444443; stroke-width: 0.5; stroke-linejoin: miter\" />\n   </g>\n   <g id=\"patch_30\">\n    <path d=\"M 97.24087 37.968606  L 105.246957 37.968606  L 105.246957 37.968606  L 97.24087 37.968606  z \" clip-path=\"url(#p9807cf13ab)\" style=\"fill: #a1dab4; stroke: #444443; stroke-width: 0.5; stroke-linejoin: miter\" />\n   </g>\n   <g id=\"patch_31\">\n    <path d=\"M 105.246957 37.968606  L 113.253043 37.968606  L 113.253043 37.968606  L 105.246957 37.968606  z \" clip-path=\"url(#p9807cf13ab)\" style=\"fill: #a1dab4; stroke: #444443; stroke-width: 0.5; stroke-linejoin: miter\" />\n   </g>\n   <g id=\"patch_32\">\n    <path d=\"M 113.253043 37.968606  L 121.25913 37.968606  L 121.25913 37.968606  L 113.253043 37.968606  z \" clip-path=\"url(#p9807cf13ab)\" style=\"fill: #a1dab4; stroke: #444443; stroke-width: 0.5; stroke-linejoin: miter\" />\n   </g>\n   <g id=\"patch_33\">\n    <path d=\"M 121.25913 37.968606  L 129.265217 37.968606  L 129.265217 37.968606  L 121.25913 37.968606  z \" clip-path=\"url(#p9807cf13ab)\" style=\"fill: #a1dab4; stroke: #444443; stroke-width: 0.5; stroke-linejoin: miter\" />\n   </g>\n   <g id=\"patch_34\">\n    <path d=\"M 129.265217 37.136957  L 137.271304 37.136957  L 137.271304 12.187507  L 129.265217 12.187507  z \" clip-path=\"url(#p9807cf13ab)\" style=\"fill: #a1dab4; stroke: #444443; stroke-width: 0.5; stroke-linejoin: miter\" />\n   </g>\n   <g id=\"patch_35\">\n    <path d=\"M 137.271304 37.968606  L 145.277391 37.968606  L 145.277391 37.968606  L 137.271304 37.968606  z \" clip-path=\"url(#p9807cf13ab)\" style=\"fill: #a1dab4; stroke: #444443; stroke-width: 0.5; stroke-linejoin: miter\" />\n   </g>\n   <g id=\"patch_36\">\n    <path d=\"M 145.277391 37.968606  L 153.283478 37.968606  L 153.283478 37.968606  L 145.277391 37.968606  z \" clip-path=\"url(#p9807cf13ab)\" style=\"fill: #a1dab4; stroke: #444443; stroke-width: 0.5; stroke-linejoin: miter\" />\n   </g>\n   <g id=\"patch_37\">\n    <path d=\"M 153.283478 37.968606  L 161.289565 37.968606  L 161.289565 37.968606  L 153.283478 37.968606  z \" clip-path=\"url(#p9807cf13ab)\" style=\"fill: #a1dab4; stroke: #444443; stroke-width: 0.5; stroke-linejoin: miter\" />\n   </g>\n   <g id=\"patch_38\">\n    <path d=\"M 161.289565 37.968606  L 169.295652 37.968606  L 169.295652 37.968606  L 161.289565 37.968606  z \" clip-path=\"url(#p9807cf13ab)\" style=\"fill: #a1dab4; stroke: #444443; stroke-width: 0.5; stroke-linejoin: miter\" />\n   </g>\n   <g id=\"patch_39\">\n    <path d=\"M 169.295652 37.968606  L 177.301739 37.968606  L 177.301739 37.968606  L 169.295652 37.968606  z \" clip-path=\"url(#p9807cf13ab)\" style=\"fill: #a1dab4; stroke: #444443; stroke-width: 0.5; stroke-linejoin: miter\" />\n   </g>\n   <g id=\"patch_40\">\n    <path d=\"M 177.301739 35.889485  L 185.307826 35.889485  L 185.307826 20.088166  L 177.301739 20.088166  z \" clip-path=\"url(#p9807cf13ab)\" style=\"fill: #a1dab4; stroke: #444443; stroke-width: 0.5; stroke-linejoin: miter\" />\n   </g>\n   <g id=\"patch_41\">\n    <path d=\"M 109.25 38.800206  L 105.93548 47.116206  L 112.56452 47.116206  z \" style=\"fill: #444443\" />\n   </g>\n   <g id=\"matplotlib.axis_1\">\n    <g id=\"xtick_1\">\n     <g id=\"line2d_1\">\n      <defs>\n       <path id=\"m233153e93c\" d=\"M 0 0  L 0 3.5  \" style=\"stroke: #000000; stroke-width: 0.3\" />\n      </defs>\n      <g>\n       <use xlink:href=\"#m233153e93c\" x=\"33.192174\" y=\"37.968606\" style=\"stroke: #000000; stroke-width: 0.3\" />\n      </g>\n     </g>\n     <g id=\"text_1\">\n      \n      <g style=\"fill: #444443\" transform=\"translate(26.830924 55.547356) scale(0.08 -0.08)\">\n       <defs>\n        <path id=\"DejaVuSans-30\" d=\"M 2034 4250  Q 1547 4250 1301 3770  Q 1056 3291 1056 2328  Q 1056 1369 1301 889  Q 1547 409 2034 409  Q 2525 409 2770 889  Q 3016 1369 3016 2328  Q 3016 3291 2770 3770  Q 2525 4250 2034 4250  z M 2034 4750  Q 2819 4750 3233 4129  Q 3647 3509 3647 2328  Q 3647 1150 3233 529  Q 2819 -91 2034 -91  Q 1250 -91 836 529  Q 422 1150 422 2328  Q 422 3509 836 4129  Q 1250 4750 2034 4750  z \" transform=\"scale(0.015625)\" />\n        <path id=\"DejaVuSans-2e\" d=\"M 684 794  L 1344 794  L 1344 0  L 684 0  L 684 794  z \" transform=\"scale(0.015625)\" />\n       </defs>\n       <use xlink:href=\"#DejaVuSans-30\" />\n       <use xlink:href=\"#DejaVuSans-2e\" x=\"63.623047\" />\n       <use xlink:href=\"#DejaVuSans-30\" x=\"95.410156\" />\n      </g>\n     </g>\n    </g>\n    <g id=\"xtick_2\">\n     <g id=\"line2d_2\">\n      <g>\n       <use xlink:href=\"#m233153e93c\" x=\"109.25\" y=\"37.968606\" style=\"stroke: #000000; stroke-width: 0.3\" />\n      </g>\n     </g>\n     <g id=\"text_2\">\n      \n      <g style=\"fill: #444443\" transform=\"translate(102.88875 55.547356) scale(0.08 -0.08)\">\n       <defs>\n        <path id=\"DejaVuSans-31\" d=\"M 794 531  L 1825 531  L 1825 4091  L 703 3866  L 703 4441  L 1819 4666  L 2450 4666  L 2450 531  L 3481 531  L 3481 0  L 794 0  L 794 531  z \" transform=\"scale(0.015625)\" />\n        <path id=\"DejaVuSans-35\" d=\"M 691 4666  L 3169 4666  L 3169 4134  L 1269 4134  L 1269 2991  Q 1406 3038 1543 3061  Q 1681 3084 1819 3084  Q 2600 3084 3056 2656  Q 3513 2228 3513 1497  Q 3513 744 3044 326  Q 2575 -91 1722 -91  Q 1428 -91 1123 -41  Q 819 9 494 109  L 494 744  Q 775 591 1075 516  Q 1375 441 1709 441  Q 2250 441 2565 725  Q 2881 1009 2881 1497  Q 2881 1984 2565 2268  Q 2250 2553 1709 2553  Q 1456 2553 1204 2497  Q 953 2441 691 2322  L 691 4666  z \" transform=\"scale(0.015625)\" />\n       </defs>\n       <use xlink:href=\"#DejaVuSans-31\" />\n       <use xlink:href=\"#DejaVuSans-2e\" x=\"63.623047\" />\n       <use xlink:href=\"#DejaVuSans-35\" x=\"95.410156\" />\n      </g>\n     </g>\n    </g>\n    <g id=\"xtick_3\">\n     <g id=\"line2d_3\">\n      <g>\n       <use xlink:href=\"#m233153e93c\" x=\"185.307826\" y=\"37.968606\" style=\"stroke: #000000; stroke-width: 0.3\" />\n      </g>\n     </g>\n     <g id=\"text_3\">\n      \n      <g style=\"fill: #444443\" transform=\"translate(178.946576 55.547356) scale(0.08 -0.08)\">\n       <defs>\n        <path id=\"DejaVuSans-33\" d=\"M 2597 2516  Q 3050 2419 3304 2112  Q 3559 1806 3559 1356  Q 3559 666 3084 287  Q 2609 -91 1734 -91  Q 1441 -91 1130 -33  Q 819 25 488 141  L 488 750  Q 750 597 1062 519  Q 1375 441 1716 441  Q 2309 441 2620 675  Q 2931 909 2931 1356  Q 2931 1769 2642 2001  Q 2353 2234 1838 2234  L 1294 2234  L 1294 2753  L 1863 2753  Q 2328 2753 2575 2939  Q 2822 3125 2822 3475  Q 2822 3834 2567 4026  Q 2313 4219 1838 4219  Q 1578 4219 1281 4162  Q 984 4106 628 3988  L 628 4550  Q 988 4650 1302 4700  Q 1616 4750 1894 4750  Q 2613 4750 3031 4423  Q 3450 4097 3450 3541  Q 3450 3153 3228 2886  Q 3006 2619 2597 2516  z \" transform=\"scale(0.015625)\" />\n       </defs>\n       <use xlink:href=\"#DejaVuSans-33\" />\n       <use xlink:href=\"#DejaVuSans-2e\" x=\"63.623047\" />\n       <use xlink:href=\"#DejaVuSans-30\" x=\"95.410156\" />\n      </g>\n     </g>\n    </g>\n   </g>\n   <g id=\"matplotlib.axis_2\">\n    <g id=\"ytick_1\">\n     <g id=\"line2d_4\">\n      <defs>\n       <path id=\"md9ca7096cc\" d=\"M 0 0  L -3.5 0  \" style=\"stroke: #000000; stroke-width: 0.3\" />\n      </defs>\n      <g>\n       <use xlink:href=\"#md9ca7096cc\" x=\"17.18\" y=\"37.968606\" style=\"stroke: #000000; stroke-width: 0.3\" />\n      </g>\n     </g>\n     <g id=\"text_4\">\n      \n      <g style=\"fill: #444443\" transform=\"translate(5.09 41.007981) scale(0.08 -0.08)\">\n       <use xlink:href=\"#DejaVuSans-30\" />\n      </g>\n     </g>\n    </g>\n    <g id=\"ytick_2\">\n     <g id=\"line2d_5\">\n      <g>\n       <use xlink:href=\"#md9ca7096cc\" x=\"17.18\" y=\"3.039375\" style=\"stroke: #000000; stroke-width: 0.3\" />\n      </g>\n     </g>\n     <g id=\"text_5\">\n      \n      <g style=\"fill: #444443\" transform=\"translate(0 6.07875) scale(0.08 -0.08)\">\n       <defs>\n        <path id=\"DejaVuSans-38\" d=\"M 2034 2216  Q 1584 2216 1326 1975  Q 1069 1734 1069 1313  Q 1069 891 1326 650  Q 1584 409 2034 409  Q 2484 409 2743 651  Q 3003 894 3003 1313  Q 3003 1734 2745 1975  Q 2488 2216 2034 2216  z M 1403 2484  Q 997 2584 770 2862  Q 544 3141 544 3541  Q 544 4100 942 4425  Q 1341 4750 2034 4750  Q 2731 4750 3128 4425  Q 3525 4100 3525 3541  Q 3525 3141 3298 2862  Q 3072 2584 2669 2484  Q 3125 2378 3379 2068  Q 3634 1759 3634 1313  Q 3634 634 3220 271  Q 2806 -91 2034 -91  Q 1263 -91 848 271  Q 434 634 434 1313  Q 434 1759 690 2068  Q 947 2378 1403 2484  z M 1172 3481  Q 1172 3119 1398 2916  Q 1625 2713 2034 2713  Q 2441 2713 2670 2916  Q 2900 3119 2900 3481  Q 2900 3844 2670 4047  Q 2441 4250 2034 4250  Q 1625 4250 1398 4047  Q 1172 3844 1172 3481  z \" transform=\"scale(0.015625)\" />\n        <path id=\"DejaVuSans-34\" d=\"M 2419 4116  L 825 1625  L 2419 1625  L 2419 4116  z M 2253 4666  L 3047 4666  L 3047 1625  L 3713 1625  L 3713 1100  L 3047 1100  L 3047 0  L 2419 0  L 2419 1100  L 313 1100  L 313 1709  L 2253 4666  z \" transform=\"scale(0.015625)\" />\n       </defs>\n       <use xlink:href=\"#DejaVuSans-38\" />\n       <use xlink:href=\"#DejaVuSans-34\" x=\"63.623047\" />\n      </g>\n     </g>\n    </g>\n   </g>\n   <g id=\"patch_42\">\n    <path d=\"M 17.18 37.968606  L 17.18 1.292913  \" style=\"fill: none; stroke: #444443; stroke-width: 0.3; stroke-linejoin: miter; stroke-linecap: square\" />\n   </g>\n   <g id=\"patch_43\">\n    <path d=\"M 17.18 37.968606  L 201.32 37.968606  \" style=\"fill: none; stroke: #444443; stroke-width: 0.3; stroke-linejoin: miter; stroke-linecap: square\" />\n   </g>\n  </g>\n </g>\n <defs>\n  <clipPath id=\"p9807cf13ab\">\n   <rect x=\"17.18\" y=\"1.292913\" width=\"184.14\" height=\"36.675692\" />\n  </clipPath>\n </defs>\n</svg></g>\n\n\n<g id=\"node4\" class=\"node\">\n<title>leaf5</title>\n<polygon fill=\"none\" stroke=\"#444443\" stroke-width=\"0\" points=\"48.5,-67 13.5,-67 13.5,-17 48.5,-17 48.5,-67\" />\n<svg width=\"27px\" height=\"42px\" viewBox=\"0 0 36.343999 56.586103\" version=\"1.1\" preserveAspectRatio=\"xMinYMin meet\" x=\"18\" y=\"-63\">\n <metadata>\n  <rdf:RDF>\n   <ns2:Work>\n    <dc:type rdf:resource=\"http://purl.org/dc/dcmitype/StillImage\" />\n    <dc:date>2023-02-25T05:25:38.664587</dc:date>\n    <dc:format>image/svg+xml</dc:format>\n    <dc:creator>\n     <ns2:Agent>\n      <dc:title>Matplotlib v3.6.2, https://matplotlib.org/</dc:title>\n     </ns2:Agent>\n    </dc:creator>\n   </ns2:Work>\n  </rdf:RDF>\n </metadata>\n <defs>\n  <style type=\"text/css\">*{stroke-linejoin: round; stroke-linecap: butt}</style>\n </defs>\n <g id=\"figure_1\">\n  <g id=\"patch_1\">\n   <path d=\"M -0 56.586103  L 36.343999 56.586103  L 36.343999 0  L -0 0  z \" style=\"fill: #ffffff\" />\n  </g>\n  <g id=\"axes_1\">\n   <g id=\"patch_2\">\n    <path d=\"M 36.343999 18.171999  C 36.343999 15.071116 35.550294 12.021233 34.038712 9.313726  C 32.52713 6.606219 30.347392 4.330148 27.707745 2.702961  C 25.068098 1.075775 22.055367 0.150997 18.957382 0.016979  C 15.859397 -0.11704 12.77806 0.54411 10.007753 1.937262  L 18.171999 18.171999  L 36.343999 18.171999  z \" style=\"fill: #fefebb; stroke: #444443; stroke-width: 0.5; stroke-linejoin: miter\" />\n   </g>\n   <g id=\"patch_3\">\n    <path d=\"M 10.007753 1.937262  C 7.118511 3.390226 4.668842 5.588471 2.912688 8.304121  C 1.156534 11.01977 0.156751 14.155626 0.016979 17.386615  C -0.122794 20.617604 0.602448 23.828085 2.117523 26.685247  C 3.632598 29.542409 5.883279 31.943991 8.636252 33.641037  C 11.389226 35.338082 14.54596 36.269851 17.779215 36.339753  C 21.01247 36.409656 24.206525 35.61519 27.030272 34.038712  C 29.854018 32.462234 32.206391 30.160169 33.843535 27.371158  C 35.480679 24.582146 36.343999 21.40601 36.343999 18.171999  L 18.171999 18.171999  L 10.007753 1.937262  z \" style=\"fill: #a1dab4; stroke: #444443; stroke-width: 0.5; stroke-linejoin: miter\" />\n   </g>\n   <g id=\"text_1\">\n    \n    <g style=\"fill: #444443\" transform=\"translate(5.823014 44.636353) scale(0.09 -0.09)\">\n     <defs>\n      <path id=\"DejaVuSans-6e\" d=\"M 3513 2113  L 3513 0  L 2938 0  L 2938 2094  Q 2938 2591 2744 2837  Q 2550 3084 2163 3084  Q 1697 3084 1428 2787  Q 1159 2491 1159 1978  L 1159 0  L 581 0  L 581 3500  L 1159 3500  L 1159 2956  Q 1366 3272 1645 3428  Q 1925 3584 2291 3584  Q 2894 3584 3203 3211  Q 3513 2838 3513 2113  z \" transform=\"scale(0.015625)\" />\n      <path id=\"DejaVuSans-3d\" d=\"M 678 2906  L 4684 2906  L 4684 2381  L 678 2381  L 678 2906  z M 678 1631  L 4684 1631  L 4684 1100  L 678 1100  L 678 1631  z \" transform=\"scale(0.015625)\" />\n      <path id=\"DejaVuSans-32\" d=\"M 1228 531  L 3431 531  L 3431 0  L 469 0  L 469 531  Q 828 903 1448 1529  Q 2069 2156 2228 2338  Q 2531 2678 2651 2914  Q 2772 3150 2772 3378  Q 2772 3750 2511 3984  Q 2250 4219 1831 4219  Q 1534 4219 1204 4116  Q 875 4013 500 3803  L 500 4441  Q 881 4594 1212 4672  Q 1544 4750 1819 4750  Q 2544 4750 2975 4387  Q 3406 4025 3406 3419  Q 3406 3131 3298 2873  Q 3191 2616 2906 2266  Q 2828 2175 2409 1742  Q 1991 1309 1228 531  z \" transform=\"scale(0.015625)\" />\n     </defs>\n     <use xlink:href=\"#DejaVuSans-6e\" />\n     <use xlink:href=\"#DejaVuSans-3d\" x=\"63.378906\" />\n     <use xlink:href=\"#DejaVuSans-32\" x=\"147.167969\" />\n     <use xlink:href=\"#DejaVuSans-32\" x=\"210.791016\" />\n    </g>\n    \n    <g style=\"fill: #444443\" transform=\"translate(2.040202 54.714384) scale(0.09 -0.09)\">\n     <defs>\n      <path id=\"DejaVuSans-43\" d=\"M 4122 4306  L 4122 3641  Q 3803 3938 3442 4084  Q 3081 4231 2675 4231  Q 1875 4231 1450 3742  Q 1025 3253 1025 2328  Q 1025 1406 1450 917  Q 1875 428 2675 428  Q 3081 428 3442 575  Q 3803 722 4122 1019  L 4122 359  Q 3791 134 3420 21  Q 3050 -91 2638 -91  Q 1578 -91 968 557  Q 359 1206 359 2328  Q 359 3453 968 4101  Q 1578 4750 2638 4750  Q 3056 4750 3426 4639  Q 3797 4528 4122 4306  z \" transform=\"scale(0.015625)\" />\n      <path id=\"DejaVuSans-6c\" d=\"M 603 4863  L 1178 4863  L 1178 0  L 603 0  L 603 4863  z \" transform=\"scale(0.015625)\" />\n      <path id=\"DejaVuSans-61\" d=\"M 2194 1759  Q 1497 1759 1228 1600  Q 959 1441 959 1056  Q 959 750 1161 570  Q 1363 391 1709 391  Q 2188 391 2477 730  Q 2766 1069 2766 1631  L 2766 1759  L 2194 1759  z M 3341 1997  L 3341 0  L 2766 0  L 2766 531  Q 2569 213 2275 61  Q 1981 -91 1556 -91  Q 1019 -91 701 211  Q 384 513 384 1019  Q 384 1609 779 1909  Q 1175 2209 1959 2209  L 2766 2209  L 2766 2266  Q 2766 2663 2505 2880  Q 2244 3097 1772 3097  Q 1472 3097 1187 3025  Q 903 2953 641 2809  L 641 3341  Q 956 3463 1253 3523  Q 1550 3584 1831 3584  Q 2591 3584 2966 3190  Q 3341 2797 3341 1997  z \" transform=\"scale(0.015625)\" />\n      <path id=\"DejaVuSans-73\" d=\"M 2834 3397  L 2834 2853  Q 2591 2978 2328 3040  Q 2066 3103 1784 3103  Q 1356 3103 1142 2972  Q 928 2841 928 2578  Q 928 2378 1081 2264  Q 1234 2150 1697 2047  L 1894 2003  Q 2506 1872 2764 1633  Q 3022 1394 3022 966  Q 3022 478 2636 193  Q 2250 -91 1575 -91  Q 1294 -91 989 -36  Q 684 19 347 128  L 347 722  Q 666 556 975 473  Q 1284 391 1588 391  Q 1994 391 2212 530  Q 2431 669 2431 922  Q 2431 1156 2273 1281  Q 2116 1406 1581 1522  L 1381 1569  Q 847 1681 609 1914  Q 372 2147 372 2553  Q 372 3047 722 3315  Q 1072 3584 1716 3584  Q 2034 3584 2315 3537  Q 2597 3491 2834 3397  z \" transform=\"scale(0.015625)\" />\n      <path id=\"DejaVuSans-20\" transform=\"scale(0.015625)\" />\n      <path id=\"DejaVuSans-31\" d=\"M 794 531  L 1825 531  L 1825 4091  L 703 3866  L 703 4441  L 1819 4666  L 2450 4666  L 2450 531  L 3481 531  L 3481 0  L 794 0  L 794 531  z \" transform=\"scale(0.015625)\" />\n     </defs>\n     <use xlink:href=\"#DejaVuSans-43\" />\n     <use xlink:href=\"#DejaVuSans-6c\" x=\"69.824219\" />\n     <use xlink:href=\"#DejaVuSans-61\" x=\"97.607422\" />\n     <use xlink:href=\"#DejaVuSans-73\" x=\"158.886719\" />\n     <use xlink:href=\"#DejaVuSans-73\" x=\"210.986328\" />\n     <use xlink:href=\"#DejaVuSans-20\" x=\"263.085938\" />\n     <use xlink:href=\"#DejaVuSans-31\" x=\"294.873047\" />\n    </g>\n   </g>\n  </g>\n </g>\n</svg></g>\n\n<g id=\"edge1\" class=\"edge\">\n<title>node1-&gt;leaf5</title>\n<path fill=\"none\" stroke=\"#444443\" stroke-width=\"0.3\" d=\"M66.89,-104.31C60.9,-94.08 53.59,-81.59 47.13,-70.56\" />\n<polygon fill=\"#444443\" stroke=\"#444443\" stroke-width=\"0.3\" points=\"48.44,-70.02 45.21,-67.27 46.02,-71.43 48.44,-70.02\" />\n</g>\n\n<g id=\"node5\" class=\"node\">\n<title>leaf6</title>\n<polygon fill=\"none\" stroke=\"#444443\" stroke-width=\"0\" points=\"130,-84 62,-84 62,0 130,0 130,-84\" />\n<svg width=\"60px\" height=\"76px\" viewBox=\"0 0 80.079917 102.071525\" version=\"1.1\" preserveAspectRatio=\"xMinYMin meet\" x=\"66\" y=\"-80\">\n <metadata>\n  <rdf:RDF>\n   <ns2:Work>\n    <dc:type rdf:resource=\"http://purl.org/dc/dcmitype/StillImage\" />\n    <dc:date>2023-02-25T05:25:38.692537</dc:date>\n    <dc:format>image/svg+xml</dc:format>\n    <dc:creator>\n     <ns2:Agent>\n      <dc:title>Matplotlib v3.6.2, https://matplotlib.org/</dc:title>\n     </ns2:Agent>\n    </dc:creator>\n   </ns2:Work>\n  </rdf:RDF>\n </metadata>\n <defs>\n  <style type=\"text/css\">*{stroke-linejoin: round; stroke-linecap: butt}</style>\n </defs>\n <g id=\"figure_1\">\n  <g id=\"patch_1\">\n   <path d=\"M 0 102.071525  L 80.079917 102.071525  L 80.079917 0  L 0 0  z \" style=\"fill: #ffffff\" />\n  </g>\n  <g id=\"axes_1\">\n   <g id=\"patch_2\">\n    <path d=\"M 80.079917 40.039981  C 80.079917 32.634685 78.025531 25.372563 74.146204 19.064691  C 70.266877 12.75682 64.712616 7.647113 58.103754 4.306252  C 51.494891 0.965391 44.086979 -0.477438 36.707376 0.138907  C 29.327773 0.755252 22.261835 3.406939 16.298728 7.797811  C 10.33562 12.188684 5.705925 18.148956 2.926713 25.012949  C 0.147502 31.876942 -0.673759 39.379239 0.554654 46.681938  C 1.783067 53.984637 5.013653 60.805358 9.885603 66.382322  C 14.757552 71.959286 21.082474 76.076843 28.153966 78.275119  L 40.039917 40.039981  L 80.079917 40.039981  z \" style=\"fill: #fefebb; stroke: #444443; stroke-width: 0.5; stroke-linejoin: miter\" />\n   </g>\n   <g id=\"patch_3\">\n    <path d=\"M 28.153966 78.275119  C 34.146346 80.137938 40.493569 80.566201 46.681874 79.525245  C 52.870179 78.484288 58.727971 76.002976 63.781106 72.282152  C 68.834242 68.561327 72.942602 63.704166 75.773646 58.103818  C 78.604691 52.50347 80.079917 46.315227 80.079917 40.039981  L 40.039917 40.039981  L 28.153966 78.275119  z \" style=\"fill: #a1dab4; stroke: #444443; stroke-width: 0.5; stroke-linejoin: miter\" />\n   </g>\n   <g id=\"text_1\">\n    \n    <g style=\"fill: #444443\" transform=\"translate(24.827808 90.121775) scale(0.09 -0.09)\">\n     <defs>\n      <path id=\"DejaVuSans-6e\" d=\"M 3513 2113  L 3513 0  L 2938 0  L 2938 2094  Q 2938 2591 2744 2837  Q 2550 3084 2163 3084  Q 1697 3084 1428 2787  Q 1159 2491 1159 1978  L 1159 0  L 581 0  L 581 3500  L 1159 3500  L 1159 2956  Q 1366 3272 1645 3428  Q 1925 3584 2291 3584  Q 2894 3584 3203 3211  Q 3513 2838 3513 2113  z \" transform=\"scale(0.015625)\" />\n      <path id=\"DejaVuSans-3d\" d=\"M 678 2906  L 4684 2906  L 4684 2381  L 678 2381  L 678 2906  z M 678 1631  L 4684 1631  L 4684 1100  L 678 1100  L 678 1631  z \" transform=\"scale(0.015625)\" />\n      <path id=\"DejaVuSans-32\" d=\"M 1228 531  L 3431 531  L 3431 0  L 469 0  L 469 531  Q 828 903 1448 1529  Q 2069 2156 2228 2338  Q 2531 2678 2651 2914  Q 2772 3150 2772 3378  Q 2772 3750 2511 3984  Q 2250 4219 1831 4219  Q 1534 4219 1204 4116  Q 875 4013 500 3803  L 500 4441  Q 881 4594 1212 4672  Q 1544 4750 1819 4750  Q 2544 4750 2975 4387  Q 3406 4025 3406 3419  Q 3406 3131 3298 2873  Q 3191 2616 2906 2266  Q 2828 2175 2409 1742  Q 1991 1309 1228 531  z \" transform=\"scale(0.015625)\" />\n      <path id=\"DejaVuSans-38\" d=\"M 2034 2216  Q 1584 2216 1326 1975  Q 1069 1734 1069 1313  Q 1069 891 1326 650  Q 1584 409 2034 409  Q 2484 409 2743 651  Q 3003 894 3003 1313  Q 3003 1734 2745 1975  Q 2488 2216 2034 2216  z M 1403 2484  Q 997 2584 770 2862  Q 544 3141 544 3541  Q 544 4100 942 4425  Q 1341 4750 2034 4750  Q 2731 4750 3128 4425  Q 3525 4100 3525 3541  Q 3525 3141 3298 2862  Q 3072 2584 2669 2484  Q 3125 2378 3379 2068  Q 3634 1759 3634 1313  Q 3634 634 3220 271  Q 2806 -91 2034 -91  Q 1263 -91 848 271  Q 434 634 434 1313  Q 434 1759 690 2068  Q 947 2378 1403 2484  z M 1172 3481  Q 1172 3119 1398 2916  Q 1625 2713 2034 2713  Q 2441 2713 2670 2916  Q 2900 3119 2900 3481  Q 2900 3844 2670 4047  Q 2441 4250 2034 4250  Q 1625 4250 1398 4047  Q 1172 3844 1172 3481  z \" transform=\"scale(0.015625)\" />\n      <path id=\"DejaVuSans-30\" d=\"M 2034 4250  Q 1547 4250 1301 3770  Q 1056 3291 1056 2328  Q 1056 1369 1301 889  Q 1547 409 2034 409  Q 2525 409 2770 889  Q 3016 1369 3016 2328  Q 3016 3291 2770 3770  Q 2525 4250 2034 4250  z M 2034 4750  Q 2819 4750 3233 4129  Q 3647 3509 3647 2328  Q 3647 1150 3233 529  Q 2819 -91 2034 -91  Q 1250 -91 836 529  Q 422 1150 422 2328  Q 422 3509 836 4129  Q 1250 4750 2034 4750  z \" transform=\"scale(0.015625)\" />\n     </defs>\n     <use xlink:href=\"#DejaVuSans-6e\" />\n     <use xlink:href=\"#DejaVuSans-3d\" x=\"63.378906\" />\n     <use xlink:href=\"#DejaVuSans-32\" x=\"147.167969\" />\n     <use xlink:href=\"#DejaVuSans-38\" x=\"210.791016\" />\n     <use xlink:href=\"#DejaVuSans-30\" x=\"274.414062\" />\n    </g>\n    \n    <g style=\"fill: #444443\" transform=\"translate(23.90812 100.199806) scale(0.09 -0.09)\">\n     <defs>\n      <path id=\"DejaVuSans-43\" d=\"M 4122 4306  L 4122 3641  Q 3803 3938 3442 4084  Q 3081 4231 2675 4231  Q 1875 4231 1450 3742  Q 1025 3253 1025 2328  Q 1025 1406 1450 917  Q 1875 428 2675 428  Q 3081 428 3442 575  Q 3803 722 4122 1019  L 4122 359  Q 3791 134 3420 21  Q 3050 -91 2638 -91  Q 1578 -91 968 557  Q 359 1206 359 2328  Q 359 3453 968 4101  Q 1578 4750 2638 4750  Q 3056 4750 3426 4639  Q 3797 4528 4122 4306  z \" transform=\"scale(0.015625)\" />\n      <path id=\"DejaVuSans-6c\" d=\"M 603 4863  L 1178 4863  L 1178 0  L 603 0  L 603 4863  z \" transform=\"scale(0.015625)\" />\n      <path id=\"DejaVuSans-61\" d=\"M 2194 1759  Q 1497 1759 1228 1600  Q 959 1441 959 1056  Q 959 750 1161 570  Q 1363 391 1709 391  Q 2188 391 2477 730  Q 2766 1069 2766 1631  L 2766 1759  L 2194 1759  z M 3341 1997  L 3341 0  L 2766 0  L 2766 531  Q 2569 213 2275 61  Q 1981 -91 1556 -91  Q 1019 -91 701 211  Q 384 513 384 1019  Q 384 1609 779 1909  Q 1175 2209 1959 2209  L 2766 2209  L 2766 2266  Q 2766 2663 2505 2880  Q 2244 3097 1772 3097  Q 1472 3097 1187 3025  Q 903 2953 641 2809  L 641 3341  Q 956 3463 1253 3523  Q 1550 3584 1831 3584  Q 2591 3584 2966 3190  Q 3341 2797 3341 1997  z \" transform=\"scale(0.015625)\" />\n      <path id=\"DejaVuSans-73\" d=\"M 2834 3397  L 2834 2853  Q 2591 2978 2328 3040  Q 2066 3103 1784 3103  Q 1356 3103 1142 2972  Q 928 2841 928 2578  Q 928 2378 1081 2264  Q 1234 2150 1697 2047  L 1894 2003  Q 2506 1872 2764 1633  Q 3022 1394 3022 966  Q 3022 478 2636 193  Q 2250 -91 1575 -91  Q 1294 -91 989 -36  Q 684 19 347 128  L 347 722  Q 666 556 975 473  Q 1284 391 1588 391  Q 1994 391 2212 530  Q 2431 669 2431 922  Q 2431 1156 2273 1281  Q 2116 1406 1581 1522  L 1381 1569  Q 847 1681 609 1914  Q 372 2147 372 2553  Q 372 3047 722 3315  Q 1072 3584 1716 3584  Q 2034 3584 2315 3537  Q 2597 3491 2834 3397  z \" transform=\"scale(0.015625)\" />\n      <path id=\"DejaVuSans-20\" transform=\"scale(0.015625)\" />\n     </defs>\n     <use xlink:href=\"#DejaVuSans-43\" />\n     <use xlink:href=\"#DejaVuSans-6c\" x=\"69.824219\" />\n     <use xlink:href=\"#DejaVuSans-61\" x=\"97.607422\" />\n     <use xlink:href=\"#DejaVuSans-73\" x=\"158.886719\" />\n     <use xlink:href=\"#DejaVuSans-73\" x=\"210.986328\" />\n     <use xlink:href=\"#DejaVuSans-20\" x=\"263.085938\" />\n     <use xlink:href=\"#DejaVuSans-30\" x=\"294.873047\" />\n    </g>\n   </g>\n  </g>\n </g>\n</svg></g>\n\n<g id=\"edge2\" class=\"edge\">\n<title>node1-&gt;leaf6</title>\n<path fill=\"none\" stroke=\"#444443\" stroke-width=\"0.3\" d=\"M83.29,-104.31C84.32,-99.32 85.47,-93.79 86.64,-88.16\" />\n<polygon fill=\"#444443\" stroke=\"#444443\" stroke-width=\"0.3\" points=\"88,-88.48 87.44,-84.28 85.26,-87.91 88,-88.48\" />\n</g>\n\n<g id=\"node6\" class=\"node\">\n<title>leaf3</title>\n<polygon fill=\"none\" stroke=\"#444443\" stroke-width=\"0\" points=\"245,-84 177,-84 177,0 245,0 245,-84\" />\n<svg width=\"60px\" height=\"76px\" viewBox=\"0 0 80.07998 102.071515\" version=\"1.1\" preserveAspectRatio=\"xMinYMin meet\" x=\"181\" y=\"-80\">\n <metadata>\n  <rdf:RDF>\n   <ns2:Work>\n    <dc:type rdf:resource=\"http://purl.org/dc/dcmitype/StillImage\" />\n    <dc:date>2023-02-25T05:25:38.720003</dc:date>\n    <dc:format>image/svg+xml</dc:format>\n    <dc:creator>\n     <ns2:Agent>\n      <dc:title>Matplotlib v3.6.2, https://matplotlib.org/</dc:title>\n     </ns2:Agent>\n    </dc:creator>\n   </ns2:Work>\n  </rdf:RDF>\n </metadata>\n <defs>\n  <style type=\"text/css\">*{stroke-linejoin: round; stroke-linecap: butt}</style>\n </defs>\n <g id=\"figure_1\">\n  <g id=\"patch_1\">\n   <path d=\"M -0 102.071515  L 80.07998 102.071515  L 80.07998 -0  L -0 -0  z \" style=\"fill: #ffffff\" />\n  </g>\n  <g id=\"axes_1\">\n   <g id=\"patch_2\">\n    <path d=\"M 80.07998 40.039971  C 80.07998 32.56597 77.987296 25.239179 74.039865 18.892646  C 70.092435 12.546113 64.445756 7.429844 57.74185 4.125554  C 51.037943 0.821263 43.540894 -0.540885 36.103109 0.193985  C 28.665323 0.928854 21.579793 3.731793 15.652137 8.28411  L 40.03998 40.039971  L 80.07998 40.039971  z \" style=\"fill: #fefebb; stroke: #444443; stroke-width: 0.5; stroke-linejoin: miter\" />\n   </g>\n   <g id=\"patch_3\">\n    <path d=\"M 15.652137 8.28411  C 10.254834 12.429126 6.002337 17.882523 3.297783 24.127316  C 0.593229 30.372109 -0.475127 37.204523 0.193993 43.976844  C 0.863114 50.749165 3.247877 57.240403 7.122208 62.835188  C 10.996538 68.429972 16.234011 72.945738 22.338113 75.954391  C 28.442215 78.963043 35.213762 80.366405 42.010809 80.031438  C 48.807856 79.696471 55.408607 77.634106 61.18731 74.039854  C 66.966012 70.445603 71.7341 65.43675 75.039558 59.488136  C 78.345015 53.539523 80.079981 46.84526 80.07998 40.039964  L 40.03998 40.039971  L 15.652137 8.28411  z \" style=\"fill: #a1dab4; stroke: #444443; stroke-width: 0.5; stroke-linejoin: miter\" />\n   </g>\n   <g id=\"text_1\">\n    \n    <g style=\"fill: #444443\" transform=\"translate(27.690995 90.121765) scale(0.09 -0.09)\">\n     <defs>\n      <path id=\"DejaVuSans-6e\" d=\"M 3513 2113  L 3513 0  L 2938 0  L 2938 2094  Q 2938 2591 2744 2837  Q 2550 3084 2163 3084  Q 1697 3084 1428 2787  Q 1159 2491 1159 1978  L 1159 0  L 581 0  L 581 3500  L 1159 3500  L 1159 2956  Q 1366 3272 1645 3428  Q 1925 3584 2291 3584  Q 2894 3584 3203 3211  Q 3513 2838 3513 2113  z \" transform=\"scale(0.015625)\" />\n      <path id=\"DejaVuSans-3d\" d=\"M 678 2906  L 4684 2906  L 4684 2381  L 678 2381  L 678 2906  z M 678 1631  L 4684 1631  L 4684 1100  L 678 1100  L 678 1631  z \" transform=\"scale(0.015625)\" />\n      <path id=\"DejaVuSans-39\" d=\"M 703 97  L 703 672  Q 941 559 1184 500  Q 1428 441 1663 441  Q 2288 441 2617 861  Q 2947 1281 2994 2138  Q 2813 1869 2534 1725  Q 2256 1581 1919 1581  Q 1219 1581 811 2004  Q 403 2428 403 3163  Q 403 3881 828 4315  Q 1253 4750 1959 4750  Q 2769 4750 3195 4129  Q 3622 3509 3622 2328  Q 3622 1225 3098 567  Q 2575 -91 1691 -91  Q 1453 -91 1209 -44  Q 966 3 703 97  z M 1959 2075  Q 2384 2075 2632 2365  Q 2881 2656 2881 3163  Q 2881 3666 2632 3958  Q 2384 4250 1959 4250  Q 1534 4250 1286 3958  Q 1038 3666 1038 3163  Q 1038 2656 1286 2365  Q 1534 2075 1959 2075  z \" transform=\"scale(0.015625)\" />\n      <path id=\"DejaVuSans-33\" d=\"M 2597 2516  Q 3050 2419 3304 2112  Q 3559 1806 3559 1356  Q 3559 666 3084 287  Q 2609 -91 1734 -91  Q 1441 -91 1130 -33  Q 819 25 488 141  L 488 750  Q 750 597 1062 519  Q 1375 441 1716 441  Q 2309 441 2620 675  Q 2931 909 2931 1356  Q 2931 1769 2642 2001  Q 2353 2234 1838 2234  L 1294 2234  L 1294 2753  L 1863 2753  Q 2328 2753 2575 2939  Q 2822 3125 2822 3475  Q 2822 3834 2567 4026  Q 2313 4219 1838 4219  Q 1578 4219 1281 4162  Q 984 4106 628 3988  L 628 4550  Q 988 4650 1302 4700  Q 1616 4750 1894 4750  Q 2613 4750 3031 4423  Q 3450 4097 3450 3541  Q 3450 3153 3228 2886  Q 3006 2619 2597 2516  z \" transform=\"scale(0.015625)\" />\n     </defs>\n     <use xlink:href=\"#DejaVuSans-6e\" />\n     <use xlink:href=\"#DejaVuSans-3d\" x=\"63.378906\" />\n     <use xlink:href=\"#DejaVuSans-39\" x=\"147.167969\" />\n     <use xlink:href=\"#DejaVuSans-33\" x=\"210.791016\" />\n    </g>\n    \n    <g style=\"fill: #444443\" transform=\"translate(23.908183 100.199796) scale(0.09 -0.09)\">\n     <defs>\n      <path id=\"DejaVuSans-43\" d=\"M 4122 4306  L 4122 3641  Q 3803 3938 3442 4084  Q 3081 4231 2675 4231  Q 1875 4231 1450 3742  Q 1025 3253 1025 2328  Q 1025 1406 1450 917  Q 1875 428 2675 428  Q 3081 428 3442 575  Q 3803 722 4122 1019  L 4122 359  Q 3791 134 3420 21  Q 3050 -91 2638 -91  Q 1578 -91 968 557  Q 359 1206 359 2328  Q 359 3453 968 4101  Q 1578 4750 2638 4750  Q 3056 4750 3426 4639  Q 3797 4528 4122 4306  z \" transform=\"scale(0.015625)\" />\n      <path id=\"DejaVuSans-6c\" d=\"M 603 4863  L 1178 4863  L 1178 0  L 603 0  L 603 4863  z \" transform=\"scale(0.015625)\" />\n      <path id=\"DejaVuSans-61\" d=\"M 2194 1759  Q 1497 1759 1228 1600  Q 959 1441 959 1056  Q 959 750 1161 570  Q 1363 391 1709 391  Q 2188 391 2477 730  Q 2766 1069 2766 1631  L 2766 1759  L 2194 1759  z M 3341 1997  L 3341 0  L 2766 0  L 2766 531  Q 2569 213 2275 61  Q 1981 -91 1556 -91  Q 1019 -91 701 211  Q 384 513 384 1019  Q 384 1609 779 1909  Q 1175 2209 1959 2209  L 2766 2209  L 2766 2266  Q 2766 2663 2505 2880  Q 2244 3097 1772 3097  Q 1472 3097 1187 3025  Q 903 2953 641 2809  L 641 3341  Q 956 3463 1253 3523  Q 1550 3584 1831 3584  Q 2591 3584 2966 3190  Q 3341 2797 3341 1997  z \" transform=\"scale(0.015625)\" />\n      <path id=\"DejaVuSans-73\" d=\"M 2834 3397  L 2834 2853  Q 2591 2978 2328 3040  Q 2066 3103 1784 3103  Q 1356 3103 1142 2972  Q 928 2841 928 2578  Q 928 2378 1081 2264  Q 1234 2150 1697 2047  L 1894 2003  Q 2506 1872 2764 1633  Q 3022 1394 3022 966  Q 3022 478 2636 193  Q 2250 -91 1575 -91  Q 1294 -91 989 -36  Q 684 19 347 128  L 347 722  Q 666 556 975 473  Q 1284 391 1588 391  Q 1994 391 2212 530  Q 2431 669 2431 922  Q 2431 1156 2273 1281  Q 2116 1406 1581 1522  L 1381 1569  Q 847 1681 609 1914  Q 372 2147 372 2553  Q 372 3047 722 3315  Q 1072 3584 1716 3584  Q 2034 3584 2315 3537  Q 2597 3491 2834 3397  z \" transform=\"scale(0.015625)\" />\n      <path id=\"DejaVuSans-20\" transform=\"scale(0.015625)\" />\n      <path id=\"DejaVuSans-31\" d=\"M 794 531  L 1825 531  L 1825 4091  L 703 3866  L 703 4441  L 1819 4666  L 2450 4666  L 2450 531  L 3481 531  L 3481 0  L 794 0  L 794 531  z \" transform=\"scale(0.015625)\" />\n     </defs>\n     <use xlink:href=\"#DejaVuSans-43\" />\n     <use xlink:href=\"#DejaVuSans-6c\" x=\"69.824219\" />\n     <use xlink:href=\"#DejaVuSans-61\" x=\"97.607422\" />\n     <use xlink:href=\"#DejaVuSans-73\" x=\"158.886719\" />\n     <use xlink:href=\"#DejaVuSans-73\" x=\"210.986328\" />\n     <use xlink:href=\"#DejaVuSans-20\" x=\"263.085938\" />\n     <use xlink:href=\"#DejaVuSans-31\" x=\"294.873047\" />\n    </g>\n   </g>\n  </g>\n </g>\n</svg></g>\n\n<g id=\"edge4\" class=\"edge\">\n<title>node2-&gt;leaf3</title>\n<path fill=\"none\" stroke=\"#444443\" stroke-width=\"0.3\" d=\"M239.43,-101.28C237.34,-97 235.1,-92.4 232.82,-87.74\" />\n<polygon fill=\"#444443\" stroke=\"#444443\" stroke-width=\"0.3\" points=\"234.12,-87.21 231.11,-84.22 231.6,-88.43 234.12,-87.21\" />\n</g>\n\n<g id=\"node7\" class=\"node\">\n<title>leaf4</title>\n<polygon fill=\"none\" stroke=\"#444443\" stroke-width=\"0\" points=\"327,-84 259,-84 259,0 327,0 327,-84\" />\n<svg width=\"60px\" height=\"76px\" viewBox=\"0 0 80.079989 102.071543\" version=\"1.1\" preserveAspectRatio=\"xMinYMin meet\" x=\"263\" y=\"-80\">\n <metadata>\n  <rdf:RDF>\n   <ns2:Work>\n    <dc:type rdf:resource=\"http://purl.org/dc/dcmitype/StillImage\" />\n    <dc:date>2023-02-25T05:25:38.753072</dc:date>\n    <dc:format>image/svg+xml</dc:format>\n    <dc:creator>\n     <ns2:Agent>\n      <dc:title>Matplotlib v3.6.2, https://matplotlib.org/</dc:title>\n     </ns2:Agent>\n    </dc:creator>\n   </ns2:Work>\n  </rdf:RDF>\n </metadata>\n <defs>\n  <style type=\"text/css\">*{stroke-linejoin: round; stroke-linecap: butt}</style>\n </defs>\n <g id=\"figure_1\">\n  <g id=\"patch_1\">\n   <path d=\"M 0 102.071543  L 80.079989 102.071543  L 80.079989 0  L 0 0  z \" style=\"fill: #ffffff\" />\n  </g>\n  <g id=\"axes_1\">\n   <g id=\"patch_2\">\n    <path d=\"M 80.079989 40.039999  C 80.079989 37.211325 79.780236 34.390597 79.185755 31.625097  C 78.591274 28.859597 77.705405 26.164863 76.542997 23.586063  L 40.039989 40.039999  L 80.079989 40.039999  z \" style=\"fill: #fefebb; stroke: #444443; stroke-width: 0.5; stroke-linejoin: miter\" />\n   </g>\n   <g id=\"patch_3\">\n    <path d=\"M 76.542997 23.586063  C 74.528752 19.117465 71.710971 15.056483 68.230101 11.605527  C 64.749232 8.154571 60.664081 5.371945 56.178266 3.396341  C 51.69245 1.420738 46.881756 0.285535 41.985961 0.047315  C 37.090167 -0.190906 32.191986 0.47188 27.535557 2.002639  C 22.879128 3.533397 18.543121 5.906265 14.743653 9.002973  C 10.944186 12.099681 7.74545 15.86791 5.306879 20.119842  C 2.868308 24.371773 1.231102 29.035572 0.476862 33.878781  C -0.277377 38.72199 -0.135906 43.662785 0.894223 48.454902  C 1.924352 53.247019 3.825736 57.809496 6.503605 61.914928  C 9.181474 66.02036 12.590585 69.599386 16.561019 72.473617  C 20.531453 75.347848 24.996131 77.468724 29.73252 78.730536  C 34.468909 79.992348 39.396989 80.373778 44.271132 79.855813  C 49.145274 79.337848 53.883131 77.92924 58.248554 75.700197  C 62.613978 73.471155 66.533215 70.459337 69.81092 66.814862  C 73.088625 63.170386 75.669422 58.954826 77.424676 54.378295  C 79.179931 49.801765 80.079989 44.941584 80.079989 40.039997  L 40.039989 40.039999  L 76.542997 23.586063  z \" style=\"fill: #a1dab4; stroke: #444443; stroke-width: 0.5; stroke-linejoin: miter\" />\n   </g>\n   <g id=\"text_1\">\n    \n    <g style=\"fill: #444443\" transform=\"translate(24.82788 90.121793) scale(0.09 -0.09)\">\n     <defs>\n      <path id=\"DejaVuSans-6e\" d=\"M 3513 2113  L 3513 0  L 2938 0  L 2938 2094  Q 2938 2591 2744 2837  Q 2550 3084 2163 3084  Q 1697 3084 1428 2787  Q 1159 2491 1159 1978  L 1159 0  L 581 0  L 581 3500  L 1159 3500  L 1159 2956  Q 1366 3272 1645 3428  Q 1925 3584 2291 3584  Q 2894 3584 3203 3211  Q 3513 2838 3513 2113  z \" transform=\"scale(0.015625)\" />\n      <path id=\"DejaVuSans-3d\" d=\"M 678 2906  L 4684 2906  L 4684 2381  L 678 2381  L 678 2906  z M 678 1631  L 4684 1631  L 4684 1100  L 678 1100  L 678 1631  z \" transform=\"scale(0.015625)\" />\n      <path id=\"DejaVuSans-31\" d=\"M 794 531  L 1825 531  L 1825 4091  L 703 3866  L 703 4441  L 1819 4666  L 2450 4666  L 2450 531  L 3481 531  L 3481 0  L 794 0  L 794 531  z \" transform=\"scale(0.015625)\" />\n      <path id=\"DejaVuSans-30\" d=\"M 2034 4250  Q 1547 4250 1301 3770  Q 1056 3291 1056 2328  Q 1056 1369 1301 889  Q 1547 409 2034 409  Q 2525 409 2770 889  Q 3016 1369 3016 2328  Q 3016 3291 2770 3770  Q 2525 4250 2034 4250  z M 2034 4750  Q 2819 4750 3233 4129  Q 3647 3509 3647 2328  Q 3647 1150 3233 529  Q 2819 -91 2034 -91  Q 1250 -91 836 529  Q 422 1150 422 2328  Q 422 3509 836 4129  Q 1250 4750 2034 4750  z \" transform=\"scale(0.015625)\" />\n      <path id=\"DejaVuSans-35\" d=\"M 691 4666  L 3169 4666  L 3169 4134  L 1269 4134  L 1269 2991  Q 1406 3038 1543 3061  Q 1681 3084 1819 3084  Q 2600 3084 3056 2656  Q 3513 2228 3513 1497  Q 3513 744 3044 326  Q 2575 -91 1722 -91  Q 1428 -91 1123 -41  Q 819 9 494 109  L 494 744  Q 775 591 1075 516  Q 1375 441 1709 441  Q 2250 441 2565 725  Q 2881 1009 2881 1497  Q 2881 1984 2565 2268  Q 2250 2553 1709 2553  Q 1456 2553 1204 2497  Q 953 2441 691 2322  L 691 4666  z \" transform=\"scale(0.015625)\" />\n     </defs>\n     <use xlink:href=\"#DejaVuSans-6e\" />\n     <use xlink:href=\"#DejaVuSans-3d\" x=\"63.378906\" />\n     <use xlink:href=\"#DejaVuSans-31\" x=\"147.167969\" />\n     <use xlink:href=\"#DejaVuSans-30\" x=\"210.791016\" />\n     <use xlink:href=\"#DejaVuSans-35\" x=\"274.414062\" />\n    </g>\n    \n    <g style=\"fill: #444443\" transform=\"translate(23.908192 100.199824) scale(0.09 -0.09)\">\n     <defs>\n      <path id=\"DejaVuSans-43\" d=\"M 4122 4306  L 4122 3641  Q 3803 3938 3442 4084  Q 3081 4231 2675 4231  Q 1875 4231 1450 3742  Q 1025 3253 1025 2328  Q 1025 1406 1450 917  Q 1875 428 2675 428  Q 3081 428 3442 575  Q 3803 722 4122 1019  L 4122 359  Q 3791 134 3420 21  Q 3050 -91 2638 -91  Q 1578 -91 968 557  Q 359 1206 359 2328  Q 359 3453 968 4101  Q 1578 4750 2638 4750  Q 3056 4750 3426 4639  Q 3797 4528 4122 4306  z \" transform=\"scale(0.015625)\" />\n      <path id=\"DejaVuSans-6c\" d=\"M 603 4863  L 1178 4863  L 1178 0  L 603 0  L 603 4863  z \" transform=\"scale(0.015625)\" />\n      <path id=\"DejaVuSans-61\" d=\"M 2194 1759  Q 1497 1759 1228 1600  Q 959 1441 959 1056  Q 959 750 1161 570  Q 1363 391 1709 391  Q 2188 391 2477 730  Q 2766 1069 2766 1631  L 2766 1759  L 2194 1759  z M 3341 1997  L 3341 0  L 2766 0  L 2766 531  Q 2569 213 2275 61  Q 1981 -91 1556 -91  Q 1019 -91 701 211  Q 384 513 384 1019  Q 384 1609 779 1909  Q 1175 2209 1959 2209  L 2766 2209  L 2766 2266  Q 2766 2663 2505 2880  Q 2244 3097 1772 3097  Q 1472 3097 1187 3025  Q 903 2953 641 2809  L 641 3341  Q 956 3463 1253 3523  Q 1550 3584 1831 3584  Q 2591 3584 2966 3190  Q 3341 2797 3341 1997  z \" transform=\"scale(0.015625)\" />\n      <path id=\"DejaVuSans-73\" d=\"M 2834 3397  L 2834 2853  Q 2591 2978 2328 3040  Q 2066 3103 1784 3103  Q 1356 3103 1142 2972  Q 928 2841 928 2578  Q 928 2378 1081 2264  Q 1234 2150 1697 2047  L 1894 2003  Q 2506 1872 2764 1633  Q 3022 1394 3022 966  Q 3022 478 2636 193  Q 2250 -91 1575 -91  Q 1294 -91 989 -36  Q 684 19 347 128  L 347 722  Q 666 556 975 473  Q 1284 391 1588 391  Q 1994 391 2212 530  Q 2431 669 2431 922  Q 2431 1156 2273 1281  Q 2116 1406 1581 1522  L 1381 1569  Q 847 1681 609 1914  Q 372 2147 372 2553  Q 372 3047 722 3315  Q 1072 3584 1716 3584  Q 2034 3584 2315 3537  Q 2597 3491 2834 3397  z \" transform=\"scale(0.015625)\" />\n      <path id=\"DejaVuSans-20\" transform=\"scale(0.015625)\" />\n     </defs>\n     <use xlink:href=\"#DejaVuSans-43\" />\n     <use xlink:href=\"#DejaVuSans-6c\" x=\"69.824219\" />\n     <use xlink:href=\"#DejaVuSans-61\" x=\"97.607422\" />\n     <use xlink:href=\"#DejaVuSans-73\" x=\"158.886719\" />\n     <use xlink:href=\"#DejaVuSans-73\" x=\"210.986328\" />\n     <use xlink:href=\"#DejaVuSans-20\" x=\"263.085938\" />\n     <use xlink:href=\"#DejaVuSans-31\" x=\"294.873047\" />\n    </g>\n   </g>\n  </g>\n </g>\n</svg></g>\n\n<g id=\"edge5\" class=\"edge\">\n<title>node2-&gt;leaf4</title>\n<path fill=\"none\" stroke=\"#444443\" stroke-width=\"0.3\" d=\"M263.15,-101.28C265.34,-97 267.7,-92.4 270.08,-87.74\" />\n<polygon fill=\"#444443\" stroke=\"#444443\" stroke-width=\"0.3\" points=\"271.31,-88.42 271.89,-84.22 268.82,-87.14 271.31,-88.42\" />\n</g>\n\n<g id=\"node3\" class=\"node\">\n<title>node0</title>\n<svg width=\"154px\" height=\"76px\" viewBox=\"0 0 206.41 102.4025\" version=\"1.1\" preserveAspectRatio=\"xMinYMin meet\" x=\"88\" y=\"-262\">\n <metadata>\n  <rdf:RDF>\n   <ns2:Work>\n    <dc:type rdf:resource=\"http://purl.org/dc/dcmitype/StillImage\" />\n    <dc:date>2023-02-25T05:25:38.607993</dc:date>\n    <dc:format>image/svg+xml</dc:format>\n    <dc:creator>\n     <ns2:Agent>\n      <dc:title>Matplotlib v3.6.2, https://matplotlib.org/</dc:title>\n     </ns2:Agent>\n    </dc:creator>\n   </ns2:Work>\n  </rdf:RDF>\n </metadata>\n <defs>\n  <style type=\"text/css\">*{stroke-linejoin: round; stroke-linecap: butt}</style>\n </defs>\n <g id=\"figure_1\">\n  <g id=\"patch_1\">\n   <path d=\"M 0 102.4025  L 206.41 102.4025  L 206.41 0  L 0 0  z \" style=\"fill: #ffffff\" />\n  </g>\n  <g id=\"axes_1\">\n   <g id=\"patch_2\">\n    <path d=\"M 22.27 83.16  L 206.41 83.16  L 206.41 0  L 22.27 0  z \" style=\"fill: #ffffff\" />\n   </g>\n   <g id=\"patch_3\">\n    <path d=\"M 38.282174 83.16  L 46.288261 83.16  L 46.288261 28.873907  L 38.282174 28.873907  z \" clip-path=\"url(#p4ec3b83796)\" style=\"fill: #fefebb; stroke: #444443; stroke-width: 0.5; stroke-linejoin: miter\" />\n   </g>\n   <g id=\"patch_4\">\n    <path d=\"M 46.288261 83.16  L 54.294348 83.16  L 54.294348 83.16  L 46.288261 83.16  z \" clip-path=\"url(#p4ec3b83796)\" style=\"fill: #fefebb; stroke: #444443; stroke-width: 0.5; stroke-linejoin: miter\" />\n   </g>\n   <g id=\"patch_5\">\n    <path d=\"M 54.294348 83.16  L 62.300435 83.16  L 62.300435 83.16  L 54.294348 83.16  z \" clip-path=\"url(#p4ec3b83796)\" style=\"fill: #fefebb; stroke: #444443; stroke-width: 0.5; stroke-linejoin: miter\" />\n   </g>\n   <g id=\"patch_6\">\n    <path d=\"M 62.300435 83.16  L 70.306522 83.16  L 70.306522 83.16  L 62.300435 83.16  z \" clip-path=\"url(#p4ec3b83796)\" style=\"fill: #fefebb; stroke: #444443; stroke-width: 0.5; stroke-linejoin: miter\" />\n   </g>\n   <g id=\"patch_7\">\n    <path d=\"M 70.306522 83.16  L 78.312609 83.16  L 78.312609 83.16  L 70.306522 83.16  z \" clip-path=\"url(#p4ec3b83796)\" style=\"fill: #fefebb; stroke: #444443; stroke-width: 0.5; stroke-linejoin: miter\" />\n   </g>\n   <g id=\"patch_8\">\n    <path d=\"M 78.312609 83.16  L 86.318696 83.16  L 86.318696 83.16  L 78.312609 83.16  z \" clip-path=\"url(#p4ec3b83796)\" style=\"fill: #fefebb; stroke: #444443; stroke-width: 0.5; stroke-linejoin: miter\" />\n   </g>\n   <g id=\"patch_9\">\n    <path d=\"M 86.318696 83.16  L 94.324783 83.16  L 94.324783 83.16  L 86.318696 83.16  z \" clip-path=\"url(#p4ec3b83796)\" style=\"fill: #fefebb; stroke: #444443; stroke-width: 0.5; stroke-linejoin: miter\" />\n   </g>\n   <g id=\"patch_10\">\n    <path d=\"M 94.324783 83.16  L 102.33087 83.16  L 102.33087 83.16  L 94.324783 83.16  z \" clip-path=\"url(#p4ec3b83796)\" style=\"fill: #fefebb; stroke: #444443; stroke-width: 0.5; stroke-linejoin: miter\" />\n   </g>\n   <g id=\"patch_11\">\n    <path d=\"M 102.33087 83.16  L 110.336957 83.16  L 110.336957 83.16  L 102.33087 83.16  z \" clip-path=\"url(#p4ec3b83796)\" style=\"fill: #fefebb; stroke: #444443; stroke-width: 0.5; stroke-linejoin: miter\" />\n   </g>\n   <g id=\"patch_12\">\n    <path d=\"M 110.336957 83.16  L 118.343043 83.16  L 118.343043 73.981192  L 110.336957 73.981192  z \" clip-path=\"url(#p4ec3b83796)\" style=\"fill: #fefebb; stroke: #444443; stroke-width: 0.5; stroke-linejoin: miter\" />\n   </g>\n   <g id=\"patch_13\">\n    <path d=\"M 118.343043 83.16  L 126.34913 83.16  L 126.34913 83.16  L 118.343043 83.16  z \" clip-path=\"url(#p4ec3b83796)\" style=\"fill: #fefebb; stroke: #444443; stroke-width: 0.5; stroke-linejoin: miter\" />\n   </g>\n   <g id=\"patch_14\">\n    <path d=\"M 126.34913 83.16  L 134.355217 83.16  L 134.355217 83.16  L 126.34913 83.16  z \" clip-path=\"url(#p4ec3b83796)\" style=\"fill: #fefebb; stroke: #444443; stroke-width: 0.5; stroke-linejoin: miter\" />\n   </g>\n   <g id=\"patch_15\">\n    <path d=\"M 134.355217 83.16  L 142.361304 83.16  L 142.361304 83.16  L 134.355217 83.16  z \" clip-path=\"url(#p4ec3b83796)\" style=\"fill: #fefebb; stroke: #444443; stroke-width: 0.5; stroke-linejoin: miter\" />\n   </g>\n   <g id=\"patch_16\">\n    <path d=\"M 142.361304 83.16  L 150.367391 83.16  L 150.367391 83.16  L 142.361304 83.16  z \" clip-path=\"url(#p4ec3b83796)\" style=\"fill: #fefebb; stroke: #444443; stroke-width: 0.5; stroke-linejoin: miter\" />\n   </g>\n   <g id=\"patch_17\">\n    <path d=\"M 150.367391 83.16  L 158.373478 83.16  L 158.373478 83.16  L 150.367391 83.16  z \" clip-path=\"url(#p4ec3b83796)\" style=\"fill: #fefebb; stroke: #444443; stroke-width: 0.5; stroke-linejoin: miter\" />\n   </g>\n   <g id=\"patch_18\">\n    <path d=\"M 158.373478 83.16  L 166.379565 83.16  L 166.379565 83.16  L 158.373478 83.16  z \" clip-path=\"url(#p4ec3b83796)\" style=\"fill: #fefebb; stroke: #444443; stroke-width: 0.5; stroke-linejoin: miter\" />\n   </g>\n   <g id=\"patch_19\">\n    <path d=\"M 166.379565 83.16  L 174.385652 83.16  L 174.385652 83.16  L 166.379565 83.16  z \" clip-path=\"url(#p4ec3b83796)\" style=\"fill: #fefebb; stroke: #444443; stroke-width: 0.5; stroke-linejoin: miter\" />\n   </g>\n   <g id=\"patch_20\">\n    <path d=\"M 174.385652 83.16  L 182.391739 83.16  L 182.391739 83.16  L 174.385652 83.16  z \" clip-path=\"url(#p4ec3b83796)\" style=\"fill: #fefebb; stroke: #444443; stroke-width: 0.5; stroke-linejoin: miter\" />\n   </g>\n   <g id=\"patch_21\">\n    <path d=\"M 182.391739 83.16  L 190.397826 83.16  L 190.397826 81.848742  L 182.391739 81.848742  z \" clip-path=\"url(#p4ec3b83796)\" style=\"fill: #fefebb; stroke: #444443; stroke-width: 0.5; stroke-linejoin: miter\" />\n   </g>\n   <g id=\"patch_22\">\n    <path d=\"M 38.282174 28.873907  L 46.288261 28.873907  L 46.288261 3.96  L 38.282174 3.96  z \" clip-path=\"url(#p4ec3b83796)\" style=\"fill: #a1dab4; stroke: #444443; stroke-width: 0.5; stroke-linejoin: miter\" />\n   </g>\n   <g id=\"patch_23\">\n    <path d=\"M 46.288261 83.16  L 54.294348 83.16  L 54.294348 83.16  L 46.288261 83.16  z \" clip-path=\"url(#p4ec3b83796)\" style=\"fill: #a1dab4; stroke: #444443; stroke-width: 0.5; stroke-linejoin: miter\" />\n   </g>\n   <g id=\"patch_24\">\n    <path d=\"M 54.294348 83.16  L 62.300435 83.16  L 62.300435 83.16  L 54.294348 83.16  z \" clip-path=\"url(#p4ec3b83796)\" style=\"fill: #a1dab4; stroke: #444443; stroke-width: 0.5; stroke-linejoin: miter\" />\n   </g>\n   <g id=\"patch_25\">\n    <path d=\"M 62.300435 83.16  L 70.306522 83.16  L 70.306522 83.16  L 62.300435 83.16  z \" clip-path=\"url(#p4ec3b83796)\" style=\"fill: #a1dab4; stroke: #444443; stroke-width: 0.5; stroke-linejoin: miter\" />\n   </g>\n   <g id=\"patch_26\">\n    <path d=\"M 70.306522 83.16  L 78.312609 83.16  L 78.312609 83.16  L 70.306522 83.16  z \" clip-path=\"url(#p4ec3b83796)\" style=\"fill: #a1dab4; stroke: #444443; stroke-width: 0.5; stroke-linejoin: miter\" />\n   </g>\n   <g id=\"patch_27\">\n    <path d=\"M 78.312609 83.16  L 86.318696 83.16  L 86.318696 83.16  L 78.312609 83.16  z \" clip-path=\"url(#p4ec3b83796)\" style=\"fill: #a1dab4; stroke: #444443; stroke-width: 0.5; stroke-linejoin: miter\" />\n   </g>\n   <g id=\"patch_28\">\n    <path d=\"M 86.318696 83.16  L 94.324783 83.16  L 94.324783 83.16  L 86.318696 83.16  z \" clip-path=\"url(#p4ec3b83796)\" style=\"fill: #a1dab4; stroke: #444443; stroke-width: 0.5; stroke-linejoin: miter\" />\n   </g>\n   <g id=\"patch_29\">\n    <path d=\"M 94.324783 83.16  L 102.33087 83.16  L 102.33087 83.16  L 94.324783 83.16  z \" clip-path=\"url(#p4ec3b83796)\" style=\"fill: #a1dab4; stroke: #444443; stroke-width: 0.5; stroke-linejoin: miter\" />\n   </g>\n   <g id=\"patch_30\">\n    <path d=\"M 102.33087 83.16  L 110.336957 83.16  L 110.336957 83.16  L 102.33087 83.16  z \" clip-path=\"url(#p4ec3b83796)\" style=\"fill: #a1dab4; stroke: #444443; stroke-width: 0.5; stroke-linejoin: miter\" />\n   </g>\n   <g id=\"patch_31\">\n    <path d=\"M 110.336957 73.981192  L 118.343043 73.981192  L 118.343043 33.594437  L 110.336957 33.594437  z \" clip-path=\"url(#p4ec3b83796)\" style=\"fill: #a1dab4; stroke: #444443; stroke-width: 0.5; stroke-linejoin: miter\" />\n   </g>\n   <g id=\"patch_32\">\n    <path d=\"M 118.343043 83.16  L 126.34913 83.16  L 126.34913 83.16  L 118.343043 83.16  z \" clip-path=\"url(#p4ec3b83796)\" style=\"fill: #a1dab4; stroke: #444443; stroke-width: 0.5; stroke-linejoin: miter\" />\n   </g>\n   <g id=\"patch_33\">\n    <path d=\"M 126.34913 83.16  L 134.355217 83.16  L 134.355217 83.16  L 126.34913 83.16  z \" clip-path=\"url(#p4ec3b83796)\" style=\"fill: #a1dab4; stroke: #444443; stroke-width: 0.5; stroke-linejoin: miter\" />\n   </g>\n   <g id=\"patch_34\">\n    <path d=\"M 134.355217 83.16  L 142.361304 83.16  L 142.361304 83.16  L 134.355217 83.16  z \" clip-path=\"url(#p4ec3b83796)\" style=\"fill: #a1dab4; stroke: #444443; stroke-width: 0.5; stroke-linejoin: miter\" />\n   </g>\n   <g id=\"patch_35\">\n    <path d=\"M 142.361304 83.16  L 150.367391 83.16  L 150.367391 83.16  L 142.361304 83.16  z \" clip-path=\"url(#p4ec3b83796)\" style=\"fill: #a1dab4; stroke: #444443; stroke-width: 0.5; stroke-linejoin: miter\" />\n   </g>\n   <g id=\"patch_36\">\n    <path d=\"M 150.367391 83.16  L 158.373478 83.16  L 158.373478 83.16  L 150.367391 83.16  z \" clip-path=\"url(#p4ec3b83796)\" style=\"fill: #a1dab4; stroke: #444443; stroke-width: 0.5; stroke-linejoin: miter\" />\n   </g>\n   <g id=\"patch_37\">\n    <path d=\"M 158.373478 83.16  L 166.379565 83.16  L 166.379565 83.16  L 158.373478 83.16  z \" clip-path=\"url(#p4ec3b83796)\" style=\"fill: #a1dab4; stroke: #444443; stroke-width: 0.5; stroke-linejoin: miter\" />\n   </g>\n   <g id=\"patch_38\">\n    <path d=\"M 166.379565 83.16  L 174.385652 83.16  L 174.385652 83.16  L 166.379565 83.16  z \" clip-path=\"url(#p4ec3b83796)\" style=\"fill: #a1dab4; stroke: #444443; stroke-width: 0.5; stroke-linejoin: miter\" />\n   </g>\n   <g id=\"patch_39\">\n    <path d=\"M 174.385652 83.16  L 182.391739 83.16  L 182.391739 83.16  L 174.385652 83.16  z \" clip-path=\"url(#p4ec3b83796)\" style=\"fill: #a1dab4; stroke: #444443; stroke-width: 0.5; stroke-linejoin: miter\" />\n   </g>\n   <g id=\"patch_40\">\n    <path d=\"M 182.391739 81.848742  L 190.397826 81.848742  L 190.397826 80.799735  L 182.391739 80.799735  z \" clip-path=\"url(#p4ec3b83796)\" style=\"fill: #a1dab4; stroke: #444443; stroke-width: 0.5; stroke-linejoin: miter\" />\n   </g>\n   <g id=\"patch_41\">\n    <path d=\"M 76.311087 83.9916  L 72.996567 92.3076  L 79.625607 92.3076  z \" style=\"fill: #444443\" />\n   </g>\n   <g id=\"matplotlib.axis_1\">\n    <g id=\"xtick_1\">\n     <g id=\"line2d_1\">\n      <defs>\n       <path id=\"m22e9499aad\" d=\"M 0 0  L 0 3.5  \" style=\"stroke: #000000; stroke-width: 0.3\" />\n      </defs>\n      <g>\n       <use xlink:href=\"#m22e9499aad\" x=\"38.282174\" y=\"83.16\" style=\"stroke: #000000; stroke-width: 0.3\" />\n      </g>\n     </g>\n     <g id=\"text_1\">\n      \n      <g style=\"fill: #444443\" transform=\"translate(23.479049 100.73875) scale(0.08 -0.08)\">\n       <defs>\n        <path id=\"DejaVuSans-2212\" d=\"M 678 2272  L 4684 2272  L 4684 1741  L 678 1741  L 678 2272  z \" transform=\"scale(0.015625)\" />\n        <path id=\"DejaVuSans-30\" d=\"M 2034 4250  Q 1547 4250 1301 3770  Q 1056 3291 1056 2328  Q 1056 1369 1301 889  Q 1547 409 2034 409  Q 2525 409 2770 889  Q 3016 1369 3016 2328  Q 3016 3291 2770 3770  Q 2525 4250 2034 4250  z M 2034 4750  Q 2819 4750 3233 4129  Q 3647 3509 3647 2328  Q 3647 1150 3233 529  Q 2819 -91 2034 -91  Q 1250 -91 836 529  Q 422 1150 422 2328  Q 422 3509 836 4129  Q 1250 4750 2034 4750  z \" transform=\"scale(0.015625)\" />\n        <path id=\"DejaVuSans-2e\" d=\"M 684 794  L 1344 794  L 1344 0  L 684 0  L 684 794  z \" transform=\"scale(0.015625)\" />\n        <path id=\"DejaVuSans-37\" d=\"M 525 4666  L 3525 4666  L 3525 4397  L 1831 0  L 1172 0  L 2766 4134  L 525 4134  L 525 4666  z \" transform=\"scale(0.015625)\" />\n        <path id=\"DejaVuSans-34\" d=\"M 2419 4116  L 825 1625  L 2419 1625  L 2419 4116  z M 2253 4666  L 3047 4666  L 3047 1625  L 3713 1625  L 3713 1100  L 3047 1100  L 3047 0  L 2419 0  L 2419 1100  L 313 1100  L 313 1709  L 2253 4666  z \" transform=\"scale(0.015625)\" />\n        <path id=\"DejaVuSans-39\" d=\"M 703 97  L 703 672  Q 941 559 1184 500  Q 1428 441 1663 441  Q 2288 441 2617 861  Q 2947 1281 2994 2138  Q 2813 1869 2534 1725  Q 2256 1581 1919 1581  Q 1219 1581 811 2004  Q 403 2428 403 3163  Q 403 3881 828 4315  Q 1253 4750 1959 4750  Q 2769 4750 3195 4129  Q 3622 3509 3622 2328  Q 3622 1225 3098 567  Q 2575 -91 1691 -91  Q 1453 -91 1209 -44  Q 966 3 703 97  z M 1959 2075  Q 2384 2075 2632 2365  Q 2881 2656 2881 3163  Q 2881 3666 2632 3958  Q 2384 4250 1959 4250  Q 1534 4250 1286 3958  Q 1038 3666 1038 3163  Q 1038 2656 1286 2365  Q 1534 2075 1959 2075  z \" transform=\"scale(0.015625)\" />\n       </defs>\n       <use xlink:href=\"#DejaVuSans-2212\" />\n       <use xlink:href=\"#DejaVuSans-30\" x=\"83.789062\" />\n       <use xlink:href=\"#DejaVuSans-2e\" x=\"147.412109\" />\n       <use xlink:href=\"#DejaVuSans-37\" x=\"179.199219\" />\n       <use xlink:href=\"#DejaVuSans-34\" x=\"242.822266\" />\n       <use xlink:href=\"#DejaVuSans-39\" x=\"306.445312\" />\n      </g>\n     </g>\n    </g>\n    <g id=\"xtick_2\">\n     <g id=\"line2d_2\">\n      <g>\n       <use xlink:href=\"#m22e9499aad\" x=\"76.311087\" y=\"83.16\" style=\"stroke: #000000; stroke-width: 0.3\" />\n      </g>\n     </g>\n     <g id=\"text_2\">\n      \n      <g style=\"fill: #444443\" transform=\"translate(64.859837 100.73875) scale(0.08 -0.08)\">\n       <defs>\n        <path id=\"DejaVuSans-31\" d=\"M 794 531  L 1825 531  L 1825 4091  L 703 3866  L 703 4441  L 1819 4666  L 2450 4666  L 2450 531  L 3481 531  L 3481 0  L 794 0  L 794 531  z \" transform=\"scale(0.015625)\" />\n        <path id=\"DejaVuSans-33\" d=\"M 2597 2516  Q 3050 2419 3304 2112  Q 3559 1806 3559 1356  Q 3559 666 3084 287  Q 2609 -91 1734 -91  Q 1441 -91 1130 -33  Q 819 25 488 141  L 488 750  Q 750 597 1062 519  Q 1375 441 1716 441  Q 2309 441 2620 675  Q 2931 909 2931 1356  Q 2931 1769 2642 2001  Q 2353 2234 1838 2234  L 1294 2234  L 1294 2753  L 1863 2753  Q 2328 2753 2575 2939  Q 2822 3125 2822 3475  Q 2822 3834 2567 4026  Q 2313 4219 1838 4219  Q 1578 4219 1281 4162  Q 984 4106 628 3988  L 628 4550  Q 988 4650 1302 4700  Q 1616 4750 1894 4750  Q 2613 4750 3031 4423  Q 3450 4097 3450 3541  Q 3450 3153 3228 2886  Q 3006 2619 2597 2516  z \" transform=\"scale(0.015625)\" />\n       </defs>\n       <use xlink:href=\"#DejaVuSans-30\" />\n       <use xlink:href=\"#DejaVuSans-2e\" x=\"63.623047\" />\n       <use xlink:href=\"#DejaVuSans-31\" x=\"95.410156\" />\n       <use xlink:href=\"#DejaVuSans-37\" x=\"159.033203\" />\n       <use xlink:href=\"#DejaVuSans-33\" x=\"222.65625\" />\n      </g>\n     </g>\n    </g>\n    <g id=\"xtick_3\">\n     <g id=\"line2d_3\">\n      <g>\n       <use xlink:href=\"#m22e9499aad\" x=\"190.397826\" y=\"83.16\" style=\"stroke: #000000; stroke-width: 0.3\" />\n      </g>\n     </g>\n     <g id=\"text_3\">\n      \n      <g style=\"fill: #444443\" transform=\"translate(178.946576 100.73875) scale(0.08 -0.08)\">\n       <defs>\n        <path id=\"DejaVuSans-32\" d=\"M 1228 531  L 3431 531  L 3431 0  L 469 0  L 469 531  Q 828 903 1448 1529  Q 2069 2156 2228 2338  Q 2531 2678 2651 2914  Q 2772 3150 2772 3378  Q 2772 3750 2511 3984  Q 2250 4219 1831 4219  Q 1534 4219 1204 4116  Q 875 4013 500 3803  L 500 4441  Q 881 4594 1212 4672  Q 1544 4750 1819 4750  Q 2544 4750 2975 4387  Q 3406 4025 3406 3419  Q 3406 3131 3298 2873  Q 3191 2616 2906 2266  Q 2828 2175 2409 1742  Q 1991 1309 1228 531  z \" transform=\"scale(0.015625)\" />\n       </defs>\n       <use xlink:href=\"#DejaVuSans-32\" />\n       <use xlink:href=\"#DejaVuSans-2e\" x=\"63.623047\" />\n       <use xlink:href=\"#DejaVuSans-39\" x=\"95.410156\" />\n       <use xlink:href=\"#DejaVuSans-34\" x=\"159.033203\" />\n       <use xlink:href=\"#DejaVuSans-31\" x=\"222.65625\" />\n      </g>\n     </g>\n    </g>\n   </g>\n   <g id=\"matplotlib.axis_2\">\n    <g id=\"ytick_1\">\n     <g id=\"line2d_4\">\n      <defs>\n       <path id=\"md0dc8df053\" d=\"M 0 0  L -3.5 0  \" style=\"stroke: #000000; stroke-width: 0.3\" />\n      </defs>\n      <g>\n       <use xlink:href=\"#md0dc8df053\" x=\"22.27\" y=\"83.16\" style=\"stroke: #000000; stroke-width: 0.3\" />\n      </g>\n     </g>\n     <g id=\"text_4\">\n      \n      <g style=\"fill: #444443\" transform=\"translate(10.18 86.199375) scale(0.08 -0.08)\">\n       <use xlink:href=\"#DejaVuSans-30\" />\n      </g>\n     </g>\n    </g>\n    <g id=\"ytick_2\">\n     <g id=\"line2d_5\">\n      <g>\n       <use xlink:href=\"#md0dc8df053\" x=\"22.27\" y=\"3.96\" style=\"stroke: #000000; stroke-width: 0.3\" />\n      </g>\n     </g>\n     <g id=\"text_5\">\n      \n      <g style=\"fill: #444443\" transform=\"translate(0 6.999375) scale(0.08 -0.08)\">\n       <use xlink:href=\"#DejaVuSans-33\" />\n       <use xlink:href=\"#DejaVuSans-30\" x=\"63.623047\" />\n       <use xlink:href=\"#DejaVuSans-32\" x=\"127.246094\" />\n      </g>\n     </g>\n    </g>\n   </g>\n   <g id=\"patch_42\">\n    <path d=\"M 22.27 83.16  L 22.27 0  \" style=\"fill: none; stroke: #444443; stroke-width: 0.3; stroke-linejoin: miter; stroke-linecap: square\" />\n   </g>\n   <g id=\"patch_43\">\n    <path d=\"M 22.27 83.16  L 206.41 83.16  \" style=\"fill: none; stroke: #444443; stroke-width: 0.3; stroke-linejoin: miter; stroke-linecap: square\" />\n   </g>\n  </g>\n </g>\n <defs>\n  <clipPath id=\"p4ec3b83796\">\n   <rect x=\"22.27\" y=\"0\" width=\"184.14\" height=\"83.16\" />\n  </clipPath>\n </defs>\n</svg></g>\n\n<g id=\"edge7\" class=\"edge\">\n<title>node0-&gt;node1</title>\n<path fill=\"none\" stroke=\"#444443\" stroke-width=\"0.3\" d=\"M128.28,-182.01C118.68,-171.29 108.65,-160.1 100.17,-150.63\" />\n<polygon fill=\"#444443\" stroke=\"#444443\" stroke-width=\"0.3\" points=\"101.61,-150.14 97.89,-148.09 99.52,-152 101.61,-150.14\" />\n<text text-anchor=\"start\" x=\"120\" y=\"-162.8\" font-family=\"DejaVu Sans\" font-size=\"14.00\" fill=\"#444443\"> &#160;&#8804;</text>\n</g>\n\n<g id=\"edge8\" class=\"edge\">\n<title>node0-&gt;node2</title>\n<path fill=\"none\" stroke=\"#444443\" stroke-width=\"0.3\" d=\"M201.72,-182.01C210.18,-172.57 218.97,-162.76 226.74,-154.08\" />\n<polygon fill=\"#444443\" stroke=\"#444443\" stroke-width=\"0.3\" points=\"227.63,-155.19 229.25,-151.28 225.54,-153.32 227.63,-155.19\" />\n<text text-anchor=\"start\" x=\"221\" y=\"-162.8\" font-family=\"DejaVu Sans\" font-size=\"14.00\" fill=\"#444443\"> &#160;&gt;</text>\n</g>\n\n\n\n<g id=\"node8\" class=\"node\">\n<title>legend</title>\n<polygon fill=\"none\" stroke=\"black\" stroke-width=\"0\" points=\"326.5,-251.5 253.5,-251.5 253.5,-196.5 326.5,-196.5 326.5,-251.5\" />\n<svg width=\"69px\" height=\"51px\" viewBox=\"0 0 93.351562 67.8375\" version=\"1.1\" preserveAspectRatio=\"xMinYMin meet\" x=\"256\" y=\"-249\">\n <metadata>\n  <rdf:RDF>\n   <ns2:Work>\n    <dc:type rdf:resource=\"http://purl.org/dc/dcmitype/StillImage\" />\n    <dc:date>2023-02-25T05:25:38.340729</dc:date>\n    <dc:format>image/svg+xml</dc:format>\n    <dc:creator>\n     <ns2:Agent>\n      <dc:title>Matplotlib v3.6.2, https://matplotlib.org/</dc:title>\n     </ns2:Agent>\n    </dc:creator>\n   </ns2:Work>\n  </rdf:RDF>\n </metadata>\n <defs>\n  <style type=\"text/css\">*{stroke-linejoin: round; stroke-linecap: butt}</style>\n </defs>\n <g id=\"figure_1\">\n  <g id=\"patch_1\">\n   <path d=\"M 0 67.8375  L 93.351562 67.8375  L 93.351562 0  L 0 0  z \" style=\"fill: #ffffff\" />\n  </g>\n  <g id=\"axes_1\">\n   <g id=\"legend_1\">\n    <g id=\"patch_2\">\n     <path d=\"M 2.4 67.8375  L 84.951562 67.8375  Q 87.351562 67.8375 87.351562 65.4375  L 87.351562 8.4  Q 87.351562 6 84.951562 6  L 2.4 6  Q 0 6 0 8.4  L 0 65.4375  Q 0 67.8375 2.4 67.8375  z \" style=\"fill: #ffffff; opacity: 0.8; stroke: #444443; stroke-width: 0.5; stroke-linejoin: miter\" />\n    </g>\n    <g id=\"text_1\">\n     \n     <g style=\"fill: #444443\" transform=\"translate(9.6 23.198437) scale(0.1 -0.1)\">\n      <defs>\n       <path id=\"DejaVuSans-Bold-54\" d=\"M 31 4666  L 4331 4666  L 4331 3756  L 2784 3756  L 2784 0  L 1581 0  L 1581 3756  L 31 3756  L 31 4666  z \" transform=\"scale(0.015625)\" />\n       <path id=\"DejaVuSans-Bold-72\" d=\"M 3138 2547  Q 2991 2616 2845 2648  Q 2700 2681 2553 2681  Q 2122 2681 1889 2404  Q 1656 2128 1656 1613  L 1656 0  L 538 0  L 538 3500  L 1656 3500  L 1656 2925  Q 1872 3269 2151 3426  Q 2431 3584 2822 3584  Q 2878 3584 2943 3579  Q 3009 3575 3134 3559  L 3138 2547  z \" transform=\"scale(0.015625)\" />\n       <path id=\"DejaVuSans-Bold-61\" d=\"M 2106 1575  Q 1756 1575 1579 1456  Q 1403 1338 1403 1106  Q 1403 894 1545 773  Q 1688 653 1941 653  Q 2256 653 2472 879  Q 2688 1106 2688 1447  L 2688 1575  L 2106 1575  z M 3816 1997  L 3816 0  L 2688 0  L 2688 519  Q 2463 200 2181 54  Q 1900 -91 1497 -91  Q 953 -91 614 226  Q 275 544 275 1050  Q 275 1666 698 1953  Q 1122 2241 2028 2241  L 2688 2241  L 2688 2328  Q 2688 2594 2478 2717  Q 2269 2841 1825 2841  Q 1466 2841 1156 2769  Q 847 2697 581 2553  L 581 3406  Q 941 3494 1303 3539  Q 1666 3584 2028 3584  Q 2975 3584 3395 3211  Q 3816 2838 3816 1997  z \" transform=\"scale(0.015625)\" />\n       <path id=\"DejaVuSans-Bold-6e\" d=\"M 4056 2131  L 4056 0  L 2931 0  L 2931 347  L 2931 1631  Q 2931 2084 2911 2256  Q 2891 2428 2841 2509  Q 2775 2619 2662 2680  Q 2550 2741 2406 2741  Q 2056 2741 1856 2470  Q 1656 2200 1656 1722  L 1656 0  L 538 0  L 538 3500  L 1656 3500  L 1656 2988  Q 1909 3294 2193 3439  Q 2478 3584 2822 3584  Q 3428 3584 3742 3212  Q 4056 2841 4056 2131  z \" transform=\"scale(0.015625)\" />\n       <path id=\"DejaVuSans-Bold-73\" d=\"M 3272 3391  L 3272 2541  Q 2913 2691 2578 2766  Q 2244 2841 1947 2841  Q 1628 2841 1473 2761  Q 1319 2681 1319 2516  Q 1319 2381 1436 2309  Q 1553 2238 1856 2203  L 2053 2175  Q 2913 2066 3209 1816  Q 3506 1566 3506 1031  Q 3506 472 3093 190  Q 2681 -91 1863 -91  Q 1516 -91 1145 -36  Q 775 19 384 128  L 384 978  Q 719 816 1070 734  Q 1422 653 1784 653  Q 2113 653 2278 743  Q 2444 834 2444 1013  Q 2444 1163 2330 1236  Q 2216 1309 1875 1350  L 1678 1375  Q 931 1469 631 1722  Q 331 1975 331 2491  Q 331 3047 712 3315  Q 1094 3584 1881 3584  Q 2191 3584 2531 3537  Q 2872 3491 3272 3391  z \" transform=\"scale(0.015625)\" />\n       <path id=\"DejaVuSans-Bold-70\" d=\"M 1656 506  L 1656 -1331  L 538 -1331  L 538 3500  L 1656 3500  L 1656 2988  Q 1888 3294 2169 3439  Q 2450 3584 2816 3584  Q 3463 3584 3878 3070  Q 4294 2556 4294 1747  Q 4294 938 3878 423  Q 3463 -91 2816 -91  Q 2450 -91 2169 54  Q 1888 200 1656 506  z M 2400 2772  Q 2041 2772 1848 2508  Q 1656 2244 1656 1747  Q 1656 1250 1848 986  Q 2041 722 2400 722  Q 2759 722 2948 984  Q 3138 1247 3138 1747  Q 3138 2247 2948 2509  Q 2759 2772 2400 2772  z \" transform=\"scale(0.015625)\" />\n       <path id=\"DejaVuSans-Bold-6f\" d=\"M 2203 2784  Q 1831 2784 1636 2517  Q 1441 2250 1441 1747  Q 1441 1244 1636 976  Q 1831 709 2203 709  Q 2569 709 2762 976  Q 2956 1244 2956 1747  Q 2956 2250 2762 2517  Q 2569 2784 2203 2784  z M 2203 3584  Q 3106 3584 3614 3096  Q 4122 2609 4122 1747  Q 4122 884 3614 396  Q 3106 -91 2203 -91  Q 1297 -91 786 396  Q 275 884 275 1747  Q 275 2609 786 3096  Q 1297 3584 2203 3584  z \" transform=\"scale(0.015625)\" />\n       <path id=\"DejaVuSans-Bold-74\" d=\"M 1759 4494  L 1759 3500  L 2913 3500  L 2913 2700  L 1759 2700  L 1759 1216  Q 1759 972 1856 886  Q 1953 800 2241 800  L 2816 800  L 2816 0  L 1856 0  Q 1194 0 917 276  Q 641 553 641 1216  L 641 2700  L 84 2700  L 84 3500  L 641 3500  L 641 4494  L 1759 4494  z \" transform=\"scale(0.015625)\" />\n       <path id=\"DejaVuSans-Bold-65\" d=\"M 4031 1759  L 4031 1441  L 1416 1441  Q 1456 1047 1700 850  Q 1944 653 2381 653  Q 2734 653 3104 758  Q 3475 863 3866 1075  L 3866 213  Q 3469 63 3072 -14  Q 2675 -91 2278 -91  Q 1328 -91 801 392  Q 275 875 275 1747  Q 275 2603 792 3093  Q 1309 3584 2216 3584  Q 3041 3584 3536 3087  Q 4031 2591 4031 1759  z M 2881 2131  Q 2881 2450 2695 2645  Q 2509 2841 2209 2841  Q 1884 2841 1681 2658  Q 1478 2475 1428 2131  L 2881 2131  z \" transform=\"scale(0.015625)\" />\n       <path id=\"DejaVuSans-Bold-64\" d=\"M 2919 2988  L 2919 4863  L 4044 4863  L 4044 0  L 2919 0  L 2919 506  Q 2688 197 2409 53  Q 2131 -91 1766 -91  Q 1119 -91 703 423  Q 288 938 288 1747  Q 288 2556 703 3070  Q 1119 3584 1766 3584  Q 2128 3584 2408 3439  Q 2688 3294 2919 2988  z M 2181 722  Q 2541 722 2730 984  Q 2919 1247 2919 1747  Q 2919 2247 2730 2509  Q 2541 2772 2181 2772  Q 1825 2772 1636 2509  Q 1447 2247 1447 1747  Q 1447 1247 1636 984  Q 1825 722 2181 722  z \" transform=\"scale(0.015625)\" />\n      </defs>\n      <use xlink:href=\"#DejaVuSans-Bold-54\" />\n      <use xlink:href=\"#DejaVuSans-Bold-72\" x=\"57.212891\" />\n      <use xlink:href=\"#DejaVuSans-Bold-61\" x=\"106.529297\" />\n      <use xlink:href=\"#DejaVuSans-Bold-6e\" x=\"174.009766\" />\n      <use xlink:href=\"#DejaVuSans-Bold-73\" x=\"245.201172\" />\n      <use xlink:href=\"#DejaVuSans-Bold-70\" x=\"304.722656\" />\n      <use xlink:href=\"#DejaVuSans-Bold-6f\" x=\"376.304688\" />\n      <use xlink:href=\"#DejaVuSans-Bold-72\" x=\"445.005859\" />\n      <use xlink:href=\"#DejaVuSans-Bold-74\" x=\"494.322266\" />\n      <use xlink:href=\"#DejaVuSans-Bold-65\" x=\"542.125\" />\n      <use xlink:href=\"#DejaVuSans-Bold-64\" x=\"609.947266\" />\n     </g>\n    </g>\n    <g id=\"patch_3\">\n     <path d=\"M 11.651562 39.678125  L 35.651562 39.678125  L 35.651562 31.278125  L 11.651562 31.278125  z \" style=\"fill: #fefebb; stroke: #444443; stroke-width: 0.4; stroke-linejoin: miter\" />\n    </g>\n    <g id=\"text_2\">\n     \n     <g style=\"fill: #444443\" transform=\"translate(39.851562 39.678125) scale(0.1 -0.1)\">\n      <defs>\n       <path id=\"DejaVuSans-43\" d=\"M 4122 4306  L 4122 3641  Q 3803 3938 3442 4084  Q 3081 4231 2675 4231  Q 1875 4231 1450 3742  Q 1025 3253 1025 2328  Q 1025 1406 1450 917  Q 1875 428 2675 428  Q 3081 428 3442 575  Q 3803 722 4122 1019  L 4122 359  Q 3791 134 3420 21  Q 3050 -91 2638 -91  Q 1578 -91 968 557  Q 359 1206 359 2328  Q 359 3453 968 4101  Q 1578 4750 2638 4750  Q 3056 4750 3426 4639  Q 3797 4528 4122 4306  z \" transform=\"scale(0.015625)\" />\n       <path id=\"DejaVuSans-6c\" d=\"M 603 4863  L 1178 4863  L 1178 0  L 603 0  L 603 4863  z \" transform=\"scale(0.015625)\" />\n       <path id=\"DejaVuSans-61\" d=\"M 2194 1759  Q 1497 1759 1228 1600  Q 959 1441 959 1056  Q 959 750 1161 570  Q 1363 391 1709 391  Q 2188 391 2477 730  Q 2766 1069 2766 1631  L 2766 1759  L 2194 1759  z M 3341 1997  L 3341 0  L 2766 0  L 2766 531  Q 2569 213 2275 61  Q 1981 -91 1556 -91  Q 1019 -91 701 211  Q 384 513 384 1019  Q 384 1609 779 1909  Q 1175 2209 1959 2209  L 2766 2209  L 2766 2266  Q 2766 2663 2505 2880  Q 2244 3097 1772 3097  Q 1472 3097 1187 3025  Q 903 2953 641 2809  L 641 3341  Q 956 3463 1253 3523  Q 1550 3584 1831 3584  Q 2591 3584 2966 3190  Q 3341 2797 3341 1997  z \" transform=\"scale(0.015625)\" />\n       <path id=\"DejaVuSans-73\" d=\"M 2834 3397  L 2834 2853  Q 2591 2978 2328 3040  Q 2066 3103 1784 3103  Q 1356 3103 1142 2972  Q 928 2841 928 2578  Q 928 2378 1081 2264  Q 1234 2150 1697 2047  L 1894 2003  Q 2506 1872 2764 1633  Q 3022 1394 3022 966  Q 3022 478 2636 193  Q 2250 -91 1575 -91  Q 1294 -91 989 -36  Q 684 19 347 128  L 347 722  Q 666 556 975 473  Q 1284 391 1588 391  Q 1994 391 2212 530  Q 2431 669 2431 922  Q 2431 1156 2273 1281  Q 2116 1406 1581 1522  L 1381 1569  Q 847 1681 609 1914  Q 372 2147 372 2553  Q 372 3047 722 3315  Q 1072 3584 1716 3584  Q 2034 3584 2315 3537  Q 2597 3491 2834 3397  z \" transform=\"scale(0.015625)\" />\n       <path id=\"DejaVuSans-20\" transform=\"scale(0.015625)\" />\n       <path id=\"DejaVuSans-30\" d=\"M 2034 4250  Q 1547 4250 1301 3770  Q 1056 3291 1056 2328  Q 1056 1369 1301 889  Q 1547 409 2034 409  Q 2525 409 2770 889  Q 3016 1369 3016 2328  Q 3016 3291 2770 3770  Q 2525 4250 2034 4250  z M 2034 4750  Q 2819 4750 3233 4129  Q 3647 3509 3647 2328  Q 3647 1150 3233 529  Q 2819 -91 2034 -91  Q 1250 -91 836 529  Q 422 1150 422 2328  Q 422 3509 836 4129  Q 1250 4750 2034 4750  z \" transform=\"scale(0.015625)\" />\n      </defs>\n      <use xlink:href=\"#DejaVuSans-43\" />\n      <use xlink:href=\"#DejaVuSans-6c\" x=\"69.824219\" />\n      <use xlink:href=\"#DejaVuSans-61\" x=\"97.607422\" />\n      <use xlink:href=\"#DejaVuSans-73\" x=\"158.886719\" />\n      <use xlink:href=\"#DejaVuSans-73\" x=\"210.986328\" />\n      <use xlink:href=\"#DejaVuSans-20\" x=\"263.085938\" />\n      <use xlink:href=\"#DejaVuSans-30\" x=\"294.873047\" />\n     </g>\n    </g>\n    <g id=\"patch_4\">\n     <path d=\"M 11.651562 56.157812  L 35.651562 56.157812  L 35.651562 47.757812  L 11.651562 47.757812  z \" style=\"fill: #a1dab4; stroke: #444443; stroke-width: 0.4; stroke-linejoin: miter\" />\n    </g>\n    <g id=\"text_3\">\n     \n     <g style=\"fill: #444443\" transform=\"translate(39.851562 56.157812) scale(0.1 -0.1)\">\n      <defs>\n       <path id=\"DejaVuSans-31\" d=\"M 794 531  L 1825 531  L 1825 4091  L 703 3866  L 703 4441  L 1819 4666  L 2450 4666  L 2450 531  L 3481 531  L 3481 0  L 794 0  L 794 531  z \" transform=\"scale(0.015625)\" />\n      </defs>\n      <use xlink:href=\"#DejaVuSans-43\" />\n      <use xlink:href=\"#DejaVuSans-6c\" x=\"69.824219\" />\n      <use xlink:href=\"#DejaVuSans-61\" x=\"97.607422\" />\n      <use xlink:href=\"#DejaVuSans-73\" x=\"158.886719\" />\n      <use xlink:href=\"#DejaVuSans-73\" x=\"210.986328\" />\n      <use xlink:href=\"#DejaVuSans-20\" x=\"263.085938\" />\n      <use xlink:href=\"#DejaVuSans-31\" x=\"294.873047\" />\n     </g>\n    </g>\n   </g>\n  </g>\n </g>\n</svg></g>\n</g>\n</svg>",
      "text/plain": [
       "<dtreeviz.utils.DTreeVizRender at 0x7faf2cc72f80>"
      ]
     },
     "execution_count": 51,
     "metadata": {},
     "output_type": "execute_result"
    }
   ],
   "source": [
    "viz_model.view(fontname=\"DejaVu Sans\", scale=1.8, label_fontsize=10)"
   ]
  },
  {
   "cell_type": "code",
   "execution_count": 52,
   "metadata": {},
   "outputs": [],
   "source": [
    "viz_model = dtreeviz.model(m, X_train=xs, y_train=y, target_name=dep_var)"
   ]
  },
  {
   "cell_type": "code",
   "execution_count": 53,
   "metadata": {},
   "outputs": [
    {
     "name": "stderr",
     "output_type": "stream",
     "text": [
      "/home/petewin/mambaforge/lib/python3.10/site-packages/sklearn/base.py:409: UserWarning: X does not have valid feature names, but DecisionTreeClassifier was fitted with feature names\n"
     ]
    },
    {
     "data": {
      "image/svg+xml": "<svg xmlns=\"http://www.w3.org/2000/svg\" xmlns:dc=\"http://purl.org/dc/elements/1.1/\" xmlns:ns2=\"http://creativecommons.org/ns#\" xmlns:rdf=\"http://www.w3.org/1999/02/22-rdf-syntax-ns#\" xmlns:xlink=\"http://www.w3.org/1999/xlink\" width=\"657.0\" height=\"493.2\" viewBox=\"0.0 0.0 656.1 493.2\">\n<g id=\"graph0\" class=\"graph\" transform=\"scale(1.8 1.8) rotate(0) translate(4 270)\">\n<title>G</title>\n<polygon fill=\"white\" stroke=\"none\" points=\"-4,4 -4,-270 360.5,-270 360.5,4 -4,4\" />\n<g id=\"clust4\" class=\"cluster\">\n<title>cluster_legend</title>\n</g>\n\n<g id=\"node1\" class=\"node\">\n<title>node1</title>\n<svg width=\"154px\" height=\"36px\" viewBox=\"0 0 206.41 48.681875\" version=\"1.1\" preserveAspectRatio=\"xMinYMin meet\" x=\"18\" y=\"-144\">\n <metadata>\n  <rdf:RDF>\n   <ns2:Work>\n    <dc:type rdf:resource=\"http://purl.org/dc/dcmitype/StillImage\" />\n    <dc:date>2023-02-25T05:25:39.482785</dc:date>\n    <dc:format>image/svg+xml</dc:format>\n    <dc:creator>\n     <ns2:Agent>\n      <dc:title>Matplotlib v3.6.2, https://matplotlib.org/</dc:title>\n     </ns2:Agent>\n    </dc:creator>\n   </ns2:Work>\n  </rdf:RDF>\n </metadata>\n <defs>\n  <style type=\"text/css\">*{stroke-linejoin: round; stroke-linecap: butt}</style>\n </defs>\n <g id=\"figure_1\">\n  <g id=\"patch_1\">\n   <path d=\"M 0 48.681875  L 206.41 48.681875  L 206.41 0  L 0 0  z \" style=\"fill: #ffffff\" />\n  </g>\n  <g id=\"axes_1\">\n   <g id=\"patch_2\">\n    <path d=\"M 22.27 29.439375  L 206.41 29.439375  L 206.41 1.719375  L 22.27 1.719375  z \" style=\"fill: #ffffff\" />\n   </g>\n   <g id=\"patch_3\">\n    <path d=\"M 38.282174 29.439375  L 46.288261 29.439375  L 46.288261 27.834955  L 38.282174 27.834955  z \" clip-path=\"url(#pde4c9920bc)\" style=\"fill: #fefebb; stroke: #444443; stroke-width: 0.5; stroke-linejoin: miter\" />\n   </g>\n   <g id=\"patch_4\">\n    <path d=\"M 46.288261 29.439375  L 54.294348 29.439375  L 54.294348 28.381916  L 46.288261 28.381916  z \" clip-path=\"url(#pde4c9920bc)\" style=\"fill: #fefebb; stroke: #444443; stroke-width: 0.5; stroke-linejoin: miter\" />\n   </g>\n   <g id=\"patch_5\">\n    <path d=\"M 54.294348 29.439375  L 62.300435 29.439375  L 62.300435 28.23606  L 54.294348 28.23606  z \" clip-path=\"url(#pde4c9920bc)\" style=\"fill: #fefebb; stroke: #444443; stroke-width: 0.5; stroke-linejoin: miter\" />\n   </g>\n   <g id=\"patch_6\">\n    <path d=\"M 62.300435 29.439375  L 70.306522 29.439375  L 70.306522 23.313408  L 62.300435 23.313408  z \" clip-path=\"url(#pde4c9920bc)\" style=\"fill: #fefebb; stroke: #444443; stroke-width: 0.5; stroke-linejoin: miter\" />\n   </g>\n   <g id=\"patch_7\">\n    <path d=\"M 70.306522 29.439375  L 78.312609 29.439375  L 78.312609 16.239375  L 70.306522 16.239375  z \" clip-path=\"url(#pde4c9920bc)\" style=\"fill: #fefebb; stroke: #444443; stroke-width: 0.5; stroke-linejoin: miter\" />\n   </g>\n   <g id=\"patch_8\">\n    <path d=\"M 78.312609 29.439375  L 86.318696 29.439375  L 86.318696 12.702358  L 78.312609 12.702358  z \" clip-path=\"url(#pde4c9920bc)\" style=\"fill: #fefebb; stroke: #444443; stroke-width: 0.5; stroke-linejoin: miter\" />\n   </g>\n   <g id=\"patch_9\">\n    <path d=\"M 86.318696 29.439375  L 94.324783 29.439375  L 94.324783 11.681364  L 86.318696 11.681364  z \" clip-path=\"url(#pde4c9920bc)\" style=\"fill: #fefebb; stroke: #444443; stroke-width: 0.5; stroke-linejoin: miter\" />\n   </g>\n   <g id=\"patch_10\">\n    <path d=\"M 94.324783 29.439375  L 102.33087 29.439375  L 102.33087 18.317828  L 94.324783 18.317828  z \" clip-path=\"url(#pde4c9920bc)\" style=\"fill: #fefebb; stroke: #444443; stroke-width: 0.5; stroke-linejoin: miter\" />\n   </g>\n   <g id=\"patch_11\">\n    <path d=\"M 102.33087 29.439375  L 110.336957 29.439375  L 110.336957 20.359817  L 102.33087 20.359817  z \" clip-path=\"url(#pde4c9920bc)\" style=\"fill: #fefebb; stroke: #444443; stroke-width: 0.5; stroke-linejoin: miter\" />\n   </g>\n   <g id=\"patch_12\">\n    <path d=\"M 110.336957 29.439375  L 118.343043 29.439375  L 118.343043 22.401806  L 110.336957 22.401806  z \" clip-path=\"url(#pde4c9920bc)\" style=\"fill: #fefebb; stroke: #444443; stroke-width: 0.5; stroke-linejoin: miter\" />\n   </g>\n   <g id=\"patch_13\">\n    <path d=\"M 118.343043 29.439375  L 126.34913 29.439375  L 126.34913 23.532193  L 118.343043 23.532193  z \" clip-path=\"url(#pde4c9920bc)\" style=\"fill: #fefebb; stroke: #444443; stroke-width: 0.5; stroke-linejoin: miter\" />\n   </g>\n   <g id=\"patch_14\">\n    <path d=\"M 126.34913 29.439375  L 134.355217 29.439375  L 134.355217 25.100148  L 126.34913 25.100148  z \" clip-path=\"url(#pde4c9920bc)\" style=\"fill: #fefebb; stroke: #444443; stroke-width: 0.5; stroke-linejoin: miter\" />\n   </g>\n   <g id=\"patch_15\">\n    <path d=\"M 134.355217 29.439375  L 142.361304 29.439375  L 142.361304 25.246005  L 134.355217 25.246005  z \" clip-path=\"url(#pde4c9920bc)\" style=\"fill: #fefebb; stroke: #444443; stroke-width: 0.5; stroke-linejoin: miter\" />\n   </g>\n   <g id=\"patch_16\">\n    <path d=\"M 142.361304 29.439375  L 150.367391 29.439375  L 150.367391 26.412856  L 142.361304 26.412856  z \" clip-path=\"url(#pde4c9920bc)\" style=\"fill: #fefebb; stroke: #444443; stroke-width: 0.5; stroke-linejoin: miter\" />\n   </g>\n   <g id=\"patch_17\">\n    <path d=\"M 150.367391 29.439375  L 158.373478 29.439375  L 158.373478 28.126668  L 150.367391 28.126668  z \" clip-path=\"url(#pde4c9920bc)\" style=\"fill: #fefebb; stroke: #444443; stroke-width: 0.5; stroke-linejoin: miter\" />\n   </g>\n   <g id=\"patch_18\">\n    <path d=\"M 158.373478 29.439375  L 166.379565 29.439375  L 166.379565 28.345452  L 158.373478 28.345452  z \" clip-path=\"url(#pde4c9920bc)\" style=\"fill: #fefebb; stroke: #444443; stroke-width: 0.5; stroke-linejoin: miter\" />\n   </g>\n   <g id=\"patch_19\">\n    <path d=\"M 166.379565 29.439375  L 174.385652 29.439375  L 174.385652 28.965342  L 166.379565 28.965342  z \" clip-path=\"url(#pde4c9920bc)\" style=\"fill: #fefebb; stroke: #444443; stroke-width: 0.5; stroke-linejoin: miter\" />\n   </g>\n   <g id=\"patch_20\">\n    <path d=\"M 174.385652 29.439375  L 182.391739 29.439375  L 182.391739 29.03827  L 174.385652 29.03827  z \" clip-path=\"url(#pde4c9920bc)\" style=\"fill: #fefebb; stroke: #444443; stroke-width: 0.5; stroke-linejoin: miter\" />\n   </g>\n   <g id=\"patch_21\">\n    <path d=\"M 182.391739 29.439375  L 190.397826 29.439375  L 190.397826 29.184126  L 182.391739 29.184126  z \" clip-path=\"url(#pde4c9920bc)\" style=\"fill: #fefebb; stroke: #444443; stroke-width: 0.5; stroke-linejoin: miter\" />\n   </g>\n   <g id=\"patch_22\">\n    <path d=\"M 38.282174 27.834955  L 46.288261 27.834955  L 46.288261 23.204016  L 38.282174 23.204016  z \" clip-path=\"url(#pde4c9920bc)\" style=\"fill: #a1dab4; stroke: #444443; stroke-width: 0.5; stroke-linejoin: miter\" />\n   </g>\n   <g id=\"patch_23\">\n    <path d=\"M 46.288261 28.381916  L 54.294348 28.381916  L 54.294348 26.522248  L 46.288261 26.522248  z \" clip-path=\"url(#pde4c9920bc)\" style=\"fill: #a1dab4; stroke: #444443; stroke-width: 0.5; stroke-linejoin: miter\" />\n   </g>\n   <g id=\"patch_24\">\n    <path d=\"M 54.294348 28.23606  L 62.300435 28.23606  L 62.300435 26.668104  L 54.294348 26.668104  z \" clip-path=\"url(#pde4c9920bc)\" style=\"fill: #a1dab4; stroke: #444443; stroke-width: 0.5; stroke-linejoin: miter\" />\n   </g>\n   <g id=\"patch_25\">\n    <path d=\"M 62.300435 23.313408  L 70.306522 23.313408  L 70.306522 21.198491  L 62.300435 21.198491  z \" clip-path=\"url(#pde4c9920bc)\" style=\"fill: #a1dab4; stroke: #444443; stroke-width: 0.5; stroke-linejoin: miter\" />\n   </g>\n   <g id=\"patch_26\">\n    <path d=\"M 70.306522 16.239375  L 78.312609 16.239375  L 78.312609 10.368657  L 70.306522 10.368657  z \" clip-path=\"url(#pde4c9920bc)\" style=\"fill: #a1dab4; stroke: #444443; stroke-width: 0.5; stroke-linejoin: miter\" />\n   </g>\n   <g id=\"patch_27\">\n    <path d=\"M 78.312609 12.702358  L 86.318696 12.702358  L 86.318696 5.518933  L 78.312609 5.518933  z \" clip-path=\"url(#pde4c9920bc)\" style=\"fill: #a1dab4; stroke: #444443; stroke-width: 0.5; stroke-linejoin: miter\" />\n   </g>\n   <g id=\"patch_28\">\n    <path d=\"M 86.318696 11.681364  L 94.324783 11.681364  L 94.324783 3.039375  L 86.318696 3.039375  z \" clip-path=\"url(#pde4c9920bc)\" style=\"fill: #a1dab4; stroke: #444443; stroke-width: 0.5; stroke-linejoin: miter\" />\n   </g>\n   <g id=\"patch_29\">\n    <path d=\"M 94.324783 18.317828  L 102.33087 18.317828  L 102.33087 15.03606  L 94.324783 15.03606  z \" clip-path=\"url(#pde4c9920bc)\" style=\"fill: #a1dab4; stroke: #444443; stroke-width: 0.5; stroke-linejoin: miter\" />\n   </g>\n   <g id=\"patch_30\">\n    <path d=\"M 102.33087 20.359817  L 110.336957 20.359817  L 110.336957 16.567552  L 102.33087 16.567552  z \" clip-path=\"url(#pde4c9920bc)\" style=\"fill: #a1dab4; stroke: #444443; stroke-width: 0.5; stroke-linejoin: miter\" />\n   </g>\n   <g id=\"patch_31\">\n    <path d=\"M 110.336957 22.401806  L 118.343043 22.401806  L 118.343043 19.484679  L 110.336957 19.484679  z \" clip-path=\"url(#pde4c9920bc)\" style=\"fill: #a1dab4; stroke: #444443; stroke-width: 0.5; stroke-linejoin: miter\" />\n   </g>\n   <g id=\"patch_32\">\n    <path d=\"M 118.343043 23.532193  L 126.34913 23.532193  L 126.34913 20.542137  L 118.343043 20.542137  z \" clip-path=\"url(#pde4c9920bc)\" style=\"fill: #a1dab4; stroke: #444443; stroke-width: 0.5; stroke-linejoin: miter\" />\n   </g>\n   <g id=\"patch_33\">\n    <path d=\"M 126.34913 25.100148  L 134.355217 25.100148  L 134.355217 22.948767  L 126.34913 22.948767  z \" clip-path=\"url(#pde4c9920bc)\" style=\"fill: #a1dab4; stroke: #444443; stroke-width: 0.5; stroke-linejoin: miter\" />\n   </g>\n   <g id=\"patch_34\">\n    <path d=\"M 134.355217 25.246005  L 142.361304 25.246005  L 142.361304 23.532193  L 134.355217 23.532193  z \" clip-path=\"url(#pde4c9920bc)\" style=\"fill: #a1dab4; stroke: #444443; stroke-width: 0.5; stroke-linejoin: miter\" />\n   </g>\n   <g id=\"patch_35\">\n    <path d=\"M 142.361304 26.412856  L 150.367391 26.412856  L 150.367391 25.318933  L 142.361304 25.318933  z \" clip-path=\"url(#pde4c9920bc)\" style=\"fill: #a1dab4; stroke: #444443; stroke-width: 0.5; stroke-linejoin: miter\" />\n   </g>\n   <g id=\"patch_36\">\n    <path d=\"M 150.367391 28.126668  L 158.373478 28.126668  L 158.373478 27.360922  L 150.367391 27.360922  z \" clip-path=\"url(#pde4c9920bc)\" style=\"fill: #a1dab4; stroke: #444443; stroke-width: 0.5; stroke-linejoin: miter\" />\n   </g>\n   <g id=\"patch_37\">\n    <path d=\"M 158.373478 28.345452  L 166.379565 28.345452  L 166.379565 27.871419  L 158.373478 27.871419  z \" clip-path=\"url(#pde4c9920bc)\" style=\"fill: #a1dab4; stroke: #444443; stroke-width: 0.5; stroke-linejoin: miter\" />\n   </g>\n   <g id=\"patch_38\">\n    <path d=\"M 166.379565 28.965342  L 174.385652 28.965342  L 174.385652 28.746557  L 166.379565 28.746557  z \" clip-path=\"url(#pde4c9920bc)\" style=\"fill: #a1dab4; stroke: #444443; stroke-width: 0.5; stroke-linejoin: miter\" />\n   </g>\n   <g id=\"patch_39\">\n    <path d=\"M 174.385652 29.03827  L 182.391739 29.03827  L 182.391739 28.928878  L 174.385652 28.928878  z \" clip-path=\"url(#pde4c9920bc)\" style=\"fill: #a1dab4; stroke: #444443; stroke-width: 0.5; stroke-linejoin: miter\" />\n   </g>\n   <g id=\"patch_40\">\n    <path d=\"M 182.391739 29.184126  L 190.397826 29.184126  L 190.397826 29.184126  L 182.391739 29.184126  z \" clip-path=\"url(#pde4c9920bc)\" style=\"fill: #a1dab4; stroke: #444443; stroke-width: 0.5; stroke-linejoin: miter\" />\n   </g>\n   <g id=\"patch_41\">\n    <path d=\"M 62.351107 30.270975  L 59.036587 38.586975  L 65.665627 38.586975  z \" style=\"fill: #444443\" />\n   </g>\n   <g id=\"matplotlib.axis_1\">\n    <g id=\"xtick_1\">\n     <g id=\"line2d_1\">\n      <defs>\n       <path id=\"m15715437fa\" d=\"M 0 0  L 0 3.5  \" style=\"stroke: #000000; stroke-width: 0.3\" />\n      </defs>\n      <g>\n       <use xlink:href=\"#m15715437fa\" x=\"38.282174\" y=\"29.439375\" style=\"stroke: #000000; stroke-width: 0.3\" />\n      </g>\n     </g>\n     <g id=\"text_1\">\n      \n      <g style=\"fill: #444443\" transform=\"translate(23.479049 47.018125) scale(0.08 -0.08)\">\n       <defs>\n        <path id=\"DejaVuSans-2212\" d=\"M 678 2272  L 4684 2272  L 4684 1741  L 678 1741  L 678 2272  z \" transform=\"scale(0.015625)\" />\n        <path id=\"DejaVuSans-32\" d=\"M 1228 531  L 3431 531  L 3431 0  L 469 0  L 469 531  Q 828 903 1448 1529  Q 2069 2156 2228 2338  Q 2531 2678 2651 2914  Q 2772 3150 2772 3378  Q 2772 3750 2511 3984  Q 2250 4219 1831 4219  Q 1534 4219 1204 4116  Q 875 4013 500 3803  L 500 4441  Q 881 4594 1212 4672  Q 1544 4750 1819 4750  Q 2544 4750 2975 4387  Q 3406 4025 3406 3419  Q 3406 3131 3298 2873  Q 3191 2616 2906 2266  Q 2828 2175 2409 1742  Q 1991 1309 1228 531  z \" transform=\"scale(0.015625)\" />\n        <path id=\"DejaVuSans-2e\" d=\"M 684 794  L 1344 794  L 1344 0  L 684 0  L 684 794  z \" transform=\"scale(0.015625)\" />\n        <path id=\"DejaVuSans-30\" d=\"M 2034 4250  Q 1547 4250 1301 3770  Q 1056 3291 1056 2328  Q 1056 1369 1301 889  Q 1547 409 2034 409  Q 2525 409 2770 889  Q 3016 1369 3016 2328  Q 3016 3291 2770 3770  Q 2525 4250 2034 4250  z M 2034 4750  Q 2819 4750 3233 4129  Q 3647 3509 3647 2328  Q 3647 1150 3233 529  Q 2819 -91 2034 -91  Q 1250 -91 836 529  Q 422 1150 422 2328  Q 422 3509 836 4129  Q 1250 4750 2034 4750  z \" transform=\"scale(0.015625)\" />\n        <path id=\"DejaVuSans-34\" d=\"M 2419 4116  L 825 1625  L 2419 1625  L 2419 4116  z M 2253 4666  L 3047 4666  L 3047 1625  L 3713 1625  L 3713 1100  L 3047 1100  L 3047 0  L 2419 0  L 2419 1100  L 313 1100  L 313 1709  L 2253 4666  z \" transform=\"scale(0.015625)\" />\n       </defs>\n       <use xlink:href=\"#DejaVuSans-2212\" />\n       <use xlink:href=\"#DejaVuSans-32\" x=\"83.789062\" />\n       <use xlink:href=\"#DejaVuSans-2e\" x=\"147.412109\" />\n       <use xlink:href=\"#DejaVuSans-30\" x=\"179.199219\" />\n       <use xlink:href=\"#DejaVuSans-30\" x=\"242.822266\" />\n       <use xlink:href=\"#DejaVuSans-34\" x=\"306.445312\" />\n      </g>\n     </g>\n    </g>\n    <g id=\"xtick_2\">\n     <g id=\"line2d_2\">\n      <g>\n       <use xlink:href=\"#m15715437fa\" x=\"62.351107\" y=\"29.439375\" style=\"stroke: #000000; stroke-width: 0.3\" />\n      </g>\n     </g>\n     <g id=\"text_2\">\n      \n      <g style=\"fill: #444443\" transform=\"translate(47.547982 47.018125) scale(0.08 -0.08)\">\n       <defs>\n        <path id=\"DejaVuSans-31\" d=\"M 794 531  L 1825 531  L 1825 4091  L 703 3866  L 703 4441  L 1819 4666  L 2450 4666  L 2450 531  L 3481 531  L 3481 0  L 794 0  L 794 531  z \" transform=\"scale(0.015625)\" />\n        <path id=\"DejaVuSans-33\" d=\"M 2597 2516  Q 3050 2419 3304 2112  Q 3559 1806 3559 1356  Q 3559 666 3084 287  Q 2609 -91 1734 -91  Q 1441 -91 1130 -33  Q 819 25 488 141  L 488 750  Q 750 597 1062 519  Q 1375 441 1716 441  Q 2309 441 2620 675  Q 2931 909 2931 1356  Q 2931 1769 2642 2001  Q 2353 2234 1838 2234  L 1294 2234  L 1294 2753  L 1863 2753  Q 2328 2753 2575 2939  Q 2822 3125 2822 3475  Q 2822 3834 2567 4026  Q 2313 4219 1838 4219  Q 1578 4219 1281 4162  Q 984 4106 628 3988  L 628 4550  Q 988 4650 1302 4700  Q 1616 4750 1894 4750  Q 2613 4750 3031 4423  Q 3450 4097 3450 3541  Q 3450 3153 3228 2886  Q 3006 2619 2597 2516  z \" transform=\"scale(0.015625)\" />\n        <path id=\"DejaVuSans-35\" d=\"M 691 4666  L 3169 4666  L 3169 4134  L 1269 4134  L 1269 2991  Q 1406 3038 1543 3061  Q 1681 3084 1819 3084  Q 2600 3084 3056 2656  Q 3513 2228 3513 1497  Q 3513 744 3044 326  Q 2575 -91 1722 -91  Q 1428 -91 1123 -41  Q 819 9 494 109  L 494 744  Q 775 591 1075 516  Q 1375 441 1709 441  Q 2250 441 2565 725  Q 2881 1009 2881 1497  Q 2881 1984 2565 2268  Q 2250 2553 1709 2553  Q 1456 2553 1204 2497  Q 953 2441 691 2322  L 691 4666  z \" transform=\"scale(0.015625)\" />\n       </defs>\n       <use xlink:href=\"#DejaVuSans-2212\" />\n       <use xlink:href=\"#DejaVuSans-31\" x=\"83.789062\" />\n       <use xlink:href=\"#DejaVuSans-2e\" x=\"147.412109\" />\n       <use xlink:href=\"#DejaVuSans-31\" x=\"179.199219\" />\n       <use xlink:href=\"#DejaVuSans-33\" x=\"242.822266\" />\n       <use xlink:href=\"#DejaVuSans-35\" x=\"306.445312\" />\n      </g>\n     </g>\n    </g>\n    <g id=\"xtick_3\">\n     <g id=\"line2d_3\">\n      <g>\n       <use xlink:href=\"#m15715437fa\" x=\"190.397826\" y=\"29.439375\" style=\"stroke: #000000; stroke-width: 0.3\" />\n      </g>\n     </g>\n     <g id=\"text_3\">\n      \n      <g style=\"fill: #444443\" transform=\"translate(178.946576 47.018125) scale(0.08 -0.08)\">\n       <defs>\n        <path id=\"DejaVuSans-39\" d=\"M 703 97  L 703 672  Q 941 559 1184 500  Q 1428 441 1663 441  Q 2288 441 2617 861  Q 2947 1281 2994 2138  Q 2813 1869 2534 1725  Q 2256 1581 1919 1581  Q 1219 1581 811 2004  Q 403 2428 403 3163  Q 403 3881 828 4315  Q 1253 4750 1959 4750  Q 2769 4750 3195 4129  Q 3622 3509 3622 2328  Q 3622 1225 3098 567  Q 2575 -91 1691 -91  Q 1453 -91 1209 -44  Q 966 3 703 97  z M 1959 2075  Q 2384 2075 2632 2365  Q 2881 2656 2881 3163  Q 2881 3666 2632 3958  Q 2384 4250 1959 4250  Q 1534 4250 1286 3958  Q 1038 3666 1038 3163  Q 1038 2656 1286 2365  Q 1534 2075 1959 2075  z \" transform=\"scale(0.015625)\" />\n       </defs>\n       <use xlink:href=\"#DejaVuSans-33\" />\n       <use xlink:href=\"#DejaVuSans-2e\" x=\"63.623047\" />\n       <use xlink:href=\"#DejaVuSans-34\" x=\"95.410156\" />\n       <use xlink:href=\"#DejaVuSans-39\" x=\"159.033203\" />\n       <use xlink:href=\"#DejaVuSans-30\" x=\"222.65625\" />\n      </g>\n     </g>\n    </g>\n   </g>\n   <g id=\"matplotlib.axis_2\">\n    <g id=\"ytick_1\">\n     <g id=\"line2d_4\">\n      <defs>\n       <path id=\"m285e2e77f3\" d=\"M 0 0  L -3.5 0  \" style=\"stroke: #000000; stroke-width: 0.3\" />\n      </defs>\n      <g>\n       <use xlink:href=\"#m285e2e77f3\" x=\"22.27\" y=\"29.439375\" style=\"stroke: #000000; stroke-width: 0.3\" />\n      </g>\n     </g>\n     <g id=\"text_4\">\n      \n      <g style=\"fill: #444443\" transform=\"translate(10.18 32.47875) scale(0.08 -0.08)\">\n       <use xlink:href=\"#DejaVuSans-30\" />\n      </g>\n     </g>\n    </g>\n    <g id=\"ytick_2\">\n     <g id=\"line2d_5\">\n      <g>\n       <use xlink:href=\"#m285e2e77f3\" x=\"22.27\" y=\"3.039375\" style=\"stroke: #000000; stroke-width: 0.3\" />\n      </g>\n     </g>\n     <g id=\"text_5\">\n      \n      <g style=\"fill: #444443\" transform=\"translate(0 6.07875) scale(0.08 -0.08)\">\n       <defs>\n        <path id=\"DejaVuSans-37\" d=\"M 525 4666  L 3525 4666  L 3525 4397  L 1831 0  L 1172 0  L 2766 4134  L 525 4134  L 525 4666  z \" transform=\"scale(0.015625)\" />\n       </defs>\n       <use xlink:href=\"#DejaVuSans-37\" />\n       <use xlink:href=\"#DejaVuSans-32\" x=\"63.623047\" />\n       <use xlink:href=\"#DejaVuSans-34\" x=\"127.246094\" />\n      </g>\n     </g>\n    </g>\n   </g>\n   <g id=\"patch_42\">\n    <path d=\"M 22.27 29.439375  L 22.27 1.719375  \" style=\"fill: none; stroke: #444443; stroke-width: 0.3; stroke-linejoin: miter; stroke-linecap: square\" />\n   </g>\n   <g id=\"patch_43\">\n    <path d=\"M 22.27 29.439375  L 206.41 29.439375  \" style=\"fill: none; stroke: #444443; stroke-width: 0.3; stroke-linejoin: miter; stroke-linecap: square\" />\n   </g>\n  </g>\n </g>\n <defs>\n  <clipPath id=\"pde4c9920bc\">\n   <rect x=\"22.27\" y=\"1.719375\" width=\"184.14\" height=\"27.72\" />\n  </clipPath>\n </defs>\n</svg></g>\n\n<g id=\"node2\" class=\"node\">\n<title>node2</title>\n<svg width=\"159px\" height=\"42px\" viewBox=\"0 0 211.5 56.653866\" version=\"1.1\" preserveAspectRatio=\"xMinYMin meet\" x=\"194\" y=\"-147\">\n <metadata>\n  <rdf:RDF>\n   <ns2:Work>\n    <dc:type rdf:resource=\"http://purl.org/dc/dcmitype/StillImage\" />\n    <dc:date>2023-02-25T05:25:39.557261</dc:date>\n    <dc:format>image/svg+xml</dc:format>\n    <dc:creator>\n     <ns2:Agent>\n      <dc:title>Matplotlib v3.6.2, https://matplotlib.org/</dc:title>\n     </ns2:Agent>\n    </dc:creator>\n   </ns2:Work>\n  </rdf:RDF>\n </metadata>\n <defs>\n  <style type=\"text/css\">*{stroke-linejoin: round; stroke-linecap: butt}</style>\n </defs>\n <g id=\"figure_1\">\n  <g id=\"patch_1\">\n   <path d=\"M 0 56.653866  L 211.5 56.653866  L 211.5 0  L 0 0  z \" style=\"fill: #ffffff\" />\n  </g>\n  <g id=\"axes_1\">\n   <g id=\"patch_2\">\n    <path d=\"M 27.36 37.411366  L 211.5 37.411366  L 211.5 1.320775  L 27.36 1.320775  z \" style=\"fill: #ffffff\" />\n   </g>\n   <g id=\"patch_3\">\n    <path d=\"M 43.372174 37.411366  L 51.378261 37.411366  L 51.378261 37.155707  L 43.372174 37.155707  z \" clip-path=\"url(#pe0a0e854db)\" style=\"fill: #fefebb; stroke: #444443; stroke-width: 0.5; stroke-linejoin: miter\" />\n   </g>\n   <g id=\"patch_4\">\n    <path d=\"M 51.378261 37.411366  L 59.384348 37.411366  L 59.384348 37.411366  L 51.378261 37.411366  z \" clip-path=\"url(#pe0a0e854db)\" style=\"fill: #fefebb; stroke: #444443; stroke-width: 0.5; stroke-linejoin: miter\" />\n   </g>\n   <g id=\"patch_5\">\n    <path d=\"M 59.384348 37.411366  L 67.390435 37.411366  L 67.390435 37.411366  L 59.384348 37.411366  z \" clip-path=\"url(#pe0a0e854db)\" style=\"fill: #fefebb; stroke: #444443; stroke-width: 0.5; stroke-linejoin: miter\" />\n   </g>\n   <g id=\"patch_6\">\n    <path d=\"M 67.390435 37.411366  L 75.396522 37.411366  L 75.396522 37.411366  L 67.390435 37.411366  z \" clip-path=\"url(#pe0a0e854db)\" style=\"fill: #fefebb; stroke: #444443; stroke-width: 0.5; stroke-linejoin: miter\" />\n   </g>\n   <g id=\"patch_7\">\n    <path d=\"M 75.396522 37.411366  L 83.402609 37.411366  L 83.402609 37.411366  L 75.396522 37.411366  z \" clip-path=\"url(#pe0a0e854db)\" style=\"fill: #fefebb; stroke: #444443; stroke-width: 0.5; stroke-linejoin: miter\" />\n   </g>\n   <g id=\"patch_8\">\n    <path d=\"M 83.402609 37.411366  L 91.408696 37.411366  L 91.408696 37.411366  L 83.402609 37.411366  z \" clip-path=\"url(#pe0a0e854db)\" style=\"fill: #fefebb; stroke: #444443; stroke-width: 0.5; stroke-linejoin: miter\" />\n   </g>\n   <g id=\"patch_9\">\n    <path d=\"M 91.408696 37.411366  L 99.414783 37.411366  L 99.414783 24.827241  L 91.408696 24.827241  z \" clip-path=\"url(#pe0a0e854db)\" style=\"fill: #fefebb; stroke: #444443; stroke-width: 0.5; stroke-linejoin: miter\" />\n   </g>\n   <g id=\"patch_10\">\n    <path d=\"M 99.414783 37.411366  L 107.42087 37.411366  L 107.42087 37.411366  L 99.414783 37.411366  z \" clip-path=\"url(#pe0a0e854db)\" style=\"fill: #fefebb; stroke: #444443; stroke-width: 0.5; stroke-linejoin: miter\" />\n   </g>\n   <g id=\"patch_11\">\n    <path d=\"M 107.42087 37.411366  L 115.426957 37.411366  L 115.426957 37.411366  L 107.42087 37.411366  z \" clip-path=\"url(#pe0a0e854db)\" style=\"fill: #fefebb; stroke: #444443; stroke-width: 0.5; stroke-linejoin: miter\" />\n   </g>\n   <g id=\"patch_12\">\n    <path d=\"M 115.426957 37.411366  L 123.433043 37.411366  L 123.433043 37.411366  L 115.426957 37.411366  z \" clip-path=\"url(#pe0a0e854db)\" style=\"fill: #fefebb; stroke: #444443; stroke-width: 0.5; stroke-linejoin: miter\" />\n   </g>\n   <g id=\"patch_13\">\n    <path d=\"M 123.433043 37.411366  L 131.43913 37.411366  L 131.43913 37.411366  L 123.433043 37.411366  z \" clip-path=\"url(#pe0a0e854db)\" style=\"fill: #fefebb; stroke: #444443; stroke-width: 0.5; stroke-linejoin: miter\" />\n   </g>\n   <g id=\"patch_14\">\n    <path d=\"M 131.43913 37.411366  L 139.445217 37.411366  L 139.445217 37.411366  L 131.43913 37.411366  z \" clip-path=\"url(#pe0a0e854db)\" style=\"fill: #fefebb; stroke: #444443; stroke-width: 0.5; stroke-linejoin: miter\" />\n   </g>\n   <g id=\"patch_15\">\n    <path d=\"M 139.445217 37.411366  L 147.451304 37.411366  L 147.451304 36.729608  L 139.445217 36.729608  z \" clip-path=\"url(#pe0a0e854db)\" style=\"fill: #fefebb; stroke: #444443; stroke-width: 0.5; stroke-linejoin: miter\" />\n   </g>\n   <g id=\"patch_16\">\n    <path d=\"M 147.451304 37.411366  L 155.457391 37.411366  L 155.457391 37.411366  L 147.451304 37.411366  z \" clip-path=\"url(#pe0a0e854db)\" style=\"fill: #fefebb; stroke: #444443; stroke-width: 0.5; stroke-linejoin: miter\" />\n   </g>\n   <g id=\"patch_17\">\n    <path d=\"M 155.457391 37.411366  L 163.463478 37.411366  L 163.463478 37.411366  L 155.457391 37.411366  z \" clip-path=\"url(#pe0a0e854db)\" style=\"fill: #fefebb; stroke: #444443; stroke-width: 0.5; stroke-linejoin: miter\" />\n   </g>\n   <g id=\"patch_18\">\n    <path d=\"M 163.463478 37.411366  L 171.469565 37.411366  L 171.469565 37.411366  L 163.463478 37.411366  z \" clip-path=\"url(#pe0a0e854db)\" style=\"fill: #fefebb; stroke: #444443; stroke-width: 0.5; stroke-linejoin: miter\" />\n   </g>\n   <g id=\"patch_19\">\n    <path d=\"M 171.469565 37.411366  L 179.475652 37.411366  L 179.475652 37.411366  L 171.469565 37.411366  z \" clip-path=\"url(#pe0a0e854db)\" style=\"fill: #fefebb; stroke: #444443; stroke-width: 0.5; stroke-linejoin: miter\" />\n   </g>\n   <g id=\"patch_20\">\n    <path d=\"M 179.475652 37.411366  L 187.481739 37.411366  L 187.481739 37.411366  L 179.475652 37.411366  z \" clip-path=\"url(#pe0a0e854db)\" style=\"fill: #fefebb; stroke: #444443; stroke-width: 0.5; stroke-linejoin: miter\" />\n   </g>\n   <g id=\"patch_21\">\n    <path d=\"M 187.481739 37.411366  L 195.487826 37.411366  L 195.487826 35.479717  L 187.481739 35.479717  z \" clip-path=\"url(#pe0a0e854db)\" style=\"fill: #fefebb; stroke: #444443; stroke-width: 0.5; stroke-linejoin: miter\" />\n   </g>\n   <g id=\"patch_22\">\n    <path d=\"M 43.372174 37.155707  L 51.378261 37.155707  L 51.378261 35.53653  L 43.372174 35.53653  z \" clip-path=\"url(#pe0a0e854db)\" style=\"fill: #a1dab4; stroke: #444443; stroke-width: 0.5; stroke-linejoin: miter\" />\n   </g>\n   <g id=\"patch_23\">\n    <path d=\"M 51.378261 37.411366  L 59.384348 37.411366  L 59.384348 37.411366  L 51.378261 37.411366  z \" clip-path=\"url(#pe0a0e854db)\" style=\"fill: #a1dab4; stroke: #444443; stroke-width: 0.5; stroke-linejoin: miter\" />\n   </g>\n   <g id=\"patch_24\">\n    <path d=\"M 59.384348 37.411366  L 67.390435 37.411366  L 67.390435 37.411366  L 59.384348 37.411366  z \" clip-path=\"url(#pe0a0e854db)\" style=\"fill: #a1dab4; stroke: #444443; stroke-width: 0.5; stroke-linejoin: miter\" />\n   </g>\n   <g id=\"patch_25\">\n    <path d=\"M 67.390435 37.411366  L 75.396522 37.411366  L 75.396522 37.411366  L 67.390435 37.411366  z \" clip-path=\"url(#pe0a0e854db)\" style=\"fill: #a1dab4; stroke: #444443; stroke-width: 0.5; stroke-linejoin: miter\" />\n   </g>\n   <g id=\"patch_26\">\n    <path d=\"M 75.396522 37.411366  L 83.402609 37.411366  L 83.402609 37.411366  L 75.396522 37.411366  z \" clip-path=\"url(#pe0a0e854db)\" style=\"fill: #a1dab4; stroke: #444443; stroke-width: 0.5; stroke-linejoin: miter\" />\n   </g>\n   <g id=\"patch_27\">\n    <path d=\"M 83.402609 37.411366  L 91.408696 37.411366  L 91.408696 37.411366  L 83.402609 37.411366  z \" clip-path=\"url(#pe0a0e854db)\" style=\"fill: #a1dab4; stroke: #444443; stroke-width: 0.5; stroke-linejoin: miter\" />\n   </g>\n   <g id=\"patch_28\">\n    <path d=\"M 91.408696 24.827241  L 99.414783 24.827241  L 99.414783 3.039375  L 91.408696 3.039375  z \" clip-path=\"url(#pe0a0e854db)\" style=\"fill: #a1dab4; stroke: #444443; stroke-width: 0.5; stroke-linejoin: miter\" />\n   </g>\n   <g id=\"patch_29\">\n    <path d=\"M 99.414783 37.411366  L 107.42087 37.411366  L 107.42087 37.411366  L 99.414783 37.411366  z \" clip-path=\"url(#pe0a0e854db)\" style=\"fill: #a1dab4; stroke: #444443; stroke-width: 0.5; stroke-linejoin: miter\" />\n   </g>\n   <g id=\"patch_30\">\n    <path d=\"M 107.42087 37.411366  L 115.426957 37.411366  L 115.426957 37.411366  L 107.42087 37.411366  z \" clip-path=\"url(#pe0a0e854db)\" style=\"fill: #a1dab4; stroke: #444443; stroke-width: 0.5; stroke-linejoin: miter\" />\n   </g>\n   <g id=\"patch_31\">\n    <path d=\"M 115.426957 37.411366  L 123.433043 37.411366  L 123.433043 37.411366  L 115.426957 37.411366  z \" clip-path=\"url(#pe0a0e854db)\" style=\"fill: #a1dab4; stroke: #444443; stroke-width: 0.5; stroke-linejoin: miter\" />\n   </g>\n   <g id=\"patch_32\">\n    <path d=\"M 123.433043 37.411366  L 131.43913 37.411366  L 131.43913 37.411366  L 123.433043 37.411366  z \" clip-path=\"url(#pe0a0e854db)\" style=\"fill: #a1dab4; stroke: #444443; stroke-width: 0.5; stroke-linejoin: miter\" />\n   </g>\n   <g id=\"patch_33\">\n    <path d=\"M 131.43913 37.411366  L 139.445217 37.411366  L 139.445217 37.411366  L 131.43913 37.411366  z \" clip-path=\"url(#pe0a0e854db)\" style=\"fill: #a1dab4; stroke: #444443; stroke-width: 0.5; stroke-linejoin: miter\" />\n   </g>\n   <g id=\"patch_34\">\n    <path d=\"M 139.445217 36.729608  L 147.451304 36.729608  L 147.451304 14.742896  L 139.445217 14.742896  z \" clip-path=\"url(#pe0a0e854db)\" style=\"fill: #a1dab4; stroke: #444443; stroke-width: 0.5; stroke-linejoin: miter\" />\n   </g>\n   <g id=\"patch_35\">\n    <path d=\"M 147.451304 37.411366  L 155.457391 37.411366  L 155.457391 37.411366  L 147.451304 37.411366  z \" clip-path=\"url(#pe0a0e854db)\" style=\"fill: #a1dab4; stroke: #444443; stroke-width: 0.5; stroke-linejoin: miter\" />\n   </g>\n   <g id=\"patch_36\">\n    <path d=\"M 155.457391 37.411366  L 163.463478 37.411366  L 163.463478 37.411366  L 155.457391 37.411366  z \" clip-path=\"url(#pe0a0e854db)\" style=\"fill: #a1dab4; stroke: #444443; stroke-width: 0.5; stroke-linejoin: miter\" />\n   </g>\n   <g id=\"patch_37\">\n    <path d=\"M 163.463478 37.411366  L 171.469565 37.411366  L 171.469565 37.411366  L 163.463478 37.411366  z \" clip-path=\"url(#pe0a0e854db)\" style=\"fill: #a1dab4; stroke: #444443; stroke-width: 0.5; stroke-linejoin: miter\" />\n   </g>\n   <g id=\"patch_38\">\n    <path d=\"M 171.469565 37.411366  L 179.475652 37.411366  L 179.475652 37.411366  L 171.469565 37.411366  z \" clip-path=\"url(#pe0a0e854db)\" style=\"fill: #a1dab4; stroke: #444443; stroke-width: 0.5; stroke-linejoin: miter\" />\n   </g>\n   <g id=\"patch_39\">\n    <path d=\"M 179.475652 37.411366  L 187.481739 37.411366  L 187.481739 37.411366  L 179.475652 37.411366  z \" clip-path=\"url(#pe0a0e854db)\" style=\"fill: #a1dab4; stroke: #444443; stroke-width: 0.5; stroke-linejoin: miter\" />\n   </g>\n   <g id=\"patch_40\">\n    <path d=\"M 187.481739 35.479717  L 195.487826 35.479717  L 195.487826 21.304822  L 187.481739 21.304822  z \" clip-path=\"url(#pe0a0e854db)\" style=\"fill: #a1dab4; stroke: #444443; stroke-width: 0.5; stroke-linejoin: miter\" />\n   </g>\n   <g id=\"patch_41\">\n    <path d=\"M 119.43 38.242966  L 116.11548 46.558966  L 122.74452 46.558966  z \" style=\"fill: #444443\" />\n   </g>\n   <g id=\"matplotlib.axis_1\">\n    <g id=\"xtick_1\">\n     <g id=\"line2d_1\">\n      <defs>\n       <path id=\"m8e9662536a\" d=\"M 0 0  L 0 3.5  \" style=\"stroke: #000000; stroke-width: 0.3\" />\n      </defs>\n      <g>\n       <use xlink:href=\"#m8e9662536a\" x=\"43.372174\" y=\"37.411366\" style=\"stroke: #000000; stroke-width: 0.3\" />\n      </g>\n     </g>\n     <g id=\"text_1\">\n      \n      <g style=\"fill: #444443\" transform=\"translate(37.010924 54.990116) scale(0.08 -0.08)\">\n       <defs>\n        <path id=\"DejaVuSans-30\" d=\"M 2034 4250  Q 1547 4250 1301 3770  Q 1056 3291 1056 2328  Q 1056 1369 1301 889  Q 1547 409 2034 409  Q 2525 409 2770 889  Q 3016 1369 3016 2328  Q 3016 3291 2770 3770  Q 2525 4250 2034 4250  z M 2034 4750  Q 2819 4750 3233 4129  Q 3647 3509 3647 2328  Q 3647 1150 3233 529  Q 2819 -91 2034 -91  Q 1250 -91 836 529  Q 422 1150 422 2328  Q 422 3509 836 4129  Q 1250 4750 2034 4750  z \" transform=\"scale(0.015625)\" />\n        <path id=\"DejaVuSans-2e\" d=\"M 684 794  L 1344 794  L 1344 0  L 684 0  L 684 794  z \" transform=\"scale(0.015625)\" />\n       </defs>\n       <use xlink:href=\"#DejaVuSans-30\" />\n       <use xlink:href=\"#DejaVuSans-2e\" x=\"63.623047\" />\n       <use xlink:href=\"#DejaVuSans-30\" x=\"95.410156\" />\n      </g>\n     </g>\n    </g>\n    <g id=\"xtick_2\">\n     <g id=\"line2d_2\">\n      <g>\n       <use xlink:href=\"#m8e9662536a\" x=\"119.43\" y=\"37.411366\" style=\"stroke: #000000; stroke-width: 0.3\" />\n      </g>\n     </g>\n     <g id=\"text_2\">\n      \n      <g style=\"fill: #444443\" transform=\"translate(113.06875 54.990116) scale(0.08 -0.08)\">\n       <defs>\n        <path id=\"DejaVuSans-31\" d=\"M 794 531  L 1825 531  L 1825 4091  L 703 3866  L 703 4441  L 1819 4666  L 2450 4666  L 2450 531  L 3481 531  L 3481 0  L 794 0  L 794 531  z \" transform=\"scale(0.015625)\" />\n        <path id=\"DejaVuSans-35\" d=\"M 691 4666  L 3169 4666  L 3169 4134  L 1269 4134  L 1269 2991  Q 1406 3038 1543 3061  Q 1681 3084 1819 3084  Q 2600 3084 3056 2656  Q 3513 2228 3513 1497  Q 3513 744 3044 326  Q 2575 -91 1722 -91  Q 1428 -91 1123 -41  Q 819 9 494 109  L 494 744  Q 775 591 1075 516  Q 1375 441 1709 441  Q 2250 441 2565 725  Q 2881 1009 2881 1497  Q 2881 1984 2565 2268  Q 2250 2553 1709 2553  Q 1456 2553 1204 2497  Q 953 2441 691 2322  L 691 4666  z \" transform=\"scale(0.015625)\" />\n       </defs>\n       <use xlink:href=\"#DejaVuSans-31\" />\n       <use xlink:href=\"#DejaVuSans-2e\" x=\"63.623047\" />\n       <use xlink:href=\"#DejaVuSans-35\" x=\"95.410156\" />\n      </g>\n     </g>\n    </g>\n    <g id=\"xtick_3\">\n     <g id=\"line2d_3\">\n      <g>\n       <use xlink:href=\"#m8e9662536a\" x=\"195.487826\" y=\"37.411366\" style=\"stroke: #000000; stroke-width: 0.3\" />\n      </g>\n     </g>\n     <g id=\"text_3\">\n      \n      <g style=\"fill: #444443\" transform=\"translate(189.126576 54.990116) scale(0.08 -0.08)\">\n       <defs>\n        <path id=\"DejaVuSans-33\" d=\"M 2597 2516  Q 3050 2419 3304 2112  Q 3559 1806 3559 1356  Q 3559 666 3084 287  Q 2609 -91 1734 -91  Q 1441 -91 1130 -33  Q 819 25 488 141  L 488 750  Q 750 597 1062 519  Q 1375 441 1716 441  Q 2309 441 2620 675  Q 2931 909 2931 1356  Q 2931 1769 2642 2001  Q 2353 2234 1838 2234  L 1294 2234  L 1294 2753  L 1863 2753  Q 2328 2753 2575 2939  Q 2822 3125 2822 3475  Q 2822 3834 2567 4026  Q 2313 4219 1838 4219  Q 1578 4219 1281 4162  Q 984 4106 628 3988  L 628 4550  Q 988 4650 1302 4700  Q 1616 4750 1894 4750  Q 2613 4750 3031 4423  Q 3450 4097 3450 3541  Q 3450 3153 3228 2886  Q 3006 2619 2597 2516  z \" transform=\"scale(0.015625)\" />\n       </defs>\n       <use xlink:href=\"#DejaVuSans-33\" />\n       <use xlink:href=\"#DejaVuSans-2e\" x=\"63.623047\" />\n       <use xlink:href=\"#DejaVuSans-30\" x=\"95.410156\" />\n      </g>\n     </g>\n    </g>\n   </g>\n   <g id=\"matplotlib.axis_2\">\n    <g id=\"ytick_1\">\n     <g id=\"line2d_4\">\n      <defs>\n       <path id=\"mdda3191804\" d=\"M 0 0  L -3.5 0  \" style=\"stroke: #000000; stroke-width: 0.3\" />\n      </defs>\n      <g>\n       <use xlink:href=\"#mdda3191804\" x=\"27.36\" y=\"37.411366\" style=\"stroke: #000000; stroke-width: 0.3\" />\n      </g>\n     </g>\n     <g id=\"text_4\">\n      \n      <g style=\"fill: #444443\" transform=\"translate(15.27 40.450741) scale(0.08 -0.08)\">\n       <use xlink:href=\"#DejaVuSans-30\" />\n      </g>\n     </g>\n    </g>\n    <g id=\"ytick_2\">\n     <g id=\"line2d_5\">\n      <g>\n       <use xlink:href=\"#mdda3191804\" x=\"27.36\" y=\"3.039375\" style=\"stroke: #000000; stroke-width: 0.3\" />\n      </g>\n     </g>\n     <g id=\"text_5\">\n      \n      <g style=\"fill: #444443\" transform=\"translate(0 6.07875) scale(0.08 -0.08)\">\n       <defs>\n        <path id=\"DejaVuSans-32\" d=\"M 1228 531  L 3431 531  L 3431 0  L 469 0  L 469 531  Q 828 903 1448 1529  Q 2069 2156 2228 2338  Q 2531 2678 2651 2914  Q 2772 3150 2772 3378  Q 2772 3750 2511 3984  Q 2250 4219 1831 4219  Q 1534 4219 1204 4116  Q 875 4013 500 3803  L 500 4441  Q 881 4594 1212 4672  Q 1544 4750 1819 4750  Q 2544 4750 2975 4387  Q 3406 4025 3406 3419  Q 3406 3131 3298 2873  Q 3191 2616 2906 2266  Q 2828 2175 2409 1742  Q 1991 1309 1228 531  z \" transform=\"scale(0.015625)\" />\n       </defs>\n       <use xlink:href=\"#DejaVuSans-31\" />\n       <use xlink:href=\"#DejaVuSans-32\" x=\"63.623047\" />\n       <use xlink:href=\"#DejaVuSans-31\" x=\"127.246094\" />\n       <use xlink:href=\"#DejaVuSans-30\" x=\"190.869141\" />\n      </g>\n     </g>\n    </g>\n   </g>\n   <g id=\"patch_42\">\n    <path d=\"M 27.36 37.411366  L 27.36 1.320775  \" style=\"fill: none; stroke: #444443; stroke-width: 0.3; stroke-linejoin: miter; stroke-linecap: square\" />\n   </g>\n   <g id=\"patch_43\">\n    <path d=\"M 27.36 37.411366  L 211.5 37.411366  \" style=\"fill: none; stroke: #444443; stroke-width: 0.3; stroke-linejoin: miter; stroke-linecap: square\" />\n   </g>\n  </g>\n </g>\n <defs>\n  <clipPath id=\"pe0a0e854db\">\n   <rect x=\"27.36\" y=\"1.320775\" width=\"184.14\" height=\"36.090591\" />\n  </clipPath>\n </defs>\n</svg></g>\n\n\n<g id=\"node4\" class=\"node\">\n<title>leaf5</title>\n<polygon fill=\"none\" stroke=\"#444443\" stroke-width=\"0\" points=\"68,-84 0,-84 0,0 68,0 68,-84\" />\n<svg width=\"60px\" height=\"76px\" viewBox=\"0 0 80.079997 102.071541\" version=\"1.1\" preserveAspectRatio=\"xMinYMin meet\" x=\"4\" y=\"-80\">\n <metadata>\n  <rdf:RDF>\n   <ns2:Work>\n    <dc:type rdf:resource=\"http://purl.org/dc/dcmitype/StillImage\" />\n    <dc:date>2023-02-25T05:25:39.682725</dc:date>\n    <dc:format>image/svg+xml</dc:format>\n    <dc:creator>\n     <ns2:Agent>\n      <dc:title>Matplotlib v3.6.2, https://matplotlib.org/</dc:title>\n     </ns2:Agent>\n    </dc:creator>\n   </ns2:Work>\n  </rdf:RDF>\n </metadata>\n <defs>\n  <style type=\"text/css\">*{stroke-linejoin: round; stroke-linecap: butt}</style>\n </defs>\n <g id=\"figure_1\">\n  <g id=\"patch_1\">\n   <path d=\"M 0 102.071541  L 80.079997 102.071541  L 80.079997 0  L 0 0  z \" style=\"fill: #ffffff\" />\n  </g>\n  <g id=\"axes_1\">\n   <g id=\"patch_2\">\n    <path d=\"M 80.079997 40.039997  C 80.079997 33.207544 78.331155 26.487462 75.000551 20.521769  C 71.669947 14.556076 66.867135 9.541003 61.050964 5.955677  C 55.234792 2.370351 48.596572 0.332705 41.770503 0.037411  C 34.944434 -0.257884 28.155047 1.198885 22.050982 4.268543  L 40.039997 40.039997  L 80.079997 40.039997  z \" style=\"fill: #fefebb; stroke: #444443; stroke-width: 0.5; stroke-linejoin: miter\" />\n   </g>\n   <g id=\"patch_3\">\n    <path d=\"M 22.050982 4.268543  C 15.684854 7.469989 10.287278 12.313581 6.417787 18.297215  C 2.548296 24.280849 0.345383 31.190363 0.03741 38.309491  C -0.270562 45.42862 1.327428 52.50256 4.665729 58.798002  C 8.004029 65.093444 12.963157 70.385065 19.029031 74.124318  C 25.094905 77.86357 32.05042 79.916621 39.174542 80.070643  C 46.298664 80.224665 53.336411 78.474146 59.558226 75.000552  C 65.78004 71.526957 70.963235 66.454611 74.570502 60.30933  C 78.177768 54.16405 80.079997 47.165784 80.079997 40.039997  L 40.039997 40.039997  L 22.050982 4.268543  z \" style=\"fill: #a1dab4; stroke: #444443; stroke-width: 0.5; stroke-linejoin: miter\" />\n   </g>\n   <g id=\"text_1\">\n    \n    <g style=\"fill: #444443\" transform=\"translate(24.827888 90.121791) scale(0.09 -0.09)\">\n     <defs>\n      <path id=\"DejaVuSans-6e\" d=\"M 3513 2113  L 3513 0  L 2938 0  L 2938 2094  Q 2938 2591 2744 2837  Q 2550 3084 2163 3084  Q 1697 3084 1428 2787  Q 1159 2491 1159 1978  L 1159 0  L 581 0  L 581 3500  L 1159 3500  L 1159 2956  Q 1366 3272 1645 3428  Q 1925 3584 2291 3584  Q 2894 3584 3203 3211  Q 3513 2838 3513 2113  z \" transform=\"scale(0.015625)\" />\n      <path id=\"DejaVuSans-3d\" d=\"M 678 2906  L 4684 2906  L 4684 2381  L 678 2381  L 678 2906  z M 678 1631  L 4684 1631  L 4684 1100  L 678 1100  L 678 1631  z \" transform=\"scale(0.015625)\" />\n      <path id=\"DejaVuSans-33\" d=\"M 2597 2516  Q 3050 2419 3304 2112  Q 3559 1806 3559 1356  Q 3559 666 3084 287  Q 2609 -91 1734 -91  Q 1441 -91 1130 -33  Q 819 25 488 141  L 488 750  Q 750 597 1062 519  Q 1375 441 1716 441  Q 2309 441 2620 675  Q 2931 909 2931 1356  Q 2931 1769 2642 2001  Q 2353 2234 1838 2234  L 1294 2234  L 1294 2753  L 1863 2753  Q 2328 2753 2575 2939  Q 2822 3125 2822 3475  Q 2822 3834 2567 4026  Q 2313 4219 1838 4219  Q 1578 4219 1281 4162  Q 984 4106 628 3988  L 628 4550  Q 988 4650 1302 4700  Q 1616 4750 1894 4750  Q 2613 4750 3031 4423  Q 3450 4097 3450 3541  Q 3450 3153 3228 2886  Q 3006 2619 2597 2516  z \" transform=\"scale(0.015625)\" />\n      <path id=\"DejaVuSans-32\" d=\"M 1228 531  L 3431 531  L 3431 0  L 469 0  L 469 531  Q 828 903 1448 1529  Q 2069 2156 2228 2338  Q 2531 2678 2651 2914  Q 2772 3150 2772 3378  Q 2772 3750 2511 3984  Q 2250 4219 1831 4219  Q 1534 4219 1204 4116  Q 875 4013 500 3803  L 500 4441  Q 881 4594 1212 4672  Q 1544 4750 1819 4750  Q 2544 4750 2975 4387  Q 3406 4025 3406 3419  Q 3406 3131 3298 2873  Q 3191 2616 2906 2266  Q 2828 2175 2409 1742  Q 1991 1309 1228 531  z \" transform=\"scale(0.015625)\" />\n      <path id=\"DejaVuSans-37\" d=\"M 525 4666  L 3525 4666  L 3525 4397  L 1831 0  L 1172 0  L 2766 4134  L 525 4134  L 525 4666  z \" transform=\"scale(0.015625)\" />\n     </defs>\n     <use xlink:href=\"#DejaVuSans-6e\" />\n     <use xlink:href=\"#DejaVuSans-3d\" x=\"63.378906\" />\n     <use xlink:href=\"#DejaVuSans-33\" x=\"147.167969\" />\n     <use xlink:href=\"#DejaVuSans-32\" x=\"210.791016\" />\n     <use xlink:href=\"#DejaVuSans-37\" x=\"274.414062\" />\n    </g>\n    \n    <g style=\"fill: #444443\" transform=\"translate(23.9082 100.199822) scale(0.09 -0.09)\">\n     <defs>\n      <path id=\"DejaVuSans-43\" d=\"M 4122 4306  L 4122 3641  Q 3803 3938 3442 4084  Q 3081 4231 2675 4231  Q 1875 4231 1450 3742  Q 1025 3253 1025 2328  Q 1025 1406 1450 917  Q 1875 428 2675 428  Q 3081 428 3442 575  Q 3803 722 4122 1019  L 4122 359  Q 3791 134 3420 21  Q 3050 -91 2638 -91  Q 1578 -91 968 557  Q 359 1206 359 2328  Q 359 3453 968 4101  Q 1578 4750 2638 4750  Q 3056 4750 3426 4639  Q 3797 4528 4122 4306  z \" transform=\"scale(0.015625)\" />\n      <path id=\"DejaVuSans-6c\" d=\"M 603 4863  L 1178 4863  L 1178 0  L 603 0  L 603 4863  z \" transform=\"scale(0.015625)\" />\n      <path id=\"DejaVuSans-61\" d=\"M 2194 1759  Q 1497 1759 1228 1600  Q 959 1441 959 1056  Q 959 750 1161 570  Q 1363 391 1709 391  Q 2188 391 2477 730  Q 2766 1069 2766 1631  L 2766 1759  L 2194 1759  z M 3341 1997  L 3341 0  L 2766 0  L 2766 531  Q 2569 213 2275 61  Q 1981 -91 1556 -91  Q 1019 -91 701 211  Q 384 513 384 1019  Q 384 1609 779 1909  Q 1175 2209 1959 2209  L 2766 2209  L 2766 2266  Q 2766 2663 2505 2880  Q 2244 3097 1772 3097  Q 1472 3097 1187 3025  Q 903 2953 641 2809  L 641 3341  Q 956 3463 1253 3523  Q 1550 3584 1831 3584  Q 2591 3584 2966 3190  Q 3341 2797 3341 1997  z \" transform=\"scale(0.015625)\" />\n      <path id=\"DejaVuSans-73\" d=\"M 2834 3397  L 2834 2853  Q 2591 2978 2328 3040  Q 2066 3103 1784 3103  Q 1356 3103 1142 2972  Q 928 2841 928 2578  Q 928 2378 1081 2264  Q 1234 2150 1697 2047  L 1894 2003  Q 2506 1872 2764 1633  Q 3022 1394 3022 966  Q 3022 478 2636 193  Q 2250 -91 1575 -91  Q 1294 -91 989 -36  Q 684 19 347 128  L 347 722  Q 666 556 975 473  Q 1284 391 1588 391  Q 1994 391 2212 530  Q 2431 669 2431 922  Q 2431 1156 2273 1281  Q 2116 1406 1581 1522  L 1381 1569  Q 847 1681 609 1914  Q 372 2147 372 2553  Q 372 3047 722 3315  Q 1072 3584 1716 3584  Q 2034 3584 2315 3537  Q 2597 3491 2834 3397  z \" transform=\"scale(0.015625)\" />\n      <path id=\"DejaVuSans-20\" transform=\"scale(0.015625)\" />\n      <path id=\"DejaVuSans-31\" d=\"M 794 531  L 1825 531  L 1825 4091  L 703 3866  L 703 4441  L 1819 4666  L 2450 4666  L 2450 531  L 3481 531  L 3481 0  L 794 0  L 794 531  z \" transform=\"scale(0.015625)\" />\n     </defs>\n     <use xlink:href=\"#DejaVuSans-43\" />\n     <use xlink:href=\"#DejaVuSans-6c\" x=\"69.824219\" />\n     <use xlink:href=\"#DejaVuSans-61\" x=\"97.607422\" />\n     <use xlink:href=\"#DejaVuSans-73\" x=\"158.886719\" />\n     <use xlink:href=\"#DejaVuSans-73\" x=\"210.986328\" />\n     <use xlink:href=\"#DejaVuSans-20\" x=\"263.085938\" />\n     <use xlink:href=\"#DejaVuSans-31\" x=\"294.873047\" />\n    </g>\n   </g>\n  </g>\n </g>\n</svg></g>\n\n<g id=\"edge1\" class=\"edge\">\n<title>node1-&gt;leaf5</title>\n<path fill=\"none\" stroke=\"#444443\" stroke-width=\"0.3\" d=\"M79.61,-104.31C75.68,-99.02 71.3,-93.14 66.85,-87.16\" />\n<polygon fill=\"#444443\" stroke=\"#444443\" stroke-width=\"0.3\" points=\"68.16,-86.57 64.65,-84.2 65.91,-88.24 68.16,-86.57\" />\n</g>\n\n<g id=\"node5\" class=\"node\">\n<title>leaf6</title>\n<polygon fill=\"none\" stroke=\"#444443\" stroke-width=\"0\" points=\"150,-84 82,-84 82,0 150,0 150,-84\" />\n<svg width=\"60px\" height=\"76px\" viewBox=\"0 0 80.079917 102.071525\" version=\"1.1\" preserveAspectRatio=\"xMinYMin meet\" x=\"86\" y=\"-80\">\n <metadata>\n  <rdf:RDF>\n   <ns2:Work>\n    <dc:type rdf:resource=\"http://purl.org/dc/dcmitype/StillImage\" />\n    <dc:date>2023-02-25T05:25:39.713718</dc:date>\n    <dc:format>image/svg+xml</dc:format>\n    <dc:creator>\n     <ns2:Agent>\n      <dc:title>Matplotlib v3.6.2, https://matplotlib.org/</dc:title>\n     </ns2:Agent>\n    </dc:creator>\n   </ns2:Work>\n  </rdf:RDF>\n </metadata>\n <defs>\n  <style type=\"text/css\">*{stroke-linejoin: round; stroke-linecap: butt}</style>\n </defs>\n <g id=\"figure_1\">\n  <g id=\"patch_1\">\n   <path d=\"M 0 102.071525  L 80.079917 102.071525  L 80.079917 0  L 0 0  z \" style=\"fill: #ffffff\" />\n  </g>\n  <g id=\"axes_1\">\n   <g id=\"patch_2\">\n    <path d=\"M 80.079917 40.039981  C 80.079917 32.634685 78.025531 25.372563 74.146204 19.064691  C 70.266877 12.75682 64.712616 7.647113 58.103754 4.306252  C 51.494891 0.965391 44.086979 -0.477438 36.707376 0.138907  C 29.327773 0.755252 22.261835 3.406939 16.298728 7.797811  C 10.33562 12.188684 5.705925 18.148956 2.926713 25.012949  C 0.147502 31.876942 -0.673759 39.379239 0.554654 46.681938  C 1.783067 53.984637 5.013653 60.805358 9.885603 66.382322  C 14.757552 71.959286 21.082474 76.076843 28.153966 78.275119  L 40.039917 40.039981  L 80.079917 40.039981  z \" style=\"fill: #fefebb; stroke: #444443; stroke-width: 0.5; stroke-linejoin: miter\" />\n   </g>\n   <g id=\"patch_3\">\n    <path d=\"M 28.153966 78.275119  C 34.146346 80.137938 40.493569 80.566201 46.681874 79.525245  C 52.870179 78.484288 58.727971 76.002976 63.781106 72.282152  C 68.834242 68.561327 72.942602 63.704166 75.773646 58.103818  C 78.604691 52.50347 80.079917 46.315227 80.079917 40.039981  L 40.039917 40.039981  L 28.153966 78.275119  z \" style=\"fill: #a1dab4; stroke: #444443; stroke-width: 0.5; stroke-linejoin: miter\" />\n   </g>\n   <g id=\"text_1\">\n    \n    <g style=\"fill: #444443\" transform=\"translate(21.964683 90.121775) scale(0.09 -0.09)\">\n     <defs>\n      <path id=\"DejaVuSans-6e\" d=\"M 3513 2113  L 3513 0  L 2938 0  L 2938 2094  Q 2938 2591 2744 2837  Q 2550 3084 2163 3084  Q 1697 3084 1428 2787  Q 1159 2491 1159 1978  L 1159 0  L 581 0  L 581 3500  L 1159 3500  L 1159 2956  Q 1366 3272 1645 3428  Q 1925 3584 2291 3584  Q 2894 3584 3203 3211  Q 3513 2838 3513 2113  z \" transform=\"scale(0.015625)\" />\n      <path id=\"DejaVuSans-3d\" d=\"M 678 2906  L 4684 2906  L 4684 2381  L 678 2381  L 678 2906  z M 678 1631  L 4684 1631  L 4684 1100  L 678 1100  L 678 1631  z \" transform=\"scale(0.015625)\" />\n      <path id=\"DejaVuSans-33\" d=\"M 2597 2516  Q 3050 2419 3304 2112  Q 3559 1806 3559 1356  Q 3559 666 3084 287  Q 2609 -91 1734 -91  Q 1441 -91 1130 -33  Q 819 25 488 141  L 488 750  Q 750 597 1062 519  Q 1375 441 1716 441  Q 2309 441 2620 675  Q 2931 909 2931 1356  Q 2931 1769 2642 2001  Q 2353 2234 1838 2234  L 1294 2234  L 1294 2753  L 1863 2753  Q 2328 2753 2575 2939  Q 2822 3125 2822 3475  Q 2822 3834 2567 4026  Q 2313 4219 1838 4219  Q 1578 4219 1281 4162  Q 984 4106 628 3988  L 628 4550  Q 988 4650 1302 4700  Q 1616 4750 1894 4750  Q 2613 4750 3031 4423  Q 3450 4097 3450 3541  Q 3450 3153 3228 2886  Q 3006 2619 2597 2516  z \" transform=\"scale(0.015625)\" />\n      <path id=\"DejaVuSans-39\" d=\"M 703 97  L 703 672  Q 941 559 1184 500  Q 1428 441 1663 441  Q 2288 441 2617 861  Q 2947 1281 2994 2138  Q 2813 1869 2534 1725  Q 2256 1581 1919 1581  Q 1219 1581 811 2004  Q 403 2428 403 3163  Q 403 3881 828 4315  Q 1253 4750 1959 4750  Q 2769 4750 3195 4129  Q 3622 3509 3622 2328  Q 3622 1225 3098 567  Q 2575 -91 1691 -91  Q 1453 -91 1209 -44  Q 966 3 703 97  z M 1959 2075  Q 2384 2075 2632 2365  Q 2881 2656 2881 3163  Q 2881 3666 2632 3958  Q 2384 4250 1959 4250  Q 1534 4250 1286 3958  Q 1038 3666 1038 3163  Q 1038 2656 1286 2365  Q 1534 2075 1959 2075  z \" transform=\"scale(0.015625)\" />\n      <path id=\"DejaVuSans-38\" d=\"M 2034 2216  Q 1584 2216 1326 1975  Q 1069 1734 1069 1313  Q 1069 891 1326 650  Q 1584 409 2034 409  Q 2484 409 2743 651  Q 3003 894 3003 1313  Q 3003 1734 2745 1975  Q 2488 2216 2034 2216  z M 1403 2484  Q 997 2584 770 2862  Q 544 3141 544 3541  Q 544 4100 942 4425  Q 1341 4750 2034 4750  Q 2731 4750 3128 4425  Q 3525 4100 3525 3541  Q 3525 3141 3298 2862  Q 3072 2584 2669 2484  Q 3125 2378 3379 2068  Q 3634 1759 3634 1313  Q 3634 634 3220 271  Q 2806 -91 2034 -91  Q 1263 -91 848 271  Q 434 634 434 1313  Q 434 1759 690 2068  Q 947 2378 1403 2484  z M 1172 3481  Q 1172 3119 1398 2916  Q 1625 2713 2034 2713  Q 2441 2713 2670 2916  Q 2900 3119 2900 3481  Q 2900 3844 2670 4047  Q 2441 4250 2034 4250  Q 1625 4250 1398 4047  Q 1172 3844 1172 3481  z \" transform=\"scale(0.015625)\" />\n      <path id=\"DejaVuSans-37\" d=\"M 525 4666  L 3525 4666  L 3525 4397  L 1831 0  L 1172 0  L 2766 4134  L 525 4134  L 525 4666  z \" transform=\"scale(0.015625)\" />\n     </defs>\n     <use xlink:href=\"#DejaVuSans-6e\" />\n     <use xlink:href=\"#DejaVuSans-3d\" x=\"63.378906\" />\n     <use xlink:href=\"#DejaVuSans-33\" x=\"147.167969\" />\n     <use xlink:href=\"#DejaVuSans-39\" x=\"210.791016\" />\n     <use xlink:href=\"#DejaVuSans-38\" x=\"274.414062\" />\n     <use xlink:href=\"#DejaVuSans-37\" x=\"338.037109\" />\n    </g>\n    \n    <g style=\"fill: #444443\" transform=\"translate(23.90812 100.199806) scale(0.09 -0.09)\">\n     <defs>\n      <path id=\"DejaVuSans-43\" d=\"M 4122 4306  L 4122 3641  Q 3803 3938 3442 4084  Q 3081 4231 2675 4231  Q 1875 4231 1450 3742  Q 1025 3253 1025 2328  Q 1025 1406 1450 917  Q 1875 428 2675 428  Q 3081 428 3442 575  Q 3803 722 4122 1019  L 4122 359  Q 3791 134 3420 21  Q 3050 -91 2638 -91  Q 1578 -91 968 557  Q 359 1206 359 2328  Q 359 3453 968 4101  Q 1578 4750 2638 4750  Q 3056 4750 3426 4639  Q 3797 4528 4122 4306  z \" transform=\"scale(0.015625)\" />\n      <path id=\"DejaVuSans-6c\" d=\"M 603 4863  L 1178 4863  L 1178 0  L 603 0  L 603 4863  z \" transform=\"scale(0.015625)\" />\n      <path id=\"DejaVuSans-61\" d=\"M 2194 1759  Q 1497 1759 1228 1600  Q 959 1441 959 1056  Q 959 750 1161 570  Q 1363 391 1709 391  Q 2188 391 2477 730  Q 2766 1069 2766 1631  L 2766 1759  L 2194 1759  z M 3341 1997  L 3341 0  L 2766 0  L 2766 531  Q 2569 213 2275 61  Q 1981 -91 1556 -91  Q 1019 -91 701 211  Q 384 513 384 1019  Q 384 1609 779 1909  Q 1175 2209 1959 2209  L 2766 2209  L 2766 2266  Q 2766 2663 2505 2880  Q 2244 3097 1772 3097  Q 1472 3097 1187 3025  Q 903 2953 641 2809  L 641 3341  Q 956 3463 1253 3523  Q 1550 3584 1831 3584  Q 2591 3584 2966 3190  Q 3341 2797 3341 1997  z \" transform=\"scale(0.015625)\" />\n      <path id=\"DejaVuSans-73\" d=\"M 2834 3397  L 2834 2853  Q 2591 2978 2328 3040  Q 2066 3103 1784 3103  Q 1356 3103 1142 2972  Q 928 2841 928 2578  Q 928 2378 1081 2264  Q 1234 2150 1697 2047  L 1894 2003  Q 2506 1872 2764 1633  Q 3022 1394 3022 966  Q 3022 478 2636 193  Q 2250 -91 1575 -91  Q 1294 -91 989 -36  Q 684 19 347 128  L 347 722  Q 666 556 975 473  Q 1284 391 1588 391  Q 1994 391 2212 530  Q 2431 669 2431 922  Q 2431 1156 2273 1281  Q 2116 1406 1581 1522  L 1381 1569  Q 847 1681 609 1914  Q 372 2147 372 2553  Q 372 3047 722 3315  Q 1072 3584 1716 3584  Q 2034 3584 2315 3537  Q 2597 3491 2834 3397  z \" transform=\"scale(0.015625)\" />\n      <path id=\"DejaVuSans-20\" transform=\"scale(0.015625)\" />\n      <path id=\"DejaVuSans-30\" d=\"M 2034 4250  Q 1547 4250 1301 3770  Q 1056 3291 1056 2328  Q 1056 1369 1301 889  Q 1547 409 2034 409  Q 2525 409 2770 889  Q 3016 1369 3016 2328  Q 3016 3291 2770 3770  Q 2525 4250 2034 4250  z M 2034 4750  Q 2819 4750 3233 4129  Q 3647 3509 3647 2328  Q 3647 1150 3233 529  Q 2819 -91 2034 -91  Q 1250 -91 836 529  Q 422 1150 422 2328  Q 422 3509 836 4129  Q 1250 4750 2034 4750  z \" transform=\"scale(0.015625)\" />\n     </defs>\n     <use xlink:href=\"#DejaVuSans-43\" />\n     <use xlink:href=\"#DejaVuSans-6c\" x=\"69.824219\" />\n     <use xlink:href=\"#DejaVuSans-61\" x=\"97.607422\" />\n     <use xlink:href=\"#DejaVuSans-73\" x=\"158.886719\" />\n     <use xlink:href=\"#DejaVuSans-73\" x=\"210.986328\" />\n     <use xlink:href=\"#DejaVuSans-20\" x=\"263.085938\" />\n     <use xlink:href=\"#DejaVuSans-30\" x=\"294.873047\" />\n    </g>\n   </g>\n  </g>\n </g>\n</svg></g>\n\n<g id=\"edge2\" class=\"edge\">\n<title>node1-&gt;leaf6</title>\n<path fill=\"none\" stroke=\"#444443\" stroke-width=\"0.3\" d=\"M100.3,-104.31C101.6,-99.22 103.05,-93.57 104.52,-87.82\" />\n<polygon fill=\"#444443\" stroke=\"#444443\" stroke-width=\"0.3\" points=\"105.79,-88.5 105.43,-84.27 103.08,-87.8 105.79,-88.5\" />\n</g>\n\n<g id=\"node6\" class=\"node\">\n<title>leaf3</title>\n<polygon fill=\"none\" stroke=\"#444443\" stroke-width=\"0\" points=\"266,-84 198,-84 198,0 266,0 266,-84\" />\n<svg width=\"60px\" height=\"76px\" viewBox=\"0 0 80.07998 102.071515\" version=\"1.1\" preserveAspectRatio=\"xMinYMin meet\" x=\"202\" y=\"-80\">\n <metadata>\n  <rdf:RDF>\n   <ns2:Work>\n    <dc:type rdf:resource=\"http://purl.org/dc/dcmitype/StillImage\" />\n    <dc:date>2023-02-25T05:25:39.746346</dc:date>\n    <dc:format>image/svg+xml</dc:format>\n    <dc:creator>\n     <ns2:Agent>\n      <dc:title>Matplotlib v3.6.2, https://matplotlib.org/</dc:title>\n     </ns2:Agent>\n    </dc:creator>\n   </ns2:Work>\n  </rdf:RDF>\n </metadata>\n <defs>\n  <style type=\"text/css\">*{stroke-linejoin: round; stroke-linecap: butt}</style>\n </defs>\n <g id=\"figure_1\">\n  <g id=\"patch_1\">\n   <path d=\"M -0 102.071515  L 80.07998 102.071515  L 80.07998 -0  L -0 -0  z \" style=\"fill: #ffffff\" />\n  </g>\n  <g id=\"axes_1\">\n   <g id=\"patch_2\">\n    <path d=\"M 80.07998 40.039971  C 80.07998 32.56597 77.987296 25.239179 74.039865 18.892646  C 70.092435 12.546113 64.445756 7.429844 57.74185 4.125554  C 51.037943 0.821263 43.540894 -0.540885 36.103109 0.193985  C 28.665323 0.928854 21.579793 3.731793 15.652137 8.28411  L 40.03998 40.039971  L 80.07998 40.039971  z \" style=\"fill: #fefebb; stroke: #444443; stroke-width: 0.5; stroke-linejoin: miter\" />\n   </g>\n   <g id=\"patch_3\">\n    <path d=\"M 15.652137 8.28411  C 10.254834 12.429126 6.002337 17.882523 3.297783 24.127316  C 0.593229 30.372109 -0.475127 37.204523 0.193993 43.976844  C 0.863114 50.749165 3.247877 57.240403 7.122208 62.835188  C 10.996538 68.429972 16.234011 72.945738 22.338113 75.954391  C 28.442215 78.963043 35.213762 80.366405 42.010809 80.031438  C 48.807856 79.696471 55.408607 77.634106 61.18731 74.039854  C 66.966012 70.445603 71.7341 65.43675 75.039558 59.488136  C 78.345015 53.539523 80.079981 46.84526 80.07998 40.039964  L 40.03998 40.039971  L 15.652137 8.28411  z \" style=\"fill: #a1dab4; stroke: #444443; stroke-width: 0.5; stroke-linejoin: miter\" />\n   </g>\n   <g id=\"text_1\">\n    \n    <g style=\"fill: #444443\" transform=\"translate(21.964745 90.121765) scale(0.09 -0.09)\">\n     <defs>\n      <path id=\"DejaVuSans-6e\" d=\"M 3513 2113  L 3513 0  L 2938 0  L 2938 2094  Q 2938 2591 2744 2837  Q 2550 3084 2163 3084  Q 1697 3084 1428 2787  Q 1159 2491 1159 1978  L 1159 0  L 581 0  L 581 3500  L 1159 3500  L 1159 2956  Q 1366 3272 1645 3428  Q 1925 3584 2291 3584  Q 2894 3584 3203 3211  Q 3513 2838 3513 2113  z \" transform=\"scale(0.015625)\" />\n      <path id=\"DejaVuSans-3d\" d=\"M 678 2906  L 4684 2906  L 4684 2381  L 678 2381  L 678 2906  z M 678 1631  L 4684 1631  L 4684 1100  L 678 1100  L 678 1631  z \" transform=\"scale(0.015625)\" />\n      <path id=\"DejaVuSans-31\" d=\"M 794 531  L 1825 531  L 1825 4091  L 703 3866  L 703 4441  L 1819 4666  L 2450 4666  L 2450 531  L 3481 531  L 3481 0  L 794 0  L 794 531  z \" transform=\"scale(0.015625)\" />\n      <path id=\"DejaVuSans-32\" d=\"M 1228 531  L 3431 531  L 3431 0  L 469 0  L 469 531  Q 828 903 1448 1529  Q 2069 2156 2228 2338  Q 2531 2678 2651 2914  Q 2772 3150 2772 3378  Q 2772 3750 2511 3984  Q 2250 4219 1831 4219  Q 1534 4219 1204 4116  Q 875 4013 500 3803  L 500 4441  Q 881 4594 1212 4672  Q 1544 4750 1819 4750  Q 2544 4750 2975 4387  Q 3406 4025 3406 3419  Q 3406 3131 3298 2873  Q 3191 2616 2906 2266  Q 2828 2175 2409 1742  Q 1991 1309 1228 531  z \" transform=\"scale(0.015625)\" />\n      <path id=\"DejaVuSans-37\" d=\"M 525 4666  L 3525 4666  L 3525 4397  L 1831 0  L 1172 0  L 2766 4134  L 525 4134  L 525 4666  z \" transform=\"scale(0.015625)\" />\n      <path id=\"DejaVuSans-36\" d=\"M 2113 2584  Q 1688 2584 1439 2293  Q 1191 2003 1191 1497  Q 1191 994 1439 701  Q 1688 409 2113 409  Q 2538 409 2786 701  Q 3034 994 3034 1497  Q 3034 2003 2786 2293  Q 2538 2584 2113 2584  z M 3366 4563  L 3366 3988  Q 3128 4100 2886 4159  Q 2644 4219 2406 4219  Q 1781 4219 1451 3797  Q 1122 3375 1075 2522  Q 1259 2794 1537 2939  Q 1816 3084 2150 3084  Q 2853 3084 3261 2657  Q 3669 2231 3669 1497  Q 3669 778 3244 343  Q 2819 -91 2113 -91  Q 1303 -91 875 529  Q 447 1150 447 2328  Q 447 3434 972 4092  Q 1497 4750 2381 4750  Q 2619 4750 2861 4703  Q 3103 4656 3366 4563  z \" transform=\"scale(0.015625)\" />\n     </defs>\n     <use xlink:href=\"#DejaVuSans-6e\" />\n     <use xlink:href=\"#DejaVuSans-3d\" x=\"63.378906\" />\n     <use xlink:href=\"#DejaVuSans-31\" x=\"147.167969\" />\n     <use xlink:href=\"#DejaVuSans-32\" x=\"210.791016\" />\n     <use xlink:href=\"#DejaVuSans-37\" x=\"274.414062\" />\n     <use xlink:href=\"#DejaVuSans-36\" x=\"338.037109\" />\n    </g>\n    \n    <g style=\"fill: #444443\" transform=\"translate(23.908183 100.199796) scale(0.09 -0.09)\">\n     <defs>\n      <path id=\"DejaVuSans-43\" d=\"M 4122 4306  L 4122 3641  Q 3803 3938 3442 4084  Q 3081 4231 2675 4231  Q 1875 4231 1450 3742  Q 1025 3253 1025 2328  Q 1025 1406 1450 917  Q 1875 428 2675 428  Q 3081 428 3442 575  Q 3803 722 4122 1019  L 4122 359  Q 3791 134 3420 21  Q 3050 -91 2638 -91  Q 1578 -91 968 557  Q 359 1206 359 2328  Q 359 3453 968 4101  Q 1578 4750 2638 4750  Q 3056 4750 3426 4639  Q 3797 4528 4122 4306  z \" transform=\"scale(0.015625)\" />\n      <path id=\"DejaVuSans-6c\" d=\"M 603 4863  L 1178 4863  L 1178 0  L 603 0  L 603 4863  z \" transform=\"scale(0.015625)\" />\n      <path id=\"DejaVuSans-61\" d=\"M 2194 1759  Q 1497 1759 1228 1600  Q 959 1441 959 1056  Q 959 750 1161 570  Q 1363 391 1709 391  Q 2188 391 2477 730  Q 2766 1069 2766 1631  L 2766 1759  L 2194 1759  z M 3341 1997  L 3341 0  L 2766 0  L 2766 531  Q 2569 213 2275 61  Q 1981 -91 1556 -91  Q 1019 -91 701 211  Q 384 513 384 1019  Q 384 1609 779 1909  Q 1175 2209 1959 2209  L 2766 2209  L 2766 2266  Q 2766 2663 2505 2880  Q 2244 3097 1772 3097  Q 1472 3097 1187 3025  Q 903 2953 641 2809  L 641 3341  Q 956 3463 1253 3523  Q 1550 3584 1831 3584  Q 2591 3584 2966 3190  Q 3341 2797 3341 1997  z \" transform=\"scale(0.015625)\" />\n      <path id=\"DejaVuSans-73\" d=\"M 2834 3397  L 2834 2853  Q 2591 2978 2328 3040  Q 2066 3103 1784 3103  Q 1356 3103 1142 2972  Q 928 2841 928 2578  Q 928 2378 1081 2264  Q 1234 2150 1697 2047  L 1894 2003  Q 2506 1872 2764 1633  Q 3022 1394 3022 966  Q 3022 478 2636 193  Q 2250 -91 1575 -91  Q 1294 -91 989 -36  Q 684 19 347 128  L 347 722  Q 666 556 975 473  Q 1284 391 1588 391  Q 1994 391 2212 530  Q 2431 669 2431 922  Q 2431 1156 2273 1281  Q 2116 1406 1581 1522  L 1381 1569  Q 847 1681 609 1914  Q 372 2147 372 2553  Q 372 3047 722 3315  Q 1072 3584 1716 3584  Q 2034 3584 2315 3537  Q 2597 3491 2834 3397  z \" transform=\"scale(0.015625)\" />\n      <path id=\"DejaVuSans-20\" transform=\"scale(0.015625)\" />\n     </defs>\n     <use xlink:href=\"#DejaVuSans-43\" />\n     <use xlink:href=\"#DejaVuSans-6c\" x=\"69.824219\" />\n     <use xlink:href=\"#DejaVuSans-61\" x=\"97.607422\" />\n     <use xlink:href=\"#DejaVuSans-73\" x=\"158.886719\" />\n     <use xlink:href=\"#DejaVuSans-73\" x=\"210.986328\" />\n     <use xlink:href=\"#DejaVuSans-20\" x=\"263.085938\" />\n     <use xlink:href=\"#DejaVuSans-31\" x=\"294.873047\" />\n    </g>\n   </g>\n  </g>\n </g>\n</svg></g>\n\n<g id=\"edge4\" class=\"edge\">\n<title>node2-&gt;leaf3</title>\n<path fill=\"none\" stroke=\"#444443\" stroke-width=\"0.3\" d=\"M261.14,-101.28C259,-97 256.7,-92.4 254.37,-87.74\" />\n<polygon fill=\"#444443\" stroke=\"#444443\" stroke-width=\"0.3\" points=\"255.65,-87.17 252.61,-84.22 253.15,-88.43 255.65,-87.17\" />\n</g>\n\n<g id=\"node7\" class=\"node\">\n<title>leaf4</title>\n<polygon fill=\"none\" stroke=\"#444443\" stroke-width=\"0\" points=\"348,-84 280,-84 280,0 348,0 348,-84\" />\n<svg width=\"60px\" height=\"76px\" viewBox=\"0 0 80.079989 102.071543\" version=\"1.1\" preserveAspectRatio=\"xMinYMin meet\" x=\"284\" y=\"-80\">\n <metadata>\n  <rdf:RDF>\n   <ns2:Work>\n    <dc:type rdf:resource=\"http://purl.org/dc/dcmitype/StillImage\" />\n    <dc:date>2023-02-25T05:25:39.781995</dc:date>\n    <dc:format>image/svg+xml</dc:format>\n    <dc:creator>\n     <ns2:Agent>\n      <dc:title>Matplotlib v3.6.2, https://matplotlib.org/</dc:title>\n     </ns2:Agent>\n    </dc:creator>\n   </ns2:Work>\n  </rdf:RDF>\n </metadata>\n <defs>\n  <style type=\"text/css\">*{stroke-linejoin: round; stroke-linecap: butt}</style>\n </defs>\n <g id=\"figure_1\">\n  <g id=\"patch_1\">\n   <path d=\"M 0 102.071543  L 80.079989 102.071543  L 80.079989 0  L 0 0  z \" style=\"fill: #ffffff\" />\n  </g>\n  <g id=\"axes_1\">\n   <g id=\"patch_2\">\n    <path d=\"M 80.079989 40.039999  C 80.079989 37.211325 79.780236 34.390597 79.185755 31.625097  C 78.591274 28.859597 77.705405 26.164863 76.542997 23.586063  L 40.039989 40.039999  L 80.079989 40.039999  z \" style=\"fill: #fefebb; stroke: #444443; stroke-width: 0.5; stroke-linejoin: miter\" />\n   </g>\n   <g id=\"patch_3\">\n    <path d=\"M 76.542997 23.586063  C 74.528752 19.117465 71.710971 15.056483 68.230101 11.605527  C 64.749232 8.154571 60.664081 5.371945 56.178266 3.396341  C 51.69245 1.420738 46.881756 0.285535 41.985961 0.047315  C 37.090167 -0.190906 32.191986 0.47188 27.535557 2.002639  C 22.879128 3.533397 18.543121 5.906265 14.743653 9.002973  C 10.944186 12.099681 7.74545 15.86791 5.306879 20.119842  C 2.868308 24.371773 1.231102 29.035572 0.476862 33.878781  C -0.277377 38.72199 -0.135906 43.662785 0.894223 48.454902  C 1.924352 53.247019 3.825736 57.809496 6.503605 61.914928  C 9.181474 66.02036 12.590585 69.599386 16.561019 72.473617  C 20.531453 75.347848 24.996131 77.468724 29.73252 78.730536  C 34.468909 79.992348 39.396989 80.373778 44.271132 79.855813  C 49.145274 79.337848 53.883131 77.92924 58.248554 75.700197  C 62.613978 73.471155 66.533215 70.459337 69.81092 66.814862  C 73.088625 63.170386 75.669422 58.954826 77.424676 54.378295  C 79.179931 49.801765 80.079989 44.941584 80.079989 40.039997  L 40.039989 40.039999  L 76.542997 23.586063  z \" style=\"fill: #a1dab4; stroke: #444443; stroke-width: 0.5; stroke-linejoin: miter\" />\n   </g>\n   <g id=\"text_1\">\n    \n    <g style=\"fill: #444443\" transform=\"translate(21.964755 90.121793) scale(0.09 -0.09)\">\n     <defs>\n      <path id=\"DejaVuSans-6e\" d=\"M 3513 2113  L 3513 0  L 2938 0  L 2938 2094  Q 2938 2591 2744 2837  Q 2550 3084 2163 3084  Q 1697 3084 1428 2787  Q 1159 2491 1159 1978  L 1159 0  L 581 0  L 581 3500  L 1159 3500  L 1159 2956  Q 1366 3272 1645 3428  Q 1925 3584 2291 3584  Q 2894 3584 3203 3211  Q 3513 2838 3513 2113  z \" transform=\"scale(0.015625)\" />\n      <path id=\"DejaVuSans-3d\" d=\"M 678 2906  L 4684 2906  L 4684 2381  L 678 2381  L 678 2906  z M 678 1631  L 4684 1631  L 4684 1100  L 678 1100  L 678 1631  z \" transform=\"scale(0.015625)\" />\n      <path id=\"DejaVuSans-31\" d=\"M 794 531  L 1825 531  L 1825 4091  L 703 3866  L 703 4441  L 1819 4666  L 2450 4666  L 2450 531  L 3481 531  L 3481 0  L 794 0  L 794 531  z \" transform=\"scale(0.015625)\" />\n      <path id=\"DejaVuSans-33\" d=\"M 2597 2516  Q 3050 2419 3304 2112  Q 3559 1806 3559 1356  Q 3559 666 3084 287  Q 2609 -91 1734 -91  Q 1441 -91 1130 -33  Q 819 25 488 141  L 488 750  Q 750 597 1062 519  Q 1375 441 1716 441  Q 2309 441 2620 675  Q 2931 909 2931 1356  Q 2931 1769 2642 2001  Q 2353 2234 1838 2234  L 1294 2234  L 1294 2753  L 1863 2753  Q 2328 2753 2575 2939  Q 2822 3125 2822 3475  Q 2822 3834 2567 4026  Q 2313 4219 1838 4219  Q 1578 4219 1281 4162  Q 984 4106 628 3988  L 628 4550  Q 988 4650 1302 4700  Q 1616 4750 1894 4750  Q 2613 4750 3031 4423  Q 3450 4097 3450 3541  Q 3450 3153 3228 2886  Q 3006 2619 2597 2516  z \" transform=\"scale(0.015625)\" />\n      <path id=\"DejaVuSans-36\" d=\"M 2113 2584  Q 1688 2584 1439 2293  Q 1191 2003 1191 1497  Q 1191 994 1439 701  Q 1688 409 2113 409  Q 2538 409 2786 701  Q 3034 994 3034 1497  Q 3034 2003 2786 2293  Q 2538 2584 2113 2584  z M 3366 4563  L 3366 3988  Q 3128 4100 2886 4159  Q 2644 4219 2406 4219  Q 1781 4219 1451 3797  Q 1122 3375 1075 2522  Q 1259 2794 1537 2939  Q 1816 3084 2150 3084  Q 2853 3084 3261 2657  Q 3669 2231 3669 1497  Q 3669 778 3244 343  Q 2819 -91 2113 -91  Q 1303 -91 875 529  Q 447 1150 447 2328  Q 447 3434 972 4092  Q 1497 4750 2381 4750  Q 2619 4750 2861 4703  Q 3103 4656 3366 4563  z \" transform=\"scale(0.015625)\" />\n      <path id=\"DejaVuSans-35\" d=\"M 691 4666  L 3169 4666  L 3169 4134  L 1269 4134  L 1269 2991  Q 1406 3038 1543 3061  Q 1681 3084 1819 3084  Q 2600 3084 3056 2656  Q 3513 2228 3513 1497  Q 3513 744 3044 326  Q 2575 -91 1722 -91  Q 1428 -91 1123 -41  Q 819 9 494 109  L 494 744  Q 775 591 1075 516  Q 1375 441 1709 441  Q 2250 441 2565 725  Q 2881 1009 2881 1497  Q 2881 1984 2565 2268  Q 2250 2553 1709 2553  Q 1456 2553 1204 2497  Q 953 2441 691 2322  L 691 4666  z \" transform=\"scale(0.015625)\" />\n     </defs>\n     <use xlink:href=\"#DejaVuSans-6e\" />\n     <use xlink:href=\"#DejaVuSans-3d\" x=\"63.378906\" />\n     <use xlink:href=\"#DejaVuSans-31\" x=\"147.167969\" />\n     <use xlink:href=\"#DejaVuSans-33\" x=\"210.791016\" />\n     <use xlink:href=\"#DejaVuSans-36\" x=\"274.414062\" />\n     <use xlink:href=\"#DejaVuSans-35\" x=\"338.037109\" />\n    </g>\n    \n    <g style=\"fill: #444443\" transform=\"translate(23.908192 100.199824) scale(0.09 -0.09)\">\n     <defs>\n      <path id=\"DejaVuSans-43\" d=\"M 4122 4306  L 4122 3641  Q 3803 3938 3442 4084  Q 3081 4231 2675 4231  Q 1875 4231 1450 3742  Q 1025 3253 1025 2328  Q 1025 1406 1450 917  Q 1875 428 2675 428  Q 3081 428 3442 575  Q 3803 722 4122 1019  L 4122 359  Q 3791 134 3420 21  Q 3050 -91 2638 -91  Q 1578 -91 968 557  Q 359 1206 359 2328  Q 359 3453 968 4101  Q 1578 4750 2638 4750  Q 3056 4750 3426 4639  Q 3797 4528 4122 4306  z \" transform=\"scale(0.015625)\" />\n      <path id=\"DejaVuSans-6c\" d=\"M 603 4863  L 1178 4863  L 1178 0  L 603 0  L 603 4863  z \" transform=\"scale(0.015625)\" />\n      <path id=\"DejaVuSans-61\" d=\"M 2194 1759  Q 1497 1759 1228 1600  Q 959 1441 959 1056  Q 959 750 1161 570  Q 1363 391 1709 391  Q 2188 391 2477 730  Q 2766 1069 2766 1631  L 2766 1759  L 2194 1759  z M 3341 1997  L 3341 0  L 2766 0  L 2766 531  Q 2569 213 2275 61  Q 1981 -91 1556 -91  Q 1019 -91 701 211  Q 384 513 384 1019  Q 384 1609 779 1909  Q 1175 2209 1959 2209  L 2766 2209  L 2766 2266  Q 2766 2663 2505 2880  Q 2244 3097 1772 3097  Q 1472 3097 1187 3025  Q 903 2953 641 2809  L 641 3341  Q 956 3463 1253 3523  Q 1550 3584 1831 3584  Q 2591 3584 2966 3190  Q 3341 2797 3341 1997  z \" transform=\"scale(0.015625)\" />\n      <path id=\"DejaVuSans-73\" d=\"M 2834 3397  L 2834 2853  Q 2591 2978 2328 3040  Q 2066 3103 1784 3103  Q 1356 3103 1142 2972  Q 928 2841 928 2578  Q 928 2378 1081 2264  Q 1234 2150 1697 2047  L 1894 2003  Q 2506 1872 2764 1633  Q 3022 1394 3022 966  Q 3022 478 2636 193  Q 2250 -91 1575 -91  Q 1294 -91 989 -36  Q 684 19 347 128  L 347 722  Q 666 556 975 473  Q 1284 391 1588 391  Q 1994 391 2212 530  Q 2431 669 2431 922  Q 2431 1156 2273 1281  Q 2116 1406 1581 1522  L 1381 1569  Q 847 1681 609 1914  Q 372 2147 372 2553  Q 372 3047 722 3315  Q 1072 3584 1716 3584  Q 2034 3584 2315 3537  Q 2597 3491 2834 3397  z \" transform=\"scale(0.015625)\" />\n      <path id=\"DejaVuSans-20\" transform=\"scale(0.015625)\" />\n     </defs>\n     <use xlink:href=\"#DejaVuSans-43\" />\n     <use xlink:href=\"#DejaVuSans-6c\" x=\"69.824219\" />\n     <use xlink:href=\"#DejaVuSans-61\" x=\"97.607422\" />\n     <use xlink:href=\"#DejaVuSans-73\" x=\"158.886719\" />\n     <use xlink:href=\"#DejaVuSans-73\" x=\"210.986328\" />\n     <use xlink:href=\"#DejaVuSans-20\" x=\"263.085938\" />\n     <use xlink:href=\"#DejaVuSans-31\" x=\"294.873047\" />\n    </g>\n   </g>\n  </g>\n </g>\n</svg></g>\n\n<g id=\"edge5\" class=\"edge\">\n<title>node2-&gt;leaf4</title>\n<path fill=\"none\" stroke=\"#444443\" stroke-width=\"0.3\" d=\"M284.86,-101.28C287,-97 289.3,-92.4 291.63,-87.74\" />\n<polygon fill=\"#444443\" stroke=\"#444443\" stroke-width=\"0.3\" points=\"292.85,-88.43 293.39,-84.22 290.35,-87.17 292.85,-88.43\" />\n</g>\n\n<g id=\"node3\" class=\"node\">\n<title>node0</title>\n<svg width=\"159px\" height=\"76px\" viewBox=\"0 0 211.5 102.4025\" version=\"1.1\" preserveAspectRatio=\"xMinYMin meet\" x=\"105\" y=\"-262\">\n <metadata>\n  <rdf:RDF>\n   <ns2:Work>\n    <dc:type rdf:resource=\"http://purl.org/dc/dcmitype/StillImage\" />\n    <dc:date>2023-02-25T05:25:39.632599</dc:date>\n    <dc:format>image/svg+xml</dc:format>\n    <dc:creator>\n     <ns2:Agent>\n      <dc:title>Matplotlib v3.6.2, https://matplotlib.org/</dc:title>\n     </ns2:Agent>\n    </dc:creator>\n   </ns2:Work>\n  </rdf:RDF>\n </metadata>\n <defs>\n  <style type=\"text/css\">*{stroke-linejoin: round; stroke-linecap: butt}</style>\n </defs>\n <g id=\"figure_1\">\n  <g id=\"patch_1\">\n   <path d=\"M 0 102.4025  L 211.5 102.4025  L 211.5 0  L 0 0  z \" style=\"fill: #ffffff\" />\n  </g>\n  <g id=\"axes_1\">\n   <g id=\"patch_2\">\n    <path d=\"M 27.36 83.16  L 211.5 83.16  L 211.5 0  L 27.36 0  z \" style=\"fill: #ffffff\" />\n   </g>\n   <g id=\"patch_3\">\n    <path d=\"M 43.372174 83.16  L 51.378261 83.16  L 51.378261 29.827594  L 43.372174 29.827594  z \" clip-path=\"url(#p51a994a1ea)\" style=\"fill: #fefebb; stroke: #444443; stroke-width: 0.5; stroke-linejoin: miter\" />\n   </g>\n   <g id=\"patch_4\">\n    <path d=\"M 51.378261 83.16  L 59.384348 83.16  L 59.384348 83.16  L 51.378261 83.16  z \" clip-path=\"url(#p51a994a1ea)\" style=\"fill: #fefebb; stroke: #444443; stroke-width: 0.5; stroke-linejoin: miter\" />\n   </g>\n   <g id=\"patch_5\">\n    <path d=\"M 59.384348 83.16  L 67.390435 83.16  L 67.390435 83.16  L 59.384348 83.16  z \" clip-path=\"url(#p51a994a1ea)\" style=\"fill: #fefebb; stroke: #444443; stroke-width: 0.5; stroke-linejoin: miter\" />\n   </g>\n   <g id=\"patch_6\">\n    <path d=\"M 67.390435 83.16  L 75.396522 83.16  L 75.396522 83.16  L 67.390435 83.16  z \" clip-path=\"url(#p51a994a1ea)\" style=\"fill: #fefebb; stroke: #444443; stroke-width: 0.5; stroke-linejoin: miter\" />\n   </g>\n   <g id=\"patch_7\">\n    <path d=\"M 75.396522 83.16  L 83.402609 83.16  L 83.402609 83.16  L 75.396522 83.16  z \" clip-path=\"url(#p51a994a1ea)\" style=\"fill: #fefebb; stroke: #444443; stroke-width: 0.5; stroke-linejoin: miter\" />\n   </g>\n   <g id=\"patch_8\">\n    <path d=\"M 83.402609 83.16  L 91.408696 83.16  L 91.408696 83.16  L 83.402609 83.16  z \" clip-path=\"url(#p51a994a1ea)\" style=\"fill: #fefebb; stroke: #444443; stroke-width: 0.5; stroke-linejoin: miter\" />\n   </g>\n   <g id=\"patch_9\">\n    <path d=\"M 91.408696 83.16  L 99.414783 83.16  L 99.414783 83.16  L 91.408696 83.16  z \" clip-path=\"url(#p51a994a1ea)\" style=\"fill: #fefebb; stroke: #444443; stroke-width: 0.5; stroke-linejoin: miter\" />\n   </g>\n   <g id=\"patch_10\">\n    <path d=\"M 99.414783 83.16  L 107.42087 83.16  L 107.42087 83.16  L 99.414783 83.16  z \" clip-path=\"url(#p51a994a1ea)\" style=\"fill: #fefebb; stroke: #444443; stroke-width: 0.5; stroke-linejoin: miter\" />\n   </g>\n   <g id=\"patch_11\">\n    <path d=\"M 107.42087 83.16  L 115.426957 83.16  L 115.426957 83.16  L 107.42087 83.16  z \" clip-path=\"url(#p51a994a1ea)\" style=\"fill: #fefebb; stroke: #444443; stroke-width: 0.5; stroke-linejoin: miter\" />\n   </g>\n   <g id=\"patch_12\">\n    <path d=\"M 115.426957 83.16  L 123.433043 83.16  L 123.433043 74.916885  L 115.426957 74.916885  z \" clip-path=\"url(#p51a994a1ea)\" style=\"fill: #fefebb; stroke: #444443; stroke-width: 0.5; stroke-linejoin: miter\" />\n   </g>\n   <g id=\"patch_13\">\n    <path d=\"M 123.433043 83.16  L 131.43913 83.16  L 131.43913 83.16  L 123.433043 83.16  z \" clip-path=\"url(#p51a994a1ea)\" style=\"fill: #fefebb; stroke: #444443; stroke-width: 0.5; stroke-linejoin: miter\" />\n   </g>\n   <g id=\"patch_14\">\n    <path d=\"M 131.43913 83.16  L 139.445217 83.16  L 139.445217 83.16  L 131.43913 83.16  z \" clip-path=\"url(#p51a994a1ea)\" style=\"fill: #fefebb; stroke: #444443; stroke-width: 0.5; stroke-linejoin: miter\" />\n   </g>\n   <g id=\"patch_15\">\n    <path d=\"M 139.445217 83.16  L 147.451304 83.16  L 147.451304 83.16  L 139.445217 83.16  z \" clip-path=\"url(#p51a994a1ea)\" style=\"fill: #fefebb; stroke: #444443; stroke-width: 0.5; stroke-linejoin: miter\" />\n   </g>\n   <g id=\"patch_16\">\n    <path d=\"M 147.451304 83.16  L 155.457391 83.16  L 155.457391 83.16  L 147.451304 83.16  z \" clip-path=\"url(#p51a994a1ea)\" style=\"fill: #fefebb; stroke: #444443; stroke-width: 0.5; stroke-linejoin: miter\" />\n   </g>\n   <g id=\"patch_17\">\n    <path d=\"M 155.457391 83.16  L 163.463478 83.16  L 163.463478 83.16  L 155.457391 83.16  z \" clip-path=\"url(#p51a994a1ea)\" style=\"fill: #fefebb; stroke: #444443; stroke-width: 0.5; stroke-linejoin: miter\" />\n   </g>\n   <g id=\"patch_18\">\n    <path d=\"M 163.463478 83.16  L 171.469565 83.16  L 171.469565 83.16  L 163.463478 83.16  z \" clip-path=\"url(#p51a994a1ea)\" style=\"fill: #fefebb; stroke: #444443; stroke-width: 0.5; stroke-linejoin: miter\" />\n   </g>\n   <g id=\"patch_19\">\n    <path d=\"M 171.469565 83.16  L 179.475652 83.16  L 179.475652 83.16  L 171.469565 83.16  z \" clip-path=\"url(#p51a994a1ea)\" style=\"fill: #fefebb; stroke: #444443; stroke-width: 0.5; stroke-linejoin: miter\" />\n   </g>\n   <g id=\"patch_20\">\n    <path d=\"M 179.475652 83.16  L 187.481739 83.16  L 187.481739 83.16  L 179.475652 83.16  z \" clip-path=\"url(#p51a994a1ea)\" style=\"fill: #fefebb; stroke: #444443; stroke-width: 0.5; stroke-linejoin: miter\" />\n   </g>\n   <g id=\"patch_21\">\n    <path d=\"M 187.481739 83.16  L 195.487826 83.16  L 195.487826 81.415911  L 187.481739 81.415911  z \" clip-path=\"url(#p51a994a1ea)\" style=\"fill: #fefebb; stroke: #444443; stroke-width: 0.5; stroke-linejoin: miter\" />\n   </g>\n   <g id=\"patch_22\">\n    <path d=\"M 43.372174 29.827594  L 51.378261 29.827594  L 51.378261 3.96  L 43.372174 3.96  z \" clip-path=\"url(#p51a994a1ea)\" style=\"fill: #a1dab4; stroke: #444443; stroke-width: 0.5; stroke-linejoin: miter\" />\n   </g>\n   <g id=\"patch_23\">\n    <path d=\"M 51.378261 83.16  L 59.384348 83.16  L 59.384348 83.16  L 51.378261 83.16  z \" clip-path=\"url(#p51a994a1ea)\" style=\"fill: #a1dab4; stroke: #444443; stroke-width: 0.5; stroke-linejoin: miter\" />\n   </g>\n   <g id=\"patch_24\">\n    <path d=\"M 59.384348 83.16  L 67.390435 83.16  L 67.390435 83.16  L 59.384348 83.16  z \" clip-path=\"url(#p51a994a1ea)\" style=\"fill: #a1dab4; stroke: #444443; stroke-width: 0.5; stroke-linejoin: miter\" />\n   </g>\n   <g id=\"patch_25\">\n    <path d=\"M 67.390435 83.16  L 75.396522 83.16  L 75.396522 83.16  L 67.390435 83.16  z \" clip-path=\"url(#p51a994a1ea)\" style=\"fill: #a1dab4; stroke: #444443; stroke-width: 0.5; stroke-linejoin: miter\" />\n   </g>\n   <g id=\"patch_26\">\n    <path d=\"M 75.396522 83.16  L 83.402609 83.16  L 83.402609 83.16  L 75.396522 83.16  z \" clip-path=\"url(#p51a994a1ea)\" style=\"fill: #a1dab4; stroke: #444443; stroke-width: 0.5; stroke-linejoin: miter\" />\n   </g>\n   <g id=\"patch_27\">\n    <path d=\"M 83.402609 83.16  L 91.408696 83.16  L 91.408696 83.16  L 83.402609 83.16  z \" clip-path=\"url(#p51a994a1ea)\" style=\"fill: #a1dab4; stroke: #444443; stroke-width: 0.5; stroke-linejoin: miter\" />\n   </g>\n   <g id=\"patch_28\">\n    <path d=\"M 91.408696 83.16  L 99.414783 83.16  L 99.414783 83.16  L 91.408696 83.16  z \" clip-path=\"url(#p51a994a1ea)\" style=\"fill: #a1dab4; stroke: #444443; stroke-width: 0.5; stroke-linejoin: miter\" />\n   </g>\n   <g id=\"patch_29\">\n    <path d=\"M 99.414783 83.16  L 107.42087 83.16  L 107.42087 83.16  L 99.414783 83.16  z \" clip-path=\"url(#p51a994a1ea)\" style=\"fill: #a1dab4; stroke: #444443; stroke-width: 0.5; stroke-linejoin: miter\" />\n   </g>\n   <g id=\"patch_30\">\n    <path d=\"M 107.42087 83.16  L 115.426957 83.16  L 115.426957 83.16  L 107.42087 83.16  z \" clip-path=\"url(#p51a994a1ea)\" style=\"fill: #a1dab4; stroke: #444443; stroke-width: 0.5; stroke-linejoin: miter\" />\n   </g>\n   <g id=\"patch_31\">\n    <path d=\"M 115.426957 74.916885  L 123.433043 74.916885  L 123.433043 38.033992  L 115.426957 38.033992  z \" clip-path=\"url(#p51a994a1ea)\" style=\"fill: #a1dab4; stroke: #444443; stroke-width: 0.5; stroke-linejoin: miter\" />\n   </g>\n   <g id=\"patch_32\">\n    <path d=\"M 123.433043 83.16  L 131.43913 83.16  L 131.43913 83.16  L 123.433043 83.16  z \" clip-path=\"url(#p51a994a1ea)\" style=\"fill: #a1dab4; stroke: #444443; stroke-width: 0.5; stroke-linejoin: miter\" />\n   </g>\n   <g id=\"patch_33\">\n    <path d=\"M 131.43913 83.16  L 139.445217 83.16  L 139.445217 83.16  L 131.43913 83.16  z \" clip-path=\"url(#p51a994a1ea)\" style=\"fill: #a1dab4; stroke: #444443; stroke-width: 0.5; stroke-linejoin: miter\" />\n   </g>\n   <g id=\"patch_34\">\n    <path d=\"M 139.445217 83.16  L 147.451304 83.16  L 147.451304 83.16  L 139.445217 83.16  z \" clip-path=\"url(#p51a994a1ea)\" style=\"fill: #a1dab4; stroke: #444443; stroke-width: 0.5; stroke-linejoin: miter\" />\n   </g>\n   <g id=\"patch_35\">\n    <path d=\"M 147.451304 83.16  L 155.457391 83.16  L 155.457391 83.16  L 147.451304 83.16  z \" clip-path=\"url(#p51a994a1ea)\" style=\"fill: #a1dab4; stroke: #444443; stroke-width: 0.5; stroke-linejoin: miter\" />\n   </g>\n   <g id=\"patch_36\">\n    <path d=\"M 155.457391 83.16  L 163.463478 83.16  L 163.463478 83.16  L 155.457391 83.16  z \" clip-path=\"url(#p51a994a1ea)\" style=\"fill: #a1dab4; stroke: #444443; stroke-width: 0.5; stroke-linejoin: miter\" />\n   </g>\n   <g id=\"patch_37\">\n    <path d=\"M 163.463478 83.16  L 171.469565 83.16  L 171.469565 83.16  L 163.463478 83.16  z \" clip-path=\"url(#p51a994a1ea)\" style=\"fill: #a1dab4; stroke: #444443; stroke-width: 0.5; stroke-linejoin: miter\" />\n   </g>\n   <g id=\"patch_38\">\n    <path d=\"M 171.469565 83.16  L 179.475652 83.16  L 179.475652 83.16  L 171.469565 83.16  z \" clip-path=\"url(#p51a994a1ea)\" style=\"fill: #a1dab4; stroke: #444443; stroke-width: 0.5; stroke-linejoin: miter\" />\n   </g>\n   <g id=\"patch_39\">\n    <path d=\"M 179.475652 83.16  L 187.481739 83.16  L 187.481739 83.16  L 179.475652 83.16  z \" clip-path=\"url(#p51a994a1ea)\" style=\"fill: #a1dab4; stroke: #444443; stroke-width: 0.5; stroke-linejoin: miter\" />\n   </g>\n   <g id=\"patch_40\">\n    <path d=\"M 187.481739 81.415911  L 195.487826 81.415911  L 195.487826 79.800334  L 187.481739 79.800334  z \" clip-path=\"url(#p51a994a1ea)\" style=\"fill: #a1dab4; stroke: #444443; stroke-width: 0.5; stroke-linejoin: miter\" />\n   </g>\n   <g id=\"patch_41\">\n    <path d=\"M 81.401087 83.9916  L 78.086567 92.3076  L 84.715607 92.3076  z \" style=\"fill: #444443\" />\n   </g>\n   <g id=\"matplotlib.axis_1\">\n    <g id=\"xtick_1\">\n     <g id=\"line2d_1\">\n      <defs>\n       <path id=\"mb3422f29f3\" d=\"M 0 0  L 0 3.5  \" style=\"stroke: #000000; stroke-width: 0.3\" />\n      </defs>\n      <g>\n       <use xlink:href=\"#mb3422f29f3\" x=\"43.372174\" y=\"83.16\" style=\"stroke: #000000; stroke-width: 0.3\" />\n      </g>\n     </g>\n     <g id=\"text_1\">\n      \n      <g style=\"fill: #444443\" transform=\"translate(28.569049 100.73875) scale(0.08 -0.08)\">\n       <defs>\n        <path id=\"DejaVuSans-2212\" d=\"M 678 2272  L 4684 2272  L 4684 1741  L 678 1741  L 678 2272  z \" transform=\"scale(0.015625)\" />\n        <path id=\"DejaVuSans-30\" d=\"M 2034 4250  Q 1547 4250 1301 3770  Q 1056 3291 1056 2328  Q 1056 1369 1301 889  Q 1547 409 2034 409  Q 2525 409 2770 889  Q 3016 1369 3016 2328  Q 3016 3291 2770 3770  Q 2525 4250 2034 4250  z M 2034 4750  Q 2819 4750 3233 4129  Q 3647 3509 3647 2328  Q 3647 1150 3233 529  Q 2819 -91 2034 -91  Q 1250 -91 836 529  Q 422 1150 422 2328  Q 422 3509 836 4129  Q 1250 4750 2034 4750  z \" transform=\"scale(0.015625)\" />\n        <path id=\"DejaVuSans-2e\" d=\"M 684 794  L 1344 794  L 1344 0  L 684 0  L 684 794  z \" transform=\"scale(0.015625)\" />\n        <path id=\"DejaVuSans-37\" d=\"M 525 4666  L 3525 4666  L 3525 4397  L 1831 0  L 1172 0  L 2766 4134  L 525 4134  L 525 4666  z \" transform=\"scale(0.015625)\" />\n        <path id=\"DejaVuSans-34\" d=\"M 2419 4116  L 825 1625  L 2419 1625  L 2419 4116  z M 2253 4666  L 3047 4666  L 3047 1625  L 3713 1625  L 3713 1100  L 3047 1100  L 3047 0  L 2419 0  L 2419 1100  L 313 1100  L 313 1709  L 2253 4666  z \" transform=\"scale(0.015625)\" />\n        <path id=\"DejaVuSans-39\" d=\"M 703 97  L 703 672  Q 941 559 1184 500  Q 1428 441 1663 441  Q 2288 441 2617 861  Q 2947 1281 2994 2138  Q 2813 1869 2534 1725  Q 2256 1581 1919 1581  Q 1219 1581 811 2004  Q 403 2428 403 3163  Q 403 3881 828 4315  Q 1253 4750 1959 4750  Q 2769 4750 3195 4129  Q 3622 3509 3622 2328  Q 3622 1225 3098 567  Q 2575 -91 1691 -91  Q 1453 -91 1209 -44  Q 966 3 703 97  z M 1959 2075  Q 2384 2075 2632 2365  Q 2881 2656 2881 3163  Q 2881 3666 2632 3958  Q 2384 4250 1959 4250  Q 1534 4250 1286 3958  Q 1038 3666 1038 3163  Q 1038 2656 1286 2365  Q 1534 2075 1959 2075  z \" transform=\"scale(0.015625)\" />\n       </defs>\n       <use xlink:href=\"#DejaVuSans-2212\" />\n       <use xlink:href=\"#DejaVuSans-30\" x=\"83.789062\" />\n       <use xlink:href=\"#DejaVuSans-2e\" x=\"147.412109\" />\n       <use xlink:href=\"#DejaVuSans-37\" x=\"179.199219\" />\n       <use xlink:href=\"#DejaVuSans-34\" x=\"242.822266\" />\n       <use xlink:href=\"#DejaVuSans-39\" x=\"306.445312\" />\n      </g>\n     </g>\n    </g>\n    <g id=\"xtick_2\">\n     <g id=\"line2d_2\">\n      <g>\n       <use xlink:href=\"#mb3422f29f3\" x=\"81.401087\" y=\"83.16\" style=\"stroke: #000000; stroke-width: 0.3\" />\n      </g>\n     </g>\n     <g id=\"text_2\">\n      \n      <g style=\"fill: #444443\" transform=\"translate(69.949837 100.73875) scale(0.08 -0.08)\">\n       <defs>\n        <path id=\"DejaVuSans-31\" d=\"M 794 531  L 1825 531  L 1825 4091  L 703 3866  L 703 4441  L 1819 4666  L 2450 4666  L 2450 531  L 3481 531  L 3481 0  L 794 0  L 794 531  z \" transform=\"scale(0.015625)\" />\n        <path id=\"DejaVuSans-33\" d=\"M 2597 2516  Q 3050 2419 3304 2112  Q 3559 1806 3559 1356  Q 3559 666 3084 287  Q 2609 -91 1734 -91  Q 1441 -91 1130 -33  Q 819 25 488 141  L 488 750  Q 750 597 1062 519  Q 1375 441 1716 441  Q 2309 441 2620 675  Q 2931 909 2931 1356  Q 2931 1769 2642 2001  Q 2353 2234 1838 2234  L 1294 2234  L 1294 2753  L 1863 2753  Q 2328 2753 2575 2939  Q 2822 3125 2822 3475  Q 2822 3834 2567 4026  Q 2313 4219 1838 4219  Q 1578 4219 1281 4162  Q 984 4106 628 3988  L 628 4550  Q 988 4650 1302 4700  Q 1616 4750 1894 4750  Q 2613 4750 3031 4423  Q 3450 4097 3450 3541  Q 3450 3153 3228 2886  Q 3006 2619 2597 2516  z \" transform=\"scale(0.015625)\" />\n       </defs>\n       <use xlink:href=\"#DejaVuSans-30\" />\n       <use xlink:href=\"#DejaVuSans-2e\" x=\"63.623047\" />\n       <use xlink:href=\"#DejaVuSans-31\" x=\"95.410156\" />\n       <use xlink:href=\"#DejaVuSans-37\" x=\"159.033203\" />\n       <use xlink:href=\"#DejaVuSans-33\" x=\"222.65625\" />\n      </g>\n     </g>\n    </g>\n    <g id=\"xtick_3\">\n     <g id=\"line2d_3\">\n      <g>\n       <use xlink:href=\"#mb3422f29f3\" x=\"195.487826\" y=\"83.16\" style=\"stroke: #000000; stroke-width: 0.3\" />\n      </g>\n     </g>\n     <g id=\"text_3\">\n      \n      <g style=\"fill: #444443\" transform=\"translate(184.036576 100.73875) scale(0.08 -0.08)\">\n       <defs>\n        <path id=\"DejaVuSans-32\" d=\"M 1228 531  L 3431 531  L 3431 0  L 469 0  L 469 531  Q 828 903 1448 1529  Q 2069 2156 2228 2338  Q 2531 2678 2651 2914  Q 2772 3150 2772 3378  Q 2772 3750 2511 3984  Q 2250 4219 1831 4219  Q 1534 4219 1204 4116  Q 875 4013 500 3803  L 500 4441  Q 881 4594 1212 4672  Q 1544 4750 1819 4750  Q 2544 4750 2975 4387  Q 3406 4025 3406 3419  Q 3406 3131 3298 2873  Q 3191 2616 2906 2266  Q 2828 2175 2409 1742  Q 1991 1309 1228 531  z \" transform=\"scale(0.015625)\" />\n       </defs>\n       <use xlink:href=\"#DejaVuSans-32\" />\n       <use xlink:href=\"#DejaVuSans-2e\" x=\"63.623047\" />\n       <use xlink:href=\"#DejaVuSans-39\" x=\"95.410156\" />\n       <use xlink:href=\"#DejaVuSans-34\" x=\"159.033203\" />\n       <use xlink:href=\"#DejaVuSans-31\" x=\"222.65625\" />\n      </g>\n     </g>\n    </g>\n   </g>\n   <g id=\"matplotlib.axis_2\">\n    <g id=\"ytick_1\">\n     <g id=\"line2d_4\">\n      <defs>\n       <path id=\"m919978725a\" d=\"M 0 0  L -3.5 0  \" style=\"stroke: #000000; stroke-width: 0.3\" />\n      </defs>\n      <g>\n       <use xlink:href=\"#m919978725a\" x=\"27.36\" y=\"83.16\" style=\"stroke: #000000; stroke-width: 0.3\" />\n      </g>\n     </g>\n     <g id=\"text_4\">\n      \n      <g style=\"fill: #444443\" transform=\"translate(15.27 86.199375) scale(0.08 -0.08)\">\n       <use xlink:href=\"#DejaVuSans-30\" />\n      </g>\n     </g>\n    </g>\n    <g id=\"ytick_2\">\n     <g id=\"line2d_5\">\n      <g>\n       <use xlink:href=\"#m919978725a\" x=\"27.36\" y=\"3.96\" style=\"stroke: #000000; stroke-width: 0.3\" />\n      </g>\n     </g>\n     <g id=\"text_5\">\n      \n      <g style=\"fill: #444443\" transform=\"translate(0 6.999375) scale(0.08 -0.08)\">\n       <use xlink:href=\"#DejaVuSans-34\" />\n       <use xlink:href=\"#DejaVuSans-33\" x=\"63.623047\" />\n       <use xlink:href=\"#DejaVuSans-31\" x=\"127.246094\" />\n       <use xlink:href=\"#DejaVuSans-34\" x=\"190.869141\" />\n      </g>\n     </g>\n    </g>\n   </g>\n   <g id=\"patch_42\">\n    <path d=\"M 27.36 83.16  L 27.36 0  \" style=\"fill: none; stroke: #444443; stroke-width: 0.3; stroke-linejoin: miter; stroke-linecap: square\" />\n   </g>\n   <g id=\"patch_43\">\n    <path d=\"M 27.36 83.16  L 211.5 83.16  \" style=\"fill: none; stroke: #444443; stroke-width: 0.3; stroke-linejoin: miter; stroke-linecap: square\" />\n   </g>\n  </g>\n </g>\n <defs>\n  <clipPath id=\"p51a994a1ea\">\n   <rect x=\"27.36\" y=\"0\" width=\"184.14\" height=\"83.16\" />\n  </clipPath>\n </defs>\n</svg></g>\n\n<g id=\"edge7\" class=\"edge\">\n<title>node0-&gt;node1</title>\n<path fill=\"none\" stroke=\"#444443\" stroke-width=\"0.3\" d=\"M146,-182.01C136.06,-171.29 125.69,-160.1 116.91,-150.63\" />\n<polygon fill=\"#444443\" stroke=\"#444443\" stroke-width=\"0.3\" points=\"118.29,-150.07 114.55,-148.09 116.24,-151.97 118.29,-150.07\" />\n<text text-anchor=\"start\" x=\"137\" y=\"-162.8\" font-family=\"DejaVu Sans\" font-size=\"14.00\" fill=\"#444443\"> &#160;&#8804;</text>\n</g>\n\n<g id=\"edge8\" class=\"edge\">\n<title>node0-&gt;node2</title>\n<path fill=\"none\" stroke=\"#444443\" stroke-width=\"0.3\" d=\"M222,-182.01C230.75,-172.57 239.85,-162.76 247.89,-154.08\" />\n<polygon fill=\"#444443\" stroke=\"#444443\" stroke-width=\"0.3\" points=\"248.81,-155.16 250.5,-151.27 246.75,-153.25 248.81,-155.16\" />\n<text text-anchor=\"start\" x=\"242\" y=\"-162.8\" font-family=\"DejaVu Sans\" font-size=\"14.00\" fill=\"#444443\"> &#160;&gt;</text>\n</g>\n\n\n\n<g id=\"node8\" class=\"node\">\n<title>legend</title>\n<polygon fill=\"none\" stroke=\"black\" stroke-width=\"0\" points=\"347.5,-251.5 274.5,-251.5 274.5,-196.5 347.5,-196.5 347.5,-251.5\" />\n<svg width=\"69px\" height=\"51px\" viewBox=\"0 0 93.351562 67.8375\" version=\"1.1\" preserveAspectRatio=\"xMinYMin meet\" x=\"277\" y=\"-249\">\n <metadata>\n  <rdf:RDF>\n   <ns2:Work>\n    <dc:type rdf:resource=\"http://purl.org/dc/dcmitype/StillImage\" />\n    <dc:date>2023-02-25T05:25:38.947646</dc:date>\n    <dc:format>image/svg+xml</dc:format>\n    <dc:creator>\n     <ns2:Agent>\n      <dc:title>Matplotlib v3.6.2, https://matplotlib.org/</dc:title>\n     </ns2:Agent>\n    </dc:creator>\n   </ns2:Work>\n  </rdf:RDF>\n </metadata>\n <defs>\n  <style type=\"text/css\">*{stroke-linejoin: round; stroke-linecap: butt}</style>\n </defs>\n <g id=\"figure_1\">\n  <g id=\"patch_1\">\n   <path d=\"M 0 67.8375  L 93.351562 67.8375  L 93.351562 0  L 0 0  z \" style=\"fill: #ffffff\" />\n  </g>\n  <g id=\"axes_1\">\n   <g id=\"legend_1\">\n    <g id=\"patch_2\">\n     <path d=\"M 2.4 67.8375  L 84.951562 67.8375  Q 87.351562 67.8375 87.351562 65.4375  L 87.351562 8.4  Q 87.351562 6 84.951562 6  L 2.4 6  Q 0 6 0 8.4  L 0 65.4375  Q 0 67.8375 2.4 67.8375  z \" style=\"fill: #ffffff; opacity: 0.8; stroke: #444443; stroke-width: 0.5; stroke-linejoin: miter\" />\n    </g>\n    <g id=\"text_1\">\n     \n     <g style=\"fill: #444443\" transform=\"translate(9.6 23.198437) scale(0.1 -0.1)\">\n      <defs>\n       <path id=\"DejaVuSans-Bold-54\" d=\"M 31 4666  L 4331 4666  L 4331 3756  L 2784 3756  L 2784 0  L 1581 0  L 1581 3756  L 31 3756  L 31 4666  z \" transform=\"scale(0.015625)\" />\n       <path id=\"DejaVuSans-Bold-72\" d=\"M 3138 2547  Q 2991 2616 2845 2648  Q 2700 2681 2553 2681  Q 2122 2681 1889 2404  Q 1656 2128 1656 1613  L 1656 0  L 538 0  L 538 3500  L 1656 3500  L 1656 2925  Q 1872 3269 2151 3426  Q 2431 3584 2822 3584  Q 2878 3584 2943 3579  Q 3009 3575 3134 3559  L 3138 2547  z \" transform=\"scale(0.015625)\" />\n       <path id=\"DejaVuSans-Bold-61\" d=\"M 2106 1575  Q 1756 1575 1579 1456  Q 1403 1338 1403 1106  Q 1403 894 1545 773  Q 1688 653 1941 653  Q 2256 653 2472 879  Q 2688 1106 2688 1447  L 2688 1575  L 2106 1575  z M 3816 1997  L 3816 0  L 2688 0  L 2688 519  Q 2463 200 2181 54  Q 1900 -91 1497 -91  Q 953 -91 614 226  Q 275 544 275 1050  Q 275 1666 698 1953  Q 1122 2241 2028 2241  L 2688 2241  L 2688 2328  Q 2688 2594 2478 2717  Q 2269 2841 1825 2841  Q 1466 2841 1156 2769  Q 847 2697 581 2553  L 581 3406  Q 941 3494 1303 3539  Q 1666 3584 2028 3584  Q 2975 3584 3395 3211  Q 3816 2838 3816 1997  z \" transform=\"scale(0.015625)\" />\n       <path id=\"DejaVuSans-Bold-6e\" d=\"M 4056 2131  L 4056 0  L 2931 0  L 2931 347  L 2931 1631  Q 2931 2084 2911 2256  Q 2891 2428 2841 2509  Q 2775 2619 2662 2680  Q 2550 2741 2406 2741  Q 2056 2741 1856 2470  Q 1656 2200 1656 1722  L 1656 0  L 538 0  L 538 3500  L 1656 3500  L 1656 2988  Q 1909 3294 2193 3439  Q 2478 3584 2822 3584  Q 3428 3584 3742 3212  Q 4056 2841 4056 2131  z \" transform=\"scale(0.015625)\" />\n       <path id=\"DejaVuSans-Bold-73\" d=\"M 3272 3391  L 3272 2541  Q 2913 2691 2578 2766  Q 2244 2841 1947 2841  Q 1628 2841 1473 2761  Q 1319 2681 1319 2516  Q 1319 2381 1436 2309  Q 1553 2238 1856 2203  L 2053 2175  Q 2913 2066 3209 1816  Q 3506 1566 3506 1031  Q 3506 472 3093 190  Q 2681 -91 1863 -91  Q 1516 -91 1145 -36  Q 775 19 384 128  L 384 978  Q 719 816 1070 734  Q 1422 653 1784 653  Q 2113 653 2278 743  Q 2444 834 2444 1013  Q 2444 1163 2330 1236  Q 2216 1309 1875 1350  L 1678 1375  Q 931 1469 631 1722  Q 331 1975 331 2491  Q 331 3047 712 3315  Q 1094 3584 1881 3584  Q 2191 3584 2531 3537  Q 2872 3491 3272 3391  z \" transform=\"scale(0.015625)\" />\n       <path id=\"DejaVuSans-Bold-70\" d=\"M 1656 506  L 1656 -1331  L 538 -1331  L 538 3500  L 1656 3500  L 1656 2988  Q 1888 3294 2169 3439  Q 2450 3584 2816 3584  Q 3463 3584 3878 3070  Q 4294 2556 4294 1747  Q 4294 938 3878 423  Q 3463 -91 2816 -91  Q 2450 -91 2169 54  Q 1888 200 1656 506  z M 2400 2772  Q 2041 2772 1848 2508  Q 1656 2244 1656 1747  Q 1656 1250 1848 986  Q 2041 722 2400 722  Q 2759 722 2948 984  Q 3138 1247 3138 1747  Q 3138 2247 2948 2509  Q 2759 2772 2400 2772  z \" transform=\"scale(0.015625)\" />\n       <path id=\"DejaVuSans-Bold-6f\" d=\"M 2203 2784  Q 1831 2784 1636 2517  Q 1441 2250 1441 1747  Q 1441 1244 1636 976  Q 1831 709 2203 709  Q 2569 709 2762 976  Q 2956 1244 2956 1747  Q 2956 2250 2762 2517  Q 2569 2784 2203 2784  z M 2203 3584  Q 3106 3584 3614 3096  Q 4122 2609 4122 1747  Q 4122 884 3614 396  Q 3106 -91 2203 -91  Q 1297 -91 786 396  Q 275 884 275 1747  Q 275 2609 786 3096  Q 1297 3584 2203 3584  z \" transform=\"scale(0.015625)\" />\n       <path id=\"DejaVuSans-Bold-74\" d=\"M 1759 4494  L 1759 3500  L 2913 3500  L 2913 2700  L 1759 2700  L 1759 1216  Q 1759 972 1856 886  Q 1953 800 2241 800  L 2816 800  L 2816 0  L 1856 0  Q 1194 0 917 276  Q 641 553 641 1216  L 641 2700  L 84 2700  L 84 3500  L 641 3500  L 641 4494  L 1759 4494  z \" transform=\"scale(0.015625)\" />\n       <path id=\"DejaVuSans-Bold-65\" d=\"M 4031 1759  L 4031 1441  L 1416 1441  Q 1456 1047 1700 850  Q 1944 653 2381 653  Q 2734 653 3104 758  Q 3475 863 3866 1075  L 3866 213  Q 3469 63 3072 -14  Q 2675 -91 2278 -91  Q 1328 -91 801 392  Q 275 875 275 1747  Q 275 2603 792 3093  Q 1309 3584 2216 3584  Q 3041 3584 3536 3087  Q 4031 2591 4031 1759  z M 2881 2131  Q 2881 2450 2695 2645  Q 2509 2841 2209 2841  Q 1884 2841 1681 2658  Q 1478 2475 1428 2131  L 2881 2131  z \" transform=\"scale(0.015625)\" />\n       <path id=\"DejaVuSans-Bold-64\" d=\"M 2919 2988  L 2919 4863  L 4044 4863  L 4044 0  L 2919 0  L 2919 506  Q 2688 197 2409 53  Q 2131 -91 1766 -91  Q 1119 -91 703 423  Q 288 938 288 1747  Q 288 2556 703 3070  Q 1119 3584 1766 3584  Q 2128 3584 2408 3439  Q 2688 3294 2919 2988  z M 2181 722  Q 2541 722 2730 984  Q 2919 1247 2919 1747  Q 2919 2247 2730 2509  Q 2541 2772 2181 2772  Q 1825 2772 1636 2509  Q 1447 2247 1447 1747  Q 1447 1247 1636 984  Q 1825 722 2181 722  z \" transform=\"scale(0.015625)\" />\n      </defs>\n      <use xlink:href=\"#DejaVuSans-Bold-54\" />\n      <use xlink:href=\"#DejaVuSans-Bold-72\" x=\"57.212891\" />\n      <use xlink:href=\"#DejaVuSans-Bold-61\" x=\"106.529297\" />\n      <use xlink:href=\"#DejaVuSans-Bold-6e\" x=\"174.009766\" />\n      <use xlink:href=\"#DejaVuSans-Bold-73\" x=\"245.201172\" />\n      <use xlink:href=\"#DejaVuSans-Bold-70\" x=\"304.722656\" />\n      <use xlink:href=\"#DejaVuSans-Bold-6f\" x=\"376.304688\" />\n      <use xlink:href=\"#DejaVuSans-Bold-72\" x=\"445.005859\" />\n      <use xlink:href=\"#DejaVuSans-Bold-74\" x=\"494.322266\" />\n      <use xlink:href=\"#DejaVuSans-Bold-65\" x=\"542.125\" />\n      <use xlink:href=\"#DejaVuSans-Bold-64\" x=\"609.947266\" />\n     </g>\n    </g>\n    <g id=\"patch_3\">\n     <path d=\"M 11.651562 39.678125  L 35.651562 39.678125  L 35.651562 31.278125  L 11.651562 31.278125  z \" style=\"fill: #fefebb; stroke: #444443; stroke-width: 0.4; stroke-linejoin: miter\" />\n    </g>\n    <g id=\"text_2\">\n     \n     <g style=\"fill: #444443\" transform=\"translate(39.851562 39.678125) scale(0.1 -0.1)\">\n      <defs>\n       <path id=\"DejaVuSans-43\" d=\"M 4122 4306  L 4122 3641  Q 3803 3938 3442 4084  Q 3081 4231 2675 4231  Q 1875 4231 1450 3742  Q 1025 3253 1025 2328  Q 1025 1406 1450 917  Q 1875 428 2675 428  Q 3081 428 3442 575  Q 3803 722 4122 1019  L 4122 359  Q 3791 134 3420 21  Q 3050 -91 2638 -91  Q 1578 -91 968 557  Q 359 1206 359 2328  Q 359 3453 968 4101  Q 1578 4750 2638 4750  Q 3056 4750 3426 4639  Q 3797 4528 4122 4306  z \" transform=\"scale(0.015625)\" />\n       <path id=\"DejaVuSans-6c\" d=\"M 603 4863  L 1178 4863  L 1178 0  L 603 0  L 603 4863  z \" transform=\"scale(0.015625)\" />\n       <path id=\"DejaVuSans-61\" d=\"M 2194 1759  Q 1497 1759 1228 1600  Q 959 1441 959 1056  Q 959 750 1161 570  Q 1363 391 1709 391  Q 2188 391 2477 730  Q 2766 1069 2766 1631  L 2766 1759  L 2194 1759  z M 3341 1997  L 3341 0  L 2766 0  L 2766 531  Q 2569 213 2275 61  Q 1981 -91 1556 -91  Q 1019 -91 701 211  Q 384 513 384 1019  Q 384 1609 779 1909  Q 1175 2209 1959 2209  L 2766 2209  L 2766 2266  Q 2766 2663 2505 2880  Q 2244 3097 1772 3097  Q 1472 3097 1187 3025  Q 903 2953 641 2809  L 641 3341  Q 956 3463 1253 3523  Q 1550 3584 1831 3584  Q 2591 3584 2966 3190  Q 3341 2797 3341 1997  z \" transform=\"scale(0.015625)\" />\n       <path id=\"DejaVuSans-73\" d=\"M 2834 3397  L 2834 2853  Q 2591 2978 2328 3040  Q 2066 3103 1784 3103  Q 1356 3103 1142 2972  Q 928 2841 928 2578  Q 928 2378 1081 2264  Q 1234 2150 1697 2047  L 1894 2003  Q 2506 1872 2764 1633  Q 3022 1394 3022 966  Q 3022 478 2636 193  Q 2250 -91 1575 -91  Q 1294 -91 989 -36  Q 684 19 347 128  L 347 722  Q 666 556 975 473  Q 1284 391 1588 391  Q 1994 391 2212 530  Q 2431 669 2431 922  Q 2431 1156 2273 1281  Q 2116 1406 1581 1522  L 1381 1569  Q 847 1681 609 1914  Q 372 2147 372 2553  Q 372 3047 722 3315  Q 1072 3584 1716 3584  Q 2034 3584 2315 3537  Q 2597 3491 2834 3397  z \" transform=\"scale(0.015625)\" />\n       <path id=\"DejaVuSans-20\" transform=\"scale(0.015625)\" />\n       <path id=\"DejaVuSans-30\" d=\"M 2034 4250  Q 1547 4250 1301 3770  Q 1056 3291 1056 2328  Q 1056 1369 1301 889  Q 1547 409 2034 409  Q 2525 409 2770 889  Q 3016 1369 3016 2328  Q 3016 3291 2770 3770  Q 2525 4250 2034 4250  z M 2034 4750  Q 2819 4750 3233 4129  Q 3647 3509 3647 2328  Q 3647 1150 3233 529  Q 2819 -91 2034 -91  Q 1250 -91 836 529  Q 422 1150 422 2328  Q 422 3509 836 4129  Q 1250 4750 2034 4750  z \" transform=\"scale(0.015625)\" />\n      </defs>\n      <use xlink:href=\"#DejaVuSans-43\" />\n      <use xlink:href=\"#DejaVuSans-6c\" x=\"69.824219\" />\n      <use xlink:href=\"#DejaVuSans-61\" x=\"97.607422\" />\n      <use xlink:href=\"#DejaVuSans-73\" x=\"158.886719\" />\n      <use xlink:href=\"#DejaVuSans-73\" x=\"210.986328\" />\n      <use xlink:href=\"#DejaVuSans-20\" x=\"263.085938\" />\n      <use xlink:href=\"#DejaVuSans-30\" x=\"294.873047\" />\n     </g>\n    </g>\n    <g id=\"patch_4\">\n     <path d=\"M 11.651562 56.157812  L 35.651562 56.157812  L 35.651562 47.757812  L 11.651562 47.757812  z \" style=\"fill: #a1dab4; stroke: #444443; stroke-width: 0.4; stroke-linejoin: miter\" />\n    </g>\n    <g id=\"text_3\">\n     \n     <g style=\"fill: #444443\" transform=\"translate(39.851562 56.157812) scale(0.1 -0.1)\">\n      <defs>\n       <path id=\"DejaVuSans-31\" d=\"M 794 531  L 1825 531  L 1825 4091  L 703 3866  L 703 4441  L 1819 4666  L 2450 4666  L 2450 531  L 3481 531  L 3481 0  L 794 0  L 794 531  z \" transform=\"scale(0.015625)\" />\n      </defs>\n      <use xlink:href=\"#DejaVuSans-43\" />\n      <use xlink:href=\"#DejaVuSans-6c\" x=\"69.824219\" />\n      <use xlink:href=\"#DejaVuSans-61\" x=\"97.607422\" />\n      <use xlink:href=\"#DejaVuSans-73\" x=\"158.886719\" />\n      <use xlink:href=\"#DejaVuSans-73\" x=\"210.986328\" />\n      <use xlink:href=\"#DejaVuSans-20\" x=\"263.085938\" />\n      <use xlink:href=\"#DejaVuSans-31\" x=\"294.873047\" />\n     </g>\n    </g>\n   </g>\n  </g>\n </g>\n</svg></g>\n</g>\n</svg>",
      "text/plain": [
       "<dtreeviz.utils.DTreeVizRender at 0x7faf2d6148e0>"
      ]
     },
     "execution_count": 53,
     "metadata": {},
     "output_type": "execute_result"
    }
   ],
   "source": [
    "viz_model.view(fontname=\"DejaVu Sans\", scale=1.8, label_fontsize=10)"
   ]
  },
  {
   "attachments": {},
   "cell_type": "markdown",
   "metadata": {},
   "source": [
    "### Logistic Regression"
   ]
  },
  {
   "attachments": {},
   "cell_type": "markdown",
   "metadata": {},
   "source": [
    "Run the same test with a quick logistic regression model"
   ]
  },
  {
   "cell_type": "code",
   "execution_count": 54,
   "metadata": {},
   "outputs": [
    {
     "name": "stderr",
     "output_type": "stream",
     "text": [
      "/home/petewin/mambaforge/lib/python3.10/site-packages/sklearn/linear_model/_logistic.py:458: ConvergenceWarning: lbfgs failed to converge (status=1):\n",
      "STOP: TOTAL NO. of ITERATIONS REACHED LIMIT.\n",
      "\n",
      "Increase the number of iterations (max_iter) or scale the data as shown in:\n",
      "    https://scikit-learn.org/stable/modules/preprocessing.html\n",
      "Please also refer to the documentation for alternative solver options:\n",
      "    https://scikit-learn.org/stable/modules/linear_model.html#logistic-regression\n"
     ]
    }
   ],
   "source": [
    "m = LogisticRegression(max_iter=1000)\n",
    "m.fit(xs, y);"
   ]
  },
  {
   "cell_type": "code",
   "execution_count": 55,
   "metadata": {},
   "outputs": [],
   "source": [
    "y_pred = m.predict(valid_xs)"
   ]
  },
  {
   "cell_type": "code",
   "execution_count": 56,
   "metadata": {},
   "outputs": [
    {
     "data": {
      "text/plain": [
       "0.7784810126582279"
      ]
     },
     "execution_count": 56,
     "metadata": {},
     "output_type": "execute_result"
    }
   ],
   "source": [
    "accuracy = accuracy_score(valid_y, y_pred)\n",
    "accuracy"
   ]
  },
  {
   "attachments": {},
   "cell_type": "markdown",
   "metadata": {},
   "source": [
    "### All Leaves Decision Tree "
   ]
  },
  {
   "attachments": {},
   "cell_type": "markdown",
   "metadata": {},
   "source": [
    "Run the same decision tree model, let it max out the leaves until there is one for each"
   ]
  },
  {
   "cell_type": "code",
   "execution_count": 57,
   "metadata": {},
   "outputs": [],
   "source": [
    "m = DecisionTreeClassifier()\n",
    "m.fit(xs, y);"
   ]
  },
  {
   "cell_type": "code",
   "execution_count": 58,
   "metadata": {},
   "outputs": [],
   "source": [
    "y_pred = m.predict(valid_xs)"
   ]
  },
  {
   "cell_type": "code",
   "execution_count": 59,
   "metadata": {},
   "outputs": [
    {
     "data": {
      "text/plain": [
       "0.7307249712313003"
      ]
     },
     "execution_count": 59,
     "metadata": {},
     "output_type": "execute_result"
    }
   ],
   "source": [
    "accuracy = accuracy_score(valid_y, y_pred)\n",
    "accuracy"
   ]
  },
  {
   "cell_type": "code",
   "execution_count": 60,
   "metadata": {},
   "outputs": [
    {
     "data": {
      "text/plain": [
       "(1065, 6955)"
      ]
     },
     "execution_count": 60,
     "metadata": {},
     "output_type": "execute_result"
    }
   ],
   "source": [
    "m.get_n_leaves(), len(xs)"
   ]
  },
  {
   "attachments": {},
   "cell_type": "markdown",
   "metadata": {},
   "source": [
    "### 25 Leaves Decision Tree "
   ]
  },
  {
   "attachments": {},
   "cell_type": "markdown",
   "metadata": {},
   "source": [
    "Scale back to 25 Leaves as a happy medium"
   ]
  },
  {
   "cell_type": "code",
   "execution_count": 61,
   "metadata": {},
   "outputs": [],
   "source": [
    "m = DecisionTreeClassifier(min_samples_leaf=25)\n",
    "m.fit(xs, y);"
   ]
  },
  {
   "cell_type": "code",
   "execution_count": 62,
   "metadata": {},
   "outputs": [],
   "source": [
    "y_pred = m.predict(valid_xs)"
   ]
  },
  {
   "cell_type": "code",
   "execution_count": 63,
   "metadata": {},
   "outputs": [
    {
     "data": {
      "text/plain": [
       "0.7807825086306099"
      ]
     },
     "execution_count": 63,
     "metadata": {},
     "output_type": "execute_result"
    }
   ],
   "source": [
    "accuracy = accuracy_score(valid_y, y_pred)\n",
    "accuracy"
   ]
  },
  {
   "attachments": {},
   "cell_type": "markdown",
   "metadata": {},
   "source": [
    "### Random Forest"
   ]
  },
  {
   "attachments": {},
   "cell_type": "markdown",
   "metadata": {},
   "source": [
    "Create a function to make it easier to try several variations in succession"
   ]
  },
  {
   "cell_type": "code",
   "execution_count": 64,
   "metadata": {},
   "outputs": [],
   "source": [
    "def rf(xs, y, n_estimators=40, max_features=0.5, min_samples_leaf=5, **kwargs):\n",
    "    return RandomForestClassifier(n_jobs=-1, n_estimators=n_estimators,\n",
    "        max_features=max_features, min_samples_leaf=min_samples_leaf, \n",
    "        oob_score=True).fit(xs,y)"
   ]
  },
  {
   "cell_type": "code",
   "execution_count": 65,
   "metadata": {},
   "outputs": [],
   "source": [
    "m = rf(xs,y)"
   ]
  },
  {
   "cell_type": "code",
   "execution_count": 66,
   "metadata": {},
   "outputs": [],
   "source": [
    "def pred_acc(m, valid_xs=valid_xs):\n",
    "    y_pred = m.predict(valid_xs)\n",
    "    accuracy = accuracy_score(valid_y, y_pred)\n",
    "    return accuracy\n",
    "    "
   ]
  },
  {
   "cell_type": "code",
   "execution_count": 67,
   "metadata": {},
   "outputs": [
    {
     "data": {
      "text/plain": [
       "0.8055235903337169"
      ]
     },
     "execution_count": 67,
     "metadata": {},
     "output_type": "execute_result"
    }
   ],
   "source": [
    "pred_acc(m)"
   ]
  },
  {
   "cell_type": "code",
   "execution_count": 68,
   "metadata": {},
   "outputs": [],
   "source": [
    "preds = np.stack([t.predict(valid_xs.values) for t in m.estimators_])"
   ]
  },
  {
   "cell_type": "code",
   "execution_count": 69,
   "metadata": {},
   "outputs": [
    {
     "data": {
      "text/plain": [
       "array([0, 1, 1, ..., 1, 1, 1], dtype=int8)"
      ]
     },
     "execution_count": 69,
     "metadata": {},
     "output_type": "execute_result"
    }
   ],
   "source": [
    "valid_y.values"
   ]
  },
  {
   "cell_type": "code",
   "execution_count": 70,
   "metadata": {},
   "outputs": [],
   "source": [
    "preds = np.stack([t.predict(valid_xs.values) for t in m.estimators_])"
   ]
  },
  {
   "cell_type": "code",
   "execution_count": 71,
   "metadata": {},
   "outputs": [
    {
     "data": {
      "text/plain": [
       "(40, 1738)"
      ]
     },
     "execution_count": 71,
     "metadata": {},
     "output_type": "execute_result"
    }
   ],
   "source": [
    "preds.shape"
   ]
  },
  {
   "cell_type": "code",
   "execution_count": 72,
   "metadata": {},
   "outputs": [],
   "source": [
    "preds_std = preds.std(0)"
   ]
  },
  {
   "cell_type": "code",
   "execution_count": 73,
   "metadata": {},
   "outputs": [
    {
     "data": {
      "text/plain": [
       "array([0.4769696 , 0.        , 0.48989795, 0.        , 0.21794495])"
      ]
     },
     "execution_count": 73,
     "metadata": {},
     "output_type": "execute_result"
    }
   ],
   "source": [
    "preds_std[:5]"
   ]
  },
  {
   "cell_type": "code",
   "execution_count": 74,
   "metadata": {},
   "outputs": [],
   "source": [
    "def rf_feat_importances(m, df):\n",
    "    return pd.DataFrame({'cols':df.columns, 'imp':m.feature_importances_}).sort_values('imp', ascending=False)"
   ]
  },
  {
   "cell_type": "code",
   "execution_count": 75,
   "metadata": {},
   "outputs": [
    {
     "data": {
      "text/html": [
       "<div>\n",
       "<style scoped>\n",
       "    .dataframe tbody tr th:only-of-type {\n",
       "        vertical-align: middle;\n",
       "    }\n",
       "\n",
       "    .dataframe tbody tr th {\n",
       "        vertical-align: top;\n",
       "    }\n",
       "\n",
       "    .dataframe thead th {\n",
       "        text-align: right;\n",
       "    }\n",
       "</style>\n",
       "<table border=\"1\" class=\"dataframe\">\n",
       "  <thead>\n",
       "    <tr style=\"text-align: right;\">\n",
       "      <th></th>\n",
       "      <th>cols</th>\n",
       "      <th>imp</th>\n",
       "    </tr>\n",
       "  </thead>\n",
       "  <tbody>\n",
       "    <tr>\n",
       "      <th>16</th>\n",
       "      <td>CryoSleep</td>\n",
       "      <td>0.199200</td>\n",
       "    </tr>\n",
       "    <tr>\n",
       "      <th>19</th>\n",
       "      <td>RoomService</td>\n",
       "      <td>0.112117</td>\n",
       "    </tr>\n",
       "    <tr>\n",
       "      <th>22</th>\n",
       "      <td>Spa</td>\n",
       "      <td>0.094768</td>\n",
       "    </tr>\n",
       "    <tr>\n",
       "      <th>23</th>\n",
       "      <td>VRDeck</td>\n",
       "      <td>0.086604</td>\n",
       "    </tr>\n",
       "    <tr>\n",
       "      <th>2</th>\n",
       "      <td>Cabin</td>\n",
       "      <td>0.070071</td>\n",
       "    </tr>\n",
       "    <tr>\n",
       "      <th>20</th>\n",
       "      <td>FoodCourt</td>\n",
       "      <td>0.066296</td>\n",
       "    </tr>\n",
       "    <tr>\n",
       "      <th>4</th>\n",
       "      <td>Name</td>\n",
       "      <td>0.051663</td>\n",
       "    </tr>\n",
       "    <tr>\n",
       "      <th>17</th>\n",
       "      <td>Age</td>\n",
       "      <td>0.051285</td>\n",
       "    </tr>\n",
       "    <tr>\n",
       "      <th>8</th>\n",
       "      <td>room_num</td>\n",
       "      <td>0.050038</td>\n",
       "    </tr>\n",
       "    <tr>\n",
       "      <th>0</th>\n",
       "      <td>PassengerId</td>\n",
       "      <td>0.039567</td>\n",
       "    </tr>\n",
       "    <tr>\n",
       "      <th>21</th>\n",
       "      <td>ShoppingMall</td>\n",
       "      <td>0.038665</td>\n",
       "    </tr>\n",
       "    <tr>\n",
       "      <th>1</th>\n",
       "      <td>HomePlanet</td>\n",
       "      <td>0.038146</td>\n",
       "    </tr>\n",
       "    <tr>\n",
       "      <th>5</th>\n",
       "      <td>group_num</td>\n",
       "      <td>0.036416</td>\n",
       "    </tr>\n",
       "    <tr>\n",
       "      <th>7</th>\n",
       "      <td>deck</td>\n",
       "      <td>0.023233</td>\n",
       "    </tr>\n",
       "    <tr>\n",
       "      <th>9</th>\n",
       "      <td>side</td>\n",
       "      <td>0.020795</td>\n",
       "    </tr>\n",
       "    <tr>\n",
       "      <th>3</th>\n",
       "      <td>Destination</td>\n",
       "      <td>0.010000</td>\n",
       "    </tr>\n",
       "    <tr>\n",
       "      <th>6</th>\n",
       "      <td>group_size</td>\n",
       "      <td>0.008102</td>\n",
       "    </tr>\n",
       "    <tr>\n",
       "      <th>18</th>\n",
       "      <td>VIP</td>\n",
       "      <td>0.001520</td>\n",
       "    </tr>\n",
       "    <tr>\n",
       "      <th>11</th>\n",
       "      <td>RoomService_na</td>\n",
       "      <td>0.000385</td>\n",
       "    </tr>\n",
       "    <tr>\n",
       "      <th>15</th>\n",
       "      <td>VRDeck_na</td>\n",
       "      <td>0.000348</td>\n",
       "    </tr>\n",
       "    <tr>\n",
       "      <th>13</th>\n",
       "      <td>ShoppingMall_na</td>\n",
       "      <td>0.000237</td>\n",
       "    </tr>\n",
       "    <tr>\n",
       "      <th>12</th>\n",
       "      <td>FoodCourt_na</td>\n",
       "      <td>0.000215</td>\n",
       "    </tr>\n",
       "    <tr>\n",
       "      <th>10</th>\n",
       "      <td>Age_na</td>\n",
       "      <td>0.000184</td>\n",
       "    </tr>\n",
       "    <tr>\n",
       "      <th>14</th>\n",
       "      <td>Spa_na</td>\n",
       "      <td>0.000146</td>\n",
       "    </tr>\n",
       "  </tbody>\n",
       "</table>\n",
       "</div>"
      ],
      "text/plain": [
       "               cols       imp\n",
       "16        CryoSleep  0.199200\n",
       "19      RoomService  0.112117\n",
       "22              Spa  0.094768\n",
       "23           VRDeck  0.086604\n",
       "2             Cabin  0.070071\n",
       "20        FoodCourt  0.066296\n",
       "4              Name  0.051663\n",
       "17              Age  0.051285\n",
       "8          room_num  0.050038\n",
       "0       PassengerId  0.039567\n",
       "21     ShoppingMall  0.038665\n",
       "1        HomePlanet  0.038146\n",
       "5         group_num  0.036416\n",
       "7              deck  0.023233\n",
       "9              side  0.020795\n",
       "3       Destination  0.010000\n",
       "6        group_size  0.008102\n",
       "18              VIP  0.001520\n",
       "11   RoomService_na  0.000385\n",
       "15        VRDeck_na  0.000348\n",
       "13  ShoppingMall_na  0.000237\n",
       "12     FoodCourt_na  0.000215\n",
       "10           Age_na  0.000184\n",
       "14           Spa_na  0.000146"
      ]
     },
     "execution_count": 75,
     "metadata": {},
     "output_type": "execute_result"
    }
   ],
   "source": [
    "fi = rf_feat_importances(m, xs)\n",
    "fi"
   ]
  },
  {
   "cell_type": "code",
   "execution_count": 76,
   "metadata": {},
   "outputs": [],
   "source": [
    "def plot_fi(fi):\n",
    "    return fi.plot('cols', 'imp', 'barh', figsize=(12,7), legend=False)"
   ]
  },
  {
   "cell_type": "code",
   "execution_count": 77,
   "metadata": {},
   "outputs": [
    {
     "data": {
      "text/plain": [
       "<AxesSubplot: ylabel='cols'>"
      ]
     },
     "execution_count": 77,
     "metadata": {},
     "output_type": "execute_result"
    },
    {
     "data": {
      "image/png": "[encoded data removed]",
      "text/plain": [
       "<Figure size 1200x700 with 1 Axes>"
      ]
     },
     "metadata": {},
     "output_type": "display_data"
    }
   ],
   "source": [
    "plot_fi(fi)"
   ]
  },
  {
   "cell_type": "code",
   "execution_count": 78,
   "metadata": {},
   "outputs": [
    {
     "data": {
      "image/png": "[encoded data removed]",
      "text/plain": [
       "<Figure size 1000x600 with 1 Axes>"
      ]
     },
     "metadata": {},
     "output_type": "display_data"
    }
   ],
   "source": [
    "cluster_columns(xs)"
   ]
  },
  {
   "attachments": {},
   "cell_type": "markdown",
   "metadata": {},
   "source": [
    "### Removing Low Importance Variables"
   ]
  },
  {
   "cell_type": "code",
   "execution_count": 79,
   "metadata": {},
   "outputs": [
    {
     "data": {
      "text/plain": [
       "(17, 24)"
      ]
     },
     "execution_count": 79,
     "metadata": {},
     "output_type": "execute_result"
    }
   ],
   "source": [
    "to_keep = fi[fi.imp > 0.005].cols\n",
    "len(to_keep), len(fi)"
   ]
  },
  {
   "cell_type": "code",
   "execution_count": 80,
   "metadata": {},
   "outputs": [],
   "source": [
    "xs_imp = xs[to_keep]\n",
    "valid_xs_imp = valid_xs[to_keep]"
   ]
  },
  {
   "cell_type": "code",
   "execution_count": 81,
   "metadata": {},
   "outputs": [],
   "source": [
    "m = rf(xs_imp, y)"
   ]
  },
  {
   "cell_type": "code",
   "execution_count": 82,
   "metadata": {},
   "outputs": [
    {
     "data": {
      "text/plain": [
       "0.8037974683544303"
      ]
     },
     "execution_count": 82,
     "metadata": {},
     "output_type": "execute_result"
    }
   ],
   "source": [
    "pred_acc(m, valid_xs=valid_xs_imp)"
   ]
  },
  {
   "cell_type": "code",
   "execution_count": 83,
   "metadata": {},
   "outputs": [
    {
     "data": {
      "text/plain": [
       "<AxesSubplot: ylabel='cols'>"
      ]
     },
     "execution_count": 83,
     "metadata": {},
     "output_type": "execute_result"
    },
    {
     "data": {
      "image/png": "[encoded data removed]",
      "text/plain": [
       "<Figure size 1200x700 with 1 Axes>"
      ]
     },
     "metadata": {},
     "output_type": "display_data"
    }
   ],
   "source": [
    "plot_fi(rf_feat_importances(m, xs_imp))"
   ]
  },
  {
   "cell_type": "code",
   "execution_count": 84,
   "metadata": {},
   "outputs": [
    {
     "data": {
      "image/png": "[encoded data removed]",
      "text/plain": [
       "<Figure size 1000x600 with 1 Axes>"
      ]
     },
     "metadata": {},
     "output_type": "display_data"
    }
   ],
   "source": [
    "cluster_columns(xs_imp)"
   ]
  },
  {
   "cell_type": "code",
   "execution_count": 85,
   "metadata": {},
   "outputs": [],
   "source": [
    "def get_oob(df):\n",
    "    m = RandomForestClassifier(n_estimators=40, min_samples_leaf=15, max_features=0.5, n_jobs=-1, oob_score=True)\n",
    "    m.fit(df, y)\n",
    "    return m.oob_score_"
   ]
  },
  {
   "cell_type": "code",
   "execution_count": 86,
   "metadata": {},
   "outputs": [
    {
     "data": {
      "text/plain": [
       "0.796549245147376"
      ]
     },
     "execution_count": 86,
     "metadata": {},
     "output_type": "execute_result"
    }
   ],
   "source": [
    "get_oob(xs_imp)"
   ]
  },
  {
   "cell_type": "code",
   "execution_count": 87,
   "metadata": {},
   "outputs": [
    {
     "data": {
      "text/plain": [
       "Index(['CryoSleep', 'RoomService', 'Spa', 'VRDeck', 'Cabin', 'FoodCourt',\n",
       "       'Name', 'Age', 'room_num', 'PassengerId', 'ShoppingMall', 'HomePlanet',\n",
       "       'group_num', 'deck', 'side', 'Destination', 'group_size'],\n",
       "      dtype='object')"
      ]
     },
     "execution_count": 87,
     "metadata": {},
     "output_type": "execute_result"
    }
   ],
   "source": [
    "xs_imp.columns"
   ]
  },
  {
   "cell_type": "code",
   "execution_count": 88,
   "metadata": {},
   "outputs": [
    {
     "data": {
      "text/plain": [
       "{'CryoSleep': 0.7916606757728253,\n",
       " 'RoomService': 0.7942487419122933,\n",
       " 'Spa': 0.7833213515456506,\n",
       " 'VRDeck': 0.7905104241552839,\n",
       " 'Cabin': 0.7915168943206327,\n",
       " 'FoodCourt': 0.79568655643422,\n",
       " 'Name': 0.7920920201294033,\n",
       " 'Age': 0.7949676491732567,\n",
       " 'room_num': 0.7945363048166787,\n",
       " 'PassengerId': 0.7936736161035226,\n",
       " 'ShoppingMall': 0.7932422717469446,\n",
       " 'HomePlanet': 0.7962616822429907,\n",
       " 'group_num': 0.7953989935298347,\n",
       " 'deck': 0.796117900790798,\n",
       " 'side': 0.7920920201294033,\n",
       " 'Destination': 0.7913731128684399,\n",
       " 'group_size': 0.8050323508267434}"
      ]
     },
     "execution_count": 88,
     "metadata": {},
     "output_type": "execute_result"
    }
   ],
   "source": [
    "{c:get_oob(xs_imp.drop(c, axis=1)) for c in xs_imp.columns}"
   ]
  },
  {
   "cell_type": "code",
   "execution_count": 89,
   "metadata": {},
   "outputs": [
    {
     "data": {
      "text/plain": [
       "{'PassengerId': 0.7971243709561466,\n",
       " 'HomePlanet': 0.7962616822429907,\n",
       " 'Cabin': 0.796117900790798,\n",
       " 'Destination': 0.7959741193386053,\n",
       " 'Name': 0.796549245147376,\n",
       " 'group_num': 0.8005751258087707,\n",
       " 'group_size': 0.7985621854780733,\n",
       " 'deck': 0.7949676491732567,\n",
       " 'room_num': 0.7968368080517613,\n",
       " 'side': 0.7975557153127246,\n",
       " 'Age_na': 0.7936736161035226,\n",
       " 'RoomService_na': 0.79352983465133,\n",
       " 'FoodCourt_na': 0.7932422717469446,\n",
       " 'ShoppingMall_na': 0.791804457225018,\n",
       " 'Spa_na': 0.7972681524083394,\n",
       " 'VRDeck_na': 0.7964054636951833,\n",
       " 'CryoSleep': 0.7933860531991374,\n",
       " 'Age': 0.7928109273903666,\n",
       " 'VIP': 0.7981308411214953,\n",
       " 'RoomService': 0.792235801581596,\n",
       " 'FoodCourt': 0.7962616822429907,\n",
       " 'ShoppingMall': 0.794392523364486,\n",
       " 'Spa': 0.7792954708842559,\n",
       " 'VRDeck': 0.7866283249460819}"
      ]
     },
     "execution_count": 89,
     "metadata": {},
     "output_type": "execute_result"
    }
   ],
   "source": [
    "{c:get_oob(xs.drop(c, axis=1)) for c in xs.columns}"
   ]
  },
  {
   "cell_type": "code",
   "execution_count": 90,
   "metadata": {},
   "outputs": [],
   "source": [
    "to_drop = ['group_num', 'deck', 'Name', 'group_size']"
   ]
  },
  {
   "cell_type": "code",
   "execution_count": 91,
   "metadata": {},
   "outputs": [
    {
     "data": {
      "text/plain": [
       "0.8010064701653486"
      ]
     },
     "execution_count": 91,
     "metadata": {},
     "output_type": "execute_result"
    }
   ],
   "source": [
    "get_oob(xs_imp.drop(to_drop, axis=1))"
   ]
  },
  {
   "cell_type": "code",
   "execution_count": 92,
   "metadata": {},
   "outputs": [],
   "source": [
    "to_drop = ['Name']"
   ]
  },
  {
   "cell_type": "code",
   "execution_count": 93,
   "metadata": {},
   "outputs": [
    {
     "data": {
      "text/plain": [
       "0.792667145938174"
      ]
     },
     "execution_count": 93,
     "metadata": {},
     "output_type": "execute_result"
    }
   ],
   "source": [
    "get_oob(xs_imp.drop(to_drop, axis=1))"
   ]
  },
  {
   "cell_type": "code",
   "execution_count": 94,
   "metadata": {},
   "outputs": [
    {
     "data": {
      "text/plain": [
       "0.7981308411214953"
      ]
     },
     "execution_count": 94,
     "metadata": {},
     "output_type": "execute_result"
    }
   ],
   "source": [
    "get_oob(xs)"
   ]
  },
  {
   "cell_type": "code",
   "execution_count": 95,
   "metadata": {},
   "outputs": [
    {
     "data": {
      "text/plain": [
       "0.7964054636951833"
      ]
     },
     "execution_count": 95,
     "metadata": {},
     "output_type": "execute_result"
    }
   ],
   "source": [
    "get_oob(xs_imp)"
   ]
  },
  {
   "cell_type": "code",
   "execution_count": 96,
   "metadata": {},
   "outputs": [],
   "source": [
    "xs_final = xs_imp\n",
    "valid_xs_final = valid_xs_imp"
   ]
  },
  {
   "cell_type": "code",
   "execution_count": 97,
   "metadata": {},
   "outputs": [],
   "source": [
    "save_pickle(path/'xs_final.pkl', xs_final)\n",
    "save_pickle(path/'valid_xs_final.pkl', valid_xs_final)"
   ]
  },
  {
   "cell_type": "code",
   "execution_count": 98,
   "metadata": {},
   "outputs": [],
   "source": [
    "xs_final = load_pickle(path/'xs_final.pkl')\n",
    "valid_xs_final = load_pickle(path/'valid_xs_final.pkl')"
   ]
  },
  {
   "cell_type": "code",
   "execution_count": 99,
   "metadata": {},
   "outputs": [
    {
     "data": {
      "text/html": [
       "<div>\n",
       "<style scoped>\n",
       "    .dataframe tbody tr th:only-of-type {\n",
       "        vertical-align: middle;\n",
       "    }\n",
       "\n",
       "    .dataframe tbody tr th {\n",
       "        vertical-align: top;\n",
       "    }\n",
       "\n",
       "    .dataframe thead th {\n",
       "        text-align: right;\n",
       "    }\n",
       "</style>\n",
       "<table border=\"1\" class=\"dataframe\">\n",
       "  <thead>\n",
       "    <tr style=\"text-align: right;\">\n",
       "      <th></th>\n",
       "      <th>CryoSleep</th>\n",
       "      <th>RoomService</th>\n",
       "      <th>Spa</th>\n",
       "      <th>VRDeck</th>\n",
       "      <th>Cabin</th>\n",
       "      <th>FoodCourt</th>\n",
       "      <th>Name</th>\n",
       "      <th>Age</th>\n",
       "      <th>room_num</th>\n",
       "      <th>PassengerId</th>\n",
       "      <th>ShoppingMall</th>\n",
       "      <th>HomePlanet</th>\n",
       "      <th>group_num</th>\n",
       "      <th>deck</th>\n",
       "      <th>side</th>\n",
       "      <th>Destination</th>\n",
       "      <th>group_size</th>\n",
       "    </tr>\n",
       "  </thead>\n",
       "  <tbody>\n",
       "    <tr>\n",
       "      <th>8388</th>\n",
       "      <td>-0.749109</td>\n",
       "      <td>1.470626</td>\n",
       "      <td>-0.267988</td>\n",
       "      <td>-0.263122</td>\n",
       "      <td>3242</td>\n",
       "      <td>-0.282769</td>\n",
       "      <td>2424</td>\n",
       "      <td>1.612332</td>\n",
       "      <td>786</td>\n",
       "      <td>8389</td>\n",
       "      <td>-0.267182</td>\n",
       "      <td>3</td>\n",
       "      <td>6005</td>\n",
       "      <td>6</td>\n",
       "      <td>2</td>\n",
       "      <td>3</td>\n",
       "      <td>1</td>\n",
       "    </tr>\n",
       "    <tr>\n",
       "      <th>1917</th>\n",
       "      <td>1.095811</td>\n",
       "      <td>-0.327109</td>\n",
       "      <td>-0.267988</td>\n",
       "      <td>-0.263122</td>\n",
       "      <td>5560</td>\n",
       "      <td>-0.284032</td>\n",
       "      <td>0</td>\n",
       "      <td>-0.265485</td>\n",
       "      <td>1078</td>\n",
       "      <td>1918</td>\n",
       "      <td>-0.280746</td>\n",
       "      <td>1</td>\n",
       "      <td>1362</td>\n",
       "      <td>7</td>\n",
       "      <td>1</td>\n",
       "      <td>3</td>\n",
       "      <td>3</td>\n",
       "    </tr>\n",
       "    <tr>\n",
       "      <th>5173</th>\n",
       "      <td>-0.749109</td>\n",
       "      <td>-0.327109</td>\n",
       "      <td>-0.267988</td>\n",
       "      <td>0.100366</td>\n",
       "      <td>6379</td>\n",
       "      <td>-0.284032</td>\n",
       "      <td>6619</td>\n",
       "      <td>0.012710</td>\n",
       "      <td>1692</td>\n",
       "      <td>5174</td>\n",
       "      <td>-0.246835</td>\n",
       "      <td>1</td>\n",
       "      <td>3719</td>\n",
       "      <td>7</td>\n",
       "      <td>1</td>\n",
       "      <td>2</td>\n",
       "      <td>1</td>\n",
       "    </tr>\n",
       "    <tr>\n",
       "      <th>8246</th>\n",
       "      <td>-0.749109</td>\n",
       "      <td>-0.327109</td>\n",
       "      <td>-0.267988</td>\n",
       "      <td>1.836428</td>\n",
       "      <td>2091</td>\n",
       "      <td>-0.284032</td>\n",
       "      <td>4592</td>\n",
       "      <td>2.377369</td>\n",
       "      <td>1351</td>\n",
       "      <td>8247</td>\n",
       "      <td>-0.145103</td>\n",
       "      <td>1</td>\n",
       "      <td>5905</td>\n",
       "      <td>5</td>\n",
       "      <td>2</td>\n",
       "      <td>2</td>\n",
       "      <td>1</td>\n",
       "    </tr>\n",
       "    <tr>\n",
       "      <th>61</th>\n",
       "      <td>1.095811</td>\n",
       "      <td>-0.327109</td>\n",
       "      <td>-0.267988</td>\n",
       "      <td>-0.263122</td>\n",
       "      <td>4563</td>\n",
       "      <td>-0.284032</td>\n",
       "      <td>5982</td>\n",
       "      <td>-2.004205</td>\n",
       "      <td>3</td>\n",
       "      <td>62</td>\n",
       "      <td>-0.280746</td>\n",
       "      <td>1</td>\n",
       "      <td>44</td>\n",
       "      <td>7</td>\n",
       "      <td>2</td>\n",
       "      <td>2</td>\n",
       "      <td>1</td>\n",
       "    </tr>\n",
       "  </tbody>\n",
       "</table>\n",
       "</div>"
      ],
      "text/plain": [
       "      CryoSleep  RoomService       Spa    VRDeck  Cabin  FoodCourt  Name  \\\n",
       "8388  -0.749109     1.470626 -0.267988 -0.263122   3242  -0.282769  2424   \n",
       "1917   1.095811    -0.327109 -0.267988 -0.263122   5560  -0.284032     0   \n",
       "5173  -0.749109    -0.327109 -0.267988  0.100366   6379  -0.284032  6619   \n",
       "8246  -0.749109    -0.327109 -0.267988  1.836428   2091  -0.284032  4592   \n",
       "61     1.095811    -0.327109 -0.267988 -0.263122   4563  -0.284032  5982   \n",
       "\n",
       "           Age  room_num  PassengerId  ShoppingMall  HomePlanet  group_num  \\\n",
       "8388  1.612332       786         8389     -0.267182           3       6005   \n",
       "1917 -0.265485      1078         1918     -0.280746           1       1362   \n",
       "5173  0.012710      1692         5174     -0.246835           1       3719   \n",
       "8246  2.377369      1351         8247     -0.145103           1       5905   \n",
       "61   -2.004205         3           62     -0.280746           1         44   \n",
       "\n",
       "      deck  side  Destination  group_size  \n",
       "8388     6     2            3           1  \n",
       "1917     7     1            3           3  \n",
       "5173     7     1            2           1  \n",
       "8246     5     2            2           1  \n",
       "61       7     2            2           1  "
      ]
     },
     "execution_count": 99,
     "metadata": {},
     "output_type": "execute_result"
    }
   ],
   "source": [
    "xs_final.head()"
   ]
  },
  {
   "cell_type": "code",
   "execution_count": 100,
   "metadata": {},
   "outputs": [
    {
     "data": {
      "text/plain": [
       "0.8037974683544303"
      ]
     },
     "execution_count": 100,
     "metadata": {},
     "output_type": "execute_result"
    }
   ],
   "source": [
    "pred_acc(m, valid_xs=valid_xs_final)"
   ]
  },
  {
   "attachments": {},
   "cell_type": "markdown",
   "metadata": {},
   "source": [
    "### Tabular Learner Test"
   ]
  },
  {
   "cell_type": "code",
   "execution_count": 106,
   "metadata": {},
   "outputs": [],
   "source": [
    "learn = tabular_learner(to, metrics=[accuracy, error_rate], layers=[170,100])"
   ]
  },
  {
   "cell_type": "code",
   "execution_count": 107,
   "metadata": {},
   "outputs": [
    {
     "data": {
      "text/html": [],
      "text/plain": [
       "<IPython.core.display.HTML object>"
      ]
     },
     "metadata": {},
     "output_type": "display_data"
    },
    {
     "data": {
      "text/plain": [
       "SuggestedLRs(slide=0.04786301031708717, valley=0.0014454397605732083)"
      ]
     },
     "execution_count": 107,
     "metadata": {},
     "output_type": "execute_result"
    },
    {
     "data": {
      "image/png": "[encoded data removed]",
      "text/plain": [
       "<Figure size 640x480 with 1 Axes>"
      ]
     },
     "metadata": {},
     "output_type": "display_data"
    }
   ],
   "source": [
    "learn.lr_find(suggest_funcs=(slide, valley))"
   ]
  },
  {
   "cell_type": "code",
   "execution_count": null,
   "metadata": {},
   "outputs": [
    {
     "data": {
      "text/plain": [
       "      PassengerId  HomePlanet  CryoSleep  Cabin  Destination       Age  \\\n",
       "2333         2334           1  -0.735289      0            3 -0.055214   \n",
       "2589         2590           1  -0.735289   3953            3 -0.824809   \n",
       "8302         8303           2   1.121356    933            1 -0.055214   \n",
       "8177         8178           3  -0.735289   3334            3 -0.614920   \n",
       "500           501           2   1.121356    720            1  0.504492   \n",
       "...           ...         ...        ...    ...          ...       ...   \n",
       "7175         7176           1   1.121356   4913            3 -0.894772   \n",
       "3187         3188           1   1.121356   5889            3 -2.014184   \n",
       "1302         1303           1  -0.735289   1418            3 -0.824809   \n",
       "5934         5935           3   1.121356   2632            3  0.924271   \n",
       "6093         6094           1  -0.735289   4636            3 -0.824809   \n",
       "\n",
       "           VIP  RoomService  FoodCourt  ShoppingMall       Spa    VRDeck  \\\n",
       "2333 -0.207316    -0.326853  -0.251604     -0.282179  0.312621 -0.256843   \n",
       "2589 -0.207316    -0.326853   0.479133     -0.231124 -0.279427 -0.256843   \n",
       "8302 -0.207316    -0.326853  -0.286859     -0.282179 -0.279427 -0.256843   \n",
       "8177 -0.207316    -0.326853  -0.285577      0.193788  0.601424 -0.256843   \n",
       "500  -0.207316    -0.326853  -0.286859     -0.282179 -0.279427 -0.256843   \n",
       "...        ...          ...        ...           ...       ...       ...   \n",
       "7175 -0.207316    -0.326853  -0.286859     -0.282179 -0.279427 -0.256843   \n",
       "3187 -0.207316    -0.326853  -0.286859     -0.282179 -0.279427 -0.256843   \n",
       "1302 -0.207316    -0.295481  -0.286859      0.854213 -0.044774 -0.252528   \n",
       "5934 -0.207316    -0.326853  -0.286859     -0.282179 -0.279427 -0.256843   \n",
       "6093 -0.207316    -0.326853  -0.286859     -0.282179  1.350509 -0.256843   \n",
       "\n",
       "      Name  Transported  group_num  group_size  deck  room_num  side  Age_na  \\\n",
       "2333  5072            0       1678           1     0         0     0       1   \n",
       "2589  2014            0       1863           2     6      1349     1       1   \n",
       "8302   427            1       5945           4     3      1076     2       1   \n",
       "8177  7876            1       5858           2     6       849     1       1   \n",
       "500     37            1        359           2     3       847     1       1   \n",
       "...    ...          ...        ...         ...   ...       ...   ...     ...   \n",
       "7175  5715            0       5142           1     7       270     2       1   \n",
       "3187  1529            1       2302           2     7      1325     2       1   \n",
       "1302  8044            0        921           1     5        58     2       1   \n",
       "5934  6650            1       4255           1     6       335     1       1   \n",
       "6093  1433            0       4350           1     7        53     2       1   \n",
       "\n",
       "      RoomService_na  FoodCourt_na  ShoppingMall_na  Spa_na  VRDeck_na  \n",
       "2333               1             1                1       1          1  \n",
       "2589               1             1                1       1          1  \n",
       "8302               1             1                1       1          1  \n",
       "8177               2             1                1       1          1  \n",
       "500                1             1                1       1          1  \n",
       "...              ...           ...              ...     ...        ...  \n",
       "7175               1             1                1       1          1  \n",
       "3187               1             1                1       1          1  \n",
       "1302               1             1                1       1          1  \n",
       "5934               1             1                1       1          1  \n",
       "6093               1             1                1       1          1  \n",
       "\n",
       "[8693 rows x 25 columns]"
      ]
     },
     "execution_count": 107,
     "metadata": {},
     "output_type": "execute_result"
    }
   ],
   "source": [
    "to"
   ]
  },
  {
   "cell_type": "code",
   "execution_count": null,
   "metadata": {},
   "outputs": [],
   "source": []
  }
 ],
 "metadata": {
  "kernelspec": {
   "display_name": "base",
   "language": "python",
   "name": "python3"
  },
  "language_info": {
   "codemirror_mode": {
    "name": "ipython",
    "version": 3
   },
   "file_extension": ".py",
   "mimetype": "text/x-python",
   "name": "python",
   "nbconvert_exporter": "python",
   "pygments_lexer": "ipython3",
   "version": "3.10.6"
  },
  "orig_nbformat": 4,
  "vscode": {
   "interpreter": {
    "hash": "f4702a165a03ade35e40e0221d250a3a44a346cfc16a49ce6d051d1595069b46"
   }
  }
 },
 "nbformat": 4,
 "nbformat_minor": 2
}
