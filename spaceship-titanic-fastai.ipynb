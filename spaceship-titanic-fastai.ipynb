{
 "cells": [
  {
   "cell_type": "markdown",
   "metadata": {},
   "source": [
    "### Spaceship Titanic with fastai"
   ]
  },
  {
   "cell_type": "markdown",
   "metadata": {},
   "source": [
    "Competition [Link](https://www.kaggle.com/competitions/spaceship-titanic/overview)"
   ]
  },
  {
   "cell_type": "code",
   "execution_count": 1,
   "metadata": {},
   "outputs": [],
   "source": [
    "#|default_exp app"
   ]
  },
  {
   "cell_type": "code",
   "execution_count": 2,
   "metadata": {},
   "outputs": [],
   "source": [
    "#The Following cell of code is used everytime FASTAI library is used.\n",
    "#They tell the notebook to reload any changes made to any libraries used.\n",
    "#They also ensure that any graphs are plotted are shown in this notebook\n",
    "%reload_ext autoreload\n",
    "%autoreload 2\n",
    "%matplotlib inline"
   ]
  },
  {
   "cell_type": "code",
   "execution_count": 3,
   "metadata": {},
   "outputs": [],
   "source": [
    "from fastai.tabular.all import *\n",
    "from fastbook import *\n",
    "\n",
    "from sklearn.ensemble import RandomForestClassifier\n",
    "from sklearn.tree import DecisionTreeClassifier\n",
    "from sklearn.linear_model import LogisticRegression\n",
    "from sklearn.metrics import accuracy_score\n",
    "from sklearn.preprocessing import LabelEncoder\n",
    "\n",
    "import seaborn as sns\n",
    "\n",
    "from dtreeviz.trees import *\n",
    "import dtreeviz\n",
    "\n",
    "from IPython.display import Image, display_svg, SVG"
   ]
  },
  {
   "cell_type": "code",
   "execution_count": 4,
   "metadata": {},
   "outputs": [],
   "source": [
    "#| export\n",
    "iskaggle = os.environ.get('KAGGLE_KERNEL_RUN_TYPE', '')\n",
    "creds = ''"
   ]
  },
  {
   "cell_type": "code",
   "execution_count": 5,
   "metadata": {},
   "outputs": [],
   "source": [
    "#| export\n",
    "cred_path = Path('~/.kaggle/kaggle.json').expanduser()\n",
    "if not cred_path.exists():\n",
    "    cred_path.parent.mkdir(exist_ok=True)\n",
    "    cred_path.write_text(creds)\n",
    "    cred_path.chmod(0o600)"
   ]
  },
  {
   "cell_type": "code",
   "execution_count": 6,
   "metadata": {},
   "outputs": [],
   "source": [
    "#| export\n",
    "path = Path('spaceship-titanic')"
   ]
  },
  {
   "cell_type": "code",
   "execution_count": 7,
   "metadata": {},
   "outputs": [],
   "source": [
    "#| export\n",
    "if not iskaggle and not path.exists():\n",
    "    import zipfile, kaggle\n",
    "    kaggle.api.competition_download_cli(str(path))    \n",
    "    zipfile.ZipFile(f'{path}.zip').extractall(path)"
   ]
  },
  {
   "cell_type": "code",
   "execution_count": 8,
   "metadata": {},
   "outputs": [],
   "source": [
    "#| export\n",
    "if iskaggle:\n",
    "    path = Path('../input/spaceship-titanic')\n",
    "    ! pip install -q dataset"
   ]
  },
  {
   "cell_type": "markdown",
   "metadata": {},
   "source": [
    "Import CSV's as Pandas Dataframes"
   ]
  },
  {
   "cell_type": "code",
   "execution_count": 9,
   "metadata": {},
   "outputs": [],
   "source": [
    "#| export\n",
    "df = pd.read_csv(path/'train.csv', low_memory=False)\n",
    "test_df = pd.read_csv(path/'test.csv', low_memory=False)\n",
    "sample_df = pd.read_csv(path/'sample_submission.csv', low_memory=False)"
   ]
  },
  {
   "cell_type": "code",
   "execution_count": 10,
   "metadata": {},
   "outputs": [
    {
     "data": {
      "text/html": [
       "<div>\n",
       "<style scoped>\n",
       "    .dataframe tbody tr th:only-of-type {\n",
       "        vertical-align: middle;\n",
       "    }\n",
       "\n",
       "    .dataframe tbody tr th {\n",
       "        vertical-align: top;\n",
       "    }\n",
       "\n",
       "    .dataframe thead th {\n",
       "        text-align: right;\n",
       "    }\n",
       "</style>\n",
       "<table border=\"1\" class=\"dataframe\">\n",
       "  <thead>\n",
       "    <tr style=\"text-align: right;\">\n",
       "      <th></th>\n",
       "      <th>PassengerId</th>\n",
       "      <th>HomePlanet</th>\n",
       "      <th>CryoSleep</th>\n",
       "      <th>Cabin</th>\n",
       "      <th>Destination</th>\n",
       "      <th>Age</th>\n",
       "      <th>VIP</th>\n",
       "      <th>RoomService</th>\n",
       "      <th>FoodCourt</th>\n",
       "      <th>ShoppingMall</th>\n",
       "      <th>Spa</th>\n",
       "      <th>VRDeck</th>\n",
       "      <th>Name</th>\n",
       "      <th>Transported</th>\n",
       "    </tr>\n",
       "  </thead>\n",
       "  <tbody>\n",
       "    <tr>\n",
       "      <th>0</th>\n",
       "      <td>0001_01</td>\n",
       "      <td>Europa</td>\n",
       "      <td>False</td>\n",
       "      <td>B/0/P</td>\n",
       "      <td>TRAPPIST-1e</td>\n",
       "      <td>39.0</td>\n",
       "      <td>False</td>\n",
       "      <td>0.0</td>\n",
       "      <td>0.0</td>\n",
       "      <td>0.0</td>\n",
       "      <td>0.0</td>\n",
       "      <td>0.0</td>\n",
       "      <td>Maham Ofracculy</td>\n",
       "      <td>False</td>\n",
       "    </tr>\n",
       "    <tr>\n",
       "      <th>1</th>\n",
       "      <td>0002_01</td>\n",
       "      <td>Earth</td>\n",
       "      <td>False</td>\n",
       "      <td>F/0/S</td>\n",
       "      <td>TRAPPIST-1e</td>\n",
       "      <td>24.0</td>\n",
       "      <td>False</td>\n",
       "      <td>109.0</td>\n",
       "      <td>9.0</td>\n",
       "      <td>25.0</td>\n",
       "      <td>549.0</td>\n",
       "      <td>44.0</td>\n",
       "      <td>Juanna Vines</td>\n",
       "      <td>True</td>\n",
       "    </tr>\n",
       "    <tr>\n",
       "      <th>2</th>\n",
       "      <td>0003_01</td>\n",
       "      <td>Europa</td>\n",
       "      <td>False</td>\n",
       "      <td>A/0/S</td>\n",
       "      <td>TRAPPIST-1e</td>\n",
       "      <td>58.0</td>\n",
       "      <td>True</td>\n",
       "      <td>43.0</td>\n",
       "      <td>3576.0</td>\n",
       "      <td>0.0</td>\n",
       "      <td>6715.0</td>\n",
       "      <td>49.0</td>\n",
       "      <td>Altark Susent</td>\n",
       "      <td>False</td>\n",
       "    </tr>\n",
       "    <tr>\n",
       "      <th>3</th>\n",
       "      <td>0003_02</td>\n",
       "      <td>Europa</td>\n",
       "      <td>False</td>\n",
       "      <td>A/0/S</td>\n",
       "      <td>TRAPPIST-1e</td>\n",
       "      <td>33.0</td>\n",
       "      <td>False</td>\n",
       "      <td>0.0</td>\n",
       "      <td>1283.0</td>\n",
       "      <td>371.0</td>\n",
       "      <td>3329.0</td>\n",
       "      <td>193.0</td>\n",
       "      <td>Solam Susent</td>\n",
       "      <td>False</td>\n",
       "    </tr>\n",
       "    <tr>\n",
       "      <th>4</th>\n",
       "      <td>0004_01</td>\n",
       "      <td>Earth</td>\n",
       "      <td>False</td>\n",
       "      <td>F/1/S</td>\n",
       "      <td>TRAPPIST-1e</td>\n",
       "      <td>16.0</td>\n",
       "      <td>False</td>\n",
       "      <td>303.0</td>\n",
       "      <td>70.0</td>\n",
       "      <td>151.0</td>\n",
       "      <td>565.0</td>\n",
       "      <td>2.0</td>\n",
       "      <td>Willy Santantines</td>\n",
       "      <td>True</td>\n",
       "    </tr>\n",
       "  </tbody>\n",
       "</table>\n",
       "</div>"
      ],
      "text/plain": [
       "  PassengerId HomePlanet CryoSleep  Cabin  Destination   Age    VIP  \\\n",
       "0     0001_01     Europa     False  B/0/P  TRAPPIST-1e  39.0  False   \n",
       "1     0002_01      Earth     False  F/0/S  TRAPPIST-1e  24.0  False   \n",
       "2     0003_01     Europa     False  A/0/S  TRAPPIST-1e  58.0   True   \n",
       "3     0003_02     Europa     False  A/0/S  TRAPPIST-1e  33.0  False   \n",
       "4     0004_01      Earth     False  F/1/S  TRAPPIST-1e  16.0  False   \n",
       "\n",
       "   RoomService  FoodCourt  ShoppingMall     Spa  VRDeck               Name  \\\n",
       "0          0.0        0.0           0.0     0.0     0.0    Maham Ofracculy   \n",
       "1        109.0        9.0          25.0   549.0    44.0       Juanna Vines   \n",
       "2         43.0     3576.0           0.0  6715.0    49.0      Altark Susent   \n",
       "3          0.0     1283.0         371.0  3329.0   193.0       Solam Susent   \n",
       "4        303.0       70.0         151.0   565.0     2.0  Willy Santantines   \n",
       "\n",
       "   Transported  \n",
       "0        False  \n",
       "1         True  \n",
       "2        False  \n",
       "3        False  \n",
       "4         True  "
      ]
     },
     "execution_count": 10,
     "metadata": {},
     "output_type": "execute_result"
    }
   ],
   "source": [
    "df.head()"
   ]
  },
  {
   "attachments": {},
   "cell_type": "markdown",
   "metadata": {},
   "source": [
    "#### Infer Cryosleep NaN by Amenities Use"
   ]
  },
  {
   "cell_type": "code",
   "execution_count": 11,
   "metadata": {},
   "outputs": [
    {
     "data": {
      "text/plain": [
       "<bound method Series.count of 0       False\n",
       "1       False\n",
       "2       False\n",
       "3       False\n",
       "4       False\n",
       "        ...  \n",
       "8688    False\n",
       "8689    False\n",
       "8690    False\n",
       "8691    False\n",
       "8692    False\n",
       "Name: CryoSleep, Length: 8693, dtype: bool>"
      ]
     },
     "execution_count": 11,
     "metadata": {},
     "output_type": "execute_result"
    }
   ],
   "source": [
    "df['CryoSleep'].isnull().count"
   ]
  },
  {
   "cell_type": "code",
   "execution_count": 12,
   "metadata": {},
   "outputs": [
    {
     "data": {
      "text/html": [
       "<div>\n",
       "<style scoped>\n",
       "    .dataframe tbody tr th:only-of-type {\n",
       "        vertical-align: middle;\n",
       "    }\n",
       "\n",
       "    .dataframe tbody tr th {\n",
       "        vertical-align: top;\n",
       "    }\n",
       "\n",
       "    .dataframe thead th {\n",
       "        text-align: right;\n",
       "    }\n",
       "</style>\n",
       "<table border=\"1\" class=\"dataframe\">\n",
       "  <thead>\n",
       "    <tr style=\"text-align: right;\">\n",
       "      <th></th>\n",
       "      <th>PassengerId</th>\n",
       "      <th>HomePlanet</th>\n",
       "      <th>CryoSleep</th>\n",
       "      <th>Cabin</th>\n",
       "      <th>Destination</th>\n",
       "      <th>Age</th>\n",
       "      <th>VIP</th>\n",
       "      <th>RoomService</th>\n",
       "      <th>FoodCourt</th>\n",
       "      <th>ShoppingMall</th>\n",
       "      <th>Spa</th>\n",
       "      <th>VRDeck</th>\n",
       "      <th>Name</th>\n",
       "      <th>Transported</th>\n",
       "    </tr>\n",
       "  </thead>\n",
       "  <tbody>\n",
       "    <tr>\n",
       "      <th>7</th>\n",
       "      <td>0006_02</td>\n",
       "      <td>Earth</td>\n",
       "      <td>True</td>\n",
       "      <td>G/0/S</td>\n",
       "      <td>TRAPPIST-1e</td>\n",
       "      <td>28.0</td>\n",
       "      <td>False</td>\n",
       "      <td>0.0</td>\n",
       "      <td>0.0</td>\n",
       "      <td>0.0</td>\n",
       "      <td>0.0</td>\n",
       "      <td>NaN</td>\n",
       "      <td>Candra Jacostaffey</td>\n",
       "      <td>True</td>\n",
       "    </tr>\n",
       "    <tr>\n",
       "      <th>9</th>\n",
       "      <td>0008_01</td>\n",
       "      <td>Europa</td>\n",
       "      <td>True</td>\n",
       "      <td>B/1/P</td>\n",
       "      <td>55 Cancri e</td>\n",
       "      <td>14.0</td>\n",
       "      <td>False</td>\n",
       "      <td>0.0</td>\n",
       "      <td>0.0</td>\n",
       "      <td>0.0</td>\n",
       "      <td>0.0</td>\n",
       "      <td>0.0</td>\n",
       "      <td>Erraiam Flatic</td>\n",
       "      <td>True</td>\n",
       "    </tr>\n",
       "    <tr>\n",
       "      <th>10</th>\n",
       "      <td>0008_02</td>\n",
       "      <td>Europa</td>\n",
       "      <td>True</td>\n",
       "      <td>B/1/P</td>\n",
       "      <td>TRAPPIST-1e</td>\n",
       "      <td>34.0</td>\n",
       "      <td>False</td>\n",
       "      <td>0.0</td>\n",
       "      <td>0.0</td>\n",
       "      <td>NaN</td>\n",
       "      <td>0.0</td>\n",
       "      <td>0.0</td>\n",
       "      <td>Altardr Flatic</td>\n",
       "      <td>True</td>\n",
       "    </tr>\n",
       "    <tr>\n",
       "      <th>18</th>\n",
       "      <td>0016_01</td>\n",
       "      <td>Mars</td>\n",
       "      <td>True</td>\n",
       "      <td>F/5/P</td>\n",
       "      <td>TRAPPIST-1e</td>\n",
       "      <td>45.0</td>\n",
       "      <td>False</td>\n",
       "      <td>0.0</td>\n",
       "      <td>0.0</td>\n",
       "      <td>0.0</td>\n",
       "      <td>0.0</td>\n",
       "      <td>0.0</td>\n",
       "      <td>Alus Upead</td>\n",
       "      <td>True</td>\n",
       "    </tr>\n",
       "    <tr>\n",
       "      <th>21</th>\n",
       "      <td>0020_01</td>\n",
       "      <td>Earth</td>\n",
       "      <td>True</td>\n",
       "      <td>E/0/S</td>\n",
       "      <td>TRAPPIST-1e</td>\n",
       "      <td>1.0</td>\n",
       "      <td>False</td>\n",
       "      <td>0.0</td>\n",
       "      <td>0.0</td>\n",
       "      <td>0.0</td>\n",
       "      <td>0.0</td>\n",
       "      <td>0.0</td>\n",
       "      <td>Almary Brantuarez</td>\n",
       "      <td>False</td>\n",
       "    </tr>\n",
       "  </tbody>\n",
       "</table>\n",
       "</div>"
      ],
      "text/plain": [
       "   PassengerId HomePlanet CryoSleep  Cabin  Destination   Age    VIP  \\\n",
       "7      0006_02      Earth      True  G/0/S  TRAPPIST-1e  28.0  False   \n",
       "9      0008_01     Europa      True  B/1/P  55 Cancri e  14.0  False   \n",
       "10     0008_02     Europa      True  B/1/P  TRAPPIST-1e  34.0  False   \n",
       "18     0016_01       Mars      True  F/5/P  TRAPPIST-1e  45.0  False   \n",
       "21     0020_01      Earth      True  E/0/S  TRAPPIST-1e   1.0  False   \n",
       "\n",
       "    RoomService  FoodCourt  ShoppingMall  Spa  VRDeck                Name  \\\n",
       "7           0.0        0.0           0.0  0.0     NaN  Candra Jacostaffey   \n",
       "9           0.0        0.0           0.0  0.0     0.0      Erraiam Flatic   \n",
       "10          0.0        0.0           NaN  0.0     0.0      Altardr Flatic   \n",
       "18          0.0        0.0           0.0  0.0     0.0          Alus Upead   \n",
       "21          0.0        0.0           0.0  0.0     0.0   Almary Brantuarez   \n",
       "\n",
       "    Transported  \n",
       "7          True  \n",
       "9          True  \n",
       "10         True  \n",
       "18         True  \n",
       "21        False  "
      ]
     },
     "execution_count": 12,
     "metadata": {},
     "output_type": "execute_result"
    }
   ],
   "source": [
    "df[np.where(df['CryoSleep'] == True, True, False)].head()"
   ]
  },
  {
   "cell_type": "code",
   "execution_count": 13,
   "metadata": {},
   "outputs": [
    {
     "data": {
      "text/plain": [
       "(3037, 14)"
      ]
     },
     "execution_count": 13,
     "metadata": {},
     "output_type": "execute_result"
    }
   ],
   "source": [
    "df[np.where(df['CryoSleep'] == True, True, False)].shape"
   ]
  },
  {
   "cell_type": "code",
   "execution_count": 14,
   "metadata": {},
   "outputs": [],
   "source": [
    "cryo_amenities_df = ['CryoSleep', 'RoomService', 'FoodCourt', 'ShoppingMall', 'Spa', 'VRDeck']"
   ]
  },
  {
   "cell_type": "code",
   "execution_count": 15,
   "metadata": {},
   "outputs": [],
   "source": [
    "null_cryo_df = df.loc[df['CryoSleep'].isnull(), cryo_amenities_df]\n",
    "test_null_cryo_df = test_df.loc[df['CryoSleep'].isnull(), cryo_amenities_df]"
   ]
  },
  {
   "cell_type": "code",
   "execution_count": 16,
   "metadata": {},
   "outputs": [
    {
     "data": {
      "text/plain": [
       "217"
      ]
     },
     "execution_count": 16,
     "metadata": {},
     "output_type": "execute_result"
    }
   ],
   "source": [
    "df['CryoSleep'].isnull().sum()"
   ]
  },
  {
   "cell_type": "code",
   "execution_count": 17,
   "metadata": {},
   "outputs": [
    {
     "data": {
      "text/html": [
       "<div>\n",
       "<style scoped>\n",
       "    .dataframe tbody tr th:only-of-type {\n",
       "        vertical-align: middle;\n",
       "    }\n",
       "\n",
       "    .dataframe tbody tr th {\n",
       "        vertical-align: top;\n",
       "    }\n",
       "\n",
       "    .dataframe thead th {\n",
       "        text-align: right;\n",
       "    }\n",
       "</style>\n",
       "<table border=\"1\" class=\"dataframe\">\n",
       "  <thead>\n",
       "    <tr style=\"text-align: right;\">\n",
       "      <th></th>\n",
       "      <th>CryoSleep</th>\n",
       "      <th>RoomService</th>\n",
       "      <th>FoodCourt</th>\n",
       "      <th>ShoppingMall</th>\n",
       "      <th>Spa</th>\n",
       "      <th>VRDeck</th>\n",
       "    </tr>\n",
       "  </thead>\n",
       "  <tbody>\n",
       "    <tr>\n",
       "      <th>92</th>\n",
       "      <td>NaN</td>\n",
       "      <td>0.0</td>\n",
       "      <td>0.0</td>\n",
       "      <td>0.0</td>\n",
       "      <td>0.0</td>\n",
       "      <td>0.0</td>\n",
       "    </tr>\n",
       "    <tr>\n",
       "      <th>98</th>\n",
       "      <td>NaN</td>\n",
       "      <td>0.0</td>\n",
       "      <td>0.0</td>\n",
       "      <td>570.0</td>\n",
       "      <td>2.0</td>\n",
       "      <td>131.0</td>\n",
       "    </tr>\n",
       "    <tr>\n",
       "      <th>104</th>\n",
       "      <td>NaN</td>\n",
       "      <td>0.0</td>\n",
       "      <td>331.0</td>\n",
       "      <td>0.0</td>\n",
       "      <td>0.0</td>\n",
       "      <td>1687.0</td>\n",
       "    </tr>\n",
       "    <tr>\n",
       "      <th>111</th>\n",
       "      <td>NaN</td>\n",
       "      <td>0.0</td>\n",
       "      <td>0.0</td>\n",
       "      <td>0.0</td>\n",
       "      <td>0.0</td>\n",
       "      <td>NaN</td>\n",
       "    </tr>\n",
       "    <tr>\n",
       "      <th>152</th>\n",
       "      <td>NaN</td>\n",
       "      <td>0.0</td>\n",
       "      <td>985.0</td>\n",
       "      <td>0.0</td>\n",
       "      <td>5.0</td>\n",
       "      <td>0.0</td>\n",
       "    </tr>\n",
       "    <tr>\n",
       "      <th>...</th>\n",
       "      <td>...</td>\n",
       "      <td>...</td>\n",
       "      <td>...</td>\n",
       "      <td>...</td>\n",
       "      <td>...</td>\n",
       "      <td>...</td>\n",
       "    </tr>\n",
       "    <tr>\n",
       "      <th>8620</th>\n",
       "      <td>NaN</td>\n",
       "      <td>0.0</td>\n",
       "      <td>0.0</td>\n",
       "      <td>0.0</td>\n",
       "      <td>0.0</td>\n",
       "      <td>0.0</td>\n",
       "    </tr>\n",
       "    <tr>\n",
       "      <th>8651</th>\n",
       "      <td>NaN</td>\n",
       "      <td>0.0</td>\n",
       "      <td>0.0</td>\n",
       "      <td>0.0</td>\n",
       "      <td>0.0</td>\n",
       "      <td>0.0</td>\n",
       "    </tr>\n",
       "    <tr>\n",
       "      <th>8664</th>\n",
       "      <td>NaN</td>\n",
       "      <td>0.0</td>\n",
       "      <td>0.0</td>\n",
       "      <td>0.0</td>\n",
       "      <td>0.0</td>\n",
       "      <td>0.0</td>\n",
       "    </tr>\n",
       "    <tr>\n",
       "      <th>8675</th>\n",
       "      <td>NaN</td>\n",
       "      <td>1030.0</td>\n",
       "      <td>1015.0</td>\n",
       "      <td>0.0</td>\n",
       "      <td>11.0</td>\n",
       "      <td>NaN</td>\n",
       "    </tr>\n",
       "    <tr>\n",
       "      <th>8687</th>\n",
       "      <td>NaN</td>\n",
       "      <td>0.0</td>\n",
       "      <td>3208.0</td>\n",
       "      <td>0.0</td>\n",
       "      <td>2.0</td>\n",
       "      <td>330.0</td>\n",
       "    </tr>\n",
       "  </tbody>\n",
       "</table>\n",
       "<p>217 rows × 6 columns</p>\n",
       "</div>"
      ],
      "text/plain": [
       "     CryoSleep  RoomService  FoodCourt  ShoppingMall   Spa  VRDeck\n",
       "92         NaN          0.0        0.0           0.0   0.0     0.0\n",
       "98         NaN          0.0        0.0         570.0   2.0   131.0\n",
       "104        NaN          0.0      331.0           0.0   0.0  1687.0\n",
       "111        NaN          0.0        0.0           0.0   0.0     NaN\n",
       "152        NaN          0.0      985.0           0.0   5.0     0.0\n",
       "...        ...          ...        ...           ...   ...     ...\n",
       "8620       NaN          0.0        0.0           0.0   0.0     0.0\n",
       "8651       NaN          0.0        0.0           0.0   0.0     0.0\n",
       "8664       NaN          0.0        0.0           0.0   0.0     0.0\n",
       "8675       NaN       1030.0     1015.0           0.0  11.0     NaN\n",
       "8687       NaN          0.0     3208.0           0.0   2.0   330.0\n",
       "\n",
       "[217 rows x 6 columns]"
      ]
     },
     "execution_count": 17,
     "metadata": {},
     "output_type": "execute_result"
    }
   ],
   "source": [
    "null_cryo_df"
   ]
  },
  {
   "attachments": {},
   "cell_type": "markdown",
   "metadata": {},
   "source": [
    "here"
   ]
  },
  {
   "cell_type": "code",
   "execution_count": 18,
   "metadata": {},
   "outputs": [
    {
     "data": {
      "text/plain": [
       "92      False\n",
       "98       True\n",
       "104      True\n",
       "111     False\n",
       "152      True\n",
       "        ...  \n",
       "8620    False\n",
       "8651    False\n",
       "8664    False\n",
       "8675     True\n",
       "8687     True\n",
       "Length: 217, dtype: bool"
      ]
     },
     "execution_count": 18,
     "metadata": {},
     "output_type": "execute_result"
    }
   ],
   "source": [
    "amenities_mask =(null_cryo_df[['RoomService', 'FoodCourt', 'ShoppingMall', 'Spa', 'VRDeck']] > 0).any(axis=1)\n",
    "test_amenities_mask =(test_null_cryo_df[['RoomService', 'FoodCourt', 'ShoppingMall', 'Spa', 'VRDeck']] > 0).any(axis=1)\n",
    "amenities_mask"
   ]
  },
  {
   "cell_type": "code",
   "execution_count": 19,
   "metadata": {},
   "outputs": [
    {
     "data": {
      "text/plain": [
       "(    CryoSleep  RoomService  FoodCourt  ShoppingMall  Spa  VRDeck\n",
       " 92        NaN          0.0        0.0           0.0  0.0     0.0\n",
       " 98        NaN          0.0        0.0         570.0  2.0   131.0\n",
       " 104       NaN          0.0      331.0           0.0  0.0  1687.0\n",
       " 111       NaN          0.0        0.0           0.0  0.0     NaN\n",
       " 152       NaN          0.0      985.0           0.0  5.0     0.0,\n",
       " (217, 6))"
      ]
     },
     "execution_count": 19,
     "metadata": {},
     "output_type": "execute_result"
    }
   ],
   "source": [
    "df.loc[null_cryo_df.index, cryo_amenities_df].head(), df.loc[null_cryo_df.index, cryo_amenities_df].shape"
   ]
  },
  {
   "cell_type": "code",
   "execution_count": 20,
   "metadata": {},
   "outputs": [
    {
     "data": {
      "text/plain": [
       "92      NaN\n",
       "98      NaN\n",
       "104     NaN\n",
       "111     NaN\n",
       "152     NaN\n",
       "       ... \n",
       "8620    NaN\n",
       "8651    NaN\n",
       "8664    NaN\n",
       "8675    NaN\n",
       "8687    NaN\n",
       "Name: CryoSleep, Length: 217, dtype: object"
      ]
     },
     "execution_count": 20,
     "metadata": {},
     "output_type": "execute_result"
    }
   ],
   "source": [
    "df.loc[null_cryo_df.index, 'CryoSleep']"
   ]
  },
  {
   "cell_type": "code",
   "execution_count": 21,
   "metadata": {},
   "outputs": [],
   "source": [
    "df.loc[null_cryo_df.index, 'CryoSleep'] = np.where(amenities_mask, False, True)\n",
    "test_df.loc[test_null_cryo_df.index, 'CryoSleep'] = np.where(test_amenities_mask, False, True)"
   ]
  },
  {
   "cell_type": "code",
   "execution_count": 22,
   "metadata": {},
   "outputs": [
    {
     "data": {
      "text/plain": [
       "0"
      ]
     },
     "execution_count": 22,
     "metadata": {},
     "output_type": "execute_result"
    }
   ],
   "source": [
    "df['CryoSleep'].isnull().sum()"
   ]
  },
  {
   "attachments": {},
   "cell_type": "markdown",
   "metadata": {},
   "source": [
    "#### Replace NaN Amenities Values with 0"
   ]
  },
  {
   "cell_type": "code",
   "execution_count": 23,
   "metadata": {},
   "outputs": [
    {
     "data": {
      "text/plain": [
       "181"
      ]
     },
     "execution_count": 23,
     "metadata": {},
     "output_type": "execute_result"
    }
   ],
   "source": [
    "df['RoomService'].isnull().sum()"
   ]
  },
  {
   "cell_type": "code",
   "execution_count": 24,
   "metadata": {},
   "outputs": [
    {
     "data": {
      "text/plain": [
       "(4277, 13)"
      ]
     },
     "execution_count": 24,
     "metadata": {},
     "output_type": "execute_result"
    }
   ],
   "source": [
    "test_df.shape"
   ]
  },
  {
   "cell_type": "code",
   "execution_count": 25,
   "metadata": {},
   "outputs": [
    {
     "data": {
      "text/html": [
       "<div>\n",
       "<style scoped>\n",
       "    .dataframe tbody tr th:only-of-type {\n",
       "        vertical-align: middle;\n",
       "    }\n",
       "\n",
       "    .dataframe tbody tr th {\n",
       "        vertical-align: top;\n",
       "    }\n",
       "\n",
       "    .dataframe thead th {\n",
       "        text-align: right;\n",
       "    }\n",
       "</style>\n",
       "<table border=\"1\" class=\"dataframe\">\n",
       "  <thead>\n",
       "    <tr style=\"text-align: right;\">\n",
       "      <th></th>\n",
       "      <th>PassengerId</th>\n",
       "      <th>HomePlanet</th>\n",
       "      <th>CryoSleep</th>\n",
       "      <th>Cabin</th>\n",
       "      <th>Destination</th>\n",
       "      <th>Age</th>\n",
       "      <th>VIP</th>\n",
       "      <th>RoomService</th>\n",
       "      <th>FoodCourt</th>\n",
       "      <th>ShoppingMall</th>\n",
       "      <th>Spa</th>\n",
       "      <th>VRDeck</th>\n",
       "      <th>Name</th>\n",
       "    </tr>\n",
       "  </thead>\n",
       "  <tbody>\n",
       "    <tr>\n",
       "      <th>0</th>\n",
       "      <td>0013_01</td>\n",
       "      <td>Earth</td>\n",
       "      <td>True</td>\n",
       "      <td>G/3/S</td>\n",
       "      <td>TRAPPIST-1e</td>\n",
       "      <td>27.0</td>\n",
       "      <td>False</td>\n",
       "      <td>0.0</td>\n",
       "      <td>0.0</td>\n",
       "      <td>0.0</td>\n",
       "      <td>0.0</td>\n",
       "      <td>0.0</td>\n",
       "      <td>Nelly Carsoning</td>\n",
       "    </tr>\n",
       "    <tr>\n",
       "      <th>1</th>\n",
       "      <td>0018_01</td>\n",
       "      <td>Earth</td>\n",
       "      <td>False</td>\n",
       "      <td>F/4/S</td>\n",
       "      <td>TRAPPIST-1e</td>\n",
       "      <td>19.0</td>\n",
       "      <td>False</td>\n",
       "      <td>0.0</td>\n",
       "      <td>9.0</td>\n",
       "      <td>0.0</td>\n",
       "      <td>2823.0</td>\n",
       "      <td>0.0</td>\n",
       "      <td>Lerome Peckers</td>\n",
       "    </tr>\n",
       "    <tr>\n",
       "      <th>2</th>\n",
       "      <td>0019_01</td>\n",
       "      <td>Europa</td>\n",
       "      <td>True</td>\n",
       "      <td>C/0/S</td>\n",
       "      <td>55 Cancri e</td>\n",
       "      <td>31.0</td>\n",
       "      <td>False</td>\n",
       "      <td>0.0</td>\n",
       "      <td>0.0</td>\n",
       "      <td>0.0</td>\n",
       "      <td>0.0</td>\n",
       "      <td>0.0</td>\n",
       "      <td>Sabih Unhearfus</td>\n",
       "    </tr>\n",
       "    <tr>\n",
       "      <th>3</th>\n",
       "      <td>0021_01</td>\n",
       "      <td>Europa</td>\n",
       "      <td>False</td>\n",
       "      <td>C/1/S</td>\n",
       "      <td>TRAPPIST-1e</td>\n",
       "      <td>38.0</td>\n",
       "      <td>False</td>\n",
       "      <td>0.0</td>\n",
       "      <td>6652.0</td>\n",
       "      <td>0.0</td>\n",
       "      <td>181.0</td>\n",
       "      <td>585.0</td>\n",
       "      <td>Meratz Caltilter</td>\n",
       "    </tr>\n",
       "    <tr>\n",
       "      <th>4</th>\n",
       "      <td>0023_01</td>\n",
       "      <td>Earth</td>\n",
       "      <td>False</td>\n",
       "      <td>F/5/S</td>\n",
       "      <td>TRAPPIST-1e</td>\n",
       "      <td>20.0</td>\n",
       "      <td>False</td>\n",
       "      <td>10.0</td>\n",
       "      <td>0.0</td>\n",
       "      <td>635.0</td>\n",
       "      <td>0.0</td>\n",
       "      <td>0.0</td>\n",
       "      <td>Brence Harperez</td>\n",
       "    </tr>\n",
       "  </tbody>\n",
       "</table>\n",
       "</div>"
      ],
      "text/plain": [
       "  PassengerId HomePlanet CryoSleep  Cabin  Destination   Age    VIP  \\\n",
       "0     0013_01      Earth      True  G/3/S  TRAPPIST-1e  27.0  False   \n",
       "1     0018_01      Earth     False  F/4/S  TRAPPIST-1e  19.0  False   \n",
       "2     0019_01     Europa      True  C/0/S  55 Cancri e  31.0  False   \n",
       "3     0021_01     Europa     False  C/1/S  TRAPPIST-1e  38.0  False   \n",
       "4     0023_01      Earth     False  F/5/S  TRAPPIST-1e  20.0  False   \n",
       "\n",
       "   RoomService  FoodCourt  ShoppingMall     Spa  VRDeck              Name  \n",
       "0          0.0        0.0           0.0     0.0     0.0   Nelly Carsoning  \n",
       "1          0.0        9.0           0.0  2823.0     0.0    Lerome Peckers  \n",
       "2          0.0        0.0           0.0     0.0     0.0   Sabih Unhearfus  \n",
       "3          0.0     6652.0           0.0   181.0   585.0  Meratz Caltilter  \n",
       "4         10.0        0.0         635.0     0.0     0.0   Brence Harperez  "
      ]
     },
     "execution_count": 25,
     "metadata": {},
     "output_type": "execute_result"
    }
   ],
   "source": [
    "test_df.head()"
   ]
  },
  {
   "cell_type": "code",
   "execution_count": 26,
   "metadata": {},
   "outputs": [
    {
     "data": {
      "text/plain": [
       "RoomService     181\n",
       "FoodCourt       183\n",
       "ShoppingMall    208\n",
       "Spa             183\n",
       "VRDeck          188\n",
       "dtype: int64"
      ]
     },
     "execution_count": 26,
     "metadata": {},
     "output_type": "execute_result"
    }
   ],
   "source": [
    "df[['RoomService', 'FoodCourt', 'ShoppingMall', 'Spa', 'VRDeck']].isnull().sum()"
   ]
  },
  {
   "cell_type": "code",
   "execution_count": 27,
   "metadata": {},
   "outputs": [],
   "source": [
    "amenities = ['RoomService', 'FoodCourt', 'ShoppingMall', 'Spa', 'VRDeck']"
   ]
  },
  {
   "cell_type": "code",
   "execution_count": 28,
   "metadata": {},
   "outputs": [],
   "source": [
    "df[amenities] = df[amenities].fillna(0)\n",
    "test_df[amenities] = test_df[amenities].fillna(0)"
   ]
  },
  {
   "attachments": {},
   "cell_type": "markdown",
   "metadata": {},
   "source": [
    "#### Names to Surnames"
   ]
  },
  {
   "attachments": {},
   "cell_type": "markdown",
   "metadata": {},
   "source": [
    "This name on such a small dataset could cause overfitting, so I'm going to try splitting into families by last name. I'll also be dropping `Name` as a category afterward"
   ]
  },
  {
   "cell_type": "code",
   "execution_count": 29,
   "metadata": {},
   "outputs": [],
   "source": [
    "df['surname'] = df['Name'].str.split(' ').str[1]"
   ]
  },
  {
   "cell_type": "code",
   "execution_count": 30,
   "metadata": {},
   "outputs": [],
   "source": [
    "test_df['surname'] = test_df['Name'].str.split(' ').str[1]"
   ]
  },
  {
   "cell_type": "code",
   "execution_count": 31,
   "metadata": {},
   "outputs": [],
   "source": [
    "df = df.drop(['Name'], axis=1)"
   ]
  },
  {
   "cell_type": "code",
   "execution_count": 32,
   "metadata": {},
   "outputs": [],
   "source": [
    "test_df = test_df.drop(['Name'], axis=1)"
   ]
  },
  {
   "attachments": {},
   "cell_type": "markdown",
   "metadata": {},
   "source": [
    "#### Split PassengerId and Room"
   ]
  },
  {
   "cell_type": "markdown",
   "metadata": {},
   "source": [
    "Looking at this there's some extra data we can extract to new columns, *PassengerId* looks like it's by group number and the number in a particular group, split with an underscore `_` "
   ]
  },
  {
   "cell_type": "code",
   "execution_count": 33,
   "metadata": {},
   "outputs": [],
   "source": [
    "df['group_num'] = df['PassengerId'].str.split('_').str[0]\n",
    "df['num_w_in_group'] = df['PassengerId'].str.split('_').str[1]"
   ]
  },
  {
   "cell_type": "code",
   "execution_count": 34,
   "metadata": {},
   "outputs": [],
   "source": [
    "test_df['group_num'] =test_df['PassengerId'].str.split('_').str[0]\n",
    "test_df['num_w_in_group'] =test_df['PassengerId'].str.split('_').str[1]"
   ]
  },
  {
   "cell_type": "markdown",
   "metadata": {},
   "source": [
    "The same is true for the Cabin, there are 3 different values to analyze here, so let's split them up as well"
   ]
  },
  {
   "cell_type": "code",
   "execution_count": 35,
   "metadata": {},
   "outputs": [],
   "source": [
    "df['deck'] = df['Cabin'].str.split('/').str[0]\n",
    "df['room_num'] = df['Cabin'].str.split('/').str[1]\n",
    "df['side'] = df['Cabin'].str.split('/').str[2]"
   ]
  },
  {
   "cell_type": "code",
   "execution_count": 36,
   "metadata": {},
   "outputs": [],
   "source": [
    "test_df['deck'] = test_df['Cabin'].str.split('/').str[0]\n",
    "test_df['room_num'] = test_df['Cabin'].str.split('/').str[1]\n",
    "test_df['side'] = test_df['Cabin'].str.split('/').str[2]"
   ]
  },
  {
   "cell_type": "markdown",
   "metadata": {},
   "source": [
    "Take the max number of the last two digits in PassengerId given that the first four numbers are the same"
   ]
  },
  {
   "cell_type": "code",
   "execution_count": 37,
   "metadata": {},
   "outputs": [],
   "source": [
    "df['num_w_in_group'] = df['num_w_in_group'].astype(int)"
   ]
  },
  {
   "cell_type": "code",
   "execution_count": 38,
   "metadata": {},
   "outputs": [],
   "source": [
    "test_df['num_w_in_group'] = test_df['num_w_in_group'].astype(int)"
   ]
  },
  {
   "cell_type": "code",
   "execution_count": 39,
   "metadata": {},
   "outputs": [],
   "source": [
    "max_num_in_group = df.groupby('group_num')['num_w_in_group'].max().astype(int)"
   ]
  },
  {
   "cell_type": "code",
   "execution_count": 40,
   "metadata": {},
   "outputs": [],
   "source": [
    "test_max_num_in_group = test_df.groupby('group_num')['num_w_in_group'].max().astype(int)"
   ]
  },
  {
   "cell_type": "code",
   "execution_count": 41,
   "metadata": {},
   "outputs": [
    {
     "data": {
      "text/plain": [
       "6217"
      ]
     },
     "execution_count": 41,
     "metadata": {},
     "output_type": "execute_result"
    }
   ],
   "source": [
    "len(max_num_in_group)"
   ]
  },
  {
   "cell_type": "code",
   "execution_count": 42,
   "metadata": {},
   "outputs": [
    {
     "data": {
      "text/plain": [
       "group_num\n",
       "0001    1\n",
       "0002    1\n",
       "0003    2\n",
       "0004    1\n",
       "0005    1\n",
       "Name: num_w_in_group, dtype: int64"
      ]
     },
     "execution_count": 42,
     "metadata": {},
     "output_type": "execute_result"
    }
   ],
   "source": [
    "max_num_in_group.head()"
   ]
  },
  {
   "cell_type": "code",
   "execution_count": 43,
   "metadata": {},
   "outputs": [],
   "source": [
    "df['num_in_group'] = df['group_num'].map(max_num_in_group)"
   ]
  },
  {
   "cell_type": "code",
   "execution_count": 44,
   "metadata": {},
   "outputs": [],
   "source": [
    "test_df['num_in_group'] = test_df['group_num'].map(test_max_num_in_group)"
   ]
  },
  {
   "cell_type": "code",
   "execution_count": 45,
   "metadata": {},
   "outputs": [
    {
     "data": {
      "text/html": [
       "<div>\n",
       "<style scoped>\n",
       "    .dataframe tbody tr th:only-of-type {\n",
       "        vertical-align: middle;\n",
       "    }\n",
       "\n",
       "    .dataframe tbody tr th {\n",
       "        vertical-align: top;\n",
       "    }\n",
       "\n",
       "    .dataframe thead th {\n",
       "        text-align: right;\n",
       "    }\n",
       "</style>\n",
       "<table border=\"1\" class=\"dataframe\">\n",
       "  <thead>\n",
       "    <tr style=\"text-align: right;\">\n",
       "      <th></th>\n",
       "      <th>PassengerId</th>\n",
       "      <th>HomePlanet</th>\n",
       "      <th>CryoSleep</th>\n",
       "      <th>Cabin</th>\n",
       "      <th>Destination</th>\n",
       "      <th>Age</th>\n",
       "      <th>VIP</th>\n",
       "      <th>RoomService</th>\n",
       "      <th>FoodCourt</th>\n",
       "      <th>ShoppingMall</th>\n",
       "      <th>Spa</th>\n",
       "      <th>VRDeck</th>\n",
       "      <th>Transported</th>\n",
       "      <th>surname</th>\n",
       "      <th>group_num</th>\n",
       "      <th>num_w_in_group</th>\n",
       "      <th>deck</th>\n",
       "      <th>room_num</th>\n",
       "      <th>side</th>\n",
       "      <th>num_in_group</th>\n",
       "    </tr>\n",
       "  </thead>\n",
       "  <tbody>\n",
       "    <tr>\n",
       "      <th>0</th>\n",
       "      <td>0001_01</td>\n",
       "      <td>Europa</td>\n",
       "      <td>False</td>\n",
       "      <td>B/0/P</td>\n",
       "      <td>TRAPPIST-1e</td>\n",
       "      <td>39.0</td>\n",
       "      <td>False</td>\n",
       "      <td>0.0</td>\n",
       "      <td>0.0</td>\n",
       "      <td>0.0</td>\n",
       "      <td>0.0</td>\n",
       "      <td>0.0</td>\n",
       "      <td>False</td>\n",
       "      <td>Ofracculy</td>\n",
       "      <td>0001</td>\n",
       "      <td>1</td>\n",
       "      <td>B</td>\n",
       "      <td>0</td>\n",
       "      <td>P</td>\n",
       "      <td>1</td>\n",
       "    </tr>\n",
       "    <tr>\n",
       "      <th>1</th>\n",
       "      <td>0002_01</td>\n",
       "      <td>Earth</td>\n",
       "      <td>False</td>\n",
       "      <td>F/0/S</td>\n",
       "      <td>TRAPPIST-1e</td>\n",
       "      <td>24.0</td>\n",
       "      <td>False</td>\n",
       "      <td>109.0</td>\n",
       "      <td>9.0</td>\n",
       "      <td>25.0</td>\n",
       "      <td>549.0</td>\n",
       "      <td>44.0</td>\n",
       "      <td>True</td>\n",
       "      <td>Vines</td>\n",
       "      <td>0002</td>\n",
       "      <td>1</td>\n",
       "      <td>F</td>\n",
       "      <td>0</td>\n",
       "      <td>S</td>\n",
       "      <td>1</td>\n",
       "    </tr>\n",
       "    <tr>\n",
       "      <th>2</th>\n",
       "      <td>0003_01</td>\n",
       "      <td>Europa</td>\n",
       "      <td>False</td>\n",
       "      <td>A/0/S</td>\n",
       "      <td>TRAPPIST-1e</td>\n",
       "      <td>58.0</td>\n",
       "      <td>True</td>\n",
       "      <td>43.0</td>\n",
       "      <td>3576.0</td>\n",
       "      <td>0.0</td>\n",
       "      <td>6715.0</td>\n",
       "      <td>49.0</td>\n",
       "      <td>False</td>\n",
       "      <td>Susent</td>\n",
       "      <td>0003</td>\n",
       "      <td>1</td>\n",
       "      <td>A</td>\n",
       "      <td>0</td>\n",
       "      <td>S</td>\n",
       "      <td>2</td>\n",
       "    </tr>\n",
       "    <tr>\n",
       "      <th>3</th>\n",
       "      <td>0003_02</td>\n",
       "      <td>Europa</td>\n",
       "      <td>False</td>\n",
       "      <td>A/0/S</td>\n",
       "      <td>TRAPPIST-1e</td>\n",
       "      <td>33.0</td>\n",
       "      <td>False</td>\n",
       "      <td>0.0</td>\n",
       "      <td>1283.0</td>\n",
       "      <td>371.0</td>\n",
       "      <td>3329.0</td>\n",
       "      <td>193.0</td>\n",
       "      <td>False</td>\n",
       "      <td>Susent</td>\n",
       "      <td>0003</td>\n",
       "      <td>2</td>\n",
       "      <td>A</td>\n",
       "      <td>0</td>\n",
       "      <td>S</td>\n",
       "      <td>2</td>\n",
       "    </tr>\n",
       "    <tr>\n",
       "      <th>4</th>\n",
       "      <td>0004_01</td>\n",
       "      <td>Earth</td>\n",
       "      <td>False</td>\n",
       "      <td>F/1/S</td>\n",
       "      <td>TRAPPIST-1e</td>\n",
       "      <td>16.0</td>\n",
       "      <td>False</td>\n",
       "      <td>303.0</td>\n",
       "      <td>70.0</td>\n",
       "      <td>151.0</td>\n",
       "      <td>565.0</td>\n",
       "      <td>2.0</td>\n",
       "      <td>True</td>\n",
       "      <td>Santantines</td>\n",
       "      <td>0004</td>\n",
       "      <td>1</td>\n",
       "      <td>F</td>\n",
       "      <td>1</td>\n",
       "      <td>S</td>\n",
       "      <td>1</td>\n",
       "    </tr>\n",
       "  </tbody>\n",
       "</table>\n",
       "</div>"
      ],
      "text/plain": [
       "  PassengerId HomePlanet CryoSleep  Cabin  Destination   Age    VIP  \\\n",
       "0     0001_01     Europa     False  B/0/P  TRAPPIST-1e  39.0  False   \n",
       "1     0002_01      Earth     False  F/0/S  TRAPPIST-1e  24.0  False   \n",
       "2     0003_01     Europa     False  A/0/S  TRAPPIST-1e  58.0   True   \n",
       "3     0003_02     Europa     False  A/0/S  TRAPPIST-1e  33.0  False   \n",
       "4     0004_01      Earth     False  F/1/S  TRAPPIST-1e  16.0  False   \n",
       "\n",
       "   RoomService  FoodCourt  ShoppingMall     Spa  VRDeck  Transported  \\\n",
       "0          0.0        0.0           0.0     0.0     0.0        False   \n",
       "1        109.0        9.0          25.0   549.0    44.0         True   \n",
       "2         43.0     3576.0           0.0  6715.0    49.0        False   \n",
       "3          0.0     1283.0         371.0  3329.0   193.0        False   \n",
       "4        303.0       70.0         151.0   565.0     2.0         True   \n",
       "\n",
       "       surname group_num  num_w_in_group deck room_num side  num_in_group  \n",
       "0    Ofracculy      0001               1    B        0    P             1  \n",
       "1        Vines      0002               1    F        0    S             1  \n",
       "2       Susent      0003               1    A        0    S             2  \n",
       "3       Susent      0003               2    A        0    S             2  \n",
       "4  Santantines      0004               1    F        1    S             1  "
      ]
     },
     "execution_count": 45,
     "metadata": {},
     "output_type": "execute_result"
    }
   ],
   "source": [
    "df.head()"
   ]
  },
  {
   "attachments": {},
   "cell_type": "markdown",
   "metadata": {},
   "source": [
    "Finding if everyone boarding is a family group or not by last name:\n",
    "- Find if the count of family group == num_in_group"
   ]
  },
  {
   "cell_type": "code",
   "execution_count": 46,
   "metadata": {},
   "outputs": [],
   "source": [
    "boarded_together = df.groupby('surname')['num_in_group'].nunique() == 1"
   ]
  },
  {
   "cell_type": "code",
   "execution_count": 47,
   "metadata": {},
   "outputs": [],
   "source": [
    "test_boarded_together = test_df.groupby('surname')['num_in_group'].nunique() == 1"
   ]
  },
  {
   "cell_type": "code",
   "execution_count": 48,
   "metadata": {},
   "outputs": [],
   "source": [
    "df['fam_board_together'] = df['surname'].map(boarded_together)"
   ]
  },
  {
   "cell_type": "code",
   "execution_count": 49,
   "metadata": {},
   "outputs": [],
   "source": [
    "test_df['fam_board_together'] = test_df['surname'].map(test_boarded_together)"
   ]
  },
  {
   "cell_type": "code",
   "execution_count": 50,
   "metadata": {},
   "outputs": [
    {
     "data": {
      "text/html": [
       "<div>\n",
       "<style scoped>\n",
       "    .dataframe tbody tr th:only-of-type {\n",
       "        vertical-align: middle;\n",
       "    }\n",
       "\n",
       "    .dataframe tbody tr th {\n",
       "        vertical-align: top;\n",
       "    }\n",
       "\n",
       "    .dataframe thead th {\n",
       "        text-align: right;\n",
       "    }\n",
       "</style>\n",
       "<table border=\"1\" class=\"dataframe\">\n",
       "  <thead>\n",
       "    <tr style=\"text-align: right;\">\n",
       "      <th></th>\n",
       "      <th>PassengerId</th>\n",
       "      <th>HomePlanet</th>\n",
       "      <th>CryoSleep</th>\n",
       "      <th>Cabin</th>\n",
       "      <th>Destination</th>\n",
       "      <th>Age</th>\n",
       "      <th>VIP</th>\n",
       "      <th>RoomService</th>\n",
       "      <th>FoodCourt</th>\n",
       "      <th>ShoppingMall</th>\n",
       "      <th>Spa</th>\n",
       "      <th>VRDeck</th>\n",
       "      <th>Transported</th>\n",
       "      <th>surname</th>\n",
       "      <th>group_num</th>\n",
       "      <th>num_w_in_group</th>\n",
       "      <th>deck</th>\n",
       "      <th>room_num</th>\n",
       "      <th>side</th>\n",
       "      <th>num_in_group</th>\n",
       "      <th>fam_board_together</th>\n",
       "    </tr>\n",
       "  </thead>\n",
       "  <tbody>\n",
       "    <tr>\n",
       "      <th>0</th>\n",
       "      <td>0001_01</td>\n",
       "      <td>Europa</td>\n",
       "      <td>False</td>\n",
       "      <td>B/0/P</td>\n",
       "      <td>TRAPPIST-1e</td>\n",
       "      <td>39.0</td>\n",
       "      <td>False</td>\n",
       "      <td>0.0</td>\n",
       "      <td>0.0</td>\n",
       "      <td>0.0</td>\n",
       "      <td>0.0</td>\n",
       "      <td>0.0</td>\n",
       "      <td>False</td>\n",
       "      <td>Ofracculy</td>\n",
       "      <td>0001</td>\n",
       "      <td>1</td>\n",
       "      <td>B</td>\n",
       "      <td>0</td>\n",
       "      <td>P</td>\n",
       "      <td>1</td>\n",
       "      <td>True</td>\n",
       "    </tr>\n",
       "    <tr>\n",
       "      <th>1</th>\n",
       "      <td>0002_01</td>\n",
       "      <td>Earth</td>\n",
       "      <td>False</td>\n",
       "      <td>F/0/S</td>\n",
       "      <td>TRAPPIST-1e</td>\n",
       "      <td>24.0</td>\n",
       "      <td>False</td>\n",
       "      <td>109.0</td>\n",
       "      <td>9.0</td>\n",
       "      <td>25.0</td>\n",
       "      <td>549.0</td>\n",
       "      <td>44.0</td>\n",
       "      <td>True</td>\n",
       "      <td>Vines</td>\n",
       "      <td>0002</td>\n",
       "      <td>1</td>\n",
       "      <td>F</td>\n",
       "      <td>0</td>\n",
       "      <td>S</td>\n",
       "      <td>1</td>\n",
       "      <td>True</td>\n",
       "    </tr>\n",
       "    <tr>\n",
       "      <th>2</th>\n",
       "      <td>0003_01</td>\n",
       "      <td>Europa</td>\n",
       "      <td>False</td>\n",
       "      <td>A/0/S</td>\n",
       "      <td>TRAPPIST-1e</td>\n",
       "      <td>58.0</td>\n",
       "      <td>True</td>\n",
       "      <td>43.0</td>\n",
       "      <td>3576.0</td>\n",
       "      <td>0.0</td>\n",
       "      <td>6715.0</td>\n",
       "      <td>49.0</td>\n",
       "      <td>False</td>\n",
       "      <td>Susent</td>\n",
       "      <td>0003</td>\n",
       "      <td>1</td>\n",
       "      <td>A</td>\n",
       "      <td>0</td>\n",
       "      <td>S</td>\n",
       "      <td>2</td>\n",
       "      <td>False</td>\n",
       "    </tr>\n",
       "    <tr>\n",
       "      <th>3</th>\n",
       "      <td>0003_02</td>\n",
       "      <td>Europa</td>\n",
       "      <td>False</td>\n",
       "      <td>A/0/S</td>\n",
       "      <td>TRAPPIST-1e</td>\n",
       "      <td>33.0</td>\n",
       "      <td>False</td>\n",
       "      <td>0.0</td>\n",
       "      <td>1283.0</td>\n",
       "      <td>371.0</td>\n",
       "      <td>3329.0</td>\n",
       "      <td>193.0</td>\n",
       "      <td>False</td>\n",
       "      <td>Susent</td>\n",
       "      <td>0003</td>\n",
       "      <td>2</td>\n",
       "      <td>A</td>\n",
       "      <td>0</td>\n",
       "      <td>S</td>\n",
       "      <td>2</td>\n",
       "      <td>False</td>\n",
       "    </tr>\n",
       "    <tr>\n",
       "      <th>4</th>\n",
       "      <td>0004_01</td>\n",
       "      <td>Earth</td>\n",
       "      <td>False</td>\n",
       "      <td>F/1/S</td>\n",
       "      <td>TRAPPIST-1e</td>\n",
       "      <td>16.0</td>\n",
       "      <td>False</td>\n",
       "      <td>303.0</td>\n",
       "      <td>70.0</td>\n",
       "      <td>151.0</td>\n",
       "      <td>565.0</td>\n",
       "      <td>2.0</td>\n",
       "      <td>True</td>\n",
       "      <td>Santantines</td>\n",
       "      <td>0004</td>\n",
       "      <td>1</td>\n",
       "      <td>F</td>\n",
       "      <td>1</td>\n",
       "      <td>S</td>\n",
       "      <td>1</td>\n",
       "      <td>False</td>\n",
       "    </tr>\n",
       "  </tbody>\n",
       "</table>\n",
       "</div>"
      ],
      "text/plain": [
       "  PassengerId HomePlanet CryoSleep  Cabin  Destination   Age    VIP  \\\n",
       "0     0001_01     Europa     False  B/0/P  TRAPPIST-1e  39.0  False   \n",
       "1     0002_01      Earth     False  F/0/S  TRAPPIST-1e  24.0  False   \n",
       "2     0003_01     Europa     False  A/0/S  TRAPPIST-1e  58.0   True   \n",
       "3     0003_02     Europa     False  A/0/S  TRAPPIST-1e  33.0  False   \n",
       "4     0004_01      Earth     False  F/1/S  TRAPPIST-1e  16.0  False   \n",
       "\n",
       "   RoomService  FoodCourt  ShoppingMall     Spa  VRDeck  Transported  \\\n",
       "0          0.0        0.0           0.0     0.0     0.0        False   \n",
       "1        109.0        9.0          25.0   549.0    44.0         True   \n",
       "2         43.0     3576.0           0.0  6715.0    49.0        False   \n",
       "3          0.0     1283.0         371.0  3329.0   193.0        False   \n",
       "4        303.0       70.0         151.0   565.0     2.0         True   \n",
       "\n",
       "       surname group_num  num_w_in_group deck room_num side  num_in_group  \\\n",
       "0    Ofracculy      0001               1    B        0    P             1   \n",
       "1        Vines      0002               1    F        0    S             1   \n",
       "2       Susent      0003               1    A        0    S             2   \n",
       "3       Susent      0003               2    A        0    S             2   \n",
       "4  Santantines      0004               1    F        1    S             1   \n",
       "\n",
       "  fam_board_together  \n",
       "0               True  \n",
       "1               True  \n",
       "2              False  \n",
       "3              False  \n",
       "4              False  "
      ]
     },
     "execution_count": 50,
     "metadata": {},
     "output_type": "execute_result"
    }
   ],
   "source": [
    "df.head()"
   ]
  },
  {
   "cell_type": "code",
   "execution_count": 51,
   "metadata": {},
   "outputs": [
    {
     "data": {
      "text/html": [
       "<div>\n",
       "<style scoped>\n",
       "    .dataframe tbody tr th:only-of-type {\n",
       "        vertical-align: middle;\n",
       "    }\n",
       "\n",
       "    .dataframe tbody tr th {\n",
       "        vertical-align: top;\n",
       "    }\n",
       "\n",
       "    .dataframe thead th {\n",
       "        text-align: right;\n",
       "    }\n",
       "</style>\n",
       "<table border=\"1\" class=\"dataframe\">\n",
       "  <thead>\n",
       "    <tr style=\"text-align: right;\">\n",
       "      <th></th>\n",
       "      <th>PassengerId</th>\n",
       "      <th>HomePlanet</th>\n",
       "      <th>CryoSleep</th>\n",
       "      <th>Cabin</th>\n",
       "      <th>Destination</th>\n",
       "      <th>Age</th>\n",
       "      <th>VIP</th>\n",
       "      <th>RoomService</th>\n",
       "      <th>FoodCourt</th>\n",
       "      <th>ShoppingMall</th>\n",
       "      <th>Spa</th>\n",
       "      <th>VRDeck</th>\n",
       "      <th>surname</th>\n",
       "      <th>group_num</th>\n",
       "      <th>num_w_in_group</th>\n",
       "      <th>deck</th>\n",
       "      <th>room_num</th>\n",
       "      <th>side</th>\n",
       "      <th>num_in_group</th>\n",
       "      <th>fam_board_together</th>\n",
       "    </tr>\n",
       "  </thead>\n",
       "  <tbody>\n",
       "    <tr>\n",
       "      <th>0</th>\n",
       "      <td>0013_01</td>\n",
       "      <td>Earth</td>\n",
       "      <td>True</td>\n",
       "      <td>G/3/S</td>\n",
       "      <td>TRAPPIST-1e</td>\n",
       "      <td>27.0</td>\n",
       "      <td>False</td>\n",
       "      <td>0.0</td>\n",
       "      <td>0.0</td>\n",
       "      <td>0.0</td>\n",
       "      <td>0.0</td>\n",
       "      <td>0.0</td>\n",
       "      <td>Carsoning</td>\n",
       "      <td>0013</td>\n",
       "      <td>1</td>\n",
       "      <td>G</td>\n",
       "      <td>3</td>\n",
       "      <td>S</td>\n",
       "      <td>1</td>\n",
       "      <td>False</td>\n",
       "    </tr>\n",
       "    <tr>\n",
       "      <th>1</th>\n",
       "      <td>0018_01</td>\n",
       "      <td>Earth</td>\n",
       "      <td>False</td>\n",
       "      <td>F/4/S</td>\n",
       "      <td>TRAPPIST-1e</td>\n",
       "      <td>19.0</td>\n",
       "      <td>False</td>\n",
       "      <td>0.0</td>\n",
       "      <td>9.0</td>\n",
       "      <td>0.0</td>\n",
       "      <td>2823.0</td>\n",
       "      <td>0.0</td>\n",
       "      <td>Peckers</td>\n",
       "      <td>0018</td>\n",
       "      <td>1</td>\n",
       "      <td>F</td>\n",
       "      <td>4</td>\n",
       "      <td>S</td>\n",
       "      <td>1</td>\n",
       "      <td>True</td>\n",
       "    </tr>\n",
       "    <tr>\n",
       "      <th>2</th>\n",
       "      <td>0019_01</td>\n",
       "      <td>Europa</td>\n",
       "      <td>True</td>\n",
       "      <td>C/0/S</td>\n",
       "      <td>55 Cancri e</td>\n",
       "      <td>31.0</td>\n",
       "      <td>False</td>\n",
       "      <td>0.0</td>\n",
       "      <td>0.0</td>\n",
       "      <td>0.0</td>\n",
       "      <td>0.0</td>\n",
       "      <td>0.0</td>\n",
       "      <td>Unhearfus</td>\n",
       "      <td>0019</td>\n",
       "      <td>1</td>\n",
       "      <td>C</td>\n",
       "      <td>0</td>\n",
       "      <td>S</td>\n",
       "      <td>1</td>\n",
       "      <td>True</td>\n",
       "    </tr>\n",
       "    <tr>\n",
       "      <th>3</th>\n",
       "      <td>0021_01</td>\n",
       "      <td>Europa</td>\n",
       "      <td>False</td>\n",
       "      <td>C/1/S</td>\n",
       "      <td>TRAPPIST-1e</td>\n",
       "      <td>38.0</td>\n",
       "      <td>False</td>\n",
       "      <td>0.0</td>\n",
       "      <td>6652.0</td>\n",
       "      <td>0.0</td>\n",
       "      <td>181.0</td>\n",
       "      <td>585.0</td>\n",
       "      <td>Caltilter</td>\n",
       "      <td>0021</td>\n",
       "      <td>1</td>\n",
       "      <td>C</td>\n",
       "      <td>1</td>\n",
       "      <td>S</td>\n",
       "      <td>1</td>\n",
       "      <td>True</td>\n",
       "    </tr>\n",
       "    <tr>\n",
       "      <th>4</th>\n",
       "      <td>0023_01</td>\n",
       "      <td>Earth</td>\n",
       "      <td>False</td>\n",
       "      <td>F/5/S</td>\n",
       "      <td>TRAPPIST-1e</td>\n",
       "      <td>20.0</td>\n",
       "      <td>False</td>\n",
       "      <td>10.0</td>\n",
       "      <td>0.0</td>\n",
       "      <td>635.0</td>\n",
       "      <td>0.0</td>\n",
       "      <td>0.0</td>\n",
       "      <td>Harperez</td>\n",
       "      <td>0023</td>\n",
       "      <td>1</td>\n",
       "      <td>F</td>\n",
       "      <td>5</td>\n",
       "      <td>S</td>\n",
       "      <td>1</td>\n",
       "      <td>True</td>\n",
       "    </tr>\n",
       "  </tbody>\n",
       "</table>\n",
       "</div>"
      ],
      "text/plain": [
       "  PassengerId HomePlanet CryoSleep  Cabin  Destination   Age    VIP  \\\n",
       "0     0013_01      Earth      True  G/3/S  TRAPPIST-1e  27.0  False   \n",
       "1     0018_01      Earth     False  F/4/S  TRAPPIST-1e  19.0  False   \n",
       "2     0019_01     Europa      True  C/0/S  55 Cancri e  31.0  False   \n",
       "3     0021_01     Europa     False  C/1/S  TRAPPIST-1e  38.0  False   \n",
       "4     0023_01      Earth     False  F/5/S  TRAPPIST-1e  20.0  False   \n",
       "\n",
       "   RoomService  FoodCourt  ShoppingMall     Spa  VRDeck    surname group_num  \\\n",
       "0          0.0        0.0           0.0     0.0     0.0  Carsoning      0013   \n",
       "1          0.0        9.0           0.0  2823.0     0.0    Peckers      0018   \n",
       "2          0.0        0.0           0.0     0.0     0.0  Unhearfus      0019   \n",
       "3          0.0     6652.0           0.0   181.0   585.0  Caltilter      0021   \n",
       "4         10.0        0.0         635.0     0.0     0.0   Harperez      0023   \n",
       "\n",
       "   num_w_in_group deck room_num side  num_in_group fam_board_together  \n",
       "0               1    G        3    S             1              False  \n",
       "1               1    F        4    S             1               True  \n",
       "2               1    C        0    S             1               True  \n",
       "3               1    C        1    S             1               True  \n",
       "4               1    F        5    S             1               True  "
      ]
     },
     "execution_count": 51,
     "metadata": {},
     "output_type": "execute_result"
    }
   ],
   "source": [
    "test_df.head()"
   ]
  },
  {
   "attachments": {},
   "cell_type": "markdown",
   "metadata": {},
   "source": [
    "#### Replace NaN Home and Destination with Group Values"
   ]
  },
  {
   "cell_type": "code",
   "execution_count": 52,
   "metadata": {},
   "outputs": [
    {
     "data": {
      "text/html": [
       "<div>\n",
       "<style scoped>\n",
       "    .dataframe tbody tr th:only-of-type {\n",
       "        vertical-align: middle;\n",
       "    }\n",
       "\n",
       "    .dataframe tbody tr th {\n",
       "        vertical-align: top;\n",
       "    }\n",
       "\n",
       "    .dataframe thead th {\n",
       "        text-align: right;\n",
       "    }\n",
       "</style>\n",
       "<table border=\"1\" class=\"dataframe\">\n",
       "  <thead>\n",
       "    <tr style=\"text-align: right;\">\n",
       "      <th></th>\n",
       "      <th>PassengerId</th>\n",
       "      <th>HomePlanet</th>\n",
       "      <th>CryoSleep</th>\n",
       "      <th>Cabin</th>\n",
       "      <th>Destination</th>\n",
       "      <th>Age</th>\n",
       "      <th>VIP</th>\n",
       "      <th>RoomService</th>\n",
       "      <th>FoodCourt</th>\n",
       "      <th>ShoppingMall</th>\n",
       "      <th>Spa</th>\n",
       "      <th>VRDeck</th>\n",
       "      <th>Transported</th>\n",
       "      <th>surname</th>\n",
       "      <th>group_num</th>\n",
       "      <th>num_w_in_group</th>\n",
       "      <th>deck</th>\n",
       "      <th>room_num</th>\n",
       "      <th>side</th>\n",
       "      <th>num_in_group</th>\n",
       "      <th>fam_board_together</th>\n",
       "    </tr>\n",
       "  </thead>\n",
       "  <tbody>\n",
       "    <tr>\n",
       "      <th>59</th>\n",
       "      <td>0064_02</td>\n",
       "      <td>NaN</td>\n",
       "      <td>True</td>\n",
       "      <td>E/3/S</td>\n",
       "      <td>TRAPPIST-1e</td>\n",
       "      <td>33.0</td>\n",
       "      <td>False</td>\n",
       "      <td>0.0</td>\n",
       "      <td>0.0</td>\n",
       "      <td>0.0</td>\n",
       "      <td>0.0</td>\n",
       "      <td>0.0</td>\n",
       "      <td>True</td>\n",
       "      <td>Keen</td>\n",
       "      <td>0064</td>\n",
       "      <td>2</td>\n",
       "      <td>E</td>\n",
       "      <td>3</td>\n",
       "      <td>S</td>\n",
       "      <td>2</td>\n",
       "      <td>True</td>\n",
       "    </tr>\n",
       "    <tr>\n",
       "      <th>113</th>\n",
       "      <td>0119_01</td>\n",
       "      <td>NaN</td>\n",
       "      <td>False</td>\n",
       "      <td>A/0/P</td>\n",
       "      <td>TRAPPIST-1e</td>\n",
       "      <td>39.0</td>\n",
       "      <td>False</td>\n",
       "      <td>0.0</td>\n",
       "      <td>2344.0</td>\n",
       "      <td>0.0</td>\n",
       "      <td>65.0</td>\n",
       "      <td>6898.0</td>\n",
       "      <td>False</td>\n",
       "      <td>Coning</td>\n",
       "      <td>0119</td>\n",
       "      <td>1</td>\n",
       "      <td>A</td>\n",
       "      <td>0</td>\n",
       "      <td>P</td>\n",
       "      <td>2</td>\n",
       "      <td>False</td>\n",
       "    </tr>\n",
       "    <tr>\n",
       "      <th>186</th>\n",
       "      <td>0210_01</td>\n",
       "      <td>NaN</td>\n",
       "      <td>True</td>\n",
       "      <td>D/6/P</td>\n",
       "      <td>55 Cancri e</td>\n",
       "      <td>24.0</td>\n",
       "      <td>False</td>\n",
       "      <td>0.0</td>\n",
       "      <td>0.0</td>\n",
       "      <td>0.0</td>\n",
       "      <td>0.0</td>\n",
       "      <td>0.0</td>\n",
       "      <td>True</td>\n",
       "      <td>Inicont</td>\n",
       "      <td>0210</td>\n",
       "      <td>1</td>\n",
       "      <td>D</td>\n",
       "      <td>6</td>\n",
       "      <td>P</td>\n",
       "      <td>1</td>\n",
       "      <td>False</td>\n",
       "    </tr>\n",
       "    <tr>\n",
       "      <th>225</th>\n",
       "      <td>0242_01</td>\n",
       "      <td>NaN</td>\n",
       "      <td>False</td>\n",
       "      <td>F/46/S</td>\n",
       "      <td>TRAPPIST-1e</td>\n",
       "      <td>18.0</td>\n",
       "      <td>False</td>\n",
       "      <td>313.0</td>\n",
       "      <td>1.0</td>\n",
       "      <td>691.0</td>\n",
       "      <td>283.0</td>\n",
       "      <td>0.0</td>\n",
       "      <td>False</td>\n",
       "      <td>Sté</td>\n",
       "      <td>0242</td>\n",
       "      <td>1</td>\n",
       "      <td>F</td>\n",
       "      <td>46</td>\n",
       "      <td>S</td>\n",
       "      <td>1</td>\n",
       "      <td>True</td>\n",
       "    </tr>\n",
       "    <tr>\n",
       "      <th>234</th>\n",
       "      <td>0251_01</td>\n",
       "      <td>NaN</td>\n",
       "      <td>True</td>\n",
       "      <td>C/11/S</td>\n",
       "      <td>55 Cancri e</td>\n",
       "      <td>54.0</td>\n",
       "      <td>False</td>\n",
       "      <td>0.0</td>\n",
       "      <td>0.0</td>\n",
       "      <td>0.0</td>\n",
       "      <td>0.0</td>\n",
       "      <td>0.0</td>\n",
       "      <td>True</td>\n",
       "      <td>Amsive</td>\n",
       "      <td>0251</td>\n",
       "      <td>1</td>\n",
       "      <td>C</td>\n",
       "      <td>11</td>\n",
       "      <td>S</td>\n",
       "      <td>1</td>\n",
       "      <td>True</td>\n",
       "    </tr>\n",
       "    <tr>\n",
       "      <th>...</th>\n",
       "      <td>...</td>\n",
       "      <td>...</td>\n",
       "      <td>...</td>\n",
       "      <td>...</td>\n",
       "      <td>...</td>\n",
       "      <td>...</td>\n",
       "      <td>...</td>\n",
       "      <td>...</td>\n",
       "      <td>...</td>\n",
       "      <td>...</td>\n",
       "      <td>...</td>\n",
       "      <td>...</td>\n",
       "      <td>...</td>\n",
       "      <td>...</td>\n",
       "      <td>...</td>\n",
       "      <td>...</td>\n",
       "      <td>...</td>\n",
       "      <td>...</td>\n",
       "      <td>...</td>\n",
       "      <td>...</td>\n",
       "      <td>...</td>\n",
       "    </tr>\n",
       "    <tr>\n",
       "      <th>8515</th>\n",
       "      <td>9084_01</td>\n",
       "      <td>NaN</td>\n",
       "      <td>False</td>\n",
       "      <td>E/582/P</td>\n",
       "      <td>TRAPPIST-1e</td>\n",
       "      <td>25.0</td>\n",
       "      <td>False</td>\n",
       "      <td>1258.0</td>\n",
       "      <td>0.0</td>\n",
       "      <td>22.0</td>\n",
       "      <td>19.0</td>\n",
       "      <td>0.0</td>\n",
       "      <td>False</td>\n",
       "      <td>Mone</td>\n",
       "      <td>9084</td>\n",
       "      <td>1</td>\n",
       "      <td>E</td>\n",
       "      <td>582</td>\n",
       "      <td>P</td>\n",
       "      <td>1</td>\n",
       "      <td>False</td>\n",
       "    </tr>\n",
       "    <tr>\n",
       "      <th>8613</th>\n",
       "      <td>9194_01</td>\n",
       "      <td>NaN</td>\n",
       "      <td>False</td>\n",
       "      <td>E/603/S</td>\n",
       "      <td>55 Cancri e</td>\n",
       "      <td>53.0</td>\n",
       "      <td>False</td>\n",
       "      <td>0.0</td>\n",
       "      <td>4017.0</td>\n",
       "      <td>0.0</td>\n",
       "      <td>13.0</td>\n",
       "      <td>3147.0</td>\n",
       "      <td>False</td>\n",
       "      <td>NaN</td>\n",
       "      <td>9194</td>\n",
       "      <td>1</td>\n",
       "      <td>E</td>\n",
       "      <td>603</td>\n",
       "      <td>S</td>\n",
       "      <td>2</td>\n",
       "      <td>NaN</td>\n",
       "    </tr>\n",
       "    <tr>\n",
       "      <th>8666</th>\n",
       "      <td>9248_01</td>\n",
       "      <td>NaN</td>\n",
       "      <td>False</td>\n",
       "      <td>F/1792/S</td>\n",
       "      <td>55 Cancri e</td>\n",
       "      <td>38.0</td>\n",
       "      <td>NaN</td>\n",
       "      <td>28.0</td>\n",
       "      <td>1208.0</td>\n",
       "      <td>973.0</td>\n",
       "      <td>207.0</td>\n",
       "      <td>0.0</td>\n",
       "      <td>True</td>\n",
       "      <td>Perle</td>\n",
       "      <td>9248</td>\n",
       "      <td>1</td>\n",
       "      <td>F</td>\n",
       "      <td>1792</td>\n",
       "      <td>S</td>\n",
       "      <td>1</td>\n",
       "      <td>False</td>\n",
       "    </tr>\n",
       "    <tr>\n",
       "      <th>8674</th>\n",
       "      <td>9257_01</td>\n",
       "      <td>NaN</td>\n",
       "      <td>False</td>\n",
       "      <td>F/1892/P</td>\n",
       "      <td>TRAPPIST-1e</td>\n",
       "      <td>13.0</td>\n",
       "      <td>False</td>\n",
       "      <td>39.0</td>\n",
       "      <td>0.0</td>\n",
       "      <td>1085.0</td>\n",
       "      <td>24.0</td>\n",
       "      <td>0.0</td>\n",
       "      <td>False</td>\n",
       "      <td>Apple</td>\n",
       "      <td>9257</td>\n",
       "      <td>1</td>\n",
       "      <td>F</td>\n",
       "      <td>1892</td>\n",
       "      <td>P</td>\n",
       "      <td>1</td>\n",
       "      <td>True</td>\n",
       "    </tr>\n",
       "    <tr>\n",
       "      <th>8684</th>\n",
       "      <td>9274_01</td>\n",
       "      <td>NaN</td>\n",
       "      <td>True</td>\n",
       "      <td>G/1508/P</td>\n",
       "      <td>TRAPPIST-1e</td>\n",
       "      <td>23.0</td>\n",
       "      <td>False</td>\n",
       "      <td>0.0</td>\n",
       "      <td>0.0</td>\n",
       "      <td>0.0</td>\n",
       "      <td>0.0</td>\n",
       "      <td>0.0</td>\n",
       "      <td>True</td>\n",
       "      <td>Bullisey</td>\n",
       "      <td>9274</td>\n",
       "      <td>1</td>\n",
       "      <td>G</td>\n",
       "      <td>1508</td>\n",
       "      <td>P</td>\n",
       "      <td>1</td>\n",
       "      <td>True</td>\n",
       "    </tr>\n",
       "  </tbody>\n",
       "</table>\n",
       "<p>201 rows × 21 columns</p>\n",
       "</div>"
      ],
      "text/plain": [
       "     PassengerId HomePlanet CryoSleep     Cabin  Destination   Age    VIP  \\\n",
       "59       0064_02        NaN      True     E/3/S  TRAPPIST-1e  33.0  False   \n",
       "113      0119_01        NaN     False     A/0/P  TRAPPIST-1e  39.0  False   \n",
       "186      0210_01        NaN      True     D/6/P  55 Cancri e  24.0  False   \n",
       "225      0242_01        NaN     False    F/46/S  TRAPPIST-1e  18.0  False   \n",
       "234      0251_01        NaN      True    C/11/S  55 Cancri e  54.0  False   \n",
       "...          ...        ...       ...       ...          ...   ...    ...   \n",
       "8515     9084_01        NaN     False   E/582/P  TRAPPIST-1e  25.0  False   \n",
       "8613     9194_01        NaN     False   E/603/S  55 Cancri e  53.0  False   \n",
       "8666     9248_01        NaN     False  F/1792/S  55 Cancri e  38.0    NaN   \n",
       "8674     9257_01        NaN     False  F/1892/P  TRAPPIST-1e  13.0  False   \n",
       "8684     9274_01        NaN      True  G/1508/P  TRAPPIST-1e  23.0  False   \n",
       "\n",
       "      RoomService  FoodCourt  ShoppingMall    Spa  VRDeck  Transported  \\\n",
       "59            0.0        0.0           0.0    0.0     0.0         True   \n",
       "113           0.0     2344.0           0.0   65.0  6898.0        False   \n",
       "186           0.0        0.0           0.0    0.0     0.0         True   \n",
       "225         313.0        1.0         691.0  283.0     0.0        False   \n",
       "234           0.0        0.0           0.0    0.0     0.0         True   \n",
       "...           ...        ...           ...    ...     ...          ...   \n",
       "8515       1258.0        0.0          22.0   19.0     0.0        False   \n",
       "8613          0.0     4017.0           0.0   13.0  3147.0        False   \n",
       "8666         28.0     1208.0         973.0  207.0     0.0         True   \n",
       "8674         39.0        0.0        1085.0   24.0     0.0        False   \n",
       "8684          0.0        0.0           0.0    0.0     0.0         True   \n",
       "\n",
       "       surname group_num  num_w_in_group deck room_num side  num_in_group  \\\n",
       "59        Keen      0064               2    E        3    S             2   \n",
       "113     Coning      0119               1    A        0    P             2   \n",
       "186    Inicont      0210               1    D        6    P             1   \n",
       "225        Sté      0242               1    F       46    S             1   \n",
       "234     Amsive      0251               1    C       11    S             1   \n",
       "...        ...       ...             ...  ...      ...  ...           ...   \n",
       "8515      Mone      9084               1    E      582    P             1   \n",
       "8613       NaN      9194               1    E      603    S             2   \n",
       "8666     Perle      9248               1    F     1792    S             1   \n",
       "8674     Apple      9257               1    F     1892    P             1   \n",
       "8684  Bullisey      9274               1    G     1508    P             1   \n",
       "\n",
       "     fam_board_together  \n",
       "59                 True  \n",
       "113               False  \n",
       "186               False  \n",
       "225                True  \n",
       "234                True  \n",
       "...                 ...  \n",
       "8515              False  \n",
       "8613                NaN  \n",
       "8666              False  \n",
       "8674               True  \n",
       "8684               True  \n",
       "\n",
       "[201 rows x 21 columns]"
      ]
     },
     "execution_count": 52,
     "metadata": {},
     "output_type": "execute_result"
    }
   ],
   "source": [
    "df.loc[np.where(df['HomePlanet'].isnull())]"
   ]
  },
  {
   "cell_type": "code",
   "execution_count": 53,
   "metadata": {},
   "outputs": [
    {
     "data": {
      "text/plain": [
       "group_num  HomePlanet\n",
       "0001       Europa        1\n",
       "0002       Earth         1\n",
       "0003       Europa        2\n",
       "0004       Earth         1\n",
       "0005       Earth         1\n",
       "                        ..\n",
       "9275       Europa        3\n",
       "9276       Europa        1\n",
       "9278       Earth         1\n",
       "9279       Earth         1\n",
       "9280       Europa        2\n",
       "Name: HomePlanet, Length: 6107, dtype: int64"
      ]
     },
     "execution_count": 53,
     "metadata": {},
     "output_type": "execute_result"
    }
   ],
   "source": [
    "df.groupby('group_num')['HomePlanet'].value_counts()"
   ]
  },
  {
   "cell_type": "code",
   "execution_count": 54,
   "metadata": {},
   "outputs": [],
   "source": [
    "mode_planet = df.groupby('group_num')['HomePlanet'].apply(lambda x: x.mode(dropna=True))"
   ]
  },
  {
   "cell_type": "code",
   "execution_count": 55,
   "metadata": {},
   "outputs": [
    {
     "data": {
      "text/plain": [
       "group_num   \n",
       "0001       0    Europa\n",
       "0002       0     Earth\n",
       "0003       0    Europa\n",
       "0004       0     Earth\n",
       "0005       0     Earth\n",
       "                 ...  \n",
       "9275       0    Europa\n",
       "9276       0    Europa\n",
       "9278       0     Earth\n",
       "9279       0     Earth\n",
       "9280       0    Europa\n",
       "Name: HomePlanet, Length: 6107, dtype: object"
      ]
     },
     "execution_count": 55,
     "metadata": {},
     "output_type": "execute_result"
    }
   ],
   "source": [
    "mode_planet"
   ]
  },
  {
   "cell_type": "code",
   "execution_count": 56,
   "metadata": {},
   "outputs": [
    {
     "data": {
      "text/plain": [
       "(array([  59,  113,  186,  225,  234,  274,  286,  291,  347,  365,  405,  407,  438,  471,  481,  501,  505,  524,  568,  637,  737,  807,  848,  920,  962,  993,  999, 1004, 1024, 1267, 1307, 1392,\n",
       "        1399, 1550, 1600, 1706, 1714, 1757, 1807, 1855, 1892, 1916, 1926, 2166, 2173, 2227, 2233, 2246, 2274, 2281, 2290, 2322, 2324, 2425, 2442, 2461, 2502, 2544, 2617, 2630, 2631, 2638, 2642, 2715,\n",
       "        2749, 2773, 2791, 2898, 2926, 2969, 3091, 3119, 3168, 3192, 3277, 3281, 3326, 3370, 3433, 3503, 3535, 3560, 3595, 3622, 3635, 3769, 3816, 3858, 3891, 3940, 3946, 3951, 4025, 4089, 4097, 4154,\n",
       "        4172, 4230, 4315, 4343, 4366, 4374, 4535, 4548, 4581, 4632, 4702, 4770, 4817, 4861, 5016, 5024, 5055, 5079, 5081, 5096, 5101, 5112, 5208, 5252, 5316, 5427, 5438, 5465, 5576, 5624, 5634, 5687,\n",
       "        5689, 5699, 5723, 5762, 5904, 5906, 5953, 5988, 6004, 6011, 6030, 6054, 6056, 6154, 6169, 6197, 6205, 6257, 6267, 6450, 6565, 6591, 6609, 6616, 6622, 6629, 6644, 6735, 6737, 6854, 6913, 6917,\n",
       "        6918, 7042, 7116, 7155, 7211, 7218, 7286, 7290, 7293, 7309, 7316, 7339, 7346, 7363, 7434, 7451, 7519, 7539, 7682, 7761, 7771, 7786, 7798, 8023, 8054, 8077, 8251, 8285, 8295, 8319, 8325, 8353,\n",
       "        8383, 8454, 8468, 8489, 8515, 8613, 8666, 8674, 8684]),)"
      ]
     },
     "execution_count": 56,
     "metadata": {},
     "output_type": "execute_result"
    }
   ],
   "source": [
    "np.where(df['HomePlanet'].isnull())"
   ]
  },
  {
   "cell_type": "code",
   "execution_count": 57,
   "metadata": {},
   "outputs": [
    {
     "data": {
      "text/plain": [
       "group_num\n",
       "0001    1\n",
       "0002    1\n",
       "0003    2\n",
       "0004    1\n",
       "0005    1\n",
       "       ..\n",
       "9275    3\n",
       "9276    1\n",
       "9278    1\n",
       "9279    1\n",
       "9280    2\n",
       "Name: HomePlanet, Length: 6217, dtype: int64"
      ]
     },
     "execution_count": 57,
     "metadata": {},
     "output_type": "execute_result"
    }
   ],
   "source": [
    "df.groupby('group_num')['HomePlanet'].size()"
   ]
  },
  {
   "cell_type": "code",
   "execution_count": 58,
   "metadata": {},
   "outputs": [
    {
     "data": {
      "text/html": [
       "<div>\n",
       "<style scoped>\n",
       "    .dataframe tbody tr th:only-of-type {\n",
       "        vertical-align: middle;\n",
       "    }\n",
       "\n",
       "    .dataframe tbody tr th {\n",
       "        vertical-align: top;\n",
       "    }\n",
       "\n",
       "    .dataframe thead th {\n",
       "        text-align: right;\n",
       "    }\n",
       "</style>\n",
       "<table border=\"1\" class=\"dataframe\">\n",
       "  <thead>\n",
       "    <tr style=\"text-align: right;\">\n",
       "      <th></th>\n",
       "      <th>counts</th>\n",
       "    </tr>\n",
       "    <tr>\n",
       "      <th>group_num</th>\n",
       "      <th></th>\n",
       "    </tr>\n",
       "  </thead>\n",
       "  <tbody>\n",
       "    <tr>\n",
       "      <th>0001</th>\n",
       "      <td>1</td>\n",
       "    </tr>\n",
       "    <tr>\n",
       "      <th>0002</th>\n",
       "      <td>1</td>\n",
       "    </tr>\n",
       "    <tr>\n",
       "      <th>0003</th>\n",
       "      <td>2</td>\n",
       "    </tr>\n",
       "    <tr>\n",
       "      <th>0004</th>\n",
       "      <td>1</td>\n",
       "    </tr>\n",
       "    <tr>\n",
       "      <th>0005</th>\n",
       "      <td>1</td>\n",
       "    </tr>\n",
       "    <tr>\n",
       "      <th>...</th>\n",
       "      <td>...</td>\n",
       "    </tr>\n",
       "    <tr>\n",
       "      <th>9275</th>\n",
       "      <td>3</td>\n",
       "    </tr>\n",
       "    <tr>\n",
       "      <th>9276</th>\n",
       "      <td>1</td>\n",
       "    </tr>\n",
       "    <tr>\n",
       "      <th>9278</th>\n",
       "      <td>1</td>\n",
       "    </tr>\n",
       "    <tr>\n",
       "      <th>9279</th>\n",
       "      <td>1</td>\n",
       "    </tr>\n",
       "    <tr>\n",
       "      <th>9280</th>\n",
       "      <td>2</td>\n",
       "    </tr>\n",
       "  </tbody>\n",
       "</table>\n",
       "<p>6217 rows × 1 columns</p>\n",
       "</div>"
      ],
      "text/plain": [
       "           counts\n",
       "group_num        \n",
       "0001            1\n",
       "0002            1\n",
       "0003            2\n",
       "0004            1\n",
       "0005            1\n",
       "...           ...\n",
       "9275            3\n",
       "9276            1\n",
       "9278            1\n",
       "9279            1\n",
       "9280            2\n",
       "\n",
       "[6217 rows x 1 columns]"
      ]
     },
     "execution_count": 58,
     "metadata": {},
     "output_type": "execute_result"
    }
   ],
   "source": [
    "df.groupby('group_num')['HomePlanet'].size().to_frame('counts')"
   ]
  },
  {
   "cell_type": "code",
   "execution_count": 59,
   "metadata": {},
   "outputs": [
    {
     "data": {
      "text/html": [
       "<div>\n",
       "<style scoped>\n",
       "    .dataframe tbody tr th:only-of-type {\n",
       "        vertical-align: middle;\n",
       "    }\n",
       "\n",
       "    .dataframe tbody tr th {\n",
       "        vertical-align: top;\n",
       "    }\n",
       "\n",
       "    .dataframe thead th {\n",
       "        text-align: right;\n",
       "    }\n",
       "</style>\n",
       "<table border=\"1\" class=\"dataframe\">\n",
       "  <thead>\n",
       "    <tr style=\"text-align: right;\">\n",
       "      <th></th>\n",
       "      <th>group_num</th>\n",
       "      <th>counts</th>\n",
       "    </tr>\n",
       "  </thead>\n",
       "  <tbody>\n",
       "    <tr>\n",
       "      <th>0</th>\n",
       "      <td>0001</td>\n",
       "      <td>1</td>\n",
       "    </tr>\n",
       "    <tr>\n",
       "      <th>1</th>\n",
       "      <td>0002</td>\n",
       "      <td>1</td>\n",
       "    </tr>\n",
       "    <tr>\n",
       "      <th>2</th>\n",
       "      <td>0003</td>\n",
       "      <td>2</td>\n",
       "    </tr>\n",
       "    <tr>\n",
       "      <th>3</th>\n",
       "      <td>0004</td>\n",
       "      <td>1</td>\n",
       "    </tr>\n",
       "    <tr>\n",
       "      <th>4</th>\n",
       "      <td>0005</td>\n",
       "      <td>1</td>\n",
       "    </tr>\n",
       "    <tr>\n",
       "      <th>...</th>\n",
       "      <td>...</td>\n",
       "      <td>...</td>\n",
       "    </tr>\n",
       "    <tr>\n",
       "      <th>6212</th>\n",
       "      <td>9275</td>\n",
       "      <td>3</td>\n",
       "    </tr>\n",
       "    <tr>\n",
       "      <th>6213</th>\n",
       "      <td>9276</td>\n",
       "      <td>1</td>\n",
       "    </tr>\n",
       "    <tr>\n",
       "      <th>6214</th>\n",
       "      <td>9278</td>\n",
       "      <td>1</td>\n",
       "    </tr>\n",
       "    <tr>\n",
       "      <th>6215</th>\n",
       "      <td>9279</td>\n",
       "      <td>1</td>\n",
       "    </tr>\n",
       "    <tr>\n",
       "      <th>6216</th>\n",
       "      <td>9280</td>\n",
       "      <td>2</td>\n",
       "    </tr>\n",
       "  </tbody>\n",
       "</table>\n",
       "<p>6217 rows × 2 columns</p>\n",
       "</div>"
      ],
      "text/plain": [
       "     group_num  counts\n",
       "0         0001       1\n",
       "1         0002       1\n",
       "2         0003       2\n",
       "3         0004       1\n",
       "4         0005       1\n",
       "...        ...     ...\n",
       "6212      9275       3\n",
       "6213      9276       1\n",
       "6214      9278       1\n",
       "6215      9279       1\n",
       "6216      9280       2\n",
       "\n",
       "[6217 rows x 2 columns]"
      ]
     },
     "execution_count": 59,
     "metadata": {},
     "output_type": "execute_result"
    }
   ],
   "source": [
    "df.groupby('group_num')['HomePlanet'].size().to_frame('counts').reset_index()"
   ]
  },
  {
   "cell_type": "code",
   "execution_count": 60,
   "metadata": {},
   "outputs": [
    {
     "data": {
      "text/html": [
       "<div>\n",
       "<style scoped>\n",
       "    .dataframe tbody tr th:only-of-type {\n",
       "        vertical-align: middle;\n",
       "    }\n",
       "\n",
       "    .dataframe tbody tr th {\n",
       "        vertical-align: top;\n",
       "    }\n",
       "\n",
       "    .dataframe thead th {\n",
       "        text-align: right;\n",
       "    }\n",
       "</style>\n",
       "<table border=\"1\" class=\"dataframe\">\n",
       "  <thead>\n",
       "    <tr style=\"text-align: right;\">\n",
       "      <th></th>\n",
       "      <th>group_num</th>\n",
       "      <th>counts</th>\n",
       "    </tr>\n",
       "  </thead>\n",
       "  <tbody>\n",
       "    <tr>\n",
       "      <th>0</th>\n",
       "      <td>0001</td>\n",
       "      <td>1</td>\n",
       "    </tr>\n",
       "    <tr>\n",
       "      <th>3872</th>\n",
       "      <td>5751</td>\n",
       "      <td>1</td>\n",
       "    </tr>\n",
       "    <tr>\n",
       "      <th>3871</th>\n",
       "      <td>5750</td>\n",
       "      <td>1</td>\n",
       "    </tr>\n",
       "    <tr>\n",
       "      <th>3870</th>\n",
       "      <td>5748</td>\n",
       "      <td>1</td>\n",
       "    </tr>\n",
       "    <tr>\n",
       "      <th>3869</th>\n",
       "      <td>5747</td>\n",
       "      <td>1</td>\n",
       "    </tr>\n",
       "    <tr>\n",
       "      <th>...</th>\n",
       "      <td>...</td>\n",
       "      <td>...</td>\n",
       "    </tr>\n",
       "    <tr>\n",
       "      <th>654</th>\n",
       "      <td>0984</td>\n",
       "      <td>8</td>\n",
       "    </tr>\n",
       "    <tr>\n",
       "      <th>3023</th>\n",
       "      <td>4498</td>\n",
       "      <td>8</td>\n",
       "    </tr>\n",
       "    <tr>\n",
       "      <th>2858</th>\n",
       "      <td>4256</td>\n",
       "      <td>8</td>\n",
       "    </tr>\n",
       "    <tr>\n",
       "      <th>5893</th>\n",
       "      <td>8796</td>\n",
       "      <td>8</td>\n",
       "    </tr>\n",
       "    <tr>\n",
       "      <th>6000</th>\n",
       "      <td>8956</td>\n",
       "      <td>8</td>\n",
       "    </tr>\n",
       "  </tbody>\n",
       "</table>\n",
       "<p>6217 rows × 2 columns</p>\n",
       "</div>"
      ],
      "text/plain": [
       "     group_num  counts\n",
       "0         0001       1\n",
       "3872      5751       1\n",
       "3871      5750       1\n",
       "3870      5748       1\n",
       "3869      5747       1\n",
       "...        ...     ...\n",
       "654       0984       8\n",
       "3023      4498       8\n",
       "2858      4256       8\n",
       "5893      8796       8\n",
       "6000      8956       8\n",
       "\n",
       "[6217 rows x 2 columns]"
      ]
     },
     "execution_count": 60,
     "metadata": {},
     "output_type": "execute_result"
    }
   ],
   "source": [
    "df.groupby('group_num')['HomePlanet'].size().to_frame('counts').reset_index().sort_values('counts')"
   ]
  },
  {
   "cell_type": "code",
   "execution_count": 61,
   "metadata": {},
   "outputs": [
    {
     "data": {
      "text/html": [
       "<div>\n",
       "<style scoped>\n",
       "    .dataframe tbody tr th:only-of-type {\n",
       "        vertical-align: middle;\n",
       "    }\n",
       "\n",
       "    .dataframe tbody tr th {\n",
       "        vertical-align: top;\n",
       "    }\n",
       "\n",
       "    .dataframe thead th {\n",
       "        text-align: right;\n",
       "    }\n",
       "</style>\n",
       "<table border=\"1\" class=\"dataframe\">\n",
       "  <thead>\n",
       "    <tr style=\"text-align: right;\">\n",
       "      <th></th>\n",
       "      <th>group_num</th>\n",
       "      <th>counts</th>\n",
       "    </tr>\n",
       "  </thead>\n",
       "  <tbody>\n",
       "    <tr>\n",
       "      <th>3023</th>\n",
       "      <td>4498</td>\n",
       "      <td>8</td>\n",
       "    </tr>\n",
       "    <tr>\n",
       "      <th>5487</th>\n",
       "      <td>8168</td>\n",
       "      <td>8</td>\n",
       "    </tr>\n",
       "    <tr>\n",
       "      <th>5851</th>\n",
       "      <td>8728</td>\n",
       "      <td>8</td>\n",
       "    </tr>\n",
       "    <tr>\n",
       "      <th>5893</th>\n",
       "      <td>8796</td>\n",
       "      <td>8</td>\n",
       "    </tr>\n",
       "    <tr>\n",
       "      <th>6000</th>\n",
       "      <td>8956</td>\n",
       "      <td>8</td>\n",
       "    </tr>\n",
       "    <tr>\n",
       "      <th>...</th>\n",
       "      <td>...</td>\n",
       "      <td>...</td>\n",
       "    </tr>\n",
       "    <tr>\n",
       "      <th>2334</th>\n",
       "      <td>3483</td>\n",
       "      <td>1</td>\n",
       "    </tr>\n",
       "    <tr>\n",
       "      <th>2333</th>\n",
       "      <td>3480</td>\n",
       "      <td>1</td>\n",
       "    </tr>\n",
       "    <tr>\n",
       "      <th>2332</th>\n",
       "      <td>3478</td>\n",
       "      <td>1</td>\n",
       "    </tr>\n",
       "    <tr>\n",
       "      <th>2328</th>\n",
       "      <td>3473</td>\n",
       "      <td>1</td>\n",
       "    </tr>\n",
       "    <tr>\n",
       "      <th>3108</th>\n",
       "      <td>4620</td>\n",
       "      <td>1</td>\n",
       "    </tr>\n",
       "  </tbody>\n",
       "</table>\n",
       "<p>6217 rows × 2 columns</p>\n",
       "</div>"
      ],
      "text/plain": [
       "     group_num  counts\n",
       "3023      4498       8\n",
       "5487      8168       8\n",
       "5851      8728       8\n",
       "5893      8796       8\n",
       "6000      8956       8\n",
       "...        ...     ...\n",
       "2334      3483       1\n",
       "2333      3480       1\n",
       "2332      3478       1\n",
       "2328      3473       1\n",
       "3108      4620       1\n",
       "\n",
       "[6217 rows x 2 columns]"
      ]
     },
     "execution_count": 61,
     "metadata": {},
     "output_type": "execute_result"
    }
   ],
   "source": [
    "df.groupby('group_num')['HomePlanet'].size().to_frame('counts').reset_index().sort_values('counts', ascending=False)"
   ]
  },
  {
   "cell_type": "code",
   "execution_count": 62,
   "metadata": {},
   "outputs": [
    {
     "data": {
      "text/html": [
       "<div>\n",
       "<style scoped>\n",
       "    .dataframe tbody tr th:only-of-type {\n",
       "        vertical-align: middle;\n",
       "    }\n",
       "\n",
       "    .dataframe tbody tr th {\n",
       "        vertical-align: top;\n",
       "    }\n",
       "\n",
       "    .dataframe thead th {\n",
       "        text-align: right;\n",
       "    }\n",
       "</style>\n",
       "<table border=\"1\" class=\"dataframe\">\n",
       "  <thead>\n",
       "    <tr style=\"text-align: right;\">\n",
       "      <th></th>\n",
       "      <th>group_num</th>\n",
       "      <th>counts</th>\n",
       "    </tr>\n",
       "  </thead>\n",
       "  <tbody>\n",
       "    <tr>\n",
       "      <th>3023</th>\n",
       "      <td>4498</td>\n",
       "      <td>8</td>\n",
       "    </tr>\n",
       "    <tr>\n",
       "      <th>5487</th>\n",
       "      <td>8168</td>\n",
       "      <td>8</td>\n",
       "    </tr>\n",
       "    <tr>\n",
       "      <th>5851</th>\n",
       "      <td>8728</td>\n",
       "      <td>8</td>\n",
       "    </tr>\n",
       "    <tr>\n",
       "      <th>5893</th>\n",
       "      <td>8796</td>\n",
       "      <td>8</td>\n",
       "    </tr>\n",
       "    <tr>\n",
       "      <th>6000</th>\n",
       "      <td>8956</td>\n",
       "      <td>8</td>\n",
       "    </tr>\n",
       "    <tr>\n",
       "      <th>...</th>\n",
       "      <td>...</td>\n",
       "      <td>...</td>\n",
       "    </tr>\n",
       "    <tr>\n",
       "      <th>2334</th>\n",
       "      <td>3483</td>\n",
       "      <td>1</td>\n",
       "    </tr>\n",
       "    <tr>\n",
       "      <th>2333</th>\n",
       "      <td>3480</td>\n",
       "      <td>1</td>\n",
       "    </tr>\n",
       "    <tr>\n",
       "      <th>2332</th>\n",
       "      <td>3478</td>\n",
       "      <td>1</td>\n",
       "    </tr>\n",
       "    <tr>\n",
       "      <th>2328</th>\n",
       "      <td>3473</td>\n",
       "      <td>1</td>\n",
       "    </tr>\n",
       "    <tr>\n",
       "      <th>3108</th>\n",
       "      <td>4620</td>\n",
       "      <td>1</td>\n",
       "    </tr>\n",
       "  </tbody>\n",
       "</table>\n",
       "<p>6217 rows × 2 columns</p>\n",
       "</div>"
      ],
      "text/plain": [
       "     group_num  counts\n",
       "3023      4498       8\n",
       "5487      8168       8\n",
       "5851      8728       8\n",
       "5893      8796       8\n",
       "6000      8956       8\n",
       "...        ...     ...\n",
       "2334      3483       1\n",
       "2333      3480       1\n",
       "2332      3478       1\n",
       "2328      3473       1\n",
       "3108      4620       1\n",
       "\n",
       "[6217 rows x 2 columns]"
      ]
     },
     "execution_count": 62,
     "metadata": {},
     "output_type": "execute_result"
    }
   ],
   "source": [
    "df.groupby('group_num')['HomePlanet'].size().to_frame('counts') \\\n",
    "  .reset_index().sort_values('counts', ascending=False) \\\n",
    "  .drop_duplicates()"
   ]
  },
  {
   "cell_type": "code",
   "execution_count": 63,
   "metadata": {},
   "outputs": [
    {
     "data": {
      "text/html": [
       "<div>\n",
       "<style scoped>\n",
       "    .dataframe tbody tr th:only-of-type {\n",
       "        vertical-align: middle;\n",
       "    }\n",
       "\n",
       "    .dataframe tbody tr th {\n",
       "        vertical-align: top;\n",
       "    }\n",
       "\n",
       "    .dataframe thead th {\n",
       "        text-align: right;\n",
       "    }\n",
       "</style>\n",
       "<table border=\"1\" class=\"dataframe\">\n",
       "  <thead>\n",
       "    <tr style=\"text-align: right;\">\n",
       "      <th></th>\n",
       "      <th>group_num</th>\n",
       "      <th>counts</th>\n",
       "    </tr>\n",
       "  </thead>\n",
       "  <tbody>\n",
       "    <tr>\n",
       "      <th>3023</th>\n",
       "      <td>4498</td>\n",
       "      <td>8</td>\n",
       "    </tr>\n",
       "    <tr>\n",
       "      <th>5487</th>\n",
       "      <td>8168</td>\n",
       "      <td>8</td>\n",
       "    </tr>\n",
       "    <tr>\n",
       "      <th>5851</th>\n",
       "      <td>8728</td>\n",
       "      <td>8</td>\n",
       "    </tr>\n",
       "    <tr>\n",
       "      <th>5893</th>\n",
       "      <td>8796</td>\n",
       "      <td>8</td>\n",
       "    </tr>\n",
       "    <tr>\n",
       "      <th>6000</th>\n",
       "      <td>8956</td>\n",
       "      <td>8</td>\n",
       "    </tr>\n",
       "    <tr>\n",
       "      <th>...</th>\n",
       "      <td>...</td>\n",
       "      <td>...</td>\n",
       "    </tr>\n",
       "    <tr>\n",
       "      <th>2334</th>\n",
       "      <td>3483</td>\n",
       "      <td>1</td>\n",
       "    </tr>\n",
       "    <tr>\n",
       "      <th>2333</th>\n",
       "      <td>3480</td>\n",
       "      <td>1</td>\n",
       "    </tr>\n",
       "    <tr>\n",
       "      <th>2332</th>\n",
       "      <td>3478</td>\n",
       "      <td>1</td>\n",
       "    </tr>\n",
       "    <tr>\n",
       "      <th>2328</th>\n",
       "      <td>3473</td>\n",
       "      <td>1</td>\n",
       "    </tr>\n",
       "    <tr>\n",
       "      <th>3108</th>\n",
       "      <td>4620</td>\n",
       "      <td>1</td>\n",
       "    </tr>\n",
       "  </tbody>\n",
       "</table>\n",
       "<p>6217 rows × 2 columns</p>\n",
       "</div>"
      ],
      "text/plain": [
       "     group_num  counts\n",
       "3023      4498       8\n",
       "5487      8168       8\n",
       "5851      8728       8\n",
       "5893      8796       8\n",
       "6000      8956       8\n",
       "...        ...     ...\n",
       "2334      3483       1\n",
       "2333      3480       1\n",
       "2332      3478       1\n",
       "2328      3473       1\n",
       "3108      4620       1\n",
       "\n",
       "[6217 rows x 2 columns]"
      ]
     },
     "execution_count": 63,
     "metadata": {},
     "output_type": "execute_result"
    }
   ],
   "source": [
    "df.groupby('group_num')['HomePlanet'].size().to_frame('counts') \\\n",
    "  .reset_index().sort_values('counts', ascending=False) \\\n",
    "  .drop_duplicates(subset='group_num')"
   ]
  },
  {
   "cell_type": "code",
   "execution_count": 64,
   "metadata": {},
   "outputs": [
    {
     "data": {
      "text/html": [
       "<div>\n",
       "<style scoped>\n",
       "    .dataframe tbody tr th:only-of-type {\n",
       "        vertical-align: middle;\n",
       "    }\n",
       "\n",
       "    .dataframe tbody tr th {\n",
       "        vertical-align: top;\n",
       "    }\n",
       "\n",
       "    .dataframe thead th {\n",
       "        text-align: right;\n",
       "    }\n",
       "</style>\n",
       "<table border=\"1\" class=\"dataframe\">\n",
       "  <thead>\n",
       "    <tr style=\"text-align: right;\">\n",
       "      <th></th>\n",
       "      <th>group_num</th>\n",
       "    </tr>\n",
       "  </thead>\n",
       "  <tbody>\n",
       "    <tr>\n",
       "      <th>3023</th>\n",
       "      <td>4498</td>\n",
       "    </tr>\n",
       "    <tr>\n",
       "      <th>5487</th>\n",
       "      <td>8168</td>\n",
       "    </tr>\n",
       "    <tr>\n",
       "      <th>5851</th>\n",
       "      <td>8728</td>\n",
       "    </tr>\n",
       "    <tr>\n",
       "      <th>5893</th>\n",
       "      <td>8796</td>\n",
       "    </tr>\n",
       "    <tr>\n",
       "      <th>6000</th>\n",
       "      <td>8956</td>\n",
       "    </tr>\n",
       "    <tr>\n",
       "      <th>...</th>\n",
       "      <td>...</td>\n",
       "    </tr>\n",
       "    <tr>\n",
       "      <th>2334</th>\n",
       "      <td>3483</td>\n",
       "    </tr>\n",
       "    <tr>\n",
       "      <th>2333</th>\n",
       "      <td>3480</td>\n",
       "    </tr>\n",
       "    <tr>\n",
       "      <th>2332</th>\n",
       "      <td>3478</td>\n",
       "    </tr>\n",
       "    <tr>\n",
       "      <th>2328</th>\n",
       "      <td>3473</td>\n",
       "    </tr>\n",
       "    <tr>\n",
       "      <th>3108</th>\n",
       "      <td>4620</td>\n",
       "    </tr>\n",
       "  </tbody>\n",
       "</table>\n",
       "<p>6217 rows × 1 columns</p>\n",
       "</div>"
      ],
      "text/plain": [
       "     group_num\n",
       "3023      4498\n",
       "5487      8168\n",
       "5851      8728\n",
       "5893      8796\n",
       "6000      8956\n",
       "...        ...\n",
       "2334      3483\n",
       "2333      3480\n",
       "2332      3478\n",
       "2328      3473\n",
       "3108      4620\n",
       "\n",
       "[6217 rows x 1 columns]"
      ]
     },
     "execution_count": 64,
     "metadata": {},
     "output_type": "execute_result"
    }
   ],
   "source": [
    "df.groupby('group_num')['HomePlanet'].size().to_frame('counts') \\\n",
    "  .reset_index().sort_values('counts', ascending=False) \\\n",
    "  .drop_duplicates(subset='group_num').drop(columns='counts')"
   ]
  },
  {
   "cell_type": "code",
   "execution_count": 65,
   "metadata": {},
   "outputs": [
    {
     "data": {
      "text/plain": [
       "group_num   \n",
       "0001       0    Europa\n",
       "0002       0     Earth\n",
       "0003       0    Europa\n",
       "0004       0     Earth\n",
       "0005       0     Earth\n",
       "Name: HomePlanet, dtype: object"
      ]
     },
     "execution_count": 65,
     "metadata": {},
     "output_type": "execute_result"
    }
   ],
   "source": [
    "mode_planet.head()"
   ]
  },
  {
   "attachments": {},
   "cell_type": "markdown",
   "metadata": {},
   "source": [
    "Final Replacements:"
   ]
  },
  {
   "cell_type": "code",
   "execution_count": 66,
   "metadata": {},
   "outputs": [],
   "source": [
    "# create a function to replace NaN values with mode values\n",
    "def fillna_mode(group):\n",
    "    mode_series = group['HomePlanet'].mode()\n",
    "    if mode_series.empty:\n",
    "        # if mode Series is empty, return the original group\n",
    "        return group\n",
    "    else:\n",
    "        # otherwise, fill NaN values with the mode value\n",
    "        mode_value = mode_series[0]\n",
    "        group['HomePlanet'].fillna(mode_value, inplace=True)\n",
    "        return group\n"
   ]
  },
  {
   "cell_type": "code",
   "execution_count": 67,
   "metadata": {},
   "outputs": [],
   "source": [
    "# apply the function to each group\n",
    "df = df.groupby('group_num', group_keys=False).apply(fillna_mode)"
   ]
  },
  {
   "cell_type": "code",
   "execution_count": 68,
   "metadata": {},
   "outputs": [
    {
     "data": {
      "text/plain": [
       "87"
      ]
     },
     "execution_count": 68,
     "metadata": {},
     "output_type": "execute_result"
    }
   ],
   "source": [
    "test_df['HomePlanet'].isnull().sum()"
   ]
  },
  {
   "cell_type": "code",
   "execution_count": 69,
   "metadata": {},
   "outputs": [],
   "source": [
    "test_df = test_df.groupby('group_num', group_keys=False).apply(fillna_mode)"
   ]
  },
  {
   "cell_type": "code",
   "execution_count": 70,
   "metadata": {},
   "outputs": [
    {
     "data": {
      "text/plain": [
       "46"
      ]
     },
     "execution_count": 70,
     "metadata": {},
     "output_type": "execute_result"
    }
   ],
   "source": [
    "test_df['HomePlanet'].isnull().sum()"
   ]
  },
  {
   "cell_type": "code",
   "execution_count": 71,
   "metadata": {},
   "outputs": [],
   "source": [
    "# create a function to replace NaN values with mode values\n",
    "def fillna_mode_dest(group):\n",
    "    mode_series = group['Destination'].mode()\n",
    "    if mode_series.empty:\n",
    "        # if mode Series is empty, return the original group\n",
    "        return group\n",
    "    else:\n",
    "        # otherwise, fill NaN values with the mode value\n",
    "        mode_value = mode_series[0]\n",
    "        group['Destination'].fillna(mode_value, inplace=True)\n",
    "        return group\n"
   ]
  },
  {
   "cell_type": "code",
   "execution_count": 72,
   "metadata": {},
   "outputs": [
    {
     "data": {
      "text/plain": [
       "182"
      ]
     },
     "execution_count": 72,
     "metadata": {},
     "output_type": "execute_result"
    }
   ],
   "source": [
    "df['Destination'].isnull().sum()"
   ]
  },
  {
   "cell_type": "code",
   "execution_count": 73,
   "metadata": {},
   "outputs": [],
   "source": [
    "df = df.groupby('group_num', group_keys=False).apply(fillna_mode_dest)"
   ]
  },
  {
   "cell_type": "code",
   "execution_count": 74,
   "metadata": {},
   "outputs": [
    {
     "data": {
      "text/plain": [
       "103"
      ]
     },
     "execution_count": 74,
     "metadata": {},
     "output_type": "execute_result"
    }
   ],
   "source": [
    "df['Destination'].isnull().sum()"
   ]
  },
  {
   "cell_type": "code",
   "execution_count": 75,
   "metadata": {},
   "outputs": [
    {
     "data": {
      "text/plain": [
       "92"
      ]
     },
     "execution_count": 75,
     "metadata": {},
     "output_type": "execute_result"
    }
   ],
   "source": [
    "test_df['Destination'].isnull().sum()"
   ]
  },
  {
   "cell_type": "code",
   "execution_count": 76,
   "metadata": {},
   "outputs": [],
   "source": [
    "test_df = test_df.groupby('group_num', group_keys=False).apply(fillna_mode_dest)"
   ]
  },
  {
   "cell_type": "code",
   "execution_count": 77,
   "metadata": {},
   "outputs": [
    {
     "data": {
      "text/plain": [
       "51"
      ]
     },
     "execution_count": 77,
     "metadata": {},
     "output_type": "execute_result"
    }
   ],
   "source": [
    "test_df['Destination'].isnull().sum()"
   ]
  },
  {
   "cell_type": "code",
   "execution_count": 78,
   "metadata": {},
   "outputs": [
    {
     "data": {
      "text/html": [
       "<div>\n",
       "<style scoped>\n",
       "    .dataframe tbody tr th:only-of-type {\n",
       "        vertical-align: middle;\n",
       "    }\n",
       "\n",
       "    .dataframe tbody tr th {\n",
       "        vertical-align: top;\n",
       "    }\n",
       "\n",
       "    .dataframe thead th {\n",
       "        text-align: right;\n",
       "    }\n",
       "</style>\n",
       "<table border=\"1\" class=\"dataframe\">\n",
       "  <thead>\n",
       "    <tr style=\"text-align: right;\">\n",
       "      <th></th>\n",
       "      <th>PassengerId</th>\n",
       "      <th>HomePlanet</th>\n",
       "      <th>CryoSleep</th>\n",
       "      <th>Cabin</th>\n",
       "      <th>Destination</th>\n",
       "      <th>Age</th>\n",
       "      <th>VIP</th>\n",
       "      <th>RoomService</th>\n",
       "      <th>FoodCourt</th>\n",
       "      <th>ShoppingMall</th>\n",
       "      <th>Spa</th>\n",
       "      <th>VRDeck</th>\n",
       "      <th>Transported</th>\n",
       "      <th>surname</th>\n",
       "      <th>group_num</th>\n",
       "      <th>num_w_in_group</th>\n",
       "      <th>deck</th>\n",
       "      <th>room_num</th>\n",
       "      <th>side</th>\n",
       "      <th>num_in_group</th>\n",
       "      <th>fam_board_together</th>\n",
       "    </tr>\n",
       "  </thead>\n",
       "  <tbody>\n",
       "    <tr>\n",
       "      <th>0</th>\n",
       "      <td>0001_01</td>\n",
       "      <td>Europa</td>\n",
       "      <td>False</td>\n",
       "      <td>B/0/P</td>\n",
       "      <td>TRAPPIST-1e</td>\n",
       "      <td>39.0</td>\n",
       "      <td>False</td>\n",
       "      <td>0.0</td>\n",
       "      <td>0.0</td>\n",
       "      <td>0.0</td>\n",
       "      <td>0.0</td>\n",
       "      <td>0.0</td>\n",
       "      <td>False</td>\n",
       "      <td>Ofracculy</td>\n",
       "      <td>0001</td>\n",
       "      <td>1</td>\n",
       "      <td>B</td>\n",
       "      <td>0</td>\n",
       "      <td>P</td>\n",
       "      <td>1</td>\n",
       "      <td>True</td>\n",
       "    </tr>\n",
       "    <tr>\n",
       "      <th>1</th>\n",
       "      <td>0002_01</td>\n",
       "      <td>Earth</td>\n",
       "      <td>False</td>\n",
       "      <td>F/0/S</td>\n",
       "      <td>TRAPPIST-1e</td>\n",
       "      <td>24.0</td>\n",
       "      <td>False</td>\n",
       "      <td>109.0</td>\n",
       "      <td>9.0</td>\n",
       "      <td>25.0</td>\n",
       "      <td>549.0</td>\n",
       "      <td>44.0</td>\n",
       "      <td>True</td>\n",
       "      <td>Vines</td>\n",
       "      <td>0002</td>\n",
       "      <td>1</td>\n",
       "      <td>F</td>\n",
       "      <td>0</td>\n",
       "      <td>S</td>\n",
       "      <td>1</td>\n",
       "      <td>True</td>\n",
       "    </tr>\n",
       "    <tr>\n",
       "      <th>2</th>\n",
       "      <td>0003_01</td>\n",
       "      <td>Europa</td>\n",
       "      <td>False</td>\n",
       "      <td>A/0/S</td>\n",
       "      <td>TRAPPIST-1e</td>\n",
       "      <td>58.0</td>\n",
       "      <td>True</td>\n",
       "      <td>43.0</td>\n",
       "      <td>3576.0</td>\n",
       "      <td>0.0</td>\n",
       "      <td>6715.0</td>\n",
       "      <td>49.0</td>\n",
       "      <td>False</td>\n",
       "      <td>Susent</td>\n",
       "      <td>0003</td>\n",
       "      <td>1</td>\n",
       "      <td>A</td>\n",
       "      <td>0</td>\n",
       "      <td>S</td>\n",
       "      <td>2</td>\n",
       "      <td>False</td>\n",
       "    </tr>\n",
       "    <tr>\n",
       "      <th>3</th>\n",
       "      <td>0003_02</td>\n",
       "      <td>Europa</td>\n",
       "      <td>False</td>\n",
       "      <td>A/0/S</td>\n",
       "      <td>TRAPPIST-1e</td>\n",
       "      <td>33.0</td>\n",
       "      <td>False</td>\n",
       "      <td>0.0</td>\n",
       "      <td>1283.0</td>\n",
       "      <td>371.0</td>\n",
       "      <td>3329.0</td>\n",
       "      <td>193.0</td>\n",
       "      <td>False</td>\n",
       "      <td>Susent</td>\n",
       "      <td>0003</td>\n",
       "      <td>2</td>\n",
       "      <td>A</td>\n",
       "      <td>0</td>\n",
       "      <td>S</td>\n",
       "      <td>2</td>\n",
       "      <td>False</td>\n",
       "    </tr>\n",
       "    <tr>\n",
       "      <th>4</th>\n",
       "      <td>0004_01</td>\n",
       "      <td>Earth</td>\n",
       "      <td>False</td>\n",
       "      <td>F/1/S</td>\n",
       "      <td>TRAPPIST-1e</td>\n",
       "      <td>16.0</td>\n",
       "      <td>False</td>\n",
       "      <td>303.0</td>\n",
       "      <td>70.0</td>\n",
       "      <td>151.0</td>\n",
       "      <td>565.0</td>\n",
       "      <td>2.0</td>\n",
       "      <td>True</td>\n",
       "      <td>Santantines</td>\n",
       "      <td>0004</td>\n",
       "      <td>1</td>\n",
       "      <td>F</td>\n",
       "      <td>1</td>\n",
       "      <td>S</td>\n",
       "      <td>1</td>\n",
       "      <td>False</td>\n",
       "    </tr>\n",
       "  </tbody>\n",
       "</table>\n",
       "</div>"
      ],
      "text/plain": [
       "  PassengerId HomePlanet CryoSleep  Cabin  Destination   Age    VIP  \\\n",
       "0     0001_01     Europa     False  B/0/P  TRAPPIST-1e  39.0  False   \n",
       "1     0002_01      Earth     False  F/0/S  TRAPPIST-1e  24.0  False   \n",
       "2     0003_01     Europa     False  A/0/S  TRAPPIST-1e  58.0   True   \n",
       "3     0003_02     Europa     False  A/0/S  TRAPPIST-1e  33.0  False   \n",
       "4     0004_01      Earth     False  F/1/S  TRAPPIST-1e  16.0  False   \n",
       "\n",
       "   RoomService  FoodCourt  ShoppingMall     Spa  VRDeck  Transported  \\\n",
       "0          0.0        0.0           0.0     0.0     0.0        False   \n",
       "1        109.0        9.0          25.0   549.0    44.0         True   \n",
       "2         43.0     3576.0           0.0  6715.0    49.0        False   \n",
       "3          0.0     1283.0         371.0  3329.0   193.0        False   \n",
       "4        303.0       70.0         151.0   565.0     2.0         True   \n",
       "\n",
       "       surname group_num  num_w_in_group deck room_num side  num_in_group  \\\n",
       "0    Ofracculy      0001               1    B        0    P             1   \n",
       "1        Vines      0002               1    F        0    S             1   \n",
       "2       Susent      0003               1    A        0    S             2   \n",
       "3       Susent      0003               2    A        0    S             2   \n",
       "4  Santantines      0004               1    F        1    S             1   \n",
       "\n",
       "  fam_board_together  \n",
       "0               True  \n",
       "1               True  \n",
       "2              False  \n",
       "3              False  \n",
       "4              False  "
      ]
     },
     "execution_count": 78,
     "metadata": {},
     "output_type": "execute_result"
    }
   ],
   "source": [
    "df.head(n=5)"
   ]
  },
  {
   "cell_type": "code",
   "execution_count": 79,
   "metadata": {},
   "outputs": [
    {
     "data": {
      "text/plain": [
       "111"
      ]
     },
     "execution_count": 79,
     "metadata": {},
     "output_type": "execute_result"
    }
   ],
   "source": [
    "df['HomePlanet'].isnull().sum()"
   ]
  },
  {
   "attachments": {},
   "cell_type": "markdown",
   "metadata": {},
   "source": [
    "#### Check Nulls"
   ]
  },
  {
   "cell_type": "code",
   "execution_count": 80,
   "metadata": {},
   "outputs": [
    {
     "data": {
      "text/html": [
       "<style type=\"text/css\">\n",
       "#T_3178e_row0_col1 {\n",
       "  background-color: #ffff66;\n",
       "  color: #000000;\n",
       "}\n",
       "#T_3178e_row1_col1, #T_3178e_row2_col1 {\n",
       "  background-color: #fcfe66;\n",
       "  color: #000000;\n",
       "}\n",
       "#T_3178e_row3_col1, #T_3178e_row4_col1, #T_3178e_row5_col1, #T_3178e_row6_col1 {\n",
       "  background-color: #fafc66;\n",
       "  color: #000000;\n",
       "}\n",
       "#T_3178e_row7_col1 {\n",
       "  background-color: #e1f066;\n",
       "  color: #000000;\n",
       "}\n",
       "#T_3178e_row8_col1 {\n",
       "  background-color: #8bc566;\n",
       "  color: #000000;\n",
       "}\n",
       "#T_3178e_row9_col1 {\n",
       "  background-color: #81c066;\n",
       "  color: #000000;\n",
       "}\n",
       "#T_3178e_row10_col1, #T_3178e_row11_col1, #T_3178e_row12_col1, #T_3178e_row13_col1, #T_3178e_row14_col1, #T_3178e_row15_col1, #T_3178e_row16_col1, #T_3178e_row17_col1, #T_3178e_row18_col1, #T_3178e_row19_col1 {\n",
       "  background-color: #008066;\n",
       "  color: #f1f1f1;\n",
       "}\n",
       "</style>\n",
       "<table id=\"T_3178e\">\n",
       "  <thead>\n",
       "    <tr>\n",
       "      <th class=\"blank level0\" >&nbsp;</th>\n",
       "      <th id=\"T_3178e_level0_col0\" class=\"col_heading level0 col0\" >column_name</th>\n",
       "      <th id=\"T_3178e_level0_col1\" class=\"col_heading level0 col1\" >null_counts</th>\n",
       "    </tr>\n",
       "  </thead>\n",
       "  <tbody>\n",
       "    <tr>\n",
       "      <th id=\"T_3178e_level0_row0\" class=\"row_heading level0 row0\" >0</th>\n",
       "      <td id=\"T_3178e_row0_col0\" class=\"data row0 col0\" >VIP</td>\n",
       "      <td id=\"T_3178e_row0_col1\" class=\"data row0 col1\" >203</td>\n",
       "    </tr>\n",
       "    <tr>\n",
       "      <th id=\"T_3178e_level0_row1\" class=\"row_heading level0 row1\" >1</th>\n",
       "      <td id=\"T_3178e_row1_col0\" class=\"data row1 col0\" >fam_board_together</td>\n",
       "      <td id=\"T_3178e_row1_col1\" class=\"data row1 col1\" >200</td>\n",
       "    </tr>\n",
       "    <tr>\n",
       "      <th id=\"T_3178e_level0_row2\" class=\"row_heading level0 row2\" >2</th>\n",
       "      <td id=\"T_3178e_row2_col0\" class=\"data row2 col0\" >surname</td>\n",
       "      <td id=\"T_3178e_row2_col1\" class=\"data row2 col1\" >200</td>\n",
       "    </tr>\n",
       "    <tr>\n",
       "      <th id=\"T_3178e_level0_row3\" class=\"row_heading level0 row3\" >3</th>\n",
       "      <td id=\"T_3178e_row3_col0\" class=\"data row3 col0\" >Cabin</td>\n",
       "      <td id=\"T_3178e_row3_col1\" class=\"data row3 col1\" >199</td>\n",
       "    </tr>\n",
       "    <tr>\n",
       "      <th id=\"T_3178e_level0_row4\" class=\"row_heading level0 row4\" >4</th>\n",
       "      <td id=\"T_3178e_row4_col0\" class=\"data row4 col0\" >side</td>\n",
       "      <td id=\"T_3178e_row4_col1\" class=\"data row4 col1\" >199</td>\n",
       "    </tr>\n",
       "    <tr>\n",
       "      <th id=\"T_3178e_level0_row5\" class=\"row_heading level0 row5\" >5</th>\n",
       "      <td id=\"T_3178e_row5_col0\" class=\"data row5 col0\" >room_num</td>\n",
       "      <td id=\"T_3178e_row5_col1\" class=\"data row5 col1\" >199</td>\n",
       "    </tr>\n",
       "    <tr>\n",
       "      <th id=\"T_3178e_level0_row6\" class=\"row_heading level0 row6\" >6</th>\n",
       "      <td id=\"T_3178e_row6_col0\" class=\"data row6 col0\" >deck</td>\n",
       "      <td id=\"T_3178e_row6_col1\" class=\"data row6 col1\" >199</td>\n",
       "    </tr>\n",
       "    <tr>\n",
       "      <th id=\"T_3178e_level0_row7\" class=\"row_heading level0 row7\" >7</th>\n",
       "      <td id=\"T_3178e_row7_col0\" class=\"data row7 col0\" >Age</td>\n",
       "      <td id=\"T_3178e_row7_col1\" class=\"data row7 col1\" >179</td>\n",
       "    </tr>\n",
       "    <tr>\n",
       "      <th id=\"T_3178e_level0_row8\" class=\"row_heading level0 row8\" >8</th>\n",
       "      <td id=\"T_3178e_row8_col0\" class=\"data row8 col0\" >HomePlanet</td>\n",
       "      <td id=\"T_3178e_row8_col1\" class=\"data row8 col1\" >111</td>\n",
       "    </tr>\n",
       "    <tr>\n",
       "      <th id=\"T_3178e_level0_row9\" class=\"row_heading level0 row9\" >9</th>\n",
       "      <td id=\"T_3178e_row9_col0\" class=\"data row9 col0\" >Destination</td>\n",
       "      <td id=\"T_3178e_row9_col1\" class=\"data row9 col1\" >103</td>\n",
       "    </tr>\n",
       "    <tr>\n",
       "      <th id=\"T_3178e_level0_row10\" class=\"row_heading level0 row10\" >10</th>\n",
       "      <td id=\"T_3178e_row10_col0\" class=\"data row10 col0\" >num_in_group</td>\n",
       "      <td id=\"T_3178e_row10_col1\" class=\"data row10 col1\" >0</td>\n",
       "    </tr>\n",
       "    <tr>\n",
       "      <th id=\"T_3178e_level0_row11\" class=\"row_heading level0 row11\" >11</th>\n",
       "      <td id=\"T_3178e_row11_col0\" class=\"data row11 col0\" >num_w_in_group</td>\n",
       "      <td id=\"T_3178e_row11_col1\" class=\"data row11 col1\" >0</td>\n",
       "    </tr>\n",
       "    <tr>\n",
       "      <th id=\"T_3178e_level0_row12\" class=\"row_heading level0 row12\" >12</th>\n",
       "      <td id=\"T_3178e_row12_col0\" class=\"data row12 col0\" >group_num</td>\n",
       "      <td id=\"T_3178e_row12_col1\" class=\"data row12 col1\" >0</td>\n",
       "    </tr>\n",
       "    <tr>\n",
       "      <th id=\"T_3178e_level0_row13\" class=\"row_heading level0 row13\" >13</th>\n",
       "      <td id=\"T_3178e_row13_col0\" class=\"data row13 col0\" >PassengerId</td>\n",
       "      <td id=\"T_3178e_row13_col1\" class=\"data row13 col1\" >0</td>\n",
       "    </tr>\n",
       "    <tr>\n",
       "      <th id=\"T_3178e_level0_row14\" class=\"row_heading level0 row14\" >15</th>\n",
       "      <td id=\"T_3178e_row14_col0\" class=\"data row14 col0\" >VRDeck</td>\n",
       "      <td id=\"T_3178e_row14_col1\" class=\"data row14 col1\" >0</td>\n",
       "    </tr>\n",
       "    <tr>\n",
       "      <th id=\"T_3178e_level0_row15\" class=\"row_heading level0 row15\" >16</th>\n",
       "      <td id=\"T_3178e_row15_col0\" class=\"data row15 col0\" >ShoppingMall</td>\n",
       "      <td id=\"T_3178e_row15_col1\" class=\"data row15 col1\" >0</td>\n",
       "    </tr>\n",
       "    <tr>\n",
       "      <th id=\"T_3178e_level0_row16\" class=\"row_heading level0 row16\" >17</th>\n",
       "      <td id=\"T_3178e_row16_col0\" class=\"data row16 col0\" >FoodCourt</td>\n",
       "      <td id=\"T_3178e_row16_col1\" class=\"data row16 col1\" >0</td>\n",
       "    </tr>\n",
       "    <tr>\n",
       "      <th id=\"T_3178e_level0_row17\" class=\"row_heading level0 row17\" >18</th>\n",
       "      <td id=\"T_3178e_row17_col0\" class=\"data row17 col0\" >RoomService</td>\n",
       "      <td id=\"T_3178e_row17_col1\" class=\"data row17 col1\" >0</td>\n",
       "    </tr>\n",
       "    <tr>\n",
       "      <th id=\"T_3178e_level0_row18\" class=\"row_heading level0 row18\" >19</th>\n",
       "      <td id=\"T_3178e_row18_col0\" class=\"data row18 col0\" >CryoSleep</td>\n",
       "      <td id=\"T_3178e_row18_col1\" class=\"data row18 col1\" >0</td>\n",
       "    </tr>\n",
       "    <tr>\n",
       "      <th id=\"T_3178e_level0_row19\" class=\"row_heading level0 row19\" >20</th>\n",
       "      <td id=\"T_3178e_row19_col0\" class=\"data row19 col0\" >Spa</td>\n",
       "      <td id=\"T_3178e_row19_col1\" class=\"data row19 col1\" >0</td>\n",
       "    </tr>\n",
       "  </tbody>\n",
       "</table>\n"
      ],
      "text/plain": [
       "<pandas.io.formats.style.Styler at 0x7fe2f828e6e0>"
      ]
     },
     "execution_count": 80,
     "metadata": {},
     "output_type": "execute_result"
    }
   ],
   "source": [
    "def get_null_counts(df):\n",
    "    null_count_df = pd.DataFrame((df.isnull().sum()).sort_values(ascending=False).reset_index())\n",
    "    null_count_df.columns = ['column_name','null_counts']\n",
    "    null_count_df = null_count_df.query(\"column_name!='Transported'\")\n",
    "    return null_count_df\n",
    "\n",
    "null_= get_null_counts(df)\n",
    "null_.style.background_gradient(cmap='summer')"
   ]
  },
  {
   "cell_type": "code",
   "execution_count": 81,
   "metadata": {},
   "outputs": [
    {
     "data": {
      "text/html": [
       "<style type=\"text/css\">\n",
       "#T_e60d6_row0_col1 {\n",
       "  background-color: #00ff80;\n",
       "  color: #000000;\n",
       "}\n",
       "#T_e60d6_row1_col1, #T_e60d6_row2_col1 {\n",
       "  background-color: #00fc81;\n",
       "  color: #000000;\n",
       "}\n",
       "#T_e60d6_row3_col1, #T_e60d6_row4_col1, #T_e60d6_row5_col1, #T_e60d6_row6_col1 {\n",
       "  background-color: #00fa82;\n",
       "  color: #000000;\n",
       "}\n",
       "#T_e60d6_row7_col1 {\n",
       "  background-color: #00e18e;\n",
       "  color: #000000;\n",
       "}\n",
       "#T_e60d6_row8_col1 {\n",
       "  background-color: #008bba;\n",
       "  color: #f1f1f1;\n",
       "}\n",
       "#T_e60d6_row9_col1 {\n",
       "  background-color: #0081be;\n",
       "  color: #f1f1f1;\n",
       "}\n",
       "#T_e60d6_row10_col1, #T_e60d6_row11_col1, #T_e60d6_row12_col1, #T_e60d6_row13_col1, #T_e60d6_row14_col1, #T_e60d6_row15_col1, #T_e60d6_row16_col1, #T_e60d6_row17_col1, #T_e60d6_row18_col1, #T_e60d6_row19_col1 {\n",
       "  background-color: #0000ff;\n",
       "  color: #f1f1f1;\n",
       "}\n",
       "</style>\n",
       "<table id=\"T_e60d6\">\n",
       "  <thead>\n",
       "    <tr>\n",
       "      <th class=\"blank level0\" >&nbsp;</th>\n",
       "      <th id=\"T_e60d6_level0_col0\" class=\"col_heading level0 col0\" >column_name</th>\n",
       "      <th id=\"T_e60d6_level0_col1\" class=\"col_heading level0 col1\" >null_counts</th>\n",
       "    </tr>\n",
       "  </thead>\n",
       "  <tbody>\n",
       "    <tr>\n",
       "      <th id=\"T_e60d6_level0_row0\" class=\"row_heading level0 row0\" >0</th>\n",
       "      <td id=\"T_e60d6_row0_col0\" class=\"data row0 col0\" >VIP</td>\n",
       "      <td id=\"T_e60d6_row0_col1\" class=\"data row0 col1\" >203</td>\n",
       "    </tr>\n",
       "    <tr>\n",
       "      <th id=\"T_e60d6_level0_row1\" class=\"row_heading level0 row1\" >1</th>\n",
       "      <td id=\"T_e60d6_row1_col0\" class=\"data row1 col0\" >fam_board_together</td>\n",
       "      <td id=\"T_e60d6_row1_col1\" class=\"data row1 col1\" >200</td>\n",
       "    </tr>\n",
       "    <tr>\n",
       "      <th id=\"T_e60d6_level0_row2\" class=\"row_heading level0 row2\" >2</th>\n",
       "      <td id=\"T_e60d6_row2_col0\" class=\"data row2 col0\" >surname</td>\n",
       "      <td id=\"T_e60d6_row2_col1\" class=\"data row2 col1\" >200</td>\n",
       "    </tr>\n",
       "    <tr>\n",
       "      <th id=\"T_e60d6_level0_row3\" class=\"row_heading level0 row3\" >3</th>\n",
       "      <td id=\"T_e60d6_row3_col0\" class=\"data row3 col0\" >Cabin</td>\n",
       "      <td id=\"T_e60d6_row3_col1\" class=\"data row3 col1\" >199</td>\n",
       "    </tr>\n",
       "    <tr>\n",
       "      <th id=\"T_e60d6_level0_row4\" class=\"row_heading level0 row4\" >4</th>\n",
       "      <td id=\"T_e60d6_row4_col0\" class=\"data row4 col0\" >side</td>\n",
       "      <td id=\"T_e60d6_row4_col1\" class=\"data row4 col1\" >199</td>\n",
       "    </tr>\n",
       "    <tr>\n",
       "      <th id=\"T_e60d6_level0_row5\" class=\"row_heading level0 row5\" >5</th>\n",
       "      <td id=\"T_e60d6_row5_col0\" class=\"data row5 col0\" >room_num</td>\n",
       "      <td id=\"T_e60d6_row5_col1\" class=\"data row5 col1\" >199</td>\n",
       "    </tr>\n",
       "    <tr>\n",
       "      <th id=\"T_e60d6_level0_row6\" class=\"row_heading level0 row6\" >6</th>\n",
       "      <td id=\"T_e60d6_row6_col0\" class=\"data row6 col0\" >deck</td>\n",
       "      <td id=\"T_e60d6_row6_col1\" class=\"data row6 col1\" >199</td>\n",
       "    </tr>\n",
       "    <tr>\n",
       "      <th id=\"T_e60d6_level0_row7\" class=\"row_heading level0 row7\" >7</th>\n",
       "      <td id=\"T_e60d6_row7_col0\" class=\"data row7 col0\" >Age</td>\n",
       "      <td id=\"T_e60d6_row7_col1\" class=\"data row7 col1\" >179</td>\n",
       "    </tr>\n",
       "    <tr>\n",
       "      <th id=\"T_e60d6_level0_row8\" class=\"row_heading level0 row8\" >8</th>\n",
       "      <td id=\"T_e60d6_row8_col0\" class=\"data row8 col0\" >HomePlanet</td>\n",
       "      <td id=\"T_e60d6_row8_col1\" class=\"data row8 col1\" >111</td>\n",
       "    </tr>\n",
       "    <tr>\n",
       "      <th id=\"T_e60d6_level0_row9\" class=\"row_heading level0 row9\" >9</th>\n",
       "      <td id=\"T_e60d6_row9_col0\" class=\"data row9 col0\" >Destination</td>\n",
       "      <td id=\"T_e60d6_row9_col1\" class=\"data row9 col1\" >103</td>\n",
       "    </tr>\n",
       "    <tr>\n",
       "      <th id=\"T_e60d6_level0_row10\" class=\"row_heading level0 row10\" >10</th>\n",
       "      <td id=\"T_e60d6_row10_col0\" class=\"data row10 col0\" >num_in_group</td>\n",
       "      <td id=\"T_e60d6_row10_col1\" class=\"data row10 col1\" >0</td>\n",
       "    </tr>\n",
       "    <tr>\n",
       "      <th id=\"T_e60d6_level0_row11\" class=\"row_heading level0 row11\" >11</th>\n",
       "      <td id=\"T_e60d6_row11_col0\" class=\"data row11 col0\" >num_w_in_group</td>\n",
       "      <td id=\"T_e60d6_row11_col1\" class=\"data row11 col1\" >0</td>\n",
       "    </tr>\n",
       "    <tr>\n",
       "      <th id=\"T_e60d6_level0_row12\" class=\"row_heading level0 row12\" >12</th>\n",
       "      <td id=\"T_e60d6_row12_col0\" class=\"data row12 col0\" >group_num</td>\n",
       "      <td id=\"T_e60d6_row12_col1\" class=\"data row12 col1\" >0</td>\n",
       "    </tr>\n",
       "    <tr>\n",
       "      <th id=\"T_e60d6_level0_row13\" class=\"row_heading level0 row13\" >13</th>\n",
       "      <td id=\"T_e60d6_row13_col0\" class=\"data row13 col0\" >PassengerId</td>\n",
       "      <td id=\"T_e60d6_row13_col1\" class=\"data row13 col1\" >0</td>\n",
       "    </tr>\n",
       "    <tr>\n",
       "      <th id=\"T_e60d6_level0_row14\" class=\"row_heading level0 row14\" >15</th>\n",
       "      <td id=\"T_e60d6_row14_col0\" class=\"data row14 col0\" >VRDeck</td>\n",
       "      <td id=\"T_e60d6_row14_col1\" class=\"data row14 col1\" >0</td>\n",
       "    </tr>\n",
       "    <tr>\n",
       "      <th id=\"T_e60d6_level0_row15\" class=\"row_heading level0 row15\" >16</th>\n",
       "      <td id=\"T_e60d6_row15_col0\" class=\"data row15 col0\" >ShoppingMall</td>\n",
       "      <td id=\"T_e60d6_row15_col1\" class=\"data row15 col1\" >0</td>\n",
       "    </tr>\n",
       "    <tr>\n",
       "      <th id=\"T_e60d6_level0_row16\" class=\"row_heading level0 row16\" >17</th>\n",
       "      <td id=\"T_e60d6_row16_col0\" class=\"data row16 col0\" >FoodCourt</td>\n",
       "      <td id=\"T_e60d6_row16_col1\" class=\"data row16 col1\" >0</td>\n",
       "    </tr>\n",
       "    <tr>\n",
       "      <th id=\"T_e60d6_level0_row17\" class=\"row_heading level0 row17\" >18</th>\n",
       "      <td id=\"T_e60d6_row17_col0\" class=\"data row17 col0\" >RoomService</td>\n",
       "      <td id=\"T_e60d6_row17_col1\" class=\"data row17 col1\" >0</td>\n",
       "    </tr>\n",
       "    <tr>\n",
       "      <th id=\"T_e60d6_level0_row18\" class=\"row_heading level0 row18\" >19</th>\n",
       "      <td id=\"T_e60d6_row18_col0\" class=\"data row18 col0\" >CryoSleep</td>\n",
       "      <td id=\"T_e60d6_row18_col1\" class=\"data row18 col1\" >0</td>\n",
       "    </tr>\n",
       "    <tr>\n",
       "      <th id=\"T_e60d6_level0_row19\" class=\"row_heading level0 row19\" >20</th>\n",
       "      <td id=\"T_e60d6_row19_col0\" class=\"data row19 col0\" >Spa</td>\n",
       "      <td id=\"T_e60d6_row19_col1\" class=\"data row19 col1\" >0</td>\n",
       "    </tr>\n",
       "  </tbody>\n",
       "</table>\n"
      ],
      "text/plain": [
       "<pandas.io.formats.style.Styler at 0x7fe2f828c610>"
      ]
     },
     "execution_count": 81,
     "metadata": {},
     "output_type": "execute_result"
    }
   ],
   "source": [
    "test_null = get_null_counts(test_df)\n",
    "null_.style.background_gradient(cmap='winter')"
   ]
  },
  {
   "attachments": {},
   "cell_type": "markdown",
   "metadata": {},
   "source": [
    "Boolean values converted to 0's and 1's"
   ]
  },
  {
   "cell_type": "code",
   "execution_count": 82,
   "metadata": {},
   "outputs": [],
   "source": [
    "def bool_switch(df, col_name):\n",
    "    encoder = LabelEncoder()\n",
    "    df[f'{col_name}'] = encoder.fit_transform(df[f'{col_name}']) "
   ]
  },
  {
   "cell_type": "code",
   "execution_count": 83,
   "metadata": {},
   "outputs": [],
   "source": [
    "bool_switch(df, col_name='Transported')\n",
    "bool_switch(df, col_name='VIP')\n",
    "bool_switch(df, col_name='CryoSleep')\n",
    "bool_switch(df, col_name=\"fam_board_together\")"
   ]
  },
  {
   "cell_type": "code",
   "execution_count": 84,
   "metadata": {},
   "outputs": [
    {
     "data": {
      "text/plain": [
       "(8693, 21)"
      ]
     },
     "execution_count": 84,
     "metadata": {},
     "output_type": "execute_result"
    }
   ],
   "source": [
    "df.shape"
   ]
  },
  {
   "cell_type": "code",
   "execution_count": 85,
   "metadata": {},
   "outputs": [],
   "source": [
    "bool_switch(test_df, col_name='VIP')\n",
    "bool_switch(test_df, col_name='CryoSleep')\n",
    "bool_switch(test_df, col_name=\"fam_board_together\")"
   ]
  },
  {
   "cell_type": "code",
   "execution_count": 86,
   "metadata": {},
   "outputs": [
    {
     "data": {
      "text/plain": [
       "(4277, 20)"
      ]
     },
     "execution_count": 86,
     "metadata": {},
     "output_type": "execute_result"
    }
   ],
   "source": [
    "test_df.shape"
   ]
  },
  {
   "cell_type": "markdown",
   "metadata": {},
   "source": [
    "### Preparing Data"
   ]
  },
  {
   "cell_type": "markdown",
   "metadata": {},
   "source": [
    "Declare dependant variable(y-axis)"
   ]
  },
  {
   "cell_type": "code",
   "execution_count": 87,
   "metadata": {},
   "outputs": [],
   "source": [
    "#| export\n",
    "dep_var = 'Transported'"
   ]
  },
  {
   "cell_type": "code",
   "execution_count": 88,
   "metadata": {},
   "outputs": [
    {
     "data": {
      "text/plain": [
       "<bound method NDFrame.sample of 0         TRAPPIST-1e\n",
       "1         TRAPPIST-1e\n",
       "2         TRAPPIST-1e\n",
       "3         TRAPPIST-1e\n",
       "4         TRAPPIST-1e\n",
       "            ...      \n",
       "8688      55 Cancri e\n",
       "8689    PSO J318.5-22\n",
       "8690      TRAPPIST-1e\n",
       "8691      55 Cancri e\n",
       "8692      TRAPPIST-1e\n",
       "Name: Destination, Length: 8693, dtype: object>"
      ]
     },
     "execution_count": 88,
     "metadata": {},
     "output_type": "execute_result"
    }
   ],
   "source": [
    "df['Destination'].sample"
   ]
  },
  {
   "cell_type": "markdown",
   "metadata": {},
   "source": [
    "Add tabular processes to transform categorical variables to something similar to `pd.Categorical`, and fill in missing/na values"
   ]
  },
  {
   "cell_type": "code",
   "execution_count": 89,
   "metadata": {},
   "outputs": [],
   "source": [
    "#| export\n",
    "procs = [Categorify, FillMissing, Normalize]"
   ]
  },
  {
   "cell_type": "code",
   "execution_count": 90,
   "metadata": {},
   "outputs": [],
   "source": [
    "#| export\n",
    "cont, cat = cont_cat_split(df, 1, dep_var=dep_var)"
   ]
  },
  {
   "cell_type": "code",
   "execution_count": 91,
   "metadata": {},
   "outputs": [],
   "source": [
    "test_cont, test_cat = cont_cat_split(test_df, 1, dep_var=dep_var)"
   ]
  },
  {
   "cell_type": "code",
   "execution_count": 92,
   "metadata": {},
   "outputs": [],
   "source": [
    "to = TabularPandas(df, procs, cat, cont, y_names=dep_var, \n",
    "                    y_block=CategoryBlock(), \n",
    "                    splits=RandomSplitter(valid_pct=0.2, seed=42)(df)).dataloaders(bs=128)"
   ]
  },
  {
   "cell_type": "code",
   "execution_count": 93,
   "metadata": {},
   "outputs": [
    {
     "data": {
      "text/plain": [
       "'median'"
      ]
     },
     "execution_count": 93,
     "metadata": {},
     "output_type": "execute_result"
    }
   ],
   "source": [
    "to.fill_strategy"
   ]
  },
  {
   "cell_type": "code",
   "execution_count": 94,
   "metadata": {},
   "outputs": [],
   "source": [
    "test_to = TabularPandas(test_df, procs, test_cat, test_cont, y_names=None, \n",
    "                    y_block=CategoryBlock(), \n",
    "                    splits=None).dataloaders(bs=128)"
   ]
  },
  {
   "cell_type": "code",
   "execution_count": 95,
   "metadata": {},
   "outputs": [],
   "source": [
    "xs, y = to.train.xs, to.train.y\n",
    "valid_xs, valid_y = to.valid.xs, to.valid.y"
   ]
  },
  {
   "cell_type": "code",
   "execution_count": 96,
   "metadata": {},
   "outputs": [],
   "source": [
    "test_xs = test_to.train.xs"
   ]
  },
  {
   "cell_type": "code",
   "execution_count": 97,
   "metadata": {},
   "outputs": [
    {
     "data": {
      "text/html": [
       "<div>\n",
       "<style scoped>\n",
       "    .dataframe tbody tr th:only-of-type {\n",
       "        vertical-align: middle;\n",
       "    }\n",
       "\n",
       "    .dataframe tbody tr th {\n",
       "        vertical-align: top;\n",
       "    }\n",
       "\n",
       "    .dataframe thead th {\n",
       "        text-align: right;\n",
       "    }\n",
       "</style>\n",
       "<table border=\"1\" class=\"dataframe\">\n",
       "  <thead>\n",
       "    <tr style=\"text-align: right;\">\n",
       "      <th></th>\n",
       "      <th>PassengerId</th>\n",
       "      <th>HomePlanet</th>\n",
       "      <th>Cabin</th>\n",
       "      <th>Destination</th>\n",
       "      <th>surname</th>\n",
       "      <th>group_num</th>\n",
       "      <th>deck</th>\n",
       "      <th>room_num</th>\n",
       "      <th>side</th>\n",
       "      <th>Age_na</th>\n",
       "      <th>CryoSleep</th>\n",
       "      <th>Age</th>\n",
       "      <th>VIP</th>\n",
       "      <th>RoomService</th>\n",
       "      <th>FoodCourt</th>\n",
       "      <th>ShoppingMall</th>\n",
       "      <th>Spa</th>\n",
       "      <th>VRDeck</th>\n",
       "      <th>num_w_in_group</th>\n",
       "      <th>num_in_group</th>\n",
       "      <th>fam_board_together</th>\n",
       "    </tr>\n",
       "  </thead>\n",
       "  <tbody>\n",
       "    <tr>\n",
       "      <th>8388</th>\n",
       "      <td>8389</td>\n",
       "      <td>3</td>\n",
       "      <td>3242</td>\n",
       "      <td>3</td>\n",
       "      <td>300</td>\n",
       "      <td>6005</td>\n",
       "      <td>6</td>\n",
       "      <td>786</td>\n",
       "      <td>2</td>\n",
       "      <td>1</td>\n",
       "      <td>-0.759434</td>\n",
       "      <td>1.612332</td>\n",
       "      <td>-0.206029</td>\n",
       "      <td>1.470626</td>\n",
       "      <td>-0.282769</td>\n",
       "      <td>-0.267182</td>\n",
       "      <td>-0.267988</td>\n",
       "      <td>-0.263122</td>\n",
       "      <td>-0.493406</td>\n",
       "      <td>-0.652869</td>\n",
       "      <td>1.123458</td>\n",
       "    </tr>\n",
       "    <tr>\n",
       "      <th>1917</th>\n",
       "      <td>1918</td>\n",
       "      <td>1</td>\n",
       "      <td>5560</td>\n",
       "      <td>3</td>\n",
       "      <td>0</td>\n",
       "      <td>1362</td>\n",
       "      <td>7</td>\n",
       "      <td>1078</td>\n",
       "      <td>1</td>\n",
       "      <td>1</td>\n",
       "      <td>1.316770</td>\n",
       "      <td>-0.265485</td>\n",
       "      <td>-0.206029</td>\n",
       "      <td>-0.327109</td>\n",
       "      <td>-0.284032</td>\n",
       "      <td>-0.280746</td>\n",
       "      <td>-0.267988</td>\n",
       "      <td>-0.263122</td>\n",
       "      <td>1.383858</td>\n",
       "      <td>2.463179</td>\n",
       "      <td>2.994542</td>\n",
       "    </tr>\n",
       "    <tr>\n",
       "      <th>5173</th>\n",
       "      <td>5174</td>\n",
       "      <td>1</td>\n",
       "      <td>6379</td>\n",
       "      <td>2</td>\n",
       "      <td>1504</td>\n",
       "      <td>3719</td>\n",
       "      <td>7</td>\n",
       "      <td>1692</td>\n",
       "      <td>1</td>\n",
       "      <td>1</td>\n",
       "      <td>-0.759434</td>\n",
       "      <td>0.012710</td>\n",
       "      <td>-0.206029</td>\n",
       "      <td>-0.327109</td>\n",
       "      <td>-0.284032</td>\n",
       "      <td>-0.246835</td>\n",
       "      <td>-0.267988</td>\n",
       "      <td>0.100366</td>\n",
       "      <td>-0.493406</td>\n",
       "      <td>-0.652869</td>\n",
       "      <td>1.123458</td>\n",
       "    </tr>\n",
       "    <tr>\n",
       "      <th>8246</th>\n",
       "      <td>8247</td>\n",
       "      <td>1</td>\n",
       "      <td>2091</td>\n",
       "      <td>2</td>\n",
       "      <td>870</td>\n",
       "      <td>5905</td>\n",
       "      <td>5</td>\n",
       "      <td>1351</td>\n",
       "      <td>2</td>\n",
       "      <td>1</td>\n",
       "      <td>-0.759434</td>\n",
       "      <td>2.377369</td>\n",
       "      <td>-0.206029</td>\n",
       "      <td>-0.327109</td>\n",
       "      <td>-0.284032</td>\n",
       "      <td>-0.145103</td>\n",
       "      <td>-0.267988</td>\n",
       "      <td>1.836428</td>\n",
       "      <td>-0.493406</td>\n",
       "      <td>-0.652869</td>\n",
       "      <td>1.123458</td>\n",
       "    </tr>\n",
       "    <tr>\n",
       "      <th>61</th>\n",
       "      <td>62</td>\n",
       "      <td>1</td>\n",
       "      <td>4563</td>\n",
       "      <td>2</td>\n",
       "      <td>1186</td>\n",
       "      <td>44</td>\n",
       "      <td>7</td>\n",
       "      <td>3</td>\n",
       "      <td>2</td>\n",
       "      <td>1</td>\n",
       "      <td>1.316770</td>\n",
       "      <td>-2.004205</td>\n",
       "      <td>-0.206029</td>\n",
       "      <td>-0.327109</td>\n",
       "      <td>-0.284032</td>\n",
       "      <td>-0.280746</td>\n",
       "      <td>-0.267988</td>\n",
       "      <td>-0.263122</td>\n",
       "      <td>-0.493406</td>\n",
       "      <td>0.593550</td>\n",
       "      <td>-0.747627</td>\n",
       "    </tr>\n",
       "  </tbody>\n",
       "</table>\n",
       "</div>"
      ],
      "text/plain": [
       "      PassengerId  HomePlanet  Cabin  Destination  surname  group_num  deck  \\\n",
       "8388         8389           3   3242            3      300       6005     6   \n",
       "1917         1918           1   5560            3        0       1362     7   \n",
       "5173         5174           1   6379            2     1504       3719     7   \n",
       "8246         8247           1   2091            2      870       5905     5   \n",
       "61             62           1   4563            2     1186         44     7   \n",
       "\n",
       "      room_num  side  Age_na  CryoSleep       Age       VIP  RoomService  \\\n",
       "8388       786     2       1  -0.759434  1.612332 -0.206029     1.470626   \n",
       "1917      1078     1       1   1.316770 -0.265485 -0.206029    -0.327109   \n",
       "5173      1692     1       1  -0.759434  0.012710 -0.206029    -0.327109   \n",
       "8246      1351     2       1  -0.759434  2.377369 -0.206029    -0.327109   \n",
       "61           3     2       1   1.316770 -2.004205 -0.206029    -0.327109   \n",
       "\n",
       "      FoodCourt  ShoppingMall       Spa    VRDeck  num_w_in_group  \\\n",
       "8388  -0.282769     -0.267182 -0.267988 -0.263122       -0.493406   \n",
       "1917  -0.284032     -0.280746 -0.267988 -0.263122        1.383858   \n",
       "5173  -0.284032     -0.246835 -0.267988  0.100366       -0.493406   \n",
       "8246  -0.284032     -0.145103 -0.267988  1.836428       -0.493406   \n",
       "61    -0.284032     -0.280746 -0.267988 -0.263122       -0.493406   \n",
       "\n",
       "      num_in_group  fam_board_together  \n",
       "8388     -0.652869            1.123458  \n",
       "1917      2.463179            2.994542  \n",
       "5173     -0.652869            1.123458  \n",
       "8246     -0.652869            1.123458  \n",
       "61        0.593550           -0.747627  "
      ]
     },
     "execution_count": 97,
     "metadata": {},
     "output_type": "execute_result"
    }
   ],
   "source": [
    "xs.head()"
   ]
  },
  {
   "cell_type": "code",
   "execution_count": 98,
   "metadata": {},
   "outputs": [
    {
     "data": {
      "text/plain": [
       "(6955, 21)"
      ]
     },
     "execution_count": 98,
     "metadata": {},
     "output_type": "execute_result"
    }
   ],
   "source": [
    "xs.shape"
   ]
  },
  {
   "cell_type": "code",
   "execution_count": 99,
   "metadata": {},
   "outputs": [
    {
     "data": {
      "text/html": [
       "<div>\n",
       "<style scoped>\n",
       "    .dataframe tbody tr th:only-of-type {\n",
       "        vertical-align: middle;\n",
       "    }\n",
       "\n",
       "    .dataframe tbody tr th {\n",
       "        vertical-align: top;\n",
       "    }\n",
       "\n",
       "    .dataframe thead th {\n",
       "        text-align: right;\n",
       "    }\n",
       "</style>\n",
       "<table border=\"1\" class=\"dataframe\">\n",
       "  <thead>\n",
       "    <tr style=\"text-align: right;\">\n",
       "      <th></th>\n",
       "      <th>PassengerId</th>\n",
       "      <th>HomePlanet</th>\n",
       "      <th>Cabin</th>\n",
       "      <th>Destination</th>\n",
       "      <th>surname</th>\n",
       "      <th>group_num</th>\n",
       "      <th>deck</th>\n",
       "      <th>room_num</th>\n",
       "      <th>side</th>\n",
       "      <th>Age_na</th>\n",
       "      <th>CryoSleep</th>\n",
       "      <th>Age</th>\n",
       "      <th>VIP</th>\n",
       "      <th>RoomService</th>\n",
       "      <th>FoodCourt</th>\n",
       "      <th>ShoppingMall</th>\n",
       "      <th>Spa</th>\n",
       "      <th>VRDeck</th>\n",
       "      <th>num_w_in_group</th>\n",
       "      <th>num_in_group</th>\n",
       "      <th>fam_board_together</th>\n",
       "    </tr>\n",
       "  </thead>\n",
       "  <tbody>\n",
       "    <tr>\n",
       "      <th>0</th>\n",
       "      <td>1</td>\n",
       "      <td>1</td>\n",
       "      <td>2785</td>\n",
       "      <td>3</td>\n",
       "      <td>276</td>\n",
       "      <td>1</td>\n",
       "      <td>7</td>\n",
       "      <td>821</td>\n",
       "      <td>2</td>\n",
       "      <td>1</td>\n",
       "      <td>1.116077</td>\n",
       "      <td>-0.114147</td>\n",
       "      <td>-0.191678</td>\n",
       "      <td>-0.357339</td>\n",
       "      <td>-0.283840</td>\n",
       "      <td>-0.312173</td>\n",
       "      <td>-0.267841</td>\n",
       "      <td>-0.246712</td>\n",
       "      <td>-0.489847</td>\n",
       "      <td>-0.648973</td>\n",
       "      <td>-1.116345</td>\n",
       "    </tr>\n",
       "    <tr>\n",
       "      <th>1</th>\n",
       "      <td>2</td>\n",
       "      <td>1</td>\n",
       "      <td>1868</td>\n",
       "      <td>3</td>\n",
       "      <td>1191</td>\n",
       "      <td>2</td>\n",
       "      <td>6</td>\n",
       "      <td>928</td>\n",
       "      <td>2</td>\n",
       "      <td>1</td>\n",
       "      <td>-0.760284</td>\n",
       "      <td>-0.684313</td>\n",
       "      <td>-0.191678</td>\n",
       "      <td>-0.357339</td>\n",
       "      <td>-0.277879</td>\n",
       "      <td>-0.312173</td>\n",
       "      <td>2.287504</td>\n",
       "      <td>-0.246712</td>\n",
       "      <td>-0.489847</td>\n",
       "      <td>-0.648973</td>\n",
       "      <td>0.757520</td>\n",
       "    </tr>\n",
       "    <tr>\n",
       "      <th>2</th>\n",
       "      <td>3</td>\n",
       "      <td>2</td>\n",
       "      <td>258</td>\n",
       "      <td>1</td>\n",
       "      <td>1605</td>\n",
       "      <td>3</td>\n",
       "      <td>3</td>\n",
       "      <td>1</td>\n",
       "      <td>2</td>\n",
       "      <td>1</td>\n",
       "      <td>1.116077</td>\n",
       "      <td>0.170937</td>\n",
       "      <td>-0.191678</td>\n",
       "      <td>-0.357339</td>\n",
       "      <td>-0.283840</td>\n",
       "      <td>-0.312173</td>\n",
       "      <td>-0.267841</td>\n",
       "      <td>-0.246712</td>\n",
       "      <td>-0.489847</td>\n",
       "      <td>-0.648973</td>\n",
       "      <td>0.757520</td>\n",
       "    </tr>\n",
       "    <tr>\n",
       "      <th>3</th>\n",
       "      <td>4</td>\n",
       "      <td>2</td>\n",
       "      <td>260</td>\n",
       "      <td>3</td>\n",
       "      <td>263</td>\n",
       "      <td>4</td>\n",
       "      <td>3</td>\n",
       "      <td>2</td>\n",
       "      <td>2</td>\n",
       "      <td>1</td>\n",
       "      <td>-0.760284</td>\n",
       "      <td>0.669832</td>\n",
       "      <td>-0.191678</td>\n",
       "      <td>-0.357339</td>\n",
       "      <td>4.121518</td>\n",
       "      <td>-0.312173</td>\n",
       "      <td>-0.104002</td>\n",
       "      <td>0.226648</td>\n",
       "      <td>-0.489847</td>\n",
       "      <td>-0.648973</td>\n",
       "      <td>0.757520</td>\n",
       "    </tr>\n",
       "    <tr>\n",
       "      <th>4</th>\n",
       "      <td>5</td>\n",
       "      <td>1</td>\n",
       "      <td>1941</td>\n",
       "      <td>3</td>\n",
       "      <td>737</td>\n",
       "      <td>5</td>\n",
       "      <td>6</td>\n",
       "      <td>1030</td>\n",
       "      <td>2</td>\n",
       "      <td>1</td>\n",
       "      <td>-0.760284</td>\n",
       "      <td>-0.613042</td>\n",
       "      <td>-0.191678</td>\n",
       "      <td>-0.340723</td>\n",
       "      <td>-0.283840</td>\n",
       "      <td>0.832122</td>\n",
       "      <td>-0.267841</td>\n",
       "      <td>-0.246712</td>\n",
       "      <td>-0.489847</td>\n",
       "      <td>-0.648973</td>\n",
       "      <td>0.757520</td>\n",
       "    </tr>\n",
       "  </tbody>\n",
       "</table>\n",
       "</div>"
      ],
      "text/plain": [
       "   PassengerId  HomePlanet  Cabin  Destination  surname  group_num  deck  \\\n",
       "0            1           1   2785            3      276          1     7   \n",
       "1            2           1   1868            3     1191          2     6   \n",
       "2            3           2    258            1     1605          3     3   \n",
       "3            4           2    260            3      263          4     3   \n",
       "4            5           1   1941            3      737          5     6   \n",
       "\n",
       "   room_num  side  Age_na  CryoSleep       Age       VIP  RoomService  \\\n",
       "0       821     2       1   1.116077 -0.114147 -0.191678    -0.357339   \n",
       "1       928     2       1  -0.760284 -0.684313 -0.191678    -0.357339   \n",
       "2         1     2       1   1.116077  0.170937 -0.191678    -0.357339   \n",
       "3         2     2       1  -0.760284  0.669832 -0.191678    -0.357339   \n",
       "4      1030     2       1  -0.760284 -0.613042 -0.191678    -0.340723   \n",
       "\n",
       "   FoodCourt  ShoppingMall       Spa    VRDeck  num_w_in_group  num_in_group  \\\n",
       "0  -0.283840     -0.312173 -0.267841 -0.246712       -0.489847     -0.648973   \n",
       "1  -0.277879     -0.312173  2.287504 -0.246712       -0.489847     -0.648973   \n",
       "2  -0.283840     -0.312173 -0.267841 -0.246712       -0.489847     -0.648973   \n",
       "3   4.121518     -0.312173 -0.104002  0.226648       -0.489847     -0.648973   \n",
       "4  -0.283840      0.832122 -0.267841 -0.246712       -0.489847     -0.648973   \n",
       "\n",
       "   fam_board_together  \n",
       "0           -1.116345  \n",
       "1            0.757520  \n",
       "2            0.757520  \n",
       "3            0.757520  \n",
       "4            0.757520  "
      ]
     },
     "execution_count": 99,
     "metadata": {},
     "output_type": "execute_result"
    }
   ],
   "source": [
    "test_xs.head()"
   ]
  },
  {
   "cell_type": "code",
   "execution_count": 100,
   "metadata": {},
   "outputs": [
    {
     "data": {
      "text/plain": [
       "(4277, 21)"
      ]
     },
     "execution_count": 100,
     "metadata": {},
     "output_type": "execute_result"
    }
   ],
   "source": [
    "test_xs.shape"
   ]
  },
  {
   "cell_type": "code",
   "execution_count": 101,
   "metadata": {},
   "outputs": [
    {
     "name": "stderr",
     "output_type": "stream",
     "text": [
      "/tmp/ipykernel_28416/3888966817.py:2: FutureWarning: The default value of numeric_only in DataFrame.corr is deprecated. In a future version, it will default to False. Select only valid columns or specify the value of numeric_only to silence this warning.\n"
     ]
    },
    {
     "data": {
      "text/plain": [
       "<AxesSubplot: >"
      ]
     },
     "execution_count": 101,
     "metadata": {},
     "output_type": "execute_result"
    },
    {
     "data": {
      "image/png": "[encoded data removed]",
      "text/plain": [
       "<Figure size 1000x1000 with 2 Axes>"
      ]
     },
     "metadata": {},
     "output_type": "display_data"
    }
   ],
   "source": [
    "plt.figure(figsize=(10,10))\n",
    "sns.heatmap(df.corr(), annot=True)"
   ]
  },
  {
   "cell_type": "code",
   "execution_count": 102,
   "metadata": {},
   "outputs": [],
   "source": [
    "def rf(xs, y, n_estimators=40, max_features=0.5, min_samples_leaf=5, **kwargs):\n",
    "    return RandomForestClassifier(n_jobs=-1, n_estimators=n_estimators,\n",
    "        max_features=max_features, min_samples_leaf=min_samples_leaf, \n",
    "        oob_score=True).fit(xs,y)"
   ]
  },
  {
   "cell_type": "code",
   "execution_count": 103,
   "metadata": {},
   "outputs": [],
   "source": [
    "m = rf(xs,y)"
   ]
  },
  {
   "cell_type": "code",
   "execution_count": 104,
   "metadata": {},
   "outputs": [],
   "source": [
    "def pred_acc(m, valid_xs=valid_xs):\n",
    "    y_pred = m.predict(valid_xs)\n",
    "    accuracy = accuracy_score(valid_y, y_pred)\n",
    "    return accuracy"
   ]
  },
  {
   "cell_type": "code",
   "execution_count": 105,
   "metadata": {},
   "outputs": [
    {
     "data": {
      "text/plain": [
       "0.7974683544303798"
      ]
     },
     "execution_count": 105,
     "metadata": {},
     "output_type": "execute_result"
    }
   ],
   "source": [
    "pred_acc(m)"
   ]
  },
  {
   "cell_type": "code",
   "execution_count": 106,
   "metadata": {},
   "outputs": [],
   "source": [
    "def rf_feat_importances(m, df):\n",
    "    return pd.DataFrame({'cols':df.columns, 'imp':m.feature_importances_}).sort_values('imp', ascending=False)"
   ]
  },
  {
   "cell_type": "code",
   "execution_count": 107,
   "metadata": {},
   "outputs": [
    {
     "data": {
      "text/html": [
       "<div>\n",
       "<style scoped>\n",
       "    .dataframe tbody tr th:only-of-type {\n",
       "        vertical-align: middle;\n",
       "    }\n",
       "\n",
       "    .dataframe tbody tr th {\n",
       "        vertical-align: top;\n",
       "    }\n",
       "\n",
       "    .dataframe thead th {\n",
       "        text-align: right;\n",
       "    }\n",
       "</style>\n",
       "<table border=\"1\" class=\"dataframe\">\n",
       "  <thead>\n",
       "    <tr style=\"text-align: right;\">\n",
       "      <th></th>\n",
       "      <th>cols</th>\n",
       "      <th>imp</th>\n",
       "    </tr>\n",
       "  </thead>\n",
       "  <tbody>\n",
       "    <tr>\n",
       "      <th>10</th>\n",
       "      <td>CryoSleep</td>\n",
       "      <td>0.197755</td>\n",
       "    </tr>\n",
       "    <tr>\n",
       "      <th>13</th>\n",
       "      <td>RoomService</td>\n",
       "      <td>0.095004</td>\n",
       "    </tr>\n",
       "    <tr>\n",
       "      <th>16</th>\n",
       "      <td>Spa</td>\n",
       "      <td>0.094315</td>\n",
       "    </tr>\n",
       "    <tr>\n",
       "      <th>17</th>\n",
       "      <td>VRDeck</td>\n",
       "      <td>0.080729</td>\n",
       "    </tr>\n",
       "    <tr>\n",
       "      <th>2</th>\n",
       "      <td>Cabin</td>\n",
       "      <td>0.072501</td>\n",
       "    </tr>\n",
       "    <tr>\n",
       "      <th>14</th>\n",
       "      <td>FoodCourt</td>\n",
       "      <td>0.070932</td>\n",
       "    </tr>\n",
       "    <tr>\n",
       "      <th>11</th>\n",
       "      <td>Age</td>\n",
       "      <td>0.056938</td>\n",
       "    </tr>\n",
       "    <tr>\n",
       "      <th>4</th>\n",
       "      <td>surname</td>\n",
       "      <td>0.046168</td>\n",
       "    </tr>\n",
       "    <tr>\n",
       "      <th>7</th>\n",
       "      <td>room_num</td>\n",
       "      <td>0.046162</td>\n",
       "    </tr>\n",
       "    <tr>\n",
       "      <th>15</th>\n",
       "      <td>ShoppingMall</td>\n",
       "      <td>0.043306</td>\n",
       "    </tr>\n",
       "    <tr>\n",
       "      <th>1</th>\n",
       "      <td>HomePlanet</td>\n",
       "      <td>0.041816</td>\n",
       "    </tr>\n",
       "    <tr>\n",
       "      <th>0</th>\n",
       "      <td>PassengerId</td>\n",
       "      <td>0.040676</td>\n",
       "    </tr>\n",
       "    <tr>\n",
       "      <th>5</th>\n",
       "      <td>group_num</td>\n",
       "      <td>0.037451</td>\n",
       "    </tr>\n",
       "    <tr>\n",
       "      <th>8</th>\n",
       "      <td>side</td>\n",
       "      <td>0.021421</td>\n",
       "    </tr>\n",
       "    <tr>\n",
       "      <th>6</th>\n",
       "      <td>deck</td>\n",
       "      <td>0.018310</td>\n",
       "    </tr>\n",
       "    <tr>\n",
       "      <th>19</th>\n",
       "      <td>num_in_group</td>\n",
       "      <td>0.011985</td>\n",
       "    </tr>\n",
       "    <tr>\n",
       "      <th>3</th>\n",
       "      <td>Destination</td>\n",
       "      <td>0.011816</td>\n",
       "    </tr>\n",
       "    <tr>\n",
       "      <th>18</th>\n",
       "      <td>num_w_in_group</td>\n",
       "      <td>0.005951</td>\n",
       "    </tr>\n",
       "    <tr>\n",
       "      <th>20</th>\n",
       "      <td>fam_board_together</td>\n",
       "      <td>0.005416</td>\n",
       "    </tr>\n",
       "    <tr>\n",
       "      <th>12</th>\n",
       "      <td>VIP</td>\n",
       "      <td>0.001185</td>\n",
       "    </tr>\n",
       "    <tr>\n",
       "      <th>9</th>\n",
       "      <td>Age_na</td>\n",
       "      <td>0.000165</td>\n",
       "    </tr>\n",
       "  </tbody>\n",
       "</table>\n",
       "</div>"
      ],
      "text/plain": [
       "                  cols       imp\n",
       "10           CryoSleep  0.197755\n",
       "13         RoomService  0.095004\n",
       "16                 Spa  0.094315\n",
       "17              VRDeck  0.080729\n",
       "2                Cabin  0.072501\n",
       "14           FoodCourt  0.070932\n",
       "11                 Age  0.056938\n",
       "4              surname  0.046168\n",
       "7             room_num  0.046162\n",
       "15        ShoppingMall  0.043306\n",
       "1           HomePlanet  0.041816\n",
       "0          PassengerId  0.040676\n",
       "5            group_num  0.037451\n",
       "8                 side  0.021421\n",
       "6                 deck  0.018310\n",
       "19        num_in_group  0.011985\n",
       "3          Destination  0.011816\n",
       "18      num_w_in_group  0.005951\n",
       "20  fam_board_together  0.005416\n",
       "12                 VIP  0.001185\n",
       "9               Age_na  0.000165"
      ]
     },
     "execution_count": 107,
     "metadata": {},
     "output_type": "execute_result"
    }
   ],
   "source": [
    "fi = rf_feat_importances(m, xs)\n",
    "fi"
   ]
  },
  {
   "cell_type": "code",
   "execution_count": 108,
   "metadata": {},
   "outputs": [],
   "source": [
    "def plot_fi(fi):\n",
    "    return fi.plot('cols', 'imp', 'barh', figsize=(12,7), legend=False)"
   ]
  },
  {
   "cell_type": "code",
   "execution_count": 109,
   "metadata": {},
   "outputs": [
    {
     "data": {
      "text/plain": [
       "<AxesSubplot: ylabel='cols'>"
      ]
     },
     "execution_count": 109,
     "metadata": {},
     "output_type": "execute_result"
    },
    {
     "data": {
      "image/png": "[encoded data removed]",
      "text/plain": [
       "<Figure size 1200x700 with 1 Axes>"
      ]
     },
     "metadata": {},
     "output_type": "display_data"
    }
   ],
   "source": [
    "plot_fi(fi)"
   ]
  },
  {
   "cell_type": "code",
   "execution_count": 110,
   "metadata": {},
   "outputs": [
    {
     "data": {
      "image/png": "[encoded data removed]",
      "text/plain": [
       "<Figure size 1000x600 with 1 Axes>"
      ]
     },
     "metadata": {},
     "output_type": "display_data"
    }
   ],
   "source": [
    "cluster_columns(xs)"
   ]
  },
  {
   "cell_type": "code",
   "execution_count": 111,
   "metadata": {},
   "outputs": [
    {
     "data": {
      "text/plain": [
       "(19, 21)"
      ]
     },
     "execution_count": 111,
     "metadata": {},
     "output_type": "execute_result"
    }
   ],
   "source": [
    "to_keep = fi[fi.imp > 0.005].cols\n",
    "len(to_keep), len(fi)"
   ]
  },
  {
   "cell_type": "code",
   "execution_count": 112,
   "metadata": {},
   "outputs": [],
   "source": [
    "xs_imp = xs[to_keep]\n",
    "valid_xs_imp = valid_xs[to_keep]"
   ]
  },
  {
   "cell_type": "code",
   "execution_count": 113,
   "metadata": {},
   "outputs": [],
   "source": [
    "test_xs_imp = test_xs[to_keep]"
   ]
  },
  {
   "cell_type": "code",
   "execution_count": 114,
   "metadata": {},
   "outputs": [
    {
     "data": {
      "text/plain": [
       "4277"
      ]
     },
     "execution_count": 114,
     "metadata": {},
     "output_type": "execute_result"
    }
   ],
   "source": [
    "len(test_xs_imp)"
   ]
  },
  {
   "cell_type": "code",
   "execution_count": 115,
   "metadata": {},
   "outputs": [],
   "source": [
    "m = rf(xs_imp, y)"
   ]
  },
  {
   "cell_type": "code",
   "execution_count": 116,
   "metadata": {},
   "outputs": [
    {
     "data": {
      "text/plain": [
       "0.7963176064441887"
      ]
     },
     "execution_count": 116,
     "metadata": {},
     "output_type": "execute_result"
    }
   ],
   "source": [
    "pred_acc(m, valid_xs=valid_xs_imp)"
   ]
  },
  {
   "cell_type": "code",
   "execution_count": 117,
   "metadata": {},
   "outputs": [
    {
     "data": {
      "text/plain": [
       "<AxesSubplot: ylabel='cols'>"
      ]
     },
     "execution_count": 117,
     "metadata": {},
     "output_type": "execute_result"
    },
    {
     "data": {
      "image/png": "[encoded data removed]",
      "text/plain": [
       "<Figure size 1200x700 with 1 Axes>"
      ]
     },
     "metadata": {},
     "output_type": "display_data"
    }
   ],
   "source": [
    "plot_fi(rf_feat_importances(m, xs_imp))"
   ]
  },
  {
   "cell_type": "code",
   "execution_count": 118,
   "metadata": {},
   "outputs": [
    {
     "data": {
      "image/png": "[encoded data removed]",
      "text/plain": [
       "<Figure size 1000x600 with 1 Axes>"
      ]
     },
     "metadata": {},
     "output_type": "display_data"
    }
   ],
   "source": [
    "cluster_columns(xs_imp)"
   ]
  },
  {
   "cell_type": "code",
   "execution_count": 119,
   "metadata": {},
   "outputs": [],
   "source": [
    "def get_oob(df):\n",
    "    m = RandomForestClassifier(n_estimators=40, min_samples_leaf=15, max_features=0.5, n_jobs=-1, oob_score=True)\n",
    "    m.fit(df, y)\n",
    "    return m.oob_score_"
   ]
  },
  {
   "cell_type": "code",
   "execution_count": 120,
   "metadata": {},
   "outputs": [
    {
     "data": {
      "text/plain": [
       "0.7964054636951833"
      ]
     },
     "execution_count": 120,
     "metadata": {},
     "output_type": "execute_result"
    }
   ],
   "source": [
    "get_oob(xs_imp)\n"
   ]
  },
  {
   "cell_type": "code",
   "execution_count": 121,
   "metadata": {},
   "outputs": [
    {
     "data": {
      "text/plain": [
       "{'CryoSleep': 0.7905104241552839,\n",
       " 'RoomService': 0.7916606757728253,\n",
       " 'Spa': 0.7811646297627606,\n",
       " 'VRDeck': 0.7834651329978433,\n",
       " 'Cabin': 0.7938173975557153,\n",
       " 'FoodCourt': 0.7893601725377426,\n",
       " 'Age': 0.7968368080517613,\n",
       " 'surname': 0.7945363048166787,\n",
       " 'room_num': 0.7928109273903666,\n",
       " 'ShoppingMall': 0.7910855499640547,\n",
       " 'HomePlanet': 0.7952552120776419,\n",
       " 'PassengerId': 0.794392523364486,\n",
       " 'group_num': 0.7953989935298347,\n",
       " 'side': 0.7928109273903666,\n",
       " 'deck': 0.7992810927390367,\n",
       " 'num_in_group': 0.7998562185478073,\n",
       " 'Destination': 0.7962616822429907,\n",
       " 'num_w_in_group': 0.7932422717469446,\n",
       " 'fam_board_together': 0.7988497483824587}"
      ]
     },
     "execution_count": 121,
     "metadata": {},
     "output_type": "execute_result"
    }
   ],
   "source": [
    "{c:get_oob(xs_imp.drop(c, axis=1)) for c in xs_imp.columns}"
   ]
  },
  {
   "cell_type": "code",
   "execution_count": 122,
   "metadata": {},
   "outputs": [
    {
     "data": {
      "text/plain": [
       "{'PassengerId': 0.7919482386772106,\n",
       " 'HomePlanet': 0.7920920201294033,\n",
       " 'Cabin': 0.79352983465133,\n",
       " 'Destination': 0.7953989935298347,\n",
       " 'surname': 0.793961179007908,\n",
       " 'group_num': 0.7994248741912293,\n",
       " 'deck': 0.7933860531991374,\n",
       " 'room_num': 0.7985621854780733,\n",
       " 'side': 0.7946800862688713,\n",
       " 'Age_na': 0.7929547088425594,\n",
       " 'CryoSleep': 0.7929547088425594,\n",
       " 'Age': 0.7899352983465133,\n",
       " 'VIP': 0.7968368080517613,\n",
       " 'RoomService': 0.7945363048166787,\n",
       " 'FoodCourt': 0.7895039539899353,\n",
       " 'ShoppingMall': 0.7972681524083394,\n",
       " 'Spa': 0.7850467289719626,\n",
       " 'VRDeck': 0.7861969805895039,\n",
       " 'num_w_in_group': 0.7981308411214953,\n",
       " 'num_in_group': 0.7964054636951833,\n",
       " 'fam_board_together': 0.7959741193386053}"
      ]
     },
     "execution_count": 122,
     "metadata": {},
     "output_type": "execute_result"
    }
   ],
   "source": [
    "{c:get_oob(xs.drop(c, axis=1)) for c in xs.columns}"
   ]
  },
  {
   "cell_type": "code",
   "execution_count": 123,
   "metadata": {},
   "outputs": [],
   "source": [
    "xs_final = xs_imp\n",
    "valid_xs_final = valid_xs_imp"
   ]
  },
  {
   "cell_type": "code",
   "execution_count": 124,
   "metadata": {},
   "outputs": [],
   "source": [
    "test_xs_final = test_xs_imp"
   ]
  },
  {
   "cell_type": "code",
   "execution_count": 125,
   "metadata": {},
   "outputs": [
    {
     "data": {
      "text/html": [
       "<div>\n",
       "<style scoped>\n",
       "    .dataframe tbody tr th:only-of-type {\n",
       "        vertical-align: middle;\n",
       "    }\n",
       "\n",
       "    .dataframe tbody tr th {\n",
       "        vertical-align: top;\n",
       "    }\n",
       "\n",
       "    .dataframe thead th {\n",
       "        text-align: right;\n",
       "    }\n",
       "</style>\n",
       "<table border=\"1\" class=\"dataframe\">\n",
       "  <thead>\n",
       "    <tr style=\"text-align: right;\">\n",
       "      <th></th>\n",
       "      <th>CryoSleep</th>\n",
       "      <th>RoomService</th>\n",
       "      <th>Spa</th>\n",
       "      <th>VRDeck</th>\n",
       "      <th>Cabin</th>\n",
       "      <th>FoodCourt</th>\n",
       "      <th>Age</th>\n",
       "      <th>surname</th>\n",
       "      <th>room_num</th>\n",
       "      <th>ShoppingMall</th>\n",
       "      <th>HomePlanet</th>\n",
       "      <th>PassengerId</th>\n",
       "      <th>group_num</th>\n",
       "      <th>side</th>\n",
       "      <th>deck</th>\n",
       "      <th>num_in_group</th>\n",
       "      <th>Destination</th>\n",
       "      <th>num_w_in_group</th>\n",
       "      <th>fam_board_together</th>\n",
       "    </tr>\n",
       "  </thead>\n",
       "  <tbody>\n",
       "    <tr>\n",
       "      <th>8388</th>\n",
       "      <td>-0.759434</td>\n",
       "      <td>1.470626</td>\n",
       "      <td>-0.267988</td>\n",
       "      <td>-0.263122</td>\n",
       "      <td>3242</td>\n",
       "      <td>-0.282769</td>\n",
       "      <td>1.612332</td>\n",
       "      <td>300</td>\n",
       "      <td>786</td>\n",
       "      <td>-0.267182</td>\n",
       "      <td>3</td>\n",
       "      <td>8389</td>\n",
       "      <td>6005</td>\n",
       "      <td>2</td>\n",
       "      <td>6</td>\n",
       "      <td>-0.652869</td>\n",
       "      <td>3</td>\n",
       "      <td>-0.493406</td>\n",
       "      <td>1.123458</td>\n",
       "    </tr>\n",
       "    <tr>\n",
       "      <th>1917</th>\n",
       "      <td>1.316770</td>\n",
       "      <td>-0.327109</td>\n",
       "      <td>-0.267988</td>\n",
       "      <td>-0.263122</td>\n",
       "      <td>5560</td>\n",
       "      <td>-0.284032</td>\n",
       "      <td>-0.265485</td>\n",
       "      <td>0</td>\n",
       "      <td>1078</td>\n",
       "      <td>-0.280746</td>\n",
       "      <td>1</td>\n",
       "      <td>1918</td>\n",
       "      <td>1362</td>\n",
       "      <td>1</td>\n",
       "      <td>7</td>\n",
       "      <td>2.463179</td>\n",
       "      <td>3</td>\n",
       "      <td>1.383858</td>\n",
       "      <td>2.994542</td>\n",
       "    </tr>\n",
       "    <tr>\n",
       "      <th>5173</th>\n",
       "      <td>-0.759434</td>\n",
       "      <td>-0.327109</td>\n",
       "      <td>-0.267988</td>\n",
       "      <td>0.100366</td>\n",
       "      <td>6379</td>\n",
       "      <td>-0.284032</td>\n",
       "      <td>0.012710</td>\n",
       "      <td>1504</td>\n",
       "      <td>1692</td>\n",
       "      <td>-0.246835</td>\n",
       "      <td>1</td>\n",
       "      <td>5174</td>\n",
       "      <td>3719</td>\n",
       "      <td>1</td>\n",
       "      <td>7</td>\n",
       "      <td>-0.652869</td>\n",
       "      <td>2</td>\n",
       "      <td>-0.493406</td>\n",
       "      <td>1.123458</td>\n",
       "    </tr>\n",
       "    <tr>\n",
       "      <th>8246</th>\n",
       "      <td>-0.759434</td>\n",
       "      <td>-0.327109</td>\n",
       "      <td>-0.267988</td>\n",
       "      <td>1.836428</td>\n",
       "      <td>2091</td>\n",
       "      <td>-0.284032</td>\n",
       "      <td>2.377369</td>\n",
       "      <td>870</td>\n",
       "      <td>1351</td>\n",
       "      <td>-0.145103</td>\n",
       "      <td>1</td>\n",
       "      <td>8247</td>\n",
       "      <td>5905</td>\n",
       "      <td>2</td>\n",
       "      <td>5</td>\n",
       "      <td>-0.652869</td>\n",
       "      <td>2</td>\n",
       "      <td>-0.493406</td>\n",
       "      <td>1.123458</td>\n",
       "    </tr>\n",
       "    <tr>\n",
       "      <th>61</th>\n",
       "      <td>1.316770</td>\n",
       "      <td>-0.327109</td>\n",
       "      <td>-0.267988</td>\n",
       "      <td>-0.263122</td>\n",
       "      <td>4563</td>\n",
       "      <td>-0.284032</td>\n",
       "      <td>-2.004205</td>\n",
       "      <td>1186</td>\n",
       "      <td>3</td>\n",
       "      <td>-0.280746</td>\n",
       "      <td>1</td>\n",
       "      <td>62</td>\n",
       "      <td>44</td>\n",
       "      <td>2</td>\n",
       "      <td>7</td>\n",
       "      <td>0.593550</td>\n",
       "      <td>2</td>\n",
       "      <td>-0.493406</td>\n",
       "      <td>-0.747627</td>\n",
       "    </tr>\n",
       "  </tbody>\n",
       "</table>\n",
       "</div>"
      ],
      "text/plain": [
       "      CryoSleep  RoomService       Spa    VRDeck  Cabin  FoodCourt       Age  \\\n",
       "8388  -0.759434     1.470626 -0.267988 -0.263122   3242  -0.282769  1.612332   \n",
       "1917   1.316770    -0.327109 -0.267988 -0.263122   5560  -0.284032 -0.265485   \n",
       "5173  -0.759434    -0.327109 -0.267988  0.100366   6379  -0.284032  0.012710   \n",
       "8246  -0.759434    -0.327109 -0.267988  1.836428   2091  -0.284032  2.377369   \n",
       "61     1.316770    -0.327109 -0.267988 -0.263122   4563  -0.284032 -2.004205   \n",
       "\n",
       "      surname  room_num  ShoppingMall  HomePlanet  PassengerId  group_num  \\\n",
       "8388      300       786     -0.267182           3         8389       6005   \n",
       "1917        0      1078     -0.280746           1         1918       1362   \n",
       "5173     1504      1692     -0.246835           1         5174       3719   \n",
       "8246      870      1351     -0.145103           1         8247       5905   \n",
       "61       1186         3     -0.280746           1           62         44   \n",
       "\n",
       "      side  deck  num_in_group  Destination  num_w_in_group  \\\n",
       "8388     2     6     -0.652869            3       -0.493406   \n",
       "1917     1     7      2.463179            3        1.383858   \n",
       "5173     1     7     -0.652869            2       -0.493406   \n",
       "8246     2     5     -0.652869            2       -0.493406   \n",
       "61       2     7      0.593550            2       -0.493406   \n",
       "\n",
       "      fam_board_together  \n",
       "8388            1.123458  \n",
       "1917            2.994542  \n",
       "5173            1.123458  \n",
       "8246            1.123458  \n",
       "61             -0.747627  "
      ]
     },
     "execution_count": 125,
     "metadata": {},
     "output_type": "execute_result"
    }
   ],
   "source": [
    "xs_final.head()"
   ]
  },
  {
   "cell_type": "code",
   "execution_count": 126,
   "metadata": {},
   "outputs": [
    {
     "data": {
      "text/plain": [
       "0.7963176064441887"
      ]
     },
     "execution_count": 126,
     "metadata": {},
     "output_type": "execute_result"
    }
   ],
   "source": [
    "pred_acc(m, valid_xs=valid_xs_final)"
   ]
  },
  {
   "cell_type": "code",
   "execution_count": 127,
   "metadata": {},
   "outputs": [
    {
     "data": {
      "text/plain": [
       "Index(['CryoSleep', 'RoomService', 'Spa', 'VRDeck', 'Cabin', 'FoodCourt',\n",
       "       'Age', 'surname', 'room_num', 'ShoppingMall', 'HomePlanet',\n",
       "       'PassengerId', 'group_num', 'side', 'deck', 'num_in_group',\n",
       "       'Destination', 'num_w_in_group', 'fam_board_together'],\n",
       "      dtype='object')"
      ]
     },
     "execution_count": 127,
     "metadata": {},
     "output_type": "execute_result"
    }
   ],
   "source": [
    "valid_xs_final.columns"
   ]
  },
  {
   "cell_type": "code",
   "execution_count": 128,
   "metadata": {},
   "outputs": [],
   "source": [
    "# test_xs = [test_xs.drop([x], axis=1) for x in test_xs if x not in valid_xs_final]"
   ]
  },
  {
   "cell_type": "code",
   "execution_count": 129,
   "metadata": {},
   "outputs": [],
   "source": [
    "# for x in test_xs.columns:\n",
    "#     if x not in valid_xs_final.columns:\n",
    "#         test_xs = test_xs.drop([x], axis=1)"
   ]
  },
  {
   "cell_type": "code",
   "execution_count": 130,
   "metadata": {},
   "outputs": [
    {
     "data": {
      "text/plain": [
       "4277"
      ]
     },
     "execution_count": 130,
     "metadata": {},
     "output_type": "execute_result"
    }
   ],
   "source": [
    "len(test_xs_final)"
   ]
  },
  {
   "cell_type": "code",
   "execution_count": 131,
   "metadata": {},
   "outputs": [
    {
     "data": {
      "text/plain": [
       "(21, 19)"
      ]
     },
     "execution_count": 131,
     "metadata": {},
     "output_type": "execute_result"
    }
   ],
   "source": [
    "len(test_xs.columns), len(valid_xs_final.columns)"
   ]
  },
  {
   "cell_type": "code",
   "execution_count": 132,
   "metadata": {},
   "outputs": [
    {
     "data": {
      "text/plain": [
       "(Index(['PassengerId', 'HomePlanet', 'Cabin', 'Destination', 'surname',\n",
       "        'group_num', 'deck', 'room_num', 'side', 'Age_na', 'CryoSleep', 'Age',\n",
       "        'VIP', 'RoomService', 'FoodCourt', 'ShoppingMall', 'Spa', 'VRDeck',\n",
       "        'num_w_in_group', 'num_in_group', 'fam_board_together'],\n",
       "       dtype='object'),\n",
       " Index(['CryoSleep', 'RoomService', 'Spa', 'VRDeck', 'Cabin', 'FoodCourt',\n",
       "        'Age', 'surname', 'room_num', 'ShoppingMall', 'HomePlanet',\n",
       "        'PassengerId', 'group_num', 'side', 'deck', 'num_in_group',\n",
       "        'Destination', 'num_w_in_group', 'fam_board_together'],\n",
       "       dtype='object'))"
      ]
     },
     "execution_count": 132,
     "metadata": {},
     "output_type": "execute_result"
    }
   ],
   "source": [
    "test_xs.columns, valid_xs_final.columns"
   ]
  },
  {
   "cell_type": "code",
   "execution_count": 133,
   "metadata": {},
   "outputs": [],
   "source": [
    "preds = m.predict(test_xs_final)"
   ]
  },
  {
   "cell_type": "code",
   "execution_count": 134,
   "metadata": {},
   "outputs": [
    {
     "data": {
      "text/plain": [
       "array([1, 0, 1, ..., 1, 1, 1], dtype=int8)"
      ]
     },
     "execution_count": 134,
     "metadata": {},
     "output_type": "execute_result"
    }
   ],
   "source": [
    "preds"
   ]
  },
  {
   "cell_type": "code",
   "execution_count": 135,
   "metadata": {},
   "outputs": [
    {
     "data": {
      "text/html": [
       "<div>\n",
       "<style scoped>\n",
       "    .dataframe tbody tr th:only-of-type {\n",
       "        vertical-align: middle;\n",
       "    }\n",
       "\n",
       "    .dataframe tbody tr th {\n",
       "        vertical-align: top;\n",
       "    }\n",
       "\n",
       "    .dataframe thead th {\n",
       "        text-align: right;\n",
       "    }\n",
       "</style>\n",
       "<table border=\"1\" class=\"dataframe\">\n",
       "  <thead>\n",
       "    <tr style=\"text-align: right;\">\n",
       "      <th></th>\n",
       "      <th>PassengerId</th>\n",
       "      <th>Transported</th>\n",
       "    </tr>\n",
       "  </thead>\n",
       "  <tbody>\n",
       "    <tr>\n",
       "      <th>0</th>\n",
       "      <td>0013_01</td>\n",
       "      <td>False</td>\n",
       "    </tr>\n",
       "    <tr>\n",
       "      <th>1</th>\n",
       "      <td>0018_01</td>\n",
       "      <td>False</td>\n",
       "    </tr>\n",
       "    <tr>\n",
       "      <th>2</th>\n",
       "      <td>0019_01</td>\n",
       "      <td>False</td>\n",
       "    </tr>\n",
       "    <tr>\n",
       "      <th>3</th>\n",
       "      <td>0021_01</td>\n",
       "      <td>False</td>\n",
       "    </tr>\n",
       "    <tr>\n",
       "      <th>4</th>\n",
       "      <td>0023_01</td>\n",
       "      <td>False</td>\n",
       "    </tr>\n",
       "  </tbody>\n",
       "</table>\n",
       "</div>"
      ],
      "text/plain": [
       "  PassengerId  Transported\n",
       "0     0013_01        False\n",
       "1     0018_01        False\n",
       "2     0019_01        False\n",
       "3     0021_01        False\n",
       "4     0023_01        False"
      ]
     },
     "execution_count": 135,
     "metadata": {},
     "output_type": "execute_result"
    }
   ],
   "source": [
    "sample_df.head()"
   ]
  },
  {
   "cell_type": "code",
   "execution_count": 136,
   "metadata": {},
   "outputs": [],
   "source": [
    "sample_df['Transported'] = preds.astype(bool)"
   ]
  },
  {
   "cell_type": "code",
   "execution_count": 137,
   "metadata": {},
   "outputs": [
    {
     "data": {
      "text/plain": [
       "PassengerId  Transported\n",
       "0013_01      True           1\n",
       "6288_02      False          1\n",
       "6269_01      False          1\n",
       "6269_02      False          1\n",
       "6269_03      True           1\n",
       "                           ..\n",
       "3072_01      True           1\n",
       "3074_01      True           1\n",
       "3075_01      False          1\n",
       "3077_01      True           1\n",
       "9277_01      True           1\n",
       "Length: 4277, dtype: int64"
      ]
     },
     "execution_count": 137,
     "metadata": {},
     "output_type": "execute_result"
    }
   ],
   "source": [
    "sample_df.value_counts()"
   ]
  },
  {
   "cell_type": "code",
   "execution_count": 138,
   "metadata": {},
   "outputs": [],
   "source": [
    "sub_df = sample_df"
   ]
  },
  {
   "cell_type": "code",
   "execution_count": 139,
   "metadata": {},
   "outputs": [
    {
     "data": {
      "text/html": [
       "<div>\n",
       "<style scoped>\n",
       "    .dataframe tbody tr th:only-of-type {\n",
       "        vertical-align: middle;\n",
       "    }\n",
       "\n",
       "    .dataframe tbody tr th {\n",
       "        vertical-align: top;\n",
       "    }\n",
       "\n",
       "    .dataframe thead th {\n",
       "        text-align: right;\n",
       "    }\n",
       "</style>\n",
       "<table border=\"1\" class=\"dataframe\">\n",
       "  <thead>\n",
       "    <tr style=\"text-align: right;\">\n",
       "      <th></th>\n",
       "      <th>PassengerId</th>\n",
       "      <th>Transported</th>\n",
       "    </tr>\n",
       "  </thead>\n",
       "  <tbody>\n",
       "    <tr>\n",
       "      <th>0</th>\n",
       "      <td>0013_01</td>\n",
       "      <td>True</td>\n",
       "    </tr>\n",
       "    <tr>\n",
       "      <th>1</th>\n",
       "      <td>0018_01</td>\n",
       "      <td>False</td>\n",
       "    </tr>\n",
       "    <tr>\n",
       "      <th>2</th>\n",
       "      <td>0019_01</td>\n",
       "      <td>True</td>\n",
       "    </tr>\n",
       "    <tr>\n",
       "      <th>3</th>\n",
       "      <td>0021_01</td>\n",
       "      <td>True</td>\n",
       "    </tr>\n",
       "    <tr>\n",
       "      <th>4</th>\n",
       "      <td>0023_01</td>\n",
       "      <td>True</td>\n",
       "    </tr>\n",
       "    <tr>\n",
       "      <th>...</th>\n",
       "      <td>...</td>\n",
       "      <td>...</td>\n",
       "    </tr>\n",
       "    <tr>\n",
       "      <th>4272</th>\n",
       "      <td>9266_02</td>\n",
       "      <td>True</td>\n",
       "    </tr>\n",
       "    <tr>\n",
       "      <th>4273</th>\n",
       "      <td>9269_01</td>\n",
       "      <td>False</td>\n",
       "    </tr>\n",
       "    <tr>\n",
       "      <th>4274</th>\n",
       "      <td>9271_01</td>\n",
       "      <td>True</td>\n",
       "    </tr>\n",
       "    <tr>\n",
       "      <th>4275</th>\n",
       "      <td>9273_01</td>\n",
       "      <td>True</td>\n",
       "    </tr>\n",
       "    <tr>\n",
       "      <th>4276</th>\n",
       "      <td>9277_01</td>\n",
       "      <td>True</td>\n",
       "    </tr>\n",
       "  </tbody>\n",
       "</table>\n",
       "<p>4277 rows × 2 columns</p>\n",
       "</div>"
      ],
      "text/plain": [
       "     PassengerId  Transported\n",
       "0        0013_01         True\n",
       "1        0018_01        False\n",
       "2        0019_01         True\n",
       "3        0021_01         True\n",
       "4        0023_01         True\n",
       "...          ...          ...\n",
       "4272     9266_02         True\n",
       "4273     9269_01        False\n",
       "4274     9271_01         True\n",
       "4275     9273_01         True\n",
       "4276     9277_01         True\n",
       "\n",
       "[4277 rows x 2 columns]"
      ]
     },
     "execution_count": 139,
     "metadata": {},
     "output_type": "execute_result"
    }
   ],
   "source": [
    "sub_df"
   ]
  },
  {
   "cell_type": "code",
   "execution_count": 140,
   "metadata": {},
   "outputs": [],
   "source": [
    "sub_df.to_csv('submission.csv', index=False)"
   ]
  }
 ],
 "metadata": {
  "kernelspec": {
   "display_name": "base",
   "language": "python",
   "name": "python3"
  },
  "language_info": {
   "codemirror_mode": {
    "name": "ipython",
    "version": 3
   },
   "file_extension": ".py",
   "mimetype": "text/x-python",
   "name": "python",
   "nbconvert_exporter": "python",
   "pygments_lexer": "ipython3",
   "version": "3.10.6"
  },
  "orig_nbformat": 4,
  "vscode": {
   "interpreter": {
    "hash": "f4702a165a03ade35e40e0221d250a3a44a346cfc16a49ce6d051d1595069b46"
   }
  }
 },
 "nbformat": 4,
 "nbformat_minor": 2
}
