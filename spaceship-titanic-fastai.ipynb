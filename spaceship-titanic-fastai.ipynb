{
 "cells": [
  {
   "cell_type": "markdown",
   "metadata": {},
   "source": [
    "### Spaceship Titanic with fastai"
   ]
  },
  {
   "cell_type": "markdown",
   "metadata": {},
   "source": [
    "Competition [Link](https://www.kaggle.com/competitions/spaceship-titanic/overview)"
   ]
  },
  {
   "cell_type": "code",
   "execution_count": 1,
   "metadata": {},
   "outputs": [],
   "source": [
    "#|default_exp app"
   ]
  },
  {
   "cell_type": "code",
   "execution_count": 2,
   "metadata": {},
   "outputs": [],
   "source": [
    "#The Following cell of code is used everytime FASTAI library is used.\n",
    "#They tell the notebook to reload any changes made to any libraries used.\n",
    "#They also ensure that any graphs are plotted are shown in this notebook\n",
    "%reload_ext autoreload\n",
    "%autoreload 2\n",
    "%matplotlib inline"
   ]
  },
  {
   "cell_type": "code",
   "execution_count": 3,
   "metadata": {},
   "outputs": [],
   "source": [
    "from fastai.tabular.all import *\n",
    "from fastbook import *\n",
    "\n",
    "from sklearn.ensemble import RandomForestClassifier\n",
    "from sklearn.tree import DecisionTreeClassifier\n",
    "from sklearn.linear_model import LogisticRegression\n",
    "from sklearn.metrics import accuracy_score\n",
    "from sklearn.preprocessing import LabelEncoder\n",
    "\n",
    "import seaborn as sns\n",
    "\n",
    "from dtreeviz.trees import *\n",
    "import dtreeviz\n",
    "\n",
    "from IPython.display import Image, display_svg, SVG"
   ]
  },
  {
   "cell_type": "code",
   "execution_count": 4,
   "metadata": {},
   "outputs": [],
   "source": [
    "#| export\n",
    "iskaggle = os.environ.get('KAGGLE_KERNEL_RUN_TYPE', '')\n",
    "creds = ''"
   ]
  },
  {
   "cell_type": "code",
   "execution_count": 5,
   "metadata": {},
   "outputs": [],
   "source": [
    "#| export\n",
    "cred_path = Path('~/.kaggle/kaggle.json').expanduser()\n",
    "if not cred_path.exists():\n",
    "    cred_path.parent.mkdir(exist_ok=True)\n",
    "    cred_path.write_text(creds)\n",
    "    cred_path.chmod(0o600)"
   ]
  },
  {
   "cell_type": "code",
   "execution_count": 6,
   "metadata": {},
   "outputs": [],
   "source": [
    "#| export\n",
    "path = Path('spaceship-titanic')"
   ]
  },
  {
   "cell_type": "code",
   "execution_count": 7,
   "metadata": {},
   "outputs": [],
   "source": [
    "#| export\n",
    "if not iskaggle and not path.exists():\n",
    "    import zipfile, kaggle\n",
    "    kaggle.api.competition_download_cli(str(path))    \n",
    "    zipfile.ZipFile(f'{path}.zip').extractall(path)"
   ]
  },
  {
   "cell_type": "code",
   "execution_count": 8,
   "metadata": {},
   "outputs": [],
   "source": [
    "#| export\n",
    "if iskaggle:\n",
    "    path = Path('../input/spaceship-titanic')\n",
    "    ! pip install -q dataset"
   ]
  },
  {
   "cell_type": "markdown",
   "metadata": {},
   "source": [
    "Import CSV's as Pandas Dataframes"
   ]
  },
  {
   "cell_type": "code",
   "execution_count": 9,
   "metadata": {},
   "outputs": [],
   "source": [
    "#| export\n",
    "df = pd.read_csv(path/'train.csv', low_memory=False)\n",
    "test_df = pd.read_csv(path/'test.csv', low_memory=False)\n",
    "sample_df = pd.read_csv(path/'sample_submission.csv', low_memory=False)"
   ]
  },
  {
   "cell_type": "code",
   "execution_count": 10,
   "metadata": {},
   "outputs": [
    {
     "data": {
      "text/html": [
       "<div>\n",
       "<style scoped>\n",
       "    .dataframe tbody tr th:only-of-type {\n",
       "        vertical-align: middle;\n",
       "    }\n",
       "\n",
       "    .dataframe tbody tr th {\n",
       "        vertical-align: top;\n",
       "    }\n",
       "\n",
       "    .dataframe thead th {\n",
       "        text-align: right;\n",
       "    }\n",
       "</style>\n",
       "<table border=\"1\" class=\"dataframe\">\n",
       "  <thead>\n",
       "    <tr style=\"text-align: right;\">\n",
       "      <th></th>\n",
       "      <th>PassengerId</th>\n",
       "      <th>HomePlanet</th>\n",
       "      <th>CryoSleep</th>\n",
       "      <th>Cabin</th>\n",
       "      <th>Destination</th>\n",
       "      <th>Age</th>\n",
       "      <th>VIP</th>\n",
       "      <th>RoomService</th>\n",
       "      <th>FoodCourt</th>\n",
       "      <th>ShoppingMall</th>\n",
       "      <th>Spa</th>\n",
       "      <th>VRDeck</th>\n",
       "      <th>Name</th>\n",
       "      <th>Transported</th>\n",
       "    </tr>\n",
       "  </thead>\n",
       "  <tbody>\n",
       "    <tr>\n",
       "      <th>0</th>\n",
       "      <td>0001_01</td>\n",
       "      <td>Europa</td>\n",
       "      <td>False</td>\n",
       "      <td>B/0/P</td>\n",
       "      <td>TRAPPIST-1e</td>\n",
       "      <td>39.0</td>\n",
       "      <td>False</td>\n",
       "      <td>0.0</td>\n",
       "      <td>0.0</td>\n",
       "      <td>0.0</td>\n",
       "      <td>0.0</td>\n",
       "      <td>0.0</td>\n",
       "      <td>Maham Ofracculy</td>\n",
       "      <td>False</td>\n",
       "    </tr>\n",
       "    <tr>\n",
       "      <th>1</th>\n",
       "      <td>0002_01</td>\n",
       "      <td>Earth</td>\n",
       "      <td>False</td>\n",
       "      <td>F/0/S</td>\n",
       "      <td>TRAPPIST-1e</td>\n",
       "      <td>24.0</td>\n",
       "      <td>False</td>\n",
       "      <td>109.0</td>\n",
       "      <td>9.0</td>\n",
       "      <td>25.0</td>\n",
       "      <td>549.0</td>\n",
       "      <td>44.0</td>\n",
       "      <td>Juanna Vines</td>\n",
       "      <td>True</td>\n",
       "    </tr>\n",
       "    <tr>\n",
       "      <th>2</th>\n",
       "      <td>0003_01</td>\n",
       "      <td>Europa</td>\n",
       "      <td>False</td>\n",
       "      <td>A/0/S</td>\n",
       "      <td>TRAPPIST-1e</td>\n",
       "      <td>58.0</td>\n",
       "      <td>True</td>\n",
       "      <td>43.0</td>\n",
       "      <td>3576.0</td>\n",
       "      <td>0.0</td>\n",
       "      <td>6715.0</td>\n",
       "      <td>49.0</td>\n",
       "      <td>Altark Susent</td>\n",
       "      <td>False</td>\n",
       "    </tr>\n",
       "    <tr>\n",
       "      <th>3</th>\n",
       "      <td>0003_02</td>\n",
       "      <td>Europa</td>\n",
       "      <td>False</td>\n",
       "      <td>A/0/S</td>\n",
       "      <td>TRAPPIST-1e</td>\n",
       "      <td>33.0</td>\n",
       "      <td>False</td>\n",
       "      <td>0.0</td>\n",
       "      <td>1283.0</td>\n",
       "      <td>371.0</td>\n",
       "      <td>3329.0</td>\n",
       "      <td>193.0</td>\n",
       "      <td>Solam Susent</td>\n",
       "      <td>False</td>\n",
       "    </tr>\n",
       "    <tr>\n",
       "      <th>4</th>\n",
       "      <td>0004_01</td>\n",
       "      <td>Earth</td>\n",
       "      <td>False</td>\n",
       "      <td>F/1/S</td>\n",
       "      <td>TRAPPIST-1e</td>\n",
       "      <td>16.0</td>\n",
       "      <td>False</td>\n",
       "      <td>303.0</td>\n",
       "      <td>70.0</td>\n",
       "      <td>151.0</td>\n",
       "      <td>565.0</td>\n",
       "      <td>2.0</td>\n",
       "      <td>Willy Santantines</td>\n",
       "      <td>True</td>\n",
       "    </tr>\n",
       "  </tbody>\n",
       "</table>\n",
       "</div>"
      ],
      "text/plain": [
       "  PassengerId HomePlanet CryoSleep  Cabin  Destination   Age    VIP  \\\n",
       "0     0001_01     Europa     False  B/0/P  TRAPPIST-1e  39.0  False   \n",
       "1     0002_01      Earth     False  F/0/S  TRAPPIST-1e  24.0  False   \n",
       "2     0003_01     Europa     False  A/0/S  TRAPPIST-1e  58.0   True   \n",
       "3     0003_02     Europa     False  A/0/S  TRAPPIST-1e  33.0  False   \n",
       "4     0004_01      Earth     False  F/1/S  TRAPPIST-1e  16.0  False   \n",
       "\n",
       "   RoomService  FoodCourt  ShoppingMall     Spa  VRDeck               Name  \\\n",
       "0          0.0        0.0           0.0     0.0     0.0    Maham Ofracculy   \n",
       "1        109.0        9.0          25.0   549.0    44.0       Juanna Vines   \n",
       "2         43.0     3576.0           0.0  6715.0    49.0      Altark Susent   \n",
       "3          0.0     1283.0         371.0  3329.0   193.0       Solam Susent   \n",
       "4        303.0       70.0         151.0   565.0     2.0  Willy Santantines   \n",
       "\n",
       "   Transported  \n",
       "0        False  \n",
       "1         True  \n",
       "2        False  \n",
       "3        False  \n",
       "4         True  "
      ]
     },
     "execution_count": 10,
     "metadata": {},
     "output_type": "execute_result"
    }
   ],
   "source": [
    "df.head()"
   ]
  },
  {
   "cell_type": "code",
   "execution_count": 11,
   "metadata": {},
   "outputs": [
    {
     "data": {
      "text/plain": [
       "8693"
      ]
     },
     "execution_count": 11,
     "metadata": {},
     "output_type": "execute_result"
    }
   ],
   "source": [
    "len(df)"
   ]
  },
  {
   "cell_type": "code",
   "execution_count": 12,
   "metadata": {},
   "outputs": [
    {
     "data": {
      "text/plain": [
       "(4277, 13)"
      ]
     },
     "execution_count": 12,
     "metadata": {},
     "output_type": "execute_result"
    }
   ],
   "source": [
    "test_df.shape"
   ]
  },
  {
   "cell_type": "code",
   "execution_count": 13,
   "metadata": {},
   "outputs": [
    {
     "data": {
      "text/html": [
       "<div>\n",
       "<style scoped>\n",
       "    .dataframe tbody tr th:only-of-type {\n",
       "        vertical-align: middle;\n",
       "    }\n",
       "\n",
       "    .dataframe tbody tr th {\n",
       "        vertical-align: top;\n",
       "    }\n",
       "\n",
       "    .dataframe thead th {\n",
       "        text-align: right;\n",
       "    }\n",
       "</style>\n",
       "<table border=\"1\" class=\"dataframe\">\n",
       "  <thead>\n",
       "    <tr style=\"text-align: right;\">\n",
       "      <th></th>\n",
       "      <th>PassengerId</th>\n",
       "      <th>HomePlanet</th>\n",
       "      <th>CryoSleep</th>\n",
       "      <th>Cabin</th>\n",
       "      <th>Destination</th>\n",
       "      <th>Age</th>\n",
       "      <th>VIP</th>\n",
       "      <th>RoomService</th>\n",
       "      <th>FoodCourt</th>\n",
       "      <th>ShoppingMall</th>\n",
       "      <th>Spa</th>\n",
       "      <th>VRDeck</th>\n",
       "      <th>Name</th>\n",
       "    </tr>\n",
       "  </thead>\n",
       "  <tbody>\n",
       "    <tr>\n",
       "      <th>0</th>\n",
       "      <td>0013_01</td>\n",
       "      <td>Earth</td>\n",
       "      <td>True</td>\n",
       "      <td>G/3/S</td>\n",
       "      <td>TRAPPIST-1e</td>\n",
       "      <td>27.0</td>\n",
       "      <td>False</td>\n",
       "      <td>0.0</td>\n",
       "      <td>0.0</td>\n",
       "      <td>0.0</td>\n",
       "      <td>0.0</td>\n",
       "      <td>0.0</td>\n",
       "      <td>Nelly Carsoning</td>\n",
       "    </tr>\n",
       "    <tr>\n",
       "      <th>1</th>\n",
       "      <td>0018_01</td>\n",
       "      <td>Earth</td>\n",
       "      <td>False</td>\n",
       "      <td>F/4/S</td>\n",
       "      <td>TRAPPIST-1e</td>\n",
       "      <td>19.0</td>\n",
       "      <td>False</td>\n",
       "      <td>0.0</td>\n",
       "      <td>9.0</td>\n",
       "      <td>0.0</td>\n",
       "      <td>2823.0</td>\n",
       "      <td>0.0</td>\n",
       "      <td>Lerome Peckers</td>\n",
       "    </tr>\n",
       "    <tr>\n",
       "      <th>2</th>\n",
       "      <td>0019_01</td>\n",
       "      <td>Europa</td>\n",
       "      <td>True</td>\n",
       "      <td>C/0/S</td>\n",
       "      <td>55 Cancri e</td>\n",
       "      <td>31.0</td>\n",
       "      <td>False</td>\n",
       "      <td>0.0</td>\n",
       "      <td>0.0</td>\n",
       "      <td>0.0</td>\n",
       "      <td>0.0</td>\n",
       "      <td>0.0</td>\n",
       "      <td>Sabih Unhearfus</td>\n",
       "    </tr>\n",
       "    <tr>\n",
       "      <th>3</th>\n",
       "      <td>0021_01</td>\n",
       "      <td>Europa</td>\n",
       "      <td>False</td>\n",
       "      <td>C/1/S</td>\n",
       "      <td>TRAPPIST-1e</td>\n",
       "      <td>38.0</td>\n",
       "      <td>False</td>\n",
       "      <td>0.0</td>\n",
       "      <td>6652.0</td>\n",
       "      <td>0.0</td>\n",
       "      <td>181.0</td>\n",
       "      <td>585.0</td>\n",
       "      <td>Meratz Caltilter</td>\n",
       "    </tr>\n",
       "    <tr>\n",
       "      <th>4</th>\n",
       "      <td>0023_01</td>\n",
       "      <td>Earth</td>\n",
       "      <td>False</td>\n",
       "      <td>F/5/S</td>\n",
       "      <td>TRAPPIST-1e</td>\n",
       "      <td>20.0</td>\n",
       "      <td>False</td>\n",
       "      <td>10.0</td>\n",
       "      <td>0.0</td>\n",
       "      <td>635.0</td>\n",
       "      <td>0.0</td>\n",
       "      <td>0.0</td>\n",
       "      <td>Brence Harperez</td>\n",
       "    </tr>\n",
       "  </tbody>\n",
       "</table>\n",
       "</div>"
      ],
      "text/plain": [
       "  PassengerId HomePlanet CryoSleep  Cabin  Destination   Age    VIP  \\\n",
       "0     0013_01      Earth      True  G/3/S  TRAPPIST-1e  27.0  False   \n",
       "1     0018_01      Earth     False  F/4/S  TRAPPIST-1e  19.0  False   \n",
       "2     0019_01     Europa      True  C/0/S  55 Cancri e  31.0  False   \n",
       "3     0021_01     Europa     False  C/1/S  TRAPPIST-1e  38.0  False   \n",
       "4     0023_01      Earth     False  F/5/S  TRAPPIST-1e  20.0  False   \n",
       "\n",
       "   RoomService  FoodCourt  ShoppingMall     Spa  VRDeck              Name  \n",
       "0          0.0        0.0           0.0     0.0     0.0   Nelly Carsoning  \n",
       "1          0.0        9.0           0.0  2823.0     0.0    Lerome Peckers  \n",
       "2          0.0        0.0           0.0     0.0     0.0   Sabih Unhearfus  \n",
       "3          0.0     6652.0           0.0   181.0   585.0  Meratz Caltilter  \n",
       "4         10.0        0.0         635.0     0.0     0.0   Brence Harperez  "
      ]
     },
     "execution_count": 13,
     "metadata": {},
     "output_type": "execute_result"
    }
   ],
   "source": [
    "test_df.head()"
   ]
  },
  {
   "cell_type": "code",
   "execution_count": null,
   "metadata": {},
   "outputs": [],
   "source": []
  },
  {
   "attachments": {},
   "cell_type": "markdown",
   "metadata": {},
   "source": [
    "This name on such a small dataset could cause overfitting, so I'm going to try splitting into families by last name. I'll also be dropping `Name` as a category afterward"
   ]
  },
  {
   "cell_type": "code",
   "execution_count": 14,
   "metadata": {},
   "outputs": [],
   "source": [
    "df['surname'] = df['Name'].str.split(' ').str[1]"
   ]
  },
  {
   "cell_type": "code",
   "execution_count": 15,
   "metadata": {},
   "outputs": [],
   "source": [
    "test_df['surname'] = test_df['Name'].str.split(' ').str[1]"
   ]
  },
  {
   "cell_type": "code",
   "execution_count": 16,
   "metadata": {},
   "outputs": [],
   "source": [
    "df = df.drop(['Name'], axis=1)"
   ]
  },
  {
   "cell_type": "code",
   "execution_count": 17,
   "metadata": {},
   "outputs": [],
   "source": [
    "test_df = test_df.drop(['Name'], axis=1)"
   ]
  },
  {
   "cell_type": "markdown",
   "metadata": {},
   "source": [
    "Looking at this there's some extra data we can extract to new columns, *PassengerId* looks like it's by group number and the number in a particular group, split with an underscore `_` "
   ]
  },
  {
   "cell_type": "code",
   "execution_count": 18,
   "metadata": {},
   "outputs": [],
   "source": [
    "df['group_num'] = df['PassengerId'].str.split('_').str[0]\n",
    "df['num_w_in_group'] = df['PassengerId'].str.split('_').str[1]"
   ]
  },
  {
   "cell_type": "code",
   "execution_count": 19,
   "metadata": {},
   "outputs": [],
   "source": [
    "test_df['group_num'] =test_df['PassengerId'].str.split('_').str[0]\n",
    "test_df['num_w_in_group'] =test_df['PassengerId'].str.split('_').str[1]"
   ]
  },
  {
   "cell_type": "markdown",
   "metadata": {},
   "source": [
    "The same is true for the Cabin, there are 3 different values to analyze here, so let's split them up as well"
   ]
  },
  {
   "cell_type": "code",
   "execution_count": 20,
   "metadata": {},
   "outputs": [],
   "source": [
    "df['deck'] = df['Cabin'].str.split('/').str[0]\n",
    "df['room_num'] = df['Cabin'].str.split('/').str[1]\n",
    "df['side'] = df['Cabin'].str.split('/').str[2]"
   ]
  },
  {
   "cell_type": "code",
   "execution_count": 21,
   "metadata": {},
   "outputs": [],
   "source": [
    "test_df['deck'] = test_df['Cabin'].str.split('/').str[0]\n",
    "test_df['room_num'] = test_df['Cabin'].str.split('/').str[1]\n",
    "test_df['side'] = test_df['Cabin'].str.split('/').str[2]"
   ]
  },
  {
   "cell_type": "code",
   "execution_count": 22,
   "metadata": {},
   "outputs": [
    {
     "data": {
      "text/html": [
       "<div>\n",
       "<style scoped>\n",
       "    .dataframe tbody tr th:only-of-type {\n",
       "        vertical-align: middle;\n",
       "    }\n",
       "\n",
       "    .dataframe tbody tr th {\n",
       "        vertical-align: top;\n",
       "    }\n",
       "\n",
       "    .dataframe thead th {\n",
       "        text-align: right;\n",
       "    }\n",
       "</style>\n",
       "<table border=\"1\" class=\"dataframe\">\n",
       "  <thead>\n",
       "    <tr style=\"text-align: right;\">\n",
       "      <th></th>\n",
       "      <th>PassengerId</th>\n",
       "      <th>HomePlanet</th>\n",
       "      <th>CryoSleep</th>\n",
       "      <th>Cabin</th>\n",
       "      <th>Destination</th>\n",
       "      <th>Age</th>\n",
       "      <th>VIP</th>\n",
       "      <th>RoomService</th>\n",
       "      <th>FoodCourt</th>\n",
       "      <th>ShoppingMall</th>\n",
       "      <th>Spa</th>\n",
       "      <th>VRDeck</th>\n",
       "      <th>Transported</th>\n",
       "      <th>surname</th>\n",
       "      <th>group_num</th>\n",
       "      <th>num_w_in_group</th>\n",
       "      <th>deck</th>\n",
       "      <th>room_num</th>\n",
       "      <th>side</th>\n",
       "    </tr>\n",
       "  </thead>\n",
       "  <tbody>\n",
       "    <tr>\n",
       "      <th>0</th>\n",
       "      <td>0001_01</td>\n",
       "      <td>Europa</td>\n",
       "      <td>False</td>\n",
       "      <td>B/0/P</td>\n",
       "      <td>TRAPPIST-1e</td>\n",
       "      <td>39.0</td>\n",
       "      <td>False</td>\n",
       "      <td>0.0</td>\n",
       "      <td>0.0</td>\n",
       "      <td>0.0</td>\n",
       "      <td>0.0</td>\n",
       "      <td>0.0</td>\n",
       "      <td>False</td>\n",
       "      <td>Ofracculy</td>\n",
       "      <td>0001</td>\n",
       "      <td>01</td>\n",
       "      <td>B</td>\n",
       "      <td>0</td>\n",
       "      <td>P</td>\n",
       "    </tr>\n",
       "    <tr>\n",
       "      <th>1</th>\n",
       "      <td>0002_01</td>\n",
       "      <td>Earth</td>\n",
       "      <td>False</td>\n",
       "      <td>F/0/S</td>\n",
       "      <td>TRAPPIST-1e</td>\n",
       "      <td>24.0</td>\n",
       "      <td>False</td>\n",
       "      <td>109.0</td>\n",
       "      <td>9.0</td>\n",
       "      <td>25.0</td>\n",
       "      <td>549.0</td>\n",
       "      <td>44.0</td>\n",
       "      <td>True</td>\n",
       "      <td>Vines</td>\n",
       "      <td>0002</td>\n",
       "      <td>01</td>\n",
       "      <td>F</td>\n",
       "      <td>0</td>\n",
       "      <td>S</td>\n",
       "    </tr>\n",
       "    <tr>\n",
       "      <th>2</th>\n",
       "      <td>0003_01</td>\n",
       "      <td>Europa</td>\n",
       "      <td>False</td>\n",
       "      <td>A/0/S</td>\n",
       "      <td>TRAPPIST-1e</td>\n",
       "      <td>58.0</td>\n",
       "      <td>True</td>\n",
       "      <td>43.0</td>\n",
       "      <td>3576.0</td>\n",
       "      <td>0.0</td>\n",
       "      <td>6715.0</td>\n",
       "      <td>49.0</td>\n",
       "      <td>False</td>\n",
       "      <td>Susent</td>\n",
       "      <td>0003</td>\n",
       "      <td>01</td>\n",
       "      <td>A</td>\n",
       "      <td>0</td>\n",
       "      <td>S</td>\n",
       "    </tr>\n",
       "    <tr>\n",
       "      <th>3</th>\n",
       "      <td>0003_02</td>\n",
       "      <td>Europa</td>\n",
       "      <td>False</td>\n",
       "      <td>A/0/S</td>\n",
       "      <td>TRAPPIST-1e</td>\n",
       "      <td>33.0</td>\n",
       "      <td>False</td>\n",
       "      <td>0.0</td>\n",
       "      <td>1283.0</td>\n",
       "      <td>371.0</td>\n",
       "      <td>3329.0</td>\n",
       "      <td>193.0</td>\n",
       "      <td>False</td>\n",
       "      <td>Susent</td>\n",
       "      <td>0003</td>\n",
       "      <td>02</td>\n",
       "      <td>A</td>\n",
       "      <td>0</td>\n",
       "      <td>S</td>\n",
       "    </tr>\n",
       "    <tr>\n",
       "      <th>4</th>\n",
       "      <td>0004_01</td>\n",
       "      <td>Earth</td>\n",
       "      <td>False</td>\n",
       "      <td>F/1/S</td>\n",
       "      <td>TRAPPIST-1e</td>\n",
       "      <td>16.0</td>\n",
       "      <td>False</td>\n",
       "      <td>303.0</td>\n",
       "      <td>70.0</td>\n",
       "      <td>151.0</td>\n",
       "      <td>565.0</td>\n",
       "      <td>2.0</td>\n",
       "      <td>True</td>\n",
       "      <td>Santantines</td>\n",
       "      <td>0004</td>\n",
       "      <td>01</td>\n",
       "      <td>F</td>\n",
       "      <td>1</td>\n",
       "      <td>S</td>\n",
       "    </tr>\n",
       "  </tbody>\n",
       "</table>\n",
       "</div>"
      ],
      "text/plain": [
       "  PassengerId HomePlanet CryoSleep  Cabin  Destination   Age    VIP  \\\n",
       "0     0001_01     Europa     False  B/0/P  TRAPPIST-1e  39.0  False   \n",
       "1     0002_01      Earth     False  F/0/S  TRAPPIST-1e  24.0  False   \n",
       "2     0003_01     Europa     False  A/0/S  TRAPPIST-1e  58.0   True   \n",
       "3     0003_02     Europa     False  A/0/S  TRAPPIST-1e  33.0  False   \n",
       "4     0004_01      Earth     False  F/1/S  TRAPPIST-1e  16.0  False   \n",
       "\n",
       "   RoomService  FoodCourt  ShoppingMall     Spa  VRDeck  Transported  \\\n",
       "0          0.0        0.0           0.0     0.0     0.0        False   \n",
       "1        109.0        9.0          25.0   549.0    44.0         True   \n",
       "2         43.0     3576.0           0.0  6715.0    49.0        False   \n",
       "3          0.0     1283.0         371.0  3329.0   193.0        False   \n",
       "4        303.0       70.0         151.0   565.0     2.0         True   \n",
       "\n",
       "       surname group_num num_w_in_group deck room_num side  \n",
       "0    Ofracculy      0001             01    B        0    P  \n",
       "1        Vines      0002             01    F        0    S  \n",
       "2       Susent      0003             01    A        0    S  \n",
       "3       Susent      0003             02    A        0    S  \n",
       "4  Santantines      0004             01    F        1    S  "
      ]
     },
     "execution_count": 22,
     "metadata": {},
     "output_type": "execute_result"
    }
   ],
   "source": [
    "df.head()"
   ]
  },
  {
   "cell_type": "code",
   "execution_count": 23,
   "metadata": {},
   "outputs": [
    {
     "data": {
      "text/plain": [
       "(8693, 19)"
      ]
     },
     "execution_count": 23,
     "metadata": {},
     "output_type": "execute_result"
    }
   ],
   "source": [
    "df.shape"
   ]
  },
  {
   "cell_type": "code",
   "execution_count": 24,
   "metadata": {},
   "outputs": [
    {
     "data": {
      "text/html": [
       "<div>\n",
       "<style scoped>\n",
       "    .dataframe tbody tr th:only-of-type {\n",
       "        vertical-align: middle;\n",
       "    }\n",
       "\n",
       "    .dataframe tbody tr th {\n",
       "        vertical-align: top;\n",
       "    }\n",
       "\n",
       "    .dataframe thead th {\n",
       "        text-align: right;\n",
       "    }\n",
       "</style>\n",
       "<table border=\"1\" class=\"dataframe\">\n",
       "  <thead>\n",
       "    <tr style=\"text-align: right;\">\n",
       "      <th></th>\n",
       "      <th>PassengerId</th>\n",
       "      <th>HomePlanet</th>\n",
       "      <th>CryoSleep</th>\n",
       "      <th>Cabin</th>\n",
       "      <th>Destination</th>\n",
       "      <th>Age</th>\n",
       "      <th>VIP</th>\n",
       "      <th>RoomService</th>\n",
       "      <th>FoodCourt</th>\n",
       "      <th>ShoppingMall</th>\n",
       "      <th>Spa</th>\n",
       "      <th>VRDeck</th>\n",
       "      <th>surname</th>\n",
       "      <th>group_num</th>\n",
       "      <th>num_w_in_group</th>\n",
       "      <th>deck</th>\n",
       "      <th>room_num</th>\n",
       "      <th>side</th>\n",
       "    </tr>\n",
       "  </thead>\n",
       "  <tbody>\n",
       "    <tr>\n",
       "      <th>0</th>\n",
       "      <td>0013_01</td>\n",
       "      <td>Earth</td>\n",
       "      <td>True</td>\n",
       "      <td>G/3/S</td>\n",
       "      <td>TRAPPIST-1e</td>\n",
       "      <td>27.0</td>\n",
       "      <td>False</td>\n",
       "      <td>0.0</td>\n",
       "      <td>0.0</td>\n",
       "      <td>0.0</td>\n",
       "      <td>0.0</td>\n",
       "      <td>0.0</td>\n",
       "      <td>Carsoning</td>\n",
       "      <td>0013</td>\n",
       "      <td>01</td>\n",
       "      <td>G</td>\n",
       "      <td>3</td>\n",
       "      <td>S</td>\n",
       "    </tr>\n",
       "    <tr>\n",
       "      <th>1</th>\n",
       "      <td>0018_01</td>\n",
       "      <td>Earth</td>\n",
       "      <td>False</td>\n",
       "      <td>F/4/S</td>\n",
       "      <td>TRAPPIST-1e</td>\n",
       "      <td>19.0</td>\n",
       "      <td>False</td>\n",
       "      <td>0.0</td>\n",
       "      <td>9.0</td>\n",
       "      <td>0.0</td>\n",
       "      <td>2823.0</td>\n",
       "      <td>0.0</td>\n",
       "      <td>Peckers</td>\n",
       "      <td>0018</td>\n",
       "      <td>01</td>\n",
       "      <td>F</td>\n",
       "      <td>4</td>\n",
       "      <td>S</td>\n",
       "    </tr>\n",
       "    <tr>\n",
       "      <th>2</th>\n",
       "      <td>0019_01</td>\n",
       "      <td>Europa</td>\n",
       "      <td>True</td>\n",
       "      <td>C/0/S</td>\n",
       "      <td>55 Cancri e</td>\n",
       "      <td>31.0</td>\n",
       "      <td>False</td>\n",
       "      <td>0.0</td>\n",
       "      <td>0.0</td>\n",
       "      <td>0.0</td>\n",
       "      <td>0.0</td>\n",
       "      <td>0.0</td>\n",
       "      <td>Unhearfus</td>\n",
       "      <td>0019</td>\n",
       "      <td>01</td>\n",
       "      <td>C</td>\n",
       "      <td>0</td>\n",
       "      <td>S</td>\n",
       "    </tr>\n",
       "    <tr>\n",
       "      <th>3</th>\n",
       "      <td>0021_01</td>\n",
       "      <td>Europa</td>\n",
       "      <td>False</td>\n",
       "      <td>C/1/S</td>\n",
       "      <td>TRAPPIST-1e</td>\n",
       "      <td>38.0</td>\n",
       "      <td>False</td>\n",
       "      <td>0.0</td>\n",
       "      <td>6652.0</td>\n",
       "      <td>0.0</td>\n",
       "      <td>181.0</td>\n",
       "      <td>585.0</td>\n",
       "      <td>Caltilter</td>\n",
       "      <td>0021</td>\n",
       "      <td>01</td>\n",
       "      <td>C</td>\n",
       "      <td>1</td>\n",
       "      <td>S</td>\n",
       "    </tr>\n",
       "    <tr>\n",
       "      <th>4</th>\n",
       "      <td>0023_01</td>\n",
       "      <td>Earth</td>\n",
       "      <td>False</td>\n",
       "      <td>F/5/S</td>\n",
       "      <td>TRAPPIST-1e</td>\n",
       "      <td>20.0</td>\n",
       "      <td>False</td>\n",
       "      <td>10.0</td>\n",
       "      <td>0.0</td>\n",
       "      <td>635.0</td>\n",
       "      <td>0.0</td>\n",
       "      <td>0.0</td>\n",
       "      <td>Harperez</td>\n",
       "      <td>0023</td>\n",
       "      <td>01</td>\n",
       "      <td>F</td>\n",
       "      <td>5</td>\n",
       "      <td>S</td>\n",
       "    </tr>\n",
       "  </tbody>\n",
       "</table>\n",
       "</div>"
      ],
      "text/plain": [
       "  PassengerId HomePlanet CryoSleep  Cabin  Destination   Age    VIP  \\\n",
       "0     0013_01      Earth      True  G/3/S  TRAPPIST-1e  27.0  False   \n",
       "1     0018_01      Earth     False  F/4/S  TRAPPIST-1e  19.0  False   \n",
       "2     0019_01     Europa      True  C/0/S  55 Cancri e  31.0  False   \n",
       "3     0021_01     Europa     False  C/1/S  TRAPPIST-1e  38.0  False   \n",
       "4     0023_01      Earth     False  F/5/S  TRAPPIST-1e  20.0  False   \n",
       "\n",
       "   RoomService  FoodCourt  ShoppingMall     Spa  VRDeck    surname group_num  \\\n",
       "0          0.0        0.0           0.0     0.0     0.0  Carsoning      0013   \n",
       "1          0.0        9.0           0.0  2823.0     0.0    Peckers      0018   \n",
       "2          0.0        0.0           0.0     0.0     0.0  Unhearfus      0019   \n",
       "3          0.0     6652.0           0.0   181.0   585.0  Caltilter      0021   \n",
       "4         10.0        0.0         635.0     0.0     0.0   Harperez      0023   \n",
       "\n",
       "  num_w_in_group deck room_num side  \n",
       "0             01    G        3    S  \n",
       "1             01    F        4    S  \n",
       "2             01    C        0    S  \n",
       "3             01    C        1    S  \n",
       "4             01    F        5    S  "
      ]
     },
     "execution_count": 24,
     "metadata": {},
     "output_type": "execute_result"
    }
   ],
   "source": [
    "test_df.head()"
   ]
  },
  {
   "cell_type": "markdown",
   "metadata": {},
   "source": [
    "Take the max number of the last two digits in PassengerId given that the first four numbers are the same"
   ]
  },
  {
   "cell_type": "code",
   "execution_count": 25,
   "metadata": {},
   "outputs": [],
   "source": [
    "df['num_w_in_group'] = df['num_w_in_group'].astype(int)"
   ]
  },
  {
   "cell_type": "code",
   "execution_count": 26,
   "metadata": {},
   "outputs": [],
   "source": [
    "test_df['num_w_in_group'] = test_df['num_w_in_group'].astype(int)"
   ]
  },
  {
   "cell_type": "code",
   "execution_count": 27,
   "metadata": {},
   "outputs": [],
   "source": [
    "max_num_in_group = df.groupby('group_num')['num_w_in_group'].max().astype(int)"
   ]
  },
  {
   "cell_type": "code",
   "execution_count": 28,
   "metadata": {},
   "outputs": [],
   "source": [
    "test_max_num_in_group = test_df.groupby('group_num')['num_w_in_group'].max().astype(int)"
   ]
  },
  {
   "cell_type": "code",
   "execution_count": 29,
   "metadata": {},
   "outputs": [
    {
     "data": {
      "text/plain": [
       "6217"
      ]
     },
     "execution_count": 29,
     "metadata": {},
     "output_type": "execute_result"
    }
   ],
   "source": [
    "len(max_num_in_group)"
   ]
  },
  {
   "cell_type": "code",
   "execution_count": 30,
   "metadata": {},
   "outputs": [
    {
     "data": {
      "text/plain": [
       "group_num\n",
       "0001    1\n",
       "0002    1\n",
       "0003    2\n",
       "0004    1\n",
       "0005    1\n",
       "Name: num_w_in_group, dtype: int64"
      ]
     },
     "execution_count": 30,
     "metadata": {},
     "output_type": "execute_result"
    }
   ],
   "source": [
    "max_num_in_group.head()"
   ]
  },
  {
   "cell_type": "code",
   "execution_count": 31,
   "metadata": {},
   "outputs": [],
   "source": [
    "df['num_in_group'] = df['group_num'].map(max_num_in_group)"
   ]
  },
  {
   "cell_type": "code",
   "execution_count": 32,
   "metadata": {},
   "outputs": [],
   "source": [
    "test_df['num_in_group'] = test_df['group_num'].map(test_max_num_in_group)"
   ]
  },
  {
   "cell_type": "code",
   "execution_count": 33,
   "metadata": {},
   "outputs": [
    {
     "data": {
      "text/html": [
       "<div>\n",
       "<style scoped>\n",
       "    .dataframe tbody tr th:only-of-type {\n",
       "        vertical-align: middle;\n",
       "    }\n",
       "\n",
       "    .dataframe tbody tr th {\n",
       "        vertical-align: top;\n",
       "    }\n",
       "\n",
       "    .dataframe thead th {\n",
       "        text-align: right;\n",
       "    }\n",
       "</style>\n",
       "<table border=\"1\" class=\"dataframe\">\n",
       "  <thead>\n",
       "    <tr style=\"text-align: right;\">\n",
       "      <th></th>\n",
       "      <th>PassengerId</th>\n",
       "      <th>HomePlanet</th>\n",
       "      <th>CryoSleep</th>\n",
       "      <th>Cabin</th>\n",
       "      <th>Destination</th>\n",
       "      <th>Age</th>\n",
       "      <th>VIP</th>\n",
       "      <th>RoomService</th>\n",
       "      <th>FoodCourt</th>\n",
       "      <th>ShoppingMall</th>\n",
       "      <th>Spa</th>\n",
       "      <th>VRDeck</th>\n",
       "      <th>Transported</th>\n",
       "      <th>surname</th>\n",
       "      <th>group_num</th>\n",
       "      <th>num_w_in_group</th>\n",
       "      <th>deck</th>\n",
       "      <th>room_num</th>\n",
       "      <th>side</th>\n",
       "      <th>num_in_group</th>\n",
       "    </tr>\n",
       "  </thead>\n",
       "  <tbody>\n",
       "    <tr>\n",
       "      <th>0</th>\n",
       "      <td>0001_01</td>\n",
       "      <td>Europa</td>\n",
       "      <td>False</td>\n",
       "      <td>B/0/P</td>\n",
       "      <td>TRAPPIST-1e</td>\n",
       "      <td>39.0</td>\n",
       "      <td>False</td>\n",
       "      <td>0.0</td>\n",
       "      <td>0.0</td>\n",
       "      <td>0.0</td>\n",
       "      <td>0.0</td>\n",
       "      <td>0.0</td>\n",
       "      <td>False</td>\n",
       "      <td>Ofracculy</td>\n",
       "      <td>0001</td>\n",
       "      <td>1</td>\n",
       "      <td>B</td>\n",
       "      <td>0</td>\n",
       "      <td>P</td>\n",
       "      <td>1</td>\n",
       "    </tr>\n",
       "    <tr>\n",
       "      <th>1</th>\n",
       "      <td>0002_01</td>\n",
       "      <td>Earth</td>\n",
       "      <td>False</td>\n",
       "      <td>F/0/S</td>\n",
       "      <td>TRAPPIST-1e</td>\n",
       "      <td>24.0</td>\n",
       "      <td>False</td>\n",
       "      <td>109.0</td>\n",
       "      <td>9.0</td>\n",
       "      <td>25.0</td>\n",
       "      <td>549.0</td>\n",
       "      <td>44.0</td>\n",
       "      <td>True</td>\n",
       "      <td>Vines</td>\n",
       "      <td>0002</td>\n",
       "      <td>1</td>\n",
       "      <td>F</td>\n",
       "      <td>0</td>\n",
       "      <td>S</td>\n",
       "      <td>1</td>\n",
       "    </tr>\n",
       "    <tr>\n",
       "      <th>2</th>\n",
       "      <td>0003_01</td>\n",
       "      <td>Europa</td>\n",
       "      <td>False</td>\n",
       "      <td>A/0/S</td>\n",
       "      <td>TRAPPIST-1e</td>\n",
       "      <td>58.0</td>\n",
       "      <td>True</td>\n",
       "      <td>43.0</td>\n",
       "      <td>3576.0</td>\n",
       "      <td>0.0</td>\n",
       "      <td>6715.0</td>\n",
       "      <td>49.0</td>\n",
       "      <td>False</td>\n",
       "      <td>Susent</td>\n",
       "      <td>0003</td>\n",
       "      <td>1</td>\n",
       "      <td>A</td>\n",
       "      <td>0</td>\n",
       "      <td>S</td>\n",
       "      <td>2</td>\n",
       "    </tr>\n",
       "    <tr>\n",
       "      <th>3</th>\n",
       "      <td>0003_02</td>\n",
       "      <td>Europa</td>\n",
       "      <td>False</td>\n",
       "      <td>A/0/S</td>\n",
       "      <td>TRAPPIST-1e</td>\n",
       "      <td>33.0</td>\n",
       "      <td>False</td>\n",
       "      <td>0.0</td>\n",
       "      <td>1283.0</td>\n",
       "      <td>371.0</td>\n",
       "      <td>3329.0</td>\n",
       "      <td>193.0</td>\n",
       "      <td>False</td>\n",
       "      <td>Susent</td>\n",
       "      <td>0003</td>\n",
       "      <td>2</td>\n",
       "      <td>A</td>\n",
       "      <td>0</td>\n",
       "      <td>S</td>\n",
       "      <td>2</td>\n",
       "    </tr>\n",
       "    <tr>\n",
       "      <th>4</th>\n",
       "      <td>0004_01</td>\n",
       "      <td>Earth</td>\n",
       "      <td>False</td>\n",
       "      <td>F/1/S</td>\n",
       "      <td>TRAPPIST-1e</td>\n",
       "      <td>16.0</td>\n",
       "      <td>False</td>\n",
       "      <td>303.0</td>\n",
       "      <td>70.0</td>\n",
       "      <td>151.0</td>\n",
       "      <td>565.0</td>\n",
       "      <td>2.0</td>\n",
       "      <td>True</td>\n",
       "      <td>Santantines</td>\n",
       "      <td>0004</td>\n",
       "      <td>1</td>\n",
       "      <td>F</td>\n",
       "      <td>1</td>\n",
       "      <td>S</td>\n",
       "      <td>1</td>\n",
       "    </tr>\n",
       "  </tbody>\n",
       "</table>\n",
       "</div>"
      ],
      "text/plain": [
       "  PassengerId HomePlanet CryoSleep  Cabin  Destination   Age    VIP  \\\n",
       "0     0001_01     Europa     False  B/0/P  TRAPPIST-1e  39.0  False   \n",
       "1     0002_01      Earth     False  F/0/S  TRAPPIST-1e  24.0  False   \n",
       "2     0003_01     Europa     False  A/0/S  TRAPPIST-1e  58.0   True   \n",
       "3     0003_02     Europa     False  A/0/S  TRAPPIST-1e  33.0  False   \n",
       "4     0004_01      Earth     False  F/1/S  TRAPPIST-1e  16.0  False   \n",
       "\n",
       "   RoomService  FoodCourt  ShoppingMall     Spa  VRDeck  Transported  \\\n",
       "0          0.0        0.0           0.0     0.0     0.0        False   \n",
       "1        109.0        9.0          25.0   549.0    44.0         True   \n",
       "2         43.0     3576.0           0.0  6715.0    49.0        False   \n",
       "3          0.0     1283.0         371.0  3329.0   193.0        False   \n",
       "4        303.0       70.0         151.0   565.0     2.0         True   \n",
       "\n",
       "       surname group_num  num_w_in_group deck room_num side  num_in_group  \n",
       "0    Ofracculy      0001               1    B        0    P             1  \n",
       "1        Vines      0002               1    F        0    S             1  \n",
       "2       Susent      0003               1    A        0    S             2  \n",
       "3       Susent      0003               2    A        0    S             2  \n",
       "4  Santantines      0004               1    F        1    S             1  "
      ]
     },
     "execution_count": 33,
     "metadata": {},
     "output_type": "execute_result"
    }
   ],
   "source": [
    "df.head()"
   ]
  },
  {
   "attachments": {},
   "cell_type": "markdown",
   "metadata": {},
   "source": [
    "Finding if everyone boarding is a family group or not by last name:\n",
    "- Find if the count of family group == num_in_group"
   ]
  },
  {
   "cell_type": "code",
   "execution_count": 34,
   "metadata": {},
   "outputs": [],
   "source": [
    "boarded_together = df.groupby('surname')['num_in_group'].nunique() == 1"
   ]
  },
  {
   "cell_type": "code",
   "execution_count": 35,
   "metadata": {},
   "outputs": [],
   "source": [
    "test_boarded_together = test_df.groupby('surname')['num_in_group'].nunique() == 1"
   ]
  },
  {
   "cell_type": "code",
   "execution_count": 36,
   "metadata": {},
   "outputs": [],
   "source": [
    "df['fam_board_together'] = df['surname'].map(boarded_together)"
   ]
  },
  {
   "cell_type": "code",
   "execution_count": 37,
   "metadata": {},
   "outputs": [],
   "source": [
    "test_df['fam_board_together'] = test_df['surname'].map(test_boarded_together)"
   ]
  },
  {
   "cell_type": "code",
   "execution_count": 38,
   "metadata": {},
   "outputs": [
    {
     "data": {
      "text/html": [
       "<div>\n",
       "<style scoped>\n",
       "    .dataframe tbody tr th:only-of-type {\n",
       "        vertical-align: middle;\n",
       "    }\n",
       "\n",
       "    .dataframe tbody tr th {\n",
       "        vertical-align: top;\n",
       "    }\n",
       "\n",
       "    .dataframe thead th {\n",
       "        text-align: right;\n",
       "    }\n",
       "</style>\n",
       "<table border=\"1\" class=\"dataframe\">\n",
       "  <thead>\n",
       "    <tr style=\"text-align: right;\">\n",
       "      <th></th>\n",
       "      <th>PassengerId</th>\n",
       "      <th>HomePlanet</th>\n",
       "      <th>CryoSleep</th>\n",
       "      <th>Cabin</th>\n",
       "      <th>Destination</th>\n",
       "      <th>Age</th>\n",
       "      <th>VIP</th>\n",
       "      <th>RoomService</th>\n",
       "      <th>FoodCourt</th>\n",
       "      <th>ShoppingMall</th>\n",
       "      <th>Spa</th>\n",
       "      <th>VRDeck</th>\n",
       "      <th>Transported</th>\n",
       "      <th>surname</th>\n",
       "      <th>group_num</th>\n",
       "      <th>num_w_in_group</th>\n",
       "      <th>deck</th>\n",
       "      <th>room_num</th>\n",
       "      <th>side</th>\n",
       "      <th>num_in_group</th>\n",
       "      <th>fam_board_together</th>\n",
       "    </tr>\n",
       "  </thead>\n",
       "  <tbody>\n",
       "    <tr>\n",
       "      <th>0</th>\n",
       "      <td>0001_01</td>\n",
       "      <td>Europa</td>\n",
       "      <td>False</td>\n",
       "      <td>B/0/P</td>\n",
       "      <td>TRAPPIST-1e</td>\n",
       "      <td>39.0</td>\n",
       "      <td>False</td>\n",
       "      <td>0.0</td>\n",
       "      <td>0.0</td>\n",
       "      <td>0.0</td>\n",
       "      <td>0.0</td>\n",
       "      <td>0.0</td>\n",
       "      <td>False</td>\n",
       "      <td>Ofracculy</td>\n",
       "      <td>0001</td>\n",
       "      <td>1</td>\n",
       "      <td>B</td>\n",
       "      <td>0</td>\n",
       "      <td>P</td>\n",
       "      <td>1</td>\n",
       "      <td>True</td>\n",
       "    </tr>\n",
       "    <tr>\n",
       "      <th>1</th>\n",
       "      <td>0002_01</td>\n",
       "      <td>Earth</td>\n",
       "      <td>False</td>\n",
       "      <td>F/0/S</td>\n",
       "      <td>TRAPPIST-1e</td>\n",
       "      <td>24.0</td>\n",
       "      <td>False</td>\n",
       "      <td>109.0</td>\n",
       "      <td>9.0</td>\n",
       "      <td>25.0</td>\n",
       "      <td>549.0</td>\n",
       "      <td>44.0</td>\n",
       "      <td>True</td>\n",
       "      <td>Vines</td>\n",
       "      <td>0002</td>\n",
       "      <td>1</td>\n",
       "      <td>F</td>\n",
       "      <td>0</td>\n",
       "      <td>S</td>\n",
       "      <td>1</td>\n",
       "      <td>True</td>\n",
       "    </tr>\n",
       "    <tr>\n",
       "      <th>2</th>\n",
       "      <td>0003_01</td>\n",
       "      <td>Europa</td>\n",
       "      <td>False</td>\n",
       "      <td>A/0/S</td>\n",
       "      <td>TRAPPIST-1e</td>\n",
       "      <td>58.0</td>\n",
       "      <td>True</td>\n",
       "      <td>43.0</td>\n",
       "      <td>3576.0</td>\n",
       "      <td>0.0</td>\n",
       "      <td>6715.0</td>\n",
       "      <td>49.0</td>\n",
       "      <td>False</td>\n",
       "      <td>Susent</td>\n",
       "      <td>0003</td>\n",
       "      <td>1</td>\n",
       "      <td>A</td>\n",
       "      <td>0</td>\n",
       "      <td>S</td>\n",
       "      <td>2</td>\n",
       "      <td>False</td>\n",
       "    </tr>\n",
       "    <tr>\n",
       "      <th>3</th>\n",
       "      <td>0003_02</td>\n",
       "      <td>Europa</td>\n",
       "      <td>False</td>\n",
       "      <td>A/0/S</td>\n",
       "      <td>TRAPPIST-1e</td>\n",
       "      <td>33.0</td>\n",
       "      <td>False</td>\n",
       "      <td>0.0</td>\n",
       "      <td>1283.0</td>\n",
       "      <td>371.0</td>\n",
       "      <td>3329.0</td>\n",
       "      <td>193.0</td>\n",
       "      <td>False</td>\n",
       "      <td>Susent</td>\n",
       "      <td>0003</td>\n",
       "      <td>2</td>\n",
       "      <td>A</td>\n",
       "      <td>0</td>\n",
       "      <td>S</td>\n",
       "      <td>2</td>\n",
       "      <td>False</td>\n",
       "    </tr>\n",
       "    <tr>\n",
       "      <th>4</th>\n",
       "      <td>0004_01</td>\n",
       "      <td>Earth</td>\n",
       "      <td>False</td>\n",
       "      <td>F/1/S</td>\n",
       "      <td>TRAPPIST-1e</td>\n",
       "      <td>16.0</td>\n",
       "      <td>False</td>\n",
       "      <td>303.0</td>\n",
       "      <td>70.0</td>\n",
       "      <td>151.0</td>\n",
       "      <td>565.0</td>\n",
       "      <td>2.0</td>\n",
       "      <td>True</td>\n",
       "      <td>Santantines</td>\n",
       "      <td>0004</td>\n",
       "      <td>1</td>\n",
       "      <td>F</td>\n",
       "      <td>1</td>\n",
       "      <td>S</td>\n",
       "      <td>1</td>\n",
       "      <td>False</td>\n",
       "    </tr>\n",
       "  </tbody>\n",
       "</table>\n",
       "</div>"
      ],
      "text/plain": [
       "  PassengerId HomePlanet CryoSleep  Cabin  Destination   Age    VIP  \\\n",
       "0     0001_01     Europa     False  B/0/P  TRAPPIST-1e  39.0  False   \n",
       "1     0002_01      Earth     False  F/0/S  TRAPPIST-1e  24.0  False   \n",
       "2     0003_01     Europa     False  A/0/S  TRAPPIST-1e  58.0   True   \n",
       "3     0003_02     Europa     False  A/0/S  TRAPPIST-1e  33.0  False   \n",
       "4     0004_01      Earth     False  F/1/S  TRAPPIST-1e  16.0  False   \n",
       "\n",
       "   RoomService  FoodCourt  ShoppingMall     Spa  VRDeck  Transported  \\\n",
       "0          0.0        0.0           0.0     0.0     0.0        False   \n",
       "1        109.0        9.0          25.0   549.0    44.0         True   \n",
       "2         43.0     3576.0           0.0  6715.0    49.0        False   \n",
       "3          0.0     1283.0         371.0  3329.0   193.0        False   \n",
       "4        303.0       70.0         151.0   565.0     2.0         True   \n",
       "\n",
       "       surname group_num  num_w_in_group deck room_num side  num_in_group  \\\n",
       "0    Ofracculy      0001               1    B        0    P             1   \n",
       "1        Vines      0002               1    F        0    S             1   \n",
       "2       Susent      0003               1    A        0    S             2   \n",
       "3       Susent      0003               2    A        0    S             2   \n",
       "4  Santantines      0004               1    F        1    S             1   \n",
       "\n",
       "  fam_board_together  \n",
       "0               True  \n",
       "1               True  \n",
       "2              False  \n",
       "3              False  \n",
       "4              False  "
      ]
     },
     "execution_count": 38,
     "metadata": {},
     "output_type": "execute_result"
    }
   ],
   "source": [
    "df.head()"
   ]
  },
  {
   "cell_type": "code",
   "execution_count": 39,
   "metadata": {},
   "outputs": [
    {
     "data": {
      "text/plain": [
       "(8693, 21)"
      ]
     },
     "execution_count": 39,
     "metadata": {},
     "output_type": "execute_result"
    }
   ],
   "source": [
    "df.shape"
   ]
  },
  {
   "cell_type": "code",
   "execution_count": 40,
   "metadata": {},
   "outputs": [
    {
     "data": {
      "text/plain": [
       "(4277, 20)"
      ]
     },
     "execution_count": 40,
     "metadata": {},
     "output_type": "execute_result"
    }
   ],
   "source": [
    "test_df.shape"
   ]
  },
  {
   "cell_type": "code",
   "execution_count": 41,
   "metadata": {},
   "outputs": [
    {
     "data": {
      "text/html": [
       "<div>\n",
       "<style scoped>\n",
       "    .dataframe tbody tr th:only-of-type {\n",
       "        vertical-align: middle;\n",
       "    }\n",
       "\n",
       "    .dataframe tbody tr th {\n",
       "        vertical-align: top;\n",
       "    }\n",
       "\n",
       "    .dataframe thead th {\n",
       "        text-align: right;\n",
       "    }\n",
       "</style>\n",
       "<table border=\"1\" class=\"dataframe\">\n",
       "  <thead>\n",
       "    <tr style=\"text-align: right;\">\n",
       "      <th></th>\n",
       "      <th>PassengerId</th>\n",
       "      <th>HomePlanet</th>\n",
       "      <th>CryoSleep</th>\n",
       "      <th>Cabin</th>\n",
       "      <th>Destination</th>\n",
       "      <th>Age</th>\n",
       "      <th>VIP</th>\n",
       "      <th>RoomService</th>\n",
       "      <th>FoodCourt</th>\n",
       "      <th>ShoppingMall</th>\n",
       "      <th>Spa</th>\n",
       "      <th>VRDeck</th>\n",
       "      <th>surname</th>\n",
       "      <th>group_num</th>\n",
       "      <th>num_w_in_group</th>\n",
       "      <th>deck</th>\n",
       "      <th>room_num</th>\n",
       "      <th>side</th>\n",
       "      <th>num_in_group</th>\n",
       "      <th>fam_board_together</th>\n",
       "    </tr>\n",
       "  </thead>\n",
       "  <tbody>\n",
       "    <tr>\n",
       "      <th>0</th>\n",
       "      <td>0013_01</td>\n",
       "      <td>Earth</td>\n",
       "      <td>True</td>\n",
       "      <td>G/3/S</td>\n",
       "      <td>TRAPPIST-1e</td>\n",
       "      <td>27.0</td>\n",
       "      <td>False</td>\n",
       "      <td>0.0</td>\n",
       "      <td>0.0</td>\n",
       "      <td>0.0</td>\n",
       "      <td>0.0</td>\n",
       "      <td>0.0</td>\n",
       "      <td>Carsoning</td>\n",
       "      <td>0013</td>\n",
       "      <td>1</td>\n",
       "      <td>G</td>\n",
       "      <td>3</td>\n",
       "      <td>S</td>\n",
       "      <td>1</td>\n",
       "      <td>False</td>\n",
       "    </tr>\n",
       "    <tr>\n",
       "      <th>1</th>\n",
       "      <td>0018_01</td>\n",
       "      <td>Earth</td>\n",
       "      <td>False</td>\n",
       "      <td>F/4/S</td>\n",
       "      <td>TRAPPIST-1e</td>\n",
       "      <td>19.0</td>\n",
       "      <td>False</td>\n",
       "      <td>0.0</td>\n",
       "      <td>9.0</td>\n",
       "      <td>0.0</td>\n",
       "      <td>2823.0</td>\n",
       "      <td>0.0</td>\n",
       "      <td>Peckers</td>\n",
       "      <td>0018</td>\n",
       "      <td>1</td>\n",
       "      <td>F</td>\n",
       "      <td>4</td>\n",
       "      <td>S</td>\n",
       "      <td>1</td>\n",
       "      <td>True</td>\n",
       "    </tr>\n",
       "    <tr>\n",
       "      <th>2</th>\n",
       "      <td>0019_01</td>\n",
       "      <td>Europa</td>\n",
       "      <td>True</td>\n",
       "      <td>C/0/S</td>\n",
       "      <td>55 Cancri e</td>\n",
       "      <td>31.0</td>\n",
       "      <td>False</td>\n",
       "      <td>0.0</td>\n",
       "      <td>0.0</td>\n",
       "      <td>0.0</td>\n",
       "      <td>0.0</td>\n",
       "      <td>0.0</td>\n",
       "      <td>Unhearfus</td>\n",
       "      <td>0019</td>\n",
       "      <td>1</td>\n",
       "      <td>C</td>\n",
       "      <td>0</td>\n",
       "      <td>S</td>\n",
       "      <td>1</td>\n",
       "      <td>True</td>\n",
       "    </tr>\n",
       "    <tr>\n",
       "      <th>3</th>\n",
       "      <td>0021_01</td>\n",
       "      <td>Europa</td>\n",
       "      <td>False</td>\n",
       "      <td>C/1/S</td>\n",
       "      <td>TRAPPIST-1e</td>\n",
       "      <td>38.0</td>\n",
       "      <td>False</td>\n",
       "      <td>0.0</td>\n",
       "      <td>6652.0</td>\n",
       "      <td>0.0</td>\n",
       "      <td>181.0</td>\n",
       "      <td>585.0</td>\n",
       "      <td>Caltilter</td>\n",
       "      <td>0021</td>\n",
       "      <td>1</td>\n",
       "      <td>C</td>\n",
       "      <td>1</td>\n",
       "      <td>S</td>\n",
       "      <td>1</td>\n",
       "      <td>True</td>\n",
       "    </tr>\n",
       "    <tr>\n",
       "      <th>4</th>\n",
       "      <td>0023_01</td>\n",
       "      <td>Earth</td>\n",
       "      <td>False</td>\n",
       "      <td>F/5/S</td>\n",
       "      <td>TRAPPIST-1e</td>\n",
       "      <td>20.0</td>\n",
       "      <td>False</td>\n",
       "      <td>10.0</td>\n",
       "      <td>0.0</td>\n",
       "      <td>635.0</td>\n",
       "      <td>0.0</td>\n",
       "      <td>0.0</td>\n",
       "      <td>Harperez</td>\n",
       "      <td>0023</td>\n",
       "      <td>1</td>\n",
       "      <td>F</td>\n",
       "      <td>5</td>\n",
       "      <td>S</td>\n",
       "      <td>1</td>\n",
       "      <td>True</td>\n",
       "    </tr>\n",
       "  </tbody>\n",
       "</table>\n",
       "</div>"
      ],
      "text/plain": [
       "  PassengerId HomePlanet CryoSleep  Cabin  Destination   Age    VIP  \\\n",
       "0     0013_01      Earth      True  G/3/S  TRAPPIST-1e  27.0  False   \n",
       "1     0018_01      Earth     False  F/4/S  TRAPPIST-1e  19.0  False   \n",
       "2     0019_01     Europa      True  C/0/S  55 Cancri e  31.0  False   \n",
       "3     0021_01     Europa     False  C/1/S  TRAPPIST-1e  38.0  False   \n",
       "4     0023_01      Earth     False  F/5/S  TRAPPIST-1e  20.0  False   \n",
       "\n",
       "   RoomService  FoodCourt  ShoppingMall     Spa  VRDeck    surname group_num  \\\n",
       "0          0.0        0.0           0.0     0.0     0.0  Carsoning      0013   \n",
       "1          0.0        9.0           0.0  2823.0     0.0    Peckers      0018   \n",
       "2          0.0        0.0           0.0     0.0     0.0  Unhearfus      0019   \n",
       "3          0.0     6652.0           0.0   181.0   585.0  Caltilter      0021   \n",
       "4         10.0        0.0         635.0     0.0     0.0   Harperez      0023   \n",
       "\n",
       "   num_w_in_group deck room_num side  num_in_group fam_board_together  \n",
       "0               1    G        3    S             1              False  \n",
       "1               1    F        4    S             1               True  \n",
       "2               1    C        0    S             1               True  \n",
       "3               1    C        1    S             1               True  \n",
       "4               1    F        5    S             1               True  "
      ]
     },
     "execution_count": 41,
     "metadata": {},
     "output_type": "execute_result"
    }
   ],
   "source": [
    "test_df.head()"
   ]
  },
  {
   "cell_type": "code",
   "execution_count": 42,
   "metadata": {},
   "outputs": [
    {
     "data": {
      "text/html": [
       "<style type=\"text/css\">\n",
       "#T_20938_row0_col1 {\n",
       "  background-color: #ffff66;\n",
       "  color: #000000;\n",
       "}\n",
       "#T_20938_row1_col1 {\n",
       "  background-color: #f5fa66;\n",
       "  color: #000000;\n",
       "}\n",
       "#T_20938_row2_col1 {\n",
       "  background-color: #eff766;\n",
       "  color: #000000;\n",
       "}\n",
       "#T_20938_row3_col1 {\n",
       "  background-color: #edf666;\n",
       "  color: #000000;\n",
       "}\n",
       "#T_20938_row4_col1, #T_20938_row5_col1 {\n",
       "  background-color: #ebf566;\n",
       "  color: #000000;\n",
       "}\n",
       "#T_20938_row6_col1, #T_20938_row7_col1, #T_20938_row8_col1, #T_20938_row9_col1 {\n",
       "  background-color: #eaf466;\n",
       "  color: #000000;\n",
       "}\n",
       "#T_20938_row10_col1 {\n",
       "  background-color: #ddee66;\n",
       "  color: #000000;\n",
       "}\n",
       "#T_20938_row11_col1, #T_20938_row12_col1 {\n",
       "  background-color: #d7eb66;\n",
       "  color: #000000;\n",
       "}\n",
       "#T_20938_row13_col1 {\n",
       "  background-color: #d6eb66;\n",
       "  color: #000000;\n",
       "}\n",
       "#T_20938_row14_col1 {\n",
       "  background-color: #d5ea66;\n",
       "  color: #000000;\n",
       "}\n",
       "#T_20938_row15_col1 {\n",
       "  background-color: #d3e966;\n",
       "  color: #000000;\n",
       "}\n",
       "#T_20938_row16_col1, #T_20938_row17_col1, #T_20938_row18_col1, #T_20938_row19_col1 {\n",
       "  background-color: #008066;\n",
       "  color: #f1f1f1;\n",
       "}\n",
       "</style>\n",
       "<table id=\"T_20938\">\n",
       "  <thead>\n",
       "    <tr>\n",
       "      <th class=\"blank level0\" >&nbsp;</th>\n",
       "      <th id=\"T_20938_level0_col0\" class=\"col_heading level0 col0\" >column_name</th>\n",
       "      <th id=\"T_20938_level0_col1\" class=\"col_heading level0 col1\" >null_counts</th>\n",
       "    </tr>\n",
       "  </thead>\n",
       "  <tbody>\n",
       "    <tr>\n",
       "      <th id=\"T_20938_level0_row0\" class=\"row_heading level0 row0\" >0</th>\n",
       "      <td id=\"T_20938_row0_col0\" class=\"data row0 col0\" >CryoSleep</td>\n",
       "      <td id=\"T_20938_row0_col1\" class=\"data row0 col1\" >217</td>\n",
       "    </tr>\n",
       "    <tr>\n",
       "      <th id=\"T_20938_level0_row1\" class=\"row_heading level0 row1\" >1</th>\n",
       "      <td id=\"T_20938_row1_col0\" class=\"data row1 col0\" >ShoppingMall</td>\n",
       "      <td id=\"T_20938_row1_col1\" class=\"data row1 col1\" >208</td>\n",
       "    </tr>\n",
       "    <tr>\n",
       "      <th id=\"T_20938_level0_row2\" class=\"row_heading level0 row2\" >2</th>\n",
       "      <td id=\"T_20938_row2_col0\" class=\"data row2 col0\" >VIP</td>\n",
       "      <td id=\"T_20938_row2_col1\" class=\"data row2 col1\" >203</td>\n",
       "    </tr>\n",
       "    <tr>\n",
       "      <th id=\"T_20938_level0_row3\" class=\"row_heading level0 row3\" >3</th>\n",
       "      <td id=\"T_20938_row3_col0\" class=\"data row3 col0\" >HomePlanet</td>\n",
       "      <td id=\"T_20938_row3_col1\" class=\"data row3 col1\" >201</td>\n",
       "    </tr>\n",
       "    <tr>\n",
       "      <th id=\"T_20938_level0_row4\" class=\"row_heading level0 row4\" >4</th>\n",
       "      <td id=\"T_20938_row4_col0\" class=\"data row4 col0\" >fam_board_together</td>\n",
       "      <td id=\"T_20938_row4_col1\" class=\"data row4 col1\" >200</td>\n",
       "    </tr>\n",
       "    <tr>\n",
       "      <th id=\"T_20938_level0_row5\" class=\"row_heading level0 row5\" >5</th>\n",
       "      <td id=\"T_20938_row5_col0\" class=\"data row5 col0\" >surname</td>\n",
       "      <td id=\"T_20938_row5_col1\" class=\"data row5 col1\" >200</td>\n",
       "    </tr>\n",
       "    <tr>\n",
       "      <th id=\"T_20938_level0_row6\" class=\"row_heading level0 row6\" >6</th>\n",
       "      <td id=\"T_20938_row6_col0\" class=\"data row6 col0\" >Cabin</td>\n",
       "      <td id=\"T_20938_row6_col1\" class=\"data row6 col1\" >199</td>\n",
       "    </tr>\n",
       "    <tr>\n",
       "      <th id=\"T_20938_level0_row7\" class=\"row_heading level0 row7\" >7</th>\n",
       "      <td id=\"T_20938_row7_col0\" class=\"data row7 col0\" >side</td>\n",
       "      <td id=\"T_20938_row7_col1\" class=\"data row7 col1\" >199</td>\n",
       "    </tr>\n",
       "    <tr>\n",
       "      <th id=\"T_20938_level0_row8\" class=\"row_heading level0 row8\" >8</th>\n",
       "      <td id=\"T_20938_row8_col0\" class=\"data row8 col0\" >room_num</td>\n",
       "      <td id=\"T_20938_row8_col1\" class=\"data row8 col1\" >199</td>\n",
       "    </tr>\n",
       "    <tr>\n",
       "      <th id=\"T_20938_level0_row9\" class=\"row_heading level0 row9\" >9</th>\n",
       "      <td id=\"T_20938_row9_col0\" class=\"data row9 col0\" >deck</td>\n",
       "      <td id=\"T_20938_row9_col1\" class=\"data row9 col1\" >199</td>\n",
       "    </tr>\n",
       "    <tr>\n",
       "      <th id=\"T_20938_level0_row10\" class=\"row_heading level0 row10\" >10</th>\n",
       "      <td id=\"T_20938_row10_col0\" class=\"data row10 col0\" >VRDeck</td>\n",
       "      <td id=\"T_20938_row10_col1\" class=\"data row10 col1\" >188</td>\n",
       "    </tr>\n",
       "    <tr>\n",
       "      <th id=\"T_20938_level0_row11\" class=\"row_heading level0 row11\" >11</th>\n",
       "      <td id=\"T_20938_row11_col0\" class=\"data row11 col0\" >Spa</td>\n",
       "      <td id=\"T_20938_row11_col1\" class=\"data row11 col1\" >183</td>\n",
       "    </tr>\n",
       "    <tr>\n",
       "      <th id=\"T_20938_level0_row12\" class=\"row_heading level0 row12\" >12</th>\n",
       "      <td id=\"T_20938_row12_col0\" class=\"data row12 col0\" >FoodCourt</td>\n",
       "      <td id=\"T_20938_row12_col1\" class=\"data row12 col1\" >183</td>\n",
       "    </tr>\n",
       "    <tr>\n",
       "      <th id=\"T_20938_level0_row13\" class=\"row_heading level0 row13\" >13</th>\n",
       "      <td id=\"T_20938_row13_col0\" class=\"data row13 col0\" >Destination</td>\n",
       "      <td id=\"T_20938_row13_col1\" class=\"data row13 col1\" >182</td>\n",
       "    </tr>\n",
       "    <tr>\n",
       "      <th id=\"T_20938_level0_row14\" class=\"row_heading level0 row14\" >14</th>\n",
       "      <td id=\"T_20938_row14_col0\" class=\"data row14 col0\" >RoomService</td>\n",
       "      <td id=\"T_20938_row14_col1\" class=\"data row14 col1\" >181</td>\n",
       "    </tr>\n",
       "    <tr>\n",
       "      <th id=\"T_20938_level0_row15\" class=\"row_heading level0 row15\" >15</th>\n",
       "      <td id=\"T_20938_row15_col0\" class=\"data row15 col0\" >Age</td>\n",
       "      <td id=\"T_20938_row15_col1\" class=\"data row15 col1\" >179</td>\n",
       "    </tr>\n",
       "    <tr>\n",
       "      <th id=\"T_20938_level0_row16\" class=\"row_heading level0 row16\" >17</th>\n",
       "      <td id=\"T_20938_row16_col0\" class=\"data row16 col0\" >group_num</td>\n",
       "      <td id=\"T_20938_row16_col1\" class=\"data row16 col1\" >0</td>\n",
       "    </tr>\n",
       "    <tr>\n",
       "      <th id=\"T_20938_level0_row17\" class=\"row_heading level0 row17\" >18</th>\n",
       "      <td id=\"T_20938_row17_col0\" class=\"data row17 col0\" >num_w_in_group</td>\n",
       "      <td id=\"T_20938_row17_col1\" class=\"data row17 col1\" >0</td>\n",
       "    </tr>\n",
       "    <tr>\n",
       "      <th id=\"T_20938_level0_row18\" class=\"row_heading level0 row18\" >19</th>\n",
       "      <td id=\"T_20938_row18_col0\" class=\"data row18 col0\" >num_in_group</td>\n",
       "      <td id=\"T_20938_row18_col1\" class=\"data row18 col1\" >0</td>\n",
       "    </tr>\n",
       "    <tr>\n",
       "      <th id=\"T_20938_level0_row19\" class=\"row_heading level0 row19\" >20</th>\n",
       "      <td id=\"T_20938_row19_col0\" class=\"data row19 col0\" >PassengerId</td>\n",
       "      <td id=\"T_20938_row19_col1\" class=\"data row19 col1\" >0</td>\n",
       "    </tr>\n",
       "  </tbody>\n",
       "</table>\n"
      ],
      "text/plain": [
       "<pandas.io.formats.style.Styler at 0x7f3b758c3400>"
      ]
     },
     "execution_count": 42,
     "metadata": {},
     "output_type": "execute_result"
    }
   ],
   "source": [
    "def get_null_counts(df):\n",
    "    null_count_df = pd.DataFrame((df.isnull().sum()).sort_values(ascending=False).reset_index())\n",
    "    null_count_df.columns = ['column_name','null_counts']\n",
    "    null_count_df = null_count_df.query(\"column_name!='Transported'\")\n",
    "    return null_count_df\n",
    "\n",
    "null_= get_null_counts(df)\n",
    "null_.style.background_gradient(cmap='summer')"
   ]
  },
  {
   "cell_type": "code",
   "execution_count": 43,
   "metadata": {},
   "outputs": [
    {
     "data": {
      "text/html": [
       "<style type=\"text/css\">\n",
       "#T_58a56_row0_col1 {\n",
       "  background-color: #00ff80;\n",
       "  color: #000000;\n",
       "}\n",
       "#T_58a56_row1_col1 {\n",
       "  background-color: #00f584;\n",
       "  color: #000000;\n",
       "}\n",
       "#T_58a56_row2_col1 {\n",
       "  background-color: #00ef88;\n",
       "  color: #000000;\n",
       "}\n",
       "#T_58a56_row3_col1 {\n",
       "  background-color: #00ed88;\n",
       "  color: #000000;\n",
       "}\n",
       "#T_58a56_row4_col1, #T_58a56_row5_col1 {\n",
       "  background-color: #00eb8a;\n",
       "  color: #000000;\n",
       "}\n",
       "#T_58a56_row6_col1, #T_58a56_row7_col1, #T_58a56_row8_col1, #T_58a56_row9_col1 {\n",
       "  background-color: #00ea8a;\n",
       "  color: #000000;\n",
       "}\n",
       "#T_58a56_row10_col1 {\n",
       "  background-color: #00dd90;\n",
       "  color: #000000;\n",
       "}\n",
       "#T_58a56_row11_col1, #T_58a56_row12_col1 {\n",
       "  background-color: #00d793;\n",
       "  color: #000000;\n",
       "}\n",
       "#T_58a56_row13_col1 {\n",
       "  background-color: #00d694;\n",
       "  color: #000000;\n",
       "}\n",
       "#T_58a56_row14_col1 {\n",
       "  background-color: #00d594;\n",
       "  color: #000000;\n",
       "}\n",
       "#T_58a56_row15_col1 {\n",
       "  background-color: #00d396;\n",
       "  color: #000000;\n",
       "}\n",
       "#T_58a56_row16_col1, #T_58a56_row17_col1, #T_58a56_row18_col1, #T_58a56_row19_col1 {\n",
       "  background-color: #0000ff;\n",
       "  color: #f1f1f1;\n",
       "}\n",
       "</style>\n",
       "<table id=\"T_58a56\">\n",
       "  <thead>\n",
       "    <tr>\n",
       "      <th class=\"blank level0\" >&nbsp;</th>\n",
       "      <th id=\"T_58a56_level0_col0\" class=\"col_heading level0 col0\" >column_name</th>\n",
       "      <th id=\"T_58a56_level0_col1\" class=\"col_heading level0 col1\" >null_counts</th>\n",
       "    </tr>\n",
       "  </thead>\n",
       "  <tbody>\n",
       "    <tr>\n",
       "      <th id=\"T_58a56_level0_row0\" class=\"row_heading level0 row0\" >0</th>\n",
       "      <td id=\"T_58a56_row0_col0\" class=\"data row0 col0\" >CryoSleep</td>\n",
       "      <td id=\"T_58a56_row0_col1\" class=\"data row0 col1\" >217</td>\n",
       "    </tr>\n",
       "    <tr>\n",
       "      <th id=\"T_58a56_level0_row1\" class=\"row_heading level0 row1\" >1</th>\n",
       "      <td id=\"T_58a56_row1_col0\" class=\"data row1 col0\" >ShoppingMall</td>\n",
       "      <td id=\"T_58a56_row1_col1\" class=\"data row1 col1\" >208</td>\n",
       "    </tr>\n",
       "    <tr>\n",
       "      <th id=\"T_58a56_level0_row2\" class=\"row_heading level0 row2\" >2</th>\n",
       "      <td id=\"T_58a56_row2_col0\" class=\"data row2 col0\" >VIP</td>\n",
       "      <td id=\"T_58a56_row2_col1\" class=\"data row2 col1\" >203</td>\n",
       "    </tr>\n",
       "    <tr>\n",
       "      <th id=\"T_58a56_level0_row3\" class=\"row_heading level0 row3\" >3</th>\n",
       "      <td id=\"T_58a56_row3_col0\" class=\"data row3 col0\" >HomePlanet</td>\n",
       "      <td id=\"T_58a56_row3_col1\" class=\"data row3 col1\" >201</td>\n",
       "    </tr>\n",
       "    <tr>\n",
       "      <th id=\"T_58a56_level0_row4\" class=\"row_heading level0 row4\" >4</th>\n",
       "      <td id=\"T_58a56_row4_col0\" class=\"data row4 col0\" >fam_board_together</td>\n",
       "      <td id=\"T_58a56_row4_col1\" class=\"data row4 col1\" >200</td>\n",
       "    </tr>\n",
       "    <tr>\n",
       "      <th id=\"T_58a56_level0_row5\" class=\"row_heading level0 row5\" >5</th>\n",
       "      <td id=\"T_58a56_row5_col0\" class=\"data row5 col0\" >surname</td>\n",
       "      <td id=\"T_58a56_row5_col1\" class=\"data row5 col1\" >200</td>\n",
       "    </tr>\n",
       "    <tr>\n",
       "      <th id=\"T_58a56_level0_row6\" class=\"row_heading level0 row6\" >6</th>\n",
       "      <td id=\"T_58a56_row6_col0\" class=\"data row6 col0\" >Cabin</td>\n",
       "      <td id=\"T_58a56_row6_col1\" class=\"data row6 col1\" >199</td>\n",
       "    </tr>\n",
       "    <tr>\n",
       "      <th id=\"T_58a56_level0_row7\" class=\"row_heading level0 row7\" >7</th>\n",
       "      <td id=\"T_58a56_row7_col0\" class=\"data row7 col0\" >side</td>\n",
       "      <td id=\"T_58a56_row7_col1\" class=\"data row7 col1\" >199</td>\n",
       "    </tr>\n",
       "    <tr>\n",
       "      <th id=\"T_58a56_level0_row8\" class=\"row_heading level0 row8\" >8</th>\n",
       "      <td id=\"T_58a56_row8_col0\" class=\"data row8 col0\" >room_num</td>\n",
       "      <td id=\"T_58a56_row8_col1\" class=\"data row8 col1\" >199</td>\n",
       "    </tr>\n",
       "    <tr>\n",
       "      <th id=\"T_58a56_level0_row9\" class=\"row_heading level0 row9\" >9</th>\n",
       "      <td id=\"T_58a56_row9_col0\" class=\"data row9 col0\" >deck</td>\n",
       "      <td id=\"T_58a56_row9_col1\" class=\"data row9 col1\" >199</td>\n",
       "    </tr>\n",
       "    <tr>\n",
       "      <th id=\"T_58a56_level0_row10\" class=\"row_heading level0 row10\" >10</th>\n",
       "      <td id=\"T_58a56_row10_col0\" class=\"data row10 col0\" >VRDeck</td>\n",
       "      <td id=\"T_58a56_row10_col1\" class=\"data row10 col1\" >188</td>\n",
       "    </tr>\n",
       "    <tr>\n",
       "      <th id=\"T_58a56_level0_row11\" class=\"row_heading level0 row11\" >11</th>\n",
       "      <td id=\"T_58a56_row11_col0\" class=\"data row11 col0\" >Spa</td>\n",
       "      <td id=\"T_58a56_row11_col1\" class=\"data row11 col1\" >183</td>\n",
       "    </tr>\n",
       "    <tr>\n",
       "      <th id=\"T_58a56_level0_row12\" class=\"row_heading level0 row12\" >12</th>\n",
       "      <td id=\"T_58a56_row12_col0\" class=\"data row12 col0\" >FoodCourt</td>\n",
       "      <td id=\"T_58a56_row12_col1\" class=\"data row12 col1\" >183</td>\n",
       "    </tr>\n",
       "    <tr>\n",
       "      <th id=\"T_58a56_level0_row13\" class=\"row_heading level0 row13\" >13</th>\n",
       "      <td id=\"T_58a56_row13_col0\" class=\"data row13 col0\" >Destination</td>\n",
       "      <td id=\"T_58a56_row13_col1\" class=\"data row13 col1\" >182</td>\n",
       "    </tr>\n",
       "    <tr>\n",
       "      <th id=\"T_58a56_level0_row14\" class=\"row_heading level0 row14\" >14</th>\n",
       "      <td id=\"T_58a56_row14_col0\" class=\"data row14 col0\" >RoomService</td>\n",
       "      <td id=\"T_58a56_row14_col1\" class=\"data row14 col1\" >181</td>\n",
       "    </tr>\n",
       "    <tr>\n",
       "      <th id=\"T_58a56_level0_row15\" class=\"row_heading level0 row15\" >15</th>\n",
       "      <td id=\"T_58a56_row15_col0\" class=\"data row15 col0\" >Age</td>\n",
       "      <td id=\"T_58a56_row15_col1\" class=\"data row15 col1\" >179</td>\n",
       "    </tr>\n",
       "    <tr>\n",
       "      <th id=\"T_58a56_level0_row16\" class=\"row_heading level0 row16\" >17</th>\n",
       "      <td id=\"T_58a56_row16_col0\" class=\"data row16 col0\" >group_num</td>\n",
       "      <td id=\"T_58a56_row16_col1\" class=\"data row16 col1\" >0</td>\n",
       "    </tr>\n",
       "    <tr>\n",
       "      <th id=\"T_58a56_level0_row17\" class=\"row_heading level0 row17\" >18</th>\n",
       "      <td id=\"T_58a56_row17_col0\" class=\"data row17 col0\" >num_w_in_group</td>\n",
       "      <td id=\"T_58a56_row17_col1\" class=\"data row17 col1\" >0</td>\n",
       "    </tr>\n",
       "    <tr>\n",
       "      <th id=\"T_58a56_level0_row18\" class=\"row_heading level0 row18\" >19</th>\n",
       "      <td id=\"T_58a56_row18_col0\" class=\"data row18 col0\" >num_in_group</td>\n",
       "      <td id=\"T_58a56_row18_col1\" class=\"data row18 col1\" >0</td>\n",
       "    </tr>\n",
       "    <tr>\n",
       "      <th id=\"T_58a56_level0_row19\" class=\"row_heading level0 row19\" >20</th>\n",
       "      <td id=\"T_58a56_row19_col0\" class=\"data row19 col0\" >PassengerId</td>\n",
       "      <td id=\"T_58a56_row19_col1\" class=\"data row19 col1\" >0</td>\n",
       "    </tr>\n",
       "  </tbody>\n",
       "</table>\n"
      ],
      "text/plain": [
       "<pandas.io.formats.style.Styler at 0x7f3b758c3be0>"
      ]
     },
     "execution_count": 43,
     "metadata": {},
     "output_type": "execute_result"
    }
   ],
   "source": [
    "test_null = get_null_counts(test_df)\n",
    "null_.style.background_gradient(cmap='winter')"
   ]
  },
  {
   "attachments": {},
   "cell_type": "markdown",
   "metadata": {},
   "source": [
    "Boolean values converted to 0's and 1's"
   ]
  },
  {
   "cell_type": "code",
   "execution_count": 44,
   "metadata": {},
   "outputs": [],
   "source": [
    "def bool_switch(df, col_name):\n",
    "    encoder = LabelEncoder()\n",
    "    df[f'{col_name}'] = encoder.fit_transform(df[f'{col_name}']) "
   ]
  },
  {
   "cell_type": "code",
   "execution_count": 45,
   "metadata": {},
   "outputs": [],
   "source": [
    "bool_switch(df, col_name='Transported')\n",
    "bool_switch(df, col_name='VIP')\n",
    "bool_switch(df, col_name='CryoSleep')\n",
    "bool_switch(df, col_name=\"fam_board_together\")"
   ]
  },
  {
   "cell_type": "code",
   "execution_count": 46,
   "metadata": {},
   "outputs": [
    {
     "data": {
      "text/plain": [
       "(8693, 21)"
      ]
     },
     "execution_count": 46,
     "metadata": {},
     "output_type": "execute_result"
    }
   ],
   "source": [
    "df.shape"
   ]
  },
  {
   "cell_type": "code",
   "execution_count": 47,
   "metadata": {},
   "outputs": [],
   "source": [
    "bool_switch(test_df, col_name='VIP')\n",
    "bool_switch(test_df, col_name='CryoSleep')\n",
    "bool_switch(test_df, col_name=\"fam_board_together\")"
   ]
  },
  {
   "cell_type": "code",
   "execution_count": 48,
   "metadata": {},
   "outputs": [
    {
     "data": {
      "text/plain": [
       "(4277, 20)"
      ]
     },
     "execution_count": 48,
     "metadata": {},
     "output_type": "execute_result"
    }
   ],
   "source": [
    "test_df.shape"
   ]
  },
  {
   "cell_type": "markdown",
   "metadata": {},
   "source": [
    "### Preparing Data"
   ]
  },
  {
   "cell_type": "markdown",
   "metadata": {},
   "source": [
    "Declare dependant variable(y-axis)"
   ]
  },
  {
   "cell_type": "code",
   "execution_count": 49,
   "metadata": {},
   "outputs": [],
   "source": [
    "#| export\n",
    "dep_var = 'Transported'"
   ]
  },
  {
   "cell_type": "code",
   "execution_count": 50,
   "metadata": {},
   "outputs": [
    {
     "data": {
      "text/plain": [
       "<bound method NDFrame.sample of 0         TRAPPIST-1e\n",
       "1         TRAPPIST-1e\n",
       "2         TRAPPIST-1e\n",
       "3         TRAPPIST-1e\n",
       "4         TRAPPIST-1e\n",
       "            ...      \n",
       "8688      55 Cancri e\n",
       "8689    PSO J318.5-22\n",
       "8690      TRAPPIST-1e\n",
       "8691      55 Cancri e\n",
       "8692      TRAPPIST-1e\n",
       "Name: Destination, Length: 8693, dtype: object>"
      ]
     },
     "execution_count": 50,
     "metadata": {},
     "output_type": "execute_result"
    }
   ],
   "source": [
    "df['Destination'].sample"
   ]
  },
  {
   "cell_type": "markdown",
   "metadata": {},
   "source": [
    "Add tabular processes to transform categorical variables to something similar to `pd.Categorical`, and fill in missing/na values"
   ]
  },
  {
   "cell_type": "code",
   "execution_count": 51,
   "metadata": {},
   "outputs": [],
   "source": [
    "#| export\n",
    "procs = [Categorify, FillMissing, Normalize]"
   ]
  },
  {
   "cell_type": "code",
   "execution_count": 52,
   "metadata": {},
   "outputs": [],
   "source": [
    "#| export\n",
    "cont, cat = cont_cat_split(df, 1, dep_var=dep_var)"
   ]
  },
  {
   "cell_type": "code",
   "execution_count": 53,
   "metadata": {},
   "outputs": [],
   "source": [
    "test_cont, test_cat = cont_cat_split(test_df, 1, dep_var=dep_var)"
   ]
  },
  {
   "cell_type": "code",
   "execution_count": 54,
   "metadata": {},
   "outputs": [],
   "source": [
    "to = TabularPandas(df, procs, cat, cont, y_names=dep_var, \n",
    "                    y_block=CategoryBlock(), \n",
    "                    splits=RandomSplitter(valid_pct=0.2, seed=42)(df)).dataloaders(bs=128)"
   ]
  },
  {
   "cell_type": "code",
   "execution_count": 55,
   "metadata": {},
   "outputs": [],
   "source": [
    "test_to = TabularPandas(test_df, procs, test_cat, test_cont, y_names=None, \n",
    "                    y_block=CategoryBlock(), \n",
    "                    splits=None).dataloaders(bs=128)"
   ]
  },
  {
   "cell_type": "code",
   "execution_count": 56,
   "metadata": {},
   "outputs": [],
   "source": [
    "xs, y = to.train.xs, to.train.y\n",
    "valid_xs, valid_y = to.valid.xs, to.valid.y"
   ]
  },
  {
   "cell_type": "code",
   "execution_count": 57,
   "metadata": {},
   "outputs": [],
   "source": [
    "test_xs = test_to.train.xs"
   ]
  },
  {
   "cell_type": "code",
   "execution_count": 58,
   "metadata": {},
   "outputs": [
    {
     "data": {
      "text/html": [
       "<div>\n",
       "<style scoped>\n",
       "    .dataframe tbody tr th:only-of-type {\n",
       "        vertical-align: middle;\n",
       "    }\n",
       "\n",
       "    .dataframe tbody tr th {\n",
       "        vertical-align: top;\n",
       "    }\n",
       "\n",
       "    .dataframe thead th {\n",
       "        text-align: right;\n",
       "    }\n",
       "</style>\n",
       "<table border=\"1\" class=\"dataframe\">\n",
       "  <thead>\n",
       "    <tr style=\"text-align: right;\">\n",
       "      <th></th>\n",
       "      <th>PassengerId</th>\n",
       "      <th>HomePlanet</th>\n",
       "      <th>Cabin</th>\n",
       "      <th>Destination</th>\n",
       "      <th>surname</th>\n",
       "      <th>group_num</th>\n",
       "      <th>deck</th>\n",
       "      <th>room_num</th>\n",
       "      <th>side</th>\n",
       "      <th>Age_na</th>\n",
       "      <th>RoomService_na</th>\n",
       "      <th>FoodCourt_na</th>\n",
       "      <th>ShoppingMall_na</th>\n",
       "      <th>Spa_na</th>\n",
       "      <th>VRDeck_na</th>\n",
       "      <th>CryoSleep</th>\n",
       "      <th>Age</th>\n",
       "      <th>VIP</th>\n",
       "      <th>RoomService</th>\n",
       "      <th>FoodCourt</th>\n",
       "      <th>ShoppingMall</th>\n",
       "      <th>Spa</th>\n",
       "      <th>VRDeck</th>\n",
       "      <th>num_w_in_group</th>\n",
       "      <th>num_in_group</th>\n",
       "      <th>fam_board_together</th>\n",
       "    </tr>\n",
       "  </thead>\n",
       "  <tbody>\n",
       "    <tr>\n",
       "      <th>8388</th>\n",
       "      <td>8389</td>\n",
       "      <td>3</td>\n",
       "      <td>3242</td>\n",
       "      <td>3</td>\n",
       "      <td>300</td>\n",
       "      <td>6005</td>\n",
       "      <td>6</td>\n",
       "      <td>786</td>\n",
       "      <td>2</td>\n",
       "      <td>1</td>\n",
       "      <td>1</td>\n",
       "      <td>1</td>\n",
       "      <td>1</td>\n",
       "      <td>1</td>\n",
       "      <td>1</td>\n",
       "      <td>-0.749109</td>\n",
       "      <td>1.612332</td>\n",
       "      <td>-0.206029</td>\n",
       "      <td>1.470626</td>\n",
       "      <td>-0.282769</td>\n",
       "      <td>-0.267182</td>\n",
       "      <td>-0.267988</td>\n",
       "      <td>-0.263122</td>\n",
       "      <td>-0.493406</td>\n",
       "      <td>-0.652869</td>\n",
       "      <td>1.123458</td>\n",
       "    </tr>\n",
       "    <tr>\n",
       "      <th>1917</th>\n",
       "      <td>1918</td>\n",
       "      <td>1</td>\n",
       "      <td>5560</td>\n",
       "      <td>3</td>\n",
       "      <td>0</td>\n",
       "      <td>1362</td>\n",
       "      <td>7</td>\n",
       "      <td>1078</td>\n",
       "      <td>1</td>\n",
       "      <td>1</td>\n",
       "      <td>1</td>\n",
       "      <td>1</td>\n",
       "      <td>1</td>\n",
       "      <td>1</td>\n",
       "      <td>1</td>\n",
       "      <td>1.095811</td>\n",
       "      <td>-0.265485</td>\n",
       "      <td>-0.206029</td>\n",
       "      <td>-0.327109</td>\n",
       "      <td>-0.284032</td>\n",
       "      <td>-0.280746</td>\n",
       "      <td>-0.267988</td>\n",
       "      <td>-0.263122</td>\n",
       "      <td>1.383858</td>\n",
       "      <td>2.463179</td>\n",
       "      <td>2.994542</td>\n",
       "    </tr>\n",
       "    <tr>\n",
       "      <th>5173</th>\n",
       "      <td>5174</td>\n",
       "      <td>1</td>\n",
       "      <td>6379</td>\n",
       "      <td>2</td>\n",
       "      <td>1504</td>\n",
       "      <td>3719</td>\n",
       "      <td>7</td>\n",
       "      <td>1692</td>\n",
       "      <td>1</td>\n",
       "      <td>1</td>\n",
       "      <td>1</td>\n",
       "      <td>1</td>\n",
       "      <td>1</td>\n",
       "      <td>1</td>\n",
       "      <td>1</td>\n",
       "      <td>-0.749109</td>\n",
       "      <td>0.012710</td>\n",
       "      <td>-0.206029</td>\n",
       "      <td>-0.327109</td>\n",
       "      <td>-0.284032</td>\n",
       "      <td>-0.246835</td>\n",
       "      <td>-0.267988</td>\n",
       "      <td>0.100366</td>\n",
       "      <td>-0.493406</td>\n",
       "      <td>-0.652869</td>\n",
       "      <td>1.123458</td>\n",
       "    </tr>\n",
       "    <tr>\n",
       "      <th>8246</th>\n",
       "      <td>8247</td>\n",
       "      <td>1</td>\n",
       "      <td>2091</td>\n",
       "      <td>2</td>\n",
       "      <td>870</td>\n",
       "      <td>5905</td>\n",
       "      <td>5</td>\n",
       "      <td>1351</td>\n",
       "      <td>2</td>\n",
       "      <td>1</td>\n",
       "      <td>1</td>\n",
       "      <td>1</td>\n",
       "      <td>1</td>\n",
       "      <td>1</td>\n",
       "      <td>1</td>\n",
       "      <td>-0.749109</td>\n",
       "      <td>2.377369</td>\n",
       "      <td>-0.206029</td>\n",
       "      <td>-0.327109</td>\n",
       "      <td>-0.284032</td>\n",
       "      <td>-0.145103</td>\n",
       "      <td>-0.267988</td>\n",
       "      <td>1.836428</td>\n",
       "      <td>-0.493406</td>\n",
       "      <td>-0.652869</td>\n",
       "      <td>1.123458</td>\n",
       "    </tr>\n",
       "    <tr>\n",
       "      <th>61</th>\n",
       "      <td>62</td>\n",
       "      <td>1</td>\n",
       "      <td>4563</td>\n",
       "      <td>2</td>\n",
       "      <td>1186</td>\n",
       "      <td>44</td>\n",
       "      <td>7</td>\n",
       "      <td>3</td>\n",
       "      <td>2</td>\n",
       "      <td>1</td>\n",
       "      <td>1</td>\n",
       "      <td>1</td>\n",
       "      <td>1</td>\n",
       "      <td>1</td>\n",
       "      <td>1</td>\n",
       "      <td>1.095811</td>\n",
       "      <td>-2.004205</td>\n",
       "      <td>-0.206029</td>\n",
       "      <td>-0.327109</td>\n",
       "      <td>-0.284032</td>\n",
       "      <td>-0.280746</td>\n",
       "      <td>-0.267988</td>\n",
       "      <td>-0.263122</td>\n",
       "      <td>-0.493406</td>\n",
       "      <td>0.593550</td>\n",
       "      <td>-0.747627</td>\n",
       "    </tr>\n",
       "  </tbody>\n",
       "</table>\n",
       "</div>"
      ],
      "text/plain": [
       "      PassengerId  HomePlanet  Cabin  Destination  surname  group_num  deck  \\\n",
       "8388         8389           3   3242            3      300       6005     6   \n",
       "1917         1918           1   5560            3        0       1362     7   \n",
       "5173         5174           1   6379            2     1504       3719     7   \n",
       "8246         8247           1   2091            2      870       5905     5   \n",
       "61             62           1   4563            2     1186         44     7   \n",
       "\n",
       "      room_num  side  Age_na  RoomService_na  FoodCourt_na  ShoppingMall_na  \\\n",
       "8388       786     2       1               1             1                1   \n",
       "1917      1078     1       1               1             1                1   \n",
       "5173      1692     1       1               1             1                1   \n",
       "8246      1351     2       1               1             1                1   \n",
       "61           3     2       1               1             1                1   \n",
       "\n",
       "      Spa_na  VRDeck_na  CryoSleep       Age       VIP  RoomService  \\\n",
       "8388       1          1  -0.749109  1.612332 -0.206029     1.470626   \n",
       "1917       1          1   1.095811 -0.265485 -0.206029    -0.327109   \n",
       "5173       1          1  -0.749109  0.012710 -0.206029    -0.327109   \n",
       "8246       1          1  -0.749109  2.377369 -0.206029    -0.327109   \n",
       "61         1          1   1.095811 -2.004205 -0.206029    -0.327109   \n",
       "\n",
       "      FoodCourt  ShoppingMall       Spa    VRDeck  num_w_in_group  \\\n",
       "8388  -0.282769     -0.267182 -0.267988 -0.263122       -0.493406   \n",
       "1917  -0.284032     -0.280746 -0.267988 -0.263122        1.383858   \n",
       "5173  -0.284032     -0.246835 -0.267988  0.100366       -0.493406   \n",
       "8246  -0.284032     -0.145103 -0.267988  1.836428       -0.493406   \n",
       "61    -0.284032     -0.280746 -0.267988 -0.263122       -0.493406   \n",
       "\n",
       "      num_in_group  fam_board_together  \n",
       "8388     -0.652869            1.123458  \n",
       "1917      2.463179            2.994542  \n",
       "5173     -0.652869            1.123458  \n",
       "8246     -0.652869            1.123458  \n",
       "61        0.593550           -0.747627  "
      ]
     },
     "execution_count": 58,
     "metadata": {},
     "output_type": "execute_result"
    }
   ],
   "source": [
    "xs.head()"
   ]
  },
  {
   "cell_type": "code",
   "execution_count": 59,
   "metadata": {},
   "outputs": [
    {
     "data": {
      "text/plain": [
       "(6955, 26)"
      ]
     },
     "execution_count": 59,
     "metadata": {},
     "output_type": "execute_result"
    }
   ],
   "source": [
    "xs.shape"
   ]
  },
  {
   "cell_type": "code",
   "execution_count": 60,
   "metadata": {},
   "outputs": [
    {
     "data": {
      "text/html": [
       "<div>\n",
       "<style scoped>\n",
       "    .dataframe tbody tr th:only-of-type {\n",
       "        vertical-align: middle;\n",
       "    }\n",
       "\n",
       "    .dataframe tbody tr th {\n",
       "        vertical-align: top;\n",
       "    }\n",
       "\n",
       "    .dataframe thead th {\n",
       "        text-align: right;\n",
       "    }\n",
       "</style>\n",
       "<table border=\"1\" class=\"dataframe\">\n",
       "  <thead>\n",
       "    <tr style=\"text-align: right;\">\n",
       "      <th></th>\n",
       "      <th>PassengerId</th>\n",
       "      <th>HomePlanet</th>\n",
       "      <th>Cabin</th>\n",
       "      <th>Destination</th>\n",
       "      <th>surname</th>\n",
       "      <th>group_num</th>\n",
       "      <th>deck</th>\n",
       "      <th>room_num</th>\n",
       "      <th>side</th>\n",
       "      <th>Age_na</th>\n",
       "      <th>RoomService_na</th>\n",
       "      <th>FoodCourt_na</th>\n",
       "      <th>ShoppingMall_na</th>\n",
       "      <th>Spa_na</th>\n",
       "      <th>VRDeck_na</th>\n",
       "      <th>CryoSleep</th>\n",
       "      <th>Age</th>\n",
       "      <th>VIP</th>\n",
       "      <th>RoomService</th>\n",
       "      <th>FoodCourt</th>\n",
       "      <th>ShoppingMall</th>\n",
       "      <th>Spa</th>\n",
       "      <th>VRDeck</th>\n",
       "      <th>num_w_in_group</th>\n",
       "      <th>num_in_group</th>\n",
       "      <th>fam_board_together</th>\n",
       "    </tr>\n",
       "  </thead>\n",
       "  <tbody>\n",
       "    <tr>\n",
       "      <th>0</th>\n",
       "      <td>1</td>\n",
       "      <td>1</td>\n",
       "      <td>2785</td>\n",
       "      <td>3</td>\n",
       "      <td>276</td>\n",
       "      <td>1</td>\n",
       "      <td>7</td>\n",
       "      <td>821</td>\n",
       "      <td>2</td>\n",
       "      <td>1</td>\n",
       "      <td>1</td>\n",
       "      <td>1</td>\n",
       "      <td>1</td>\n",
       "      <td>1</td>\n",
       "      <td>1</td>\n",
       "      <td>1.116736</td>\n",
       "      <td>-0.114147</td>\n",
       "      <td>-0.191678</td>\n",
       "      <td>-0.357339</td>\n",
       "      <td>-0.283840</td>\n",
       "      <td>-0.312173</td>\n",
       "      <td>-0.267841</td>\n",
       "      <td>-0.246712</td>\n",
       "      <td>-0.489847</td>\n",
       "      <td>-0.648973</td>\n",
       "      <td>-1.116345</td>\n",
       "    </tr>\n",
       "    <tr>\n",
       "      <th>1</th>\n",
       "      <td>2</td>\n",
       "      <td>1</td>\n",
       "      <td>1868</td>\n",
       "      <td>3</td>\n",
       "      <td>1191</td>\n",
       "      <td>2</td>\n",
       "      <td>6</td>\n",
       "      <td>928</td>\n",
       "      <td>2</td>\n",
       "      <td>1</td>\n",
       "      <td>1</td>\n",
       "      <td>1</td>\n",
       "      <td>1</td>\n",
       "      <td>1</td>\n",
       "      <td>1</td>\n",
       "      <td>-0.758521</td>\n",
       "      <td>-0.684313</td>\n",
       "      <td>-0.191678</td>\n",
       "      <td>-0.357339</td>\n",
       "      <td>-0.277879</td>\n",
       "      <td>-0.312173</td>\n",
       "      <td>2.287504</td>\n",
       "      <td>-0.246712</td>\n",
       "      <td>-0.489847</td>\n",
       "      <td>-0.648973</td>\n",
       "      <td>0.757520</td>\n",
       "    </tr>\n",
       "    <tr>\n",
       "      <th>2</th>\n",
       "      <td>3</td>\n",
       "      <td>2</td>\n",
       "      <td>258</td>\n",
       "      <td>1</td>\n",
       "      <td>1605</td>\n",
       "      <td>3</td>\n",
       "      <td>3</td>\n",
       "      <td>1</td>\n",
       "      <td>2</td>\n",
       "      <td>1</td>\n",
       "      <td>1</td>\n",
       "      <td>1</td>\n",
       "      <td>1</td>\n",
       "      <td>1</td>\n",
       "      <td>1</td>\n",
       "      <td>1.116736</td>\n",
       "      <td>0.170937</td>\n",
       "      <td>-0.191678</td>\n",
       "      <td>-0.357339</td>\n",
       "      <td>-0.283840</td>\n",
       "      <td>-0.312173</td>\n",
       "      <td>-0.267841</td>\n",
       "      <td>-0.246712</td>\n",
       "      <td>-0.489847</td>\n",
       "      <td>-0.648973</td>\n",
       "      <td>0.757520</td>\n",
       "    </tr>\n",
       "    <tr>\n",
       "      <th>3</th>\n",
       "      <td>4</td>\n",
       "      <td>2</td>\n",
       "      <td>260</td>\n",
       "      <td>3</td>\n",
       "      <td>263</td>\n",
       "      <td>4</td>\n",
       "      <td>3</td>\n",
       "      <td>2</td>\n",
       "      <td>2</td>\n",
       "      <td>1</td>\n",
       "      <td>1</td>\n",
       "      <td>1</td>\n",
       "      <td>1</td>\n",
       "      <td>1</td>\n",
       "      <td>1</td>\n",
       "      <td>-0.758521</td>\n",
       "      <td>0.669832</td>\n",
       "      <td>-0.191678</td>\n",
       "      <td>-0.357339</td>\n",
       "      <td>4.121518</td>\n",
       "      <td>-0.312173</td>\n",
       "      <td>-0.104002</td>\n",
       "      <td>0.226648</td>\n",
       "      <td>-0.489847</td>\n",
       "      <td>-0.648973</td>\n",
       "      <td>0.757520</td>\n",
       "    </tr>\n",
       "    <tr>\n",
       "      <th>4</th>\n",
       "      <td>5</td>\n",
       "      <td>1</td>\n",
       "      <td>1941</td>\n",
       "      <td>3</td>\n",
       "      <td>737</td>\n",
       "      <td>5</td>\n",
       "      <td>6</td>\n",
       "      <td>1030</td>\n",
       "      <td>2</td>\n",
       "      <td>1</td>\n",
       "      <td>1</td>\n",
       "      <td>1</td>\n",
       "      <td>1</td>\n",
       "      <td>1</td>\n",
       "      <td>1</td>\n",
       "      <td>-0.758521</td>\n",
       "      <td>-0.613042</td>\n",
       "      <td>-0.191678</td>\n",
       "      <td>-0.340723</td>\n",
       "      <td>-0.283840</td>\n",
       "      <td>0.832122</td>\n",
       "      <td>-0.267841</td>\n",
       "      <td>-0.246712</td>\n",
       "      <td>-0.489847</td>\n",
       "      <td>-0.648973</td>\n",
       "      <td>0.757520</td>\n",
       "    </tr>\n",
       "  </tbody>\n",
       "</table>\n",
       "</div>"
      ],
      "text/plain": [
       "   PassengerId  HomePlanet  Cabin  Destination  surname  group_num  deck  \\\n",
       "0            1           1   2785            3      276          1     7   \n",
       "1            2           1   1868            3     1191          2     6   \n",
       "2            3           2    258            1     1605          3     3   \n",
       "3            4           2    260            3      263          4     3   \n",
       "4            5           1   1941            3      737          5     6   \n",
       "\n",
       "   room_num  side  Age_na  RoomService_na  FoodCourt_na  ShoppingMall_na  \\\n",
       "0       821     2       1               1             1                1   \n",
       "1       928     2       1               1             1                1   \n",
       "2         1     2       1               1             1                1   \n",
       "3         2     2       1               1             1                1   \n",
       "4      1030     2       1               1             1                1   \n",
       "\n",
       "   Spa_na  VRDeck_na  CryoSleep       Age       VIP  RoomService  FoodCourt  \\\n",
       "0       1          1   1.116736 -0.114147 -0.191678    -0.357339  -0.283840   \n",
       "1       1          1  -0.758521 -0.684313 -0.191678    -0.357339  -0.277879   \n",
       "2       1          1   1.116736  0.170937 -0.191678    -0.357339  -0.283840   \n",
       "3       1          1  -0.758521  0.669832 -0.191678    -0.357339   4.121518   \n",
       "4       1          1  -0.758521 -0.613042 -0.191678    -0.340723  -0.283840   \n",
       "\n",
       "   ShoppingMall       Spa    VRDeck  num_w_in_group  num_in_group  \\\n",
       "0     -0.312173 -0.267841 -0.246712       -0.489847     -0.648973   \n",
       "1     -0.312173  2.287504 -0.246712       -0.489847     -0.648973   \n",
       "2     -0.312173 -0.267841 -0.246712       -0.489847     -0.648973   \n",
       "3     -0.312173 -0.104002  0.226648       -0.489847     -0.648973   \n",
       "4      0.832122 -0.267841 -0.246712       -0.489847     -0.648973   \n",
       "\n",
       "   fam_board_together  \n",
       "0           -1.116345  \n",
       "1            0.757520  \n",
       "2            0.757520  \n",
       "3            0.757520  \n",
       "4            0.757520  "
      ]
     },
     "execution_count": 60,
     "metadata": {},
     "output_type": "execute_result"
    }
   ],
   "source": [
    "test_xs.head()"
   ]
  },
  {
   "cell_type": "code",
   "execution_count": 61,
   "metadata": {},
   "outputs": [
    {
     "data": {
      "text/plain": [
       "(4277, 26)"
      ]
     },
     "execution_count": 61,
     "metadata": {},
     "output_type": "execute_result"
    }
   ],
   "source": [
    "test_xs.shape"
   ]
  },
  {
   "cell_type": "code",
   "execution_count": 62,
   "metadata": {},
   "outputs": [
    {
     "name": "stderr",
     "output_type": "stream",
     "text": [
      "/tmp/ipykernel_3157/3888966817.py:2: FutureWarning: The default value of numeric_only in DataFrame.corr is deprecated. In a future version, it will default to False. Select only valid columns or specify the value of numeric_only to silence this warning.\n"
     ]
    },
    {
     "data": {
      "text/plain": [
       "<AxesSubplot: >"
      ]
     },
     "execution_count": 62,
     "metadata": {},
     "output_type": "execute_result"
    },
    {
     "data": {
      "image/png": "[encoded data removed]",
      "text/plain": [
       "<Figure size 1000x1000 with 2 Axes>"
      ]
     },
     "metadata": {},
     "output_type": "display_data"
    }
   ],
   "source": [
    "plt.figure(figsize=(10,10))\n",
    "sns.heatmap(df.corr(), annot=True)"
   ]
  },
  {
   "cell_type": "code",
   "execution_count": 63,
   "metadata": {},
   "outputs": [],
   "source": [
    "def rf(xs, y, n_estimators=40, max_features=0.5, min_samples_leaf=5, **kwargs):\n",
    "    return RandomForestClassifier(n_jobs=-1, n_estimators=n_estimators,\n",
    "        max_features=max_features, min_samples_leaf=min_samples_leaf, \n",
    "        oob_score=True).fit(xs,y)"
   ]
  },
  {
   "cell_type": "code",
   "execution_count": 64,
   "metadata": {},
   "outputs": [],
   "source": [
    "m = rf(xs,y)"
   ]
  },
  {
   "cell_type": "code",
   "execution_count": 65,
   "metadata": {},
   "outputs": [],
   "source": [
    "def pred_acc(m, valid_xs=valid_xs):\n",
    "    y_pred = m.predict(valid_xs)\n",
    "    accuracy = accuracy_score(valid_y, y_pred)\n",
    "    return accuracy"
   ]
  },
  {
   "cell_type": "code",
   "execution_count": 66,
   "metadata": {},
   "outputs": [
    {
     "data": {
      "text/plain": [
       "0.8055235903337169"
      ]
     },
     "execution_count": 66,
     "metadata": {},
     "output_type": "execute_result"
    }
   ],
   "source": [
    "pred_acc(m)"
   ]
  },
  {
   "cell_type": "code",
   "execution_count": 67,
   "metadata": {},
   "outputs": [],
   "source": [
    "def rf_feat_importances(m, df):\n",
    "    return pd.DataFrame({'cols':df.columns, 'imp':m.feature_importances_}).sort_values('imp', ascending=False)"
   ]
  },
  {
   "cell_type": "code",
   "execution_count": 68,
   "metadata": {},
   "outputs": [
    {
     "data": {
      "text/html": [
       "<div>\n",
       "<style scoped>\n",
       "    .dataframe tbody tr th:only-of-type {\n",
       "        vertical-align: middle;\n",
       "    }\n",
       "\n",
       "    .dataframe tbody tr th {\n",
       "        vertical-align: top;\n",
       "    }\n",
       "\n",
       "    .dataframe thead th {\n",
       "        text-align: right;\n",
       "    }\n",
       "</style>\n",
       "<table border=\"1\" class=\"dataframe\">\n",
       "  <thead>\n",
       "    <tr style=\"text-align: right;\">\n",
       "      <th></th>\n",
       "      <th>cols</th>\n",
       "      <th>imp</th>\n",
       "    </tr>\n",
       "  </thead>\n",
       "  <tbody>\n",
       "    <tr>\n",
       "      <th>15</th>\n",
       "      <td>CryoSleep</td>\n",
       "      <td>0.175831</td>\n",
       "    </tr>\n",
       "    <tr>\n",
       "      <th>18</th>\n",
       "      <td>RoomService</td>\n",
       "      <td>0.111597</td>\n",
       "    </tr>\n",
       "    <tr>\n",
       "      <th>21</th>\n",
       "      <td>Spa</td>\n",
       "      <td>0.093730</td>\n",
       "    </tr>\n",
       "    <tr>\n",
       "      <th>22</th>\n",
       "      <td>VRDeck</td>\n",
       "      <td>0.086167</td>\n",
       "    </tr>\n",
       "    <tr>\n",
       "      <th>2</th>\n",
       "      <td>Cabin</td>\n",
       "      <td>0.073600</td>\n",
       "    </tr>\n",
       "    <tr>\n",
       "      <th>19</th>\n",
       "      <td>FoodCourt</td>\n",
       "      <td>0.070399</td>\n",
       "    </tr>\n",
       "    <tr>\n",
       "      <th>16</th>\n",
       "      <td>Age</td>\n",
       "      <td>0.052725</td>\n",
       "    </tr>\n",
       "    <tr>\n",
       "      <th>20</th>\n",
       "      <td>ShoppingMall</td>\n",
       "      <td>0.050848</td>\n",
       "    </tr>\n",
       "    <tr>\n",
       "      <th>7</th>\n",
       "      <td>room_num</td>\n",
       "      <td>0.046868</td>\n",
       "    </tr>\n",
       "    <tr>\n",
       "      <th>4</th>\n",
       "      <td>surname</td>\n",
       "      <td>0.046155</td>\n",
       "    </tr>\n",
       "    <tr>\n",
       "      <th>1</th>\n",
       "      <td>HomePlanet</td>\n",
       "      <td>0.041791</td>\n",
       "    </tr>\n",
       "    <tr>\n",
       "      <th>5</th>\n",
       "      <td>group_num</td>\n",
       "      <td>0.036801</td>\n",
       "    </tr>\n",
       "    <tr>\n",
       "      <th>0</th>\n",
       "      <td>PassengerId</td>\n",
       "      <td>0.036334</td>\n",
       "    </tr>\n",
       "    <tr>\n",
       "      <th>8</th>\n",
       "      <td>side</td>\n",
       "      <td>0.022626</td>\n",
       "    </tr>\n",
       "    <tr>\n",
       "      <th>6</th>\n",
       "      <td>deck</td>\n",
       "      <td>0.018165</td>\n",
       "    </tr>\n",
       "    <tr>\n",
       "      <th>3</th>\n",
       "      <td>Destination</td>\n",
       "      <td>0.010943</td>\n",
       "    </tr>\n",
       "    <tr>\n",
       "      <th>24</th>\n",
       "      <td>num_in_group</td>\n",
       "      <td>0.010678</td>\n",
       "    </tr>\n",
       "    <tr>\n",
       "      <th>25</th>\n",
       "      <td>fam_board_together</td>\n",
       "      <td>0.005700</td>\n",
       "    </tr>\n",
       "    <tr>\n",
       "      <th>23</th>\n",
       "      <td>num_w_in_group</td>\n",
       "      <td>0.005489</td>\n",
       "    </tr>\n",
       "    <tr>\n",
       "      <th>17</th>\n",
       "      <td>VIP</td>\n",
       "      <td>0.001538</td>\n",
       "    </tr>\n",
       "    <tr>\n",
       "      <th>10</th>\n",
       "      <td>RoomService_na</td>\n",
       "      <td>0.000481</td>\n",
       "    </tr>\n",
       "    <tr>\n",
       "      <th>14</th>\n",
       "      <td>VRDeck_na</td>\n",
       "      <td>0.000473</td>\n",
       "    </tr>\n",
       "    <tr>\n",
       "      <th>11</th>\n",
       "      <td>FoodCourt_na</td>\n",
       "      <td>0.000457</td>\n",
       "    </tr>\n",
       "    <tr>\n",
       "      <th>13</th>\n",
       "      <td>Spa_na</td>\n",
       "      <td>0.000251</td>\n",
       "    </tr>\n",
       "    <tr>\n",
       "      <th>9</th>\n",
       "      <td>Age_na</td>\n",
       "      <td>0.000185</td>\n",
       "    </tr>\n",
       "    <tr>\n",
       "      <th>12</th>\n",
       "      <td>ShoppingMall_na</td>\n",
       "      <td>0.000169</td>\n",
       "    </tr>\n",
       "  </tbody>\n",
       "</table>\n",
       "</div>"
      ],
      "text/plain": [
       "                  cols       imp\n",
       "15           CryoSleep  0.175831\n",
       "18         RoomService  0.111597\n",
       "21                 Spa  0.093730\n",
       "22              VRDeck  0.086167\n",
       "2                Cabin  0.073600\n",
       "19           FoodCourt  0.070399\n",
       "16                 Age  0.052725\n",
       "20        ShoppingMall  0.050848\n",
       "7             room_num  0.046868\n",
       "4              surname  0.046155\n",
       "1           HomePlanet  0.041791\n",
       "5            group_num  0.036801\n",
       "0          PassengerId  0.036334\n",
       "8                 side  0.022626\n",
       "6                 deck  0.018165\n",
       "3          Destination  0.010943\n",
       "24        num_in_group  0.010678\n",
       "25  fam_board_together  0.005700\n",
       "23      num_w_in_group  0.005489\n",
       "17                 VIP  0.001538\n",
       "10      RoomService_na  0.000481\n",
       "14           VRDeck_na  0.000473\n",
       "11        FoodCourt_na  0.000457\n",
       "13              Spa_na  0.000251\n",
       "9               Age_na  0.000185\n",
       "12     ShoppingMall_na  0.000169"
      ]
     },
     "execution_count": 68,
     "metadata": {},
     "output_type": "execute_result"
    }
   ],
   "source": [
    "fi = rf_feat_importances(m, xs)\n",
    "fi"
   ]
  },
  {
   "cell_type": "code",
   "execution_count": 69,
   "metadata": {},
   "outputs": [],
   "source": [
    "def plot_fi(fi):\n",
    "    return fi.plot('cols', 'imp', 'barh', figsize=(12,7), legend=False)"
   ]
  },
  {
   "cell_type": "code",
   "execution_count": 70,
   "metadata": {},
   "outputs": [
    {
     "data": {
      "text/plain": [
       "<AxesSubplot: ylabel='cols'>"
      ]
     },
     "execution_count": 70,
     "metadata": {},
     "output_type": "execute_result"
    },
    {
     "data": {
      "image/png": "[encoded data removed]",
      "text/plain": [
       "<Figure size 1200x700 with 1 Axes>"
      ]
     },
     "metadata": {},
     "output_type": "display_data"
    }
   ],
   "source": [
    "plot_fi(fi)"
   ]
  },
  {
   "cell_type": "code",
   "execution_count": 71,
   "metadata": {},
   "outputs": [
    {
     "data": {
      "image/png": "[encoded data removed]",
      "text/plain": [
       "<Figure size 1000x600 with 1 Axes>"
      ]
     },
     "metadata": {},
     "output_type": "display_data"
    }
   ],
   "source": [
    "cluster_columns(xs)"
   ]
  },
  {
   "cell_type": "code",
   "execution_count": 72,
   "metadata": {},
   "outputs": [
    {
     "data": {
      "text/plain": [
       "(19, 26)"
      ]
     },
     "execution_count": 72,
     "metadata": {},
     "output_type": "execute_result"
    }
   ],
   "source": [
    "to_keep = fi[fi.imp > 0.005].cols\n",
    "len(to_keep), len(fi)"
   ]
  },
  {
   "cell_type": "code",
   "execution_count": 73,
   "metadata": {},
   "outputs": [],
   "source": [
    "xs_imp = xs[to_keep]\n",
    "valid_xs_imp = valid_xs[to_keep]"
   ]
  },
  {
   "cell_type": "code",
   "execution_count": 74,
   "metadata": {},
   "outputs": [],
   "source": [
    "test_xs_imp = test_xs[to_keep]"
   ]
  },
  {
   "cell_type": "code",
   "execution_count": 75,
   "metadata": {},
   "outputs": [
    {
     "data": {
      "text/plain": [
       "4277"
      ]
     },
     "execution_count": 75,
     "metadata": {},
     "output_type": "execute_result"
    }
   ],
   "source": [
    "len(test_xs_imp)"
   ]
  },
  {
   "cell_type": "code",
   "execution_count": 76,
   "metadata": {},
   "outputs": [],
   "source": [
    "m = rf(xs_imp, y)"
   ]
  },
  {
   "cell_type": "code",
   "execution_count": 77,
   "metadata": {},
   "outputs": [
    {
     "data": {
      "text/plain": [
       "0.8095512082853855"
      ]
     },
     "execution_count": 77,
     "metadata": {},
     "output_type": "execute_result"
    }
   ],
   "source": [
    "pred_acc(m, valid_xs=valid_xs_imp)"
   ]
  },
  {
   "cell_type": "code",
   "execution_count": 78,
   "metadata": {},
   "outputs": [
    {
     "data": {
      "text/plain": [
       "<AxesSubplot: ylabel='cols'>"
      ]
     },
     "execution_count": 78,
     "metadata": {},
     "output_type": "execute_result"
    },
    {
     "data": {
      "image/png": "[encoded data removed]",
      "text/plain": [
       "<Figure size 1200x700 with 1 Axes>"
      ]
     },
     "metadata": {},
     "output_type": "display_data"
    }
   ],
   "source": [
    "plot_fi(rf_feat_importances(m, xs_imp))"
   ]
  },
  {
   "cell_type": "code",
   "execution_count": 79,
   "metadata": {},
   "outputs": [
    {
     "data": {
      "image/png": "[encoded data removed]",
      "text/plain": [
       "<Figure size 1000x600 with 1 Axes>"
      ]
     },
     "metadata": {},
     "output_type": "display_data"
    }
   ],
   "source": [
    "cluster_columns(xs_imp)"
   ]
  },
  {
   "cell_type": "code",
   "execution_count": 80,
   "metadata": {},
   "outputs": [],
   "source": [
    "def get_oob(df):\n",
    "    m = RandomForestClassifier(n_estimators=40, min_samples_leaf=15, max_features=0.5, n_jobs=-1, oob_score=True)\n",
    "    m.fit(df, y)\n",
    "    return m.oob_score_"
   ]
  },
  {
   "cell_type": "code",
   "execution_count": 81,
   "metadata": {},
   "outputs": [
    {
     "data": {
      "text/plain": [
       "0.7949676491732567"
      ]
     },
     "execution_count": 81,
     "metadata": {},
     "output_type": "execute_result"
    }
   ],
   "source": [
    "get_oob(xs_imp)\n"
   ]
  },
  {
   "cell_type": "code",
   "execution_count": 82,
   "metadata": {},
   "outputs": [
    {
     "data": {
      "text/plain": [
       "{'CryoSleep': 0.7942487419122933,\n",
       " 'RoomService': 0.7909417685118619,\n",
       " 'Spa': 0.781020848310568,\n",
       " 'VRDeck': 0.785765636232926,\n",
       " 'Cabin': 0.7962616822429907,\n",
       " 'FoodCourt': 0.7909417685118619,\n",
       " 'Age': 0.7919482386772106,\n",
       " 'ShoppingMall': 0.789647735442128,\n",
       " 'room_num': 0.7951114306254493,\n",
       " 'surname': 0.800862688713156,\n",
       " 'HomePlanet': 0.7933860531991374,\n",
       " 'group_num': 0.7952552120776419,\n",
       " 'PassengerId': 0.793961179007908,\n",
       " 'side': 0.7932422717469446,\n",
       " 'deck': 0.79568655643422,\n",
       " 'Destination': 0.7945363048166787,\n",
       " 'num_in_group': 0.7959741193386053,\n",
       " 'fam_board_together': 0.793098490294752,\n",
       " 'num_w_in_group': 0.7966930265995686}"
      ]
     },
     "execution_count": 82,
     "metadata": {},
     "output_type": "execute_result"
    }
   ],
   "source": [
    "{c:get_oob(xs_imp.drop(c, axis=1)) for c in xs_imp.columns}"
   ]
  },
  {
   "cell_type": "code",
   "execution_count": 83,
   "metadata": {},
   "outputs": [
    {
     "data": {
      "text/plain": [
       "{'PassengerId': 0.7946800862688713,\n",
       " 'HomePlanet': 0.7928109273903666,\n",
       " 'Cabin': 0.7942487419122933,\n",
       " 'Destination': 0.7968368080517613,\n",
       " 'surname': 0.79352983465133,\n",
       " 'group_num': 0.7995686556434219,\n",
       " 'deck': 0.7979870596693026,\n",
       " 'room_num': 0.8001437814521927,\n",
       " 'side': 0.7972681524083394,\n",
       " 'Age_na': 0.7979870596693026,\n",
       " 'RoomService_na': 0.793961179007908,\n",
       " 'FoodCourt_na': 0.7925233644859813,\n",
       " 'ShoppingMall_na': 0.7932422717469446,\n",
       " 'Spa_na': 0.7916606757728253,\n",
       " 'VRDeck_na': 0.792667145938174,\n",
       " 'CryoSleep': 0.7949676491732567,\n",
       " 'Age': 0.7942487419122933,\n",
       " 'VIP': 0.801294033069734,\n",
       " 'RoomService': 0.7932422717469446,\n",
       " 'FoodCourt': 0.7928109273903666,\n",
       " 'ShoppingMall': 0.790079079798706,\n",
       " 'Spa': 0.7818835370237239,\n",
       " 'VRDeck': 0.7814521926671459,\n",
       " 'num_w_in_group': 0.796980589503954,\n",
       " 'num_in_group': 0.7952552120776419,\n",
       " 'fam_board_together': 0.7959741193386053}"
      ]
     },
     "execution_count": 83,
     "metadata": {},
     "output_type": "execute_result"
    }
   ],
   "source": [
    "{c:get_oob(xs.drop(c, axis=1)) for c in xs.columns}"
   ]
  },
  {
   "cell_type": "code",
   "execution_count": 84,
   "metadata": {},
   "outputs": [],
   "source": [
    "xs_final = xs_imp\n",
    "valid_xs_final = valid_xs_imp"
   ]
  },
  {
   "cell_type": "code",
   "execution_count": 85,
   "metadata": {},
   "outputs": [],
   "source": [
    "test_xs_final = test_xs_imp"
   ]
  },
  {
   "cell_type": "code",
   "execution_count": 86,
   "metadata": {},
   "outputs": [
    {
     "data": {
      "text/html": [
       "<div>\n",
       "<style scoped>\n",
       "    .dataframe tbody tr th:only-of-type {\n",
       "        vertical-align: middle;\n",
       "    }\n",
       "\n",
       "    .dataframe tbody tr th {\n",
       "        vertical-align: top;\n",
       "    }\n",
       "\n",
       "    .dataframe thead th {\n",
       "        text-align: right;\n",
       "    }\n",
       "</style>\n",
       "<table border=\"1\" class=\"dataframe\">\n",
       "  <thead>\n",
       "    <tr style=\"text-align: right;\">\n",
       "      <th></th>\n",
       "      <th>CryoSleep</th>\n",
       "      <th>RoomService</th>\n",
       "      <th>Spa</th>\n",
       "      <th>VRDeck</th>\n",
       "      <th>Cabin</th>\n",
       "      <th>FoodCourt</th>\n",
       "      <th>Age</th>\n",
       "      <th>ShoppingMall</th>\n",
       "      <th>room_num</th>\n",
       "      <th>surname</th>\n",
       "      <th>HomePlanet</th>\n",
       "      <th>group_num</th>\n",
       "      <th>PassengerId</th>\n",
       "      <th>side</th>\n",
       "      <th>deck</th>\n",
       "      <th>Destination</th>\n",
       "      <th>num_in_group</th>\n",
       "      <th>fam_board_together</th>\n",
       "      <th>num_w_in_group</th>\n",
       "    </tr>\n",
       "  </thead>\n",
       "  <tbody>\n",
       "    <tr>\n",
       "      <th>8388</th>\n",
       "      <td>-0.749109</td>\n",
       "      <td>1.470626</td>\n",
       "      <td>-0.267988</td>\n",
       "      <td>-0.263122</td>\n",
       "      <td>3242</td>\n",
       "      <td>-0.282769</td>\n",
       "      <td>1.612332</td>\n",
       "      <td>-0.267182</td>\n",
       "      <td>786</td>\n",
       "      <td>300</td>\n",
       "      <td>3</td>\n",
       "      <td>6005</td>\n",
       "      <td>8389</td>\n",
       "      <td>2</td>\n",
       "      <td>6</td>\n",
       "      <td>3</td>\n",
       "      <td>-0.652869</td>\n",
       "      <td>1.123458</td>\n",
       "      <td>-0.493406</td>\n",
       "    </tr>\n",
       "    <tr>\n",
       "      <th>1917</th>\n",
       "      <td>1.095811</td>\n",
       "      <td>-0.327109</td>\n",
       "      <td>-0.267988</td>\n",
       "      <td>-0.263122</td>\n",
       "      <td>5560</td>\n",
       "      <td>-0.284032</td>\n",
       "      <td>-0.265485</td>\n",
       "      <td>-0.280746</td>\n",
       "      <td>1078</td>\n",
       "      <td>0</td>\n",
       "      <td>1</td>\n",
       "      <td>1362</td>\n",
       "      <td>1918</td>\n",
       "      <td>1</td>\n",
       "      <td>7</td>\n",
       "      <td>3</td>\n",
       "      <td>2.463179</td>\n",
       "      <td>2.994542</td>\n",
       "      <td>1.383858</td>\n",
       "    </tr>\n",
       "    <tr>\n",
       "      <th>5173</th>\n",
       "      <td>-0.749109</td>\n",
       "      <td>-0.327109</td>\n",
       "      <td>-0.267988</td>\n",
       "      <td>0.100366</td>\n",
       "      <td>6379</td>\n",
       "      <td>-0.284032</td>\n",
       "      <td>0.012710</td>\n",
       "      <td>-0.246835</td>\n",
       "      <td>1692</td>\n",
       "      <td>1504</td>\n",
       "      <td>1</td>\n",
       "      <td>3719</td>\n",
       "      <td>5174</td>\n",
       "      <td>1</td>\n",
       "      <td>7</td>\n",
       "      <td>2</td>\n",
       "      <td>-0.652869</td>\n",
       "      <td>1.123458</td>\n",
       "      <td>-0.493406</td>\n",
       "    </tr>\n",
       "    <tr>\n",
       "      <th>8246</th>\n",
       "      <td>-0.749109</td>\n",
       "      <td>-0.327109</td>\n",
       "      <td>-0.267988</td>\n",
       "      <td>1.836428</td>\n",
       "      <td>2091</td>\n",
       "      <td>-0.284032</td>\n",
       "      <td>2.377369</td>\n",
       "      <td>-0.145103</td>\n",
       "      <td>1351</td>\n",
       "      <td>870</td>\n",
       "      <td>1</td>\n",
       "      <td>5905</td>\n",
       "      <td>8247</td>\n",
       "      <td>2</td>\n",
       "      <td>5</td>\n",
       "      <td>2</td>\n",
       "      <td>-0.652869</td>\n",
       "      <td>1.123458</td>\n",
       "      <td>-0.493406</td>\n",
       "    </tr>\n",
       "    <tr>\n",
       "      <th>61</th>\n",
       "      <td>1.095811</td>\n",
       "      <td>-0.327109</td>\n",
       "      <td>-0.267988</td>\n",
       "      <td>-0.263122</td>\n",
       "      <td>4563</td>\n",
       "      <td>-0.284032</td>\n",
       "      <td>-2.004205</td>\n",
       "      <td>-0.280746</td>\n",
       "      <td>3</td>\n",
       "      <td>1186</td>\n",
       "      <td>1</td>\n",
       "      <td>44</td>\n",
       "      <td>62</td>\n",
       "      <td>2</td>\n",
       "      <td>7</td>\n",
       "      <td>2</td>\n",
       "      <td>0.593550</td>\n",
       "      <td>-0.747627</td>\n",
       "      <td>-0.493406</td>\n",
       "    </tr>\n",
       "  </tbody>\n",
       "</table>\n",
       "</div>"
      ],
      "text/plain": [
       "      CryoSleep  RoomService       Spa    VRDeck  Cabin  FoodCourt       Age  \\\n",
       "8388  -0.749109     1.470626 -0.267988 -0.263122   3242  -0.282769  1.612332   \n",
       "1917   1.095811    -0.327109 -0.267988 -0.263122   5560  -0.284032 -0.265485   \n",
       "5173  -0.749109    -0.327109 -0.267988  0.100366   6379  -0.284032  0.012710   \n",
       "8246  -0.749109    -0.327109 -0.267988  1.836428   2091  -0.284032  2.377369   \n",
       "61     1.095811    -0.327109 -0.267988 -0.263122   4563  -0.284032 -2.004205   \n",
       "\n",
       "      ShoppingMall  room_num  surname  HomePlanet  group_num  PassengerId  \\\n",
       "8388     -0.267182       786      300           3       6005         8389   \n",
       "1917     -0.280746      1078        0           1       1362         1918   \n",
       "5173     -0.246835      1692     1504           1       3719         5174   \n",
       "8246     -0.145103      1351      870           1       5905         8247   \n",
       "61       -0.280746         3     1186           1         44           62   \n",
       "\n",
       "      side  deck  Destination  num_in_group  fam_board_together  \\\n",
       "8388     2     6            3     -0.652869            1.123458   \n",
       "1917     1     7            3      2.463179            2.994542   \n",
       "5173     1     7            2     -0.652869            1.123458   \n",
       "8246     2     5            2     -0.652869            1.123458   \n",
       "61       2     7            2      0.593550           -0.747627   \n",
       "\n",
       "      num_w_in_group  \n",
       "8388       -0.493406  \n",
       "1917        1.383858  \n",
       "5173       -0.493406  \n",
       "8246       -0.493406  \n",
       "61         -0.493406  "
      ]
     },
     "execution_count": 86,
     "metadata": {},
     "output_type": "execute_result"
    }
   ],
   "source": [
    "xs_final.head()"
   ]
  },
  {
   "cell_type": "code",
   "execution_count": 87,
   "metadata": {},
   "outputs": [
    {
     "data": {
      "text/plain": [
       "0.8095512082853855"
      ]
     },
     "execution_count": 87,
     "metadata": {},
     "output_type": "execute_result"
    }
   ],
   "source": [
    "pred_acc(m, valid_xs=valid_xs_final)"
   ]
  },
  {
   "cell_type": "code",
   "execution_count": 88,
   "metadata": {},
   "outputs": [
    {
     "data": {
      "text/plain": [
       "Index(['CryoSleep', 'RoomService', 'Spa', 'VRDeck', 'Cabin', 'FoodCourt',\n",
       "       'Age', 'ShoppingMall', 'room_num', 'surname', 'HomePlanet', 'group_num',\n",
       "       'PassengerId', 'side', 'deck', 'Destination', 'num_in_group',\n",
       "       'fam_board_together', 'num_w_in_group'],\n",
       "      dtype='object')"
      ]
     },
     "execution_count": 88,
     "metadata": {},
     "output_type": "execute_result"
    }
   ],
   "source": [
    "valid_xs_final.columns"
   ]
  },
  {
   "cell_type": "code",
   "execution_count": 89,
   "metadata": {},
   "outputs": [],
   "source": [
    "# test_xs = [test_xs.drop([x], axis=1) for x in test_xs if x not in valid_xs_final]"
   ]
  },
  {
   "cell_type": "code",
   "execution_count": 90,
   "metadata": {},
   "outputs": [],
   "source": [
    "# for x in test_xs.columns:\n",
    "#     if x not in valid_xs_final.columns:\n",
    "#         test_xs = test_xs.drop([x], axis=1)"
   ]
  },
  {
   "cell_type": "code",
   "execution_count": 91,
   "metadata": {},
   "outputs": [
    {
     "data": {
      "text/plain": [
       "4277"
      ]
     },
     "execution_count": 91,
     "metadata": {},
     "output_type": "execute_result"
    }
   ],
   "source": [
    "len(test_xs_final)"
   ]
  },
  {
   "cell_type": "code",
   "execution_count": 92,
   "metadata": {},
   "outputs": [
    {
     "data": {
      "text/plain": [
       "(26, 19)"
      ]
     },
     "execution_count": 92,
     "metadata": {},
     "output_type": "execute_result"
    }
   ],
   "source": [
    "len(test_xs.columns), len(valid_xs_final.columns)"
   ]
  },
  {
   "cell_type": "code",
   "execution_count": 93,
   "metadata": {},
   "outputs": [
    {
     "data": {
      "text/plain": [
       "(Index(['PassengerId', 'HomePlanet', 'Cabin', 'Destination', 'surname',\n",
       "        'group_num', 'deck', 'room_num', 'side', 'Age_na', 'RoomService_na',\n",
       "        'FoodCourt_na', 'ShoppingMall_na', 'Spa_na', 'VRDeck_na', 'CryoSleep',\n",
       "        'Age', 'VIP', 'RoomService', 'FoodCourt', 'ShoppingMall', 'Spa',\n",
       "        'VRDeck', 'num_w_in_group', 'num_in_group', 'fam_board_together'],\n",
       "       dtype='object'),\n",
       " Index(['CryoSleep', 'RoomService', 'Spa', 'VRDeck', 'Cabin', 'FoodCourt',\n",
       "        'Age', 'ShoppingMall', 'room_num', 'surname', 'HomePlanet', 'group_num',\n",
       "        'PassengerId', 'side', 'deck', 'Destination', 'num_in_group',\n",
       "        'fam_board_together', 'num_w_in_group'],\n",
       "       dtype='object'))"
      ]
     },
     "execution_count": 93,
     "metadata": {},
     "output_type": "execute_result"
    }
   ],
   "source": [
    "test_xs.columns, valid_xs_final.columns"
   ]
  },
  {
   "cell_type": "code",
   "execution_count": 94,
   "metadata": {},
   "outputs": [],
   "source": [
    "preds = m.predict(test_xs_final)"
   ]
  },
  {
   "cell_type": "code",
   "execution_count": 95,
   "metadata": {},
   "outputs": [
    {
     "data": {
      "text/plain": [
       "array([1, 0, 1, ..., 1, 1, 1], dtype=int8)"
      ]
     },
     "execution_count": 95,
     "metadata": {},
     "output_type": "execute_result"
    }
   ],
   "source": [
    "preds"
   ]
  },
  {
   "cell_type": "code",
   "execution_count": 96,
   "metadata": {},
   "outputs": [
    {
     "data": {
      "text/html": [
       "<div>\n",
       "<style scoped>\n",
       "    .dataframe tbody tr th:only-of-type {\n",
       "        vertical-align: middle;\n",
       "    }\n",
       "\n",
       "    .dataframe tbody tr th {\n",
       "        vertical-align: top;\n",
       "    }\n",
       "\n",
       "    .dataframe thead th {\n",
       "        text-align: right;\n",
       "    }\n",
       "</style>\n",
       "<table border=\"1\" class=\"dataframe\">\n",
       "  <thead>\n",
       "    <tr style=\"text-align: right;\">\n",
       "      <th></th>\n",
       "      <th>PassengerId</th>\n",
       "      <th>Transported</th>\n",
       "    </tr>\n",
       "  </thead>\n",
       "  <tbody>\n",
       "    <tr>\n",
       "      <th>0</th>\n",
       "      <td>0013_01</td>\n",
       "      <td>False</td>\n",
       "    </tr>\n",
       "    <tr>\n",
       "      <th>1</th>\n",
       "      <td>0018_01</td>\n",
       "      <td>False</td>\n",
       "    </tr>\n",
       "    <tr>\n",
       "      <th>2</th>\n",
       "      <td>0019_01</td>\n",
       "      <td>False</td>\n",
       "    </tr>\n",
       "    <tr>\n",
       "      <th>3</th>\n",
       "      <td>0021_01</td>\n",
       "      <td>False</td>\n",
       "    </tr>\n",
       "    <tr>\n",
       "      <th>4</th>\n",
       "      <td>0023_01</td>\n",
       "      <td>False</td>\n",
       "    </tr>\n",
       "  </tbody>\n",
       "</table>\n",
       "</div>"
      ],
      "text/plain": [
       "  PassengerId  Transported\n",
       "0     0013_01        False\n",
       "1     0018_01        False\n",
       "2     0019_01        False\n",
       "3     0021_01        False\n",
       "4     0023_01        False"
      ]
     },
     "execution_count": 96,
     "metadata": {},
     "output_type": "execute_result"
    }
   ],
   "source": [
    "sample_df.head()"
   ]
  },
  {
   "cell_type": "code",
   "execution_count": 97,
   "metadata": {},
   "outputs": [],
   "source": [
    "sample_df['Transported'] = preds.astype(bool)"
   ]
  },
  {
   "cell_type": "code",
   "execution_count": 102,
   "metadata": {},
   "outputs": [
    {
     "data": {
      "text/plain": [
       "PassengerId  Transported\n",
       "0013_01      True           1\n",
       "6288_02      False          1\n",
       "6269_01      True           1\n",
       "6269_02      False          1\n",
       "6269_03      True           1\n",
       "                           ..\n",
       "3072_01      True           1\n",
       "3074_01      True           1\n",
       "3075_01      True           1\n",
       "3077_01      True           1\n",
       "9277_01      True           1\n",
       "Length: 4277, dtype: int64"
      ]
     },
     "execution_count": 102,
     "metadata": {},
     "output_type": "execute_result"
    }
   ],
   "source": [
    "sample_df.value_counts()"
   ]
  },
  {
   "cell_type": "code",
   "execution_count": 103,
   "metadata": {},
   "outputs": [],
   "source": [
    "sub_df = sample_df"
   ]
  },
  {
   "cell_type": "code",
   "execution_count": 107,
   "metadata": {},
   "outputs": [
    {
     "data": {
      "text/html": [
       "<div>\n",
       "<style scoped>\n",
       "    .dataframe tbody tr th:only-of-type {\n",
       "        vertical-align: middle;\n",
       "    }\n",
       "\n",
       "    .dataframe tbody tr th {\n",
       "        vertical-align: top;\n",
       "    }\n",
       "\n",
       "    .dataframe thead th {\n",
       "        text-align: right;\n",
       "    }\n",
       "</style>\n",
       "<table border=\"1\" class=\"dataframe\">\n",
       "  <thead>\n",
       "    <tr style=\"text-align: right;\">\n",
       "      <th></th>\n",
       "      <th>PassengerId</th>\n",
       "      <th>Transported</th>\n",
       "    </tr>\n",
       "  </thead>\n",
       "  <tbody>\n",
       "    <tr>\n",
       "      <th>0</th>\n",
       "      <td>0013_01</td>\n",
       "      <td>True</td>\n",
       "    </tr>\n",
       "    <tr>\n",
       "      <th>1</th>\n",
       "      <td>0018_01</td>\n",
       "      <td>False</td>\n",
       "    </tr>\n",
       "    <tr>\n",
       "      <th>2</th>\n",
       "      <td>0019_01</td>\n",
       "      <td>True</td>\n",
       "    </tr>\n",
       "    <tr>\n",
       "      <th>3</th>\n",
       "      <td>0021_01</td>\n",
       "      <td>True</td>\n",
       "    </tr>\n",
       "    <tr>\n",
       "      <th>4</th>\n",
       "      <td>0023_01</td>\n",
       "      <td>True</td>\n",
       "    </tr>\n",
       "    <tr>\n",
       "      <th>...</th>\n",
       "      <td>...</td>\n",
       "      <td>...</td>\n",
       "    </tr>\n",
       "    <tr>\n",
       "      <th>4272</th>\n",
       "      <td>9266_02</td>\n",
       "      <td>True</td>\n",
       "    </tr>\n",
       "    <tr>\n",
       "      <th>4273</th>\n",
       "      <td>9269_01</td>\n",
       "      <td>False</td>\n",
       "    </tr>\n",
       "    <tr>\n",
       "      <th>4274</th>\n",
       "      <td>9271_01</td>\n",
       "      <td>True</td>\n",
       "    </tr>\n",
       "    <tr>\n",
       "      <th>4275</th>\n",
       "      <td>9273_01</td>\n",
       "      <td>True</td>\n",
       "    </tr>\n",
       "    <tr>\n",
       "      <th>4276</th>\n",
       "      <td>9277_01</td>\n",
       "      <td>True</td>\n",
       "    </tr>\n",
       "  </tbody>\n",
       "</table>\n",
       "<p>4277 rows × 2 columns</p>\n",
       "</div>"
      ],
      "text/plain": [
       "     PassengerId  Transported\n",
       "0        0013_01         True\n",
       "1        0018_01        False\n",
       "2        0019_01         True\n",
       "3        0021_01         True\n",
       "4        0023_01         True\n",
       "...          ...          ...\n",
       "4272     9266_02         True\n",
       "4273     9269_01        False\n",
       "4274     9271_01         True\n",
       "4275     9273_01         True\n",
       "4276     9277_01         True\n",
       "\n",
       "[4277 rows x 2 columns]"
      ]
     },
     "execution_count": 107,
     "metadata": {},
     "output_type": "execute_result"
    }
   ],
   "source": [
    "sub_df"
   ]
  },
  {
   "cell_type": "code",
   "execution_count": 108,
   "metadata": {},
   "outputs": [],
   "source": [
    "sub_df.to_csv('submission.csv', index=False)"
   ]
  },
  {
   "cell_type": "code",
   "execution_count": null,
   "metadata": {},
   "outputs": [],
   "source": []
  }
 ],
 "metadata": {
  "kernelspec": {
   "display_name": "base",
   "language": "python",
   "name": "python3"
  },
  "language_info": {
   "codemirror_mode": {
    "name": "ipython",
    "version": 3
   },
   "file_extension": ".py",
   "mimetype": "text/x-python",
   "name": "python",
   "nbconvert_exporter": "python",
   "pygments_lexer": "ipython3",
   "version": "3.10.6"
  },
  "orig_nbformat": 4,
  "vscode": {
   "interpreter": {
    "hash": "f4702a165a03ade35e40e0221d250a3a44a346cfc16a49ce6d051d1595069b46"
   }
  }
 },
 "nbformat": 4,
 "nbformat_minor": 2
}
